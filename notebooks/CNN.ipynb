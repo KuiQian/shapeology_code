{
 "cells": [
  {
   "cell_type": "code",
   "execution_count": 28,
   "metadata": {},
   "outputs": [],
   "source": [
    "import cv2\n",
    "import numpy as np\n",
    "import pandas as pd\n",
    "import pickle\n",
    "from matplotlib import pyplot as plt\n",
    "import skimage\n",
    "import os\n",
    "os.environ['KMP_DUPLICATE_LIB_OK']='True'\n",
    "import sys\n",
    "import shutil\n",
    "from scipy import stats\n",
    "from time import time\n",
    "from glob import glob\n",
    "sys.path.append(os.environ['REPO_DIR'])\n",
    "from lib.utils import configuration, run\n",
    "from matplotlib.path import Path\n",
    "from shapely.geometry import Polygon\n",
    "import mxnet as mx"
   ]
  },
  {
   "cell_type": "code",
   "execution_count": 3,
   "metadata": {},
   "outputs": [],
   "source": [
    "def setup_download_from_s3(rel_fp, recursive=True):\n",
    "    s3_fp = 's3://mousebrainatlas-data/' + rel_fp\n",
    "    local_fp = os.environ['ROOT_DIR'] + rel_fp\n",
    "\n",
    "    if os.path.exists(local_fp):\n",
    "        print('ALREADY DOWNLOADED FILE')\n",
    "        return\n",
    "\n",
    "    if recursive:\n",
    "        run('aws s3 cp --recursive {0} {1}'.format(s3_fp, local_fp))\n",
    "    else:\n",
    "        run('aws s3 cp {0} {1}'.format(s3_fp, local_fp))\n",
    "\n",
    "def setup_upload_from_s3(rel_fp, recursive=True):\n",
    "    s3_fp = 's3://mousebrainatlas-data/' + rel_fp\n",
    "    local_fp = os.environ['ROOT_DIR'] + rel_fp\n",
    "\n",
    "    if recursive:\n",
    "        run('aws s3 cp --recursive {0} {1}'.format(local_fp, s3_fp))\n",
    "    else:\n",
    "        run('aws s3 cp {0} {1}'.format(local_fp, s3_fp))"
   ]
  },
  {
   "cell_type": "code",
   "execution_count": 7,
   "metadata": {},
   "outputs": [
    {
     "name": "stdout",
     "output_type": "stream",
     "text": [
      "ALREADY DOWNLOADED FILE\n"
     ]
    }
   ],
   "source": [
    "MXNET_ROOTDIR = 'mxnet_models'\n",
    "model_dir_name = 'inception-bn-blue-softmax'\n",
    "model_name = 'inception-bn-blue-softmax'\n",
    "setup_download_from_s3(os.path.join(MXNET_ROOTDIR, model_dir_name, 'mean_224.npy'), recursive=False)\n",
    "mean_img = np.load(os.path.join(os.environ['ROOT_DIR'], MXNET_ROOTDIR, model_dir_name, 'mean_224.npy'))"
   ]
  },
  {
   "cell_type": "code",
   "execution_count": 14,
   "metadata": {},
   "outputs": [
    {
     "name": "stdout",
     "output_type": "stream",
     "text": [
      "ALREADY DOWNLOADED FILE\n",
      "ALREADY DOWNLOADED FILE\n"
     ]
    }
   ],
   "source": [
    "stack = 'MD594'\n",
    "fp = os.path.join('CSHL_data_processed', stack, stack + '_sorted_filenames.txt')\n",
    "setup_download_from_s3(fp, recursive=False)\n",
    "with open(os.environ['ROOT_DIR']+fp, 'r') as f:\n",
    "    fn_idx_tuples = [line.strip().split() for line in f.readlines()]\n",
    "    section_to_filename = {int(idx): fn for fn, idx in fn_idx_tuples}\n",
    "\n",
    "\n",
    "fname = os.path.join('CSHL_data_processed', stack, 'Annotation.npy')\n",
    "setup_download_from_s3(fname, recursive=False)\n",
    "annotation = np.load(os.environ['ROOT_DIR']+fname, allow_pickle = True, encoding='latin1')\n",
    "contours = pd.DataFrame(annotation)\n",
    "contours = contours.rename(columns={0:\"name\", 1:\"section\", 2:\"vertices\"})\n",
    "contours_grouped = contours.groupby('section')\n",
    "contours_struc = contours.groupby('name')\n",
    "valid_sections = np.sort(contours['section'].unique())\n",
    "\n",
    "paired_structures = ['5N', '6N', '7N', '7n', 'Amb', 'LC', 'LRt', 'Pn', 'Tz', 'VLL', 'RMC', \\\n",
    "                     'SNC', 'SNR', '3N', '4N', 'Sp5I', 'Sp5O', 'Sp5C', 'PBG', '10N', 'VCA', 'VCP', 'DC']\n",
    "singular_structures = ['AP', '12N', 'RtTg', 'SC', 'IC']\n",
    "\n",
    "all_structures = paired_structures + singular_structures"
   ]
  },
  {
   "cell_type": "code",
   "execution_count": 41,
   "metadata": {},
   "outputs": [],
   "source": [
    "from collections import namedtuple\n",
    "Batch = namedtuple('Batch', ['data'])"
   ]
  },
  {
   "cell_type": "code",
   "execution_count": 20,
   "metadata": {},
   "outputs": [
    {
     "name": "stdout",
     "output_type": "stream",
     "text": [
      "run cmd= aws s3 cp s3://mousebrainatlas-data/mxnet_models/inception-bn-blue-softmax/inception-bn-blue-softmax_5N-symbol.json /Users/kuiqian/BstemAtlasDataBackup/ucsd_brain/mxnet_models/inception-bn-blue-softmax/inception-bn-blue-softmax_5N-symbol.json\n",
      "run cmd= aws s3 cp s3://mousebrainatlas-data/mxnet_models/inception-bn-blue-softmax/inception-bn-blue-softmax_5N-0045.params /Users/kuiqian/BstemAtlasDataBackup/ucsd_brain/mxnet_models/inception-bn-blue-softmax/inception-bn-blue-softmax_5N-0045.params\n",
      "run cmd= aws s3 cp s3://mousebrainatlas-data/mxnet_models/inception-bn-blue-softmax/inception-bn-blue-softmax_6N-symbol.json /Users/kuiqian/BstemAtlasDataBackup/ucsd_brain/mxnet_models/inception-bn-blue-softmax/inception-bn-blue-softmax_6N-symbol.json\n",
      "run cmd= aws s3 cp s3://mousebrainatlas-data/mxnet_models/inception-bn-blue-softmax/inception-bn-blue-softmax_6N-0045.params /Users/kuiqian/BstemAtlasDataBackup/ucsd_brain/mxnet_models/inception-bn-blue-softmax/inception-bn-blue-softmax_6N-0045.params\n",
      "run cmd= aws s3 cp s3://mousebrainatlas-data/mxnet_models/inception-bn-blue-softmax/inception-bn-blue-softmax_7N-symbol.json /Users/kuiqian/BstemAtlasDataBackup/ucsd_brain/mxnet_models/inception-bn-blue-softmax/inception-bn-blue-softmax_7N-symbol.json\n",
      "run cmd= aws s3 cp s3://mousebrainatlas-data/mxnet_models/inception-bn-blue-softmax/inception-bn-blue-softmax_7N-0045.params /Users/kuiqian/BstemAtlasDataBackup/ucsd_brain/mxnet_models/inception-bn-blue-softmax/inception-bn-blue-softmax_7N-0045.params\n",
      "ALREADY DOWNLOADED FILE\n",
      "ALREADY DOWNLOADED FILE\n",
      "run cmd= aws s3 cp s3://mousebrainatlas-data/mxnet_models/inception-bn-blue-softmax/inception-bn-blue-softmax_Amb-symbol.json /Users/kuiqian/BstemAtlasDataBackup/ucsd_brain/mxnet_models/inception-bn-blue-softmax/inception-bn-blue-softmax_Amb-symbol.json\n",
      "run cmd= aws s3 cp s3://mousebrainatlas-data/mxnet_models/inception-bn-blue-softmax/inception-bn-blue-softmax_Amb-0045.params /Users/kuiqian/BstemAtlasDataBackup/ucsd_brain/mxnet_models/inception-bn-blue-softmax/inception-bn-blue-softmax_Amb-0045.params\n",
      "run cmd= aws s3 cp s3://mousebrainatlas-data/mxnet_models/inception-bn-blue-softmax/inception-bn-blue-softmax_LC-symbol.json /Users/kuiqian/BstemAtlasDataBackup/ucsd_brain/mxnet_models/inception-bn-blue-softmax/inception-bn-blue-softmax_LC-symbol.json\n",
      "run cmd= aws s3 cp s3://mousebrainatlas-data/mxnet_models/inception-bn-blue-softmax/inception-bn-blue-softmax_LC-0045.params /Users/kuiqian/BstemAtlasDataBackup/ucsd_brain/mxnet_models/inception-bn-blue-softmax/inception-bn-blue-softmax_LC-0045.params\n",
      "run cmd= aws s3 cp s3://mousebrainatlas-data/mxnet_models/inception-bn-blue-softmax/inception-bn-blue-softmax_LRt-symbol.json /Users/kuiqian/BstemAtlasDataBackup/ucsd_brain/mxnet_models/inception-bn-blue-softmax/inception-bn-blue-softmax_LRt-symbol.json\n",
      "run cmd= aws s3 cp s3://mousebrainatlas-data/mxnet_models/inception-bn-blue-softmax/inception-bn-blue-softmax_LRt-0045.params /Users/kuiqian/BstemAtlasDataBackup/ucsd_brain/mxnet_models/inception-bn-blue-softmax/inception-bn-blue-softmax_LRt-0045.params\n",
      "run cmd= aws s3 cp s3://mousebrainatlas-data/mxnet_models/inception-bn-blue-softmax/inception-bn-blue-softmax_Pn-symbol.json /Users/kuiqian/BstemAtlasDataBackup/ucsd_brain/mxnet_models/inception-bn-blue-softmax/inception-bn-blue-softmax_Pn-symbol.json\n",
      "run cmd= aws s3 cp s3://mousebrainatlas-data/mxnet_models/inception-bn-blue-softmax/inception-bn-blue-softmax_Pn-0045.params /Users/kuiqian/BstemAtlasDataBackup/ucsd_brain/mxnet_models/inception-bn-blue-softmax/inception-bn-blue-softmax_Pn-0045.params\n",
      "run cmd= aws s3 cp s3://mousebrainatlas-data/mxnet_models/inception-bn-blue-softmax/inception-bn-blue-softmax_Tz-symbol.json /Users/kuiqian/BstemAtlasDataBackup/ucsd_brain/mxnet_models/inception-bn-blue-softmax/inception-bn-blue-softmax_Tz-symbol.json\n",
      "run cmd= aws s3 cp s3://mousebrainatlas-data/mxnet_models/inception-bn-blue-softmax/inception-bn-blue-softmax_Tz-0045.params /Users/kuiqian/BstemAtlasDataBackup/ucsd_brain/mxnet_models/inception-bn-blue-softmax/inception-bn-blue-softmax_Tz-0045.params\n",
      "run cmd= aws s3 cp s3://mousebrainatlas-data/mxnet_models/inception-bn-blue-softmax/inception-bn-blue-softmax_VLL-symbol.json /Users/kuiqian/BstemAtlasDataBackup/ucsd_brain/mxnet_models/inception-bn-blue-softmax/inception-bn-blue-softmax_VLL-symbol.json\n",
      "run cmd= aws s3 cp s3://mousebrainatlas-data/mxnet_models/inception-bn-blue-softmax/inception-bn-blue-softmax_VLL-0045.params /Users/kuiqian/BstemAtlasDataBackup/ucsd_brain/mxnet_models/inception-bn-blue-softmax/inception-bn-blue-softmax_VLL-0045.params\n",
      "run cmd= aws s3 cp s3://mousebrainatlas-data/mxnet_models/inception-bn-blue-softmax/inception-bn-blue-softmax_RMC-symbol.json /Users/kuiqian/BstemAtlasDataBackup/ucsd_brain/mxnet_models/inception-bn-blue-softmax/inception-bn-blue-softmax_RMC-symbol.json\n",
      "run cmd= aws s3 cp s3://mousebrainatlas-data/mxnet_models/inception-bn-blue-softmax/inception-bn-blue-softmax_RMC-0045.params /Users/kuiqian/BstemAtlasDataBackup/ucsd_brain/mxnet_models/inception-bn-blue-softmax/inception-bn-blue-softmax_RMC-0045.params\n",
      "run cmd= aws s3 cp s3://mousebrainatlas-data/mxnet_models/inception-bn-blue-softmax/inception-bn-blue-softmax_SNC-symbol.json /Users/kuiqian/BstemAtlasDataBackup/ucsd_brain/mxnet_models/inception-bn-blue-softmax/inception-bn-blue-softmax_SNC-symbol.json\n",
      "run cmd= aws s3 cp s3://mousebrainatlas-data/mxnet_models/inception-bn-blue-softmax/inception-bn-blue-softmax_SNC-0045.params /Users/kuiqian/BstemAtlasDataBackup/ucsd_brain/mxnet_models/inception-bn-blue-softmax/inception-bn-blue-softmax_SNC-0045.params\n",
      "run cmd= aws s3 cp s3://mousebrainatlas-data/mxnet_models/inception-bn-blue-softmax/inception-bn-blue-softmax_SNR-symbol.json /Users/kuiqian/BstemAtlasDataBackup/ucsd_brain/mxnet_models/inception-bn-blue-softmax/inception-bn-blue-softmax_SNR-symbol.json\n",
      "run cmd= aws s3 cp s3://mousebrainatlas-data/mxnet_models/inception-bn-blue-softmax/inception-bn-blue-softmax_SNR-0045.params /Users/kuiqian/BstemAtlasDataBackup/ucsd_brain/mxnet_models/inception-bn-blue-softmax/inception-bn-blue-softmax_SNR-0045.params\n",
      "run cmd= aws s3 cp s3://mousebrainatlas-data/mxnet_models/inception-bn-blue-softmax/inception-bn-blue-softmax_3N-symbol.json /Users/kuiqian/BstemAtlasDataBackup/ucsd_brain/mxnet_models/inception-bn-blue-softmax/inception-bn-blue-softmax_3N-symbol.json\n",
      "run cmd= aws s3 cp s3://mousebrainatlas-data/mxnet_models/inception-bn-blue-softmax/inception-bn-blue-softmax_3N-0045.params /Users/kuiqian/BstemAtlasDataBackup/ucsd_brain/mxnet_models/inception-bn-blue-softmax/inception-bn-blue-softmax_3N-0045.params\n",
      "run cmd= aws s3 cp s3://mousebrainatlas-data/mxnet_models/inception-bn-blue-softmax/inception-bn-blue-softmax_4N-symbol.json /Users/kuiqian/BstemAtlasDataBackup/ucsd_brain/mxnet_models/inception-bn-blue-softmax/inception-bn-blue-softmax_4N-symbol.json\n",
      "run cmd= aws s3 cp s3://mousebrainatlas-data/mxnet_models/inception-bn-blue-softmax/inception-bn-blue-softmax_4N-0045.params /Users/kuiqian/BstemAtlasDataBackup/ucsd_brain/mxnet_models/inception-bn-blue-softmax/inception-bn-blue-softmax_4N-0045.params\n",
      "run cmd= aws s3 cp s3://mousebrainatlas-data/mxnet_models/inception-bn-blue-softmax/inception-bn-blue-softmax_Sp5I-symbol.json /Users/kuiqian/BstemAtlasDataBackup/ucsd_brain/mxnet_models/inception-bn-blue-softmax/inception-bn-blue-softmax_Sp5I-symbol.json\n",
      "run cmd= aws s3 cp s3://mousebrainatlas-data/mxnet_models/inception-bn-blue-softmax/inception-bn-blue-softmax_Sp5I-0045.params /Users/kuiqian/BstemAtlasDataBackup/ucsd_brain/mxnet_models/inception-bn-blue-softmax/inception-bn-blue-softmax_Sp5I-0045.params\n",
      "run cmd= aws s3 cp s3://mousebrainatlas-data/mxnet_models/inception-bn-blue-softmax/inception-bn-blue-softmax_Sp5O-symbol.json /Users/kuiqian/BstemAtlasDataBackup/ucsd_brain/mxnet_models/inception-bn-blue-softmax/inception-bn-blue-softmax_Sp5O-symbol.json\n",
      "run cmd= aws s3 cp s3://mousebrainatlas-data/mxnet_models/inception-bn-blue-softmax/inception-bn-blue-softmax_Sp5O-0045.params /Users/kuiqian/BstemAtlasDataBackup/ucsd_brain/mxnet_models/inception-bn-blue-softmax/inception-bn-blue-softmax_Sp5O-0045.params\n",
      "run cmd= aws s3 cp s3://mousebrainatlas-data/mxnet_models/inception-bn-blue-softmax/inception-bn-blue-softmax_Sp5C-symbol.json /Users/kuiqian/BstemAtlasDataBackup/ucsd_brain/mxnet_models/inception-bn-blue-softmax/inception-bn-blue-softmax_Sp5C-symbol.json\n"
     ]
    },
    {
     "name": "stdout",
     "output_type": "stream",
     "text": [
      "run cmd= aws s3 cp s3://mousebrainatlas-data/mxnet_models/inception-bn-blue-softmax/inception-bn-blue-softmax_Sp5C-0045.params /Users/kuiqian/BstemAtlasDataBackup/ucsd_brain/mxnet_models/inception-bn-blue-softmax/inception-bn-blue-softmax_Sp5C-0045.params\n",
      "run cmd= aws s3 cp s3://mousebrainatlas-data/mxnet_models/inception-bn-blue-softmax/inception-bn-blue-softmax_PBG-symbol.json /Users/kuiqian/BstemAtlasDataBackup/ucsd_brain/mxnet_models/inception-bn-blue-softmax/inception-bn-blue-softmax_PBG-symbol.json\n",
      "run cmd= aws s3 cp s3://mousebrainatlas-data/mxnet_models/inception-bn-blue-softmax/inception-bn-blue-softmax_PBG-0045.params /Users/kuiqian/BstemAtlasDataBackup/ucsd_brain/mxnet_models/inception-bn-blue-softmax/inception-bn-blue-softmax_PBG-0045.params\n",
      "run cmd= aws s3 cp s3://mousebrainatlas-data/mxnet_models/inception-bn-blue-softmax/inception-bn-blue-softmax_10N-symbol.json /Users/kuiqian/BstemAtlasDataBackup/ucsd_brain/mxnet_models/inception-bn-blue-softmax/inception-bn-blue-softmax_10N-symbol.json\n",
      "run cmd= aws s3 cp s3://mousebrainatlas-data/mxnet_models/inception-bn-blue-softmax/inception-bn-blue-softmax_10N-0045.params /Users/kuiqian/BstemAtlasDataBackup/ucsd_brain/mxnet_models/inception-bn-blue-softmax/inception-bn-blue-softmax_10N-0045.params\n",
      "run cmd= aws s3 cp s3://mousebrainatlas-data/mxnet_models/inception-bn-blue-softmax/inception-bn-blue-softmax_VCA-symbol.json /Users/kuiqian/BstemAtlasDataBackup/ucsd_brain/mxnet_models/inception-bn-blue-softmax/inception-bn-blue-softmax_VCA-symbol.json\n",
      "run cmd= aws s3 cp s3://mousebrainatlas-data/mxnet_models/inception-bn-blue-softmax/inception-bn-blue-softmax_VCA-0045.params /Users/kuiqian/BstemAtlasDataBackup/ucsd_brain/mxnet_models/inception-bn-blue-softmax/inception-bn-blue-softmax_VCA-0045.params\n",
      "run cmd= aws s3 cp s3://mousebrainatlas-data/mxnet_models/inception-bn-blue-softmax/inception-bn-blue-softmax_VCP-symbol.json /Users/kuiqian/BstemAtlasDataBackup/ucsd_brain/mxnet_models/inception-bn-blue-softmax/inception-bn-blue-softmax_VCP-symbol.json\n",
      "run cmd= aws s3 cp s3://mousebrainatlas-data/mxnet_models/inception-bn-blue-softmax/inception-bn-blue-softmax_VCP-0045.params /Users/kuiqian/BstemAtlasDataBackup/ucsd_brain/mxnet_models/inception-bn-blue-softmax/inception-bn-blue-softmax_VCP-0045.params\n",
      "run cmd= aws s3 cp s3://mousebrainatlas-data/mxnet_models/inception-bn-blue-softmax/inception-bn-blue-softmax_DC-symbol.json /Users/kuiqian/BstemAtlasDataBackup/ucsd_brain/mxnet_models/inception-bn-blue-softmax/inception-bn-blue-softmax_DC-symbol.json\n",
      "run cmd= aws s3 cp s3://mousebrainatlas-data/mxnet_models/inception-bn-blue-softmax/inception-bn-blue-softmax_DC-0045.params /Users/kuiqian/BstemAtlasDataBackup/ucsd_brain/mxnet_models/inception-bn-blue-softmax/inception-bn-blue-softmax_DC-0045.params\n",
      "run cmd= aws s3 cp s3://mousebrainatlas-data/mxnet_models/inception-bn-blue-softmax/inception-bn-blue-softmax_AP-symbol.json /Users/kuiqian/BstemAtlasDataBackup/ucsd_brain/mxnet_models/inception-bn-blue-softmax/inception-bn-blue-softmax_AP-symbol.json\n",
      "run cmd= aws s3 cp s3://mousebrainatlas-data/mxnet_models/inception-bn-blue-softmax/inception-bn-blue-softmax_AP-0045.params /Users/kuiqian/BstemAtlasDataBackup/ucsd_brain/mxnet_models/inception-bn-blue-softmax/inception-bn-blue-softmax_AP-0045.params\n",
      "run cmd= aws s3 cp s3://mousebrainatlas-data/mxnet_models/inception-bn-blue-softmax/inception-bn-blue-softmax_12N-symbol.json /Users/kuiqian/BstemAtlasDataBackup/ucsd_brain/mxnet_models/inception-bn-blue-softmax/inception-bn-blue-softmax_12N-symbol.json\n",
      "run cmd= aws s3 cp s3://mousebrainatlas-data/mxnet_models/inception-bn-blue-softmax/inception-bn-blue-softmax_12N-0045.params /Users/kuiqian/BstemAtlasDataBackup/ucsd_brain/mxnet_models/inception-bn-blue-softmax/inception-bn-blue-softmax_12N-0045.params\n",
      "run cmd= aws s3 cp s3://mousebrainatlas-data/mxnet_models/inception-bn-blue-softmax/inception-bn-blue-softmax_RtTg-symbol.json /Users/kuiqian/BstemAtlasDataBackup/ucsd_brain/mxnet_models/inception-bn-blue-softmax/inception-bn-blue-softmax_RtTg-symbol.json\n",
      "run cmd= aws s3 cp s3://mousebrainatlas-data/mxnet_models/inception-bn-blue-softmax/inception-bn-blue-softmax_RtTg-0045.params /Users/kuiqian/BstemAtlasDataBackup/ucsd_brain/mxnet_models/inception-bn-blue-softmax/inception-bn-blue-softmax_RtTg-0045.params\n",
      "run cmd= aws s3 cp s3://mousebrainatlas-data/mxnet_models/inception-bn-blue-softmax/inception-bn-blue-softmax_SC-symbol.json /Users/kuiqian/BstemAtlasDataBackup/ucsd_brain/mxnet_models/inception-bn-blue-softmax/inception-bn-blue-softmax_SC-symbol.json\n",
      "run cmd= aws s3 cp s3://mousebrainatlas-data/mxnet_models/inception-bn-blue-softmax/inception-bn-blue-softmax_SC-0045.params /Users/kuiqian/BstemAtlasDataBackup/ucsd_brain/mxnet_models/inception-bn-blue-softmax/inception-bn-blue-softmax_SC-0045.params\n",
      "run cmd= aws s3 cp s3://mousebrainatlas-data/mxnet_models/inception-bn-blue-softmax/inception-bn-blue-softmax_IC-symbol.json /Users/kuiqian/BstemAtlasDataBackup/ucsd_brain/mxnet_models/inception-bn-blue-softmax/inception-bn-blue-softmax_IC-symbol.json\n",
      "run cmd= aws s3 cp s3://mousebrainatlas-data/mxnet_models/inception-bn-blue-softmax/inception-bn-blue-softmax_IC-0045.params /Users/kuiqian/BstemAtlasDataBackup/ucsd_brain/mxnet_models/inception-bn-blue-softmax/inception-bn-blue-softmax_IC-0045.params\n",
      "CPU times: user 74.4 ms, sys: 66 ms, total: 140 ms\n",
      "Wall time: 2min 44s\n"
     ]
    }
   ],
   "source": [
    "%%time\n",
    "model_prefix = os.path.join(MXNET_ROOTDIR, model_dir_name, model_name)\n",
    "for structure in all_structures:\n",
    "    setup_download_from_s3(model_prefix+'_'+structure+'-symbol.json', recursive=False)\n",
    "    setup_download_from_s3(model_prefix+'_'+structure+'-0045.params', recursive=False)"
   ]
  },
  {
   "cell_type": "code",
   "execution_count": 92,
   "metadata": {},
   "outputs": [
    {
     "name": "stdout",
     "output_type": "stream",
     "text": [
      "ALREADY DOWNLOADED FILE\n",
      "ALREADY DOWNLOADED FILE\n",
      "CPU times: user 25 ms, sys: 48.2 ms, total: 73.3 ms\n",
      "Wall time: 98.6 ms\n"
     ]
    }
   ],
   "source": [
    "%%time\n",
    "structure = '10N'\n",
    "patch_dir = os.path.join('CSHL_patch_samples',stack)\n",
    "setup_download_from_s3(os.path.join(patch_dir,structure))\n",
    "setup_download_from_s3(os.path.join(patch_dir,structure+'_surround_500um_noclass'))\n",
    "patches = [dir for dir in glob(os.environ['ROOT_DIR']+patch_dir+'/'+structure+'/*')]\n",
    "n_pos = len(patches)\n",
    "patches.extend([dir for dir in glob(os.environ['ROOT_DIR']+patch_dir+'/'+structure+'_surround_500um_noclass/*')])\n",
    "model, arg_params, aux_params = mx.model.load_checkpoint(os.path.join(os.environ['ROOT_DIR'],\\\n",
    "                                                                      model_prefix+'_'+structure),45)"
   ]
  },
  {
   "cell_type": "code",
   "execution_count": 94,
   "metadata": {},
   "outputs": [
    {
     "name": "stdout",
     "output_type": "stream",
     "text": [
      "CPU times: user 835 ms, sys: 571 ms, total: 1.41 s\n",
      "Wall time: 2.31 s\n"
     ]
    }
   ],
   "source": [
    "%%time\n",
    "batch_size = len(patches)\n",
    "mod = mx.mod.Module(symbol=model, label_names=None, context=mx.cpu())\n",
    "mod.bind(for_training = False,\n",
    "         data_shapes=[('data', (batch_size,1,224,224))])\n",
    "mod.set_params(arg_params, aux_params, allow_missing=True)\n",
    "img = np.array([cv2.imread(dir, 0) for dir in patches])\n",
    "test = (img-mean_img)[:,None,:,:]\n",
    "mod.forward(Batch([mx.nd.array(test)]))"
   ]
  },
  {
   "cell_type": "code",
   "execution_count": 100,
   "metadata": {},
   "outputs": [
    {
     "data": {
      "text/plain": [
       "0.9068219633943427"
      ]
     },
     "execution_count": 100,
     "metadata": {},
     "output_type": "execute_result"
    }
   ],
   "source": [
    "prob = mod.get_outputs()[0].asnumpy()\n",
    "pred = np.argsort(prob, axis=1)\n",
    "top1 = pred[:,-1]\n",
    "labels = np.zeros(batch_size)\n",
    "labels[:n_pos] = 1\n",
    "sum(top1==labels)/batch_size"
   ]
  },
  {
   "cell_type": "code",
   "execution_count": 123,
   "metadata": {},
   "outputs": [
    {
     "data": {
      "text/plain": [
       "0.4017839"
      ]
     },
     "execution_count": 123,
     "metadata": {},
     "output_type": "execute_result"
    }
   ],
   "source": [
    "mod.get_outputs()[0].asnumpy()[:,1]."
   ]
  },
  {
   "cell_type": "code",
   "execution_count": 106,
   "metadata": {},
   "outputs": [
    {
     "data": {
      "text/plain": [
       "array([0.16163097, 0.8383692 ], dtype=float32)"
      ]
     },
     "execution_count": 106,
     "metadata": {},
     "output_type": "execute_result"
    }
   ],
   "source": [
    "prob[:n_pos,:].sum(axis=0)/n_pos"
   ]
  },
  {
   "cell_type": "code",
   "execution_count": 103,
   "metadata": {},
   "outputs": [
    {
     "data": {
      "text/plain": [
       "array([359.52798, 241.47205], dtype=float32)"
      ]
     },
     "execution_count": 103,
     "metadata": {},
     "output_type": "execute_result"
    }
   ],
   "source": [
    "prob.sum(axis=0)"
   ]
  },
  {
   "cell_type": "code",
   "execution_count": 114,
   "metadata": {},
   "outputs": [],
   "source": [
    "xs, ys = np.meshgrid(np.arange(0, 100, 10), np.arange(0, 100, 10), indexing='xy')\n",
    "windows = np.c_[xs.flat, ys.flat]+5"
   ]
  },
  {
   "cell_type": "code",
   "execution_count": 121,
   "metadata": {},
   "outputs": [
    {
     "data": {
      "text/plain": [
       "(100, 2)"
      ]
     },
     "execution_count": 121,
     "metadata": {},
     "output_type": "execute_result"
    }
   ],
   "source": [
    "windows.shape"
   ]
  },
  {
   "cell_type": "code",
   "execution_count": 128,
   "metadata": {},
   "outputs": [
    {
     "name": "stdout",
     "output_type": "stream",
     "text": [
      "/Users/kuiqian/Github/venv/shapeology_venv/lib/python3.7/site-packages/sklearn/externals/joblib/externals/cloudpickle/cloudpickle.py:47: DeprecationWarning: the imp module is deprecated in favour of importlib; see the module's documentation for alternative uses\n",
      "  import imp\n",
      "ALREADY DOWNLOADED FILE\n",
      "ALREADY DOWNLOADED FILE\n",
      "ALREADY DOWNLOADED FILE\n",
      "ALREADY DOWNLOADED FILE\n",
      "ALREADY DOWNLOADED FILE\n",
      "ALREADY DOWNLOADED FILE\n",
      "[06:09:05] src/nnvm/legacy_json_util.cc:209: Loading symbol saved by previous version v0.9.5. Attempting to upgrade...\n",
      "[06:09:05] src/nnvm/legacy_json_util.cc:217: Symbol successfully upgraded!\n",
      "^C\n",
      "CPU times: user 21.1 s, sys: 7.03 s, total: 28.1 s\n",
      "Wall time: 13min 49s\n"
     ]
    }
   ],
   "source": [
    "%%time\n",
    "! python ../scripts/Shape_shift_cnn.py 'MD594' 110"
   ]
  },
  {
   "cell_type": "code",
   "execution_count": null,
   "metadata": {},
   "outputs": [],
   "source": []
  }
 ],
 "metadata": {
  "kernelspec": {
   "display_name": "shapeology",
   "language": "python",
   "name": "shapeology_code"
  },
  "language_info": {
   "codemirror_mode": {
    "name": "ipython",
    "version": 3
   },
   "file_extension": ".py",
   "mimetype": "text/x-python",
   "name": "python",
   "nbconvert_exporter": "python",
   "pygments_lexer": "ipython3",
   "version": "3.7.3"
  }
 },
 "nbformat": 4,
 "nbformat_minor": 2
}
