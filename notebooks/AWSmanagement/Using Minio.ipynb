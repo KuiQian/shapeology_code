{
 "cells": [
  {
   "cell_type": "code",
   "execution_count": 1,
   "metadata": {
    "ExecuteTime": {
     "end_time": "2019-01-05T16:52:28.189127Z",
     "start_time": "2019-01-05T16:52:28.148033Z"
    }
   },
   "outputs": [],
   "source": [
    "from minio import Minio"
   ]
  },
  {
   "cell_type": "code",
   "execution_count": 2,
   "metadata": {
    "ExecuteTime": {
     "end_time": "2019-01-05T16:56:11.822168Z",
     "start_time": "2019-01-05T16:56:11.817606Z"
    }
   },
   "outputs": [],
   "source": [
    "# load S3 access_key and secret_key\n",
    "# The file s3-creds.json should contain the following:\n",
    "# {\"access_key\": \"...\", \"secret_key\": \"...\"}\n",
    "\n",
    "with open('/Users/yoavfreund/VaultBrain/s3-creds.json') as f:\n",
    "    creds = json.load(f)\n",
    "    \n",
    "bucket_name = 'mousebraindata-open'\n",
    "\n",
    "def get_client():\n",
    "    return Minio(\n",
    "        's3.amazonaws.com',\n",
    "        secure=True, **creds)\n",
    "\n",
    "\n",
    "client = get_client()\n",
    "print('got client',client)\n",
    "\n",
    "objects = client.list_objects(bucket_name, prefix='MD657/')\n",
    "for object in objects:\n",
    "    print(object.object_name)"
   ]
  },
  {
   "cell_type": "code",
   "execution_count": 10,
   "metadata": {
    "ExecuteTime": {
     "end_time": "2019-01-05T17:15:34.739822Z",
     "start_time": "2019-01-05T17:15:33.949835Z"
    }
   },
   "outputs": [],
   "source": [
    "# Get a full object.\n",
    "try:\n",
    "    data = client.get_object(bucket_name, 'MD657/MD657-F17-2017.02.17-21.22.26_MD657_3_0051.png')\n",
    "    with open('thumbnail.png', 'wb') as file_data:\n",
    "        for d in data.stream(32*1024):\n",
    "            file_data.write(d)\n",
    "except ResponseError as err:\n",
    "    print(err)\n"
   ]
  },
  {
   "cell_type": "code",
   "execution_count": 9,
   "metadata": {
    "ExecuteTime": {
     "end_time": "2019-01-05T17:15:01.613108Z",
     "start_time": "2019-01-05T17:15:01.479008Z"
    }
   },
   "outputs": [
    {
     "name": "stdout",
     "output_type": "stream",
     "text": [
      "-rw-r--r--  1 yoavfreund  staff  1243855 Jan  5 09:14 my-testfile\r\n"
     ]
    }
   ],
   "source": [
    "!ls -l my-testfile"
   ]
  },
  {
   "cell_type": "code",
   "execution_count": 11,
   "metadata": {
    "ExecuteTime": {
     "end_time": "2019-01-05T17:15:46.376113Z",
     "start_time": "2019-01-05T17:15:46.132120Z"
    }
   },
   "outputs": [],
   "source": [
    "!open thumbnail.png"
   ]
  },
  {
   "cell_type": "code",
   "execution_count": null,
   "metadata": {},
   "outputs": [],
   "source": []
  }
 ],
 "metadata": {
  "hide_input": false,
  "kernelspec": {
   "display_name": "Python 3",
   "language": "python",
   "name": "python3"
  },
  "language_info": {
   "codemirror_mode": {
    "name": "ipython",
    "version": 3
   },
   "file_extension": ".py",
   "mimetype": "text/x-python",
   "name": "python",
   "nbconvert_exporter": "python",
   "pygments_lexer": "ipython3",
   "version": "3.7.0"
  },
  "toc": {
   "base_numbering": 1,
   "nav_menu": {},
   "number_sections": true,
   "sideBar": true,
   "skip_h1_title": false,
   "title_cell": "Table of Contents",
   "title_sidebar": "Contents",
   "toc_cell": false,
   "toc_position": {},
   "toc_section_display": true,
   "toc_window_display": false
  }
 },
 "nbformat": 4,
 "nbformat_minor": 2
}
