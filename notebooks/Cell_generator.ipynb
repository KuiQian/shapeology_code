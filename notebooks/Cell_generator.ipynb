{
 "cells": [
  {
   "cell_type": "markdown",
   "metadata": {
    "collapsed": true,
    "pycharm": {}
   },
   "source": [
    "## Cell generator"
   ]
  },
  {
   "cell_type": "code",
   "execution_count": 1,
   "metadata": {
    "pycharm": {
     "name": "#%%\n"
    }
   },
   "outputs": [],
   "source": [
    "import cv2\n",
    "from cv2 import moments,HuMoments\n",
    "import pickle\n",
    "import numpy as np\n",
    "from matplotlib import pyplot as plt\n",
    "%matplotlib inline\n",
    "\n",
    "import os\n",
    "import sys\n",
    "sys.path.append(os.environ['REPO_DIR'])\n",
    "from extractPatches import patch_extractor\n",
    "from label_patch import diffusionMap\n",
    "from patch_normalizer import normalizer\n",
    "from lib.utils import mark_contours, configuration"
   ]
  },
  {
   "cell_type": "markdown",
   "metadata": {},
   "source": [
    "### Load parameter file"
   ]
  },
  {
   "cell_type": "code",
   "execution_count": 2,
   "metadata": {
    "pycharm": {
     "name": "#%%"
    },
    "scrolled": true
   },
   "outputs": [
    {
     "name": "stdout",
     "output_type": "stream",
     "text": [
      "{'name': 'aws', 'paths': {'scripts_dir': '/data/Github/shapeology_code/scripts', 'exec_dir': '/home/ubuntu/Datajoint_Interface/project_schemas/atlas_schema_python_v3/Cell_Extractor/', 'data_dir': '/data/BstemAtlasDataBackup/ucsd_brain/', 'DiffusionMap': '/data/Github/shapeology_code/notebooks/diffusionMap.pkl'}, 'preprocessing': {'polarity': -1, 'min_std': 10, 'offset': -20, 'min_area': 10}, 'normalization': {'size_thresholds': [15, 51, 251]}}\n"
     ]
    },
    {
     "name": "stderr",
     "output_type": "stream",
     "text": [
      "/data/Github/shapeology_code/scripts/lib/utils.py:22: YAMLLoadWarning: calling yaml.load() without Loader=... is deprecated, as the default Loader is unsafe. Please read https://msg.pyyaml.org/load for full details.\n",
      "  self.D=yaml.load(open(yamlFile,'r'))\n"
     ]
    }
   ],
   "source": [
    "yamlfile=os.environ['REPO_DIR']+'/shape_params-aws.yaml'\n",
    "params=configuration(yamlfile).getParams()\n",
    "print(params)"
   ]
  },
  {
   "cell_type": "markdown",
   "metadata": {},
   "source": [
    "### Sample display"
   ]
  },
  {
   "cell_type": "code",
   "execution_count": 3,
   "metadata": {},
   "outputs": [
    {
     "name": "stdout",
     "output_type": "stream",
     "text": [
      "/data/BstemAtlasDataBackup/ucsd_brain/CSHL_patches/MD589/VCA/361_1.tif 21194\n"
     ]
    }
   ],
   "source": [
    "from glob import glob\n",
    "from time import time\n",
    "stack = 'MD589'\n",
    "patch_dir=os.environ['ROOT_DIR']+'CSHL_patches/'+stack+'/'\n",
    "structures=[dir for dir in glob(patch_dir+'*')]\n",
    "patches=[dir for dir in glob(structures[1]+'/*')]\n",
    "print(patches[1],len(patches))"
   ]
  },
  {
   "cell_type": "code",
   "execution_count": 4,
   "metadata": {
    "scrolled": true
   },
   "outputs": [
    {
     "ename": "FileNotFoundError",
     "evalue": "[Errno 2] No such file or directory: '/data/Github/shapeology_code/notebooks/diffusionMap.pkl'",
     "output_type": "error",
     "traceback": [
      "\u001b[0;31m---------------------------------------------------------------------------\u001b[0m",
      "\u001b[0;31mFileNotFoundError\u001b[0m                         Traceback (most recent call last)",
      "\u001b[0;32m<ipython-input-4-619ee9324b33>\u001b[0m in \u001b[0;36m<module>\u001b[0;34m\u001b[0m\n\u001b[0;32m----> 1\u001b[0;31m \u001b[0mextractor\u001b[0m\u001b[0;34m=\u001b[0m\u001b[0mpatch_extractor\u001b[0m\u001b[0;34m(\u001b[0m\u001b[0mpatches\u001b[0m\u001b[0;34m[\u001b[0m\u001b[0;36m0\u001b[0m\u001b[0;34m]\u001b[0m\u001b[0;34m,\u001b[0m\u001b[0mparams\u001b[0m\u001b[0;34m)\u001b[0m\u001b[0;34m\u001b[0m\u001b[0;34m\u001b[0m\u001b[0m\n\u001b[0m",
      "\u001b[0;32m/data/Github/shapeology_code/scripts/extractPatches.py\u001b[0m in \u001b[0;36m__init__\u001b[0;34m(self, infile, params)\u001b[0m\n\u001b[1;32m     27\u001b[0m \u001b[0;34m\u001b[0m\u001b[0m\n\u001b[1;32m     28\u001b[0m         \u001b[0mself\u001b[0m\u001b[0;34m.\u001b[0m\u001b[0mtile_stats\u001b[0m\u001b[0;34m=\u001b[0m\u001b[0;34m{\u001b[0m\u001b[0;34m'tile name'\u001b[0m\u001b[0;34m:\u001b[0m\u001b[0minfile\u001b[0m\u001b[0;34m}\u001b[0m\u001b[0;34m\u001b[0m\u001b[0;34m\u001b[0m\u001b[0m\n\u001b[0;32m---> 29\u001b[0;31m         \u001b[0mself\u001b[0m\u001b[0;34m.\u001b[0m\u001b[0mDM\u001b[0m \u001b[0;34m=\u001b[0m \u001b[0mdiffusionMap\u001b[0m\u001b[0;34m(\u001b[0m\u001b[0mparams\u001b[0m\u001b[0;34m[\u001b[0m\u001b[0;34m'paths'\u001b[0m\u001b[0;34m]\u001b[0m\u001b[0;34m[\u001b[0m\u001b[0;34m'DiffusionMap'\u001b[0m\u001b[0;34m]\u001b[0m\u001b[0;34m)\u001b[0m\u001b[0;34m\u001b[0m\u001b[0;34m\u001b[0m\u001b[0m\n\u001b[0m\u001b[1;32m     30\u001b[0m \u001b[0;34m\u001b[0m\u001b[0m\n\u001b[1;32m     31\u001b[0m         \u001b[0mself\u001b[0m\u001b[0;34m.\u001b[0m\u001b[0msize_thresholds\u001b[0m \u001b[0;34m=\u001b[0m \u001b[0mparams\u001b[0m\u001b[0;34m[\u001b[0m\u001b[0;34m'normalization'\u001b[0m\u001b[0;34m]\u001b[0m\u001b[0;34m[\u001b[0m\u001b[0;34m'size_thresholds'\u001b[0m\u001b[0;34m]\u001b[0m\u001b[0;34m\u001b[0m\u001b[0;34m\u001b[0m\u001b[0m\n",
      "\u001b[0;32m/data/Github/shapeology_code/scripts/label_patch.py\u001b[0m in \u001b[0;36m__init__\u001b[0;34m(self, dmapFilename)\u001b[0m\n\u001b[1;32m     16\u001b[0m         \u001b[0;34m:\u001b[0m\u001b[0mparam\u001b[0m \u001b[0mdmapFilename\u001b[0m\u001b[0;34m:\u001b[0m \u001b[0mname\u001b[0m \u001b[0mof\u001b[0m \u001b[0mpickle\u001b[0m \u001b[0mfile\u001b[0m \u001b[0mcontaining\u001b[0m \u001b[0mthe\u001b[0m \u001b[0mpydiffmap\u001b[0m\u001b[0;34m.\u001b[0m\u001b[0mdmap\u001b[0m \u001b[0mobject\u001b[0m\u001b[0;34m\u001b[0m\u001b[0;34m\u001b[0m\u001b[0m\n\u001b[1;32m     17\u001b[0m         \"\"\"\n\u001b[0;32m---> 18\u001b[0;31m         \u001b[0mself\u001b[0m\u001b[0;34m.\u001b[0m\u001b[0mDM\u001b[0m\u001b[0;34m=\u001b[0m\u001b[0mpk\u001b[0m\u001b[0;34m.\u001b[0m\u001b[0mload\u001b[0m\u001b[0;34m(\u001b[0m\u001b[0mopen\u001b[0m\u001b[0;34m(\u001b[0m\u001b[0mdmapFilename\u001b[0m\u001b[0;34m,\u001b[0m\u001b[0;34m'rb'\u001b[0m\u001b[0;34m)\u001b[0m\u001b[0;34m)\u001b[0m\u001b[0;34m\u001b[0m\u001b[0;34m\u001b[0m\u001b[0m\n\u001b[0m\u001b[1;32m     19\u001b[0m         \u001b[0;31m# data=self.DM.data\u001b[0m\u001b[0;34m\u001b[0m\u001b[0;34m\u001b[0m\u001b[0;34m\u001b[0m\u001b[0m\n\u001b[1;32m     20\u001b[0m         \u001b[0;31m# self.DM = self.DM.from_sklearn(alpha=self.DM.alpha, k=self.DM.k, kernel_type=self.DM.kernel_type, epsilon=self.DM.epsilon, \\\u001b[0m\u001b[0;34m\u001b[0m\u001b[0;34m\u001b[0m\u001b[0;34m\u001b[0m\u001b[0m\n",
      "\u001b[0;31mFileNotFoundError\u001b[0m: [Errno 2] No such file or directory: '/data/Github/shapeology_code/notebooks/diffusionMap.pkl'"
     ]
    }
   ],
   "source": [
    "extractor=patch_extractor(patches[0],params)"
   ]
  },
  {
   "cell_type": "code",
   "execution_count": 5,
   "metadata": {},
   "outputs": [
    {
     "name": "stdout",
     "output_type": "stream",
     "text": [
      "CPU times: user 170 ms, sys: 22 ms, total: 192 ms\n",
      "Wall time: 128 ms\n"
     ]
    }
   ],
   "source": [
    "%%time\n",
    "tile=cv2.imread(patches[0],0)\n",
    "if params['preprocessing']['polarity']==-1:\n",
    "    tile = 255-tile\n",
    "min_std=params['preprocessing']['min_std']\n",
    "_std = np.std(tile.flatten())\n",
    "\n",
    "if _std < min_std:\n",
    "    print('image',patches[0],'std=',_std, 'too blank, skipping')\n",
    "else:\n",
    "    #t0=time()\n",
    "    #print('processing',patches[0],'into',pkl_out_file)\n",
    "    Stats=extractor.segment_cells(tile)\n",
    "    extracted1= extractor.extract_blobs(Stats,tile)"
   ]
  },
  {
   "cell_type": "code",
   "execution_count": 13,
   "metadata": {},
   "outputs": [
    {
     "data": {
      "text/plain": [
       "36"
      ]
     },
     "execution_count": 13,
     "metadata": {},
     "output_type": "execute_result"
    }
   ],
   "source": [
    "len(extracted1)"
   ]
  },
  {
   "cell_type": "code",
   "execution_count": 14,
   "metadata": {},
   "outputs": [
    {
     "data": {
      "text/plain": [
       "3.861111111111111"
      ]
     },
     "execution_count": 14,
     "metadata": {},
     "output_type": "execute_result"
    }
   ],
   "source": [
    "139/36"
   ]
  },
  {
   "cell_type": "code",
   "execution_count": 6,
   "metadata": {},
   "outputs": [
    {
     "data": {
      "text/plain": [
       "-2.6226043701171875e-06"
      ]
     },
     "execution_count": 6,
     "metadata": {},
     "output_type": "execute_result"
    }
   ],
   "source": [
    "ex=extractor.timestamps\n",
    "ex[0][1]-ex[1][1]"
   ]
  },
  {
   "cell_type": "code",
   "execution_count": 8,
   "metadata": {},
   "outputs": [
    {
     "data": {
      "text/plain": [
       "-0.10674500465393066"
      ]
     },
     "execution_count": 8,
     "metadata": {},
     "output_type": "execute_result"
    }
   ],
   "source": [
    "ex[2][1]-ex[3][1]"
   ]
  },
  {
   "cell_type": "code",
   "execution_count": 25,
   "metadata": {},
   "outputs": [
    {
     "name": "stderr",
     "output_type": "stream",
     "text": [
      "/data/venv/shapeology_venv/lib/python3.7/site-packages/sklearn/base.py:306: UserWarning: Trying to unpickle estimator NearestNeighbors from version 0.20.0 when using version 0.21.0. This might lead to breaking code or invalid results. Use at your own risk.\n",
      "  UserWarning)\n"
     ]
    }
   ],
   "source": [
    "extractor=patch_extractor(patches[1],params)\n",
    "tile=cv2.imread(patches[1],0)\n",
    "if params['preprocessing']['polarity']==-1:\n",
    "    tile = 255-tile\n",
    "min_std=params['preprocessing']['min_std']\n",
    "_std = np.std(tile.flatten())\n",
    "\n",
    "if _std < min_std:\n",
    "    print('image',patches[1],'std=',_std, 'too blank, skipping')\n",
    "else:\n",
    "    #t0=time()\n",
    "    #print('processing',patches[0],'into',pkl_out_file)\n",
    "    Stats=extractor.segment_cells(tile)\n",
    "    extracted2= extractor.extract_blobs(Stats,tile)"
   ]
  },
  {
   "cell_type": "code",
   "execution_count": 26,
   "metadata": {},
   "outputs": [
    {
     "name": "stdout",
     "output_type": "stream",
     "text": [
      "36 36\n",
      "72 36\n"
     ]
    }
   ],
   "source": [
    "valid=[]\n",
    "valid.extend(extracted1)\n",
    "print(len(valid),len(extracted1))\n",
    "valid.extend(extracted2)\n",
    "print(len(valid),len(extracted2))"
   ]
  },
  {
   "cell_type": "code",
   "execution_count": 29,
   "metadata": {},
   "outputs": [
    {
     "name": "stderr",
     "output_type": "stream",
     "text": [
      "/data/venv/shapeology_venv/lib/python3.7/site-packages/matplotlib/pyplot.py:514: RuntimeWarning: More than 20 figures have been opened. Figures created through the pyplot interface (`matplotlib.pyplot.figure`) are retained until explicitly closed and may consume too much memory. (To control this warning, see the rcParam `figure.max_open_warning`).\n",
      "  max_open_warning, RuntimeWarning)\n"
     ]
    },
    {
     "data": {
      "image/png": "[encoded data removed]",
      "text/plain": [
       "<Figure size 216x216 with 1 Axes>"
      ]
     },
     "metadata": {
      "needs_background": "light"
     },
     "output_type": "display_data"
    },
    {
     "data": {
      "image/png": "[encoded data removed]",
      "text/plain": [
       "<Figure size 216x216 with 1 Axes>"
      ]
     },
     "metadata": {
      "needs_background": "light"
     },
     "output_type": "display_data"
    },
    {
     "data": {
      "image/png": "[encoded data removed]",
      "text/plain": [
       "<Figure size 216x216 with 1 Axes>"
      ]
     },
     "metadata": {
      "needs_background": "light"
     },
     "output_type": "display_data"
    },
    {
     "data": {
      "image/png": "[encoded data removed]",
      "text/plain": [
       "<Figure size 216x216 with 1 Axes>"
      ]
     },
     "metadata": {
      "needs_background": "light"
     },
     "output_type": "display_data"
    },
    {
     "data": {
      "image/png": "[encoded data removed]",
      "text/plain": [
       "<Figure size 216x216 with 1 Axes>"
      ]
     },
     "metadata": {
      "needs_background": "light"
     },
     "output_type": "display_data"
    },
    {
     "data": {
      "image/png": "[encoded data removed]",
      "text/plain": [
       "<Figure size 216x216 with 1 Axes>"
      ]
     },
     "metadata": {
      "needs_background": "light"
     },
     "output_type": "display_data"
    },
    {
     "data": {
      "image/png": "[encoded data removed]",
      "text/plain": [
       "<Figure size 216x216 with 1 Axes>"
      ]
     },
     "metadata": {
      "needs_background": "light"
     },
     "output_type": "display_data"
    },
    {
     "data": {
      "image/png": "[encoded data removed]",
      "text/plain": [
       "<Figure size 216x216 with 1 Axes>"
      ]
     },
     "metadata": {
      "needs_background": "light"
     },
     "output_type": "display_data"
    },
    {
     "data": {
      "image/png": "[encoded data removed]",
      "text/plain": [
       "<Figure size 216x216 with 1 Axes>"
      ]
     },
     "metadata": {
      "needs_background": "light"
     },
     "output_type": "display_data"
    },
    {
     "data": {
      "image/png": "[encoded data removed]",
      "text/plain": [
       "<Figure size 216x216 with 1 Axes>"
      ]
     },
     "metadata": {
      "needs_background": "light"
     },
     "output_type": "display_data"
    },
    {
     "data": {
      "image/png": "[encoded data removed]",
      "text/plain": [
       "<Figure size 216x216 with 1 Axes>"
      ]
     },
     "metadata": {
      "needs_background": "light"
     },
     "output_type": "display_data"
    },
    {
     "data": {
      "image/png": "[encoded data removed]",
      "text/plain": [
       "<Figure size 216x216 with 1 Axes>"
      ]
     },
     "metadata": {
      "needs_background": "light"
     },
     "output_type": "display_data"
    },
    {
     "data": {
      "image/png": "[encoded data removed]",
      "text/plain": [
       "<Figure size 216x216 with 1 Axes>"
      ]
     },
     "metadata": {
      "needs_background": "light"
     },
     "output_type": "display_data"
    },
    {
     "data": {
      "image/png": "[encoded data removed]",
      "text/plain": [
       "<Figure size 216x216 with 1 Axes>"
      ]
     },
     "metadata": {
      "needs_background": "light"
     },
     "output_type": "display_data"
    },
    {
     "data": {
      "image/png": "[encoded data removed]",
      "text/plain": [
       "<Figure size 216x216 with 1 Axes>"
      ]
     },
     "metadata": {
      "needs_background": "light"
     },
     "output_type": "display_data"
    },
    {
     "data": {
      "image/png": "[encoded data removed]",
      "text/plain": [
       "<Figure size 216x216 with 1 Axes>"
      ]
     },
     "metadata": {
      "needs_background": "light"
     },
     "output_type": "display_data"
    },
    {
     "data": {
      "image/png": "[encoded data removed]",
      "text/plain": [
       "<Figure size 216x216 with 1 Axes>"
      ]
     },
     "metadata": {
      "needs_background": "light"
     },
     "output_type": "display_data"
    },
    {
     "data": {
      "image/png": "[encoded data removed]",
      "text/plain": [
       "<Figure size 216x216 with 1 Axes>"
      ]
     },
     "metadata": {
      "needs_background": "light"
     },
     "output_type": "display_data"
    },
    {
     "data": {
      "image/png": "[encoded data removed]",
      "text/plain": [
       "<Figure size 216x216 with 1 Axes>"
      ]
     },
     "metadata": {
      "needs_background": "light"
     },
     "output_type": "display_data"
    },
    {
     "data": {
      "image/png": "[encoded data removed]",
      "text/plain": [
       "<Figure size 216x216 with 1 Axes>"
      ]
     },
     "metadata": {
      "needs_background": "light"
     },
     "output_type": "display_data"
    },
    {
     "data": {
      "image/png": "[encoded data removed]",
      "text/plain": [
       "<Figure size 216x216 with 1 Axes>"
      ]
     },
     "metadata": {
      "needs_background": "light"
     },
     "output_type": "display_data"
    },
    {
     "data": {
      "image/png": "[encoded data removed]",
      "text/plain": [
       "<Figure size 216x216 with 1 Axes>"
      ]
     },
     "metadata": {
      "needs_background": "light"
     },
     "output_type": "display_data"
    },
    {
     "data": {
      "image/png": "[encoded data removed]",
      "text/plain": [
       "<Figure size 216x216 with 1 Axes>"
      ]
     },
     "metadata": {
      "needs_background": "light"
     },
     "output_type": "display_data"
    },
    {
     "data": {
      "image/png": "[encoded data removed]",
      "text/plain": [
       "<Figure size 216x216 with 1 Axes>"
      ]
     },
     "metadata": {
      "needs_background": "light"
     },
     "output_type": "display_data"
    },
    {
     "data": {
      "image/png": "[encoded data removed]",
      "text/plain": [
       "<Figure size 216x216 with 1 Axes>"
      ]
     },
     "metadata": {
      "needs_background": "light"
     },
     "output_type": "display_data"
    },
    {
     "data": {
      "image/png": "[encoded data removed]",
      "text/plain": [
       "<Figure size 216x216 with 1 Axes>"
      ]
     },
     "metadata": {
      "needs_background": "light"
     },
     "output_type": "display_data"
    },
    {
     "data": {
      "image/png": "[encoded data removed]",
      "text/plain": [
       "<Figure size 216x216 with 1 Axes>"
      ]
     },
     "metadata": {
      "needs_background": "light"
     },
     "output_type": "display_data"
    },
    {
     "data": {
      "image/png": "[encoded data removed]",
      "text/plain": [
       "<Figure size 216x216 with 1 Axes>"
      ]
     },
     "metadata": {
      "needs_background": "light"
     },
     "output_type": "display_data"
    },
    {
     "data": {
      "image/png": "[encoded data removed]",
      "text/plain": [
       "<Figure size 216x216 with 1 Axes>"
      ]
     },
     "metadata": {
      "needs_background": "light"
     },
     "output_type": "display_data"
    },
    {
     "data": {
      "image/png": "[encoded data removed]",
      "text/plain": [
       "<Figure size 216x216 with 1 Axes>"
      ]
     },
     "metadata": {
      "needs_background": "light"
     },
     "output_type": "display_data"
    },
    {
     "data": {
      "image/png": "[encoded data removed]",
      "text/plain": [
       "<Figure size 216x216 with 1 Axes>"
      ]
     },
     "metadata": {
      "needs_background": "light"
     },
     "output_type": "display_data"
    },
    {
     "data": {
      "image/png": "[encoded data removed]",
      "text/plain": [
       "<Figure size 216x216 with 1 Axes>"
      ]
     },
     "metadata": {
      "needs_background": "light"
     },
     "output_type": "display_data"
    },
    {
     "data": {
      "image/png": "[encoded data removed]",
      "text/plain": [
       "<Figure size 216x216 with 1 Axes>"
      ]
     },
     "metadata": {
      "needs_background": "light"
     },
     "output_type": "display_data"
    },
    {
     "data": {
      "image/png": "[encoded data removed]",
      "text/plain": [
       "<Figure size 216x216 with 1 Axes>"
      ]
     },
     "metadata": {
      "needs_background": "light"
     },
     "output_type": "display_data"
    },
    {
     "data": {
      "image/png": "[encoded data removed]",
      "text/plain": [
       "<Figure size 216x216 with 1 Axes>"
      ]
     },
     "metadata": {
      "needs_background": "light"
     },
     "output_type": "display_data"
    },
    {
     "data": {
      "image/png": "[encoded data removed]",
      "text/plain": [
       "<Figure size 216x216 with 1 Axes>"
      ]
     },
     "metadata": {
      "needs_background": "light"
     },
     "output_type": "display_data"
    }
   ],
   "source": [
    "for i in range(len(extracted1)):\n",
    "    plt.figure( figsize=(3,3) )\n",
    "    plt.imshow( extracted1[i]['padded_patch'], cmap='gray')"
   ]
  },
  {
   "cell_type": "code",
   "execution_count": 31,
   "metadata": {},
   "outputs": [
    {
     "data": {
      "text/plain": [
       "<matplotlib.image.AxesImage at 0x7f7cfd298ba8>"
      ]
     },
     "execution_count": 31,
     "metadata": {},
     "output_type": "execute_result"
    },
    {
     "data": {
      "image/png": "[encoded data removed]",
      "text/plain": [
       "<Figure size 432x288 with 1 Axes>"
      ]
     },
     "metadata": {
      "needs_background": "light"
     },
     "output_type": "display_data"
    }
   ],
   "source": [
    "filename='/data/BstemAtlasDataBackup/ucsd_brain/CSHL_patches/MD589/5N/160_382.tif'\n",
    "img=cv2.imread(filename,0)\n",
    "plt.imshow(img,cmap='gray')"
   ]
  },
  {
   "cell_type": "code",
   "execution_count": 28,
   "metadata": {
    "scrolled": false
   },
   "outputs": [
    {
     "data": {
      "text/plain": [
       "{'left': 171,\n",
       " 'top': 211,\n",
       " 'width': 12,\n",
       " 'height': 9,\n",
       " 'area': 82,\n",
       " 'normalized_patch': array([[0.00000000e+00, 0.00000000e+00, 0.00000000e+00, 0.00000000e+00,\n",
       "         0.00000000e+00, 0.00000000e+00, 0.00000000e+00, 0.00000000e+00,\n",
       "         0.00000000e+00, 0.00000000e+00, 0.00000000e+00, 0.00000000e+00,\n",
       "         0.00000000e+00, 0.00000000e+00, 0.00000000e+00, 0.00000000e+00,\n",
       "         0.00000000e+00, 0.00000000e+00, 0.00000000e+00],\n",
       "        [0.00000000e+00, 0.00000000e+00, 0.00000000e+00, 0.00000000e+00,\n",
       "         0.00000000e+00, 0.00000000e+00, 0.00000000e+00, 0.00000000e+00,\n",
       "         0.00000000e+00, 0.00000000e+00, 0.00000000e+00, 0.00000000e+00,\n",
       "         0.00000000e+00, 0.00000000e+00, 0.00000000e+00, 0.00000000e+00,\n",
       "         0.00000000e+00, 0.00000000e+00, 0.00000000e+00],\n",
       "        [0.00000000e+00, 0.00000000e+00, 0.00000000e+00, 0.00000000e+00,\n",
       "         0.00000000e+00, 0.00000000e+00, 0.00000000e+00, 0.00000000e+00,\n",
       "         0.00000000e+00, 3.75603818e-03, 0.00000000e+00, 0.00000000e+00,\n",
       "         0.00000000e+00, 0.00000000e+00, 0.00000000e+00, 0.00000000e+00,\n",
       "         0.00000000e+00, 0.00000000e+00, 0.00000000e+00],\n",
       "        [0.00000000e+00, 0.00000000e+00, 0.00000000e+00, 0.00000000e+00,\n",
       "         0.00000000e+00, 0.00000000e+00, 0.00000000e+00, 1.20564188e-03,\n",
       "         3.30160393e-02, 1.69160831e-01, 6.02449975e-01, 3.91740871e-01,\n",
       "         9.69150592e-03, 0.00000000e+00, 0.00000000e+00, 0.00000000e+00,\n",
       "         0.00000000e+00, 0.00000000e+00, 0.00000000e+00],\n",
       "        [0.00000000e+00, 0.00000000e+00, 0.00000000e+00, 0.00000000e+00,\n",
       "         0.00000000e+00, 0.00000000e+00, 0.00000000e+00, 1.13608562e-01,\n",
       "         5.27143728e-01, 1.32806091e+00, 1.62552986e+00, 1.15185171e+00,\n",
       "         2.02826062e-01, 0.00000000e+00, 0.00000000e+00, 0.00000000e+00,\n",
       "         0.00000000e+00, 0.00000000e+00, 0.00000000e+00],\n",
       "        [0.00000000e+00, 0.00000000e+00, 0.00000000e+00, 0.00000000e+00,\n",
       "         0.00000000e+00, 0.00000000e+00, 5.67579102e-02, 6.00966108e-01,\n",
       "         1.75318878e+00, 2.49141258e+00, 2.32521949e+00, 1.55212481e+00,\n",
       "         4.77434186e-01, 0.00000000e+00, 0.00000000e+00, 0.00000000e+00,\n",
       "         0.00000000e+00, 0.00000000e+00, 0.00000000e+00],\n",
       "        [0.00000000e+00, 0.00000000e+00, 0.00000000e+00, 0.00000000e+00,\n",
       "         0.00000000e+00, 0.00000000e+00, 2.73773449e-01, 1.27556911e+00,\n",
       "         2.50717867e+00, 3.06937875e+00, 2.86683092e+00, 1.96941602e+00,\n",
       "         7.88953501e-01, 9.45965171e-02, 0.00000000e+00, 0.00000000e+00,\n",
       "         0.00000000e+00, 0.00000000e+00, 0.00000000e+00],\n",
       "        [0.00000000e+00, 0.00000000e+00, 0.00000000e+00, 0.00000000e+00,\n",
       "         0.00000000e+00, 0.00000000e+00, 5.68460148e-01, 1.80122898e+00,\n",
       "         2.92970978e+00, 3.31681357e+00, 3.17232202e+00, 2.19992547e+00,\n",
       "         1.08415028e+00, 2.60418647e-01, 8.43949319e-03, 0.00000000e+00,\n",
       "         0.00000000e+00, 0.00000000e+00, 0.00000000e+00],\n",
       "        [0.00000000e+00, 0.00000000e+00, 0.00000000e+00, 0.00000000e+00,\n",
       "         0.00000000e+00, 0.00000000e+00, 1.10102927e+00, 2.30648567e+00,\n",
       "         3.27396691e+00, 3.46631316e+00, 3.35622878e+00, 2.50625125e+00,\n",
       "         1.37610110e+00, 4.38343567e-01, 4.02498906e-02, 0.00000000e+00,\n",
       "         0.00000000e+00, 0.00000000e+00, 0.00000000e+00],\n",
       "        [0.00000000e+00, 0.00000000e+00, 0.00000000e+00, 0.00000000e+00,\n",
       "         2.41128377e-02, 4.26148035e-01, 2.04996217e+00, 2.91255257e+00,\n",
       "         3.34315220e+00, 3.46631316e+00, 3.49153890e+00, 2.92590737e+00,\n",
       "         1.67454384e+00, 6.17103161e-01, 3.50563563e-02, 0.00000000e+00,\n",
       "         0.00000000e+00, 0.00000000e+00, 0.00000000e+00],\n",
       "        [0.00000000e+00, 0.00000000e+00, 0.00000000e+00, 0.00000000e+00,\n",
       "         9.54311922e-02, 8.58046055e-01, 2.58276314e+00, 3.45740996e+00,\n",
       "         3.74694949e+00, 3.95895698e+00, 3.67247792e+00, 3.10350769e+00,\n",
       "         1.88747874e+00, 5.28442112e-01, 0.00000000e+00, 0.00000000e+00,\n",
       "         0.00000000e+00, 0.00000000e+00, 0.00000000e+00],\n",
       "        [0.00000000e+00, 0.00000000e+00, 0.00000000e+00, 0.00000000e+00,\n",
       "         3.79777194e-02, 6.20998312e-01, 2.04606702e+00, 3.11454395e+00,\n",
       "         3.62082080e+00, 3.79128002e+00, 3.54662746e+00, 2.98377818e+00,\n",
       "         1.93116007e+00, 5.99389500e-01, 0.00000000e+00, 0.00000000e+00,\n",
       "         0.00000000e+00, 0.00000000e+00, 0.00000000e+00],\n",
       "        [0.00000000e+00, 0.00000000e+00, 0.00000000e+00, 0.00000000e+00,\n",
       "         0.00000000e+00, 1.70273731e-01, 9.93170688e-01, 2.09624027e+00,\n",
       "         2.82825038e+00, 3.13021730e+00, 3.09771134e+00, 2.72623453e+00,\n",
       "         1.79566447e+00, 5.69248453e-01, 0.00000000e+00, 0.00000000e+00,\n",
       "         0.00000000e+00, 0.00000000e+00, 0.00000000e+00],\n",
       "        [0.00000000e+00, 0.00000000e+00, 0.00000000e+00, 0.00000000e+00,\n",
       "         0.00000000e+00, 0.00000000e+00, 2.38717093e-01, 9.36412777e-01,\n",
       "         1.75717668e+00, 2.26948173e+00, 2.42853372e+00, 2.11005878e+00,\n",
       "         1.13701304e+00, 3.21303562e-01, 0.00000000e+00, 0.00000000e+00,\n",
       "         0.00000000e+00, 0.00000000e+00, 0.00000000e+00],\n",
       "        [0.00000000e+00, 0.00000000e+00, 0.00000000e+00, 0.00000000e+00,\n",
       "         0.00000000e+00, 0.00000000e+00, 0.00000000e+00, 0.00000000e+00,\n",
       "         1.45233476e-01, 8.60828305e-01, 1.47468551e+00, 1.29105697e+00,\n",
       "         3.41753103e-01, 2.55967046e-02, 0.00000000e+00, 0.00000000e+00,\n",
       "         0.00000000e+00, 0.00000000e+00, 0.00000000e+00],\n",
       "        [0.00000000e+00, 0.00000000e+00, 0.00000000e+00, 0.00000000e+00,\n",
       "         0.00000000e+00, 0.00000000e+00, 0.00000000e+00, 0.00000000e+00,\n",
       "         0.00000000e+00, 8.24937274e-02, 3.29047493e-01, 3.71940521e-01,\n",
       "         3.17176557e-02, 0.00000000e+00, 0.00000000e+00, 0.00000000e+00,\n",
       "         0.00000000e+00, 0.00000000e+00, 0.00000000e+00],\n",
       "        [0.00000000e+00, 0.00000000e+00, 0.00000000e+00, 0.00000000e+00,\n",
       "         0.00000000e+00, 0.00000000e+00, 0.00000000e+00, 0.00000000e+00,\n",
       "         0.00000000e+00, 0.00000000e+00, 0.00000000e+00, 0.00000000e+00,\n",
       "         0.00000000e+00, 0.00000000e+00, 0.00000000e+00, 0.00000000e+00,\n",
       "         0.00000000e+00, 0.00000000e+00, 0.00000000e+00],\n",
       "        [0.00000000e+00, 0.00000000e+00, 0.00000000e+00, 0.00000000e+00,\n",
       "         0.00000000e+00, 0.00000000e+00, 0.00000000e+00, 0.00000000e+00,\n",
       "         0.00000000e+00, 0.00000000e+00, 0.00000000e+00, 0.00000000e+00,\n",
       "         0.00000000e+00, 0.00000000e+00, 0.00000000e+00, 0.00000000e+00,\n",
       "         0.00000000e+00, 0.00000000e+00, 0.00000000e+00],\n",
       "        [0.00000000e+00, 0.00000000e+00, 0.00000000e+00, 0.00000000e+00,\n",
       "         0.00000000e+00, 0.00000000e+00, 0.00000000e+00, 0.00000000e+00,\n",
       "         0.00000000e+00, 0.00000000e+00, 0.00000000e+00, 0.00000000e+00,\n",
       "         0.00000000e+00, 0.00000000e+00, 0.00000000e+00, 0.00000000e+00,\n",
       "         0.00000000e+00, 0.00000000e+00, 0.00000000e+00]]),\n",
       " 'padded_size': 81,\n",
       " 'padded_patch': array([[0., 0., 0., ..., 0., 0., 0.],\n",
       "        [0., 0., 0., ..., 0., 0., 0.],\n",
       "        [0., 0., 0., ..., 0., 0., 0.],\n",
       "        ...,\n",
       "        [0., 0., 0., ..., 0., 0., 0.],\n",
       "        [0., 0., 0., ..., 0., 0., 0.],\n",
       "        [0., 0., 0., ..., 0., 0., 0.]]),\n",
       " 'rotation': -80.64307758240709,\n",
       " 'rotation_confidence': 1038.491184888036,\n",
       " 'horiz_std': 1.8007481531090928,\n",
       " 'vert_std': 2.5859572289368655,\n",
       " 'mean': 9.457063711911358,\n",
       " 'std': 21.05983985067567}"
      ]
     },
     "execution_count": 28,
     "metadata": {},
     "output_type": "execute_result"
    }
   ],
   "source": [
    "extracted[i]"
   ]
  },
  {
   "cell_type": "code",
   "execution_count": 8,
   "metadata": {},
   "outputs": [
    {
     "name": "stdout",
     "output_type": "stream",
     "text": [
      "81\n",
      "81\n",
      "81\n",
      "81\n",
      "81\n",
      "81\n",
      "15\n",
      "81\n",
      "15\n",
      "81\n",
      "15\n",
      "81\n",
      "81\n",
      "81\n",
      "15\n",
      "81\n",
      "81\n",
      "81\n",
      "81\n",
      "81\n",
      "81\n",
      "81\n",
      "15\n",
      "81\n",
      "81\n",
      "81\n"
     ]
    }
   ],
   "source": [
    "for i in range(len(extracted)):\n",
    "    print(str(extracted[i]['padded_size']))"
   ]
  },
  {
   "cell_type": "markdown",
   "metadata": {},
   "source": [
    "### Loop for transferring all patches into cells"
   ]
  },
  {
   "cell_type": "code",
   "execution_count": 21,
   "metadata": {},
   "outputs": [
    {
     "name": "stdout",
     "output_type": "stream",
     "text": [
      "mkdir: /Users/kuiqian/BstemAtlasDataBackup/ucsd_brain//CSHL_cells: File exists\n",
      "/Users/kuiqian/BstemAtlasDataBackup/ucsd_brain/CSHL_cells/MD589/\n",
      "mkdir: /Users/kuiqian/BstemAtlasDataBackup/ucsd_brain/CSHL_cells/MD589/: File exists\n"
     ]
    }
   ],
   "source": [
    "stack = 'MD589'\n",
    "paired_structures = ['5N', '6N', '7N', '7n', 'Amb', 'LC', 'LRt', 'Pn', 'Tz', 'VLL', 'RMC', \\\n",
    "                     'SNC', 'SNR', '3N', '4N', 'Sp5I', 'Sp5O', 'Sp5C', 'PBG', '10N', 'VCA', 'VCP', 'DC']\n",
    "singular_structures = ['AP', '12N', 'RtTg', 'SC', 'IC']\n",
    "\n",
    "all_structures = paired_structures + singular_structures\n",
    "patch_dir=os.environ['ROOT_DIR']+'CSHL_patches/'+stack+'/'\n",
    "! mkdir $ROOT_DIR/CSHL_cells\n",
    "cell_dir = os.environ['ROOT_DIR']+'CSHL_cells/'+stack+'/'\n",
    "print(cell_dir)\n",
    "! mkdir $cell_dir"
   ]
  },
  {
   "cell_type": "code",
   "execution_count": 10,
   "metadata": {},
   "outputs": [],
   "source": [
    "from time import time\n",
    "from skimage import img_as_ubyte"
   ]
  },
  {
   "cell_type": "code",
   "execution_count": 11,
   "metadata": {},
   "outputs": [
    {
     "name": "stdout",
     "output_type": "stream",
     "text": [
      "mkdir: /Users/kuiqian/BstemAtlasDataBackup/ucsd_brain/CSHL_cells/MD589/5N/: File exists\n",
      "5Nfinished in 190.5 seconds\n",
      "mkdir: /Users/kuiqian/BstemAtlasDataBackup/ucsd_brain/CSHL_cells/MD589/6N/: File exists\n",
      "6Nfinished in 231.0 seconds\n",
      "image /Users/kuiqian/BstemAtlasDataBackup/ucsd_brain/CSHL_patches/MD589/7N/203_6.tif std= 8.923340435157714 too blank, skipping\n",
      "image /Users/kuiqian/BstemAtlasDataBackup/ucsd_brain/CSHL_patches/MD589/7N/200_50.tif std= 8.289167142416543 too blank, skipping\n",
      "image /Users/kuiqian/BstemAtlasDataBackup/ucsd_brain/CSHL_patches/MD589/7N/262_7.tif std= 9.62164153032683 too blank, skipping\n",
      "image /Users/kuiqian/BstemAtlasDataBackup/ucsd_brain/CSHL_patches/MD589/7N/201_4.tif std= 9.33244877809078 too blank, skipping\n",
      "image /Users/kuiqian/BstemAtlasDataBackup/ucsd_brain/CSHL_patches/MD589/7N/198_58.tif std= 9.712157580026192 too blank, skipping\n",
      "image /Users/kuiqian/BstemAtlasDataBackup/ucsd_brain/CSHL_patches/MD589/7N/262_10.tif std= 9.643634504543712 too blank, skipping\n",
      "image /Users/kuiqian/BstemAtlasDataBackup/ucsd_brain/CSHL_patches/MD589/7N/150_26.tif std= 9.03319901694425 too blank, skipping\n",
      "image /Users/kuiqian/BstemAtlasDataBackup/ucsd_brain/CSHL_patches/MD589/7N/150_32.tif std= 9.094510372361732 too blank, skipping\n",
      "image /Users/kuiqian/BstemAtlasDataBackup/ucsd_brain/CSHL_patches/MD589/7N/199_18.tif std= 9.474559020537779 too blank, skipping\n",
      "image /Users/kuiqian/BstemAtlasDataBackup/ucsd_brain/CSHL_patches/MD589/7N/199_25.tif std= 9.841501850368143 too blank, skipping\n",
      "image /Users/kuiqian/BstemAtlasDataBackup/ucsd_brain/CSHL_patches/MD589/7N/199_19.tif std= 9.930865883742097 too blank, skipping\n",
      "image /Users/kuiqian/BstemAtlasDataBackup/ucsd_brain/CSHL_patches/MD589/7N/150_27.tif std= 9.110506766483423 too blank, skipping\n",
      "image /Users/kuiqian/BstemAtlasDataBackup/ucsd_brain/CSHL_patches/MD589/7N/198_0.tif std= 6.676233785174108 too blank, skipping\n",
      "image /Users/kuiqian/BstemAtlasDataBackup/ucsd_brain/CSHL_patches/MD589/7N/201_5.tif std= 9.726133302293537 too blank, skipping\n",
      "image /Users/kuiqian/BstemAtlasDataBackup/ucsd_brain/CSHL_patches/MD589/7N/262_6.tif std= 9.944404887328993 too blank, skipping\n",
      "image /Users/kuiqian/BstemAtlasDataBackup/ucsd_brain/CSHL_patches/MD589/7N/203_7.tif std= 9.447886710578846 too blank, skipping\n",
      "image /Users/kuiqian/BstemAtlasDataBackup/ucsd_brain/CSHL_patches/MD589/7N/256_29.tif std= 9.357944163016914 too blank, skipping\n",
      "image /Users/kuiqian/BstemAtlasDataBackup/ucsd_brain/CSHL_patches/MD589/7N/262_13.tif std= 8.078827194191824 too blank, skipping\n",
      "image /Users/kuiqian/BstemAtlasDataBackup/ucsd_brain/CSHL_patches/MD589/7N/150_31.tif std= 8.554194345486142 too blank, skipping\n",
      "image /Users/kuiqian/BstemAtlasDataBackup/ucsd_brain/CSHL_patches/MD589/7N/197_22.tif std= 7.265894078893283 too blank, skipping\n",
      "image /Users/kuiqian/BstemAtlasDataBackup/ucsd_brain/CSHL_patches/MD589/7N/199_27.tif std= 9.946784853790739 too blank, skipping\n",
      "image /Users/kuiqian/BstemAtlasDataBackup/ucsd_brain/CSHL_patches/MD589/7N/199_32.tif std= 9.46411377750464 too blank, skipping\n",
      "image /Users/kuiqian/BstemAtlasDataBackup/ucsd_brain/CSHL_patches/MD589/7N/197_23.tif std= 6.440230578433384 too blank, skipping\n",
      "image /Users/kuiqian/BstemAtlasDataBackup/ucsd_brain/CSHL_patches/MD589/7N/254_13.tif std= 8.773015565066954 too blank, skipping\n",
      "image /Users/kuiqian/BstemAtlasDataBackup/ucsd_brain/CSHL_patches/MD589/7N/262_12.tif std= 7.06970099994261 too blank, skipping\n",
      "image /Users/kuiqian/BstemAtlasDataBackup/ucsd_brain/CSHL_patches/MD589/7N/203_0.tif std= 9.796812812037542 too blank, skipping\n",
      "image /Users/kuiqian/BstemAtlasDataBackup/ucsd_brain/CSHL_patches/MD589/7N/256_12.tif std= 9.672306193449561 too blank, skipping\n",
      "mkdir: /Users/kuiqian/BstemAtlasDataBackup/ucsd_brain/CSHL_cells/MD589/7N/: File exists\n",
      "image /Users/kuiqian/BstemAtlasDataBackup/ucsd_brain/CSHL_patches/MD589/7N_surround_200um_noclass/171_185.tif std= 8.531278829449066 too blank, skipping\n",
      "image /Users/kuiqian/BstemAtlasDataBackup/ucsd_brain/CSHL_patches/MD589/7N_surround_200um_noclass/158_95.tif std= 9.748229467384986 too blank, skipping\n",
      "image /Users/kuiqian/BstemAtlasDataBackup/ucsd_brain/CSHL_patches/MD589/7N_surround_200um_noclass/156_90.tif std= 8.107224705872909 too blank, skipping\n",
      "image /Users/kuiqian/BstemAtlasDataBackup/ucsd_brain/CSHL_patches/MD589/7N_surround_200um_noclass/157_193.tif std= 8.399604845529295 too blank, skipping\n",
      "image /Users/kuiqian/BstemAtlasDataBackup/ucsd_brain/CSHL_patches/MD589/7N_surround_200um_noclass/157_178.tif std= 6.611804581309748 too blank, skipping\n",
      "image /Users/kuiqian/BstemAtlasDataBackup/ucsd_brain/CSHL_patches/MD589/7N_surround_200um_noclass/158_56.tif std= 7.534868271798114 too blank, skipping\n",
      "image /Users/kuiqian/BstemAtlasDataBackup/ucsd_brain/CSHL_patches/MD589/7N_surround_200um_noclass/161_146.tif std= 9.377193006806742 too blank, skipping\n",
      "image /Users/kuiqian/BstemAtlasDataBackup/ucsd_brain/CSHL_patches/MD589/7N_surround_200um_noclass/157_144.tif std= 9.739257303585928 too blank, skipping\n",
      "image /Users/kuiqian/BstemAtlasDataBackup/ucsd_brain/CSHL_patches/MD589/7N_surround_200um_noclass/156_53.tif std= 6.71222963412997 too blank, skipping\n",
      "image /Users/kuiqian/BstemAtlasDataBackup/ucsd_brain/CSHL_patches/MD589/7N_surround_200um_noclass/150_138.tif std= 7.383978596844643 too blank, skipping\n",
      "image /Users/kuiqian/BstemAtlasDataBackup/ucsd_brain/CSHL_patches/MD589/7N_surround_200um_noclass/184_156.tif std= 6.818853486059399 too blank, skipping\n",
      "image /Users/kuiqian/BstemAtlasDataBackup/ucsd_brain/CSHL_patches/MD589/7N_surround_200um_noclass/304_145.tif std= 9.774818416390366 too blank, skipping\n",
      "image /Users/kuiqian/BstemAtlasDataBackup/ucsd_brain/CSHL_patches/MD589/7N_surround_200um_noclass/189_149.tif std= 9.250122703556759 too blank, skipping\n",
      "image /Users/kuiqian/BstemAtlasDataBackup/ucsd_brain/CSHL_patches/MD589/7N_surround_200um_noclass/156_141.tif std= 7.840478730048029 too blank, skipping\n",
      "image /Users/kuiqian/BstemAtlasDataBackup/ucsd_brain/CSHL_patches/MD589/7N_surround_200um_noclass/158_116.tif std= 8.316249122416984 too blank, skipping\n",
      "image /Users/kuiqian/BstemAtlasDataBackup/ucsd_brain/CSHL_patches/MD589/7N_surround_200um_noclass/280_142.tif std= 9.287589913394672 too blank, skipping\n",
      "image /Users/kuiqian/BstemAtlasDataBackup/ucsd_brain/CSHL_patches/MD589/7N_surround_200um_noclass/161_218.tif std= 8.814206638256628 too blank, skipping\n",
      "image /Users/kuiqian/BstemAtlasDataBackup/ucsd_brain/CSHL_patches/MD589/7N_surround_200um_noclass/157_226.tif std= 8.249098897826647 too blank, skipping\n",
      "image /Users/kuiqian/BstemAtlasDataBackup/ucsd_brain/CSHL_patches/MD589/7N_surround_200um_noclass/172_132.tif std= 9.969528064641246 too blank, skipping\n",
      "image /Users/kuiqian/BstemAtlasDataBackup/ucsd_brain/CSHL_patches/MD589/7N_surround_200um_noclass/153_88.tif std= 7.925197533521494 too blank, skipping\n",
      "image /Users/kuiqian/BstemAtlasDataBackup/ucsd_brain/CSHL_patches/MD589/7N_surround_200um_noclass/154_124.tif std= 8.593811127447173 too blank, skipping\n",
      "image /Users/kuiqian/BstemAtlasDataBackup/ucsd_brain/CSHL_patches/MD589/7N_surround_200um_noclass/281_147.tif std= 9.612530811519077 too blank, skipping\n",
      "image /Users/kuiqian/BstemAtlasDataBackup/ucsd_brain/CSHL_patches/MD589/7N_surround_200um_noclass/153_63.tif std= 8.352567532567644 too blank, skipping\n",
      "image /Users/kuiqian/BstemAtlasDataBackup/ucsd_brain/CSHL_patches/MD589/7N_surround_200um_noclass/170_208.tif std= 6.537197264003683 too blank, skipping\n",
      "image /Users/kuiqian/BstemAtlasDataBackup/ucsd_brain/CSHL_patches/MD589/7N_surround_200um_noclass/153_62.tif std= 9.968471450008812 too blank, skipping\n",
      "image /Users/kuiqian/BstemAtlasDataBackup/ucsd_brain/CSHL_patches/MD589/7N_surround_200um_noclass/253_179.tif std= 9.682905938960214 too blank, skipping\n",
      "image /Users/kuiqian/BstemAtlasDataBackup/ucsd_brain/CSHL_patches/MD589/7N_surround_200um_noclass/281_146.tif std= 9.443979953294003 too blank, skipping\n",
      "image /Users/kuiqian/BstemAtlasDataBackup/ucsd_brain/CSHL_patches/MD589/7N_surround_200um_noclass/154_125.tif std= 6.665646312275931 too blank, skipping\n",
      "image /Users/kuiqian/BstemAtlasDataBackup/ucsd_brain/CSHL_patches/MD589/7N_surround_200um_noclass/153_89.tif std= 7.215671276317301 too blank, skipping\n"
     ]
    },
    {
     "name": "stdout",
     "output_type": "stream",
     "text": [
      "image /Users/kuiqian/BstemAtlasDataBackup/ucsd_brain/CSHL_patches/MD589/7N_surround_200um_noclass/186_132.tif std= 9.081437314667786 too blank, skipping\n",
      "image /Users/kuiqian/BstemAtlasDataBackup/ucsd_brain/CSHL_patches/MD589/7N_surround_200um_noclass/178_144.tif std= 9.248597785479252 too blank, skipping\n",
      "image /Users/kuiqian/BstemAtlasDataBackup/ucsd_brain/CSHL_patches/MD589/7N_surround_200um_noclass/158_117.tif std= 9.547448076236044 too blank, skipping\n",
      "image /Users/kuiqian/BstemAtlasDataBackup/ucsd_brain/CSHL_patches/MD589/7N_surround_200um_noclass/314_178.tif std= 7.022390376316507 too blank, skipping\n",
      "image /Users/kuiqian/BstemAtlasDataBackup/ucsd_brain/CSHL_patches/MD589/7N_surround_200um_noclass/184_157.tif std= 7.256330955542672 too blank, skipping\n",
      "image /Users/kuiqian/BstemAtlasDataBackup/ucsd_brain/CSHL_patches/MD589/7N_surround_200um_noclass/304_144.tif std= 9.841136994146822 too blank, skipping\n",
      "image /Users/kuiqian/BstemAtlasDataBackup/ucsd_brain/CSHL_patches/MD589/7N_surround_200um_noclass/277_122.tif std= 9.250240875992763 too blank, skipping\n",
      "image /Users/kuiqian/BstemAtlasDataBackup/ucsd_brain/CSHL_patches/MD589/7N_surround_200um_noclass/150_139.tif std= 7.989307353106775 too blank, skipping\n",
      "image /Users/kuiqian/BstemAtlasDataBackup/ucsd_brain/CSHL_patches/MD589/7N_surround_200um_noclass/314_193.tif std= 9.255141350556004 too blank, skipping\n",
      "image /Users/kuiqian/BstemAtlasDataBackup/ucsd_brain/CSHL_patches/MD589/7N_surround_200um_noclass/156_52.tif std= 8.107041925776574 too blank, skipping\n",
      "image /Users/kuiqian/BstemAtlasDataBackup/ucsd_brain/CSHL_patches/MD589/7N_surround_200um_noclass/157_145.tif std= 7.4741172897778725 too blank, skipping\n",
      "image /Users/kuiqian/BstemAtlasDataBackup/ucsd_brain/CSHL_patches/MD589/7N_surround_200um_noclass/161_147.tif std= 8.060458753886461 too blank, skipping\n",
      "image /Users/kuiqian/BstemAtlasDataBackup/ucsd_brain/CSHL_patches/MD589/7N_surround_200um_noclass/156_91.tif std= 9.27625865273572 too blank, skipping\n",
      "image /Users/kuiqian/BstemAtlasDataBackup/ucsd_brain/CSHL_patches/MD589/7N_surround_200um_noclass/151_114.tif std= 8.932686292358277 too blank, skipping\n",
      "image /Users/kuiqian/BstemAtlasDataBackup/ucsd_brain/CSHL_patches/MD589/7N_surround_200um_noclass/156_85.tif std= 9.09853468002341 too blank, skipping\n",
      "image /Users/kuiqian/BstemAtlasDataBackup/ucsd_brain/CSHL_patches/MD589/7N_surround_200um_noclass/158_249.tif std= 7.90074466015741 too blank, skipping\n",
      "image /Users/kuiqian/BstemAtlasDataBackup/ucsd_brain/CSHL_patches/MD589/7N_surround_200um_noclass/161_184.tif std= 9.130903596380502 too blank, skipping\n",
      "image /Users/kuiqian/BstemAtlasDataBackup/ucsd_brain/CSHL_patches/MD589/7N_surround_200um_noclass/158_94.tif std= 8.653366200613481 too blank, skipping\n",
      "image /Users/kuiqian/BstemAtlasDataBackup/ucsd_brain/CSHL_patches/MD589/7N_surround_200um_noclass/171_184.tif std= 9.856850563034813 too blank, skipping\n",
      "image /Users/kuiqian/BstemAtlasDataBackup/ucsd_brain/CSHL_patches/MD589/7N_surround_200um_noclass/195_193.tif std= 9.541487531418795 too blank, skipping\n",
      "image /Users/kuiqian/BstemAtlasDataBackup/ucsd_brain/CSHL_patches/MD589/7N_surround_200um_noclass/156_93.tif std= 8.723318980324501 too blank, skipping\n",
      "image /Users/kuiqian/BstemAtlasDataBackup/ucsd_brain/CSHL_patches/MD589/7N_surround_200um_noclass/156_87.tif std= 5.785211832719137 too blank, skipping\n",
      "image /Users/kuiqian/BstemAtlasDataBackup/ucsd_brain/CSHL_patches/MD589/7N_surround_200um_noclass/168_230.tif std= 6.981280708785027 too blank, skipping\n",
      "image /Users/kuiqian/BstemAtlasDataBackup/ucsd_brain/CSHL_patches/MD589/7N_surround_200um_noclass/318_160.tif std= 8.81624444051021 too blank, skipping\n",
      "image /Users/kuiqian/BstemAtlasDataBackup/ucsd_brain/CSHL_patches/MD589/7N_surround_200um_noclass/158_55.tif std= 7.122776810601115 too blank, skipping\n",
      "image /Users/kuiqian/BstemAtlasDataBackup/ucsd_brain/CSHL_patches/MD589/7N_surround_200um_noclass/153_239.tif std= 6.083346991120223 too blank, skipping\n",
      "image /Users/kuiqian/BstemAtlasDataBackup/ucsd_brain/CSHL_patches/MD589/7N_surround_200um_noclass/195_178.tif std= 8.20441764292958 too blank, skipping\n",
      "image /Users/kuiqian/BstemAtlasDataBackup/ucsd_brain/CSHL_patches/MD589/7N_surround_200um_noclass/153_211.tif std= 5.090126721136869 too blank, skipping\n",
      "image /Users/kuiqian/BstemAtlasDataBackup/ucsd_brain/CSHL_patches/MD589/7N_surround_200um_noclass/158_69.tif std= 9.379484312240832 too blank, skipping\n",
      "image /Users/kuiqian/BstemAtlasDataBackup/ucsd_brain/CSHL_patches/MD589/7N_surround_200um_noclass/196_252.tif std= 6.999182596558155 too blank, skipping\n",
      "image /Users/kuiqian/BstemAtlasDataBackup/ucsd_brain/CSHL_patches/MD589/7N_surround_200um_noclass/148_87.tif std= 1.7996907464191372 too blank, skipping\n",
      "image /Users/kuiqian/BstemAtlasDataBackup/ucsd_brain/CSHL_patches/MD589/7N_surround_200um_noclass/277_120.tif std= 9.102145193601542 too blank, skipping\n",
      "7Nfinished in 405.0 seconds\n",
      "mkdir: /Users/kuiqian/BstemAtlasDataBackup/ucsd_brain/CSHL_cells/MD589/7n/: File exists\n",
      "7n ALREADY EXIST\n",
      "mkdir: /Users/kuiqian/BstemAtlasDataBackup/ucsd_brain/CSHL_cells/MD589/7n/: File exists\n",
      "7n ALREADY EXIST\n",
      "7nfinished in 405.5 seconds\n",
      "mkdir: /Users/kuiqian/BstemAtlasDataBackup/ucsd_brain/CSHL_cells/MD589/Amb/: File exists\n",
      "Ambfinished in 506.8 seconds\n",
      "mkdir: /Users/kuiqian/BstemAtlasDataBackup/ucsd_brain/CSHL_cells/MD589/LC/: File exists\n",
      "image /Users/kuiqian/BstemAtlasDataBackup/ucsd_brain/CSHL_patches/MD589/LC_surround_200um_noclass/262_516.tif std= 7.321793512790346 too blank, skipping\n",
      "image /Users/kuiqian/BstemAtlasDataBackup/ucsd_brain/CSHL_patches/MD589/LC_surround_200um_noclass/182_649.tif std= 8.215644717019241 too blank, skipping\n",
      "image /Users/kuiqian/BstemAtlasDataBackup/ucsd_brain/CSHL_patches/MD589/LC_surround_200um_noclass/267_692.tif std= 9.092048799799178 too blank, skipping\n",
      "image /Users/kuiqian/BstemAtlasDataBackup/ucsd_brain/CSHL_patches/MD589/LC_surround_200um_noclass/184_591.tif std= 3.053770229334386 too blank, skipping\n",
      "image /Users/kuiqian/BstemAtlasDataBackup/ucsd_brain/CSHL_patches/MD589/LC_surround_200um_noclass/265_634.tif std= 2.577376001010327 too blank, skipping\n",
      "image /Users/kuiqian/BstemAtlasDataBackup/ucsd_brain/CSHL_patches/MD589/LC_surround_200um_noclass/184_590.tif std= 3.1979621612951097 too blank, skipping\n",
      "image /Users/kuiqian/BstemAtlasDataBackup/ucsd_brain/CSHL_patches/MD589/LC_surround_200um_noclass/182_648.tif std= 6.822189618142726 too blank, skipping\n",
      "image /Users/kuiqian/BstemAtlasDataBackup/ucsd_brain/CSHL_patches/MD589/LC_surround_200um_noclass/262_517.tif std= 3.5726131027419443 too blank, skipping\n",
      "image /Users/kuiqian/BstemAtlasDataBackup/ucsd_brain/CSHL_patches/MD589/LC_surround_200um_noclass/266_657.tif std= 5.1814920283270745 too blank, skipping\n",
      "image /Users/kuiqian/BstemAtlasDataBackup/ucsd_brain/CSHL_patches/MD589/LC_surround_200um_noclass/264_578.tif std= 2.932162249362523 too blank, skipping\n",
      "image /Users/kuiqian/BstemAtlasDataBackup/ucsd_brain/CSHL_patches/MD589/LC_surround_200um_noclass/267_691.tif std= 3.747266491003618 too blank, skipping\n",
      "image /Users/kuiqian/BstemAtlasDataBackup/ucsd_brain/CSHL_patches/MD589/LC_surround_200um_noclass/184_592.tif std= 3.792190329783149 too blank, skipping\n",
      "image /Users/kuiqian/BstemAtlasDataBackup/ucsd_brain/CSHL_patches/MD589/LC_surround_200um_noclass/184_593.tif std= 7.856841075504774 too blank, skipping\n",
      "image /Users/kuiqian/BstemAtlasDataBackup/ucsd_brain/CSHL_patches/MD589/LC_surround_200um_noclass/267_690.tif std= 3.935158170752429 too blank, skipping\n",
      "image /Users/kuiqian/BstemAtlasDataBackup/ucsd_brain/CSHL_patches/MD589/LC_surround_200um_noclass/264_579.tif std= 2.6139195192426863 too blank, skipping\n",
      "image /Users/kuiqian/BstemAtlasDataBackup/ucsd_brain/CSHL_patches/MD589/LC_surround_200um_noclass/262_500.tif std= 4.463672358470227 too blank, skipping\n",
      "image /Users/kuiqian/BstemAtlasDataBackup/ucsd_brain/CSHL_patches/MD589/LC_surround_200um_noclass/262_514.tif std= 3.4253146427922108 too blank, skipping\n",
      "image /Users/kuiqian/BstemAtlasDataBackup/ucsd_brain/CSHL_patches/MD589/LC_surround_200um_noclass/266_656.tif std= 4.559001747984392 too blank, skipping\n",
      "image /Users/kuiqian/BstemAtlasDataBackup/ucsd_brain/CSHL_patches/MD589/LC_surround_200um_noclass/262_510.tif std= 3.560803171813226 too blank, skipping\n",
      "image /Users/kuiqian/BstemAtlasDataBackup/ucsd_brain/CSHL_patches/MD589/LC_surround_200um_noclass/262_504.tif std= 3.5572254026482275 too blank, skipping\n"
     ]
    },
    {
     "name": "stdout",
     "output_type": "stream",
     "text": [
      "image /Users/kuiqian/BstemAtlasDataBackup/ucsd_brain/CSHL_patches/MD589/LC_surround_200um_noclass/266_646.tif std= 4.854170683284729 too blank, skipping\n",
      "image /Users/kuiqian/BstemAtlasDataBackup/ucsd_brain/CSHL_patches/MD589/LC_surround_200um_noclass/184_597.tif std= 3.2967565516994575 too blank, skipping\n",
      "image /Users/kuiqian/BstemAtlasDataBackup/ucsd_brain/CSHL_patches/MD589/LC_surround_200um_noclass/265_626.tif std= 2.5773040639587714 too blank, skipping\n",
      "image /Users/kuiqian/BstemAtlasDataBackup/ucsd_brain/CSHL_patches/MD589/LC_surround_200um_noclass/265_632.tif std= 2.5467362782211094 too blank, skipping\n",
      "image /Users/kuiqian/BstemAtlasDataBackup/ucsd_brain/CSHL_patches/MD589/LC_surround_200um_noclass/265_633.tif std= 2.603926280433825 too blank, skipping\n",
      "image /Users/kuiqian/BstemAtlasDataBackup/ucsd_brain/CSHL_patches/MD589/LC_surround_200um_noclass/184_596.tif std= 3.930188528959263 too blank, skipping\n",
      "image /Users/kuiqian/BstemAtlasDataBackup/ucsd_brain/CSHL_patches/MD589/LC_surround_200um_noclass/267_695.tif std= 8.626741342672576 too blank, skipping\n",
      "image /Users/kuiqian/BstemAtlasDataBackup/ucsd_brain/CSHL_patches/MD589/LC_surround_200um_noclass/267_681.tif std= 4.183001522676499 too blank, skipping\n",
      "image /Users/kuiqian/BstemAtlasDataBackup/ucsd_brain/CSHL_patches/MD589/LC_surround_200um_noclass/264_568.tif std= 8.935203974148267 too blank, skipping\n",
      "image /Users/kuiqian/BstemAtlasDataBackup/ucsd_brain/CSHL_patches/MD589/LC_surround_200um_noclass/262_505.tif std= 3.8238574713783224 too blank, skipping\n",
      "image /Users/kuiqian/BstemAtlasDataBackup/ucsd_brain/CSHL_patches/MD589/LC_surround_200um_noclass/266_647.tif std= 4.960714065307095 too blank, skipping\n",
      "image /Users/kuiqian/BstemAtlasDataBackup/ucsd_brain/CSHL_patches/MD589/LC_surround_200um_noclass/264_583.tif std= 3.3498986278691585 too blank, skipping\n",
      "image /Users/kuiqian/BstemAtlasDataBackup/ucsd_brain/CSHL_patches/MD589/LC_surround_200um_noclass/262_511.tif std= 3.731345145443087 too blank, skipping\n",
      "image /Users/kuiqian/BstemAtlasDataBackup/ucsd_brain/CSHL_patches/MD589/LC_surround_200um_noclass/262_507.tif std= 4.23710251927642 too blank, skipping\n",
      "image /Users/kuiqian/BstemAtlasDataBackup/ucsd_brain/CSHL_patches/MD589/LC_surround_200um_noclass/262_513.tif std= 3.8187283167501698 too blank, skipping\n",
      "image /Users/kuiqian/BstemAtlasDataBackup/ucsd_brain/CSHL_patches/MD589/LC_surround_200um_noclass/264_581.tif std= 3.203559593705194 too blank, skipping\n",
      "LCfinished in 692.9 seconds\n",
      "mkdir: /Users/kuiqian/BstemAtlasDataBackup/ucsd_brain/CSHL_cells/MD589/LRt/: File exists\n",
      "image /Users/kuiqian/BstemAtlasDataBackup/ucsd_brain/CSHL_patches/MD589/LRt_surround_200um_noclass/288_420.tif std= 3.5320189021059014 too blank, skipping\n",
      "image /Users/kuiqian/BstemAtlasDataBackup/ucsd_brain/CSHL_patches/MD589/LRt_surround_200um_noclass/288_434.tif std= 6.773688707677633 too blank, skipping\n",
      "image /Users/kuiqian/BstemAtlasDataBackup/ucsd_brain/CSHL_patches/MD589/LRt_surround_200um_noclass/156_357.tif std= 9.964659588023933 too blank, skipping\n",
      "image /Users/kuiqian/BstemAtlasDataBackup/ucsd_brain/CSHL_patches/MD589/LRt_surround_200um_noclass/290_618.tif std= 7.171245964699183 too blank, skipping\n",
      "image /Users/kuiqian/BstemAtlasDataBackup/ucsd_brain/CSHL_patches/MD589/LRt_surround_200um_noclass/290_340.tif std= 9.650009150888797 too blank, skipping\n",
      "image /Users/kuiqian/BstemAtlasDataBackup/ucsd_brain/CSHL_patches/MD589/LRt_surround_200um_noclass/290_426.tif std= 4.691914410673697 too blank, skipping\n",
      "image /Users/kuiqian/BstemAtlasDataBackup/ucsd_brain/CSHL_patches/MD589/LRt_surround_200um_noclass/290_427.tif std= 4.941121141552605 too blank, skipping\n",
      "image /Users/kuiqian/BstemAtlasDataBackup/ucsd_brain/CSHL_patches/MD589/LRt_surround_200um_noclass/290_396.tif std= 9.323602882152926 too blank, skipping\n",
      "image /Users/kuiqian/BstemAtlasDataBackup/ucsd_brain/CSHL_patches/MD589/LRt_surround_200um_noclass/297_329.tif std= 7.593651688509068 too blank, skipping\n",
      "image /Users/kuiqian/BstemAtlasDataBackup/ucsd_brain/CSHL_patches/MD589/LRt_surround_200um_noclass/162_443.tif std= 6.302822926249913 too blank, skipping\n",
      "image /Users/kuiqian/BstemAtlasDataBackup/ucsd_brain/CSHL_patches/MD589/LRt_surround_200um_noclass/289_356.tif std= 3.0938747315175448 too blank, skipping\n",
      "image /Users/kuiqian/BstemAtlasDataBackup/ucsd_brain/CSHL_patches/MD589/LRt_surround_200um_noclass/292_324.tif std= 5.428171372258724 too blank, skipping\n",
      "image /Users/kuiqian/BstemAtlasDataBackup/ucsd_brain/CSHL_patches/MD589/LRt_surround_200um_noclass/288_435.tif std= 6.868619887400468 too blank, skipping\n",
      "image /Users/kuiqian/BstemAtlasDataBackup/ucsd_brain/CSHL_patches/MD589/LRt_surround_200um_noclass/288_421.tif std= 5.561883059355715 too blank, skipping\n",
      "image /Users/kuiqian/BstemAtlasDataBackup/ucsd_brain/CSHL_patches/MD589/LRt_surround_200um_noclass/283_484.tif std= 5.580453586218749 too blank, skipping\n",
      "LRtfinished in 869.9 seconds\n",
      "mkdir: /Users/kuiqian/BstemAtlasDataBackup/ucsd_brain/CSHL_cells/MD589/Pn/: File exists\n",
      "image /Users/kuiqian/BstemAtlasDataBackup/ucsd_brain/CSHL_patches/MD589/Pn_surround_200um_noclass/210_55.tif std= 3.228405363860095 too blank, skipping\n",
      "image /Users/kuiqian/BstemAtlasDataBackup/ucsd_brain/CSHL_patches/MD589/Pn_surround_200um_noclass/182_305.tif std= 6.621374369130056 too blank, skipping\n",
      "image /Users/kuiqian/BstemAtlasDataBackup/ucsd_brain/CSHL_patches/MD589/Pn_surround_200um_noclass/200_489.tif std= 9.827888397044987 too blank, skipping\n",
      "image /Users/kuiqian/BstemAtlasDataBackup/ucsd_brain/CSHL_patches/MD589/Pn_surround_200um_noclass/283_320.tif std= 3.3728649028145528 too blank, skipping\n",
      "image /Users/kuiqian/BstemAtlasDataBackup/ucsd_brain/CSHL_patches/MD589/Pn_surround_200um_noclass/220_343.tif std= 5.0015386663054695 too blank, skipping\n",
      "image /Users/kuiqian/BstemAtlasDataBackup/ucsd_brain/CSHL_patches/MD589/Pn_surround_200um_noclass/203_29.tif std= 3.746423264792213 too blank, skipping\n",
      "image /Users/kuiqian/BstemAtlasDataBackup/ucsd_brain/CSHL_patches/MD589/Pn_surround_200um_noclass/192_311.tif std= 4.435552001140147 too blank, skipping\n",
      "image /Users/kuiqian/BstemAtlasDataBackup/ucsd_brain/CSHL_patches/MD589/Pn_surround_200um_noclass/216_369.tif std= 4.874879924346556 too blank, skipping\n",
      "image /Users/kuiqian/BstemAtlasDataBackup/ucsd_brain/CSHL_patches/MD589/Pn_surround_200um_noclass/267_453.tif std= 4.62214065435509 too blank, skipping\n",
      "image /Users/kuiqian/BstemAtlasDataBackup/ucsd_brain/CSHL_patches/MD589/Pn_surround_200um_noclass/262_270.tif std= 3.2252853808832787 too blank, skipping\n",
      "image /Users/kuiqian/BstemAtlasDataBackup/ucsd_brain/CSHL_patches/MD589/Pn_surround_200um_noclass/217_48.tif std= 3.6024342213642138 too blank, skipping\n",
      "image /Users/kuiqian/BstemAtlasDataBackup/ucsd_brain/CSHL_patches/MD589/Pn_surround_200um_noclass/197_532.tif std= 4.954377754400551 too blank, skipping\n",
      "image /Users/kuiqian/BstemAtlasDataBackup/ucsd_brain/CSHL_patches/MD589/Pn_surround_200um_noclass/282_127.tif std= 9.595934939553727 too blank, skipping\n",
      "image /Users/kuiqian/BstemAtlasDataBackup/ucsd_brain/CSHL_patches/MD589/Pn_surround_200um_noclass/280_0.tif std= 9.689447450760893 too blank, skipping\n",
      "image /Users/kuiqian/BstemAtlasDataBackup/ucsd_brain/CSHL_patches/MD589/Pn_surround_200um_noclass/223_294.tif std= 3.674089210578141 too blank, skipping\n",
      "image /Users/kuiqian/BstemAtlasDataBackup/ucsd_brain/CSHL_patches/MD589/Pn_surround_200um_noclass/249_279.tif std= 3.43623151382989 too blank, skipping\n",
      "image /Users/kuiqian/BstemAtlasDataBackup/ucsd_brain/CSHL_patches/MD589/Pn_surround_200um_noclass/272_264.tif std= 4.610036871573674 too blank, skipping\n",
      "image /Users/kuiqian/BstemAtlasDataBackup/ucsd_brain/CSHL_patches/MD589/Pn_surround_200um_noclass/225_206.tif std= 3.5394218815639955 too blank, skipping\n",
      "image /Users/kuiqian/BstemAtlasDataBackup/ucsd_brain/CSHL_patches/MD589/Pn_surround_200um_noclass/277_453.tif std= 3.93434657727553 too blank, skipping\n",
      "image /Users/kuiqian/BstemAtlasDataBackup/ucsd_brain/CSHL_patches/MD589/Pn_surround_200um_noclass/197_254.tif std= 3.6301088159775774 too blank, skipping\n",
      "image /Users/kuiqian/BstemAtlasDataBackup/ucsd_brain/CSHL_patches/MD589/Pn_surround_200um_noclass/256_14.tif std= 9.031393877134231 too blank, skipping\n",
      "image /Users/kuiqian/BstemAtlasDataBackup/ucsd_brain/CSHL_patches/MD589/Pn_surround_200um_noclass/254_514.tif std= 1.557741133823287 too blank, skipping\n"
     ]
    },
    {
     "name": "stdout",
     "output_type": "stream",
     "text": [
      "image /Users/kuiqian/BstemAtlasDataBackup/ucsd_brain/CSHL_patches/MD589/Pn_surround_200um_noclass/205_282.tif std= 3.482133206974861 too blank, skipping\n",
      "image /Users/kuiqian/BstemAtlasDataBackup/ucsd_brain/CSHL_patches/MD589/Pn_surround_200um_noclass/207_152.tif std= 3.8207507749135283 too blank, skipping\n",
      "image /Users/kuiqian/BstemAtlasDataBackup/ucsd_brain/CSHL_patches/MD589/Pn_surround_200um_noclass/276_668.tif std= 6.464600559145526 too blank, skipping\n",
      "image /Users/kuiqian/BstemAtlasDataBackup/ucsd_brain/CSHL_patches/MD589/Pn_surround_200um_noclass/282_669.tif std= 2.9836302507773635 too blank, skipping\n",
      "image /Users/kuiqian/BstemAtlasDataBackup/ucsd_brain/CSHL_patches/MD589/Pn_surround_200um_noclass/225_5.tif std= 5.0812961797058485 too blank, skipping\n",
      "image /Users/kuiqian/BstemAtlasDataBackup/ucsd_brain/CSHL_patches/MD589/Pn_surround_200um_noclass/260_188.tif std= 3.7244202865159033 too blank, skipping\n",
      "image /Users/kuiqian/BstemAtlasDataBackup/ucsd_brain/CSHL_patches/MD589/Pn_surround_200um_noclass/249_251.tif std= 3.5415370269736517 too blank, skipping\n",
      "image /Users/kuiqian/BstemAtlasDataBackup/ucsd_brain/CSHL_patches/MD589/Pn_surround_200um_noclass/203_204.tif std= 3.8426471674958464 too blank, skipping\n",
      "image /Users/kuiqian/BstemAtlasDataBackup/ucsd_brain/CSHL_patches/MD589/Pn_surround_200um_noclass/277_309.tif std= 2.932804174448097 too blank, skipping\n",
      "image /Users/kuiqian/BstemAtlasDataBackup/ucsd_brain/CSHL_patches/MD589/Pn_surround_200um_noclass/206_433.tif std= 3.264615569761511 too blank, skipping\n",
      "image /Users/kuiqian/BstemAtlasDataBackup/ucsd_brain/CSHL_patches/MD589/Pn_surround_200um_noclass/217_152.tif std= 3.5306217901783254 too blank, skipping\n",
      "image /Users/kuiqian/BstemAtlasDataBackup/ucsd_brain/CSHL_patches/MD589/Pn_surround_200um_noclass/251_21.tif std= 4.336136650074147 too blank, skipping\n",
      "image /Users/kuiqian/BstemAtlasDataBackup/ucsd_brain/CSHL_patches/MD589/Pn_surround_200um_noclass/217_74.tif std= 3.8248781140893855 too blank, skipping\n",
      "image /Users/kuiqian/BstemAtlasDataBackup/ucsd_brain/CSHL_patches/MD589/Pn_surround_200um_noclass/219_59.tif std= 1.6650323474794395 too blank, skipping\n",
      "image /Users/kuiqian/BstemAtlasDataBackup/ucsd_brain/CSHL_patches/MD589/Pn_surround_200um_noclass/281_16.tif std= 3.557312777317373 too blank, skipping\n",
      "image /Users/kuiqian/BstemAtlasDataBackup/ucsd_brain/CSHL_patches/MD589/Pn_surround_200um_noclass/206_355.tif std= 3.7389856733110145 too blank, skipping\n",
      "image /Users/kuiqian/BstemAtlasDataBackup/ucsd_brain/CSHL_patches/MD589/Pn_surround_200um_noclass/277_484.tif std= 3.793708269211893 too blank, skipping\n",
      "image /Users/kuiqian/BstemAtlasDataBackup/ucsd_brain/CSHL_patches/MD589/Pn_surround_200um_noclass/285_371.tif std= 3.8511849050666784 too blank, skipping\n",
      "image /Users/kuiqian/BstemAtlasDataBackup/ucsd_brain/CSHL_patches/MD589/Pn_surround_200um_noclass/189_363.tif std= 3.5215619608429565 too blank, skipping\n",
      "image /Users/kuiqian/BstemAtlasDataBackup/ucsd_brain/CSHL_patches/MD589/Pn_surround_200um_noclass/195_153.tif std= 3.527187112978331 too blank, skipping\n",
      "image /Users/kuiqian/BstemAtlasDataBackup/ucsd_brain/CSHL_patches/MD589/Pn_surround_200um_noclass/191_211.tif std= 2.757921278097922 too blank, skipping\n",
      "image /Users/kuiqian/BstemAtlasDataBackup/ucsd_brain/CSHL_patches/MD589/Pn_surround_200um_noclass/220_380.tif std= 6.153884022928951 too blank, skipping\n",
      "image /Users/kuiqian/BstemAtlasDataBackup/ucsd_brain/CSHL_patches/MD589/Pn_surround_200um_noclass/223_243.tif std= 3.616098936521604 too blank, skipping\n",
      "image /Users/kuiqian/BstemAtlasDataBackup/ucsd_brain/CSHL_patches/MD589/Pn_surround_200um_noclass/198_164.tif std= 2.810327209603896 too blank, skipping\n",
      "image /Users/kuiqian/BstemAtlasDataBackup/ucsd_brain/CSHL_patches/MD589/Pn_surround_200um_noclass/222_24.tif std= 4.489398618425593 too blank, skipping\n",
      "image /Users/kuiqian/BstemAtlasDataBackup/ucsd_brain/CSHL_patches/MD589/Pn_surround_200um_noclass/284_610.tif std= 5.185914454628713 too blank, skipping\n",
      "image /Users/kuiqian/BstemAtlasDataBackup/ucsd_brain/CSHL_patches/MD589/Pn_surround_200um_noclass/274_235.tif std= 3.751291527774231 too blank, skipping\n",
      "image /Users/kuiqian/BstemAtlasDataBackup/ucsd_brain/CSHL_patches/MD589/Pn_surround_200um_noclass/280_234.tif std= 3.1863112246875094 too blank, skipping\n",
      "image /Users/kuiqian/BstemAtlasDataBackup/ucsd_brain/CSHL_patches/MD589/Pn_surround_200um_noclass/184_340.tif std= 3.955646446043481 too blank, skipping\n",
      "image /Users/kuiqian/BstemAtlasDataBackup/ucsd_brain/CSHL_patches/MD589/Pn_surround_200um_noclass/222_30.tif std= 4.32324106101786 too blank, skipping\n",
      "image /Users/kuiqian/BstemAtlasDataBackup/ucsd_brain/CSHL_patches/MD589/Pn_surround_200um_noclass/270_10.tif std= 4.306935646170614 too blank, skipping\n",
      "image /Users/kuiqian/BstemAtlasDataBackup/ucsd_brain/CSHL_patches/MD589/Pn_surround_200um_noclass/277_19.tif std= 3.6312821109917124 too blank, skipping\n",
      "image /Users/kuiqian/BstemAtlasDataBackup/ucsd_brain/CSHL_patches/MD589/Pn_surround_200um_noclass/274_553.tif std= 4.814081868878802 too blank, skipping\n",
      "image /Users/kuiqian/BstemAtlasDataBackup/ucsd_brain/CSHL_patches/MD589/Pn_surround_200um_noclass/225_39.tif std= 5.066050001731241 too blank, skipping\n",
      "image /Users/kuiqian/BstemAtlasDataBackup/ucsd_brain/CSHL_patches/MD589/Pn_surround_200um_noclass/270_177.tif std= 3.6009613797588926 too blank, skipping\n",
      "image /Users/kuiqian/BstemAtlasDataBackup/ucsd_brain/CSHL_patches/MD589/Pn_surround_200um_noclass/246_175.tif std= 4.381111802784237 too blank, skipping\n",
      "image /Users/kuiqian/BstemAtlasDataBackup/ucsd_brain/CSHL_patches/MD589/Pn_surround_200um_noclass/225_11.tif std= 3.9290432336543493 too blank, skipping\n",
      "image /Users/kuiqian/BstemAtlasDataBackup/ucsd_brain/CSHL_patches/MD589/Pn_surround_200um_noclass/257_372.tif std= 3.2001978528646955 too blank, skipping\n",
      "image /Users/kuiqian/BstemAtlasDataBackup/ucsd_brain/CSHL_patches/MD589/Pn_surround_200um_noclass/217_185.tif std= 3.158425656427321 too blank, skipping\n",
      "image /Users/kuiqian/BstemAtlasDataBackup/ucsd_brain/CSHL_patches/MD589/Pn_surround_200um_noclass/261_358.tif std= 4.462351870909445 too blank, skipping\n",
      "image /Users/kuiqian/BstemAtlasDataBackup/ucsd_brain/CSHL_patches/MD589/Pn_surround_200um_noclass/208_262.tif std= 4.630006822960368 too blank, skipping\n",
      "image /Users/kuiqian/BstemAtlasDataBackup/ucsd_brain/CSHL_patches/MD589/Pn_surround_200um_noclass/216_382.tif std= 7.281835648524539 too blank, skipping\n",
      "image /Users/kuiqian/BstemAtlasDataBackup/ucsd_brain/CSHL_patches/MD589/Pn_surround_200um_noclass/218_510.tif std= 4.262111501088012 too blank, skipping\n",
      "image /Users/kuiqian/BstemAtlasDataBackup/ucsd_brain/CSHL_patches/MD589/Pn_surround_200um_noclass/274_209.tif std= 3.532402610641656 too blank, skipping\n",
      "image /Users/kuiqian/BstemAtlasDataBackup/ucsd_brain/CSHL_patches/MD589/Pn_surround_200um_noclass/201_117.tif std= 2.69285577771845 too blank, skipping\n",
      "image /Users/kuiqian/BstemAtlasDataBackup/ucsd_brain/CSHL_patches/MD589/Pn_surround_200um_noclass/195_18.tif std= 4.257190853663938 too blank, skipping\n",
      "image /Users/kuiqian/BstemAtlasDataBackup/ucsd_brain/CSHL_patches/MD589/Pn_surround_200um_noclass/205_255.tif std= 3.112200008450199 too blank, skipping\n",
      "image /Users/kuiqian/BstemAtlasDataBackup/ucsd_brain/CSHL_patches/MD589/Pn_surround_200um_noclass/207_185.tif std= 3.7721972123969896 too blank, skipping\n",
      "image /Users/kuiqian/BstemAtlasDataBackup/ucsd_brain/CSHL_patches/MD589/Pn_surround_200um_noclass/259_292.tif std= 3.51235937019448 too blank, skipping\n",
      "image /Users/kuiqian/BstemAtlasDataBackup/ucsd_brain/CSHL_patches/MD589/Pn_surround_200um_noclass/277_25.tif std= 2.8517816050527047 too blank, skipping\n",
      "image /Users/kuiqian/BstemAtlasDataBackup/ucsd_brain/CSHL_patches/MD589/Pn_surround_200um_noclass/194_368.tif std= 2.746691818578511 too blank, skipping\n",
      "image /Users/kuiqian/BstemAtlasDataBackup/ucsd_brain/CSHL_patches/MD589/Pn_surround_200um_noclass/210_310.tif std= 3.2774328306991327 too blank, skipping\n",
      "image /Users/kuiqian/BstemAtlasDataBackup/ucsd_brain/CSHL_patches/MD589/Pn_surround_200um_noclass/211_103.tif std= 3.41221035724833 too blank, skipping\n",
      "image /Users/kuiqian/BstemAtlasDataBackup/ucsd_brain/CSHL_patches/MD589/Pn_surround_200um_noclass/213_38.tif std= 3.0253660261737485 too blank, skipping\n",
      "image /Users/kuiqian/BstemAtlasDataBackup/ucsd_brain/CSHL_patches/MD589/Pn_surround_200um_noclass/220_141.tif std= 5.9790736391904815 too blank, skipping\n",
      "image /Users/kuiqian/BstemAtlasDataBackup/ucsd_brain/CSHL_patches/MD589/Pn_surround_200um_noclass/225_776.tif std= 8.156612574216513 too blank, skipping\n"
     ]
    },
    {
     "name": "stdout",
     "output_type": "stream",
     "text": [
      "image /Users/kuiqian/BstemAtlasDataBackup/ucsd_brain/CSHL_patches/MD589/Pn_surround_200um_noclass/185_386.tif std= 3.8511480551513015 too blank, skipping\n",
      "image /Users/kuiqian/BstemAtlasDataBackup/ucsd_brain/CSHL_patches/MD589/Pn_surround_200um_noclass/257_831.tif std= 7.158315059621579 too blank, skipping\n",
      "image /Users/kuiqian/BstemAtlasDataBackup/ucsd_brain/CSHL_patches/MD589/Pn_surround_200um_noclass/252_64.tif std= 4.527226990871774 too blank, skipping\n",
      "image /Users/kuiqian/BstemAtlasDataBackup/ucsd_brain/CSHL_patches/MD589/Pn_surround_200um_noclass/200_44.tif std= 4.14239497208384 too blank, skipping\n",
      "image /Users/kuiqian/BstemAtlasDataBackup/ucsd_brain/CSHL_patches/MD589/Pn_surround_200um_noclass/266_324.tif std= 5.0326513915577955 too blank, skipping\n",
      "image /Users/kuiqian/BstemAtlasDataBackup/ucsd_brain/CSHL_patches/MD589/Pn_surround_200um_noclass/193_472.tif std= 3.15931444177317 too blank, skipping\n",
      "image /Users/kuiqian/BstemAtlasDataBackup/ucsd_brain/CSHL_patches/MD589/Pn_surround_200um_noclass/267_123.tif std= 4.673216655570313 too blank, skipping\n",
      "image /Users/kuiqian/BstemAtlasDataBackup/ucsd_brain/CSHL_patches/MD589/Pn_surround_200um_noclass/251_109.tif std= 4.17939380397194 too blank, skipping\n",
      "image /Users/kuiqian/BstemAtlasDataBackup/ucsd_brain/CSHL_patches/MD589/Pn_surround_200um_noclass/276_442.tif std= 4.497284996903255 too blank, skipping\n",
      "image /Users/kuiqian/BstemAtlasDataBackup/ucsd_brain/CSHL_patches/MD589/Pn_surround_200um_noclass/282_443.tif std= 6.99073399659283 too blank, skipping\n",
      "image /Users/kuiqian/BstemAtlasDataBackup/ucsd_brain/CSHL_patches/MD589/Pn_surround_200um_noclass/275_581.tif std= 6.282668120867984 too blank, skipping\n",
      "image /Users/kuiqian/BstemAtlasDataBackup/ucsd_brain/CSHL_patches/MD589/Pn_surround_200um_noclass/281_580.tif std= 3.2613475851062335 too blank, skipping\n",
      "image /Users/kuiqian/BstemAtlasDataBackup/ucsd_brain/CSHL_patches/MD589/Pn_surround_200um_noclass/183_300.tif std= 4.314320446164277 too blank, skipping\n",
      "image /Users/kuiqian/BstemAtlasDataBackup/ucsd_brain/CSHL_patches/MD589/Pn_surround_200um_noclass/219_298.tif std= 1.412779904769297 too blank, skipping\n",
      "image /Users/kuiqian/BstemAtlasDataBackup/ucsd_brain/CSHL_patches/MD589/Pn_surround_200um_noclass/256_388.tif std= 1.867305035661783 too blank, skipping\n",
      "image /Users/kuiqian/BstemAtlasDataBackup/ucsd_brain/CSHL_patches/MD589/Pn_surround_200um_noclass/248_268.tif std= 3.820045411084967 too blank, skipping\n",
      "image /Users/kuiqian/BstemAtlasDataBackup/ucsd_brain/CSHL_patches/MD589/Pn_surround_200um_noclass/202_229.tif std= 3.3743767861496536 too blank, skipping\n",
      "image /Users/kuiqian/BstemAtlasDataBackup/ucsd_brain/CSHL_patches/MD589/Pn_surround_200um_noclass/265_595.tif std= 7.566789962188462 too blank, skipping\n",
      "image /Users/kuiqian/BstemAtlasDataBackup/ucsd_brain/CSHL_patches/MD589/Pn_surround_200um_noclass/209_74.tif std= 2.8755012173257435 too blank, skipping\n",
      "image /Users/kuiqian/BstemAtlasDataBackup/ucsd_brain/CSHL_patches/MD589/Pn_surround_200um_noclass/193_314.tif std= 3.7026441964109154 too blank, skipping\n",
      "image /Users/kuiqian/BstemAtlasDataBackup/ucsd_brain/CSHL_patches/MD589/Pn_surround_200um_noclass/255_51.tif std= 3.769861306859867 too blank, skipping\n",
      "image /Users/kuiqian/BstemAtlasDataBackup/ucsd_brain/CSHL_patches/MD589/Pn_surround_200um_noclass/262_7.tif std= 3.843294783323943 too blank, skipping\n",
      "image /Users/kuiqian/BstemAtlasDataBackup/ucsd_brain/CSHL_patches/MD589/Pn_surround_200um_noclass/202_201.tif std= 3.706528738248084 too blank, skipping\n",
      "image /Users/kuiqian/BstemAtlasDataBackup/ucsd_brain/CSHL_patches/MD589/Pn_surround_200um_noclass/207_71.tif std= 3.237157649655262 too blank, skipping\n",
      "image /Users/kuiqian/BstemAtlasDataBackup/ucsd_brain/CSHL_patches/MD589/Pn_surround_200um_noclass/212_215.tif std= 4.197493619154349 too blank, skipping\n",
      "image /Users/kuiqian/BstemAtlasDataBackup/ucsd_brain/CSHL_patches/MD589/Pn_surround_200um_noclass/250_332.tif std= 6.6175358126942445 too blank, skipping\n",
      "image /Users/kuiqian/BstemAtlasDataBackup/ucsd_brain/CSHL_patches/MD589/Pn_surround_200um_noclass/207_350.tif std= 4.916915960929553 too blank, skipping\n",
      "image /Users/kuiqian/BstemAtlasDataBackup/ucsd_brain/CSHL_patches/MD589/Pn_surround_200um_noclass/214_19.tif std= 4.472541864963086 too blank, skipping\n",
      "image /Users/kuiqian/BstemAtlasDataBackup/ucsd_brain/CSHL_patches/MD589/Pn_surround_200um_noclass/206_157.tif std= 3.6276095112496303 too blank, skipping\n",
      "image /Users/kuiqian/BstemAtlasDataBackup/ucsd_brain/CSHL_patches/MD589/Pn_surround_200um_noclass/271_199.tif std= 2.988059926064099 too blank, skipping\n",
      "image /Users/kuiqian/BstemAtlasDataBackup/ucsd_brain/CSHL_patches/MD589/Pn_surround_200um_noclass/258_240.tif std= 2.740369605054448 too blank, skipping\n",
      "image /Users/kuiqian/BstemAtlasDataBackup/ucsd_brain/CSHL_patches/MD589/Pn_surround_200um_noclass/246_39.tif std= 9.98914977549756 too blank, skipping\n",
      "image /Users/kuiqian/BstemAtlasDataBackup/ucsd_brain/CSHL_patches/MD589/Pn_surround_200um_noclass/217_350.tif std= 3.0708454511462437 too blank, skipping\n",
      "image /Users/kuiqian/BstemAtlasDataBackup/ucsd_brain/CSHL_patches/MD589/Pn_surround_200um_noclass/213_10.tif std= 3.984705369921753 too blank, skipping\n",
      "image /Users/kuiqian/BstemAtlasDataBackup/ucsd_brain/CSHL_patches/MD589/Pn_surround_200um_noclass/220_169.tif std= 5.850139799638562 too blank, skipping\n",
      "image /Users/kuiqian/BstemAtlasDataBackup/ucsd_brain/CSHL_patches/MD589/Pn_surround_200um_noclass/268_213.tif std= 4.7595140046783 too blank, skipping\n",
      "image /Users/kuiqian/BstemAtlasDataBackup/ucsd_brain/CSHL_patches/MD589/Pn_surround_200um_noclass/198_366.tif std= 2.6419937012674537 too blank, skipping\n",
      "image /Users/kuiqian/BstemAtlasDataBackup/ucsd_brain/CSHL_patches/MD589/Pn_surround_200um_noclass/214_278.tif std= 3.53569191214128 too blank, skipping\n",
      "image /Users/kuiqian/BstemAtlasDataBackup/ucsd_brain/CSHL_patches/MD589/Pn_surround_200um_noclass/278_207.tif std= 4.233168077939862 too blank, skipping\n",
      "image /Users/kuiqian/BstemAtlasDataBackup/ucsd_brain/CSHL_patches/MD589/Pn_surround_200um_noclass/247_158.tif std= 3.75923942817548 too blank, skipping\n",
      "image /Users/kuiqian/BstemAtlasDataBackup/ucsd_brain/CSHL_patches/MD589/Pn_surround_200um_noclass/245_288.tif std= 4.181781942360544 too blank, skipping\n",
      "image /Users/kuiqian/BstemAtlasDataBackup/ucsd_brain/CSHL_patches/MD589/Pn_surround_200um_noclass/200_87.tif std= 3.128309757029785 too blank, skipping\n",
      "image /Users/kuiqian/BstemAtlasDataBackup/ucsd_brain/CSHL_patches/MD589/Pn_surround_200um_noclass/270_361.tif std= 3.2035534637966236 too blank, skipping\n",
      "image /Users/kuiqian/BstemAtlasDataBackup/ucsd_brain/CSHL_patches/MD589/Pn_surround_200um_noclass/273_69.tif std= 9.830614673262701 too blank, skipping\n",
      "image /Users/kuiqian/BstemAtlasDataBackup/ucsd_brain/CSHL_patches/MD589/Pn_surround_200um_noclass/275_556.tif std= 5.110603336819281 too blank, skipping\n",
      "image /Users/kuiqian/BstemAtlasDataBackup/ucsd_brain/CSHL_patches/MD589/Pn_surround_200um_noclass/283_687.tif std= 2.8988095811681833 too blank, skipping\n",
      "image /Users/kuiqian/BstemAtlasDataBackup/ucsd_brain/CSHL_patches/MD589/Pn_surround_200um_noclass/284_374.tif std= 4.64780194906973 too blank, skipping\n",
      "image /Users/kuiqian/BstemAtlasDataBackup/ucsd_brain/CSHL_patches/MD589/Pn_surround_200um_noclass/204_278.tif std= 4.1054243684185945 too blank, skipping\n",
      "image /Users/kuiqian/BstemAtlasDataBackup/ucsd_brain/CSHL_patches/MD589/Pn_surround_200um_noclass/271_166.tif std= 3.1818491390690973 too blank, skipping\n",
      "image /Users/kuiqian/BstemAtlasDataBackup/ucsd_brain/CSHL_patches/MD589/Pn_surround_200um_noclass/281_543.tif std= 5.697478606521678 too blank, skipping\n",
      "image /Users/kuiqian/BstemAtlasDataBackup/ucsd_brain/CSHL_patches/MD589/Pn_surround_200um_noclass/196_286.tif std= 3.643705524884967 too blank, skipping\n",
      "image /Users/kuiqian/BstemAtlasDataBackup/ucsd_brain/CSHL_patches/MD589/Pn_surround_200um_noclass/260_407.tif std= 3.800669771675278 too blank, skipping\n",
      "image /Users/kuiqian/BstemAtlasDataBackup/ucsd_brain/CSHL_patches/MD589/Pn_surround_200um_noclass/261_614.tif std= 9.09663556891613 too blank, skipping\n",
      "image /Users/kuiqian/BstemAtlasDataBackup/ucsd_brain/CSHL_patches/MD589/Pn_surround_200um_noclass/220_196.tif std= 5.781011408226978 too blank, skipping\n",
      "image /Users/kuiqian/BstemAtlasDataBackup/ucsd_brain/CSHL_patches/MD589/Pn_surround_200um_noclass/284_412.tif std= 4.68951137601882 too blank, skipping\n",
      "image /Users/kuiqian/BstemAtlasDataBackup/ucsd_brain/CSHL_patches/MD589/Pn_surround_200um_noclass/222_246.tif std= 3.569008800269387 too blank, skipping\n",
      "image /Users/kuiqian/BstemAtlasDataBackup/ucsd_brain/CSHL_patches/MD589/Pn_surround_200um_noclass/246_411.tif std= 4.525130015608752 too blank, skipping\n",
      "image /Users/kuiqian/BstemAtlasDataBackup/ucsd_brain/CSHL_patches/MD589/Pn_surround_200um_noclass/260_349.tif std= 3.8048153205044364 too blank, skipping\n"
     ]
    },
    {
     "name": "stdout",
     "output_type": "stream",
     "text": [
      "image /Users/kuiqian/BstemAtlasDataBackup/ucsd_brain/CSHL_patches/MD589/Pn_surround_200um_noclass/200_112.tif std= 8.58069762916326 too blank, skipping\n",
      "image /Users/kuiqian/BstemAtlasDataBackup/ucsd_brain/CSHL_patches/MD589/Pn_surround_200um_noclass/204_536.tif std= 4.53780882287286 too blank, skipping\n",
      "image /Users/kuiqian/BstemAtlasDataBackup/ucsd_brain/CSHL_patches/MD589/Pn_surround_200um_noclass/257_170.tif std= 9.94352168050362 too blank, skipping\n",
      "image /Users/kuiqian/BstemAtlasDataBackup/ucsd_brain/CSHL_patches/MD589/Pn_surround_200um_noclass/206_180.tif std= 4.039812864207708 too blank, skipping\n",
      "image /Users/kuiqian/BstemAtlasDataBackup/ucsd_brain/CSHL_patches/MD589/Pn_surround_200um_noclass/180_228.tif std= 8.452236958884875 too blank, skipping\n",
      "image /Users/kuiqian/BstemAtlasDataBackup/ucsd_brain/CSHL_patches/MD589/Pn_surround_200um_noclass/219_273.tif std= 1.4669630666114015 too blank, skipping\n",
      "image /Users/kuiqian/BstemAtlasDataBackup/ucsd_brain/CSHL_patches/MD589/Pn_surround_200um_noclass/256_405.tif std= 2.2722389758464887 too blank, skipping\n",
      "image /Users/kuiqian/BstemAtlasDataBackup/ucsd_brain/CSHL_patches/MD589/Pn_surround_200um_noclass/211_315.tif std= 3.649173328624469 too blank, skipping\n",
      "image /Users/kuiqian/BstemAtlasDataBackup/ucsd_brain/CSHL_patches/MD589/Pn_surround_200um_noclass/196_75.tif std= 4.171903348437185 too blank, skipping\n",
      "image /Users/kuiqian/BstemAtlasDataBackup/ucsd_brain/CSHL_patches/MD589/Pn_surround_200um_noclass/198_58.tif std= 3.3373743989277385 too blank, skipping\n",
      "image /Users/kuiqian/BstemAtlasDataBackup/ucsd_brain/CSHL_patches/MD589/Pn_surround_200um_noclass/269_19.tif std= 6.449699453818536 too blank, skipping\n",
      "image /Users/kuiqian/BstemAtlasDataBackup/ucsd_brain/CSHL_patches/MD589/Pn_surround_200um_noclass/246_363.tif std= 7.676943387007448 too blank, skipping\n",
      "image /Users/kuiqian/BstemAtlasDataBackup/ucsd_brain/CSHL_patches/MD589/Pn_surround_200um_noclass/251_690.tif std= 5.913016835014597 too blank, skipping\n",
      "image /Users/kuiqian/BstemAtlasDataBackup/ucsd_brain/CSHL_patches/MD589/Pn_surround_200um_noclass/214_250.tif std= 3.769208307684933 too blank, skipping\n",
      "image /Users/kuiqian/BstemAtlasDataBackup/ucsd_brain/CSHL_patches/MD589/Pn_surround_200um_noclass/218_19.tif std= 3.8713640457049854 too blank, skipping\n",
      "image /Users/kuiqian/BstemAtlasDataBackup/ucsd_brain/CSHL_patches/MD589/Pn_surround_200um_noclass/216_34.tif std= 3.7320567294087432 too blank, skipping\n",
      "image /Users/kuiqian/BstemAtlasDataBackup/ucsd_brain/CSHL_patches/MD589/Pn_surround_200um_noclass/195_580.tif std= 7.228902851107033 too blank, skipping\n",
      "image /Users/kuiqian/BstemAtlasDataBackup/ucsd_brain/CSHL_patches/MD589/Pn_surround_200um_noclass/224_86.tif std= 3.9614717004793083 too blank, skipping\n",
      "image /Users/kuiqian/BstemAtlasDataBackup/ucsd_brain/CSHL_patches/MD589/Pn_surround_200um_noclass/272_106.tif std= 4.653014869088563 too blank, skipping\n",
      "image /Users/kuiqian/BstemAtlasDataBackup/ucsd_brain/CSHL_patches/MD589/Pn_surround_200um_noclass/205_48.tif std= 2.634512223794941 too blank, skipping\n",
      "image /Users/kuiqian/BstemAtlasDataBackup/ucsd_brain/CSHL_patches/MD589/Pn_surround_200um_noclass/265_393.tif std= 7.065548846027732 too blank, skipping\n",
      "image /Users/kuiqian/BstemAtlasDataBackup/ucsd_brain/CSHL_patches/MD589/Pn_surround_200um_noclass/197_136.tif std= 3.8026536484760007 too blank, skipping\n",
      "image /Users/kuiqian/BstemAtlasDataBackup/ucsd_brain/CSHL_patches/MD589/Pn_surround_200um_noclass/265_387.tif std= 9.085189099328728 too blank, skipping\n",
      "image /Users/kuiqian/BstemAtlasDataBackup/ucsd_brain/CSHL_patches/MD589/Pn_surround_200um_noclass/224_363.tif std= 3.6046761077934617 too blank, skipping\n",
      "image /Users/kuiqian/BstemAtlasDataBackup/ucsd_brain/CSHL_patches/MD589/Pn_surround_200um_noclass/276_250.tif std= 3.7476862795722936 too blank, skipping\n",
      "image /Users/kuiqian/BstemAtlasDataBackup/ucsd_brain/CSHL_patches/MD589/Pn_surround_200um_noclass/263_315.tif std= 3.912098370286212 too blank, skipping\n",
      "image /Users/kuiqian/BstemAtlasDataBackup/ucsd_brain/CSHL_patches/MD589/Pn_surround_200um_noclass/216_20.tif std= 3.7799701734848354 too blank, skipping\n",
      "image /Users/kuiqian/BstemAtlasDataBackup/ucsd_brain/CSHL_patches/MD589/Pn_surround_200um_noclass/196_457.tif std= 3.9296850801788885 too blank, skipping\n",
      "image /Users/kuiqian/BstemAtlasDataBackup/ucsd_brain/CSHL_patches/MD589/Pn_surround_200um_noclass/207_2.tif std= 4.470622489250373 too blank, skipping\n",
      "image /Users/kuiqian/BstemAtlasDataBackup/ucsd_brain/CSHL_patches/MD589/Pn_surround_200um_noclass/250_520.tif std= 6.227414964795429 too blank, skipping\n",
      "image /Users/kuiqian/BstemAtlasDataBackup/ucsd_brain/CSHL_patches/MD589/Pn_surround_200um_noclass/248_334.tif std= 3.740825691907111 too blank, skipping\n",
      "image /Users/kuiqian/BstemAtlasDataBackup/ucsd_brain/CSHL_patches/MD589/Pn_surround_200um_noclass/249_127.tif std= 3.665904609382421 too blank, skipping\n",
      "image /Users/kuiqian/BstemAtlasDataBackup/ucsd_brain/CSHL_patches/MD589/Pn_surround_200um_noclass/204_481.tif std= 4.24111939887042 too blank, skipping\n",
      "image /Users/kuiqian/BstemAtlasDataBackup/ucsd_brain/CSHL_patches/MD589/Pn_surround_200um_noclass/217_230.tif std= 9.97530265650601 too blank, skipping\n",
      "image /Users/kuiqian/BstemAtlasDataBackup/ucsd_brain/CSHL_patches/MD589/Pn_surround_200um_noclass/218_25.tif std= 4.18736056003218 too blank, skipping\n",
      "image /Users/kuiqian/BstemAtlasDataBackup/ucsd_brain/CSHL_patches/MD589/Pn_surround_200um_noclass/196_319.tif std= 8.001995760992335 too blank, skipping\n",
      "image /Users/kuiqian/BstemAtlasDataBackup/ucsd_brain/CSHL_patches/MD589/Pn_surround_200um_noclass/287_328.tif std= 3.443212310077884 too blank, skipping\n",
      "image /Users/kuiqian/BstemAtlasDataBackup/ucsd_brain/CSHL_patches/MD589/Pn_surround_200um_noclass/225_158.tif std= 3.7736697335802836 too blank, skipping\n",
      "image /Users/kuiqian/BstemAtlasDataBackup/ucsd_brain/CSHL_patches/MD589/Pn_surround_200um_noclass/255_465.tif std= 3.583958320811338 too blank, skipping\n",
      "image /Users/kuiqian/BstemAtlasDataBackup/ucsd_brain/CSHL_patches/MD589/Pn_surround_200um_noclass/264_1.tif std= 5.408408683544875 too blank, skipping\n",
      "image /Users/kuiqian/BstemAtlasDataBackup/ucsd_brain/CSHL_patches/MD589/Pn_surround_200um_noclass/252_182.tif std= 3.807048215826894 too blank, skipping\n",
      "image /Users/kuiqian/BstemAtlasDataBackup/ucsd_brain/CSHL_patches/MD589/Pn_surround_200um_noclass/203_614.tif std= 9.684135688573633 too blank, skipping\n",
      "image /Users/kuiqian/BstemAtlasDataBackup/ucsd_brain/CSHL_patches/MD589/Pn_surround_200um_noclass/211_15.tif std= 3.39415894657412 too blank, skipping\n",
      "image /Users/kuiqian/BstemAtlasDataBackup/ucsd_brain/CSHL_patches/MD589/Pn_surround_200um_noclass/292_279.tif std= 9.607441381785785 too blank, skipping\n",
      "image /Users/kuiqian/BstemAtlasDataBackup/ucsd_brain/CSHL_patches/MD589/Pn_surround_200um_noclass/213_166.tif std= 3.9235779568133715 too blank, skipping\n",
      "image /Users/kuiqian/BstemAtlasDataBackup/ucsd_brain/CSHL_patches/MD589/Pn_surround_200um_noclass/251_8.tif std= 4.623897173841389 too blank, skipping\n",
      "image /Users/kuiqian/BstemAtlasDataBackup/ucsd_brain/CSHL_patches/MD589/Pn_surround_200um_noclass/258_334.tif std= 2.64562227913639 too blank, skipping\n",
      "image /Users/kuiqian/BstemAtlasDataBackup/ucsd_brain/CSHL_patches/MD589/Pn_surround_200um_noclass/218_31.tif std= 4.511126317972835 too blank, skipping\n",
      "image /Users/kuiqian/BstemAtlasDataBackup/ucsd_brain/CSHL_patches/MD589/Pn_surround_200um_noclass/202_361.tif std= 2.7779069672065644 too blank, skipping\n",
      "image /Users/kuiqian/BstemAtlasDataBackup/ucsd_brain/CSHL_patches/MD589/Pn_surround_200um_noclass/202_69.tif std= 2.9530932854600738 too blank, skipping\n",
      "image /Users/kuiqian/BstemAtlasDataBackup/ucsd_brain/CSHL_patches/MD589/Pn_surround_200um_noclass/214_8.tif std= 4.376572210344258 too blank, skipping\n",
      "image /Users/kuiqian/BstemAtlasDataBackup/ucsd_brain/CSHL_patches/MD589/Pn_surround_200um_noclass/284_572.tif std= 8.21522219040697 too blank, skipping\n",
      "image /Users/kuiqian/BstemAtlasDataBackup/ucsd_brain/CSHL_patches/MD589/Pn_surround_200um_noclass/265_19.tif std= 4.848755442115095 too blank, skipping\n",
      "image /Users/kuiqian/BstemAtlasDataBackup/ucsd_brain/CSHL_patches/MD589/Pn_surround_200um_noclass/194_58.tif std= 3.2840272291042645 too blank, skipping\n",
      "image /Users/kuiqian/BstemAtlasDataBackup/ucsd_brain/CSHL_patches/MD589/Pn_surround_200um_noclass/222_326.tif std= 3.7705633980007938 too blank, skipping\n",
      "image /Users/kuiqian/BstemAtlasDataBackup/ucsd_brain/CSHL_patches/MD589/Pn_surround_200um_noclass/223_135.tif std= 3.655206740900842 too blank, skipping\n"
     ]
    },
    {
     "name": "stdout",
     "output_type": "stream",
     "text": [
      "image /Users/kuiqian/BstemAtlasDataBackup/ucsd_brain/CSHL_patches/MD589/Pn_surround_200um_noclass/274_157.tif std= 3.927563599192517 too blank, skipping\n",
      "image /Users/kuiqian/BstemAtlasDataBackup/ucsd_brain/CSHL_patches/MD589/Pn_surround_200um_noclass/201_249.tif std= 3.3770596135972144 too blank, skipping\n",
      "image /Users/kuiqian/BstemAtlasDataBackup/ucsd_brain/CSHL_patches/MD589/Pn_surround_200um_noclass/198_212.tif std= 3.097023231753502 too blank, skipping\n",
      "image /Users/kuiqian/BstemAtlasDataBackup/ucsd_brain/CSHL_patches/MD589/Pn_surround_200um_noclass/275_344.tif std= 3.212297977030437 too blank, skipping\n",
      "image /Users/kuiqian/BstemAtlasDataBackup/ucsd_brain/CSHL_patches/MD589/Pn_surround_200um_noclass/213_833.tif std= 8.388115905941293 too blank, skipping\n",
      "image /Users/kuiqian/BstemAtlasDataBackup/ucsd_brain/CSHL_patches/MD589/Pn_surround_200um_noclass/259_86.tif std= 3.3502870276747676 too blank, skipping\n",
      "image /Users/kuiqian/BstemAtlasDataBackup/ucsd_brain/CSHL_patches/MD589/Pn_surround_200um_noclass/188_206.tif std= 8.652171938268367 too blank, skipping\n",
      "image /Users/kuiqian/BstemAtlasDataBackup/ucsd_brain/CSHL_patches/MD589/Pn_surround_200um_noclass/280_630.tif std= 4.428048213350823 too blank, skipping\n",
      "image /Users/kuiqian/BstemAtlasDataBackup/ucsd_brain/CSHL_patches/MD589/Pn_surround_200um_noclass/198_574.tif std= 7.7349460322786925 too blank, skipping\n",
      "image /Users/kuiqian/BstemAtlasDataBackup/ucsd_brain/CSHL_patches/MD589/Pn_surround_200um_noclass/204_318.tif std= 4.254081645918911 too blank, skipping\n",
      "image /Users/kuiqian/BstemAtlasDataBackup/ucsd_brain/CSHL_patches/MD589/Pn_surround_200um_noclass/193_51.tif std= 2.867798145681323 too blank, skipping\n",
      "image /Users/kuiqian/BstemAtlasDataBackup/ucsd_brain/CSHL_patches/MD589/Pn_surround_200um_noclass/268_415.tif std= 8.890632245305227 too blank, skipping\n",
      "image /Users/kuiqian/BstemAtlasDataBackup/ucsd_brain/CSHL_patches/MD589/Pn_surround_200um_noclass/281_437.tif std= 4.24934066090565 too blank, skipping\n",
      "image /Users/kuiqian/BstemAtlasDataBackup/ucsd_brain/CSHL_patches/MD589/Pn_surround_200um_noclass/198_560.tif std= 8.542306502381965 too blank, skipping\n",
      "image /Users/kuiqian/BstemAtlasDataBackup/ucsd_brain/CSHL_patches/MD589/Pn_surround_200um_noclass/270_201.tif std= 6.035717377114097 too blank, skipping\n",
      "image /Users/kuiqian/BstemAtlasDataBackup/ucsd_brain/CSHL_patches/MD589/Pn_surround_200um_noclass/278_367.tif std= 4.574382347250575 too blank, skipping\n",
      "image /Users/kuiqian/BstemAtlasDataBackup/ucsd_brain/CSHL_patches/MD589/Pn_surround_200um_noclass/208_128.tif std= 4.301134667804463 too blank, skipping\n",
      "image /Users/kuiqian/BstemAtlasDataBackup/ucsd_brain/CSHL_patches/MD589/Pn_surround_200um_noclass/213_827.tif std= 9.928695794248414 too blank, skipping\n",
      "image /Users/kuiqian/BstemAtlasDataBackup/ucsd_brain/CSHL_patches/MD589/Pn_surround_200um_noclass/271_78.tif std= 3.157172074781652 too blank, skipping\n",
      "image /Users/kuiqian/BstemAtlasDataBackup/ucsd_brain/CSHL_patches/MD589/Pn_surround_200um_noclass/223_58.tif std= 4.4597990936047855 too blank, skipping\n",
      "image /Users/kuiqian/BstemAtlasDataBackup/ucsd_brain/CSHL_patches/MD589/Pn_surround_200um_noclass/185_225.tif std= 2.750165194785197 too blank, skipping\n",
      "image /Users/kuiqian/BstemAtlasDataBackup/ucsd_brain/CSHL_patches/MD589/Pn_surround_200um_noclass/282_292.tif std= 3.3988428383015665 too blank, skipping\n",
      "image /Users/kuiqian/BstemAtlasDataBackup/ucsd_brain/CSHL_patches/MD589/Pn_surround_200um_noclass/278_429.tif std= 8.710683383540534 too blank, skipping\n",
      "image /Users/kuiqian/BstemAtlasDataBackup/ucsd_brain/CSHL_patches/MD589/Pn_surround_200um_noclass/208_100.tif std= 4.048638861490038 too blank, skipping\n",
      "image /Users/kuiqian/BstemAtlasDataBackup/ucsd_brain/CSHL_patches/MD589/Pn_surround_200um_noclass/223_109.tif std= 3.7634525663669227 too blank, skipping\n",
      "image /Users/kuiqian/BstemAtlasDataBackup/ucsd_brain/CSHL_patches/MD589/Pn_surround_200um_noclass/269_148.tif std= 3.416868661796073 too blank, skipping\n",
      "image /Users/kuiqian/BstemAtlasDataBackup/ucsd_brain/CSHL_patches/MD589/Pn_surround_200um_noclass/253_346.tif std= 3.1757866918436215 too blank, skipping\n",
      "image /Users/kuiqian/BstemAtlasDataBackup/ucsd_brain/CSHL_patches/MD589/Pn_surround_200um_noclass/224_79.tif std= 4.092005721574964 too blank, skipping\n",
      "image /Users/kuiqian/BstemAtlasDataBackup/ucsd_brain/CSHL_patches/MD589/Pn_surround_200um_noclass/270_229.tif std= 3.6149685774094404 too blank, skipping\n",
      "image /Users/kuiqian/BstemAtlasDataBackup/ucsd_brain/CSHL_patches/MD589/Pn_surround_200um_noclass/246_203.tif std= 4.403759771654449 too blank, skipping\n",
      "image /Users/kuiqian/BstemAtlasDataBackup/ucsd_brain/CSHL_patches/MD589/Pn_surround_200um_noclass/250_291.tif std= 4.394273397577402 too blank, skipping\n",
      "image /Users/kuiqian/BstemAtlasDataBackup/ucsd_brain/CSHL_patches/MD589/Pn_surround_200um_noclass/279_4.tif std= 7.602552387584038 too blank, skipping\n",
      "image /Users/kuiqian/BstemAtlasDataBackup/ucsd_brain/CSHL_patches/MD589/Pn_surround_200um_noclass/205_123.tif std= 2.884754329846666 too blank, skipping\n",
      "image /Users/kuiqian/BstemAtlasDataBackup/ucsd_brain/CSHL_patches/MD589/Pn_surround_200um_noclass/223_64.tif std= 4.037772704811848 too blank, skipping\n",
      "image /Users/kuiqian/BstemAtlasDataBackup/ucsd_brain/CSHL_patches/MD589/Pn_surround_200um_noclass/256_203.tif std= 1.9010472491769548 too blank, skipping\n",
      "image /Users/kuiqian/BstemAtlasDataBackup/ucsd_brain/CSHL_patches/MD589/Pn_surround_200um_noclass/204_456.tif std= 4.18503598251476 too blank, skipping\n",
      "image /Users/kuiqian/BstemAtlasDataBackup/ucsd_brain/CSHL_patches/MD589/Pn_surround_200um_noclass/253_434.tif std= 3.6259146873979358 too blank, skipping\n",
      "image /Users/kuiqian/BstemAtlasDataBackup/ucsd_brain/CSHL_patches/MD589/Pn_surround_200um_noclass/215_137.tif std= 5.111510234106799 too blank, skipping\n",
      "image /Users/kuiqian/BstemAtlasDataBackup/ucsd_brain/CSHL_patches/MD589/Pn_surround_200um_noclass/214_324.tif std= 3.6699601687723598 too blank, skipping\n",
      "image /Users/kuiqian/BstemAtlasDataBackup/ucsd_brain/CSHL_patches/MD589/Pn_surround_200um_noclass/209_307.tif std= 3.1546718422839177 too blank, skipping\n",
      "image /Users/kuiqian/BstemAtlasDataBackup/ucsd_brain/CSHL_patches/MD589/Pn_surround_200um_noclass/267_241.tif std= 4.5766122996130525 too blank, skipping\n",
      "image /Users/kuiqian/BstemAtlasDataBackup/ucsd_brain/CSHL_patches/MD589/Pn_surround_200um_noclass/196_127.tif std= 4.225339881282733 too blank, skipping\n",
      "image /Users/kuiqian/BstemAtlasDataBackup/ucsd_brain/CSHL_patches/MD589/Pn_surround_200um_noclass/225_366.tif std= 4.007567333610361 too blank, skipping\n",
      "image /Users/kuiqian/BstemAtlasDataBackup/ucsd_brain/CSHL_patches/MD589/Pn_surround_200um_noclass/215_59.tif std= 3.8235058853908894 too blank, skipping\n",
      "image /Users/kuiqian/BstemAtlasDataBackup/ucsd_brain/CSHL_patches/MD589/Pn_surround_200um_noclass/206_209.tif std= 3.9120778831280845 too blank, skipping\n",
      "image /Users/kuiqian/BstemAtlasDataBackup/ucsd_brain/CSHL_patches/MD589/Pn_surround_200um_noclass/255_129.tif std= 5.125383972304285 too blank, skipping\n",
      "image /Users/kuiqian/BstemAtlasDataBackup/ucsd_brain/CSHL_patches/MD589/Pn_surround_200um_noclass/225_400.tif std= 4.107250449054802 too blank, skipping\n",
      "image /Users/kuiqian/BstemAtlasDataBackup/ucsd_brain/CSHL_patches/MD589/Pn_surround_200um_noclass/275_185.tif std= 3.674334182498107 too blank, skipping\n",
      "image /Users/kuiqian/BstemAtlasDataBackup/ucsd_brain/CSHL_patches/MD589/Pn_surround_200um_noclass/186_133.tif std= 5.677163449916239 too blank, skipping\n",
      "image /Users/kuiqian/BstemAtlasDataBackup/ucsd_brain/CSHL_patches/MD589/Pn_surround_200um_noclass/194_591.tif std= 3.449959466784965 too blank, skipping\n",
      "image /Users/kuiqian/BstemAtlasDataBackup/ucsd_brain/CSHL_patches/MD589/Pn_surround_200um_noclass/206_31.tif std= 3.7374212120995796 too blank, skipping\n",
      "image /Users/kuiqian/BstemAtlasDataBackup/ucsd_brain/CSHL_patches/MD589/Pn_surround_200um_noclass/263_117.tif std= 4.557095005845046 too blank, skipping\n",
      "image /Users/kuiqian/BstemAtlasDataBackup/ucsd_brain/CSHL_patches/MD589/Pn_surround_200um_noclass/286_477.tif std= 3.3647984458962363 too blank, skipping\n",
      "image /Users/kuiqian/BstemAtlasDataBackup/ucsd_brain/CSHL_patches/MD589/Pn_surround_200um_noclass/220_223.tif std= 5.529078430833121 too blank, skipping\n",
      "image /Users/kuiqian/BstemAtlasDataBackup/ucsd_brain/CSHL_patches/MD589/Pn_surround_200um_noclass/277_241.tif std= 3.114279800542781 too blank, skipping\n",
      "image /Users/kuiqian/BstemAtlasDataBackup/ucsd_brain/CSHL_patches/MD589/Pn_surround_200um_noclass/225_414.tif std= 4.158556151297776 too blank, skipping\n"
     ]
    },
    {
     "name": "stdout",
     "output_type": "stream",
     "text": [
      "image /Users/kuiqian/BstemAtlasDataBackup/ucsd_brain/CSHL_patches/MD589/Pn_surround_200um_noclass/224_161.tif std= 4.183316174407928 too blank, skipping\n",
      "image /Users/kuiqian/BstemAtlasDataBackup/ucsd_brain/CSHL_patches/MD589/Pn_surround_200um_noclass/248_678.tif std= 7.980768256665289 too blank, skipping\n",
      "image /Users/kuiqian/BstemAtlasDataBackup/ucsd_brain/CSHL_patches/MD589/Pn_surround_200um_noclass/272_310.tif std= 4.607903510481072 too blank, skipping\n",
      "image /Users/kuiqian/BstemAtlasDataBackup/ucsd_brain/CSHL_patches/MD589/Pn_surround_200um_noclass/245_129.tif std= 4.289849944446602 too blank, skipping\n",
      "image /Users/kuiqian/BstemAtlasDataBackup/ucsd_brain/CSHL_patches/MD589/Pn_surround_200um_noclass/213_358.tif std= 3.50775970398786 too blank, skipping\n",
      "image /Users/kuiqian/BstemAtlasDataBackup/ucsd_brain/CSHL_patches/MD589/Pn_surround_200um_noclass/290_397.tif std= 7.794004378149758 too blank, skipping\n",
      "image /Users/kuiqian/BstemAtlasDataBackup/ucsd_brain/CSHL_patches/MD589/Pn_surround_200um_noclass/265_185.tif std= 3.4535169262003413 too blank, skipping\n",
      "image /Users/kuiqian/BstemAtlasDataBackup/ucsd_brain/CSHL_patches/MD589/Pn_surround_200um_noclass/253_187.tif std= 3.1758689657297507 too blank, skipping\n",
      "image /Users/kuiqian/BstemAtlasDataBackup/ucsd_brain/CSHL_patches/MD589/Pn_surround_200um_noclass/275_9.tif std= 4.676227973467825 too blank, skipping\n",
      "image /Users/kuiqian/BstemAtlasDataBackup/ucsd_brain/CSHL_patches/MD589/Pn_surround_200um_noclass/206_235.tif std= 3.9172383225382603 too blank, skipping\n",
      "image /Users/kuiqian/BstemAtlasDataBackup/ucsd_brain/CSHL_patches/MD589/Pn_surround_200um_noclass/249_68.tif std= 3.9156922921050907 too blank, skipping\n",
      "image /Users/kuiqian/BstemAtlasDataBackup/ucsd_brain/CSHL_patches/MD589/Pn_surround_200um_noclass/197_308.tif std= 3.699003945471144 too blank, skipping\n",
      "image /Users/kuiqian/BstemAtlasDataBackup/ucsd_brain/CSHL_patches/MD589/Pn_surround_200um_noclass/212_163.tif std= 4.463785156480755 too blank, skipping\n",
      "image /Users/kuiqian/BstemAtlasDataBackup/ucsd_brain/CSHL_patches/MD589/Pn_surround_200um_noclass/259_457.tif std= 6.504324204161587 too blank, skipping\n",
      "image /Users/kuiqian/BstemAtlasDataBackup/ucsd_brain/CSHL_patches/MD589/Pn_surround_200um_noclass/192_259.tif std= 3.5808552654070582 too blank, skipping\n",
      "image /Users/kuiqian/BstemAtlasDataBackup/ucsd_brain/CSHL_patches/MD589/Pn_surround_200um_noclass/208_34.tif std= 6.421678497370583 too blank, skipping\n",
      "image /Users/kuiqian/BstemAtlasDataBackup/ucsd_brain/CSHL_patches/MD589/Pn_surround_200um_noclass/254_306.tif std= 1.905543531272186 too blank, skipping\n",
      "image /Users/kuiqian/BstemAtlasDataBackup/ucsd_brain/CSHL_patches/MD589/Pn_surround_200um_noclass/249_325.tif std= 3.3898119845842287 too blank, skipping\n",
      "image /Users/kuiqian/BstemAtlasDataBackup/ucsd_brain/CSHL_patches/MD589/Pn_surround_200um_noclass/248_136.tif std= 4.3575137809176345 too blank, skipping\n",
      "image /Users/kuiqian/BstemAtlasDataBackup/ucsd_brain/CSHL_patches/MD589/Pn_surround_200um_noclass/202_177.tif std= 3.054114004322379 too blank, skipping\n",
      "image /Users/kuiqian/BstemAtlasDataBackup/ucsd_brain/CSHL_patches/MD589/Pn_surround_200um_noclass/205_0.tif std= 3.2844677491229977 too blank, skipping\n",
      "image /Users/kuiqian/BstemAtlasDataBackup/ucsd_brain/CSHL_patches/MD589/Pn_surround_200um_noclass/255_101.tif std= 3.6507087859368546 too blank, skipping\n",
      "image /Users/kuiqian/BstemAtlasDataBackup/ucsd_brain/CSHL_patches/MD589/Pn_surround_200um_noclass/225_428.tif std= 4.120096100404881 too blank, skipping\n",
      "image /Users/kuiqian/BstemAtlasDataBackup/ucsd_brain/CSHL_patches/MD589/Pn_surround_200um_noclass/212_78.tif std= 3.9691851304368937 too blank, skipping\n",
      "image /Users/kuiqian/BstemAtlasDataBackup/ucsd_brain/CSHL_patches/MD589/Pn_surround_200um_noclass/213_402.tif std= 3.4412267667619134 too blank, skipping\n",
      "image /Users/kuiqian/BstemAtlasDataBackup/ucsd_brain/CSHL_patches/MD589/Pn_surround_200um_noclass/223_3.tif std= 4.555840071903547 too blank, skipping\n",
      "image /Users/kuiqian/BstemAtlasDataBackup/ucsd_brain/CSHL_patches/MD589/Pn_surround_200um_noclass/262_338.tif std= 3.2607809815310365 too blank, skipping\n",
      "image /Users/kuiqian/BstemAtlasDataBackup/ucsd_brain/CSHL_patches/MD589/Pn_surround_200um_noclass/208_20.tif std= 4.593820521040859 too blank, skipping\n",
      "image /Users/kuiqian/BstemAtlasDataBackup/ucsd_brain/CSHL_patches/MD589/Pn_surround_200um_noclass/251_243.tif std= 3.7175241856517105 too blank, skipping\n",
      "image /Users/kuiqian/BstemAtlasDataBackup/ucsd_brain/CSHL_patches/MD589/Pn_surround_200um_noclass/253_193.tif std= 2.9047802005849754 too blank, skipping\n",
      "image /Users/kuiqian/BstemAtlasDataBackup/ucsd_brain/CSHL_patches/MD589/Pn_surround_200um_noclass/252_380.tif std= 4.398921907241828 too blank, skipping\n",
      "image /Users/kuiqian/BstemAtlasDataBackup/ucsd_brain/CSHL_patches/MD589/Pn_surround_200um_noclass/253_24.tif std= 6.740334432227205 too blank, skipping\n",
      "image /Users/kuiqian/BstemAtlasDataBackup/ucsd_brain/CSHL_patches/MD589/Pn_surround_200um_noclass/266_3.tif std= 5.722628291647782 too blank, skipping\n",
      "image /Users/kuiqian/BstemAtlasDataBackup/ucsd_brain/CSHL_patches/MD589/Pn_surround_200um_noclass/180_189.tif std= 3.8253156684176832 too blank, skipping\n",
      "image /Users/kuiqian/BstemAtlasDataBackup/ucsd_brain/CSHL_patches/MD589/Pn_surround_200um_noclass/249_457.tif std= 8.380526930111111 too blank, skipping\n",
      "image /Users/kuiqian/BstemAtlasDataBackup/ucsd_brain/CSHL_patches/MD589/Pn_surround_200um_noclass/219_139.tif std= 1.5332003005445678 too blank, skipping\n",
      "image /Users/kuiqian/BstemAtlasDataBackup/ucsd_brain/CSHL_patches/MD589/Pn_surround_200um_noclass/248_877.tif std= 9.175089342864501 too blank, skipping\n",
      "image /Users/kuiqian/BstemAtlasDataBackup/ucsd_brain/CSHL_patches/MD589/Pn_surround_200um_noclass/267_282.tif std= 8.312534145480015 too blank, skipping\n",
      "image /Users/kuiqian/BstemAtlasDataBackup/ucsd_brain/CSHL_patches/MD589/Pn_surround_200um_noclass/265_152.tif std= 3.4145708652125775 too blank, skipping\n",
      "image /Users/kuiqian/BstemAtlasDataBackup/ucsd_brain/CSHL_patches/MD589/Pn_surround_200um_noclass/208_458.tif std= 5.562504717255898 too blank, skipping\n",
      "image /Users/kuiqian/BstemAtlasDataBackup/ucsd_brain/CSHL_patches/MD589/Pn_surround_200um_noclass/249_97.tif std= 3.8117992433181453 too blank, skipping\n",
      "image /Users/kuiqian/BstemAtlasDataBackup/ucsd_brain/CSHL_patches/MD589/Pn_surround_200um_noclass/220_21.tif std= 6.175251048876486 too blank, skipping\n",
      "image /Users/kuiqian/BstemAtlasDataBackup/ucsd_brain/CSHL_patches/MD589/Pn_surround_200um_noclass/199_217.tif std= 4.077346348668273 too blank, skipping\n",
      "image /Users/kuiqian/BstemAtlasDataBackup/ucsd_brain/CSHL_patches/MD589/Pn_surround_200um_noclass/275_152.tif std= 3.59178221029537 too blank, skipping\n",
      "image /Users/kuiqian/BstemAtlasDataBackup/ucsd_brain/CSHL_patches/MD589/Pn_surround_200um_noclass/269_362.tif std= 3.618402978671224 too blank, skipping\n",
      "image /Users/kuiqian/BstemAtlasDataBackup/ucsd_brain/CSHL_patches/MD589/Pn_surround_200um_noclass/274_341.tif std= 5.172271507377714 too blank, skipping\n",
      "image /Users/kuiqian/BstemAtlasDataBackup/ucsd_brain/CSHL_patches/MD589/Pn_surround_200um_noclass/223_323.tif std= 3.965997515857429 too blank, skipping\n",
      "image /Users/kuiqian/BstemAtlasDataBackup/ucsd_brain/CSHL_patches/MD589/Pn_surround_200um_noclass/190_162.tif std= 1.9950869221015566 too blank, skipping\n",
      "image /Users/kuiqian/BstemAtlasDataBackup/ucsd_brain/CSHL_patches/MD589/Pn_surround_200um_noclass/197_485.tif std= 4.0518215859692255 too blank, skipping\n",
      "image /Users/kuiqian/BstemAtlasDataBackup/ucsd_brain/CSHL_patches/MD589/Pn_surround_200um_noclass/212_188.tif std= 4.288358110461203 too blank, skipping\n",
      "image /Users/kuiqian/BstemAtlasDataBackup/ucsd_brain/CSHL_patches/MD589/Pn_surround_200um_noclass/220_35.tif std= 6.107384195307526 too blank, skipping\n",
      "image /Users/kuiqian/BstemAtlasDataBackup/ucsd_brain/CSHL_patches/MD589/Pn_surround_200um_noclass/197_21.tif std= 5.096095172026403 too blank, skipping\n",
      "image /Users/kuiqian/BstemAtlasDataBackup/ucsd_brain/CSHL_patches/MD589/Pn_surround_200um_noclass/269_404.tif std= 3.4538277965230937 too blank, skipping\n",
      "image /Users/kuiqian/BstemAtlasDataBackup/ucsd_brain/CSHL_patches/MD589/Pn_surround_200um_noclass/199_24.tif std= 5.290122942956928 too blank, skipping\n"
     ]
    },
    {
     "name": "stdout",
     "output_type": "stream",
     "text": [
      "image /Users/kuiqian/BstemAtlasDataBackup/ucsd_brain/CSHL_patches/MD589/Pn_surround_200um_noclass/219_105.tif std= 1.8185593405058311 too blank, skipping\n",
      "image /Users/kuiqian/BstemAtlasDataBackup/ucsd_brain/CSHL_patches/MD589/Pn_surround_200um_noclass/285_239.tif std= 7.391600036759392 too blank, skipping\n",
      "image /Users/kuiqian/BstemAtlasDataBackup/ucsd_brain/CSHL_patches/MD589/Pn_surround_200um_noclass/251_294.tif std= 8.633947687068282 too blank, skipping\n",
      "image /Users/kuiqian/BstemAtlasDataBackup/ucsd_brain/CSHL_patches/MD589/Pn_surround_200um_noclass/225_399.tif std= 4.306324201069833 too blank, skipping\n",
      "image /Users/kuiqian/BstemAtlasDataBackup/ucsd_brain/CSHL_patches/MD589/Pn_surround_200um_noclass/218_5.tif std= 3.747993916172491 too blank, skipping\n",
      "image /Users/kuiqian/BstemAtlasDataBackup/ucsd_brain/CSHL_patches/MD589/Pn_surround_200um_noclass/280_368.tif std= 4.068627693929785 too blank, skipping\n",
      "image /Users/kuiqian/BstemAtlasDataBackup/ucsd_brain/CSHL_patches/MD589/Pn_surround_200um_noclass/275_34.tif std= 7.583512010206029 too blank, skipping\n",
      "image /Users/kuiqian/BstemAtlasDataBackup/ucsd_brain/CSHL_patches/MD589/Pn_surround_200um_noclass/205_453.tif std= 2.80370920389646 too blank, skipping\n",
      "image /Users/kuiqian/BstemAtlasDataBackup/ucsd_brain/CSHL_patches/MD589/Pn_surround_200um_noclass/257_206.tif std= 3.335352627251962 too blank, skipping\n",
      "image /Users/kuiqian/BstemAtlasDataBackup/ucsd_brain/CSHL_patches/MD589/Pn_surround_200um_noclass/222_118.tif std= 3.8481236424357896 too blank, skipping\n",
      "image /Users/kuiqian/BstemAtlasDataBackup/ucsd_brain/CSHL_patches/MD589/Pn_surround_200um_noclass/215_321.tif std= 3.5448094361958957 too blank, skipping\n",
      "image /Users/kuiqian/BstemAtlasDataBackup/ucsd_brain/CSHL_patches/MD589/Pn_surround_200um_noclass/200_270.tif std= 4.126253186048695 too blank, skipping\n",
      "image /Users/kuiqian/BstemAtlasDataBackup/ucsd_brain/CSHL_patches/MD589/Pn_surround_200um_noclass/275_20.tif std= 4.473702329319461 too blank, skipping\n",
      "image /Users/kuiqian/BstemAtlasDataBackup/ucsd_brain/CSHL_patches/MD589/Pn_surround_200um_noclass/272_29.tif std= 5.133633192696655 too blank, skipping\n",
      "image /Users/kuiqian/BstemAtlasDataBackup/ucsd_brain/CSHL_patches/MD589/Pn_surround_200um_noclass/219_111.tif std= 1.5796321329260448 too blank, skipping\n",
      "image /Users/kuiqian/BstemAtlasDataBackup/ucsd_brain/CSHL_patches/MD589/Pn_surround_200um_noclass/252_343.tif std= 4.008646827284203 too blank, skipping\n",
      "image /Users/kuiqian/BstemAtlasDataBackup/ucsd_brain/CSHL_patches/MD589/Pn_surround_200um_noclass/264_369.tif std= 3.760013679707874 too blank, skipping\n",
      "image /Users/kuiqian/BstemAtlasDataBackup/ucsd_brain/CSHL_patches/MD589/Pn_surround_200um_noclass/247_92.tif std= 8.874050161406887 too blank, skipping\n",
      "image /Users/kuiqian/BstemAtlasDataBackup/ucsd_brain/CSHL_patches/MD589/Pn_surround_200um_noclass/210_264.tif std= 3.190845592660309 too blank, skipping\n",
      "image /Users/kuiqian/BstemAtlasDataBackup/ucsd_brain/CSHL_patches/MD589/Pn_surround_200um_noclass/275_21.tif std= 4.445055903588565 too blank, skipping\n",
      "image /Users/kuiqian/BstemAtlasDataBackup/ucsd_brain/CSHL_patches/MD589/Pn_surround_200um_noclass/200_271.tif std= 3.9315368694482884 too blank, skipping\n",
      "image /Users/kuiqian/BstemAtlasDataBackup/ucsd_brain/CSHL_patches/MD589/Pn_surround_200um_noclass/210_265.tif std= 3.1799003394046648 too blank, skipping\n",
      "image /Users/kuiqian/BstemAtlasDataBackup/ucsd_brain/CSHL_patches/MD589/Pn_surround_200um_noclass/247_93.tif std= 4.264881213022444 too blank, skipping\n",
      "image /Users/kuiqian/BstemAtlasDataBackup/ucsd_brain/CSHL_patches/MD589/Pn_surround_200um_noclass/264_368.tif std= 4.054877172313875 too blank, skipping\n",
      "image /Users/kuiqian/BstemAtlasDataBackup/ucsd_brain/CSHL_patches/MD589/Pn_surround_200um_noclass/252_342.tif std= 4.445189425897969 too blank, skipping\n",
      "image /Users/kuiqian/BstemAtlasDataBackup/ucsd_brain/CSHL_patches/MD589/Pn_surround_200um_noclass/219_110.tif std= 1.6049745455481714 too blank, skipping\n",
      "image /Users/kuiqian/BstemAtlasDataBackup/ucsd_brain/CSHL_patches/MD589/Pn_surround_200um_noclass/272_28.tif std= 5.223450666692199 too blank, skipping\n",
      "image /Users/kuiqian/BstemAtlasDataBackup/ucsd_brain/CSHL_patches/MD589/Pn_surround_200um_noclass/249_481.tif std= 3.811410043157344 too blank, skipping\n",
      "image /Users/kuiqian/BstemAtlasDataBackup/ucsd_brain/CSHL_patches/MD589/Pn_surround_200um_noclass/219_104.tif std= 3.3804147091431944 too blank, skipping\n",
      "image /Users/kuiqian/BstemAtlasDataBackup/ucsd_brain/CSHL_patches/MD589/Pn_surround_200um_noclass/205_334.tif std= 3.4657351647383248 too blank, skipping\n",
      "image /Users/kuiqian/BstemAtlasDataBackup/ucsd_brain/CSHL_patches/MD589/Pn_surround_200um_noclass/288_569.tif std= 5.7708806478923975 too blank, skipping\n",
      "image /Users/kuiqian/BstemAtlasDataBackup/ucsd_brain/CSHL_patches/MD589/Pn_surround_200um_noclass/194_209.tif std= 2.973270312498367 too blank, skipping\n",
      "image /Users/kuiqian/BstemAtlasDataBackup/ucsd_brain/CSHL_patches/MD589/Pn_surround_200um_noclass/199_25.tif std= 5.188569447967 too blank, skipping\n",
      "image /Users/kuiqian/BstemAtlasDataBackup/ucsd_brain/CSHL_patches/MD589/Pn_surround_200um_noclass/222_119.tif std= 3.847072352849786 too blank, skipping\n",
      "image /Users/kuiqian/BstemAtlasDataBackup/ucsd_brain/CSHL_patches/MD589/Pn_surround_200um_noclass/205_452.tif std= 4.023474407166754 too blank, skipping\n",
      "image /Users/kuiqian/BstemAtlasDataBackup/ucsd_brain/CSHL_patches/MD589/Pn_surround_200um_noclass/257_207.tif std= 3.351557311976002 too blank, skipping\n",
      "image /Users/kuiqian/BstemAtlasDataBackup/ucsd_brain/CSHL_patches/MD589/Pn_surround_200um_noclass/275_35.tif std= 7.175874709281952 too blank, skipping\n",
      "image /Users/kuiqian/BstemAtlasDataBackup/ucsd_brain/CSHL_patches/MD589/Pn_surround_200um_noclass/280_369.tif std= 3.97035248629801 too blank, skipping\n",
      "image /Users/kuiqian/BstemAtlasDataBackup/ucsd_brain/CSHL_patches/MD589/Pn_surround_200um_noclass/218_4.tif std= 3.710272925021612 too blank, skipping\n",
      "image /Users/kuiqian/BstemAtlasDataBackup/ucsd_brain/CSHL_patches/MD589/Pn_surround_200um_noclass/223_322.tif std= 3.8412159470060034 too blank, skipping\n",
      "image /Users/kuiqian/BstemAtlasDataBackup/ucsd_brain/CSHL_patches/MD589/Pn_surround_200um_noclass/275_153.tif std= 3.617927408233337 too blank, skipping\n",
      "image /Users/kuiqian/BstemAtlasDataBackup/ucsd_brain/CSHL_patches/MD589/Pn_surround_200um_noclass/199_216.tif std= 4.698523928588399 too blank, skipping\n",
      "image /Users/kuiqian/BstemAtlasDataBackup/ucsd_brain/CSHL_patches/MD589/Pn_surround_200um_noclass/268_616.tif std= 4.505337597746675 too blank, skipping\n",
      "image /Users/kuiqian/BstemAtlasDataBackup/ucsd_brain/CSHL_patches/MD589/Pn_surround_200um_noclass/269_405.tif std= 9.975133661789169 too blank, skipping\n",
      "image /Users/kuiqian/BstemAtlasDataBackup/ucsd_brain/CSHL_patches/MD589/Pn_surround_200um_noclass/280_427.tif std= 4.484855817697336 too blank, skipping\n",
      "image /Users/kuiqian/BstemAtlasDataBackup/ucsd_brain/CSHL_patches/MD589/Pn_surround_200um_noclass/220_34.tif std= 6.468109141758687 too blank, skipping\n",
      "image /Users/kuiqian/BstemAtlasDataBackup/ucsd_brain/CSHL_patches/MD589/Pn_surround_200um_noclass/197_20.tif std= 4.921834087112886 too blank, skipping\n",
      "image /Users/kuiqian/BstemAtlasDataBackup/ucsd_brain/CSHL_patches/MD589/Pn_surround_200um_noclass/265_147.tif std= 9.457361470096329 too blank, skipping\n",
      "image /Users/kuiqian/BstemAtlasDataBackup/ucsd_brain/CSHL_patches/MD589/Pn_surround_200um_noclass/212_189.tif std= 4.312430176445031 too blank, skipping\n",
      "image /Users/kuiqian/BstemAtlasDataBackup/ucsd_brain/CSHL_patches/MD589/Pn_surround_200um_noclass/279_377.tif std= 9.21083654161615 too blank, skipping\n",
      "image /Users/kuiqian/BstemAtlasDataBackup/ucsd_brain/CSHL_patches/MD589/Pn_surround_200um_noclass/249_96.tif std= 3.784491914468551 too blank, skipping\n",
      "image /Users/kuiqian/BstemAtlasDataBackup/ucsd_brain/CSHL_patches/MD589/Pn_surround_200um_noclass/220_20.tif std= 6.11725603570373 too blank, skipping\n",
      "image /Users/kuiqian/BstemAtlasDataBackup/ucsd_brain/CSHL_patches/MD589/Pn_surround_200um_noclass/208_459.tif std= 4.261391023548604 too blank, skipping\n",
      "image /Users/kuiqian/BstemAtlasDataBackup/ucsd_brain/CSHL_patches/MD589/Pn_surround_200um_noclass/265_153.tif std= 3.311039412308368 too blank, skipping\n",
      "image /Users/kuiqian/BstemAtlasDataBackup/ucsd_brain/CSHL_patches/MD589/Pn_surround_200um_noclass/267_283.tif std= 4.9320409250798845 too blank, skipping\n"
     ]
    },
    {
     "name": "stdout",
     "output_type": "stream",
     "text": [
      "image /Users/kuiqian/BstemAtlasDataBackup/ucsd_brain/CSHL_patches/MD589/Pn_surround_200um_noclass/219_138.tif std= 1.54177108045439 too blank, skipping\n",
      "image /Users/kuiqian/BstemAtlasDataBackup/ucsd_brain/CSHL_patches/MD589/Pn_surround_200um_noclass/223_2.tif std= 4.337188677157609 too blank, skipping\n",
      "image /Users/kuiqian/BstemAtlasDataBackup/ucsd_brain/CSHL_patches/MD589/Pn_surround_200um_noclass/262_339.tif std= 3.2177744365535514 too blank, skipping\n",
      "image /Users/kuiqian/BstemAtlasDataBackup/ucsd_brain/CSHL_patches/MD589/Pn_surround_200um_noclass/213_403.tif std= 3.1596941469658812 too blank, skipping\n",
      "image /Users/kuiqian/BstemAtlasDataBackup/ucsd_brain/CSHL_patches/MD589/Pn_surround_200um_noclass/212_79.tif std= 3.762929723983355 too blank, skipping\n",
      "image /Users/kuiqian/BstemAtlasDataBackup/ucsd_brain/CSHL_patches/MD589/Pn_surround_200um_noclass/187_309.tif std= 3.3891873580945195 too blank, skipping\n",
      "image /Users/kuiqian/BstemAtlasDataBackup/ucsd_brain/CSHL_patches/MD589/Pn_surround_200um_noclass/225_429.tif std= 4.021793452398956 too blank, skipping\n",
      "image /Users/kuiqian/BstemAtlasDataBackup/ucsd_brain/CSHL_patches/MD589/Pn_surround_200um_noclass/255_100.tif std= 3.662838333917859 too blank, skipping\n",
      "image /Users/kuiqian/BstemAtlasDataBackup/ucsd_brain/CSHL_patches/MD589/Pn_surround_200um_noclass/180_188.tif std= 4.377728859566545 too blank, skipping\n",
      "image /Users/kuiqian/BstemAtlasDataBackup/ucsd_brain/CSHL_patches/MD589/Pn_surround_200um_noclass/266_2.tif std= 6.778397118847886 too blank, skipping\n",
      "image /Users/kuiqian/BstemAtlasDataBackup/ucsd_brain/CSHL_patches/MD589/Pn_surround_200um_noclass/253_25.tif std= 6.870234438683353 too blank, skipping\n",
      "image /Users/kuiqian/BstemAtlasDataBackup/ucsd_brain/CSHL_patches/MD589/Pn_surround_200um_noclass/252_381.tif std= 4.243348532740473 too blank, skipping\n",
      "image /Users/kuiqian/BstemAtlasDataBackup/ucsd_brain/CSHL_patches/MD589/Pn_surround_200um_noclass/202_604.tif std= 3.5240615961919857 too blank, skipping\n",
      "image /Users/kuiqian/BstemAtlasDataBackup/ucsd_brain/CSHL_patches/MD589/Pn_surround_200um_noclass/253_192.tif std= 2.887277410551073 too blank, skipping\n",
      "image /Users/kuiqian/BstemAtlasDataBackup/ucsd_brain/CSHL_patches/MD589/Pn_surround_200um_noclass/251_242.tif std= 3.807598310580998 too blank, skipping\n",
      "image /Users/kuiqian/BstemAtlasDataBackup/ucsd_brain/CSHL_patches/MD589/Pn_surround_200um_noclass/212_162.tif std= 4.294366576709079 too blank, skipping\n",
      "image /Users/kuiqian/BstemAtlasDataBackup/ucsd_brain/CSHL_patches/MD589/Pn_surround_200um_noclass/201_11.tif std= 5.733093889061681 too blank, skipping\n",
      "image /Users/kuiqian/BstemAtlasDataBackup/ucsd_brain/CSHL_patches/MD589/Pn_surround_200um_noclass/197_309.tif std= 3.7637880551194822 too blank, skipping\n",
      "image /Users/kuiqian/BstemAtlasDataBackup/ucsd_brain/CSHL_patches/MD589/Pn_surround_200um_noclass/249_69.tif std= 3.846179712570493 too blank, skipping\n",
      "image /Users/kuiqian/BstemAtlasDataBackup/ucsd_brain/CSHL_patches/MD589/Pn_surround_200um_noclass/245_100.tif std= 4.567593247714244 too blank, skipping\n",
      "image /Users/kuiqian/BstemAtlasDataBackup/ucsd_brain/CSHL_patches/MD589/Pn_surround_200um_noclass/254_461.tif std= 2.1112586784870033 too blank, skipping\n",
      "image /Users/kuiqian/BstemAtlasDataBackup/ucsd_brain/CSHL_patches/MD589/Pn_surround_200um_noclass/206_234.tif std= 4.041894056740781 too blank, skipping\n",
      "image /Users/kuiqian/BstemAtlasDataBackup/ucsd_brain/CSHL_patches/MD589/Pn_surround_200um_noclass/252_395.tif std= 9.775228088837402 too blank, skipping\n",
      "image /Users/kuiqian/BstemAtlasDataBackup/ucsd_brain/CSHL_patches/MD589/Pn_surround_200um_noclass/275_8.tif std= 4.339368151815885 too blank, skipping\n",
      "image /Users/kuiqian/BstemAtlasDataBackup/ucsd_brain/CSHL_patches/MD589/Pn_surround_200um_noclass/253_186.tif std= 3.6501897769920832 too blank, skipping\n",
      "image /Users/kuiqian/BstemAtlasDataBackup/ucsd_brain/CSHL_patches/MD589/Pn_surround_200um_noclass/205_1.tif std= 3.442344648924838 too blank, skipping\n",
      "image /Users/kuiqian/BstemAtlasDataBackup/ucsd_brain/CSHL_patches/MD589/Pn_surround_200um_noclass/202_176.tif std= 3.325386800629321 too blank, skipping\n",
      "image /Users/kuiqian/BstemAtlasDataBackup/ucsd_brain/CSHL_patches/MD589/Pn_surround_200um_noclass/248_137.tif std= 4.454473813743726 too blank, skipping\n",
      "image /Users/kuiqian/BstemAtlasDataBackup/ucsd_brain/CSHL_patches/MD589/Pn_surround_200um_noclass/254_307.tif std= 1.8343008848001783 too blank, skipping\n",
      "image /Users/kuiqian/BstemAtlasDataBackup/ucsd_brain/CSHL_patches/MD589/Pn_surround_200um_noclass/249_324.tif std= 3.287260650287794 too blank, skipping\n",
      "image /Users/kuiqian/BstemAtlasDataBackup/ucsd_brain/CSHL_patches/MD589/Pn_surround_200um_noclass/208_35.tif std= 4.38756061330217 too blank, skipping\n",
      "image /Users/kuiqian/BstemAtlasDataBackup/ucsd_brain/CSHL_patches/MD589/Pn_surround_200um_noclass/192_258.tif std= 3.553572366974425 too blank, skipping\n",
      "image /Users/kuiqian/BstemAtlasDataBackup/ucsd_brain/CSHL_patches/MD589/Pn_surround_200um_noclass/213_417.tif std= 3.176225875975372 too blank, skipping\n",
      "image /Users/kuiqian/BstemAtlasDataBackup/ucsd_brain/CSHL_patches/MD589/Pn_surround_200um_noclass/206_18.tif std= 3.9270721638203145 too blank, skipping\n",
      "image /Users/kuiqian/BstemAtlasDataBackup/ucsd_brain/CSHL_patches/MD589/Pn_surround_200um_noclass/275_190.tif std= 3.7338165002615575 too blank, skipping\n",
      "image /Users/kuiqian/BstemAtlasDataBackup/ucsd_brain/CSHL_patches/MD589/Pn_surround_200um_noclass/277_240.tif std= 2.9542538027081533 too blank, skipping\n",
      "image /Users/kuiqian/BstemAtlasDataBackup/ucsd_brain/CSHL_patches/MD589/Pn_surround_200um_noclass/225_415.tif std= 3.9191877428624604 too blank, skipping\n",
      "image /Users/kuiqian/BstemAtlasDataBackup/ucsd_brain/CSHL_patches/MD589/Pn_surround_200um_noclass/286_476.tif std= 3.6169645119869527 too blank, skipping\n",
      "image /Users/kuiqian/BstemAtlasDataBackup/ucsd_brain/CSHL_patches/MD589/Pn_surround_200um_noclass/220_222.tif std= 5.660357087307329 too blank, skipping\n",
      "image /Users/kuiqian/BstemAtlasDataBackup/ucsd_brain/CSHL_patches/MD589/Pn_surround_200um_noclass/263_116.tif std= 4.553561764923119 too blank, skipping\n",
      "image /Users/kuiqian/BstemAtlasDataBackup/ucsd_brain/CSHL_patches/MD589/Pn_surround_200um_noclass/206_30.tif std= 4.073872908196831 too blank, skipping\n",
      "image /Users/kuiqian/BstemAtlasDataBackup/ucsd_brain/CSHL_patches/MD589/Pn_surround_200um_noclass/265_184.tif std= 3.4872735932396837 too blank, skipping\n",
      "image /Users/kuiqian/BstemAtlasDataBackup/ucsd_brain/CSHL_patches/MD589/Pn_surround_200um_noclass/213_359.tif std= 3.574554749992725 too blank, skipping\n",
      "image /Users/kuiqian/BstemAtlasDataBackup/ucsd_brain/CSHL_patches/MD589/Pn_surround_200um_noclass/245_128.tif std= 4.538197163611162 too blank, skipping\n",
      "image /Users/kuiqian/BstemAtlasDataBackup/ucsd_brain/CSHL_patches/MD589/Pn_surround_200um_noclass/273_102.tif std= 3.9295926256331493 too blank, skipping\n",
      "image /Users/kuiqian/BstemAtlasDataBackup/ucsd_brain/CSHL_patches/MD589/Pn_surround_200um_noclass/272_311.tif std= 4.399158966335238 too blank, skipping\n",
      "image /Users/kuiqian/BstemAtlasDataBackup/ucsd_brain/CSHL_patches/MD589/Pn_surround_200um_noclass/224_160.tif std= 4.179215360613683 too blank, skipping\n",
      "image /Users/kuiqian/BstemAtlasDataBackup/ucsd_brain/CSHL_patches/MD589/Pn_surround_200um_noclass/182_270.tif std= 2.949217884752531 too blank, skipping\n",
      "image /Users/kuiqian/BstemAtlasDataBackup/ucsd_brain/CSHL_patches/MD589/Pn_surround_200um_noclass/206_208.tif std= 4.018216962850352 too blank, skipping\n",
      "image /Users/kuiqian/BstemAtlasDataBackup/ucsd_brain/CSHL_patches/MD589/Pn_surround_200um_noclass/225_367.tif std= 3.701995293780885 too blank, skipping\n",
      "image /Users/kuiqian/BstemAtlasDataBackup/ucsd_brain/CSHL_patches/MD589/Pn_surround_200um_noclass/215_58.tif std= 3.6281726470096913 too blank, skipping\n",
      "image /Users/kuiqian/BstemAtlasDataBackup/ucsd_brain/CSHL_patches/MD589/Pn_surround_200um_noclass/196_126.tif std= 4.448833257426979 too blank, skipping\n",
      "image /Users/kuiqian/BstemAtlasDataBackup/ucsd_brain/CSHL_patches/MD589/Pn_surround_200um_noclass/267_240.tif std= 4.529944468268877 too blank, skipping\n",
      "image /Users/kuiqian/BstemAtlasDataBackup/ucsd_brain/CSHL_patches/MD589/Pn_surround_200um_noclass/288_596.tif std= 7.430260310552262 too blank, skipping\n"
     ]
    },
    {
     "name": "stdout",
     "output_type": "stream",
     "text": [
      "image /Users/kuiqian/BstemAtlasDataBackup/ucsd_brain/CSHL_patches/MD589/Pn_surround_200um_noclass/194_590.tif std= 8.897794550126324 too blank, skipping\n",
      "image /Users/kuiqian/BstemAtlasDataBackup/ucsd_brain/CSHL_patches/MD589/Pn_surround_200um_noclass/224_612.tif std= 4.45400860869683 too blank, skipping\n",
      "image /Users/kuiqian/BstemAtlasDataBackup/ucsd_brain/CSHL_patches/MD589/Pn_surround_200um_noclass/275_184.tif std= 4.977288386771008 too blank, skipping\n",
      "image /Users/kuiqian/BstemAtlasDataBackup/ucsd_brain/CSHL_patches/MD589/Pn_surround_200um_noclass/225_401.tif std= 4.0345575317046185 too blank, skipping\n",
      "image /Users/kuiqian/BstemAtlasDataBackup/ucsd_brain/CSHL_patches/MD589/Pn_surround_200um_noclass/272_463.tif std= 4.820393652482859 too blank, skipping\n",
      "image /Users/kuiqian/BstemAtlasDataBackup/ucsd_brain/CSHL_patches/MD589/Pn_surround_200um_noclass/205_122.tif std= 2.9120676869661932 too blank, skipping\n",
      "image /Users/kuiqian/BstemAtlasDataBackup/ucsd_brain/CSHL_patches/MD589/Pn_surround_200um_noclass/279_5.tif std= 4.331789887469591 too blank, skipping\n",
      "image /Users/kuiqian/BstemAtlasDataBackup/ucsd_brain/CSHL_patches/MD589/Pn_surround_200um_noclass/250_290.tif std= 4.3757821967237245 too blank, skipping\n",
      "image /Users/kuiqian/BstemAtlasDataBackup/ucsd_brain/CSHL_patches/MD589/Pn_surround_200um_noclass/257_82.tif std= 3.1593470426100483 too blank, skipping\n",
      "image /Users/kuiqian/BstemAtlasDataBackup/ucsd_brain/CSHL_patches/MD589/Pn_surround_200um_noclass/214_325.tif std= 3.7504689624700056 too blank, skipping\n",
      "image /Users/kuiqian/BstemAtlasDataBackup/ucsd_brain/CSHL_patches/MD589/Pn_surround_200um_noclass/215_136.tif std= 5.289090930129913 too blank, skipping\n",
      "image /Users/kuiqian/BstemAtlasDataBackup/ucsd_brain/CSHL_patches/MD589/Pn_surround_200um_noclass/253_435.tif std= 3.443909839470115 too blank, skipping\n",
      "image /Users/kuiqian/BstemAtlasDataBackup/ucsd_brain/CSHL_patches/MD589/Pn_surround_200um_noclass/256_202.tif std= 1.886049905693661 too blank, skipping\n",
      "image /Users/kuiqian/BstemAtlasDataBackup/ucsd_brain/CSHL_patches/MD589/Pn_surround_200um_noclass/223_65.tif std= 4.011901993189308 too blank, skipping\n",
      "image /Users/kuiqian/BstemAtlasDataBackup/ucsd_brain/CSHL_patches/MD589/Pn_surround_200um_noclass/281_378.tif std= 3.4467757752344874 too blank, skipping\n",
      "image /Users/kuiqian/BstemAtlasDataBackup/ucsd_brain/CSHL_patches/MD589/Pn_surround_200um_noclass/269_149.tif std= 3.5414838456711815 too blank, skipping\n",
      "image /Users/kuiqian/BstemAtlasDataBackup/ucsd_brain/CSHL_patches/MD589/Pn_surround_200um_noclass/223_108.tif std= 3.745942528475997 too blank, skipping\n",
      "image /Users/kuiqian/BstemAtlasDataBackup/ucsd_brain/CSHL_patches/MD589/Pn_surround_200um_noclass/208_101.tif std= 4.143231529973049 too blank, skipping\n",
      "image /Users/kuiqian/BstemAtlasDataBackup/ucsd_brain/CSHL_patches/MD589/Pn_surround_200um_noclass/246_202.tif std= 7.736618416228213 too blank, skipping\n",
      "image /Users/kuiqian/BstemAtlasDataBackup/ucsd_brain/CSHL_patches/MD589/Pn_surround_200um_noclass/270_228.tif std= 3.5703606425756496 too blank, skipping\n",
      "image /Users/kuiqian/BstemAtlasDataBackup/ucsd_brain/CSHL_patches/MD589/Pn_surround_200um_noclass/224_78.tif std= 7.9263783455112575 too blank, skipping\n",
      "image /Users/kuiqian/BstemAtlasDataBackup/ucsd_brain/CSHL_patches/MD589/Pn_surround_200um_noclass/252_154.tif std= 3.954643541883689 too blank, skipping\n",
      "image /Users/kuiqian/BstemAtlasDataBackup/ucsd_brain/CSHL_patches/MD589/Pn_surround_200um_noclass/266_286.tif std= 4.6949210399057995 too blank, skipping\n",
      "image /Users/kuiqian/BstemAtlasDataBackup/ucsd_brain/CSHL_patches/MD589/Pn_surround_200um_noclass/213_198.tif std= 3.6151954423829427 too blank, skipping\n",
      "image /Users/kuiqian/BstemAtlasDataBackup/ucsd_brain/CSHL_patches/MD589/Pn_surround_200um_noclass/278_366.tif std= 4.635983481000458 too blank, skipping\n",
      "image /Users/kuiqian/BstemAtlasDataBackup/ucsd_brain/CSHL_patches/MD589/Pn_surround_200um_noclass/200_729.tif std= 9.916293332812893 too blank, skipping\n",
      "image /Users/kuiqian/BstemAtlasDataBackup/ucsd_brain/CSHL_patches/MD589/Pn_surround_200um_noclass/268_414.tif std= 4.3693486834717605 too blank, skipping\n",
      "image /Users/kuiqian/BstemAtlasDataBackup/ucsd_brain/CSHL_patches/MD589/Pn_surround_200um_noclass/281_436.tif std= 4.20049838259318 too blank, skipping\n",
      "image /Users/kuiqian/BstemAtlasDataBackup/ucsd_brain/CSHL_patches/MD589/Pn_surround_200um_noclass/185_224.tif std= 5.222705861889558 too blank, skipping\n",
      "image /Users/kuiqian/BstemAtlasDataBackup/ucsd_brain/CSHL_patches/MD589/Pn_surround_200um_noclass/282_293.tif std= 3.4029776785244565 too blank, skipping\n",
      "image /Users/kuiqian/BstemAtlasDataBackup/ucsd_brain/CSHL_patches/MD589/Pn_surround_200um_noclass/223_59.tif std= 4.736628896004015 too blank, skipping\n",
      "image /Users/kuiqian/BstemAtlasDataBackup/ucsd_brain/CSHL_patches/MD589/Pn_surround_200um_noclass/190_361.tif std= 1.9735633617114896 too blank, skipping\n",
      "image /Users/kuiqian/BstemAtlasDataBackup/ucsd_brain/CSHL_patches/MD589/Pn_surround_200um_noclass/208_129.tif std= 4.2658928682791535 too blank, skipping\n",
      "image /Users/kuiqian/BstemAtlasDataBackup/ucsd_brain/CSHL_patches/MD589/Pn_surround_200um_noclass/213_832.tif std= 7.679940753644584 too blank, skipping\n",
      "image /Users/kuiqian/BstemAtlasDataBackup/ucsd_brain/CSHL_patches/MD589/Pn_surround_200um_noclass/279_607.tif std= 4.170008723573494 too blank, skipping\n",
      "image /Users/kuiqian/BstemAtlasDataBackup/ucsd_brain/CSHL_patches/MD589/Pn_surround_200um_noclass/275_345.tif std= 3.1882985806420843 too blank, skipping\n",
      "image /Users/kuiqian/BstemAtlasDataBackup/ucsd_brain/CSHL_patches/MD589/Pn_surround_200um_noclass/198_213.tif std= 3.0365963293765117 too blank, skipping\n",
      "image /Users/kuiqian/BstemAtlasDataBackup/ucsd_brain/CSHL_patches/MD589/Pn_surround_200um_noclass/201_248.tif std= 3.148744505550218 too blank, skipping\n",
      "image /Users/kuiqian/BstemAtlasDataBackup/ucsd_brain/CSHL_patches/MD589/Pn_surround_200um_noclass/274_156.tif std= 3.9890891312780075 too blank, skipping\n",
      "image /Users/kuiqian/BstemAtlasDataBackup/ucsd_brain/CSHL_patches/MD589/Pn_surround_200um_noclass/223_134.tif std= 3.657207484078736 too blank, skipping\n",
      "image /Users/kuiqian/BstemAtlasDataBackup/ucsd_brain/CSHL_patches/MD589/Pn_surround_200um_noclass/194_59.tif std= 2.632740290276487 too blank, skipping\n",
      "image /Users/kuiqian/BstemAtlasDataBackup/ucsd_brain/CSHL_patches/MD589/Pn_surround_200um_noclass/265_18.tif std= 4.507720815242485 too blank, skipping\n",
      "image /Users/kuiqian/BstemAtlasDataBackup/ucsd_brain/CSHL_patches/MD589/Pn_surround_200um_noclass/284_573.tif std= 8.206969400603086 too blank, skipping\n",
      "image /Users/kuiqian/BstemAtlasDataBackup/ucsd_brain/CSHL_patches/MD589/Pn_surround_200um_noclass/222_327.tif std= 3.715628539067541 too blank, skipping\n",
      "image /Users/kuiqian/BstemAtlasDataBackup/ucsd_brain/CSHL_patches/MD589/Pn_surround_200um_noclass/224_44.tif std= 4.3413701845201516 too blank, skipping\n",
      "image /Users/kuiqian/BstemAtlasDataBackup/ucsd_brain/CSHL_patches/MD589/Pn_surround_200um_noclass/204_319.tif std= 4.094806861902996 too blank, skipping\n",
      "image /Users/kuiqian/BstemAtlasDataBackup/ucsd_brain/CSHL_patches/MD589/Pn_surround_200um_noclass/198_575.tif std= 8.541244902359031 too blank, skipping\n",
      "image /Users/kuiqian/BstemAtlasDataBackup/ucsd_brain/CSHL_patches/MD589/Pn_surround_200um_noclass/280_94.tif std= 6.208603987414177 too blank, skipping\n",
      "image /Users/kuiqian/BstemAtlasDataBackup/ucsd_brain/CSHL_patches/MD589/Pn_surround_200um_noclass/195_224.tif std= 3.616679532534245 too blank, skipping\n",
      "image /Users/kuiqian/BstemAtlasDataBackup/ucsd_brain/CSHL_patches/MD589/Pn_surround_200um_noclass/259_87.tif std= 3.304271922811083 too blank, skipping\n",
      "image /Users/kuiqian/BstemAtlasDataBackup/ucsd_brain/CSHL_patches/MD589/Pn_surround_200um_noclass/258_335.tif std= 2.742926822107231 too blank, skipping\n",
      "image /Users/kuiqian/BstemAtlasDataBackup/ucsd_brain/CSHL_patches/MD589/Pn_surround_200um_noclass/213_167.tif std= 3.610837498332602 too blank, skipping\n",
      "image /Users/kuiqian/BstemAtlasDataBackup/ucsd_brain/CSHL_patches/MD589/Pn_surround_200um_noclass/211_14.tif std= 3.4816002829633796 too blank, skipping\n",
      "image /Users/kuiqian/BstemAtlasDataBackup/ucsd_brain/CSHL_patches/MD589/Pn_surround_200um_noclass/202_406.tif std= 6.853211323915319 too blank, skipping\n",
      "image /Users/kuiqian/BstemAtlasDataBackup/ucsd_brain/CSHL_patches/MD589/Pn_surround_200um_noclass/252_183.tif std= 3.831323060698944 too blank, skipping\n"
     ]
    },
    {
     "name": "stdout",
     "output_type": "stream",
     "text": [
      "image /Users/kuiqian/BstemAtlasDataBackup/ucsd_brain/CSHL_patches/MD589/Pn_surround_200um_noclass/207_231.tif std= 5.605226160972285 too blank, skipping\n",
      "image /Users/kuiqian/BstemAtlasDataBackup/ucsd_brain/CSHL_patches/MD589/Pn_surround_200um_noclass/255_464.tif std= 3.684713080708015 too blank, skipping\n",
      "image /Users/kuiqian/BstemAtlasDataBackup/ucsd_brain/CSHL_patches/MD589/Pn_surround_200um_noclass/202_68.tif std= 3.0989540554641577 too blank, skipping\n",
      "image /Users/kuiqian/BstemAtlasDataBackup/ucsd_brain/CSHL_patches/MD589/Pn_surround_200um_noclass/218_30.tif std= 4.894705179960683 too blank, skipping\n",
      "image /Users/kuiqian/BstemAtlasDataBackup/ucsd_brain/CSHL_patches/MD589/Pn_surround_200um_noclass/218_24.tif std= 4.21325430821979 too blank, skipping\n",
      "image /Users/kuiqian/BstemAtlasDataBackup/ucsd_brain/CSHL_patches/MD589/Pn_surround_200um_noclass/217_231.tif std= 3.2157701362174156 too blank, skipping\n",
      "image /Users/kuiqian/BstemAtlasDataBackup/ucsd_brain/CSHL_patches/MD589/Pn_surround_200um_noclass/249_126.tif std= 3.739014744086589 too blank, skipping\n",
      "image /Users/kuiqian/BstemAtlasDataBackup/ucsd_brain/CSHL_patches/MD589/Pn_surround_200um_noclass/248_335.tif std= 3.813892293819709 too blank, skipping\n",
      "image /Users/kuiqian/BstemAtlasDataBackup/ucsd_brain/CSHL_patches/MD589/Pn_surround_200um_noclass/250_521.tif std= 6.193355911912515 too blank, skipping\n",
      "image /Users/kuiqian/BstemAtlasDataBackup/ucsd_brain/CSHL_patches/MD589/Pn_surround_200um_noclass/207_3.tif std= 4.506526638770457 too blank, skipping\n",
      "image /Users/kuiqian/BstemAtlasDataBackup/ucsd_brain/CSHL_patches/MD589/Pn_surround_200um_noclass/225_159.tif std= 3.952053172471405 too blank, skipping\n",
      "image /Users/kuiqian/BstemAtlasDataBackup/ucsd_brain/CSHL_patches/MD589/Pn_surround_200um_noclass/257_55.tif std= 4.005997931979699 too blank, skipping\n",
      "image /Users/kuiqian/BstemAtlasDataBackup/ucsd_brain/CSHL_patches/MD589/Pn_surround_200um_noclass/224_362.tif std= 3.991675202596497 too blank, skipping\n",
      "image /Users/kuiqian/BstemAtlasDataBackup/ucsd_brain/CSHL_patches/MD589/Pn_surround_200um_noclass/203_629.tif std= 8.739190150062063 too blank, skipping\n",
      "image /Users/kuiqian/BstemAtlasDataBackup/ucsd_brain/CSHL_patches/MD589/Pn_surround_200um_noclass/258_309.tif std= 3.614485218846578 too blank, skipping\n",
      "image /Users/kuiqian/BstemAtlasDataBackup/ucsd_brain/CSHL_patches/MD589/Pn_surround_200um_noclass/196_456.tif std= 9.532025746537073 too blank, skipping\n",
      "image /Users/kuiqian/BstemAtlasDataBackup/ucsd_brain/CSHL_patches/MD589/Pn_surround_200um_noclass/263_314.tif std= 4.22941656024883 too blank, skipping\n",
      "image /Users/kuiqian/BstemAtlasDataBackup/ucsd_brain/CSHL_patches/MD589/Pn_surround_200um_noclass/275_392.tif std= 3.563724303127381 too blank, skipping\n",
      "image /Users/kuiqian/BstemAtlasDataBackup/ucsd_brain/CSHL_patches/MD589/Pn_surround_200um_noclass/276_251.tif std= 3.538141639977269 too blank, skipping\n",
      "image /Users/kuiqian/BstemAtlasDataBackup/ucsd_brain/CSHL_patches/MD589/Pn_surround_200um_noclass/224_404.tif std= 3.4550241386646636 too blank, skipping\n",
      "image /Users/kuiqian/BstemAtlasDataBackup/ucsd_brain/CSHL_patches/MD589/Pn_surround_200um_noclass/195_581.tif std= 4.533477421308948 too blank, skipping\n",
      "image /Users/kuiqian/BstemAtlasDataBackup/ucsd_brain/CSHL_patches/MD589/Pn_surround_200um_noclass/216_35.tif std= 3.6193341647877495 too blank, skipping\n",
      "image /Users/kuiqian/BstemAtlasDataBackup/ucsd_brain/CSHL_patches/MD589/Pn_surround_200um_noclass/218_18.tif std= 4.38234843150412 too blank, skipping\n",
      "image /Users/kuiqian/BstemAtlasDataBackup/ucsd_brain/CSHL_patches/MD589/Pn_surround_200um_noclass/264_181.tif std= 4.0493136915377885 too blank, skipping\n",
      "image /Users/kuiqian/BstemAtlasDataBackup/ucsd_brain/CSHL_patches/MD589/Pn_surround_200um_noclass/265_392.tif std= 9.770896681994612 too blank, skipping\n",
      "image /Users/kuiqian/BstemAtlasDataBackup/ucsd_brain/CSHL_patches/MD589/Pn_surround_200um_noclass/205_49.tif std= 2.4987764146973306 too blank, skipping\n",
      "image /Users/kuiqian/BstemAtlasDataBackup/ucsd_brain/CSHL_patches/MD589/Pn_surround_200um_noclass/269_18.tif std= 4.953521541914442 too blank, skipping\n",
      "image /Users/kuiqian/BstemAtlasDataBackup/ucsd_brain/CSHL_patches/MD589/Pn_surround_200um_noclass/196_74.tif std= 3.370621010818349 too blank, skipping\n",
      "image /Users/kuiqian/BstemAtlasDataBackup/ucsd_brain/CSHL_patches/MD589/Pn_surround_200um_noclass/214_251.tif std= 3.7104900957033116 too blank, skipping\n",
      "image /Users/kuiqian/BstemAtlasDataBackup/ucsd_brain/CSHL_patches/MD589/Pn_surround_200um_noclass/251_691.tif std= 4.754599226473837 too blank, skipping\n",
      "image /Users/kuiqian/BstemAtlasDataBackup/ucsd_brain/CSHL_patches/MD589/Pn_surround_200um_noclass/257_171.tif std= 3.697755497178073 too blank, skipping\n",
      "image /Users/kuiqian/BstemAtlasDataBackup/ucsd_brain/CSHL_patches/MD589/Pn_surround_200um_noclass/250_496.tif std= 4.055025308579124 too blank, skipping\n",
      "image /Users/kuiqian/BstemAtlasDataBackup/ucsd_brain/CSHL_patches/MD589/Pn_surround_200um_noclass/200_113.tif std= 4.179263358374667 too blank, skipping\n",
      "image /Users/kuiqian/BstemAtlasDataBackup/ucsd_brain/CSHL_patches/MD589/Pn_surround_200um_noclass/211_472.tif std= 3.9236218645115613 too blank, skipping\n",
      "image /Users/kuiqian/BstemAtlasDataBackup/ucsd_brain/CSHL_patches/MD589/Pn_surround_200um_noclass/260_348.tif std= 3.9447883396038836 too blank, skipping\n",
      "image /Users/kuiqian/BstemAtlasDataBackup/ucsd_brain/CSHL_patches/MD589/Pn_surround_200um_noclass/246_410.tif std= 7.144683128380749 too blank, skipping\n",
      "image /Users/kuiqian/BstemAtlasDataBackup/ucsd_brain/CSHL_patches/MD589/Pn_surround_200um_noclass/209_266.tif std= 3.3975529835005682 too blank, skipping\n",
      "image /Users/kuiqian/BstemAtlasDataBackup/ucsd_brain/CSHL_patches/MD589/Pn_surround_200um_noclass/211_314.tif std= 7.519430236189091 too blank, skipping\n",
      "image /Users/kuiqian/BstemAtlasDataBackup/ucsd_brain/CSHL_patches/MD589/Pn_surround_200um_noclass/256_404.tif std= 7.953158337435565 too blank, skipping\n",
      "image /Users/kuiqian/BstemAtlasDataBackup/ucsd_brain/CSHL_patches/MD589/Pn_surround_200um_noclass/219_272.tif std= 1.4603717111097096 too blank, skipping\n",
      "image /Users/kuiqian/BstemAtlasDataBackup/ucsd_brain/CSHL_patches/MD589/Pn_surround_200um_noclass/180_229.tif std= 3.8711211055770227 too blank, skipping\n",
      "image /Users/kuiqian/BstemAtlasDataBackup/ucsd_brain/CSHL_patches/MD589/Pn_surround_200um_noclass/206_181.tif std= 4.0157479299164365 too blank, skipping\n",
      "image /Users/kuiqian/BstemAtlasDataBackup/ucsd_brain/CSHL_patches/MD589/Pn_surround_200um_noclass/260_406.tif std= 3.822716500360949 too blank, skipping\n",
      "image /Users/kuiqian/BstemAtlasDataBackup/ucsd_brain/CSHL_patches/MD589/Pn_surround_200um_noclass/196_287.tif std= 3.833624183444607 too blank, skipping\n",
      "image /Users/kuiqian/BstemAtlasDataBackup/ucsd_brain/CSHL_patches/MD589/Pn_surround_200um_noclass/271_167.tif std= 3.140430656668912 too blank, skipping\n",
      "image /Users/kuiqian/BstemAtlasDataBackup/ucsd_brain/CSHL_patches/MD589/Pn_surround_200um_noclass/204_279.tif std= 4.029190942164139 too blank, skipping\n",
      "image /Users/kuiqian/BstemAtlasDataBackup/ucsd_brain/CSHL_patches/MD589/Pn_surround_200um_noclass/284_375.tif std= 4.657123324840722 too blank, skipping\n",
      "image /Users/kuiqian/BstemAtlasDataBackup/ucsd_brain/CSHL_patches/MD589/Pn_surround_200um_noclass/284_413.tif std= 4.703904880960655 too blank, skipping\n",
      "image /Users/kuiqian/BstemAtlasDataBackup/ucsd_brain/CSHL_patches/MD589/Pn_surround_200um_noclass/222_247.tif std= 3.627497732728674 too blank, skipping\n",
      "image /Users/kuiqian/BstemAtlasDataBackup/ucsd_brain/CSHL_patches/MD589/Pn_surround_200um_noclass/220_197.tif std= 5.669552739302599 too blank, skipping\n",
      "image /Users/kuiqian/BstemAtlasDataBackup/ucsd_brain/CSHL_patches/MD589/Pn_surround_200um_noclass/281_224.tif std= 2.9817645682322738 too blank, skipping\n",
      "image /Users/kuiqian/BstemAtlasDataBackup/ucsd_brain/CSHL_patches/MD589/Pn_surround_200um_noclass/188_401.tif std= 5.965821891455849 too blank, skipping\n",
      "image /Users/kuiqian/BstemAtlasDataBackup/ucsd_brain/CSHL_patches/MD589/Pn_surround_200um_noclass/260_14.tif std= 4.10208760410211 too blank, skipping\n",
      "image /Users/kuiqian/BstemAtlasDataBackup/ucsd_brain/CSHL_patches/MD589/Pn_surround_200um_noclass/214_279.tif std= 3.478552275637634 too blank, skipping\n",
      "image /Users/kuiqian/BstemAtlasDataBackup/ucsd_brain/CSHL_patches/MD589/Pn_surround_200um_noclass/190_201.tif std= 5.49845761418588 too blank, skipping\n",
      "image /Users/kuiqian/BstemAtlasDataBackup/ucsd_brain/CSHL_patches/MD589/Pn_surround_200um_noclass/270_406.tif std= 3.5485716787543686 too blank, skipping\n"
     ]
    },
    {
     "name": "stdout",
     "output_type": "stream",
     "text": [
      "image /Users/kuiqian/BstemAtlasDataBackup/ucsd_brain/CSHL_patches/MD589/Pn_surround_200um_noclass/268_212.tif std= 5.208611168715543 too blank, skipping\n",
      "image /Users/kuiqian/BstemAtlasDataBackup/ucsd_brain/CSHL_patches/MD589/Pn_surround_200um_noclass/273_68.tif std= 9.945432058214125 too blank, skipping\n",
      "image /Users/kuiqian/BstemAtlasDataBackup/ucsd_brain/CSHL_patches/MD589/Pn_surround_200um_noclass/185_422.tif std= 3.9363691752988097 too blank, skipping\n",
      "image /Users/kuiqian/BstemAtlasDataBackup/ucsd_brain/CSHL_patches/MD589/Pn_surround_200um_noclass/270_360.tif std= 3.233178831724429 too blank, skipping\n",
      "image /Users/kuiqian/BstemAtlasDataBackup/ucsd_brain/CSHL_patches/MD589/Pn_surround_200um_noclass/245_289.tif std= 4.284922197165252 too blank, skipping\n",
      "image /Users/kuiqian/BstemAtlasDataBackup/ucsd_brain/CSHL_patches/MD589/Pn_surround_200um_noclass/247_159.tif std= 3.753182025210368 too blank, skipping\n",
      "image /Users/kuiqian/BstemAtlasDataBackup/ucsd_brain/CSHL_patches/MD589/Pn_surround_200um_noclass/278_206.tif std= 4.268914627204972 too blank, skipping\n",
      "image /Users/kuiqian/BstemAtlasDataBackup/ucsd_brain/CSHL_patches/MD589/Pn_surround_200um_noclass/258_241.tif std= 2.6870332508800567 too blank, skipping\n",
      "image /Users/kuiqian/BstemAtlasDataBackup/ucsd_brain/CSHL_patches/MD589/Pn_surround_200um_noclass/271_198.tif std= 3.0691907560011478 too blank, skipping\n",
      "image /Users/kuiqian/BstemAtlasDataBackup/ucsd_brain/CSHL_patches/MD589/Pn_surround_200um_noclass/206_156.tif std= 3.663233828988113 too blank, skipping\n",
      "image /Users/kuiqian/BstemAtlasDataBackup/ucsd_brain/CSHL_patches/MD589/Pn_surround_200um_noclass/214_18.tif std= 4.594687601772728 too blank, skipping\n",
      "image /Users/kuiqian/BstemAtlasDataBackup/ucsd_brain/CSHL_patches/MD589/Pn_surround_200um_noclass/220_168.tif std= 5.792794767203982 too blank, skipping\n",
      "image /Users/kuiqian/BstemAtlasDataBackup/ucsd_brain/CSHL_patches/MD589/Pn_surround_200um_noclass/207_423.tif std= 3.9033124879719523 too blank, skipping\n",
      "image /Users/kuiqian/BstemAtlasDataBackup/ucsd_brain/CSHL_patches/MD589/Pn_surround_200um_noclass/213_11.tif std= 4.079793669726179 too blank, skipping\n",
      "image /Users/kuiqian/BstemAtlasDataBackup/ucsd_brain/CSHL_patches/MD589/Pn_surround_200um_noclass/207_70.tif std= 3.1685726080854275 too blank, skipping\n",
      "image /Users/kuiqian/BstemAtlasDataBackup/ucsd_brain/CSHL_patches/MD589/Pn_surround_200um_noclass/251_646.tif std= 4.580625742488935 too blank, skipping\n",
      "image /Users/kuiqian/BstemAtlasDataBackup/ucsd_brain/CSHL_patches/MD589/Pn_surround_200um_noclass/202_200.tif std= 3.7239749560078272 too blank, skipping\n",
      "image /Users/kuiqian/BstemAtlasDataBackup/ucsd_brain/CSHL_patches/MD589/Pn_surround_200um_noclass/262_6.tif std= 3.8171948875879718 too blank, skipping\n",
      "image /Users/kuiqian/BstemAtlasDataBackup/ucsd_brain/CSHL_patches/MD589/Pn_surround_200um_noclass/207_351.tif std= 4.237285595820169 too blank, skipping\n",
      "image /Users/kuiqian/BstemAtlasDataBackup/ucsd_brain/CSHL_patches/MD589/Pn_surround_200um_noclass/250_333.tif std= 4.561023413912742 too blank, skipping\n",
      "image /Users/kuiqian/BstemAtlasDataBackup/ucsd_brain/CSHL_patches/MD589/Pn_surround_200um_noclass/212_214.tif std= 4.1416773854513815 too blank, skipping\n",
      "image /Users/kuiqian/BstemAtlasDataBackup/ucsd_brain/CSHL_patches/MD589/Pn_surround_200um_noclass/219_299.tif std= 1.3833042125139563 too blank, skipping\n",
      "image /Users/kuiqian/BstemAtlasDataBackup/ucsd_brain/CSHL_patches/MD589/Pn_surround_200um_noclass/183_301.tif std= 3.3315101484414975 too blank, skipping\n",
      "image /Users/kuiqian/BstemAtlasDataBackup/ucsd_brain/CSHL_patches/MD589/Pn_surround_200um_noclass/275_580.tif std= 8.019402351683 too blank, skipping\n",
      "image /Users/kuiqian/BstemAtlasDataBackup/ucsd_brain/CSHL_patches/MD589/Pn_surround_200um_noclass/276_443.tif std= 4.340368079475941 too blank, skipping\n",
      "image /Users/kuiqian/BstemAtlasDataBackup/ucsd_brain/CSHL_patches/MD589/Pn_surround_200um_noclass/267_122.tif std= 4.454351460560475 too blank, skipping\n",
      "image /Users/kuiqian/BstemAtlasDataBackup/ucsd_brain/CSHL_patches/MD589/Pn_surround_200um_noclass/209_75.tif std= 2.9115907138023984 too blank, skipping\n",
      "image /Users/kuiqian/BstemAtlasDataBackup/ucsd_brain/CSHL_patches/MD589/Pn_surround_200um_noclass/202_228.tif std= 3.436727583522931 too blank, skipping\n",
      "image /Users/kuiqian/BstemAtlasDataBackup/ucsd_brain/CSHL_patches/MD589/Pn_surround_200um_noclass/256_389.tif std= 1.8517576522226151 too blank, skipping\n",
      "image /Users/kuiqian/BstemAtlasDataBackup/ucsd_brain/CSHL_patches/MD589/Pn_surround_200um_noclass/276_331.tif std= 4.375409798998102 too blank, skipping\n",
      "image /Users/kuiqian/BstemAtlasDataBackup/ucsd_brain/CSHL_patches/MD589/Pn_surround_200um_noclass/282_330.tif std= 3.4309759837050846 too blank, skipping\n",
      "image /Users/kuiqian/BstemAtlasDataBackup/ucsd_brain/CSHL_patches/MD589/Pn_surround_200um_noclass/225_777.tif std= 9.36906545490473 too blank, skipping\n",
      "image /Users/kuiqian/BstemAtlasDataBackup/ucsd_brain/CSHL_patches/MD589/Pn_surround_200um_noclass/220_140.tif std= 5.950636434219014 too blank, skipping\n",
      "image /Users/kuiqian/BstemAtlasDataBackup/ucsd_brain/CSHL_patches/MD589/Pn_surround_200um_noclass/213_39.tif std= 3.124275657724999 too blank, skipping\n",
      "image /Users/kuiqian/BstemAtlasDataBackup/ucsd_brain/CSHL_patches/MD589/Pn_surround_200um_noclass/217_379.tif std= 6.871097645251421 too blank, skipping\n",
      "image /Users/kuiqian/BstemAtlasDataBackup/ucsd_brain/CSHL_patches/MD589/Pn_surround_200um_noclass/266_325.tif std= 4.789502161124454 too blank, skipping\n",
      "image /Users/kuiqian/BstemAtlasDataBackup/ucsd_brain/CSHL_patches/MD589/Pn_surround_200um_noclass/200_45.tif std= 3.918524856091953 too blank, skipping\n",
      "image /Users/kuiqian/BstemAtlasDataBackup/ucsd_brain/CSHL_patches/MD589/Pn_surround_200um_noclass/252_65.tif std= 4.491284147480456 too blank, skipping\n",
      "image /Users/kuiqian/BstemAtlasDataBackup/ucsd_brain/CSHL_patches/MD589/Pn_surround_200um_noclass/257_830.tif std= 7.311123896639307 too blank, skipping\n",
      "image /Users/kuiqian/BstemAtlasDataBackup/ucsd_brain/CSHL_patches/MD589/Pn_surround_200um_noclass/201_116.tif std= 2.8548350441974337 too blank, skipping\n",
      "image /Users/kuiqian/BstemAtlasDataBackup/ucsd_brain/CSHL_patches/MD589/Pn_surround_200um_noclass/256_174.tif std= 1.7890395611470489 too blank, skipping\n",
      "image /Users/kuiqian/BstemAtlasDataBackup/ucsd_brain/CSHL_patches/MD589/Pn_surround_200um_noclass/205_532.tif std= 3.2539739790735744 too blank, skipping\n",
      "image /Users/kuiqian/BstemAtlasDataBackup/ucsd_brain/CSHL_patches/MD589/Pn_surround_200um_noclass/216_383.tif std= 4.153501767766552 too blank, skipping\n",
      "image /Users/kuiqian/BstemAtlasDataBackup/ucsd_brain/CSHL_patches/MD589/Pn_surround_200um_noclass/246_606.tif std= 3.9213967547791433 too blank, skipping\n",
      "image /Users/kuiqian/BstemAtlasDataBackup/ucsd_brain/CSHL_patches/MD589/Pn_surround_200um_noclass/208_263.tif std= 4.634779919373022 too blank, skipping\n",
      "image /Users/kuiqian/BstemAtlasDataBackup/ucsd_brain/CSHL_patches/MD589/Pn_surround_200um_noclass/211_102.tif std= 3.5160990017149074 too blank, skipping\n",
      "image /Users/kuiqian/BstemAtlasDataBackup/ucsd_brain/CSHL_patches/MD589/Pn_surround_200um_noclass/194_369.tif std= 2.8008473172193002 too blank, skipping\n",
      "image /Users/kuiqian/BstemAtlasDataBackup/ucsd_brain/CSHL_patches/MD589/Pn_surround_200um_noclass/210_311.tif std= 3.2247376431082535 too blank, skipping\n",
      "image /Users/kuiqian/BstemAtlasDataBackup/ucsd_brain/CSHL_patches/MD589/Pn_surround_200um_noclass/277_24.tif std= 2.930804967815859 too blank, skipping\n",
      "image /Users/kuiqian/BstemAtlasDataBackup/ucsd_brain/CSHL_patches/MD589/Pn_surround_200um_noclass/259_293.tif std= 3.5039449885307015 too blank, skipping\n",
      "image /Users/kuiqian/BstemAtlasDataBackup/ucsd_brain/CSHL_patches/MD589/Pn_surround_200um_noclass/207_184.tif std= 3.7550174700226604 too blank, skipping\n",
      "image /Users/kuiqian/BstemAtlasDataBackup/ucsd_brain/CSHL_patches/MD589/Pn_surround_200um_noclass/205_254.tif std= 7.353332010140997 too blank, skipping\n",
      "image /Users/kuiqian/BstemAtlasDataBackup/ucsd_brain/CSHL_patches/MD589/Pn_surround_200um_noclass/225_10.tif std= 3.6611914073064873 too blank, skipping\n",
      "image /Users/kuiqian/BstemAtlasDataBackup/ucsd_brain/CSHL_patches/MD589/Pn_surround_200um_noclass/200_477.tif std= 3.3848109661718415 too blank, skipping\n"
     ]
    },
    {
     "name": "stdout",
     "output_type": "stream",
     "text": [
      "image /Users/kuiqian/BstemAtlasDataBackup/ucsd_brain/CSHL_patches/MD589/Pn_surround_200um_noclass/259_287.tif std= 8.445929196549319 too blank, skipping\n",
      "image /Users/kuiqian/BstemAtlasDataBackup/ucsd_brain/CSHL_patches/MD589/Pn_surround_200um_noclass/192_489.tif std= 4.168653331651577 too blank, skipping\n",
      "image /Users/kuiqian/BstemAtlasDataBackup/ucsd_brain/CSHL_patches/MD589/Pn_surround_200um_noclass/246_174.tif std= 4.388793503069105 too blank, skipping\n",
      "image /Users/kuiqian/BstemAtlasDataBackup/ucsd_brain/CSHL_patches/MD589/Pn_surround_200um_noclass/261_359.tif std= 4.557225599946008 too blank, skipping\n",
      "image /Users/kuiqian/BstemAtlasDataBackup/ucsd_brain/CSHL_patches/MD589/Pn_surround_200um_noclass/217_184.tif std= 3.177522461223463 too blank, skipping\n",
      "image /Users/kuiqian/BstemAtlasDataBackup/ucsd_brain/CSHL_patches/MD589/Pn_surround_200um_noclass/252_544.tif std= 4.444958819561055 too blank, skipping\n",
      "image /Users/kuiqian/BstemAtlasDataBackup/ucsd_brain/CSHL_patches/MD589/Pn_surround_200um_noclass/222_19.tif std= 5.841136429445096 too blank, skipping\n",
      "image /Users/kuiqian/BstemAtlasDataBackup/ucsd_brain/CSHL_patches/MD589/Pn_surround_200um_noclass/198_159.tif std= 9.937965889360878 too blank, skipping\n",
      "image /Users/kuiqian/BstemAtlasDataBackup/ucsd_brain/CSHL_patches/MD589/Pn_surround_200um_noclass/257_373.tif std= 3.234393829394112 too blank, skipping\n",
      "image /Users/kuiqian/BstemAtlasDataBackup/ucsd_brain/CSHL_patches/MD589/Pn_surround_200um_noclass/270_11.tif std= 4.4267819368743675 too blank, skipping\n",
      "image /Users/kuiqian/BstemAtlasDataBackup/ucsd_brain/CSHL_patches/MD589/Pn_surround_200um_noclass/222_31.tif std= 4.454106700370182 too blank, skipping\n",
      "image /Users/kuiqian/BstemAtlasDataBackup/ucsd_brain/CSHL_patches/MD589/Pn_surround_200um_noclass/274_234.tif std= 3.65421607886948 too blank, skipping\n",
      "image /Users/kuiqian/BstemAtlasDataBackup/ucsd_brain/CSHL_patches/MD589/Pn_surround_200um_noclass/280_235.tif std= 3.2097993640503786 too blank, skipping\n",
      "image /Users/kuiqian/BstemAtlasDataBackup/ucsd_brain/CSHL_patches/MD589/Pn_surround_200um_noclass/284_611.tif std= 4.982248862799544 too blank, skipping\n",
      "image /Users/kuiqian/BstemAtlasDataBackup/ucsd_brain/CSHL_patches/MD589/Pn_surround_200um_noclass/270_176.tif std= 3.5402321389382965 too blank, skipping\n",
      "image /Users/kuiqian/BstemAtlasDataBackup/ucsd_brain/CSHL_patches/MD589/Pn_surround_200um_noclass/225_38.tif std= 4.700701385328466 too blank, skipping\n",
      "image /Users/kuiqian/BstemAtlasDataBackup/ucsd_brain/CSHL_patches/MD589/Pn_surround_200um_noclass/274_552.tif std= 4.977081288408471 too blank, skipping\n",
      "image /Users/kuiqian/BstemAtlasDataBackup/ucsd_brain/CSHL_patches/MD589/Pn_surround_200um_noclass/188_165.tif std= 4.30562285584682 too blank, skipping\n",
      "image /Users/kuiqian/BstemAtlasDataBackup/ucsd_brain/CSHL_patches/MD589/Pn_surround_200um_noclass/277_18.tif std= 4.5591656483758465 too blank, skipping\n",
      "image /Users/kuiqian/BstemAtlasDataBackup/ucsd_brain/CSHL_patches/MD589/Pn_surround_200um_noclass/288_435.tif std= 7.3276983441305195 too blank, skipping\n",
      "image /Users/kuiqian/BstemAtlasDataBackup/ucsd_brain/CSHL_patches/MD589/Pn_surround_200um_noclass/195_152.tif std= 3.5895689613266963 too blank, skipping\n",
      "image /Users/kuiqian/BstemAtlasDataBackup/ucsd_brain/CSHL_patches/MD589/Pn_surround_200um_noclass/189_362.tif std= 3.827416266679367 too blank, skipping\n",
      "image /Users/kuiqian/BstemAtlasDataBackup/ucsd_brain/CSHL_patches/MD589/Pn_surround_200um_noclass/271_371.tif std= 4.976264619910587 too blank, skipping\n",
      "image /Users/kuiqian/BstemAtlasDataBackup/ucsd_brain/CSHL_patches/MD589/Pn_surround_200um_noclass/285_370.tif std= 3.9558743121435302 too blank, skipping\n",
      "image /Users/kuiqian/BstemAtlasDataBackup/ucsd_brain/CSHL_patches/MD589/Pn_surround_200um_noclass/222_25.tif std= 4.589199877320266 too blank, skipping\n",
      "image /Users/kuiqian/BstemAtlasDataBackup/ucsd_brain/CSHL_patches/MD589/Pn_surround_200um_noclass/195_31.tif std= 4.911956086516968 too blank, skipping\n",
      "image /Users/kuiqian/BstemAtlasDataBackup/ucsd_brain/CSHL_patches/MD589/Pn_surround_200um_noclass/223_242.tif std= 3.6046705176916336 too blank, skipping\n",
      "image /Users/kuiqian/BstemAtlasDataBackup/ucsd_brain/CSHL_patches/MD589/Pn_surround_200um_noclass/220_381.tif std= 5.919238195938903 too blank, skipping\n",
      "image /Users/kuiqian/BstemAtlasDataBackup/ucsd_brain/CSHL_patches/MD589/Pn_surround_200um_noclass/191_210.tif std= 2.8194195844738053 too blank, skipping\n",
      "image /Users/kuiqian/BstemAtlasDataBackup/ucsd_brain/CSHL_patches/MD589/Pn_surround_200um_noclass/219_58.tif std= 1.6561814315758887 too blank, skipping\n",
      "image /Users/kuiqian/BstemAtlasDataBackup/ucsd_brain/CSHL_patches/MD589/Pn_surround_200um_noclass/251_20.tif std= 4.335765289914395 too blank, skipping\n",
      "image /Users/kuiqian/BstemAtlasDataBackup/ucsd_brain/CSHL_patches/MD589/Pn_surround_200um_noclass/217_75.tif std= 3.858439047750434 too blank, skipping\n",
      "image /Users/kuiqian/BstemAtlasDataBackup/ucsd_brain/CSHL_patches/MD589/Pn_surround_200um_noclass/217_153.tif std= 3.582985079691597 too blank, skipping\n",
      "image /Users/kuiqian/BstemAtlasDataBackup/ucsd_brain/CSHL_patches/MD589/Pn_surround_200um_noclass/206_432.tif std= 9.378988172851026 too blank, skipping\n",
      "image /Users/kuiqian/BstemAtlasDataBackup/ucsd_brain/CSHL_patches/MD589/Pn_surround_200um_noclass/277_308.tif std= 3.235413122818404 too blank, skipping\n",
      "image /Users/kuiqian/BstemAtlasDataBackup/ucsd_brain/CSHL_patches/MD589/Pn_surround_200um_noclass/203_205.tif std= 3.795612401562134 too blank, skipping\n",
      "image /Users/kuiqian/BstemAtlasDataBackup/ucsd_brain/CSHL_patches/MD589/Pn_surround_200um_noclass/263_92.tif std= 4.2091153550604705 too blank, skipping\n",
      "image /Users/kuiqian/BstemAtlasDataBackup/ucsd_brain/CSHL_patches/MD589/Pn_surround_200um_noclass/251_336.tif std= 3.686374203481155 too blank, skipping\n",
      "image /Users/kuiqian/BstemAtlasDataBackup/ucsd_brain/CSHL_patches/MD589/Pn_surround_200um_noclass/206_354.tif std= 3.7942012343957248 too blank, skipping\n",
      "image /Users/kuiqian/BstemAtlasDataBackup/ucsd_brain/CSHL_patches/MD589/Pn_surround_200um_noclass/281_17.tif std= 3.5333800334589207 too blank, skipping\n",
      "image /Users/kuiqian/BstemAtlasDataBackup/ucsd_brain/CSHL_patches/MD589/Pn_surround_200um_noclass/225_4.tif std= 5.100540505427998 too blank, skipping\n",
      "image /Users/kuiqian/BstemAtlasDataBackup/ucsd_brain/CSHL_patches/MD589/Pn_surround_200um_noclass/267_308.tif std= 4.291395916976833 too blank, skipping\n",
      "image /Users/kuiqian/BstemAtlasDataBackup/ucsd_brain/CSHL_patches/MD589/Pn_surround_200um_noclass/282_668.tif std= 3.076403846508512 too blank, skipping\n",
      "image /Users/kuiqian/BstemAtlasDataBackup/ucsd_brain/CSHL_patches/MD589/Pn_surround_200um_noclass/207_153.tif std= 3.8213704344532884 too blank, skipping\n",
      "image /Users/kuiqian/BstemAtlasDataBackup/ucsd_brain/CSHL_patches/MD589/Pn_surround_200um_noclass/249_536.tif std= 3.8478340268170927 too blank, skipping\n",
      "image /Users/kuiqian/BstemAtlasDataBackup/ucsd_brain/CSHL_patches/MD589/Pn_surround_200um_noclass/254_515.tif std= 1.5541700501811107 too blank, skipping\n",
      "image /Users/kuiqian/BstemAtlasDataBackup/ucsd_brain/CSHL_patches/MD589/Pn_surround_200um_noclass/249_250.tif std= 3.4355265195738434 too blank, skipping\n",
      "image /Users/kuiqian/BstemAtlasDataBackup/ucsd_brain/CSHL_patches/MD589/Pn_surround_200um_noclass/260_4.tif std= 4.418708025447771 too blank, skipping\n",
      "image /Users/kuiqian/BstemAtlasDataBackup/ucsd_brain/CSHL_patches/MD589/Pn_surround_200um_noclass/203_14.tif std= 3.921498850662903 too blank, skipping\n",
      "image /Users/kuiqian/BstemAtlasDataBackup/ucsd_brain/CSHL_patches/MD589/Pn_surround_200um_noclass/187_269.tif std= 3.072480335307908 too blank, skipping\n",
      "image /Users/kuiqian/BstemAtlasDataBackup/ucsd_brain/CSHL_patches/MD589/Pn_surround_200um_noclass/260_189.tif std= 3.7926419993658023 too blank, skipping\n",
      "image /Users/kuiqian/BstemAtlasDataBackup/ucsd_brain/CSHL_patches/MD589/Pn_surround_200um_noclass/215_297.tif std= 9.355716175871288 too blank, skipping\n",
      "image /Users/kuiqian/BstemAtlasDataBackup/ucsd_brain/CSHL_patches/MD589/Pn_surround_200um_noclass/223_295.tif std= 3.6063710043105965 too blank, skipping\n",
      "image /Users/kuiqian/BstemAtlasDataBackup/ucsd_brain/CSHL_patches/MD589/Pn_surround_200um_noclass/249_278.tif std= 3.5904296699899434 too blank, skipping\n"
     ]
    },
    {
     "name": "stdout",
     "output_type": "stream",
     "text": [
      "image /Users/kuiqian/BstemAtlasDataBackup/ucsd_brain/CSHL_patches/MD589/Pn_surround_200um_noclass/280_1.tif std= 9.45288424005942 too blank, skipping\n",
      "image /Users/kuiqian/BstemAtlasDataBackup/ucsd_brain/CSHL_patches/MD589/Pn_surround_200um_noclass/197_533.tif std= 4.425530719192109 too blank, skipping\n",
      "image /Users/kuiqian/BstemAtlasDataBackup/ucsd_brain/CSHL_patches/MD589/Pn_surround_200um_noclass/217_49.tif std= 3.625991873780687 too blank, skipping\n",
      "image /Users/kuiqian/BstemAtlasDataBackup/ucsd_brain/CSHL_patches/MD589/Pn_surround_200um_noclass/262_271.tif std= 3.261879348756008 too blank, skipping\n",
      "image /Users/kuiqian/BstemAtlasDataBackup/ucsd_brain/CSHL_patches/MD589/Pn_surround_200um_noclass/256_15.tif std= 1.6170105163988875 too blank, skipping\n",
      "image /Users/kuiqian/BstemAtlasDataBackup/ucsd_brain/CSHL_patches/MD589/Pn_surround_200um_noclass/197_255.tif std= 3.5843695390748733 too blank, skipping\n",
      "image /Users/kuiqian/BstemAtlasDataBackup/ucsd_brain/CSHL_patches/MD589/Pn_surround_200um_noclass/225_207.tif std= 3.5559291052090964 too blank, skipping\n",
      "image /Users/kuiqian/BstemAtlasDataBackup/ucsd_brain/CSHL_patches/MD589/Pn_surround_200um_noclass/277_452.tif std= 9.162198525600468 too blank, skipping\n",
      "image /Users/kuiqian/BstemAtlasDataBackup/ucsd_brain/CSHL_patches/MD589/Pn_surround_200um_noclass/283_453.tif std= 6.498960741222029 too blank, skipping\n",
      "image /Users/kuiqian/BstemAtlasDataBackup/ucsd_brain/CSHL_patches/MD589/Pn_surround_200um_noclass/272_265.tif std= 4.583051252534504 too blank, skipping\n",
      "Pnfinished in 1054.8 seconds\n",
      "image /Users/kuiqian/BstemAtlasDataBackup/ucsd_brain/CSHL_patches/MD589/Tz/256_39.tif std= 8.88203376620091 too blank, skipping\n",
      "image /Users/kuiqian/BstemAtlasDataBackup/ucsd_brain/CSHL_patches/MD589/Tz/253_52.tif std= 9.152094312845401 too blank, skipping\n",
      "image /Users/kuiqian/BstemAtlasDataBackup/ucsd_brain/CSHL_patches/MD589/Tz/253_55.tif std= 9.020544073821348 too blank, skipping\n",
      "image /Users/kuiqian/BstemAtlasDataBackup/ucsd_brain/CSHL_patches/MD589/Tz/256_43.tif std= 8.463808345551364 too blank, skipping\n",
      "image /Users/kuiqian/BstemAtlasDataBackup/ucsd_brain/CSHL_patches/MD589/Tz/255_38.tif std= 9.816474033937073 too blank, skipping\n",
      "image /Users/kuiqian/BstemAtlasDataBackup/ucsd_brain/CSHL_patches/MD589/Tz/253_58.tif std= 8.113867835101264 too blank, skipping\n",
      "image /Users/kuiqian/BstemAtlasDataBackup/ucsd_brain/CSHL_patches/MD589/Tz/223_30.tif std= 9.984971006272064 too blank, skipping\n",
      "image /Users/kuiqian/BstemAtlasDataBackup/ucsd_brain/CSHL_patches/MD589/Tz/253_60.tif std= 7.830790814312394 too blank, skipping\n",
      "image /Users/kuiqian/BstemAtlasDataBackup/ucsd_brain/CSHL_patches/MD589/Tz/253_49.tif std= 9.714592855343783 too blank, skipping\n",
      "image /Users/kuiqian/BstemAtlasDataBackup/ucsd_brain/CSHL_patches/MD589/Tz/256_51.tif std= 9.860342521167658 too blank, skipping\n",
      "image /Users/kuiqian/BstemAtlasDataBackup/ucsd_brain/CSHL_patches/MD589/Tz/256_47.tif std= 9.73719909684609 too blank, skipping\n",
      "mkdir: /Users/kuiqian/BstemAtlasDataBackup/ucsd_brain/CSHL_cells/MD589/Tz/: File exists\n",
      "image /Users/kuiqian/BstemAtlasDataBackup/ucsd_brain/CSHL_patches/MD589/Tz_surround_200um_noclass/223_243.tif std= 9.26481504627773 too blank, skipping\n",
      "image /Users/kuiqian/BstemAtlasDataBackup/ucsd_brain/CSHL_patches/MD589/Tz_surround_200um_noclass/223_257.tif std= 9.99979172534993 too blank, skipping\n",
      "image /Users/kuiqian/BstemAtlasDataBackup/ucsd_brain/CSHL_patches/MD589/Tz_surround_200um_noclass/213_10.tif std= 6.558362780752283 too blank, skipping\n",
      "image /Users/kuiqian/BstemAtlasDataBackup/ucsd_brain/CSHL_patches/MD589/Tz_surround_200um_noclass/257_54.tif std= 9.585374539939487 too blank, skipping\n",
      "image /Users/kuiqian/BstemAtlasDataBackup/ucsd_brain/CSHL_patches/MD589/Tz_surround_200um_noclass/252_196.tif std= 9.7528329639764 too blank, skipping\n",
      "image /Users/kuiqian/BstemAtlasDataBackup/ucsd_brain/CSHL_patches/MD589/Tz_surround_200um_noclass/253_385.tif std= 9.266586275441247 too blank, skipping\n",
      "image /Users/kuiqian/BstemAtlasDataBackup/ucsd_brain/CSHL_patches/MD589/Tz_surround_200um_noclass/257_40.tif std= 9.205632435263524 too blank, skipping\n",
      "image /Users/kuiqian/BstemAtlasDataBackup/ucsd_brain/CSHL_patches/MD589/Tz_surround_200um_noclass/203_172.tif std= 9.624991314692389 too blank, skipping\n",
      "image /Users/kuiqian/BstemAtlasDataBackup/ucsd_brain/CSHL_patches/MD589/Tz_surround_200um_noclass/253_352.tif std= 8.217062671764053 too blank, skipping\n",
      "image /Users/kuiqian/BstemAtlasDataBackup/ucsd_brain/CSHL_patches/MD589/Tz_surround_200um_noclass/253_193.tif std= 9.339024510737298 too blank, skipping\n",
      "image /Users/kuiqian/BstemAtlasDataBackup/ucsd_brain/CSHL_patches/MD589/Tz_surround_200um_noclass/252_431.tif std= 8.554192379108647 too blank, skipping\n",
      "image /Users/kuiqian/BstemAtlasDataBackup/ucsd_brain/CSHL_patches/MD589/Tz_surround_200um_noclass/253_31.tif std= 7.19772016259161 too blank, skipping\n",
      "image /Users/kuiqian/BstemAtlasDataBackup/ucsd_brain/CSHL_patches/MD589/Tz_surround_200um_noclass/253_19.tif std= 7.652642653430412 too blank, skipping\n",
      "image /Users/kuiqian/BstemAtlasDataBackup/ucsd_brain/CSHL_patches/MD589/Tz_surround_200um_noclass/253_353.tif std= 9.723491400234627 too blank, skipping\n",
      "image /Users/kuiqian/BstemAtlasDataBackup/ucsd_brain/CSHL_patches/MD589/Tz_surround_200um_noclass/253_384.tif std= 7.3334508726034215 too blank, skipping\n",
      "image /Users/kuiqian/BstemAtlasDataBackup/ucsd_brain/CSHL_patches/MD589/Tz_surround_200um_noclass/252_197.tif std= 9.755514412812989 too blank, skipping\n",
      "image /Users/kuiqian/BstemAtlasDataBackup/ucsd_brain/CSHL_patches/MD589/Tz_surround_200um_noclass/257_55.tif std= 8.968110828942597 too blank, skipping\n",
      "image /Users/kuiqian/BstemAtlasDataBackup/ucsd_brain/CSHL_patches/MD589/Tz_surround_200um_noclass/213_11.tif std= 8.244515350487996 too blank, skipping\n",
      "image /Users/kuiqian/BstemAtlasDataBackup/ucsd_brain/CSHL_patches/MD589/Tz_surround_200um_noclass/223_256.tif std= 9.856113716742767 too blank, skipping\n",
      "image /Users/kuiqian/BstemAtlasDataBackup/ucsd_brain/CSHL_patches/MD589/Tz_surround_200um_noclass/267_444.tif std= 8.033402278872138 too blank, skipping\n",
      "image /Users/kuiqian/BstemAtlasDataBackup/ucsd_brain/CSHL_patches/MD589/Tz_surround_200um_noclass/251_22.tif std= 9.918723857081634 too blank, skipping\n",
      "image /Users/kuiqian/BstemAtlasDataBackup/ucsd_brain/CSHL_patches/MD589/Tz_surround_200um_noclass/254_271.tif std= 9.552976297138633 too blank, skipping\n",
      "image /Users/kuiqian/BstemAtlasDataBackup/ucsd_brain/CSHL_patches/MD589/Tz_surround_200um_noclass/213_13.tif std= 8.347264439704484 too blank, skipping\n",
      "image /Users/kuiqian/BstemAtlasDataBackup/ucsd_brain/CSHL_patches/MD589/Tz_surround_200um_noclass/252_98.tif std= 8.607589762224217 too blank, skipping\n",
      "image /Users/kuiqian/BstemAtlasDataBackup/ucsd_brain/CSHL_patches/MD589/Tz_surround_200um_noclass/252_181.tif std= 9.608869178261928 too blank, skipping\n",
      "image /Users/kuiqian/BstemAtlasDataBackup/ucsd_brain/CSHL_patches/MD589/Tz_surround_200um_noclass/253_386.tif std= 9.568309507537174 too blank, skipping\n",
      "image /Users/kuiqian/BstemAtlasDataBackup/ucsd_brain/CSHL_patches/MD589/Tz_surround_200um_noclass/219_304.tif std= 9.829549217418222 too blank, skipping\n",
      "image /Users/kuiqian/BstemAtlasDataBackup/ucsd_brain/CSHL_patches/MD589/Tz_surround_200um_noclass/253_9.tif std= 7.470402099505339 too blank, skipping\n",
      "image /Users/kuiqian/BstemAtlasDataBackup/ucsd_brain/CSHL_patches/MD589/Tz_surround_200um_noclass/252_354.tif std= 9.860314568004943 too blank, skipping\n",
      "image /Users/kuiqian/BstemAtlasDataBackup/ucsd_brain/CSHL_patches/MD589/Tz_surround_200um_noclass/252_355.tif std= 9.89482968723765 too blank, skipping\n",
      "image /Users/kuiqian/BstemAtlasDataBackup/ucsd_brain/CSHL_patches/MD589/Tz_surround_200um_noclass/252_369.tif std= 7.977472877329833 too blank, skipping\n",
      "image /Users/kuiqian/BstemAtlasDataBackup/ucsd_brain/CSHL_patches/MD589/Tz_surround_200um_noclass/253_32.tif std= 7.968834067682372 too blank, skipping\n",
      "image /Users/kuiqian/BstemAtlasDataBackup/ucsd_brain/CSHL_patches/MD589/Tz_surround_200um_noclass/211_17.tif std= 9.406736146183476 too blank, skipping\n",
      "image /Users/kuiqian/BstemAtlasDataBackup/ucsd_brain/CSHL_patches/MD589/Tz_surround_200um_noclass/213_12.tif std= 9.558365470551625 too blank, skipping\n"
     ]
    },
    {
     "name": "stdout",
     "output_type": "stream",
     "text": [
      "image /Users/kuiqian/BstemAtlasDataBackup/ucsd_brain/CSHL_patches/MD589/Tz_surround_200um_noclass/267_445.tif std= 7.779763553439634 too blank, skipping\n",
      "image /Users/kuiqian/BstemAtlasDataBackup/ucsd_brain/CSHL_patches/MD589/Tz_surround_200um_noclass/263_56.tif std= 8.986957919186944 too blank, skipping\n",
      "image /Users/kuiqian/BstemAtlasDataBackup/ucsd_brain/CSHL_patches/MD589/Tz_surround_200um_noclass/252_225.tif std= 7.597260923813995 too blank, skipping\n",
      "image /Users/kuiqian/BstemAtlasDataBackup/ucsd_brain/CSHL_patches/MD589/Tz_surround_200um_noclass/211_13.tif std= 9.904751566295895 too blank, skipping\n",
      "image /Users/kuiqian/BstemAtlasDataBackup/ucsd_brain/CSHL_patches/MD589/Tz_surround_200um_noclass/217_222.tif std= 9.640232323304433 too blank, skipping\n",
      "image /Users/kuiqian/BstemAtlasDataBackup/ucsd_brain/CSHL_patches/MD589/Tz_surround_200um_noclass/253_354.tif std= 9.389486263740968 too blank, skipping\n",
      "image /Users/kuiqian/BstemAtlasDataBackup/ucsd_brain/CSHL_patches/MD589/Tz_surround_200um_noclass/253_432.tif std= 7.446745483533338 too blank, skipping\n",
      "image /Users/kuiqian/BstemAtlasDataBackup/ucsd_brain/CSHL_patches/MD589/Tz_surround_200um_noclass/253_368.tif std= 8.00680856241935 too blank, skipping\n",
      "image /Users/kuiqian/BstemAtlasDataBackup/ucsd_brain/CSHL_patches/MD589/Tz_surround_200um_noclass/268_375.tif std= 9.049434212765238 too blank, skipping\n",
      "image /Users/kuiqian/BstemAtlasDataBackup/ucsd_brain/CSHL_patches/MD589/Tz_surround_200um_noclass/220_231.tif std= 9.77499907684981 too blank, skipping\n",
      "image /Users/kuiqian/BstemAtlasDataBackup/ucsd_brain/CSHL_patches/MD589/Tz_surround_200um_noclass/253_142.tif std= 9.85734417026723 too blank, skipping\n",
      "image /Users/kuiqian/BstemAtlasDataBackup/ucsd_brain/CSHL_patches/MD589/Tz_surround_200um_noclass/253_143.tif std= 9.265963887086654 too blank, skipping\n",
      "image /Users/kuiqian/BstemAtlasDataBackup/ucsd_brain/CSHL_patches/MD589/Tz_surround_200um_noclass/214_121.tif std= 8.981041902274995 too blank, skipping\n",
      "Tzfinished in 1238.3 seconds\n",
      "mkdir: /Users/kuiqian/BstemAtlasDataBackup/ucsd_brain/CSHL_cells/MD589/VLL/: File exists\n",
      "image /Users/kuiqian/BstemAtlasDataBackup/ucsd_brain/CSHL_patches/MD589/VLL_surround_200um_noclass/158_81.tif std= 9.889368075707834 too blank, skipping\n",
      "image /Users/kuiqian/BstemAtlasDataBackup/ucsd_brain/CSHL_patches/MD589/VLL_surround_200um_noclass/156_90.tif std= 8.385161515260357 too blank, skipping\n",
      "image /Users/kuiqian/BstemAtlasDataBackup/ucsd_brain/CSHL_patches/MD589/VLL_surround_200um_noclass/158_512.tif std= 9.782324652389446 too blank, skipping\n",
      "image /Users/kuiqian/BstemAtlasDataBackup/ucsd_brain/CSHL_patches/MD589/VLL_surround_200um_noclass/151_72.tif std= 9.023244055137154 too blank, skipping\n",
      "image /Users/kuiqian/BstemAtlasDataBackup/ucsd_brain/CSHL_patches/MD589/VLL_surround_200um_noclass/317_290.tif std= 9.223835758145944 too blank, skipping\n",
      "image /Users/kuiqian/BstemAtlasDataBackup/ucsd_brain/CSHL_patches/MD589/VLL_surround_200um_noclass/158_56.tif std= 8.485528510818499 too blank, skipping\n",
      "image /Users/kuiqian/BstemAtlasDataBackup/ucsd_brain/CSHL_patches/MD589/VLL_surround_200um_noclass/155_16.tif std= 8.761968848243454 too blank, skipping\n",
      "image /Users/kuiqian/BstemAtlasDataBackup/ucsd_brain/CSHL_patches/MD589/VLL_surround_200um_noclass/308_413.tif std= 9.950021283317206 too blank, skipping\n",
      "image /Users/kuiqian/BstemAtlasDataBackup/ucsd_brain/CSHL_patches/MD589/VLL_surround_200um_noclass/152_203.tif std= 8.223051700838427 too blank, skipping\n",
      "image /Users/kuiqian/BstemAtlasDataBackup/ucsd_brain/CSHL_patches/MD589/VLL_surround_200um_noclass/144_285.tif std= 9.232381302490237 too blank, skipping\n",
      "image /Users/kuiqian/BstemAtlasDataBackup/ucsd_brain/CSHL_patches/MD589/VLL_surround_200um_noclass/316_322.tif std= 9.934370868135275 too blank, skipping\n",
      "image /Users/kuiqian/BstemAtlasDataBackup/ucsd_brain/CSHL_patches/MD589/VLL_surround_200um_noclass/323_220.tif std= 9.009360753464243 too blank, skipping\n",
      "image /Users/kuiqian/BstemAtlasDataBackup/ucsd_brain/CSHL_patches/MD589/VLL_surround_200um_noclass/143_170.tif std= 8.942293118211381 too blank, skipping\n",
      "image /Users/kuiqian/BstemAtlasDataBackup/ucsd_brain/CSHL_patches/MD589/VLL_surround_200um_noclass/317_327.tif std= 9.996277858929934 too blank, skipping\n",
      "image /Users/kuiqian/BstemAtlasDataBackup/ucsd_brain/CSHL_patches/MD589/VLL_surround_200um_noclass/158_472.tif std= 9.09801656617069 too blank, skipping\n",
      "image /Users/kuiqian/BstemAtlasDataBackup/ucsd_brain/CSHL_patches/MD589/VLL_surround_200um_noclass/144_130.tif std= 6.949341577161811 too blank, skipping\n",
      "image /Users/kuiqian/BstemAtlasDataBackup/ucsd_brain/CSHL_patches/MD589/VLL_surround_200um_noclass/158_466.tif std= 9.50338326505153 too blank, skipping\n",
      "image /Users/kuiqian/BstemAtlasDataBackup/ucsd_brain/CSHL_patches/MD589/VLL_surround_200um_noclass/154_124.tif std= 9.301479564637608 too blank, skipping\n",
      "image /Users/kuiqian/BstemAtlasDataBackup/ucsd_brain/CSHL_patches/MD589/VLL_surround_200um_noclass/155_337.tif std= 8.995896256938485 too blank, skipping\n",
      "image /Users/kuiqian/BstemAtlasDataBackup/ucsd_brain/CSHL_patches/MD589/VLL_surround_200um_noclass/304_233.tif std= 8.903753391232991 too blank, skipping\n",
      "image /Users/kuiqian/BstemAtlasDataBackup/ucsd_brain/CSHL_patches/MD589/VLL_surround_200um_noclass/142_175.tif std= 9.882536234390244 too blank, skipping\n",
      "image /Users/kuiqian/BstemAtlasDataBackup/ucsd_brain/CSHL_patches/MD589/VLL_surround_200um_noclass/156_223.tif std= 8.968122187139375 too blank, skipping\n",
      "image /Users/kuiqian/BstemAtlasDataBackup/ucsd_brain/CSHL_patches/MD589/VLL_surround_200um_noclass/152_160.tif std= 6.911313660047713 too blank, skipping\n",
      "image /Users/kuiqian/BstemAtlasDataBackup/ucsd_brain/CSHL_patches/MD589/VLL_surround_200um_noclass/310_164.tif std= 9.297923171373386 too blank, skipping\n",
      "image /Users/kuiqian/BstemAtlasDataBackup/ucsd_brain/CSHL_patches/MD589/VLL_surround_200um_noclass/304_232.tif std= 8.415724802159346 too blank, skipping\n",
      "image /Users/kuiqian/BstemAtlasDataBackup/ucsd_brain/CSHL_patches/MD589/VLL_surround_200um_noclass/144_131.tif std= 5.313628240748892 too blank, skipping\n",
      "image /Users/kuiqian/BstemAtlasDataBackup/ucsd_brain/CSHL_patches/MD589/VLL_surround_200um_noclass/155_336.tif std= 8.56926443501996 too blank, skipping\n",
      "image /Users/kuiqian/BstemAtlasDataBackup/ucsd_brain/CSHL_patches/MD589/VLL_surround_200um_noclass/154_125.tif std= 9.373453159144745 too blank, skipping\n",
      "image /Users/kuiqian/BstemAtlasDataBackup/ucsd_brain/CSHL_patches/MD589/VLL_surround_200um_noclass/158_467.tif std= 7.966522011353756 too blank, skipping\n",
      "image /Users/kuiqian/BstemAtlasDataBackup/ucsd_brain/CSHL_patches/MD589/VLL_surround_200um_noclass/150_33.tif std= 8.760292003994229 too blank, skipping\n",
      "image /Users/kuiqian/BstemAtlasDataBackup/ucsd_brain/CSHL_patches/MD589/VLL_surround_200um_noclass/143_171.tif std= 6.265920742531217 too blank, skipping\n",
      "image /Users/kuiqian/BstemAtlasDataBackup/ucsd_brain/CSHL_patches/MD589/VLL_surround_200um_noclass/323_221.tif std= 9.384196664755143 too blank, skipping\n",
      "image /Users/kuiqian/BstemAtlasDataBackup/ucsd_brain/CSHL_patches/MD589/VLL_surround_200um_noclass/144_284.tif std= 6.285856326606627 too blank, skipping\n",
      "image /Users/kuiqian/BstemAtlasDataBackup/ucsd_brain/CSHL_patches/MD589/VLL_surround_200um_noclass/152_202.tif std= 6.8366607062153015 too blank, skipping\n",
      "image /Users/kuiqian/BstemAtlasDataBackup/ucsd_brain/CSHL_patches/MD589/VLL_surround_200um_noclass/156_168.tif std= 9.754031250642056 too blank, skipping\n",
      "image /Users/kuiqian/BstemAtlasDataBackup/ucsd_brain/CSHL_patches/MD589/VLL_surround_200um_noclass/304_144.tif std= 7.895446850899247 too blank, skipping\n",
      "image /Users/kuiqian/BstemAtlasDataBackup/ucsd_brain/CSHL_patches/MD589/VLL_surround_200um_noclass/144_247.tif std= 9.249484330358198 too blank, skipping\n",
      "image /Users/kuiqian/BstemAtlasDataBackup/ucsd_brain/CSHL_patches/MD589/VLL_surround_200um_noclass/310_83.tif std= 9.921470390556625 too blank, skipping\n",
      "image /Users/kuiqian/BstemAtlasDataBackup/ucsd_brain/CSHL_patches/MD589/VLL_surround_200um_noclass/158_57.tif std= 9.790048909375075 too blank, skipping\n",
      "image /Users/kuiqian/BstemAtlasDataBackup/ucsd_brain/CSHL_patches/MD589/VLL_surround_200um_noclass/158_513.tif std= 9.302018312928867 too blank, skipping\n"
     ]
    },
    {
     "name": "stdout",
     "output_type": "stream",
     "text": [
      "image /Users/kuiqian/BstemAtlasDataBackup/ucsd_brain/CSHL_patches/MD589/VLL_surround_200um_noclass/131_403.tif std= 9.085656652581307 too blank, skipping\n",
      "image /Users/kuiqian/BstemAtlasDataBackup/ucsd_brain/CSHL_patches/MD589/VLL_surround_200um_noclass/134_234.tif std= 9.781640227421953 too blank, skipping\n",
      "image /Users/kuiqian/BstemAtlasDataBackup/ucsd_brain/CSHL_patches/MD589/VLL_surround_200um_noclass/317_250.tif std= 8.171877472177103 too blank, skipping\n",
      "image /Users/kuiqian/BstemAtlasDataBackup/ucsd_brain/CSHL_patches/MD589/VLL_surround_200um_noclass/156_87.tif std= 9.689730516285012 too blank, skipping\n",
      "image /Users/kuiqian/BstemAtlasDataBackup/ucsd_brain/CSHL_patches/MD589/VLL_surround_200um_noclass/151_71.tif std= 9.862226308738276 too blank, skipping\n",
      "image /Users/kuiqian/BstemAtlasDataBackup/ucsd_brain/CSHL_patches/MD589/VLL_surround_200um_noclass/167_302.tif std= 3.776091508042477 too blank, skipping\n",
      "VLLfinished in 1413.6 seconds\n",
      "mkdir: /Users/kuiqian/BstemAtlasDataBackup/ucsd_brain/CSHL_cells/MD589/RMC/: File exists\n",
      "RMCfinished in 1591.3 seconds\n",
      "mkdir: /Users/kuiqian/BstemAtlasDataBackup/ucsd_brain/CSHL_cells/MD589/SNC/: File exists\n",
      "SNCfinished in 1736.8 seconds\n",
      "mkdir: /Users/kuiqian/BstemAtlasDataBackup/ucsd_brain/CSHL_cells/MD589/SNR/: File exists\n",
      "image /Users/kuiqian/BstemAtlasDataBackup/ucsd_brain/CSHL_patches/MD589/SNR_surround_200um_noclass/184_397.tif std= 9.849656330487223 too blank, skipping\n",
      "image /Users/kuiqian/BstemAtlasDataBackup/ucsd_brain/CSHL_patches/MD589/SNR_surround_200um_noclass/177_665.tif std= 9.724999619290355 too blank, skipping\n",
      "image /Users/kuiqian/BstemAtlasDataBackup/ucsd_brain/CSHL_patches/MD589/SNR_surround_200um_noclass/168_569.tif std= 8.386143686839489 too blank, skipping\n",
      "image /Users/kuiqian/BstemAtlasDataBackup/ucsd_brain/CSHL_patches/MD589/SNR_surround_200um_noclass/156_53.tif std= 9.317574807731134 too blank, skipping\n",
      "image /Users/kuiqian/BstemAtlasDataBackup/ucsd_brain/CSHL_patches/MD589/SNR_surround_200um_noclass/292_331.tif std= 8.092228976928695 too blank, skipping\n",
      "image /Users/kuiqian/BstemAtlasDataBackup/ucsd_brain/CSHL_patches/MD589/SNR_surround_200um_noclass/160_194.tif std= 4.028336893211115 too blank, skipping\n",
      "image /Users/kuiqian/BstemAtlasDataBackup/ucsd_brain/CSHL_patches/MD589/SNR_surround_200um_noclass/188_400.tif std= 8.08655594215784 too blank, skipping\n",
      "image /Users/kuiqian/BstemAtlasDataBackup/ucsd_brain/CSHL_patches/MD589/SNR_surround_200um_noclass/167_507.tif std= 9.420726421024032 too blank, skipping\n"
     ]
    },
    {
     "name": "stderr",
     "output_type": "stream",
     "text": [
      "/Users/kuiqian/Github/MouseBrainAtlas_dev/shapeology/scripts/patch_normalizer.py:11: RuntimeWarning: invalid value encountered in sqrt\n",
      "  return np.sqrt(np.dot(x**2,_sum)-np.dot(x,_sum)**2)\n"
     ]
    },
    {
     "name": "stdout",
     "output_type": "stream",
     "text": [
      "image /Users/kuiqian/BstemAtlasDataBackup/ucsd_brain/CSHL_patches/MD589/SNR_surround_200um_noclass/184_585.tif std= 9.132638381717442 too blank, skipping\n",
      "image /Users/kuiqian/BstemAtlasDataBackup/ucsd_brain/CSHL_patches/MD589/SNR_surround_200um_noclass/165_402.tif std= 6.635131939466323 too blank, skipping\n",
      "SNRfinished in 1911.9 seconds\n",
      "mkdir: /Users/kuiqian/BstemAtlasDataBackup/ucsd_brain/CSHL_cells/MD589/3N/: File exists\n",
      "image /Users/kuiqian/BstemAtlasDataBackup/ucsd_brain/CSHL_patches/MD589/3N_surround_200um_noclass/230_393.tif std= 9.97404818152323 too blank, skipping\n",
      "image /Users/kuiqian/BstemAtlasDataBackup/ucsd_brain/CSHL_patches/MD589/3N_surround_200um_noclass/217_382.tif std= 8.297314001784985 too blank, skipping\n",
      "3Nfinished in 2068.9 seconds\n",
      "mkdir: /Users/kuiqian/BstemAtlasDataBackup/ucsd_brain/CSHL_cells/MD589/4N/: File exists\n",
      "4Nfinished in 2139.5 seconds\n",
      "mkdir: /Users/kuiqian/BstemAtlasDataBackup/ucsd_brain/CSHL_cells/MD589/Sp5I/: File exists\n",
      "image /Users/kuiqian/BstemAtlasDataBackup/ucsd_brain/CSHL_patches/MD589/Sp5I_surround_200um_noclass/332_20.tif std= 9.693312583382507 too blank, skipping\n",
      "Sp5Ifinished in 2312.0 seconds\n",
      "mkdir: /Users/kuiqian/BstemAtlasDataBackup/ucsd_brain/CSHL_cells/MD589/Sp5O/: File exists\n",
      "image /Users/kuiqian/BstemAtlasDataBackup/ucsd_brain/CSHL_patches/MD589/Sp5O_surround_200um_noclass/142_767.tif std= 8.544081366706605 too blank, skipping\n",
      "image /Users/kuiqian/BstemAtlasDataBackup/ucsd_brain/CSHL_patches/MD589/Sp5O_surround_200um_noclass/144_84.tif std= 8.227821792881004 too blank, skipping\n",
      "image /Users/kuiqian/BstemAtlasDataBackup/ucsd_brain/CSHL_patches/MD589/Sp5O_surround_200um_noclass/122_104.tif std= 9.833478498342544 too blank, skipping\n",
      "image /Users/kuiqian/BstemAtlasDataBackup/ucsd_brain/CSHL_patches/MD589/Sp5O_surround_200um_noclass/330_123.tif std= 9.651734979480189 too blank, skipping\n",
      "image /Users/kuiqian/BstemAtlasDataBackup/ucsd_brain/CSHL_patches/MD589/Sp5O_surround_200um_noclass/144_85.tif std= 9.309164501982721 too blank, skipping\n",
      "image /Users/kuiqian/BstemAtlasDataBackup/ucsd_brain/CSHL_patches/MD589/Sp5O_surround_200um_noclass/123_22.tif std= 9.78860705633471 too blank, skipping\n",
      "image /Users/kuiqian/BstemAtlasDataBackup/ucsd_brain/CSHL_patches/MD589/Sp5O_surround_200um_noclass/138_416.tif std= 9.816753014807883 too blank, skipping\n",
      "image /Users/kuiqian/BstemAtlasDataBackup/ucsd_brain/CSHL_patches/MD589/Sp5O_surround_200um_noclass/328_87.tif std= 9.25293215748713 too blank, skipping\n",
      "image /Users/kuiqian/BstemAtlasDataBackup/ucsd_brain/CSHL_patches/MD589/Sp5O_surround_200um_noclass/128_210.tif std= 8.908652066420233 too blank, skipping\n",
      "Sp5Ofinished in 2488.6 seconds\n",
      "mkdir: /Users/kuiqian/BstemAtlasDataBackup/ucsd_brain/CSHL_cells/MD589/Sp5C/: File exists\n",
      "Sp5Cfinished in 2659.2 seconds\n",
      "mkdir: /Users/kuiqian/BstemAtlasDataBackup/ucsd_brain/CSHL_cells/MD589/PBG/: File exists\n",
      "image /Users/kuiqian/BstemAtlasDataBackup/ucsd_brain/CSHL_patches/MD589/PBG_surround_200um_noclass/120_70.tif std= 6.846827077811623 too blank, skipping\n",
      "image /Users/kuiqian/BstemAtlasDataBackup/ucsd_brain/CSHL_patches/MD589/PBG_surround_200um_noclass/121_51.tif std= 7.286818487224569 too blank, skipping\n",
      "PBGfinished in 2770.4 seconds\n",
      "mkdir: /Users/kuiqian/BstemAtlasDataBackup/ucsd_brain/CSHL_cells/MD589/10N/: File exists\n",
      "10Nfinished in 2886.4 seconds\n",
      "mkdir: /Users/kuiqian/BstemAtlasDataBackup/ucsd_brain/CSHL_cells/MD589/VCA/: File exists\n",
      "image /Users/kuiqian/BstemAtlasDataBackup/ucsd_brain/CSHL_patches/MD589/VCA_surround_200um_noclass/362_159.tif std= 4.710128937285338 too blank, skipping\n",
      "image /Users/kuiqian/BstemAtlasDataBackup/ucsd_brain/CSHL_patches/MD589/VCA_surround_200um_noclass/360_289.tif std= 4.481754220995375 too blank, skipping\n",
      "image /Users/kuiqian/BstemAtlasDataBackup/ucsd_brain/CSHL_patches/MD589/VCA_surround_200um_noclass/354_173.tif std= 8.15485659234883 too blank, skipping\n",
      "image /Users/kuiqian/BstemAtlasDataBackup/ucsd_brain/CSHL_patches/MD589/VCA_surround_200um_noclass/107_364.tif std= 3.8751890761608507 too blank, skipping\n",
      "image /Users/kuiqian/BstemAtlasDataBackup/ucsd_brain/CSHL_patches/MD589/VCA_surround_200um_noclass/106_163.tif std= 9.85859161787333 too blank, skipping\n",
      "image /Users/kuiqian/BstemAtlasDataBackup/ucsd_brain/CSHL_patches/MD589/VCA_surround_200um_noclass/362_2.tif std= 6.241026322517363 too blank, skipping\n",
      "image /Users/kuiqian/BstemAtlasDataBackup/ucsd_brain/CSHL_patches/MD589/VCA_surround_200um_noclass/363_87.tif std= 4.8947928668014535 too blank, skipping\n",
      "image /Users/kuiqian/BstemAtlasDataBackup/ucsd_brain/CSHL_patches/MD589/VCA_surround_200um_noclass/109_284.tif std= 5.464579020208617 too blank, skipping\n",
      "image /Users/kuiqian/BstemAtlasDataBackup/ucsd_brain/CSHL_patches/MD589/VCA_surround_200um_noclass/359_178.tif std= 3.5186454631034207 too blank, skipping\n",
      "image /Users/kuiqian/BstemAtlasDataBackup/ucsd_brain/CSHL_patches/MD589/VCA_surround_200um_noclass/359_193.tif std= 6.656760121346504 too blank, skipping\n",
      "image /Users/kuiqian/BstemAtlasDataBackup/ucsd_brain/CSHL_patches/MD589/VCA_surround_200um_noclass/364_65.tif std= 4.246986294665088 too blank, skipping\n",
      "image /Users/kuiqian/BstemAtlasDataBackup/ucsd_brain/CSHL_patches/MD589/VCA_surround_200um_noclass/356_260.tif std= 4.356761293952152 too blank, skipping\n",
      "image /Users/kuiqian/BstemAtlasDataBackup/ucsd_brain/CSHL_patches/MD589/VCA_surround_200um_noclass/122_88.tif std= 7.850093398248468 too blank, skipping\n",
      "image /Users/kuiqian/BstemAtlasDataBackup/ucsd_brain/CSHL_patches/MD589/VCA_surround_200um_noclass/364_108.tif std= 4.1735138279992965 too blank, skipping\n",
      "image /Users/kuiqian/BstemAtlasDataBackup/ucsd_brain/CSHL_patches/MD589/VCA_surround_200um_noclass/364_59.tif std= 4.2429113357994925 too blank, skipping\n",
      "image /Users/kuiqian/BstemAtlasDataBackup/ucsd_brain/CSHL_patches/MD589/VCA_surround_200um_noclass/110_12.tif std= 7.837502488140051 too blank, skipping\n",
      "image /Users/kuiqian/BstemAtlasDataBackup/ucsd_brain/CSHL_patches/MD589/VCA_surround_200um_noclass/363_50.tif std= 4.460245012776571 too blank, skipping\n",
      "image /Users/kuiqian/BstemAtlasDataBackup/ucsd_brain/CSHL_patches/MD589/VCA_surround_200um_noclass/110_132.tif std= 4.564756594575026 too blank, skipping\n",
      "image /Users/kuiqian/BstemAtlasDataBackup/ucsd_brain/CSHL_patches/MD589/VCA_surround_200um_noclass/363_44.tif std= 6.998806570053925 too blank, skipping\n",
      "image /Users/kuiqian/BstemAtlasDataBackup/ucsd_brain/CSHL_patches/MD589/VCA_surround_200um_noclass/111_335.tif std= 7.630297900918103 too blank, skipping\n",
      "image /Users/kuiqian/BstemAtlasDataBackup/ucsd_brain/CSHL_patches/MD589/VCA_surround_200um_noclass/355_176.tif std= 7.626026077936438 too blank, skipping\n",
      "image /Users/kuiqian/BstemAtlasDataBackup/ucsd_brain/CSHL_patches/MD589/VCA_surround_200um_noclass/106_349.tif std= 5.537096314346087 too blank, skipping\n",
      "image /Users/kuiqian/BstemAtlasDataBackup/ucsd_brain/CSHL_patches/MD589/VCA_surround_200um_noclass/361_298.tif std= 3.7803996618193767 too blank, skipping\n",
      "image /Users/kuiqian/BstemAtlasDataBackup/ucsd_brain/CSHL_patches/MD589/VCA_surround_200um_noclass/363_174.tif std= 4.451272759839167 too blank, skipping\n",
      "image /Users/kuiqian/BstemAtlasDataBackup/ucsd_brain/CSHL_patches/MD589/VCA_surround_200um_noclass/94_106.tif std= 3.8191088740213326 too blank, skipping\n",
      "image /Users/kuiqian/BstemAtlasDataBackup/ucsd_brain/CSHL_patches/MD589/VCA_surround_200um_noclass/107_199.tif std= 3.232552928382255 too blank, skipping\n",
      "image /Users/kuiqian/BstemAtlasDataBackup/ucsd_brain/CSHL_patches/MD589/VCA_surround_200um_noclass/107_22.tif std= 5.858206225644634 too blank, skipping\n",
      "image /Users/kuiqian/BstemAtlasDataBackup/ucsd_brain/CSHL_patches/MD589/VCA_surround_200um_noclass/358_196.tif std= 5.747628764339397 too blank, skipping\n",
      "image /Users/kuiqian/BstemAtlasDataBackup/ucsd_brain/CSHL_patches/MD589/VCA_surround_200um_noclass/357_259.tif std= 3.874627101050355 too blank, skipping\n",
      "image /Users/kuiqian/BstemAtlasDataBackup/ucsd_brain/CSHL_patches/MD589/VCA_surround_200um_noclass/364_322.tif std= 4.017649663789716 too blank, skipping\n",
      "image /Users/kuiqian/BstemAtlasDataBackup/ucsd_brain/CSHL_patches/MD589/VCA_surround_200um_noclass/365_131.tif std= 4.309530285015122 too blank, skipping\n",
      "image /Users/kuiqian/BstemAtlasDataBackup/ucsd_brain/CSHL_patches/MD589/VCA_surround_200um_noclass/364_336.tif std= 3.880610070783779 too blank, skipping\n"
     ]
    },
    {
     "name": "stdout",
     "output_type": "stream",
     "text": [
      "image /Users/kuiqian/BstemAtlasDataBackup/ucsd_brain/CSHL_patches/MD589/VCA_surround_200um_noclass/100_17.tif std= 3.9828290720750084 too blank, skipping\n",
      "image /Users/kuiqian/BstemAtlasDataBackup/ucsd_brain/CSHL_patches/MD589/VCA_surround_200um_noclass/111_137.tif std= 8.766742902484202 too blank, skipping\n",
      "image /Users/kuiqian/BstemAtlasDataBackup/ucsd_brain/CSHL_patches/MD589/VCA_surround_200um_noclass/361_267.tif std= 3.604146962368661 too blank, skipping\n",
      "image /Users/kuiqian/BstemAtlasDataBackup/ucsd_brain/CSHL_patches/MD589/VCA_surround_200um_noclass/114_62.tif std= 8.709304522867853 too blank, skipping\n",
      "image /Users/kuiqian/BstemAtlasDataBackup/ucsd_brain/CSHL_patches/MD589/VCA_surround_200um_noclass/111_85.tif std= 4.986748864128463 too blank, skipping\n",
      "image /Users/kuiqian/BstemAtlasDataBackup/ucsd_brain/CSHL_patches/MD589/VCA_surround_200um_noclass/120_203.tif std= 8.756275080815232 too blank, skipping\n",
      "image /Users/kuiqian/BstemAtlasDataBackup/ucsd_brain/CSHL_patches/MD589/VCA_surround_200um_noclass/359_226.tif std= 4.812456060863553 too blank, skipping\n",
      "image /Users/kuiqian/BstemAtlasDataBackup/ucsd_brain/CSHL_patches/MD589/VCA_surround_200um_noclass/120_217.tif std= 9.28717463025353 too blank, skipping\n",
      "image /Users/kuiqian/BstemAtlasDataBackup/ucsd_brain/CSHL_patches/MD589/VCA_surround_200um_noclass/111_91.tif std= 8.934071707098807 too blank, skipping\n",
      "image /Users/kuiqian/BstemAtlasDataBackup/ucsd_brain/CSHL_patches/MD589/VCA_surround_200um_noclass/106_201.tif std= 8.025129411058003 too blank, skipping\n",
      "image /Users/kuiqian/BstemAtlasDataBackup/ucsd_brain/CSHL_patches/MD589/VCA_surround_200um_noclass/110_287.tif std= 7.605645497463877 too blank, skipping\n",
      "image /Users/kuiqian/BstemAtlasDataBackup/ucsd_brain/CSHL_patches/MD589/VCA_surround_200um_noclass/364_295.tif std= 4.063762741599543 too blank, skipping\n",
      "image /Users/kuiqian/BstemAtlasDataBackup/ucsd_brain/CSHL_patches/MD589/VCA_surround_200um_noclass/366_6.tif std= 3.7017894803991864 too blank, skipping\n",
      "image /Users/kuiqian/BstemAtlasDataBackup/ucsd_brain/CSHL_patches/MD589/VCA_surround_200um_noclass/100_293.tif std= 9.97982020919001 too blank, skipping\n",
      "image /Users/kuiqian/BstemAtlasDataBackup/ucsd_brain/CSHL_patches/MD589/VCA_surround_200um_noclass/111_46.tif std= 5.056117249970095 too blank, skipping\n",
      "image /Users/kuiqian/BstemAtlasDataBackup/ucsd_brain/CSHL_patches/MD589/VCA_surround_200um_noclass/122_104.tif std= 8.210415871573579 too blank, skipping\n",
      "image /Users/kuiqian/BstemAtlasDataBackup/ucsd_brain/CSHL_patches/MD589/VCA_surround_200um_noclass/365_19.tif std= 7.051055038547594 too blank, skipping\n",
      "image /Users/kuiqian/BstemAtlasDataBackup/ucsd_brain/CSHL_patches/MD589/VCA_surround_200um_noclass/105_27.tif std= 5.042807783766599 too blank, skipping\n",
      "image /Users/kuiqian/BstemAtlasDataBackup/ucsd_brain/CSHL_patches/MD589/VCA_surround_200um_noclass/106_2.tif std= 5.526915848806963 too blank, skipping\n",
      "image /Users/kuiqian/BstemAtlasDataBackup/ucsd_brain/CSHL_patches/MD589/VCA_surround_200um_noclass/365_31.tif std= 4.1264859833779015 too blank, skipping\n",
      "image /Users/kuiqian/BstemAtlasDataBackup/ucsd_brain/CSHL_patches/MD589/VCA_surround_200um_noclass/109_125.tif std= 5.934545796481428 too blank, skipping\n",
      "image /Users/kuiqian/BstemAtlasDataBackup/ucsd_brain/CSHL_patches/MD589/VCA_surround_200um_noclass/122_138.tif std= 9.055340136043656 too blank, skipping\n",
      "image /Users/kuiqian/BstemAtlasDataBackup/ucsd_brain/CSHL_patches/MD589/VCA_surround_200um_noclass/104_106.tif std= 4.369714494239712 too blank, skipping\n",
      "image /Users/kuiqian/BstemAtlasDataBackup/ucsd_brain/CSHL_patches/MD589/VCA_surround_200um_noclass/360_100.tif std= 5.044349265978465 too blank, skipping\n",
      "image /Users/kuiqian/BstemAtlasDataBackup/ucsd_brain/CSHL_patches/MD589/VCA_surround_200um_noclass/361_313.tif std= 3.7876590991567656 too blank, skipping\n",
      "image /Users/kuiqian/BstemAtlasDataBackup/ucsd_brain/CSHL_patches/MD589/VCA_surround_200um_noclass/349_54.tif std= 9.056604336699746 too blank, skipping\n",
      "image /Users/kuiqian/BstemAtlasDataBackup/ucsd_brain/CSHL_patches/MD589/VCA_surround_200um_noclass/107_238.tif std= 3.5463122721891356 too blank, skipping\n",
      "image /Users/kuiqian/BstemAtlasDataBackup/ucsd_brain/CSHL_patches/MD589/VCA_surround_200um_noclass/361_96.tif std= 7.334155845474213 too blank, skipping\n",
      "image /Users/kuiqian/BstemAtlasDataBackup/ucsd_brain/CSHL_patches/MD589/VCA_surround_200um_noclass/108_98.tif std= 5.266951215075209 too blank, skipping\n",
      "image /Users/kuiqian/BstemAtlasDataBackup/ucsd_brain/CSHL_patches/MD589/VCA_surround_200um_noclass/99_247.tif std= 6.429854617523061 too blank, skipping\n",
      "image /Users/kuiqian/BstemAtlasDataBackup/ucsd_brain/CSHL_patches/MD589/VCA_surround_200um_noclass/111_269.tif std= 8.876121614595636 too blank, skipping\n",
      "image /Users/kuiqian/BstemAtlasDataBackup/ucsd_brain/CSHL_patches/MD589/VCA_surround_200um_noclass/101_57.tif std= 7.786085235091185 too blank, skipping\n",
      "image /Users/kuiqian/BstemAtlasDataBackup/ucsd_brain/CSHL_patches/MD589/VCA_surround_200um_noclass/106_62.tif std= 9.079782137242127 too blank, skipping\n",
      "image /Users/kuiqian/BstemAtlasDataBackup/ucsd_brain/CSHL_patches/MD589/VCA_surround_200um_noclass/104_0.tif std= 4.7308992636276255 too blank, skipping\n",
      "image /Users/kuiqian/BstemAtlasDataBackup/ucsd_brain/CSHL_patches/MD589/VCA_surround_200um_noclass/111_255.tif std= 4.070201083495345 too blank, skipping\n",
      "image /Users/kuiqian/BstemAtlasDataBackup/ucsd_brain/CSHL_patches/MD589/VCA_surround_200um_noclass/105_117.tif std= 3.8992066260208107 too blank, skipping\n",
      "image /Users/kuiqian/BstemAtlasDataBackup/ucsd_brain/CSHL_patches/MD589/VCA_surround_200um_noclass/367_183.tif std= 4.600436454485193 too blank, skipping\n",
      "image /Users/kuiqian/BstemAtlasDataBackup/ucsd_brain/CSHL_patches/MD589/VCA_surround_200um_noclass/105_116.tif std= 4.207760794779138 too blank, skipping\n",
      "image /Users/kuiqian/BstemAtlasDataBackup/ucsd_brain/CSHL_patches/MD589/VCA_surround_200um_noclass/108_121.tif std= 7.658298909400507 too blank, skipping\n",
      "image /Users/kuiqian/BstemAtlasDataBackup/ucsd_brain/CSHL_patches/MD589/VCA_surround_200um_noclass/106_63.tif std= 7.240603167236939 too blank, skipping\n",
      "image /Users/kuiqian/BstemAtlasDataBackup/ucsd_brain/CSHL_patches/MD589/VCA_surround_200um_noclass/367_196.tif std= 3.4483268549916817 too blank, skipping\n",
      "image /Users/kuiqian/BstemAtlasDataBackup/ucsd_brain/CSHL_patches/MD589/VCA_surround_200um_noclass/111_254.tif std= 4.398828342101684 too blank, skipping\n",
      "image /Users/kuiqian/BstemAtlasDataBackup/ucsd_brain/CSHL_patches/MD589/VCA_surround_200um_noclass/104_1.tif std= 4.695723300160416 too blank, skipping\n",
      "image /Users/kuiqian/BstemAtlasDataBackup/ucsd_brain/CSHL_patches/MD589/VCA_surround_200um_noclass/101_42.tif std= 8.915051889950844 too blank, skipping\n",
      "image /Users/kuiqian/BstemAtlasDataBackup/ucsd_brain/CSHL_patches/MD589/VCA_surround_200um_noclass/111_268.tif std= 8.31565700752723 too blank, skipping\n",
      "image /Users/kuiqian/BstemAtlasDataBackup/ucsd_brain/CSHL_patches/MD589/VCA_surround_200um_noclass/108_99.tif std= 5.301619619583679 too blank, skipping\n",
      "image /Users/kuiqian/BstemAtlasDataBackup/ucsd_brain/CSHL_patches/MD589/VCA_surround_200um_noclass/361_97.tif std= 7.301544077289842 too blank, skipping\n",
      "image /Users/kuiqian/BstemAtlasDataBackup/ucsd_brain/CSHL_patches/MD589/VCA_surround_200um_noclass/121_213.tif std= 9.60918127111828 too blank, skipping\n",
      "image /Users/kuiqian/BstemAtlasDataBackup/ucsd_brain/CSHL_patches/MD589/VCA_surround_200um_noclass/358_236.tif std= 5.510944230676864 too blank, skipping\n",
      "image /Users/kuiqian/BstemAtlasDataBackup/ucsd_brain/CSHL_patches/MD589/VCA_surround_200um_noclass/355_201.tif std= 9.153828465663796 too blank, skipping\n",
      "image /Users/kuiqian/BstemAtlasDataBackup/ucsd_brain/CSHL_patches/MD589/VCA_surround_200um_noclass/122_139.tif std= 8.74869496254029 too blank, skipping\n",
      "image /Users/kuiqian/BstemAtlasDataBackup/ucsd_brain/CSHL_patches/MD589/VCA_surround_200um_noclass/361_312.tif std= 3.8144825024438385 too blank, skipping\n",
      "image /Users/kuiqian/BstemAtlasDataBackup/ucsd_brain/CSHL_patches/MD589/VCA_surround_200um_noclass/106_3.tif std= 5.887040914657832 too blank, skipping\n",
      "image /Users/kuiqian/BstemAtlasDataBackup/ucsd_brain/CSHL_patches/MD589/VCA_surround_200um_noclass/109_124.tif std= 6.031831481646864 too blank, skipping\n"
     ]
    },
    {
     "name": "stdout",
     "output_type": "stream",
     "text": [
      "image /Users/kuiqian/BstemAtlasDataBackup/ucsd_brain/CSHL_patches/MD589/VCA_surround_200um_noclass/365_30.tif std= 4.325582005700321 too blank, skipping\n",
      "image /Users/kuiqian/BstemAtlasDataBackup/ucsd_brain/CSHL_patches/MD589/VCA_surround_200um_noclass/365_18.tif std= 7.6430186753274985 too blank, skipping\n",
      "image /Users/kuiqian/BstemAtlasDataBackup/ucsd_brain/CSHL_patches/MD589/VCA_surround_200um_noclass/346_103.tif std= 8.773705372926457 too blank, skipping\n",
      "image /Users/kuiqian/BstemAtlasDataBackup/ucsd_brain/CSHL_patches/MD589/VCA_surround_200um_noclass/122_105.tif std= 7.790740045875294 too blank, skipping\n",
      "image /Users/kuiqian/BstemAtlasDataBackup/ucsd_brain/CSHL_patches/MD589/VCA_surround_200um_noclass/105_26.tif std= 5.199768129457061 too blank, skipping\n",
      "image /Users/kuiqian/BstemAtlasDataBackup/ucsd_brain/CSHL_patches/MD589/VCA_surround_200um_noclass/362_11.tif std= 4.510569829480769 too blank, skipping\n",
      "image /Users/kuiqian/BstemAtlasDataBackup/ucsd_brain/CSHL_patches/MD589/VCA_surround_200um_noclass/357_310.tif std= 9.529205489755828 too blank, skipping\n",
      "image /Users/kuiqian/BstemAtlasDataBackup/ucsd_brain/CSHL_patches/MD589/VCA_surround_200um_noclass/111_47.tif std= 5.230201067454104 too blank, skipping\n",
      "image /Users/kuiqian/BstemAtlasDataBackup/ucsd_brain/CSHL_patches/MD589/VCA_surround_200um_noclass/364_280.tif std= 4.416397143014973 too blank, skipping\n",
      "image /Users/kuiqian/BstemAtlasDataBackup/ucsd_brain/CSHL_patches/MD589/VCA_surround_200um_noclass/362_206.tif std= 4.4637286794594555 too blank, skipping\n",
      "image /Users/kuiqian/BstemAtlasDataBackup/ucsd_brain/CSHL_patches/MD589/VCA_surround_200um_noclass/110_286.tif std= 8.751978536654825 too blank, skipping\n",
      "image /Users/kuiqian/BstemAtlasDataBackup/ucsd_brain/CSHL_patches/MD589/VCA_surround_200um_noclass/366_7.tif std= 3.8202421846449877 too blank, skipping\n",
      "image /Users/kuiqian/BstemAtlasDataBackup/ucsd_brain/CSHL_patches/MD589/VCA_surround_200um_noclass/364_294.tif std= 4.103275414567863 too blank, skipping\n",
      "image /Users/kuiqian/BstemAtlasDataBackup/ucsd_brain/CSHL_patches/MD589/VCA_surround_200um_noclass/111_90.tif std= 9.533459688172064 too blank, skipping\n",
      "image /Users/kuiqian/BstemAtlasDataBackup/ucsd_brain/CSHL_patches/MD589/VCA_surround_200um_noclass/111_84.tif std= 5.009692820312768 too blank, skipping\n",
      "image /Users/kuiqian/BstemAtlasDataBackup/ucsd_brain/CSHL_patches/MD589/VCA_surround_200um_noclass/359_227.tif std= 3.7988363095491486 too blank, skipping\n",
      "image /Users/kuiqian/BstemAtlasDataBackup/ucsd_brain/CSHL_patches/MD589/VCA_surround_200um_noclass/120_202.tif std= 9.493242755360397 too blank, skipping\n",
      "image /Users/kuiqian/BstemAtlasDataBackup/ucsd_brain/CSHL_patches/MD589/VCA_surround_200um_noclass/364_337.tif std= 3.9299950732550735 too blank, skipping\n",
      "image /Users/kuiqian/BstemAtlasDataBackup/ucsd_brain/CSHL_patches/MD589/VCA_surround_200um_noclass/114_63.tif std= 9.233039869299395 too blank, skipping\n",
      "image /Users/kuiqian/BstemAtlasDataBackup/ucsd_brain/CSHL_patches/MD589/VCA_surround_200um_noclass/361_266.tif std= 3.668624981057387 too blank, skipping\n",
      "image /Users/kuiqian/BstemAtlasDataBackup/ucsd_brain/CSHL_patches/MD589/VCA_surround_200um_noclass/111_136.tif std= 9.272039038544708 too blank, skipping\n",
      "image /Users/kuiqian/BstemAtlasDataBackup/ucsd_brain/CSHL_patches/MD589/VCA_surround_200um_noclass/100_16.tif std= 4.0251420563807905 too blank, skipping\n",
      "image /Users/kuiqian/BstemAtlasDataBackup/ucsd_brain/CSHL_patches/MD589/VCA_surround_200um_noclass/357_258.tif std= 3.924246133506216 too blank, skipping\n",
      "image /Users/kuiqian/BstemAtlasDataBackup/ucsd_brain/CSHL_patches/MD589/VCA_surround_200um_noclass/105_274.tif std= 9.52148878205026 too blank, skipping\n",
      "image /Users/kuiqian/BstemAtlasDataBackup/ucsd_brain/CSHL_patches/MD589/VCA_surround_200um_noclass/364_323.tif std= 4.0103714040323695 too blank, skipping\n",
      "image /Users/kuiqian/BstemAtlasDataBackup/ucsd_brain/CSHL_patches/MD589/VCA_surround_200um_noclass/358_197.tif std= 5.579853436945792 too blank, skipping\n",
      "image /Users/kuiqian/BstemAtlasDataBackup/ucsd_brain/CSHL_patches/MD589/VCA_surround_200um_noclass/107_23.tif std= 4.182507474991983 too blank, skipping\n",
      "image /Users/kuiqian/BstemAtlasDataBackup/ucsd_brain/CSHL_patches/MD589/VCA_surround_200um_noclass/107_198.tif std= 6.375405602367212 too blank, skipping\n",
      "image /Users/kuiqian/BstemAtlasDataBackup/ucsd_brain/CSHL_patches/MD589/VCA_surround_200um_noclass/363_175.tif std= 4.477230250908081 too blank, skipping\n",
      "image /Users/kuiqian/BstemAtlasDataBackup/ucsd_brain/CSHL_patches/MD589/VCA_surround_200um_noclass/120_362.tif std= 9.939906103572326 too blank, skipping\n",
      "image /Users/kuiqian/BstemAtlasDataBackup/ucsd_brain/CSHL_patches/MD589/VCA_surround_200um_noclass/361_299.tif std= 3.710081169536535 too blank, skipping\n",
      "image /Users/kuiqian/BstemAtlasDataBackup/ucsd_brain/CSHL_patches/MD589/VCA_surround_200um_noclass/106_348.tif std= 5.236416941124413 too blank, skipping\n",
      "image /Users/kuiqian/BstemAtlasDataBackup/ucsd_brain/CSHL_patches/MD589/VCA_surround_200um_noclass/355_177.tif std= 4.4606116023940485 too blank, skipping\n",
      "image /Users/kuiqian/BstemAtlasDataBackup/ucsd_brain/CSHL_patches/MD589/VCA_surround_200um_noclass/121_165.tif std= 9.638862411136195 too blank, skipping\n",
      "image /Users/kuiqian/BstemAtlasDataBackup/ucsd_brain/CSHL_patches/MD589/VCA_surround_200um_noclass/111_334.tif std= 7.895470762940049 too blank, skipping\n",
      "image /Users/kuiqian/BstemAtlasDataBackup/ucsd_brain/CSHL_patches/MD589/VCA_surround_200um_noclass/363_45.tif std= 8.784802366512883 too blank, skipping\n",
      "image /Users/kuiqian/BstemAtlasDataBackup/ucsd_brain/CSHL_patches/MD589/VCA_surround_200um_noclass/114_271.tif std= 9.98282371537563 too blank, skipping\n",
      "image /Users/kuiqian/BstemAtlasDataBackup/ucsd_brain/CSHL_patches/MD589/VCA_surround_200um_noclass/364_58.tif std= 9.728572800708058 too blank, skipping\n",
      "image /Users/kuiqian/BstemAtlasDataBackup/ucsd_brain/CSHL_patches/MD589/VCA_surround_200um_noclass/110_133.tif std= 4.498519377074814 too blank, skipping\n",
      "image /Users/kuiqian/BstemAtlasDataBackup/ucsd_brain/CSHL_patches/MD589/VCA_surround_200um_noclass/104_66.tif std= 4.900543587239653 too blank, skipping\n",
      "image /Users/kuiqian/BstemAtlasDataBackup/ucsd_brain/CSHL_patches/MD589/VCA_surround_200um_noclass/110_13.tif std= 7.998451382410224 too blank, skipping\n",
      "image /Users/kuiqian/BstemAtlasDataBackup/ucsd_brain/CSHL_patches/MD589/VCA_surround_200um_noclass/356_261.tif std= 4.451176116276646 too blank, skipping\n",
      "image /Users/kuiqian/BstemAtlasDataBackup/ucsd_brain/CSHL_patches/MD589/VCA_surround_200um_noclass/364_64.tif std= 4.151015603018291 too blank, skipping\n",
      "image /Users/kuiqian/BstemAtlasDataBackup/ucsd_brain/CSHL_patches/MD589/VCA_surround_200um_noclass/356_275.tif std= 6.265333585647881 too blank, skipping\n",
      "image /Users/kuiqian/BstemAtlasDataBackup/ucsd_brain/CSHL_patches/MD589/VCA_surround_200um_noclass/363_86.tif std= 4.992179314082836 too blank, skipping\n",
      "image /Users/kuiqian/BstemAtlasDataBackup/ucsd_brain/CSHL_patches/MD589/VCA_surround_200um_noclass/362_3.tif std= 6.578786128719272 too blank, skipping\n",
      "image /Users/kuiqian/BstemAtlasDataBackup/ucsd_brain/CSHL_patches/MD589/VCA_surround_200um_noclass/359_179.tif std= 3.4659895024575973 too blank, skipping\n",
      "image /Users/kuiqian/BstemAtlasDataBackup/ucsd_brain/CSHL_patches/MD589/VCA_surround_200um_noclass/109_285.tif std= 4.442848289221445 too blank, skipping\n",
      "image /Users/kuiqian/BstemAtlasDataBackup/ucsd_brain/CSHL_patches/MD589/VCA_surround_200um_noclass/362_158.tif std= 4.6407529267848435 too blank, skipping\n",
      "image /Users/kuiqian/BstemAtlasDataBackup/ucsd_brain/CSHL_patches/MD589/VCA_surround_200um_noclass/350_224.tif std= 9.381094682627097 too blank, skipping\n",
      "image /Users/kuiqian/BstemAtlasDataBackup/ucsd_brain/CSHL_patches/MD589/VCA_surround_200um_noclass/106_148.tif std= 3.6063046027690384 too blank, skipping\n",
      "image /Users/kuiqian/BstemAtlasDataBackup/ucsd_brain/CSHL_patches/MD589/VCA_surround_200um_noclass/363_84.tif std= 4.887245036497976 too blank, skipping\n",
      "image /Users/kuiqian/BstemAtlasDataBackup/ucsd_brain/CSHL_patches/MD589/VCA_surround_200um_noclass/363_90.tif std= 4.4056783666024 too blank, skipping\n",
      "image /Users/kuiqian/BstemAtlasDataBackup/ucsd_brain/CSHL_patches/MD589/VCA_surround_200um_noclass/110_39.tif std= 4.835557111350677 too blank, skipping\n"
     ]
    },
    {
     "name": "stdout",
     "output_type": "stream",
     "text": [
      "image /Users/kuiqian/BstemAtlasDataBackup/ucsd_brain/CSHL_patches/MD589/VCA_surround_200um_noclass/117_24.tif std= 8.644905643885547 too blank, skipping\n",
      "image /Users/kuiqian/BstemAtlasDataBackup/ucsd_brain/CSHL_patches/MD589/VCA_surround_200um_noclass/363_47.tif std= 9.467464657253315 too blank, skipping\n",
      "image /Users/kuiqian/BstemAtlasDataBackup/ucsd_brain/CSHL_patches/MD589/VCA_surround_200um_noclass/360_275.tif std= 3.966276797796397 too blank, skipping\n",
      "image /Users/kuiqian/BstemAtlasDataBackup/ucsd_brain/CSHL_patches/MD589/VCA_surround_200um_noclass/110_11.tif std= 7.930294586718076 too blank, skipping\n",
      "image /Users/kuiqian/BstemAtlasDataBackup/ucsd_brain/CSHL_patches/MD589/VCA_surround_200um_noclass/104_64.tif std= 4.777146669648278 too blank, skipping\n",
      "image /Users/kuiqian/BstemAtlasDataBackup/ucsd_brain/CSHL_patches/MD589/VCA_surround_200um_noclass/110_131.tif std= 4.535555807411643 too blank, skipping\n",
      "image /Users/kuiqian/BstemAtlasDataBackup/ucsd_brain/CSHL_patches/MD589/VCA_surround_200um_noclass/109_250.tif std= 4.814782511028301 too blank, skipping\n",
      "image /Users/kuiqian/BstemAtlasDataBackup/ucsd_brain/CSHL_patches/MD589/VCA_surround_200um_noclass/120_189.tif std= 9.137028821633066 too blank, skipping\n",
      "image /Users/kuiqian/BstemAtlasDataBackup/ucsd_brain/CSHL_patches/MD589/VCA_surround_200um_noclass/358_156.tif std= 6.695936722704736 too blank, skipping\n",
      "image /Users/kuiqian/BstemAtlasDataBackup/ucsd_brain/CSHL_patches/MD589/VCA_surround_200um_noclass/107_159.tif std= 6.457417218819894 too blank, skipping\n",
      "image /Users/kuiqian/BstemAtlasDataBackup/ucsd_brain/CSHL_patches/MD589/VCA_surround_200um_noclass/105_289.tif std= 3.852002861938253 too blank, skipping\n",
      "image /Users/kuiqian/BstemAtlasDataBackup/ucsd_brain/CSHL_patches/MD589/VCA_surround_200um_noclass/108_282.tif std= 4.334383062249072 too blank, skipping\n",
      "image /Users/kuiqian/BstemAtlasDataBackup/ucsd_brain/CSHL_patches/MD589/VCA_surround_200um_noclass/355_149.tif std= 4.284387354349798 too blank, skipping\n",
      "image /Users/kuiqian/BstemAtlasDataBackup/ucsd_brain/CSHL_patches/MD589/VCA_surround_200um_noclass/107_165.tif std= 4.0041449891555505 too blank, skipping\n",
      "image /Users/kuiqian/BstemAtlasDataBackup/ucsd_brain/CSHL_patches/MD589/VCA_surround_200um_noclass/111_108.tif std= 4.592266722461438 too blank, skipping\n",
      "image /Users/kuiqian/BstemAtlasDataBackup/ucsd_brain/CSHL_patches/MD589/VCA_surround_200um_noclass/363_188.tif std= 4.352643860094453 too blank, skipping\n",
      "image /Users/kuiqian/BstemAtlasDataBackup/ucsd_brain/CSHL_patches/MD589/VCA_surround_200um_noclass/100_28.tif std= 7.905327002032387 too blank, skipping\n",
      "image /Users/kuiqian/BstemAtlasDataBackup/ucsd_brain/CSHL_patches/MD589/VCA_surround_200um_noclass/107_21.tif std= 7.044201015282935 too blank, skipping\n",
      "image /Users/kuiqian/BstemAtlasDataBackup/ucsd_brain/CSHL_patches/MD589/VCA_surround_200um_noclass/364_309.tif std= 4.019052110576438 too blank, skipping\n",
      "image /Users/kuiqian/BstemAtlasDataBackup/ucsd_brain/CSHL_patches/MD589/VCA_surround_200um_noclass/358_181.tif std= 5.331870686496005 too blank, skipping\n",
      "image /Users/kuiqian/BstemAtlasDataBackup/ucsd_brain/CSHL_patches/MD589/VCA_surround_200um_noclass/109_18.tif std= 5.290766479719525 too blank, skipping\n",
      "image /Users/kuiqian/BstemAtlasDataBackup/ucsd_brain/CSHL_patches/MD589/VCA_surround_200um_noclass/94_105.tif std= 3.7449041965362455 too blank, skipping\n",
      "image /Users/kuiqian/BstemAtlasDataBackup/ucsd_brain/CSHL_patches/MD589/VCA_surround_200um_noclass/100_14.tif std= 8.914297851683953 too blank, skipping\n",
      "image /Users/kuiqian/BstemAtlasDataBackup/ucsd_brain/CSHL_patches/MD589/VCA_surround_200um_noclass/361_264.tif std= 3.651500790719935 too blank, skipping\n",
      "image /Users/kuiqian/BstemAtlasDataBackup/ucsd_brain/CSHL_patches/MD589/VCA_surround_200um_noclass/111_134.tif std= 4.0951745176584256 too blank, skipping\n",
      "image /Users/kuiqian/BstemAtlasDataBackup/ucsd_brain/CSHL_patches/MD589/VCA_surround_200um_noclass/100_7.tif std= 5.175310858298157 too blank, skipping\n",
      "image /Users/kuiqian/BstemAtlasDataBackup/ucsd_brain/CSHL_patches/MD589/VCA_surround_200um_noclass/121_198.tif std= 9.142411261242367 too blank, skipping\n",
      "image /Users/kuiqian/BstemAtlasDataBackup/ucsd_brain/CSHL_patches/MD589/VCA_surround_200um_noclass/365_132.tif std= 4.17667862847323 too blank, skipping\n",
      "image /Users/kuiqian/BstemAtlasDataBackup/ucsd_brain/CSHL_patches/MD589/VCA_surround_200um_noclass/362_238.tif std= 4.401680429421376 too blank, skipping\n",
      "image /Users/kuiqian/BstemAtlasDataBackup/ucsd_brain/CSHL_patches/MD589/VCA_surround_200um_noclass/111_86.tif std= 4.641424923439447 too blank, skipping\n",
      "image /Users/kuiqian/BstemAtlasDataBackup/ucsd_brain/CSHL_patches/MD589/VCA_surround_200um_noclass/366_5.tif std= 3.784118223352878 too blank, skipping\n",
      "image /Users/kuiqian/BstemAtlasDataBackup/ucsd_brain/CSHL_patches/MD589/VCA_surround_200um_noclass/106_202.tif std= 4.174851100784817 too blank, skipping\n",
      "image /Users/kuiqian/BstemAtlasDataBackup/ucsd_brain/CSHL_patches/MD589/VCA_surround_200um_noclass/362_13.tif std= 5.284704415792218 too blank, skipping\n",
      "image /Users/kuiqian/BstemAtlasDataBackup/ucsd_brain/CSHL_patches/MD589/VCA_surround_200um_noclass/105_24.tif std= 5.214893828279459 too blank, skipping\n",
      "image /Users/kuiqian/BstemAtlasDataBackup/ucsd_brain/CSHL_patches/MD589/VCA_surround_200um_noclass/102_39.tif std= 5.523430565100125 too blank, skipping\n",
      "image /Users/kuiqian/BstemAtlasDataBackup/ucsd_brain/CSHL_patches/MD589/VCA_surround_200um_noclass/111_45.tif std= 7.446480241646611 too blank, skipping\n",
      "image /Users/kuiqian/BstemAtlasDataBackup/ucsd_brain/CSHL_patches/MD589/VCA_surround_200um_noclass/356_129.tif std= 4.705795540194369 too blank, skipping\n",
      "image /Users/kuiqian/BstemAtlasDataBackup/ucsd_brain/CSHL_patches/MD589/VCA_surround_200um_noclass/104_105.tif std= 4.70177005421392 too blank, skipping\n",
      "image /Users/kuiqian/BstemAtlasDataBackup/ucsd_brain/CSHL_patches/MD589/VCA_surround_200um_noclass/361_310.tif std= 6.407714398485378 too blank, skipping\n",
      "image /Users/kuiqian/BstemAtlasDataBackup/ucsd_brain/CSHL_patches/MD589/VCA_surround_200um_noclass/102_11.tif std= 6.1908287980655 too blank, skipping\n",
      "image /Users/kuiqian/BstemAtlasDataBackup/ucsd_brain/CSHL_patches/MD589/VCA_surround_200um_noclass/365_26.tif std= 8.967722970000237 too blank, skipping\n",
      "image /Users/kuiqian/BstemAtlasDataBackup/ucsd_brain/CSHL_patches/MD589/VCA_surround_200um_noclass/365_32.tif std= 4.199780827330346 too blank, skipping\n",
      "image /Users/kuiqian/BstemAtlasDataBackup/ucsd_brain/CSHL_patches/MD589/VCA_surround_200um_noclass/108_335.tif std= 4.3605981103775795 too blank, skipping\n",
      "image /Users/kuiqian/BstemAtlasDataBackup/ucsd_brain/CSHL_patches/MD589/VCA_surround_200um_noclass/109_126.tif std= 5.324446523610215 too blank, skipping\n",
      "image /Users/kuiqian/BstemAtlasDataBackup/ucsd_brain/CSHL_patches/MD589/VCA_surround_200um_noclass/106_1.tif std= 4.009536737507369 too blank, skipping\n",
      "image /Users/kuiqian/BstemAtlasDataBackup/ucsd_brain/CSHL_patches/MD589/VCA_surround_200um_noclass/355_203.tif std= 3.9697293206193613 too blank, skipping\n",
      "image /Users/kuiqian/BstemAtlasDataBackup/ucsd_brain/CSHL_patches/MD589/VCA_surround_200um_noclass/358_234.tif std= 5.632363735774504 too blank, skipping\n",
      "image /Users/kuiqian/BstemAtlasDataBackup/ucsd_brain/CSHL_patches/MD589/VCA_surround_200um_noclass/111_295.tif std= 4.052621595489052 too blank, skipping\n",
      "VCAfinished in 3063.0 seconds\n",
      "mkdir: /Users/kuiqian/BstemAtlasDataBackup/ucsd_brain/CSHL_cells/MD589/VCP/: File exists\n",
      "image /Users/kuiqian/BstemAtlasDataBackup/ucsd_brain/CSHL_patches/MD589/VCP_surround_200um_noclass/350_225.tif std= 5.346274355137218 too blank, skipping\n",
      "image /Users/kuiqian/BstemAtlasDataBackup/ucsd_brain/CSHL_patches/MD589/VCP_surround_200um_noclass/350_219.tif std= 4.375207156512376 too blank, skipping\n",
      "image /Users/kuiqian/BstemAtlasDataBackup/ucsd_brain/CSHL_patches/MD589/VCP_surround_200um_noclass/349_178.tif std= 3.830864191956242 too blank, skipping\n",
      "image /Users/kuiqian/BstemAtlasDataBackup/ucsd_brain/CSHL_patches/MD589/VCP_surround_200um_noclass/346_506.tif std= 9.639688552620738 too blank, skipping\n",
      "image /Users/kuiqian/BstemAtlasDataBackup/ucsd_brain/CSHL_patches/MD589/VCP_surround_200um_noclass/349_193.tif std= 3.741148456331079 too blank, skipping\n"
     ]
    },
    {
     "name": "stdout",
     "output_type": "stream",
     "text": [
      "image /Users/kuiqian/BstemAtlasDataBackup/ucsd_brain/CSHL_patches/MD589/VCP_surround_200um_noclass/122_88.tif std= 9.510148641873775 too blank, skipping\n",
      "image /Users/kuiqian/BstemAtlasDataBackup/ucsd_brain/CSHL_patches/MD589/VCP_surround_200um_noclass/117_33.tif std= 7.36724612949714 too blank, skipping\n",
      "image /Users/kuiqian/BstemAtlasDataBackup/ucsd_brain/CSHL_patches/MD589/VCP_surround_200um_noclass/351_220.tif std= 5.383902573643893 too blank, skipping\n",
      "image /Users/kuiqian/BstemAtlasDataBackup/ucsd_brain/CSHL_patches/MD589/VCP_surround_200um_noclass/351_208.tif std= 8.278572023528188 too blank, skipping\n",
      "image /Users/kuiqian/BstemAtlasDataBackup/ucsd_brain/CSHL_patches/MD589/VCP_surround_200um_noclass/342_320.tif std= 2.1928154899820402 too blank, skipping\n",
      "image /Users/kuiqian/BstemAtlasDataBackup/ucsd_brain/CSHL_patches/MD589/VCP_surround_200um_noclass/347_271.tif std= 7.7568038562314285 too blank, skipping\n",
      "image /Users/kuiqian/BstemAtlasDataBackup/ucsd_brain/CSHL_patches/MD589/VCP_surround_200um_noclass/342_308.tif std= 6.812150389123416 too blank, skipping\n",
      "image /Users/kuiqian/BstemAtlasDataBackup/ucsd_brain/CSHL_patches/MD589/VCP_surround_200um_noclass/123_23.tif std= 9.0126400234117 too blank, skipping\n",
      "image /Users/kuiqian/BstemAtlasDataBackup/ucsd_brain/CSHL_patches/MD589/VCP_surround_200um_noclass/352_240.tif std= 5.353568768533961 too blank, skipping\n",
      "image /Users/kuiqian/BstemAtlasDataBackup/ucsd_brain/CSHL_patches/MD589/VCP_surround_200um_noclass/350_190.tif std= 4.842358285712152 too blank, skipping\n",
      "image /Users/kuiqian/BstemAtlasDataBackup/ucsd_brain/CSHL_patches/MD589/VCP_surround_200um_noclass/342_268.tif std= 4.732718358087636 too blank, skipping\n",
      "image /Users/kuiqian/BstemAtlasDataBackup/ucsd_brain/CSHL_patches/MD589/VCP_surround_200um_noclass/115_8.tif std= 9.909324502401676 too blank, skipping\n",
      "image /Users/kuiqian/BstemAtlasDataBackup/ucsd_brain/CSHL_patches/MD589/VCP_surround_200um_noclass/120_1.tif std= 9.588733222837975 too blank, skipping\n",
      "image /Users/kuiqian/BstemAtlasDataBackup/ucsd_brain/CSHL_patches/MD589/VCP_surround_200um_noclass/357_107.tif std= 9.799777198304605 too blank, skipping\n",
      "image /Users/kuiqian/BstemAtlasDataBackup/ucsd_brain/CSHL_patches/MD589/VCP_surround_200um_noclass/115_23.tif std= 9.850966138778094 too blank, skipping\n",
      "image /Users/kuiqian/BstemAtlasDataBackup/ucsd_brain/CSHL_patches/MD589/VCP_surround_200um_noclass/120_0.tif std= 9.608039872023856 too blank, skipping\n",
      "image /Users/kuiqian/BstemAtlasDataBackup/ucsd_brain/CSHL_patches/MD589/VCP_surround_200um_noclass/115_9.tif std= 7.397014588836414 too blank, skipping\n",
      "image /Users/kuiqian/BstemAtlasDataBackup/ucsd_brain/CSHL_patches/MD589/VCP_surround_200um_noclass/342_269.tif std= 2.9080870370131207 too blank, skipping\n",
      "image /Users/kuiqian/BstemAtlasDataBackup/ucsd_brain/CSHL_patches/MD589/VCP_surround_200um_noclass/352_241.tif std= 5.041816118065057 too blank, skipping\n",
      "image /Users/kuiqian/BstemAtlasDataBackup/ucsd_brain/CSHL_patches/MD589/VCP_surround_200um_noclass/123_22.tif std= 9.215595601838464 too blank, skipping\n",
      "image /Users/kuiqian/BstemAtlasDataBackup/ucsd_brain/CSHL_patches/MD589/VCP_surround_200um_noclass/350_74.tif std= 6.722356576185108 too blank, skipping\n",
      "image /Users/kuiqian/BstemAtlasDataBackup/ucsd_brain/CSHL_patches/MD589/VCP_surround_200um_noclass/335_15.tif std= 8.77632341095384 too blank, skipping\n",
      "image /Users/kuiqian/BstemAtlasDataBackup/ucsd_brain/CSHL_patches/MD589/VCP_surround_200um_noclass/110_319.tif std= 5.886310740507485 too blank, skipping\n",
      "image /Users/kuiqian/BstemAtlasDataBackup/ucsd_brain/CSHL_patches/MD589/VCP_surround_200um_noclass/342_321.tif std= 1.1304115795510572 too blank, skipping\n",
      "image /Users/kuiqian/BstemAtlasDataBackup/ucsd_brain/CSHL_patches/MD589/VCP_surround_200um_noclass/351_209.tif std= 5.646450030874289 too blank, skipping\n",
      "image /Users/kuiqian/BstemAtlasDataBackup/ucsd_brain/CSHL_patches/MD589/VCP_surround_200um_noclass/349_192.tif std= 4.003722908471789 too blank, skipping\n",
      "image /Users/kuiqian/BstemAtlasDataBackup/ucsd_brain/CSHL_patches/MD589/VCP_surround_200um_noclass/117_32.tif std= 8.097642449147546 too blank, skipping\n",
      "image /Users/kuiqian/BstemAtlasDataBackup/ucsd_brain/CSHL_patches/MD589/VCP_surround_200um_noclass/349_186.tif std= 3.6251511272125168 too blank, skipping\n",
      "image /Users/kuiqian/BstemAtlasDataBackup/ucsd_brain/CSHL_patches/MD589/VCP_surround_200um_noclass/334_9.tif std= 9.521767854153527 too blank, skipping\n",
      "image /Users/kuiqian/BstemAtlasDataBackup/ucsd_brain/CSHL_patches/MD589/VCP_surround_200um_noclass/350_218.tif std= 4.675558726178284 too blank, skipping\n",
      "image /Users/kuiqian/BstemAtlasDataBackup/ucsd_brain/CSHL_patches/MD589/VCP_surround_200um_noclass/350_224.tif std= 6.6032627804892305 too blank, skipping\n",
      "image /Users/kuiqian/BstemAtlasDataBackup/ucsd_brain/CSHL_patches/MD589/VCP_surround_200um_noclass/349_147.tif std= 4.877696472343228 too blank, skipping\n",
      "image /Users/kuiqian/BstemAtlasDataBackup/ucsd_brain/CSHL_patches/MD589/VCP_surround_200um_noclass/350_226.tif std= 5.231206978542949 too blank, skipping\n",
      "image /Users/kuiqian/BstemAtlasDataBackup/ucsd_brain/CSHL_patches/MD589/VCP_surround_200um_noclass/349_190.tif std= 3.9708691161766683 too blank, skipping\n",
      "image /Users/kuiqian/BstemAtlasDataBackup/ucsd_brain/CSHL_patches/MD589/VCP_surround_200um_noclass/346_505.tif std= 7.107357070707806 too blank, skipping\n",
      "image /Users/kuiqian/BstemAtlasDataBackup/ucsd_brain/CSHL_patches/MD589/VCP_surround_200um_noclass/349_184.tif std= 3.992794462920146 too blank, skipping\n",
      "image /Users/kuiqian/BstemAtlasDataBackup/ucsd_brain/CSHL_patches/MD589/VCP_surround_200um_noclass/122_259.tif std= 9.878528432650231 too blank, skipping\n",
      "image /Users/kuiqian/BstemAtlasDataBackup/ucsd_brain/CSHL_patches/MD589/VCP_surround_200um_noclass/117_18.tif std= 7.9404320871208585 too blank, skipping\n",
      "image /Users/kuiqian/BstemAtlasDataBackup/ucsd_brain/CSHL_patches/MD589/VCP_surround_200um_noclass/107_159.tif std= 5.357671129669695 too blank, skipping\n",
      "image /Users/kuiqian/BstemAtlasDataBackup/ucsd_brain/CSHL_patches/MD589/VCP_surround_200um_noclass/342_323.tif std= 1.1025437137845226 too blank, skipping\n",
      "image /Users/kuiqian/BstemAtlasDataBackup/ucsd_brain/CSHL_patches/MD589/VCP_surround_200um_noclass/335_17.tif std= 8.52566934459708 too blank, skipping\n",
      "image /Users/kuiqian/BstemAtlasDataBackup/ucsd_brain/CSHL_patches/MD589/VCP_surround_200um_noclass/116_58.tif std= 9.194906114670344 too blank, skipping\n",
      "image /Users/kuiqian/BstemAtlasDataBackup/ucsd_brain/CSHL_patches/MD589/VCP_surround_200um_noclass/120_2.tif std= 9.060151055842235 too blank, skipping\n",
      "image /Users/kuiqian/BstemAtlasDataBackup/ucsd_brain/CSHL_patches/MD589/VCP_surround_200um_noclass/116_64.tif std= 9.452578748907813 too blank, skipping\n",
      "image /Users/kuiqian/BstemAtlasDataBackup/ucsd_brain/CSHL_patches/MD589/VCP_surround_200um_noclass/350_89.tif std= 7.331489172898352 too blank, skipping\n",
      "image /Users/kuiqian/BstemAtlasDataBackup/ucsd_brain/CSHL_patches/MD589/VCP_surround_200um_noclass/348_220.tif std= 6.860332684281499 too blank, skipping\n",
      "image /Users/kuiqian/BstemAtlasDataBackup/ucsd_brain/CSHL_patches/MD589/VCP_surround_200um_noclass/120_71.tif std= 9.479629012194364 too blank, skipping\n",
      "image /Users/kuiqian/BstemAtlasDataBackup/ucsd_brain/CSHL_patches/MD589/VCP_surround_200um_noclass/120_58.tif std= 8.60806132030764 too blank, skipping\n",
      "image /Users/kuiqian/BstemAtlasDataBackup/ucsd_brain/CSHL_patches/MD589/VCP_surround_200um_noclass/350_88.tif std= 9.188998194548963 too blank, skipping\n",
      "image /Users/kuiqian/BstemAtlasDataBackup/ucsd_brain/CSHL_patches/MD589/VCP_surround_200um_noclass/120_3.tif std= 9.158760698127587 too blank, skipping\n",
      "image /Users/kuiqian/BstemAtlasDataBackup/ucsd_brain/CSHL_patches/MD589/VCP_surround_200um_noclass/116_59.tif std= 8.47096458109145 too blank, skipping\n",
      "image /Users/kuiqian/BstemAtlasDataBackup/ucsd_brain/CSHL_patches/MD589/VCP_surround_200um_noclass/122_106.tif std= 9.844026902832 too blank, skipping\n",
      "image /Users/kuiqian/BstemAtlasDataBackup/ucsd_brain/CSHL_patches/MD589/VCP_surround_200um_noclass/340_179.tif std= 8.009743531218401 too blank, skipping\n",
      "image /Users/kuiqian/BstemAtlasDataBackup/ucsd_brain/CSHL_patches/MD589/VCP_surround_200um_noclass/350_179.tif std= 9.608190506126146 too blank, skipping\n"
     ]
    },
    {
     "name": "stdout",
     "output_type": "stream",
     "text": [
      "image /Users/kuiqian/BstemAtlasDataBackup/ucsd_brain/CSHL_patches/MD589/VCP_surround_200um_noclass/335_16.tif std= 7.737362288391872 too blank, skipping\n",
      "image /Users/kuiqian/BstemAtlasDataBackup/ucsd_brain/CSHL_patches/MD589/VCP_surround_200um_noclass/342_322.tif std= 1.1063906854502734 too blank, skipping\n",
      "image /Users/kuiqian/BstemAtlasDataBackup/ucsd_brain/CSHL_patches/MD589/VCP_surround_200um_noclass/107_158.tif std= 5.505858419671286 too blank, skipping\n",
      "image /Users/kuiqian/BstemAtlasDataBackup/ucsd_brain/CSHL_patches/MD589/VCP_surround_200um_noclass/117_19.tif std= 7.760162168909473 too blank, skipping\n",
      "image /Users/kuiqian/BstemAtlasDataBackup/ucsd_brain/CSHL_patches/MD589/VCP_surround_200um_noclass/349_185.tif std= 3.875188766207145 too blank, skipping\n",
      "image /Users/kuiqian/BstemAtlasDataBackup/ucsd_brain/CSHL_patches/MD589/VCP_surround_200um_noclass/346_504.tif std= 5.034090112576267 too blank, skipping\n",
      "image /Users/kuiqian/BstemAtlasDataBackup/ucsd_brain/CSHL_patches/MD589/VCP_surround_200um_noclass/349_191.tif std= 4.105666433037557 too blank, skipping\n",
      "image /Users/kuiqian/BstemAtlasDataBackup/ucsd_brain/CSHL_patches/MD589/VCP_surround_200um_noclass/349_146.tif std= 5.297321855230163 too blank, skipping\n",
      "image /Users/kuiqian/BstemAtlasDataBackup/ucsd_brain/CSHL_patches/MD589/VCP_surround_200um_noclass/350_227.tif std= 4.689639567655332 too blank, skipping\n",
      "image /Users/kuiqian/BstemAtlasDataBackup/ucsd_brain/CSHL_patches/MD589/VCP_surround_200um_noclass/349_156.tif std= 4.422238687099714 too blank, skipping\n",
      "image /Users/kuiqian/BstemAtlasDataBackup/ucsd_brain/CSHL_patches/MD589/VCP_surround_200um_noclass/350_237.tif std= 5.263232251312607 too blank, skipping\n",
      "image /Users/kuiqian/BstemAtlasDataBackup/ucsd_brain/CSHL_patches/MD589/VCP_surround_200um_noclass/119_30.tif std= 9.567971582006379 too blank, skipping\n",
      "image /Users/kuiqian/BstemAtlasDataBackup/ucsd_brain/CSHL_patches/MD589/VCP_surround_200um_noclass/349_195.tif std= 4.186083808746505 too blank, skipping\n",
      "image /Users/kuiqian/BstemAtlasDataBackup/ucsd_brain/CSHL_patches/MD589/VCP_surround_200um_noclass/117_35.tif std= 7.747002121752563 too blank, skipping\n",
      "image /Users/kuiqian/BstemAtlasDataBackup/ucsd_brain/CSHL_patches/MD589/VCP_surround_200um_noclass/117_21.tif std= 7.88237537315413 too blank, skipping\n",
      "image /Users/kuiqian/BstemAtlasDataBackup/ucsd_brain/CSHL_patches/MD589/VCP_surround_200um_noclass/122_260.tif std= 8.97165287361365 too blank, skipping\n",
      "image /Users/kuiqian/BstemAtlasDataBackup/ucsd_brain/CSHL_patches/MD589/VCP_surround_200um_noclass/109_269.tif std= 6.819384864342393 too blank, skipping\n",
      "image /Users/kuiqian/BstemAtlasDataBackup/ucsd_brain/CSHL_patches/MD589/VCP_surround_200um_noclass/344_439.tif std= 9.47754598322059 too blank, skipping\n",
      "image /Users/kuiqian/BstemAtlasDataBackup/ucsd_brain/CSHL_patches/MD589/VCP_surround_200um_noclass/123_25.tif std= 8.11332789338024 too blank, skipping\n",
      "image /Users/kuiqian/BstemAtlasDataBackup/ucsd_brain/CSHL_patches/MD589/VCP_surround_200um_noclass/340_155.tif std= 9.468428264408622 too blank, skipping\n",
      "image /Users/kuiqian/BstemAtlasDataBackup/ucsd_brain/CSHL_patches/MD589/VCP_surround_200um_noclass/342_285.tif std= 5.3807766962078745 too blank, skipping\n",
      "image /Users/kuiqian/BstemAtlasDataBackup/ucsd_brain/CSHL_patches/MD589/VCP_surround_200um_noclass/350_73.tif std= 8.803528344826299 too blank, skipping\n",
      "image /Users/kuiqian/BstemAtlasDataBackup/ucsd_brain/CSHL_patches/MD589/VCP_surround_200um_noclass/116_61.tif std= 7.453257822574503 too blank, skipping\n",
      "image /Users/kuiqian/BstemAtlasDataBackup/ucsd_brain/CSHL_patches/MD589/VCP_surround_200um_noclass/120_7.tif std= 9.389430268021773 too blank, skipping\n",
      "image /Users/kuiqian/BstemAtlasDataBackup/ucsd_brain/CSHL_patches/MD589/VCP_surround_200um_noclass/342_252.tif std= 6.508982354521618 too blank, skipping\n",
      "image /Users/kuiqian/BstemAtlasDataBackup/ucsd_brain/CSHL_patches/MD589/VCP_surround_200um_noclass/332_8.tif std= 9.737515905041667 too blank, skipping\n",
      "image /Users/kuiqian/BstemAtlasDataBackup/ucsd_brain/CSHL_patches/MD589/VCP_surround_200um_noclass/112_11.tif std= 9.052004378911768 too blank, skipping\n",
      "image /Users/kuiqian/BstemAtlasDataBackup/ucsd_brain/CSHL_patches/MD589/VCP_surround_200um_noclass/115_24.tif std= 7.157767792789193 too blank, skipping\n",
      "image /Users/kuiqian/BstemAtlasDataBackup/ucsd_brain/CSHL_patches/MD589/VCP_surround_200um_noclass/334_46.tif std= 8.420556724988256 too blank, skipping\n",
      "image /Users/kuiqian/BstemAtlasDataBackup/ucsd_brain/CSHL_patches/MD589/VCP_surround_200um_noclass/346_474.tif std= 7.023241118492306 too blank, skipping\n",
      "image /Users/kuiqian/BstemAtlasDataBackup/ucsd_brain/CSHL_patches/MD589/VCP_surround_200um_noclass/353_256.tif std= 9.545320994313586 too blank, skipping\n",
      "image /Users/kuiqian/BstemAtlasDataBackup/ucsd_brain/CSHL_patches/MD589/VCP_surround_200um_noclass/346_475.tif std= 4.267358827200672 too blank, skipping\n",
      "image /Users/kuiqian/BstemAtlasDataBackup/ucsd_brain/CSHL_patches/MD589/VCP_surround_200um_noclass/115_25.tif std= 5.540460791955374 too blank, skipping\n",
      "image /Users/kuiqian/BstemAtlasDataBackup/ucsd_brain/CSHL_patches/MD589/VCP_surround_200um_noclass/334_47.tif std= 9.652219027595955 too blank, skipping\n",
      "image /Users/kuiqian/BstemAtlasDataBackup/ucsd_brain/CSHL_patches/MD589/VCP_surround_200um_noclass/112_10.tif std= 9.50642445276307 too blank, skipping\n",
      "image /Users/kuiqian/BstemAtlasDataBackup/ucsd_brain/CSHL_patches/MD589/VCP_surround_200um_noclass/348_230.tif std= 6.985160782773044 too blank, skipping\n",
      "image /Users/kuiqian/BstemAtlasDataBackup/ucsd_brain/CSHL_patches/MD589/VCP_surround_200um_noclass/116_60.tif std= 8.485289647210935 too blank, skipping\n",
      "image /Users/kuiqian/BstemAtlasDataBackup/ucsd_brain/CSHL_patches/MD589/VCP_surround_200um_noclass/120_6.tif std= 8.997001987495361 too blank, skipping\n",
      "image /Users/kuiqian/BstemAtlasDataBackup/ucsd_brain/CSHL_patches/MD589/VCP_surround_200um_noclass/342_290.tif std= 8.463751080514545 too blank, skipping\n",
      "image /Users/kuiqian/BstemAtlasDataBackup/ucsd_brain/CSHL_patches/MD589/VCP_surround_200um_noclass/340_140.tif std= 9.034399215197082 too blank, skipping\n",
      "image /Users/kuiqian/BstemAtlasDataBackup/ucsd_brain/CSHL_patches/MD589/VCP_surround_200um_noclass/123_24.tif std= 7.242089873234872 too blank, skipping\n",
      "image /Users/kuiqian/BstemAtlasDataBackup/ucsd_brain/CSHL_patches/MD589/VCP_surround_200um_noclass/340_154.tif std= 8.762436705982092 too blank, skipping\n",
      "image /Users/kuiqian/BstemAtlasDataBackup/ucsd_brain/CSHL_patches/MD589/VCP_surround_200um_noclass/335_262.tif std= 5.776256303158162 too blank, skipping\n",
      "image /Users/kuiqian/BstemAtlasDataBackup/ucsd_brain/CSHL_patches/MD589/VCP_surround_200um_noclass/340_168.tif std= 8.654604637092536 too blank, skipping\n",
      "image /Users/kuiqian/BstemAtlasDataBackup/ucsd_brain/CSHL_patches/MD589/VCP_surround_200um_noclass/347_262.tif std= 4.710954831884603 too blank, skipping\n",
      "image /Users/kuiqian/BstemAtlasDataBackup/ucsd_brain/CSHL_patches/MD589/VCP_surround_200um_noclass/335_13.tif std= 9.807787226855398 too blank, skipping\n",
      "image /Users/kuiqian/BstemAtlasDataBackup/ucsd_brain/CSHL_patches/MD589/VCP_surround_200um_noclass/113_9.tif std= 9.560439607442683 too blank, skipping\n",
      "image /Users/kuiqian/BstemAtlasDataBackup/ucsd_brain/CSHL_patches/MD589/VCP_surround_200um_noclass/122_261.tif std= 8.311928506228258 too blank, skipping\n",
      "image /Users/kuiqian/BstemAtlasDataBackup/ucsd_brain/CSHL_patches/MD589/VCP_surround_200um_noclass/117_20.tif std= 7.840359005020991 too blank, skipping\n",
      "image /Users/kuiqian/BstemAtlasDataBackup/ucsd_brain/CSHL_patches/MD589/VCP_surround_200um_noclass/349_194.tif std= 4.292511326002148 too blank, skipping\n",
      "image /Users/kuiqian/BstemAtlasDataBackup/ucsd_brain/CSHL_patches/MD589/VCP_surround_200um_noclass/117_34.tif std= 6.895984221565494 too blank, skipping\n",
      "image /Users/kuiqian/BstemAtlasDataBackup/ucsd_brain/CSHL_patches/MD589/VCP_surround_200um_noclass/349_157.tif std= 3.7374245313153374 too blank, skipping\n",
      "image /Users/kuiqian/BstemAtlasDataBackup/ucsd_brain/CSHL_patches/MD589/VCP_surround_200um_noclass/350_236.tif std= 5.517886322890777 too blank, skipping\n",
      "image /Users/kuiqian/BstemAtlasDataBackup/ucsd_brain/CSHL_patches/MD589/VCP_surround_200um_noclass/350_208.tif std= 5.136496610992148 too blank, skipping\n"
     ]
    },
    {
     "name": "stdout",
     "output_type": "stream",
     "text": [
      "image /Users/kuiqian/BstemAtlasDataBackup/ucsd_brain/CSHL_patches/MD589/VCP_surround_200um_noclass/354_189.tif std= 4.232408074398893 too blank, skipping\n",
      "image /Users/kuiqian/BstemAtlasDataBackup/ucsd_brain/CSHL_patches/MD589/VCP_surround_200um_noclass/346_503.tif std= 5.01473271973146 too blank, skipping\n",
      "image /Users/kuiqian/BstemAtlasDataBackup/ucsd_brain/CSHL_patches/MD589/VCP_surround_200um_noclass/117_22.tif std= 9.712441802004872 too blank, skipping\n",
      "image /Users/kuiqian/BstemAtlasDataBackup/ucsd_brain/CSHL_patches/MD589/VCP_surround_200um_noclass/117_36.tif std= 7.793043480094664 too blank, skipping\n",
      "image /Users/kuiqian/BstemAtlasDataBackup/ucsd_brain/CSHL_patches/MD589/VCP_surround_200um_noclass/122_277.tif std= 9.993934557257655 too blank, skipping\n",
      "image /Users/kuiqian/BstemAtlasDataBackup/ucsd_brain/CSHL_patches/MD589/VCP_surround_200um_noclass/349_196.tif std= 4.169356321406706 too blank, skipping\n",
      "image /Users/kuiqian/BstemAtlasDataBackup/ucsd_brain/CSHL_patches/MD589/VCP_surround_200um_noclass/351_219.tif std= 5.660332017869803 too blank, skipping\n",
      "image /Users/kuiqian/BstemAtlasDataBackup/ucsd_brain/CSHL_patches/MD589/VCP_surround_200um_noclass/342_319.tif std= 9.845919453047928 too blank, skipping\n",
      "image /Users/kuiqian/BstemAtlasDataBackup/ucsd_brain/CSHL_patches/MD589/VCP_surround_200um_noclass/110_309.tif std= 4.987336230640094 too blank, skipping\n",
      "image /Users/kuiqian/BstemAtlasDataBackup/ucsd_brain/CSHL_patches/MD589/VCP_surround_200um_noclass/342_325.tif std= 7.33300035068624 too blank, skipping\n",
      "image /Users/kuiqian/BstemAtlasDataBackup/ucsd_brain/CSHL_patches/MD589/VCP_surround_200um_noclass/335_260.tif std= 5.5568503152572735 too blank, skipping\n",
      "image /Users/kuiqian/BstemAtlasDataBackup/ucsd_brain/CSHL_patches/MD589/VCP_surround_200um_noclass/350_58.tif std= 9.791279739596977 too blank, skipping\n",
      "image /Users/kuiqian/BstemAtlasDataBackup/ucsd_brain/CSHL_patches/MD589/VCP_surround_200um_noclass/342_286.tif std= 1.7252159174590789 too blank, skipping\n",
      "VCPfinished in 3239.4 seconds\n",
      "mkdir: /Users/kuiqian/BstemAtlasDataBackup/ucsd_brain/CSHL_cells/MD589/DC/: File exists\n",
      "image /Users/kuiqian/BstemAtlasDataBackup/ucsd_brain/CSHL_patches/MD589/DC_surround_200um_noclass/335_649.tif std= 5.776256303158162 too blank, skipping\n",
      "image /Users/kuiqian/BstemAtlasDataBackup/ucsd_brain/CSHL_patches/MD589/DC_surround_200um_noclass/344_615.tif std= 5.292667009572518 too blank, skipping\n",
      "image /Users/kuiqian/BstemAtlasDataBackup/ucsd_brain/CSHL_patches/MD589/DC_surround_200um_noclass/344_601.tif std= 9.938861876042424 too blank, skipping\n",
      "image /Users/kuiqian/BstemAtlasDataBackup/ucsd_brain/CSHL_patches/MD589/DC_surround_200um_noclass/139_200.tif std= 4.245289966913908 too blank, skipping\n",
      "image /Users/kuiqian/BstemAtlasDataBackup/ucsd_brain/CSHL_patches/MD589/DC_surround_200um_noclass/131_400.tif std= 9.736737357303749 too blank, skipping\n",
      "image /Users/kuiqian/BstemAtlasDataBackup/ucsd_brain/CSHL_patches/MD589/DC_surround_200um_noclass/109_509.tif std= 5.715928383732605 too blank, skipping\n",
      "image /Users/kuiqian/BstemAtlasDataBackup/ucsd_brain/CSHL_patches/MD589/DC_surround_200um_noclass/346_506.tif std= 6.775189810710201 too blank, skipping\n",
      "image /Users/kuiqian/BstemAtlasDataBackup/ucsd_brain/CSHL_patches/MD589/DC_surround_200um_noclass/322_24.tif std= 9.593920124383393 too blank, skipping\n",
      "image /Users/kuiqian/BstemAtlasDataBackup/ucsd_brain/CSHL_patches/MD589/DC_surround_200um_noclass/127_445.tif std= 9.584988297297048 too blank, skipping\n",
      "image /Users/kuiqian/BstemAtlasDataBackup/ucsd_brain/CSHL_patches/MD589/DC_surround_200um_noclass/109_521.tif std= 5.626525730030045 too blank, skipping\n",
      "image /Users/kuiqian/BstemAtlasDataBackup/ucsd_brain/CSHL_patches/MD589/DC_surround_200um_noclass/314_192.tif std= 9.953309148728549 too blank, skipping\n",
      "image /Users/kuiqian/BstemAtlasDataBackup/ucsd_brain/CSHL_patches/MD589/DC_surround_200um_noclass/126_483.tif std= 4.624455215386926 too blank, skipping\n",
      "image /Users/kuiqian/BstemAtlasDataBackup/ucsd_brain/CSHL_patches/MD589/DC_surround_200um_noclass/345_610.tif std= 3.826017248010772 too blank, skipping\n",
      "image /Users/kuiqian/BstemAtlasDataBackup/ucsd_brain/CSHL_patches/MD589/DC_surround_200um_noclass/335_311.tif std= 8.797471688931353 too blank, skipping\n",
      "image /Users/kuiqian/BstemAtlasDataBackup/ucsd_brain/CSHL_patches/MD589/DC_surround_200um_noclass/341_585.tif std= 7.621702622200204 too blank, skipping\n",
      "image /Users/kuiqian/BstemAtlasDataBackup/ucsd_brain/CSHL_patches/MD589/DC_surround_200um_noclass/318_375.tif std= 5.715781197999378 too blank, skipping\n",
      "image /Users/kuiqian/BstemAtlasDataBackup/ucsd_brain/CSHL_patches/MD589/DC_surround_200um_noclass/126_454.tif std= 4.197153130700613 too blank, skipping\n",
      "image /Users/kuiqian/BstemAtlasDataBackup/ucsd_brain/CSHL_patches/MD589/DC_surround_200um_noclass/341_591.tif std= 3.9967342003113098 too blank, skipping\n",
      "image /Users/kuiqian/BstemAtlasDataBackup/ucsd_brain/CSHL_patches/MD589/DC_surround_200um_noclass/127_121.tif std= 9.599702511443587 too blank, skipping\n",
      "image /Users/kuiqian/BstemAtlasDataBackup/ucsd_brain/CSHL_patches/MD589/DC_surround_200um_noclass/110_442.tif std= 9.987931244750255 too blank, skipping\n",
      "image /Users/kuiqian/BstemAtlasDataBackup/ucsd_brain/CSHL_patches/MD589/DC_surround_200um_noclass/323_340.tif std= 8.571670585066533 too blank, skipping\n",
      "image /Users/kuiqian/BstemAtlasDataBackup/ucsd_brain/CSHL_patches/MD589/DC_surround_200um_noclass/128_403.tif std= 9.214638745008049 too blank, skipping\n",
      "image /Users/kuiqian/BstemAtlasDataBackup/ucsd_brain/CSHL_patches/MD589/DC_surround_200um_noclass/123_37.tif std= 6.884819038167221 too blank, skipping\n",
      "image /Users/kuiqian/BstemAtlasDataBackup/ucsd_brain/CSHL_patches/MD589/DC_surround_200um_noclass/123_23.tif std= 6.023109518637636 too blank, skipping\n",
      "image /Users/kuiqian/BstemAtlasDataBackup/ucsd_brain/CSHL_patches/MD589/DC_surround_200um_noclass/318_19.tif std= 8.629901489522613 too blank, skipping\n",
      "image /Users/kuiqian/BstemAtlasDataBackup/ucsd_brain/CSHL_patches/MD589/DC_surround_200um_noclass/317_119.tif std= 8.237191073593776 too blank, skipping\n",
      "image /Users/kuiqian/BstemAtlasDataBackup/ucsd_brain/CSHL_patches/MD589/DC_surround_200um_noclass/134_169.tif std= 9.87751337326266 too blank, skipping\n",
      "image /Users/kuiqian/BstemAtlasDataBackup/ucsd_brain/CSHL_patches/MD589/DC_surround_200um_noclass/318_31.tif std= 9.573286492593148 too blank, skipping\n",
      "image /Users/kuiqian/BstemAtlasDataBackup/ucsd_brain/CSHL_patches/MD589/DC_surround_200um_noclass/112_625.tif std= 5.418566833944239 too blank, skipping\n",
      "image /Users/kuiqian/BstemAtlasDataBackup/ucsd_brain/CSHL_patches/MD589/DC_surround_200um_noclass/333_208.tif std= 9.747953894851719 too blank, skipping\n",
      "image /Users/kuiqian/BstemAtlasDataBackup/ucsd_brain/CSHL_patches/MD589/DC_surround_200um_noclass/123_303.tif std= 8.827151885718191 too blank, skipping\n",
      "image /Users/kuiqian/BstemAtlasDataBackup/ucsd_brain/CSHL_patches/MD589/DC_surround_200um_noclass/344_588.tif std= 4.926005408787388 too blank, skipping\n",
      "image /Users/kuiqian/BstemAtlasDataBackup/ucsd_brain/CSHL_patches/MD589/DC_surround_200um_noclass/340_423.tif std= 7.624781377579002 too blank, skipping\n",
      "image /Users/kuiqian/BstemAtlasDataBackup/ucsd_brain/CSHL_patches/MD589/DC_surround_200um_noclass/129_412.tif std= 5.192223532459474 too blank, skipping\n",
      "image /Users/kuiqian/BstemAtlasDataBackup/ucsd_brain/CSHL_patches/MD589/DC_surround_200um_noclass/345_566.tif std= 3.9566625183554023 too blank, skipping\n",
      "image /Users/kuiqian/BstemAtlasDataBackup/ucsd_brain/CSHL_patches/MD589/DC_surround_200um_noclass/129_360.tif std= 5.442394032747696 too blank, skipping\n",
      "image /Users/kuiqian/BstemAtlasDataBackup/ucsd_brain/CSHL_patches/MD589/DC_surround_200um_noclass/113_608.tif std= 3.1058732806153344 too blank, skipping\n",
      "image /Users/kuiqian/BstemAtlasDataBackup/ucsd_brain/CSHL_patches/MD589/DC_surround_200um_noclass/109_482.tif std= 5.060243181157589 too blank, skipping\n",
      "image /Users/kuiqian/BstemAtlasDataBackup/ucsd_brain/CSHL_patches/MD589/DC_surround_200um_noclass/316_108.tif std= 8.588269397331418 too blank, skipping\n",
      "image /Users/kuiqian/BstemAtlasDataBackup/ucsd_brain/CSHL_patches/MD589/DC_surround_200um_noclass/109_496.tif std= 5.465186832827803 too blank, skipping\n",
      "image /Users/kuiqian/BstemAtlasDataBackup/ucsd_brain/CSHL_patches/MD589/DC_surround_200um_noclass/144_130.tif std= 8.156622069768181 too blank, skipping\n"
     ]
    },
    {
     "name": "stdout",
     "output_type": "stream",
     "text": [
      "image /Users/kuiqian/BstemAtlasDataBackup/ucsd_brain/CSHL_patches/MD589/DC_surround_200um_noclass/309_204.tif std= 8.205104876004484 too blank, skipping\n",
      "image /Users/kuiqian/BstemAtlasDataBackup/ucsd_brain/CSHL_patches/MD589/DC_surround_200um_noclass/320_35.tif std= 8.297669102109305 too blank, skipping\n",
      "image /Users/kuiqian/BstemAtlasDataBackup/ucsd_brain/CSHL_patches/MD589/DC_surround_200um_noclass/314_233.tif std= 9.970540116649081 too blank, skipping\n",
      "image /Users/kuiqian/BstemAtlasDataBackup/ucsd_brain/CSHL_patches/MD589/DC_surround_200um_noclass/109_469.tif std= 5.158382882591212 too blank, skipping\n",
      "image /Users/kuiqian/BstemAtlasDataBackup/ucsd_brain/CSHL_patches/MD589/DC_surround_200um_noclass/111_527.tif std= 8.136407118917246 too blank, skipping\n",
      "image /Users/kuiqian/BstemAtlasDataBackup/ucsd_brain/CSHL_patches/MD589/DC_surround_200um_noclass/138_199.tif std= 6.44443259003957 too blank, skipping\n",
      "image /Users/kuiqian/BstemAtlasDataBackup/ucsd_brain/CSHL_patches/MD589/DC_surround_200um_noclass/111_532.tif std= 8.858638756370487 too blank, skipping\n",
      "image /Users/kuiqian/BstemAtlasDataBackup/ucsd_brain/CSHL_patches/MD589/DC_surround_200um_noclass/109_468.tif std= 5.193237656665582 too blank, skipping\n",
      "image /Users/kuiqian/BstemAtlasDataBackup/ucsd_brain/CSHL_patches/MD589/DC_surround_200um_noclass/336_628.tif std= 4.264493405921804 too blank, skipping\n",
      "image /Users/kuiqian/BstemAtlasDataBackup/ucsd_brain/CSHL_patches/MD589/DC_surround_200um_noclass/319_211.tif std= 9.758145120626068 too blank, skipping\n",
      "image /Users/kuiqian/BstemAtlasDataBackup/ucsd_brain/CSHL_patches/MD589/DC_surround_200um_noclass/124_381.tif std= 6.857378693200779 too blank, skipping\n",
      "image /Users/kuiqian/BstemAtlasDataBackup/ucsd_brain/CSHL_patches/MD589/DC_surround_200um_noclass/109_497.tif std= 5.357201034037233 too blank, skipping\n",
      "image /Users/kuiqian/BstemAtlasDataBackup/ucsd_brain/CSHL_patches/MD589/DC_surround_200um_noclass/140_273.tif std= 4.659458889274728 too blank, skipping\n",
      "image /Users/kuiqian/BstemAtlasDataBackup/ucsd_brain/CSHL_patches/MD589/DC_surround_200um_noclass/109_483.tif std= 5.156141803337075 too blank, skipping\n",
      "image /Users/kuiqian/BstemAtlasDataBackup/ucsd_brain/CSHL_patches/MD589/DC_surround_200um_noclass/315_70.tif std= 9.305425618664314 too blank, skipping\n",
      "image /Users/kuiqian/BstemAtlasDataBackup/ucsd_brain/CSHL_patches/MD589/DC_surround_200um_noclass/345_567.tif std= 3.8858605170370555 too blank, skipping\n",
      "image /Users/kuiqian/BstemAtlasDataBackup/ucsd_brain/CSHL_patches/MD589/DC_surround_200um_noclass/113_609.tif std= 8.183041737718991 too blank, skipping\n",
      "image /Users/kuiqian/BstemAtlasDataBackup/ucsd_brain/CSHL_patches/MD589/DC_surround_200um_noclass/129_361.tif std= 4.834704394799049 too blank, skipping\n",
      "image /Users/kuiqian/BstemAtlasDataBackup/ucsd_brain/CSHL_patches/MD589/DC_surround_200um_noclass/129_413.tif std= 6.176622269758759 too blank, skipping\n",
      "image /Users/kuiqian/BstemAtlasDataBackup/ucsd_brain/CSHL_patches/MD589/DC_surround_200um_noclass/334_249.tif std= 7.884616888400654 too blank, skipping\n",
      "image /Users/kuiqian/BstemAtlasDataBackup/ucsd_brain/CSHL_patches/MD589/DC_surround_200um_noclass/344_589.tif std= 5.080105066907517 too blank, skipping\n",
      "image /Users/kuiqian/BstemAtlasDataBackup/ucsd_brain/CSHL_patches/MD589/DC_surround_200um_noclass/318_200.tif std= 7.286422235405196 too blank, skipping\n",
      "image /Users/kuiqian/BstemAtlasDataBackup/ucsd_brain/CSHL_patches/MD589/DC_surround_200um_noclass/333_209.tif std= 9.678770090682796 too blank, skipping\n",
      "image /Users/kuiqian/BstemAtlasDataBackup/ucsd_brain/CSHL_patches/MD589/DC_surround_200um_noclass/317_118.tif std= 7.681122879603231 too blank, skipping\n",
      "image /Users/kuiqian/BstemAtlasDataBackup/ucsd_brain/CSHL_patches/MD589/DC_surround_200um_noclass/125_421.tif std= 4.677216090236903 too blank, skipping\n",
      "image /Users/kuiqian/BstemAtlasDataBackup/ucsd_brain/CSHL_patches/MD589/DC_surround_200um_noclass/318_18.tif std= 8.942188440001704 too blank, skipping\n",
      "image /Users/kuiqian/BstemAtlasDataBackup/ucsd_brain/CSHL_patches/MD589/DC_surround_200um_noclass/123_22.tif std= 5.458865771513334 too blank, skipping\n",
      "image /Users/kuiqian/BstemAtlasDataBackup/ucsd_brain/CSHL_patches/MD589/DC_surround_200um_noclass/139_163.tif std= 6.347622898392934 too blank, skipping\n",
      "image /Users/kuiqian/BstemAtlasDataBackup/ucsd_brain/CSHL_patches/MD589/DC_surround_200um_noclass/128_402.tif std= 6.450576764507545 too blank, skipping\n",
      "image /Users/kuiqian/BstemAtlasDataBackup/ucsd_brain/CSHL_patches/MD589/DC_surround_200um_noclass/123_36.tif std= 7.290198695538026 too blank, skipping\n",
      "image /Users/kuiqian/BstemAtlasDataBackup/ucsd_brain/CSHL_patches/MD589/DC_surround_200um_noclass/323_341.tif std= 8.587549819802192 too blank, skipping\n",
      "image /Users/kuiqian/BstemAtlasDataBackup/ucsd_brain/CSHL_patches/MD589/DC_surround_200um_noclass/126_455.tif std= 4.339268323965554 too blank, skipping\n",
      "image /Users/kuiqian/BstemAtlasDataBackup/ucsd_brain/CSHL_patches/MD589/DC_surround_200um_noclass/319_167.tif std= 9.666413626186635 too blank, skipping\n",
      "image /Users/kuiqian/BstemAtlasDataBackup/ucsd_brain/CSHL_patches/MD589/DC_surround_200um_noclass/341_584.tif std= 3.955536876089745 too blank, skipping\n",
      "image /Users/kuiqian/BstemAtlasDataBackup/ucsd_brain/CSHL_patches/MD589/DC_surround_200um_noclass/126_12.tif std= 9.306349824605075 too blank, skipping\n",
      "image /Users/kuiqian/BstemAtlasDataBackup/ucsd_brain/CSHL_patches/MD589/DC_surround_200um_noclass/335_310.tif std= 8.405187222983963 too blank, skipping\n",
      "image /Users/kuiqian/BstemAtlasDataBackup/ucsd_brain/CSHL_patches/MD589/DC_surround_200um_noclass/320_269.tif std= 5.64542642809928 too blank, skipping\n",
      "image /Users/kuiqian/BstemAtlasDataBackup/ucsd_brain/CSHL_patches/MD589/DC_surround_200um_noclass/314_193.tif std= 9.238021472805501 too blank, skipping\n",
      "image /Users/kuiqian/BstemAtlasDataBackup/ucsd_brain/CSHL_patches/MD589/DC_surround_200um_noclass/316_243.tif std= 9.46633146647792 too blank, skipping\n",
      "image /Users/kuiqian/BstemAtlasDataBackup/ucsd_brain/CSHL_patches/MD589/DC_surround_200um_noclass/126_482.tif std= 4.522578679575008 too blank, skipping\n",
      "image /Users/kuiqian/BstemAtlasDataBackup/ucsd_brain/CSHL_patches/MD589/DC_surround_200um_noclass/109_520.tif std= 5.6120884549377115 too blank, skipping\n",
      "image /Users/kuiqian/BstemAtlasDataBackup/ucsd_brain/CSHL_patches/MD589/DC_surround_200um_noclass/329_493.tif std= 7.493409325494609 too blank, skipping\n",
      "image /Users/kuiqian/BstemAtlasDataBackup/ucsd_brain/CSHL_patches/MD589/DC_surround_200um_noclass/127_450.tif std= 4.123239303673707 too blank, skipping\n",
      "DCfinished in 3413.0 seconds\n",
      "mkdir: /Users/kuiqian/BstemAtlasDataBackup/ucsd_brain/CSHL_cells/MD589/AP/: File exists\n",
      "image /Users/kuiqian/BstemAtlasDataBackup/ucsd_brain/CSHL_patches/MD589/AP_surround_200um_noclass/219_59.tif std= 1.9824597327322082 too blank, skipping\n",
      "image /Users/kuiqian/BstemAtlasDataBackup/ucsd_brain/CSHL_patches/MD589/AP_surround_200um_noclass/226_40.tif std= 3.0271745396897365 too blank, skipping\n",
      "image /Users/kuiqian/BstemAtlasDataBackup/ucsd_brain/CSHL_patches/MD589/AP_surround_200um_noclass/228_79.tif std= 3.3008247858149242 too blank, skipping\n",
      "image /Users/kuiqian/BstemAtlasDataBackup/ucsd_brain/CSHL_patches/MD589/AP_surround_200um_noclass/229_11.tif std= 8.855953874718004 too blank, skipping\n",
      "image /Users/kuiqian/BstemAtlasDataBackup/ucsd_brain/CSHL_patches/MD589/AP_surround_200um_noclass/218_4.tif std= 5.283509138076491 too blank, skipping\n",
      "image /Users/kuiqian/BstemAtlasDataBackup/ucsd_brain/CSHL_patches/MD589/AP_surround_200um_noclass/215_58.tif std= 3.5193283514006604 too blank, skipping\n",
      "image /Users/kuiqian/BstemAtlasDataBackup/ucsd_brain/CSHL_patches/MD589/AP_surround_200um_noclass/230_19.tif std= 4.279418069035278 too blank, skipping\n",
      "image /Users/kuiqian/BstemAtlasDataBackup/ucsd_brain/CSHL_patches/MD589/AP_surround_200um_noclass/223_65.tif std= 4.079485319054587 too blank, skipping\n",
      "image /Users/kuiqian/BstemAtlasDataBackup/ucsd_brain/CSHL_patches/MD589/AP_surround_200um_noclass/224_50.tif std= 4.494602583404881 too blank, skipping\n",
      "image /Users/kuiqian/BstemAtlasDataBackup/ucsd_brain/CSHL_patches/MD589/AP_surround_200um_noclass/228_78.tif std= 3.5102716519420234 too blank, skipping\n",
      "image /Users/kuiqian/BstemAtlasDataBackup/ucsd_brain/CSHL_patches/MD589/AP_surround_200um_noclass/226_41.tif std= 8.62307135421766 too blank, skipping\n",
      "image /Users/kuiqian/BstemAtlasDataBackup/ucsd_brain/CSHL_patches/MD589/AP_surround_200um_noclass/228_87.tif std= 3.6435326429310533 too blank, skipping\n"
     ]
    },
    {
     "name": "stdout",
     "output_type": "stream",
     "text": [
      "image /Users/kuiqian/BstemAtlasDataBackup/ucsd_brain/CSHL_patches/MD589/AP_surround_200um_noclass/226_82.tif std= 3.2614067285483115 too blank, skipping\n",
      "image /Users/kuiqian/BstemAtlasDataBackup/ucsd_brain/CSHL_patches/MD589/AP_surround_200um_noclass/219_58.tif std= 1.6847079464913173 too blank, skipping\n",
      "image /Users/kuiqian/BstemAtlasDataBackup/ucsd_brain/CSHL_patches/MD589/AP_surround_200um_noclass/217_75.tif std= 2.8016378998246796 too blank, skipping\n",
      "image /Users/kuiqian/BstemAtlasDataBackup/ucsd_brain/CSHL_patches/MD589/AP_surround_200um_noclass/217_77.tif std= 5.226566291296191 too blank, skipping\n",
      "image /Users/kuiqian/BstemAtlasDataBackup/ucsd_brain/CSHL_patches/MD589/AP_surround_200um_noclass/222_27.tif std= 3.857163000924371 too blank, skipping\n",
      "image /Users/kuiqian/BstemAtlasDataBackup/ucsd_brain/CSHL_patches/MD589/AP_surround_200um_noclass/227_4.tif std= 4.79605913506398 too blank, skipping\n",
      "image /Users/kuiqian/BstemAtlasDataBackup/ucsd_brain/CSHL_patches/MD589/AP_surround_200um_noclass/224_91.tif std= 2.9988753617660353 too blank, skipping\n",
      "image /Users/kuiqian/BstemAtlasDataBackup/ucsd_brain/CSHL_patches/MD589/AP_surround_200um_noclass/230_27.tif std= 3.3954822508394606 too blank, skipping\n",
      "image /Users/kuiqian/BstemAtlasDataBackup/ucsd_brain/CSHL_patches/MD589/AP_surround_200um_noclass/223_67.tif std= 4.726838238776291 too blank, skipping\n",
      "image /Users/kuiqian/BstemAtlasDataBackup/ucsd_brain/CSHL_patches/MD589/AP_surround_200um_noclass/220_36.tif std= 5.093791453856809 too blank, skipping\n",
      "image /Users/kuiqian/BstemAtlasDataBackup/ucsd_brain/CSHL_patches/MD589/AP_surround_200um_noclass/220_37.tif std= 5.266950181006306 too blank, skipping\n",
      "image /Users/kuiqian/BstemAtlasDataBackup/ucsd_brain/CSHL_patches/MD589/AP_surround_200um_noclass/223_66.tif std= 4.12225223582629 too blank, skipping\n",
      "image /Users/kuiqian/BstemAtlasDataBackup/ucsd_brain/CSHL_patches/MD589/AP_surround_200um_noclass/224_90.tif std= 2.685653247471516 too blank, skipping\n",
      "image /Users/kuiqian/BstemAtlasDataBackup/ucsd_brain/CSHL_patches/MD589/AP_surround_200um_noclass/228_47.tif std= 3.2789181385571458 too blank, skipping\n",
      "image /Users/kuiqian/BstemAtlasDataBackup/ucsd_brain/CSHL_patches/MD589/AP_surround_200um_noclass/226_81.tif std= 3.200353482241656 too blank, skipping\n",
      "image /Users/kuiqian/BstemAtlasDataBackup/ucsd_brain/CSHL_patches/MD589/AP_surround_200um_noclass/225_13.tif std= 3.547198405781259 too blank, skipping\n",
      "image /Users/kuiqian/BstemAtlasDataBackup/ucsd_brain/CSHL_patches/MD589/AP_surround_200um_noclass/225_7.tif std= 3.456062444870259 too blank, skipping\n",
      "image /Users/kuiqian/BstemAtlasDataBackup/ucsd_brain/CSHL_patches/MD589/AP_surround_200um_noclass/217_76.tif std= 2.806626951412686 too blank, skipping\n",
      "image /Users/kuiqian/BstemAtlasDataBackup/ucsd_brain/CSHL_patches/MD589/AP_surround_200um_noclass/217_66.tif std= 2.738712825781193 too blank, skipping\n",
      "image /Users/kuiqian/BstemAtlasDataBackup/ucsd_brain/CSHL_patches/MD589/AP_surround_200um_noclass/222_36.tif std= 4.034973974967153 too blank, skipping\n",
      "image /Users/kuiqian/BstemAtlasDataBackup/ucsd_brain/CSHL_patches/MD589/AP_surround_200um_noclass/227_1.tif std= 4.975520669667124 too blank, skipping\n",
      "image /Users/kuiqian/BstemAtlasDataBackup/ucsd_brain/CSHL_patches/MD589/AP_surround_200um_noclass/226_91.tif std= 3.2739748189249167 too blank, skipping\n",
      "image /Users/kuiqian/BstemAtlasDataBackup/ucsd_brain/CSHL_patches/MD589/AP_surround_200um_noclass/228_57.tif std= 3.4875754733649957 too blank, skipping\n",
      "image /Users/kuiqian/BstemAtlasDataBackup/ucsd_brain/CSHL_patches/MD589/AP_surround_200um_noclass/224_80.tif std= 3.497616047746459 too blank, skipping\n",
      "image /Users/kuiqian/BstemAtlasDataBackup/ucsd_brain/CSHL_patches/MD589/AP_surround_200um_noclass/223_76.tif std= 3.992718614264119 too blank, skipping\n",
      "image /Users/kuiqian/BstemAtlasDataBackup/ucsd_brain/CSHL_patches/MD589/AP_surround_200um_noclass/230_36.tif std= 5.637488270246125 too blank, skipping\n",
      "image /Users/kuiqian/BstemAtlasDataBackup/ucsd_brain/CSHL_patches/MD589/AP_surround_200um_noclass/220_27.tif std= 5.577477722885874 too blank, skipping\n",
      "image /Users/kuiqian/BstemAtlasDataBackup/ucsd_brain/CSHL_patches/MD589/AP_surround_200um_noclass/220_26.tif std= 5.331837911298709 too blank, skipping\n",
      "image /Users/kuiqian/BstemAtlasDataBackup/ucsd_brain/CSHL_patches/MD589/AP_surround_200um_noclass/215_62.tif std= 3.477663749132971 too blank, skipping\n",
      "image /Users/kuiqian/BstemAtlasDataBackup/ucsd_brain/CSHL_patches/MD589/AP_surround_200um_noclass/223_77.tif std= 3.774659688753135 too blank, skipping\n",
      "image /Users/kuiqian/BstemAtlasDataBackup/ucsd_brain/CSHL_patches/MD589/AP_surround_200um_noclass/223_88.tif std= 3.794706352381728 too blank, skipping\n",
      "image /Users/kuiqian/BstemAtlasDataBackup/ucsd_brain/CSHL_patches/MD589/AP_surround_200um_noclass/224_81.tif std= 3.5529647055025366 too blank, skipping\n",
      "image /Users/kuiqian/BstemAtlasDataBackup/ucsd_brain/CSHL_patches/MD589/AP_surround_200um_noclass/226_90.tif std= 3.252558101785255 too blank, skipping\n",
      "image /Users/kuiqian/BstemAtlasDataBackup/ucsd_brain/CSHL_patches/MD589/AP_surround_200um_noclass/227_0.tif std= 5.016214733708979 too blank, skipping\n",
      "image /Users/kuiqian/BstemAtlasDataBackup/ucsd_brain/CSHL_patches/MD589/AP_surround_200um_noclass/222_37.tif std= 3.879773333261671 too blank, skipping\n",
      "image /Users/kuiqian/BstemAtlasDataBackup/ucsd_brain/CSHL_patches/MD589/AP_surround_200um_noclass/225_2.tif std= 6.69339461267304 too blank, skipping\n",
      "image /Users/kuiqian/BstemAtlasDataBackup/ucsd_brain/CSHL_patches/MD589/AP_surround_200um_noclass/217_67.tif std= 4.648615717300232 too blank, skipping\n",
      "image /Users/kuiqian/BstemAtlasDataBackup/ucsd_brain/CSHL_patches/MD589/AP_surround_200um_noclass/217_65.tif std= 2.737858571564697 too blank, skipping\n",
      "image /Users/kuiqian/BstemAtlasDataBackup/ucsd_brain/CSHL_patches/MD589/AP_surround_200um_noclass/219_48.tif std= 1.6802503712506218 too blank, skipping\n",
      "image /Users/kuiqian/BstemAtlasDataBackup/ucsd_brain/CSHL_patches/MD589/AP_surround_200um_noclass/225_0.tif std= 8.397256823102461 too blank, skipping\n",
      "image /Users/kuiqian/BstemAtlasDataBackup/ucsd_brain/CSHL_patches/MD589/AP_surround_200um_noclass/225_14.tif std= 3.4589490116220936 too blank, skipping\n",
      "image /Users/kuiqian/BstemAtlasDataBackup/ucsd_brain/CSHL_patches/MD589/AP_surround_200um_noclass/228_68.tif std= 3.4356994527752067 too blank, skipping\n",
      "image /Users/kuiqian/BstemAtlasDataBackup/ucsd_brain/CSHL_patches/MD589/AP_surround_200um_noclass/226_51.tif std= 9.05173547444462 too blank, skipping\n",
      "image /Users/kuiqian/BstemAtlasDataBackup/ucsd_brain/CSHL_patches/MD589/AP_surround_200um_noclass/230_35.tif std= 3.4594176294656465 too blank, skipping\n",
      "image /Users/kuiqian/BstemAtlasDataBackup/ucsd_brain/CSHL_patches/MD589/AP_surround_200um_noclass/218_0.tif std= 4.5976720553128425 too blank, skipping\n",
      "image /Users/kuiqian/BstemAtlasDataBackup/ucsd_brain/CSHL_patches/MD589/AP_surround_200um_noclass/215_49.tif std= 3.1764490710433093 too blank, skipping\n",
      "image /Users/kuiqian/BstemAtlasDataBackup/ucsd_brain/CSHL_patches/MD589/AP_surround_200um_noclass/224_69.tif std= 3.453004513332495 too blank, skipping\n",
      "image /Users/kuiqian/BstemAtlasDataBackup/ucsd_brain/CSHL_patches/MD589/AP_surround_200um_noclass/224_82.tif std= 4.745555611782946 too blank, skipping\n",
      "image /Users/kuiqian/BstemAtlasDataBackup/ucsd_brain/CSHL_patches/MD589/AP_surround_200um_noclass/226_50.tif std= 3.21836841325245 too blank, skipping\n",
      "image /Users/kuiqian/BstemAtlasDataBackup/ucsd_brain/CSHL_patches/MD589/AP_surround_200um_noclass/228_69.tif std= 3.2214622455208572 too blank, skipping\n",
      "image /Users/kuiqian/BstemAtlasDataBackup/ucsd_brain/CSHL_patches/MD589/AP_surround_200um_noclass/219_49.tif std= 2.4020128752213226 too blank, skipping\n",
      "image /Users/kuiqian/BstemAtlasDataBackup/ucsd_brain/CSHL_patches/MD589/AP_surround_200um_noclass/225_99.tif std= 5.684198624344198 too blank, skipping\n",
      "image /Users/kuiqian/BstemAtlasDataBackup/ucsd_brain/CSHL_patches/MD589/AP_surround_200um_noclass/222_90.tif std= 3.5624065668580362 too blank, skipping\n",
      "image /Users/kuiqian/BstemAtlasDataBackup/ucsd_brain/CSHL_patches/MD589/AP_surround_200um_noclass/222_47.tif std= 4.149946000272876 too blank, skipping\n"
     ]
    },
    {
     "name": "stdout",
     "output_type": "stream",
     "text": [
      "image /Users/kuiqian/BstemAtlasDataBackup/ucsd_brain/CSHL_patches/MD589/AP_surround_200um_noclass/225_66.tif std= 5.291299570780794 too blank, skipping\n",
      "image /Users/kuiqian/BstemAtlasDataBackup/ucsd_brain/CSHL_patches/MD589/AP_surround_200um_noclass/216_57.tif std= 3.7595390052461006 too blank, skipping\n",
      "image /Users/kuiqian/BstemAtlasDataBackup/ucsd_brain/CSHL_patches/MD589/AP_surround_200um_noclass/218_52.tif std= 3.7700172808058157 too blank, skipping\n",
      "image /Users/kuiqian/BstemAtlasDataBackup/ucsd_brain/CSHL_patches/MD589/AP_surround_200um_noclass/226_4.tif std= 3.330030635112636 too blank, skipping\n",
      "image /Users/kuiqian/BstemAtlasDataBackup/ucsd_brain/CSHL_patches/MD589/AP_surround_200um_noclass/218_85.tif std= 3.160584161903032 too blank, skipping\n",
      "image /Users/kuiqian/BstemAtlasDataBackup/ucsd_brain/CSHL_patches/MD589/AP_surround_200um_noclass/220_56.tif std= 6.87925919638326 too blank, skipping\n",
      "image /Users/kuiqian/BstemAtlasDataBackup/ucsd_brain/CSHL_patches/MD589/AP_surround_200um_noclass/227_62.tif std= 2.860188445158401 too blank, skipping\n",
      "image /Users/kuiqian/BstemAtlasDataBackup/ucsd_brain/CSHL_patches/MD589/AP_surround_200um_noclass/230_46.tif std= 6.646800362749477 too blank, skipping\n",
      "image /Users/kuiqian/BstemAtlasDataBackup/ucsd_brain/CSHL_patches/MD589/AP_surround_200um_noclass/216_56.tif std= 3.644347828845568 too blank, skipping\n",
      "image /Users/kuiqian/BstemAtlasDataBackup/ucsd_brain/CSHL_patches/MD589/AP_surround_200um_noclass/220_3.tif std= 5.046865470131798 too blank, skipping\n",
      "image /Users/kuiqian/BstemAtlasDataBackup/ucsd_brain/CSHL_patches/MD589/AP_surround_200um_noclass/225_67.tif std= 5.1379778752453555 too blank, skipping\n",
      "image /Users/kuiqian/BstemAtlasDataBackup/ucsd_brain/CSHL_patches/MD589/AP_surround_200um_noclass/222_46.tif std= 4.337730261384262 too blank, skipping\n",
      "image /Users/kuiqian/BstemAtlasDataBackup/ucsd_brain/CSHL_patches/MD589/AP_surround_200um_noclass/219_39.tif std= 1.6339710208628448 too blank, skipping\n",
      "image /Users/kuiqian/BstemAtlasDataBackup/ucsd_brain/CSHL_patches/MD589/AP_surround_200um_noclass/222_78.tif std= 4.16821098263052 too blank, skipping\n",
      "image /Users/kuiqian/BstemAtlasDataBackup/ucsd_brain/CSHL_patches/MD589/AP_surround_200um_noclass/220_1.tif std= 4.736132109871956 too blank, skipping\n",
      "image /Users/kuiqian/BstemAtlasDataBackup/ucsd_brain/CSHL_patches/MD589/AP_surround_200um_noclass/218_79.tif std= 3.257282148846779 too blank, skipping\n",
      "image /Users/kuiqian/BstemAtlasDataBackup/ucsd_brain/CSHL_patches/MD589/AP_surround_200um_noclass/218_51.tif std= 3.4267347843335916 too blank, skipping\n",
      "image /Users/kuiqian/BstemAtlasDataBackup/ucsd_brain/CSHL_patches/MD589/AP_surround_200um_noclass/230_44.tif std= 3.5898455906369153 too blank, skipping\n",
      "image /Users/kuiqian/BstemAtlasDataBackup/ucsd_brain/CSHL_patches/MD589/AP_surround_200um_noclass/218_92.tif std= 3.146803807111515 too blank, skipping\n",
      "image /Users/kuiqian/BstemAtlasDataBackup/ucsd_brain/CSHL_patches/MD589/AP_surround_200um_noclass/228_8.tif std= 3.0533547472755997 too blank, skipping\n",
      "image /Users/kuiqian/BstemAtlasDataBackup/ucsd_brain/CSHL_patches/MD589/AP_surround_200um_noclass/224_101.tif std= 3.301677838974055 too blank, skipping\n",
      "image /Users/kuiqian/BstemAtlasDataBackup/ucsd_brain/CSHL_patches/MD589/AP_surround_200um_noclass/220_55.tif std= 3.6246626582653345 too blank, skipping\n",
      "image /Users/kuiqian/BstemAtlasDataBackup/ucsd_brain/CSHL_patches/MD589/AP_surround_200um_noclass/227_61.tif std= 2.8198267682162808 too blank, skipping\n",
      "image /Users/kuiqian/BstemAtlasDataBackup/ucsd_brain/CSHL_patches/MD589/AP_surround_200um_noclass/229_64.tif std= 3.454868977882737 too blank, skipping\n",
      "image /Users/kuiqian/BstemAtlasDataBackup/ucsd_brain/CSHL_patches/MD589/AP_surround_200um_noclass/224_100.tif std= 2.8573014412040503 too blank, skipping\n",
      "image /Users/kuiqian/BstemAtlasDataBackup/ucsd_brain/CSHL_patches/MD589/AP_surround_200um_noclass/230_79.tif std= 3.4062745548724336 too blank, skipping\n",
      "image /Users/kuiqian/BstemAtlasDataBackup/ucsd_brain/CSHL_patches/MD589/AP_surround_200um_noclass/224_24.tif std= 2.9193875095055026 too blank, skipping\n",
      "image /Users/kuiqian/BstemAtlasDataBackup/ucsd_brain/CSHL_patches/MD589/AP_surround_200um_noclass/230_45.tif std= 3.6434984867056452 too blank, skipping\n",
      "image /Users/kuiqian/BstemAtlasDataBackup/ucsd_brain/CSHL_patches/MD589/AP_surround_200um_noclass/218_78.tif std= 3.0723141259994127 too blank, skipping\n",
      "image /Users/kuiqian/BstemAtlasDataBackup/ucsd_brain/CSHL_patches/MD589/AP_surround_200um_noclass/226_21.tif std= 2.7349369566751824 too blank, skipping\n",
      "image /Users/kuiqian/BstemAtlasDataBackup/ucsd_brain/CSHL_patches/MD589/AP_surround_200um_noclass/220_0.tif std= 4.754424294816151 too blank, skipping\n",
      "image /Users/kuiqian/BstemAtlasDataBackup/ucsd_brain/CSHL_patches/MD589/AP_surround_200um_noclass/222_79.tif std= 3.9124510028249513 too blank, skipping\n",
      "image /Users/kuiqian/BstemAtlasDataBackup/ucsd_brain/CSHL_patches/MD589/AP_surround_200um_noclass/217_39.tif std= 2.4692312526538513 too blank, skipping\n",
      "image /Users/kuiqian/BstemAtlasDataBackup/ucsd_brain/CSHL_patches/MD589/AP_surround_200um_noclass/222_69.tif std= 5.653189924862305 too blank, skipping\n",
      "image /Users/kuiqian/BstemAtlasDataBackup/ucsd_brain/CSHL_patches/MD589/AP_surround_200um_noclass/228_20.tif std= 3.2972381064202256 too blank, skipping\n",
      "image /Users/kuiqian/BstemAtlasDataBackup/ucsd_brain/CSHL_patches/MD589/AP_surround_200um_noclass/226_31.tif std= 6.200479614712665 too blank, skipping\n",
      "image /Users/kuiqian/BstemAtlasDataBackup/ucsd_brain/CSHL_patches/MD589/AP_surround_200um_noclass/216_79.tif std= 3.293706110802564 too blank, skipping\n",
      "image /Users/kuiqian/BstemAtlasDataBackup/ucsd_brain/CSHL_patches/MD589/AP_surround_200um_noclass/230_69.tif std= 4.927672370655088 too blank, skipping\n",
      "image /Users/kuiqian/BstemAtlasDataBackup/ucsd_brain/CSHL_patches/MD589/AP_surround_200um_noclass/224_0.tif std= 3.5097309950989475 too blank, skipping\n",
      "image /Users/kuiqian/BstemAtlasDataBackup/ucsd_brain/CSHL_patches/MD589/AP_surround_200um_noclass/224_110.tif std= 3.2152517721805713 too blank, skipping\n",
      "image /Users/kuiqian/BstemAtlasDataBackup/ucsd_brain/CSHL_patches/MD589/AP_surround_200um_noclass/220_45.tif std= 4.7379672434938165 too blank, skipping\n",
      "image /Users/kuiqian/BstemAtlasDataBackup/ucsd_brain/CSHL_patches/MD589/AP_surround_200um_noclass/229_75.tif std= 3.344940295664396 too blank, skipping\n",
      "image /Users/kuiqian/BstemAtlasDataBackup/ucsd_brain/CSHL_patches/MD589/AP_surround_200um_noclass/220_86.tif std= 9.964926733417833 too blank, skipping\n",
      "image /Users/kuiqian/BstemAtlasDataBackup/ucsd_brain/CSHL_patches/MD589/AP_surround_200um_noclass/224_111.tif std= 3.6580455736015516 too blank, skipping\n",
      "image /Users/kuiqian/BstemAtlasDataBackup/ucsd_brain/CSHL_patches/MD589/AP_surround_200um_noclass/230_68.tif std= 3.4445124980091917 too blank, skipping\n",
      "image /Users/kuiqian/BstemAtlasDataBackup/ucsd_brain/CSHL_patches/MD589/AP_surround_200um_noclass/225_100.tif std= 6.01213458174841 too blank, skipping\n",
      "image /Users/kuiqian/BstemAtlasDataBackup/ucsd_brain/CSHL_patches/MD589/AP_surround_200um_noclass/230_97.tif std= 3.379057645734779 too blank, skipping\n",
      "image /Users/kuiqian/BstemAtlasDataBackup/ucsd_brain/CSHL_patches/MD589/AP_surround_200um_noclass/218_69.tif std= 3.046360445025689 too blank, skipping\n",
      "image /Users/kuiqian/BstemAtlasDataBackup/ucsd_brain/CSHL_patches/MD589/AP_surround_200um_noclass/226_30.tif std= 2.791806353072967 too blank, skipping\n",
      "image /Users/kuiqian/BstemAtlasDataBackup/ucsd_brain/CSHL_patches/MD589/AP_surround_200um_noclass/222_68.tif std= 3.859816254188586 too blank, skipping\n",
      "image /Users/kuiqian/BstemAtlasDataBackup/ucsd_brain/CSHL_patches/MD589/AP_surround_200um_noclass/225_88.tif std= 5.036854496694953 too blank, skipping\n",
      "image /Users/kuiqian/BstemAtlasDataBackup/ucsd_brain/CSHL_patches/MD589/AP_surround_200um_noclass/225_77.tif std= 4.98120323503357 too blank, skipping\n",
      "image /Users/kuiqian/BstemAtlasDataBackup/ucsd_brain/CSHL_patches/MD589/AP_surround_200um_noclass/222_56.tif std= 4.112658084959852 too blank, skipping\n",
      "image /Users/kuiqian/BstemAtlasDataBackup/ucsd_brain/CSHL_patches/MD589/AP_surround_200um_noclass/220_7.tif std= 5.573510060981406 too blank, skipping\n",
      "image /Users/kuiqian/BstemAtlasDataBackup/ucsd_brain/CSHL_patches/MD589/AP_surround_200um_noclass/228_37.tif std= 3.198585504045624 too blank, skipping\n"
     ]
    },
    {
     "name": "stdout",
     "output_type": "stream",
     "text": [
      "image /Users/kuiqian/BstemAtlasDataBackup/ucsd_brain/CSHL_patches/MD589/AP_surround_200um_noclass/218_43.tif std= 3.6777504400519274 too blank, skipping\n",
      "image /Users/kuiqian/BstemAtlasDataBackup/ucsd_brain/CSHL_patches/MD589/AP_surround_200um_noclass/226_1.tif std= 3.5097475691953215 too blank, skipping\n",
      "image /Users/kuiqian/BstemAtlasDataBackup/ucsd_brain/CSHL_patches/MD589/AP_surround_200um_noclass/223_16.tif std= 4.108976372853062 too blank, skipping\n",
      "image /Users/kuiqian/BstemAtlasDataBackup/ucsd_brain/CSHL_patches/MD589/AP_surround_200um_noclass/230_56.tif std= 3.4898807702776122 too blank, skipping\n",
      "image /Users/kuiqian/BstemAtlasDataBackup/ucsd_brain/CSHL_patches/MD589/AP_surround_200um_noclass/224_37.tif std= 2.818550926587554 too blank, skipping\n",
      "image /Users/kuiqian/BstemAtlasDataBackup/ucsd_brain/CSHL_patches/MD589/AP_surround_200um_noclass/229_88.tif std= 3.6892749320050267 too blank, skipping\n",
      "image /Users/kuiqian/BstemAtlasDataBackup/ucsd_brain/CSHL_patches/MD589/AP_surround_200um_noclass/227_72.tif std= 2.8828669882195275 too blank, skipping\n",
      "image /Users/kuiqian/BstemAtlasDataBackup/ucsd_brain/CSHL_patches/MD589/AP_surround_200um_noclass/220_47.tif std= 9.778419798016039 too blank, skipping\n",
      "image /Users/kuiqian/BstemAtlasDataBackup/ucsd_brain/CSHL_patches/MD589/AP_surround_200um_noclass/229_63.tif std= 3.506342618277483 too blank, skipping\n",
      "image /Users/kuiqian/BstemAtlasDataBackup/ucsd_brain/CSHL_patches/MD589/AP_surround_200um_noclass/229_77.tif std= 6.340225861134744 too blank, skipping\n",
      "image /Users/kuiqian/BstemAtlasDataBackup/ucsd_brain/CSHL_patches/MD589/AP_surround_200um_noclass/229_76.tif std= 3.3812637249447857 too blank, skipping\n",
      "image /Users/kuiqian/BstemAtlasDataBackup/ucsd_brain/CSHL_patches/MD589/AP_surround_200um_noclass/220_46.tif std= 4.899801916085712 too blank, skipping\n",
      "image /Users/kuiqian/BstemAtlasDataBackup/ucsd_brain/CSHL_patches/MD589/AP_surround_200um_noclass/227_73.tif std= 2.881236787799756 too blank, skipping\n",
      "image /Users/kuiqian/BstemAtlasDataBackup/ucsd_brain/CSHL_patches/MD589/AP_surround_200um_noclass/224_36.tif std= 2.870271002850695 too blank, skipping\n",
      "image /Users/kuiqian/BstemAtlasDataBackup/ucsd_brain/CSHL_patches/MD589/AP_surround_200um_noclass/230_57.tif std= 3.491470350359368 too blank, skipping\n",
      "image /Users/kuiqian/BstemAtlasDataBackup/ucsd_brain/CSHL_patches/MD589/AP_surround_200um_noclass/230_80.tif std= 4.875918169654687 too blank, skipping\n",
      "image /Users/kuiqian/BstemAtlasDataBackup/ucsd_brain/CSHL_patches/MD589/AP_surround_200um_noclass/216_47.tif std= 3.858193960163925 too blank, skipping\n",
      "image /Users/kuiqian/BstemAtlasDataBackup/ucsd_brain/CSHL_patches/MD589/AP_surround_200um_noclass/226_0.tif std= 2.6269516488966285 too blank, skipping\n",
      "image /Users/kuiqian/BstemAtlasDataBackup/ucsd_brain/CSHL_patches/MD589/AP_surround_200um_noclass/222_57.tif std= 3.9068116025948636 too blank, skipping\n",
      "image /Users/kuiqian/BstemAtlasDataBackup/ucsd_brain/CSHL_patches/MD589/AP_surround_200um_noclass/219_2.tif std= 8.290602206472956 too blank, skipping\n",
      "image /Users/kuiqian/BstemAtlasDataBackup/ucsd_brain/CSHL_patches/MD589/AP_surround_200um_noclass/225_89.tif std= 5.363444711979105 too blank, skipping\n",
      "image /Users/kuiqian/BstemAtlasDataBackup/ucsd_brain/CSHL_patches/MD589/AP_surround_200um_noclass/222_80.tif std= 5.293955175112401 too blank, skipping\n",
      "image /Users/kuiqian/BstemAtlasDataBackup/ucsd_brain/CSHL_patches/MD589/AP_surround_200um_noclass/217_0.tif std= 2.453556662813471 too blank, skipping\n",
      "image /Users/kuiqian/BstemAtlasDataBackup/ucsd_brain/CSHL_patches/MD589/AP_surround_200um_noclass/225_90.tif std= 7.79907575346839 too blank, skipping\n",
      "image /Users/kuiqian/BstemAtlasDataBackup/ucsd_brain/CSHL_patches/MD589/AP_surround_200um_noclass/230_103.tif std= 3.563831839529298 too blank, skipping\n",
      "image /Users/kuiqian/BstemAtlasDataBackup/ucsd_brain/CSHL_patches/MD589/AP_surround_200um_noclass/228_13.tif std= 2.9492567667662866 too blank, skipping\n",
      "image /Users/kuiqian/BstemAtlasDataBackup/ucsd_brain/CSHL_patches/MD589/AP_surround_200um_noclass/224_13.tif std= 3.0424746870823256 too blank, skipping\n",
      "image /Users/kuiqian/BstemAtlasDataBackup/ucsd_brain/CSHL_patches/MD589/AP_surround_200um_noclass/228_2.tif std= 4.694312410257705 too blank, skipping\n",
      "image /Users/kuiqian/BstemAtlasDataBackup/ucsd_brain/CSHL_patches/MD589/AP_surround_200um_noclass/220_77.tif std= 3.863715214329089 too blank, skipping\n",
      "image /Users/kuiqian/BstemAtlasDataBackup/ucsd_brain/CSHL_patches/MD589/AP_surround_200um_noclass/229_53.tif std= 3.554566822929501 too blank, skipping\n",
      "image /Users/kuiqian/BstemAtlasDataBackup/ucsd_brain/CSHL_patches/MD589/AP_surround_200um_noclass/229_52.tif std= 3.531212767442806 too blank, skipping\n",
      "image /Users/kuiqian/BstemAtlasDataBackup/ucsd_brain/CSHL_patches/MD589/AP_surround_200um_noclass/223_33.tif std= 4.207067140367486 too blank, skipping\n",
      "image /Users/kuiqian/BstemAtlasDataBackup/ucsd_brain/CSHL_patches/MD589/AP_surround_200um_noclass/230_67.tif std= 3.5088296957447556 too blank, skipping\n",
      "image /Users/kuiqian/BstemAtlasDataBackup/ucsd_brain/CSHL_patches/MD589/AP_surround_200um_noclass/222_67.tif std= 4.165818329535813 too blank, skipping\n",
      "image /Users/kuiqian/BstemAtlasDataBackup/ucsd_brain/CSHL_patches/MD589/AP_surround_200um_noclass/222_98.tif std= 3.59571030763817 too blank, skipping\n",
      "image /Users/kuiqian/BstemAtlasDataBackup/ucsd_brain/CSHL_patches/MD589/AP_surround_200um_noclass/225_78.tif std= 5.172242708786094 too blank, skipping\n",
      "image /Users/kuiqian/BstemAtlasDataBackup/ucsd_brain/CSHL_patches/MD589/AP_surround_200um_noclass/228_38.tif std= 3.1403531658344996 too blank, skipping\n",
      "image /Users/kuiqian/BstemAtlasDataBackup/ucsd_brain/CSHL_patches/MD589/AP_surround_200um_noclass/226_29.tif std= 3.0022568267125385 too blank, skipping\n",
      "image /Users/kuiqian/BstemAtlasDataBackup/ucsd_brain/CSHL_patches/MD589/AP_surround_200um_noclass/218_70.tif std= 3.3255252331393628 too blank, skipping\n",
      "image /Users/kuiqian/BstemAtlasDataBackup/ucsd_brain/CSHL_patches/MD589/AP_surround_200um_noclass/228_1.tif std= 3.8378240423091565 too blank, skipping\n",
      "image /Users/kuiqian/BstemAtlasDataBackup/ucsd_brain/CSHL_patches/MD589/AP_surround_200um_noclass/224_38.tif std= 5.447815866231971 too blank, skipping\n",
      "image /Users/kuiqian/BstemAtlasDataBackup/ucsd_brain/CSHL_patches/MD589/AP_surround_200um_noclass/229_87.tif std= 3.537765222137524 too blank, skipping\n",
      "image /Users/kuiqian/BstemAtlasDataBackup/ucsd_brain/CSHL_patches/MD589/AP_surround_200um_noclass/229_103.tif std= 3.339109364883295 too blank, skipping\n",
      "image /Users/kuiqian/BstemAtlasDataBackup/ucsd_brain/CSHL_patches/MD589/AP_surround_200um_noclass/227_40.tif std= 3.4380570578683396 too blank, skipping\n",
      "image /Users/kuiqian/BstemAtlasDataBackup/ucsd_brain/CSHL_patches/MD589/AP_surround_200um_noclass/227_83.tif std= 2.8187959298306366 too blank, skipping\n",
      "image /Users/kuiqian/BstemAtlasDataBackup/ucsd_brain/CSHL_patches/MD589/AP_surround_200um_noclass/229_86.tif std= 3.3168165103646916 too blank, skipping\n",
      "image /Users/kuiqian/BstemAtlasDataBackup/ucsd_brain/CSHL_patches/MD589/AP_surround_200um_noclass/230_58.tif std= 5.872233696524172 too blank, skipping\n",
      "image /Users/kuiqian/BstemAtlasDataBackup/ucsd_brain/CSHL_patches/MD589/AP_surround_200um_noclass/223_24.tif std= 4.025575974683603 too blank, skipping\n",
      "image /Users/kuiqian/BstemAtlasDataBackup/ucsd_brain/CSHL_patches/MD589/AP_surround_200um_noclass/228_0.tif std= 3.349315319595107 too blank, skipping\n",
      "image /Users/kuiqian/BstemAtlasDataBackup/ucsd_brain/CSHL_patches/MD589/AP_surround_200um_noclass/216_48.tif std= 3.928029460310324 too blank, skipping\n",
      "image /Users/kuiqian/BstemAtlasDataBackup/ucsd_brain/CSHL_patches/MD589/AP_surround_200um_noclass/222_58.tif std= 8.564370295570303 too blank, skipping\n",
      "image /Users/kuiqian/BstemAtlasDataBackup/ucsd_brain/CSHL_patches/MD589/AP_surround_200um_noclass/219_31.tif std= 1.6716964836569386 too blank, skipping\n",
      "image /Users/kuiqian/BstemAtlasDataBackup/ucsd_brain/CSHL_patches/MD589/AP_surround_200um_noclass/217_2.tif std= 2.443144115351627 too blank, skipping\n",
      "image /Users/kuiqian/BstemAtlasDataBackup/ucsd_brain/CSHL_patches/MD589/AP_surround_200um_noclass/217_6.tif std= 9.71714470446867 too blank, skipping\n",
      "image /Users/kuiqian/BstemAtlasDataBackup/ucsd_brain/CSHL_patches/MD589/AP_surround_200um_noclass/225_55.tif std= 5.1721698074358615 too blank, skipping\n"
     ]
    },
    {
     "name": "stdout",
     "output_type": "stream",
     "text": [
      "image /Users/kuiqian/BstemAtlasDataBackup/ucsd_brain/CSHL_patches/MD589/AP_surround_200um_noclass/228_29.tif std= 3.0395608420245934 too blank, skipping\n",
      "image /Users/kuiqian/BstemAtlasDataBackup/ucsd_brain/CSHL_patches/MD589/AP_surround_200um_noclass/218_61.tif std= 3.5261964884573223 too blank, skipping\n",
      "image /Users/kuiqian/BstemAtlasDataBackup/ucsd_brain/CSHL_patches/MD589/AP_surround_200um_noclass/216_64.tif std= 3.8659692567044317 too blank, skipping\n",
      "image /Users/kuiqian/BstemAtlasDataBackup/ucsd_brain/CSHL_patches/MD589/AP_surround_200um_noclass/223_34.tif std= 4.252677018062791 too blank, skipping\n",
      "image /Users/kuiqian/BstemAtlasDataBackup/ucsd_brain/CSHL_patches/MD589/AP_surround_200um_noclass/228_4.tif std= 3.572173501168488 too blank, skipping\n",
      "image /Users/kuiqian/BstemAtlasDataBackup/ucsd_brain/CSHL_patches/MD589/AP_surround_200um_noclass/227_93.tif std= 3.0709629219262244 too blank, skipping\n",
      "image /Users/kuiqian/BstemAtlasDataBackup/ucsd_brain/CSHL_patches/MD589/AP_surround_200um_noclass/229_96.tif std= 3.2457896096232 too blank, skipping\n",
      "image /Users/kuiqian/BstemAtlasDataBackup/ucsd_brain/CSHL_patches/MD589/AP_surround_200um_noclass/227_50.tif std= 3.1267333264318933 too blank, skipping\n",
      "image /Users/kuiqian/BstemAtlasDataBackup/ucsd_brain/CSHL_patches/MD589/AP_surround_200um_noclass/227_51.tif std= 3.363934303020721 too blank, skipping\n",
      "image /Users/kuiqian/BstemAtlasDataBackup/ucsd_brain/CSHL_patches/MD589/AP_surround_200um_noclass/227_92.tif std= 3.2306639939425787 too blank, skipping\n",
      "image /Users/kuiqian/BstemAtlasDataBackup/ucsd_brain/CSHL_patches/MD589/AP_surround_200um_noclass/218_60.tif std= 3.197657625106178 too blank, skipping\n",
      "image /Users/kuiqian/BstemAtlasDataBackup/ucsd_brain/CSHL_patches/MD589/AP_surround_200um_noclass/225_109.tif std= 6.031983300872036 too blank, skipping\n",
      "image /Users/kuiqian/BstemAtlasDataBackup/ucsd_brain/CSHL_patches/MD589/AP_surround_200um_noclass/226_39.tif std= 3.1400126109119704 too blank, skipping\n",
      "image /Users/kuiqian/BstemAtlasDataBackup/ucsd_brain/CSHL_patches/MD589/AP_surround_200um_noclass/225_54.tif std= 5.488352546541526 too blank, skipping\n",
      "image /Users/kuiqian/BstemAtlasDataBackup/ucsd_brain/CSHL_patches/MD589/AP_surround_200um_noclass/225_42.tif std= 5.365801025465395 too blank, skipping\n",
      "image /Users/kuiqian/BstemAtlasDataBackup/ucsd_brain/CSHL_patches/MD589/AP_surround_200um_noclass/226_13.tif std= 2.5475480081604136 too blank, skipping\n",
      "image /Users/kuiqian/BstemAtlasDataBackup/ucsd_brain/CSHL_patches/MD589/AP_surround_200um_noclass/230_88.tif std= 3.111221731342754 too blank, skipping\n",
      "image /Users/kuiqian/BstemAtlasDataBackup/ucsd_brain/CSHL_patches/MD589/AP_surround_200um_noclass/227_84.tif std= 2.714418175860014 too blank, skipping\n",
      "image /Users/kuiqian/BstemAtlasDataBackup/ucsd_brain/CSHL_patches/MD589/AP_surround_200um_noclass/220_66.tif std= 3.5792997028197666 too blank, skipping\n",
      "image /Users/kuiqian/BstemAtlasDataBackup/ucsd_brain/CSHL_patches/MD589/AP_surround_200um_noclass/229_42.tif std= 3.6572180700544217 too blank, skipping\n",
      "image /Users/kuiqian/BstemAtlasDataBackup/ucsd_brain/CSHL_patches/MD589/AP_surround_200um_noclass/220_67.tif std= 9.875843854001433 too blank, skipping\n",
      "image /Users/kuiqian/BstemAtlasDataBackup/ucsd_brain/CSHL_patches/MD589/AP_surround_200um_noclass/216_72.tif std= 3.8754076137460576 too blank, skipping\n",
      "image /Users/kuiqian/BstemAtlasDataBackup/ucsd_brain/CSHL_patches/MD589/AP_surround_200um_noclass/230_89.tif std= 3.3244648516660362 too blank, skipping\n",
      "image /Users/kuiqian/BstemAtlasDataBackup/ucsd_brain/CSHL_patches/MD589/AP_surround_200um_noclass/225_43.tif std= 5.059178094821325 too blank, skipping\n",
      "image /Users/kuiqian/BstemAtlasDataBackup/ucsd_brain/CSHL_patches/MD589/AP_surround_200um_noclass/222_89.tif std= 3.8032316464613665 too blank, skipping\n",
      "image /Users/kuiqian/BstemAtlasDataBackup/ucsd_brain/CSHL_patches/MD589/AP_surround_200um_noclass/217_55.tif std= 2.5783293030328824 too blank, skipping\n",
      "image /Users/kuiqian/BstemAtlasDataBackup/ucsd_brain/CSHL_patches/MD589/AP_surround_200um_noclass/219_78.tif std= 1.7140875345902449 too blank, skipping\n",
      "image /Users/kuiqian/BstemAtlasDataBackup/ucsd_brain/CSHL_patches/MD589/AP_surround_200um_noclass/226_61.tif std= 3.1962298428040774 too blank, skipping\n",
      "image /Users/kuiqian/BstemAtlasDataBackup/ucsd_brain/CSHL_patches/MD589/AP_surround_200um_noclass/229_1.tif std= 4.338988519561597 too blank, skipping\n",
      "image /Users/kuiqian/BstemAtlasDataBackup/ucsd_brain/CSHL_patches/MD589/AP_surround_200um_noclass/228_58.tif std= 3.3381092728277886 too blank, skipping\n",
      "image /Users/kuiqian/BstemAtlasDataBackup/ucsd_brain/CSHL_patches/MD589/AP_surround_200um_noclass/226_49.tif std= 3.2319518510084984 too blank, skipping\n",
      "image /Users/kuiqian/BstemAtlasDataBackup/ucsd_brain/CSHL_patches/MD589/AP_surround_200um_noclass/224_70.tif std= 3.415716999058268 too blank, skipping\n",
      "image /Users/kuiqian/BstemAtlasDataBackup/ucsd_brain/CSHL_patches/MD589/AP_surround_200um_noclass/223_45.tif std= 4.3745239579867885 too blank, skipping\n",
      "image /Users/kuiqian/BstemAtlasDataBackup/ucsd_brain/CSHL_patches/MD589/AP_surround_200um_noclass/230_0.tif std= 5.498303266535197 too blank, skipping\n",
      "image /Users/kuiqian/BstemAtlasDataBackup/ucsd_brain/CSHL_patches/MD589/AP_surround_200um_noclass/229_25.tif std= 3.708609065658998 too blank, skipping\n",
      "image /Users/kuiqian/BstemAtlasDataBackup/ucsd_brain/CSHL_patches/MD589/AP_surround_200um_noclass/223_44.tif std= 4.340316407117521 too blank, skipping\n",
      "image /Users/kuiqian/BstemAtlasDataBackup/ucsd_brain/CSHL_patches/MD589/AP_surround_200um_noclass/224_59.tif std= 3.4393457680740394 too blank, skipping\n",
      "image /Users/kuiqian/BstemAtlasDataBackup/ucsd_brain/CSHL_patches/MD589/AP_surround_200um_noclass/224_71.tif std= 4.74106256511458 too blank, skipping\n",
      "image /Users/kuiqian/BstemAtlasDataBackup/ucsd_brain/CSHL_patches/MD589/AP_surround_200um_noclass/223_78.tif std= 3.9445585423350638 too blank, skipping\n",
      "image /Users/kuiqian/BstemAtlasDataBackup/ucsd_brain/CSHL_patches/MD589/AP_surround_200um_noclass/223_87.tif std= 3.966945609551078 too blank, skipping\n",
      "image /Users/kuiqian/BstemAtlasDataBackup/ucsd_brain/CSHL_patches/MD589/AP_surround_200um_noclass/226_60.tif std= 3.2032501418533816 too blank, skipping\n",
      "image /Users/kuiqian/BstemAtlasDataBackup/ucsd_brain/CSHL_patches/MD589/AP_surround_200um_noclass/229_0.tif std= 3.1722210029398994 too blank, skipping\n",
      "image /Users/kuiqian/BstemAtlasDataBackup/ucsd_brain/CSHL_patches/MD589/AP_surround_200um_noclass/225_31.tif std= 4.865305917103994 too blank, skipping\n",
      "image /Users/kuiqian/BstemAtlasDataBackup/ucsd_brain/CSHL_patches/MD589/AP_surround_200um_noclass/219_86.tif std= 1.724987600679968 too blank, skipping\n",
      "image /Users/kuiqian/BstemAtlasDataBackup/ucsd_brain/CSHL_patches/MD589/AP_surround_200um_noclass/219_92.tif std= 1.8213018229222706 too blank, skipping\n",
      "image /Users/kuiqian/BstemAtlasDataBackup/ucsd_brain/CSHL_patches/MD589/AP_surround_200um_noclass/219_79.tif std= 1.6000100516351485 too blank, skipping\n",
      "image /Users/kuiqian/BstemAtlasDataBackup/ucsd_brain/CSHL_patches/MD589/AP_surround_200um_noclass/219_47.tif std= 4.664930290379763 too blank, skipping\n",
      "image /Users/kuiqian/BstemAtlasDataBackup/ucsd_brain/CSHL_patches/MD589/AP_surround_200um_noclass/217_56.tif std= 2.6725830352903994 too blank, skipping\n",
      "image /Users/kuiqian/BstemAtlasDataBackup/ucsd_brain/CSHL_patches/MD589/AP_surround_200um_noclass/229_2.tif std= 9.079750203932916 too blank, skipping\n",
      "image /Users/kuiqian/BstemAtlasDataBackup/ucsd_brain/CSHL_patches/MD589/AP_surround_200um_noclass/226_62.tif std= 9.29492968628977 too blank, skipping\n",
      "image /Users/kuiqian/BstemAtlasDataBackup/ucsd_brain/CSHL_patches/MD589/AP_surround_200um_noclass/229_33.tif std= 3.8753164472011132 too blank, skipping\n",
      "image /Users/kuiqian/BstemAtlasDataBackup/ucsd_brain/CSHL_patches/MD589/AP_surround_200um_noclass/227_22.tif std= 3.053390582904838 too blank, skipping\n",
      "image /Users/kuiqian/BstemAtlasDataBackup/ucsd_brain/CSHL_patches/MD589/AP_surround_200um_noclass/230_2.tif std= 5.339461453529847 too blank, skipping\n",
      "image /Users/kuiqian/BstemAtlasDataBackup/ucsd_brain/CSHL_patches/MD589/AP_surround_200um_noclass/225_32.tif std= 4.557423519677567 too blank, skipping\n",
      "image /Users/kuiqian/BstemAtlasDataBackup/ucsd_brain/CSHL_patches/MD589/AP_surround_200um_noclass/222_13.tif std= 3.115596787703858 too blank, skipping\n"
     ]
    },
    {
     "name": "stdout",
     "output_type": "stream",
     "text": [
      "image /Users/kuiqian/BstemAtlasDataBackup/ucsd_brain/CSHL_patches/MD589/AP_surround_200um_noclass/217_57.tif std= 4.489462307821964 too blank, skipping\n",
      "image /Users/kuiqian/BstemAtlasDataBackup/ucsd_brain/CSHL_patches/MD589/AP_surround_200um_noclass/217_47.tif std= 2.5353194146132583 too blank, skipping\n",
      "image /Users/kuiqian/BstemAtlasDataBackup/ucsd_brain/CSHL_patches/MD589/AP_surround_200um_noclass/225_22.tif std= 4.21096823712646 too blank, skipping\n",
      "image /Users/kuiqian/BstemAtlasDataBackup/ucsd_brain/CSHL_patches/MD589/AP_surround_200um_noclass/226_73.tif std= 8.129938141265276 too blank, skipping\n",
      "image /Users/kuiqian/BstemAtlasDataBackup/ucsd_brain/CSHL_patches/MD589/AP_surround_200um_noclass/223_56.tif std= 9.208321296955743 too blank, skipping\n",
      "image /Users/kuiqian/BstemAtlasDataBackup/ucsd_brain/CSHL_patches/MD589/AP_surround_200um_noclass/229_6.tif std= 9.085422864174967 too blank, skipping\n",
      "image /Users/kuiqian/BstemAtlasDataBackup/ucsd_brain/CSHL_patches/MD589/AP_surround_200um_noclass/226_72.tif std= 3.038958201100214 too blank, skipping\n",
      "image /Users/kuiqian/BstemAtlasDataBackup/ucsd_brain/CSHL_patches/MD589/AP_surround_200um_noclass/228_88.tif std= 3.415951091973484 too blank, skipping\n",
      "image /Users/kuiqian/BstemAtlasDataBackup/ucsd_brain/CSHL_patches/MD589/AP_surround_200um_noclass/217_85.tif std= 2.9701336927560584 too blank, skipping\n",
      "image /Users/kuiqian/BstemAtlasDataBackup/ucsd_brain/CSHL_patches/MD589/AP_surround_200um_noclass/225_23.tif std= 4.058915469945853 too blank, skipping\n",
      "image /Users/kuiqian/BstemAtlasDataBackup/ucsd_brain/CSHL_patches/MD589/AP_surround_200um_noclass/219_57.tif std= 4.659909300415545 too blank, skipping\n",
      "image /Users/kuiqian/BstemAtlasDataBackup/ucsd_brain/CSHL_patches/MD589/AP_surround_200um_noclass/219_69.tif std= 1.9545013436170882 too blank, skipping\n",
      "image /Users/kuiqian/BstemAtlasDataBackup/ucsd_brain/CSHL_patches/MD589/AP_surround_200um_noclass/222_28.tif std= 3.7337527728785145 too blank, skipping\n",
      "image /Users/kuiqian/BstemAtlasDataBackup/ucsd_brain/CSHL_patches/MD589/AP_surround_200um_noclass/223_54.tif std= 4.250303844864711 too blank, skipping\n",
      "image /Users/kuiqian/BstemAtlasDataBackup/ucsd_brain/CSHL_patches/MD589/AP_surround_200um_noclass/224_49.tif std= 3.4482051922373516 too blank, skipping\n",
      "image /Users/kuiqian/BstemAtlasDataBackup/ucsd_brain/CSHL_patches/MD589/AP_surround_200um_noclass/224_61.tif std= 4.833306557672666 too blank, skipping\n",
      "image /Users/kuiqian/BstemAtlasDataBackup/ucsd_brain/CSHL_patches/MD589/AP_surround_200um_noclass/227_30.tif std= 3.0811585073037224 too blank, skipping\n",
      "image /Users/kuiqian/BstemAtlasDataBackup/ucsd_brain/CSHL_patches/MD589/AP_surround_200um_noclass/229_34.tif std= 9.773609814082135 too blank, skipping\n",
      "image /Users/kuiqian/BstemAtlasDataBackup/ucsd_brain/CSHL_patches/MD589/AP_surround_200um_noclass/215_54.tif std= 3.263605521522108 too blank, skipping\n",
      "image /Users/kuiqian/BstemAtlasDataBackup/ucsd_brain/CSHL_patches/MD589/AP_surround_200um_noclass/224_60.tif std= 3.459023345452379 too blank, skipping\n",
      "image /Users/kuiqian/BstemAtlasDataBackup/ucsd_brain/CSHL_patches/MD589/AP_surround_200um_noclass/224_48.tif std= 3.4669611856193794 too blank, skipping\n",
      "image /Users/kuiqian/BstemAtlasDataBackup/ucsd_brain/CSHL_patches/MD589/AP_surround_200um_noclass/223_55.tif std= 4.343131141217945 too blank, skipping\n",
      "image /Users/kuiqian/BstemAtlasDataBackup/ucsd_brain/CSHL_patches/MD589/AP_surround_200um_noclass/216_39.tif std= 3.2330009290184902 too blank, skipping\n",
      "image /Users/kuiqian/BstemAtlasDataBackup/ucsd_brain/CSHL_patches/MD589/AP_surround_200um_noclass/226_71.tif std= 3.0498049285695186 too blank, skipping\n",
      "image /Users/kuiqian/BstemAtlasDataBackup/ucsd_brain/CSHL_patches/MD589/AP_surround_200um_noclass/229_5.tif std= 4.552165513756227 too blank, skipping\n",
      "image /Users/kuiqian/BstemAtlasDataBackup/ucsd_brain/CSHL_patches/MD589/AP_surround_200um_noclass/228_48.tif std= 3.3053112228968473 too blank, skipping\n",
      "image /Users/kuiqian/BstemAtlasDataBackup/ucsd_brain/CSHL_patches/MD589/AP_surround_200um_noclass/219_68.tif std= 1.8010537884950057 too blank, skipping\n",
      "APfinished in 3527.2 seconds\n",
      "mkdir: /Users/kuiqian/BstemAtlasDataBackup/ucsd_brain/CSHL_cells/MD589/12N/: File exists\n",
      "image /Users/kuiqian/BstemAtlasDataBackup/ucsd_brain/CSHL_patches/MD589/12N_surround_200um_noclass/228_219.tif std= 3.0533547472755997 too blank, skipping\n",
      "image /Users/kuiqian/BstemAtlasDataBackup/ucsd_brain/CSHL_patches/MD589/12N_surround_200um_noclass/229_156.tif std= 2.914449530092541 too blank, skipping\n",
      "image /Users/kuiqian/BstemAtlasDataBackup/ucsd_brain/CSHL_patches/MD589/12N_surround_200um_noclass/228_87.tif std= 2.8012370004581495 too blank, skipping\n",
      "image /Users/kuiqian/BstemAtlasDataBackup/ucsd_brain/CSHL_patches/MD589/12N_surround_200um_noclass/231_151.tif std= 3.7750417027837164 too blank, skipping\n",
      "image /Users/kuiqian/BstemAtlasDataBackup/ucsd_brain/CSHL_patches/MD589/12N_surround_200um_noclass/231_190.tif std= 8.579426331094918 too blank, skipping\n",
      "image /Users/kuiqian/BstemAtlasDataBackup/ucsd_brain/CSHL_patches/MD589/12N_surround_200um_noclass/230_209.tif std= 7.172037924271537 too blank, skipping\n",
      "12Nfinished in 3720.1 seconds\n",
      "mkdir: /Users/kuiqian/BstemAtlasDataBackup/ucsd_brain/CSHL_cells/MD589/RtTg/: File exists\n",
      "image /Users/kuiqian/BstemAtlasDataBackup/ucsd_brain/CSHL_patches/MD589/RtTg_surround_200um_noclass/223_320.tif std= 9.678168279399301 too blank, skipping\n",
      "image /Users/kuiqian/BstemAtlasDataBackup/ucsd_brain/CSHL_patches/MD589/RtTg_surround_200um_noclass/223_321.tif std= 9.773458928304972 too blank, skipping\n",
      "image /Users/kuiqian/BstemAtlasDataBackup/ucsd_brain/CSHL_patches/MD589/RtTg_surround_200um_noclass/225_358.tif std= 9.581583759691094 too blank, skipping\n",
      "image /Users/kuiqian/BstemAtlasDataBackup/ucsd_brain/CSHL_patches/MD589/RtTg_surround_200um_noclass/200_81.tif std= 9.942619912385549 too blank, skipping\n",
      "image /Users/kuiqian/BstemAtlasDataBackup/ucsd_brain/CSHL_patches/MD589/RtTg_surround_200um_noclass/225_407.tif std= 9.62334825950905 too blank, skipping\n",
      "image /Users/kuiqian/BstemAtlasDataBackup/ucsd_brain/CSHL_patches/MD589/RtTg_surround_200um_noclass/200_101.tif std= 9.057189762524908 too blank, skipping\n",
      "image /Users/kuiqian/BstemAtlasDataBackup/ucsd_brain/CSHL_patches/MD589/RtTg_surround_200um_noclass/200_82.tif std= 8.773196264569501 too blank, skipping\n",
      "image /Users/kuiqian/BstemAtlasDataBackup/ucsd_brain/CSHL_patches/MD589/RtTg_surround_200um_noclass/245_299.tif std= 9.363099836608452 too blank, skipping\n",
      "image /Users/kuiqian/BstemAtlasDataBackup/ucsd_brain/CSHL_patches/MD589/RtTg_surround_200um_noclass/230_757.tif std= 8.414453566526829 too blank, skipping\n",
      "image /Users/kuiqian/BstemAtlasDataBackup/ucsd_brain/CSHL_patches/MD589/RtTg_surround_200um_noclass/200_83.tif std= 9.827888397044987 too blank, skipping\n",
      "image /Users/kuiqian/BstemAtlasDataBackup/ucsd_brain/CSHL_patches/MD589/RtTg_surround_200um_noclass/240_621.tif std= 9.26872297476987 too blank, skipping\n",
      "image /Users/kuiqian/BstemAtlasDataBackup/ucsd_brain/CSHL_patches/MD589/RtTg_surround_200um_noclass/225_463.tif std= 9.728983991054614 too blank, skipping\n",
      "image /Users/kuiqian/BstemAtlasDataBackup/ucsd_brain/CSHL_patches/MD589/RtTg_surround_200um_noclass/200_207.tif std= 8.882855370101609 too blank, skipping\n",
      "image /Users/kuiqian/BstemAtlasDataBackup/ucsd_brain/CSHL_patches/MD589/RtTg_surround_200um_noclass/200_206.tif std= 9.291660345166665 too blank, skipping\n",
      "RtTgfinished in 3905.2 seconds\n",
      "mkdir: /Users/kuiqian/BstemAtlasDataBackup/ucsd_brain/CSHL_cells/MD589/SC/: File exists\n",
      "image /Users/kuiqian/BstemAtlasDataBackup/ucsd_brain/CSHL_patches/MD589/SC_surround_200um_noclass/220_425.tif std= 7.675750214145076 too blank, skipping\n",
      "image /Users/kuiqian/BstemAtlasDataBackup/ucsd_brain/CSHL_patches/MD589/SC_surround_200um_noclass/131_366.tif std= 4.922852752074723 too blank, skipping\n",
      "image /Users/kuiqian/BstemAtlasDataBackup/ucsd_brain/CSHL_patches/MD589/SC_surround_200um_noclass/217_620.tif std= 2.7761575468719917 too blank, skipping\n",
      "image /Users/kuiqian/BstemAtlasDataBackup/ucsd_brain/CSHL_patches/MD589/SC_surround_200um_noclass/215_296.tif std= 8.571069371947383 too blank, skipping\n",
      "image /Users/kuiqian/BstemAtlasDataBackup/ucsd_brain/CSHL_patches/MD589/SC_surround_200um_noclass/216_355.tif std= 2.149970669665173 too blank, skipping\n"
     ]
    },
    {
     "name": "stdout",
     "output_type": "stream",
     "text": [
      "image /Users/kuiqian/BstemAtlasDataBackup/ucsd_brain/CSHL_patches/MD589/SC_surround_200um_noclass/217_152.tif std= 9.925575996317237 too blank, skipping\n",
      "image /Users/kuiqian/BstemAtlasDataBackup/ucsd_brain/CSHL_patches/MD589/SC_surround_200um_noclass/213_576.tif std= 2.7990277299863413 too blank, skipping\n",
      "image /Users/kuiqian/BstemAtlasDataBackup/ucsd_brain/CSHL_patches/MD589/SC_surround_200um_noclass/276_1164.tif std= 6.949276104830492 too blank, skipping\n",
      "image /Users/kuiqian/BstemAtlasDataBackup/ucsd_brain/CSHL_patches/MD589/SC_surround_200um_noclass/216_427.tif std= 1.9962976377647192 too blank, skipping\n",
      "image /Users/kuiqian/BstemAtlasDataBackup/ucsd_brain/CSHL_patches/MD589/SC_surround_200um_noclass/224_1070.tif std= 5.275529617659641 too blank, skipping\n",
      "image /Users/kuiqian/BstemAtlasDataBackup/ucsd_brain/CSHL_patches/MD589/SC_surround_200um_noclass/217_807.tif std= 6.8130425946594215 too blank, skipping\n",
      "image /Users/kuiqian/BstemAtlasDataBackup/ucsd_brain/CSHL_patches/MD589/SC_surround_200um_noclass/227_1023.tif std= 4.4095204988986865 too blank, skipping\n",
      "image /Users/kuiqian/BstemAtlasDataBackup/ucsd_brain/CSHL_patches/MD589/SC_surround_200um_noclass/137_451.tif std= 9.308185363002242 too blank, skipping\n",
      "image /Users/kuiqian/BstemAtlasDataBackup/ucsd_brain/CSHL_patches/MD589/SC_surround_200um_noclass/225_11.tif std= 5.543665137760257 too blank, skipping\n",
      "image /Users/kuiqian/BstemAtlasDataBackup/ucsd_brain/CSHL_patches/MD589/SC_surround_200um_noclass/219_717.tif std= 1.3882432778212606 too blank, skipping\n",
      "image /Users/kuiqian/BstemAtlasDataBackup/ucsd_brain/CSHL_patches/MD589/SC_surround_200um_noclass/216_396.tif std= 1.169047189222028 too blank, skipping\n",
      "image /Users/kuiqian/BstemAtlasDataBackup/ucsd_brain/CSHL_patches/MD589/SC_surround_200um_noclass/148_84.tif std= 6.549141228375526 too blank, skipping\n",
      "image /Users/kuiqian/BstemAtlasDataBackup/ucsd_brain/CSHL_patches/MD589/SC_surround_200um_noclass/128_205.tif std= 4.657694617466144 too blank, skipping\n",
      "image /Users/kuiqian/BstemAtlasDataBackup/ucsd_brain/CSHL_patches/MD589/SC_surround_200um_noclass/220_155.tif std= 5.346449936911885 too blank, skipping\n",
      "image /Users/kuiqian/BstemAtlasDataBackup/ucsd_brain/CSHL_patches/MD589/SC_surround_200um_noclass/135_53.tif std= 4.291913342393046 too blank, skipping\n",
      "image /Users/kuiqian/BstemAtlasDataBackup/ucsd_brain/CSHL_patches/MD589/SC_surround_200um_noclass/216_157.tif std= 5.720745959929778 too blank, skipping\n",
      "image /Users/kuiqian/BstemAtlasDataBackup/ucsd_brain/CSHL_patches/MD589/SC_surround_200um_noclass/217_344.tif std= 1.2351602029820459 too blank, skipping\n",
      "image /Users/kuiqian/BstemAtlasDataBackup/ucsd_brain/CSHL_patches/MD589/SC_surround_200um_noclass/223_914.tif std= 5.232109449786658 too blank, skipping\n",
      "image /Users/kuiqian/BstemAtlasDataBackup/ucsd_brain/CSHL_patches/MD589/SC_surround_200um_noclass/217_436.tif std= 1.3573311695125374 too blank, skipping\n",
      "image /Users/kuiqian/BstemAtlasDataBackup/ucsd_brain/CSHL_patches/MD589/SC_surround_200um_noclass/218_909.tif std= 9.840271719184184 too blank, skipping\n",
      "SCfinished in 4080.7 seconds\n",
      "mkdir: /Users/kuiqian/BstemAtlasDataBackup/ucsd_brain/CSHL_cells/MD589/IC/: File exists\n",
      "image /Users/kuiqian/BstemAtlasDataBackup/ucsd_brain/CSHL_patches/MD589/IC_surround_200um_noclass/213_238.tif std= 6.126821981772924 too blank, skipping\n",
      "image /Users/kuiqian/BstemAtlasDataBackup/ucsd_brain/CSHL_patches/MD589/IC_surround_200um_noclass/176_304.tif std= 3.3488924662016535 too blank, skipping\n",
      "image /Users/kuiqian/BstemAtlasDataBackup/ucsd_brain/CSHL_patches/MD589/IC_surround_200um_noclass/164_1012.tif std= 2.457002887179742 too blank, skipping\n",
      "image /Users/kuiqian/BstemAtlasDataBackup/ucsd_brain/CSHL_patches/MD589/IC_surround_200um_noclass/177_671.tif std= 4.1256257040102495 too blank, skipping\n",
      "image /Users/kuiqian/BstemAtlasDataBackup/ucsd_brain/CSHL_patches/MD589/IC_surround_200um_noclass/266_640.tif std= 3.9085324874185217 too blank, skipping\n",
      "image /Users/kuiqian/BstemAtlasDataBackup/ucsd_brain/CSHL_patches/MD589/IC_surround_200um_noclass/228_225.tif std= 3.6244710661180104 too blank, skipping\n",
      "image /Users/kuiqian/BstemAtlasDataBackup/ucsd_brain/CSHL_patches/MD589/IC_surround_200um_noclass/244_528.tif std= 3.333368293628391 too blank, skipping\n",
      "image /Users/kuiqian/BstemAtlasDataBackup/ucsd_brain/CSHL_patches/MD589/IC_surround_200um_noclass/183_664.tif std= 7.346860493109925 too blank, skipping\n",
      "image /Users/kuiqian/BstemAtlasDataBackup/ucsd_brain/CSHL_patches/MD589/IC_surround_200um_noclass/168_596.tif std= 3.8334465046991326 too blank, skipping\n",
      "image /Users/kuiqian/BstemAtlasDataBackup/ucsd_brain/CSHL_patches/MD589/IC_surround_200um_noclass/176_476.tif std= 3.2526964649838037 too blank, skipping\n",
      "image /Users/kuiqian/BstemAtlasDataBackup/ucsd_brain/CSHL_patches/MD589/IC_surround_200um_noclass/182_477.tif std= 3.0712414769301897 too blank, skipping\n",
      "image /Users/kuiqian/BstemAtlasDataBackup/ucsd_brain/CSHL_patches/MD589/IC_surround_200um_noclass/194_397.tif std= 2.364147065266087 too blank, skipping\n",
      "image /Users/kuiqian/BstemAtlasDataBackup/ucsd_brain/CSHL_patches/MD589/IC_surround_200um_noclass/206_341.tif std= 3.527367435615919 too blank, skipping\n",
      "image /Users/kuiqian/BstemAtlasDataBackup/ucsd_brain/CSHL_patches/MD589/IC_surround_200um_noclass/254_514.tif std= 2.565025521322564 too blank, skipping\n",
      "image /Users/kuiqian/BstemAtlasDataBackup/ucsd_brain/CSHL_patches/MD589/IC_surround_200um_noclass/167_659.tif std= 3.1599030365697787 too blank, skipping\n",
      "image /Users/kuiqian/BstemAtlasDataBackup/ucsd_brain/CSHL_patches/MD589/IC_surround_200um_noclass/199_388.tif std= 2.2461954842594594 too blank, skipping\n",
      "image /Users/kuiqian/BstemAtlasDataBackup/ucsd_brain/CSHL_patches/MD589/IC_surround_200um_noclass/251_451.tif std= 2.6777244561900053 too blank, skipping\n",
      "image /Users/kuiqian/BstemAtlasDataBackup/ucsd_brain/CSHL_patches/MD589/IC_surround_200um_noclass/149_715.tif std= 9.921427517266563 too blank, skipping\n",
      "image /Users/kuiqian/BstemAtlasDataBackup/ucsd_brain/CSHL_patches/MD589/IC_surround_200um_noclass/192_339.tif std= 2.2780498638872797 too blank, skipping\n",
      "image /Users/kuiqian/BstemAtlasDataBackup/ucsd_brain/CSHL_patches/MD589/IC_surround_200um_noclass/189_388.tif std= 3.499076807982786 too blank, skipping\n",
      "image /Users/kuiqian/BstemAtlasDataBackup/ucsd_brain/CSHL_patches/MD589/IC_surround_200um_noclass/261_402.tif std= 6.128301616386046 too blank, skipping\n",
      "image /Users/kuiqian/BstemAtlasDataBackup/ucsd_brain/CSHL_patches/MD589/IC_surround_200um_noclass/223_243.tif std= 3.506310793735005 too blank, skipping\n",
      "image /Users/kuiqian/BstemAtlasDataBackup/ucsd_brain/CSHL_patches/MD589/IC_surround_200um_noclass/194_432.tif std= 7.532894872764902 too blank, skipping\n",
      "image /Users/kuiqian/BstemAtlasDataBackup/ucsd_brain/CSHL_patches/MD589/IC_surround_200um_noclass/261_416.tif std= 3.7886474022442846 too blank, skipping\n",
      "image /Users/kuiqian/BstemAtlasDataBackup/ucsd_brain/CSHL_patches/MD589/IC_surround_200um_noclass/179_752.tif std= 2.536624860085458 too blank, skipping\n",
      "image /Users/kuiqian/BstemAtlasDataBackup/ucsd_brain/CSHL_patches/MD589/IC_surround_200um_noclass/159_926.tif std= 7.796971379197789 too blank, skipping\n",
      "image /Users/kuiqian/BstemAtlasDataBackup/ucsd_brain/CSHL_patches/MD589/IC_surround_200um_noclass/199_405.tif std= 2.2438732950184885 too blank, skipping\n",
      "image /Users/kuiqian/BstemAtlasDataBackup/ucsd_brain/CSHL_patches/MD589/IC_surround_200um_noclass/241_492.tif std= 9.051397887419244 too blank, skipping\n",
      "image /Users/kuiqian/BstemAtlasDataBackup/ucsd_brain/CSHL_patches/MD589/IC_surround_200um_noclass/205_241.tif std= 3.2705659590522114 too blank, skipping\n",
      "image /Users/kuiqian/BstemAtlasDataBackup/ucsd_brain/CSHL_patches/MD589/IC_surround_200um_noclass/215_255.tif std= 7.818723633678029 too blank, skipping\n",
      "image /Users/kuiqian/BstemAtlasDataBackup/ucsd_brain/CSHL_patches/MD589/IC_surround_200um_noclass/217_185.tif std= 7.257061860507876 too blank, skipping\n",
      "image /Users/kuiqian/BstemAtlasDataBackup/ucsd_brain/CSHL_patches/MD589/IC_surround_200um_noclass/251_492.tif std= 3.415880284656345 too blank, skipping\n",
      "image /Users/kuiqian/BstemAtlasDataBackup/ucsd_brain/CSHL_patches/MD589/IC_surround_200um_noclass/199_439.tif std= 2.366259688216455 too blank, skipping\n"
     ]
    },
    {
     "name": "stdout",
     "output_type": "stream",
     "text": [
      "image /Users/kuiqian/BstemAtlasDataBackup/ucsd_brain/CSHL_patches/MD589/IC_surround_200um_noclass/171_608.tif std= 2.9733704018894223 too blank, skipping\n",
      "image /Users/kuiqian/BstemAtlasDataBackup/ucsd_brain/CSHL_patches/MD589/IC_surround_200um_noclass/169_593.tif std= 9.40659376221118 too blank, skipping\n",
      "image /Users/kuiqian/BstemAtlasDataBackup/ucsd_brain/CSHL_patches/MD589/IC_surround_200um_noclass/231_346.tif std= 2.4854303126349726 too blank, skipping\n",
      "image /Users/kuiqian/BstemAtlasDataBackup/ucsd_brain/CSHL_patches/MD589/IC_surround_200um_noclass/195_386.tif std= 2.970004090395993 too blank, skipping\n",
      "image /Users/kuiqian/BstemAtlasDataBackup/ucsd_brain/CSHL_patches/MD589/IC_surround_200um_noclass/224_217.tif std= 9.763570524578155 too blank, skipping\n",
      "image /Users/kuiqian/BstemAtlasDataBackup/ucsd_brain/CSHL_patches/MD589/IC_surround_200um_noclass/193_314.tif std= 2.1268830796467872 too blank, skipping\n",
      "image /Users/kuiqian/BstemAtlasDataBackup/ucsd_brain/CSHL_patches/MD589/IC_surround_200um_noclass/245_539.tif std= 2.861497755285708 too blank, skipping\n",
      "image /Users/kuiqian/BstemAtlasDataBackup/ucsd_brain/CSHL_patches/MD589/IC_surround_200um_noclass/202_201.tif std= 4.425204621972134 too blank, skipping\n",
      "image /Users/kuiqian/BstemAtlasDataBackup/ucsd_brain/CSHL_patches/MD589/IC_surround_200um_noclass/250_454.tif std= 3.4154071054871467 too blank, skipping\n",
      "image /Users/kuiqian/BstemAtlasDataBackup/ucsd_brain/CSHL_patches/MD589/IC_surround_200um_noclass/253_597.tif std= 2.7189105136874376 too blank, skipping\n",
      "image /Users/kuiqian/BstemAtlasDataBackup/ucsd_brain/CSHL_patches/MD589/IC_surround_200um_noclass/166_890.tif std= 5.91098710293243 too blank, skipping\n",
      "image /Users/kuiqian/BstemAtlasDataBackup/ucsd_brain/CSHL_patches/MD589/IC_surround_200um_noclass/255_505.tif std= 7.449700112644675 too blank, skipping\n",
      "image /Users/kuiqian/BstemAtlasDataBackup/ucsd_brain/CSHL_patches/MD589/IC_surround_200um_noclass/248_532.tif std= 3.933166577673921 too blank, skipping\n",
      "image /Users/kuiqian/BstemAtlasDataBackup/ucsd_brain/CSHL_patches/MD589/IC_surround_200um_noclass/160_816.tif std= 5.515746072138475 too blank, skipping\n",
      "image /Users/kuiqian/BstemAtlasDataBackup/ucsd_brain/CSHL_patches/MD589/IC_surround_200um_noclass/176_648.tif std= 3.4213648274865585 too blank, skipping\n",
      "image /Users/kuiqian/BstemAtlasDataBackup/ucsd_brain/CSHL_patches/MD589/IC_surround_200um_noclass/195_437.tif std= 2.9198362176392716 too blank, skipping\n",
      "image /Users/kuiqian/BstemAtlasDataBackup/ucsd_brain/CSHL_patches/MD589/IC_surround_200um_noclass/260_413.tif std= 3.1167329527392216 too blank, skipping\n",
      "image /Users/kuiqian/BstemAtlasDataBackup/ucsd_brain/CSHL_patches/MD589/IC_surround_200um_noclass/185_423.tif std= 2.5450889940479233 too blank, skipping\n",
      "image /Users/kuiqian/BstemAtlasDataBackup/ucsd_brain/CSHL_patches/MD589/IC_surround_200um_noclass/184_630.tif std= 2.8877087046251404 too blank, skipping\n",
      "image /Users/kuiqian/BstemAtlasDataBackup/ucsd_brain/CSHL_patches/MD589/IC_surround_200um_noclass/170_625.tif std= 2.9626585120709463 too blank, skipping\n",
      "image /Users/kuiqian/BstemAtlasDataBackup/ucsd_brain/CSHL_patches/MD589/IC_surround_200um_noclass/237_465.tif std= 6.175936432223238 too blank, skipping\n",
      "image /Users/kuiqian/BstemAtlasDataBackup/ucsd_brain/CSHL_patches/MD589/IC_surround_200um_noclass/179_550.tif std= 2.7413587405938373 too blank, skipping\n",
      "image /Users/kuiqian/BstemAtlasDataBackup/ucsd_brain/CSHL_patches/MD589/IC_surround_200um_noclass/209_267.tif std= 3.433231187676842 too blank, skipping\n",
      "image /Users/kuiqian/BstemAtlasDataBackup/ucsd_brain/CSHL_patches/MD589/IC_surround_200um_noclass/163_902.tif std= 2.5235346339404083 too blank, skipping\n",
      "image /Users/kuiqian/BstemAtlasDataBackup/ucsd_brain/CSHL_patches/MD589/IC_surround_200um_noclass/188_428.tif std= 2.766852041385769 too blank, skipping\n",
      "image /Users/kuiqian/BstemAtlasDataBackup/ucsd_brain/CSHL_patches/MD589/IC_surround_200um_noclass/240_483.tif std= 2.984704600204618 too blank, skipping\n",
      "ICfinished in 4262.6 seconds\n"
     ]
    }
   ],
   "source": [
    "t0=time()\n",
    "\n",
    "for structure in all_structures:\n",
    "    if not os.path.exists(patch_dir+structure):\n",
    "        print('SKIPPING: '+structure)\n",
    "        continue\n",
    "    for state in ['positive','negative']:\n",
    "        if state=='positive':\n",
    "            patches = [dir for dir in glob(patch_dir+structure+'/*')]\n",
    "        else:\n",
    "            patches = [dir for dir in glob(patch_dir+structure+'_surround_200um_noclass/*')]\n",
    "        savepath = cell_dir+structure+'/'\n",
    "        ! mkdir $savepath\n",
    "        savepath = savepath+state+'/'\n",
    "        if os.path.exists(savepath):\n",
    "            print(structure+' ALREADY EXIST')\n",
    "            continue\n",
    "        else:\n",
    "            ! mkdir $savepath\n",
    "            ! mkdir $savepath/15\n",
    "            ! mkdir $savepath/81\n",
    "            ! mkdir $savepath/251\n",
    "        count=0\n",
    "        for i in range(len(patches)):\n",
    "            extractor=patch_extractor(patches[i],params)\n",
    "            tile=cv2.imread(patches[i],0)\n",
    "            if params['preprocessing']['polarity']==-1:\n",
    "                tile = 255-tile\n",
    "            min_std=params['preprocessing']['min_std']\n",
    "            _std = np.std(tile.flatten())\n",
    "\n",
    "            if _std < min_std:\n",
    "                print('image',patches[i],'std=',_std, 'too blank, skipping')\n",
    "            else:\n",
    "                Stats=extractor.segment_cells(tile)\n",
    "                extracted= extractor.extract_blobs(Stats,tile)\n",
    "                for j in range(len(extracted)):\n",
    "                    try:\n",
    "                        filename=savepath+str(extracted[j]['padded_size'])+'/'+str(count)+'.tif'\n",
    "                        count+=1\n",
    "                        img=extracted[j]['padded_patch']\n",
    "                        img=img/img.max()*255\n",
    "                        img=img.astype(np.uint8)\n",
    "                        cv2.imwrite(filename, img)\n",
    "                    except:\n",
    "                        continue\n",
    "            if count>100000:\n",
    "                break\n",
    "    print(structure+'finished in %5.1f seconds'%(time()-t0))\n",
    "    "
   ]
  },
  {
   "cell_type": "code",
   "execution_count": null,
   "metadata": {},
   "outputs": [],
   "source": []
  },
  {
   "cell_type": "code",
   "execution_count": null,
   "metadata": {},
   "outputs": [],
   "source": []
  }
 ],
 "metadata": {
  "kernelspec": {
   "display_name": "shapeology",
   "language": "python",
   "name": "shapeology_code"
  },
  "language_info": {
   "codemirror_mode": {
    "name": "ipython",
    "version": 3
   },
   "file_extension": ".py",
   "mimetype": "text/x-python",
   "name": "python",
   "nbconvert_exporter": "python",
   "pygments_lexer": "ipython3",
   "version": "3.7.3"
  }
 },
 "nbformat": 4,
 "nbformat_minor": 1
}
