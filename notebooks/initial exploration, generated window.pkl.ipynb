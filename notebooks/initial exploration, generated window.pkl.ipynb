{
 "cells": [
  {
   "cell_type": "code",
   "execution_count": 1,
   "metadata": {
    "ExecuteTime": {
     "end_time": "2018-08-29T00:26:52.318838Z",
     "start_time": "2018-08-29T00:26:52.182044Z"
    }
   },
   "outputs": [],
   "source": [
    "import re\n",
    "import pickle\n",
    "import glymur\n",
    "from glob import glob\n",
    "from time import time\n",
    "\n",
    "def tile_image(fullres,tile_path,stem):\n",
    "\n",
    "    x,y,z=fullres.shape\n",
    "\n",
    "    nx=int(round(x/1000))\n",
    "    ny=int(round(y/1000))\n",
    "    dx=int(floor(x/nx))\n",
    "    dy=int(floor(y/ny))\n",
    "\n",
    "    for ulx in range(0,x-dx,dx):\n",
    "        for uly in range(0,y-dy,dy):\n",
    "            print('\\r',ulx,uly) #,end='')\n",
    "            window=fullres[ulx:ulx+dx,uly:uly+dy]\n",
    "            pickle.dump(window,open('%s/%s_%d_%d.pkl'%(tile_path,stem,ulx,uly),'bw'),protocol=4)"
   ]
  },
  {
   "cell_type": "code",
   "execution_count": null,
   "metadata": {
    "ExecuteTime": {
     "start_time": "2018-08-29T00:26:54.241Z"
    }
   },
   "outputs": [
    {
     "name": "stdout",
     "output_type": "stream",
     "text": [
      "mkdir: ../../data/tiles: File exists\n",
      "MD657_2_0068\n",
      "starting to read ../../data/MD657-F23-2017.02.17-23.13.17_MD657_2_0068_lossless.jp2\n"
     ]
    }
   ],
   "source": [
    "\n",
    "path='../../data/'\n",
    "tile_path='../../data/tiles'\n",
    "!mkdir $tile_path\n",
    "filenames=glob(path+'*_lossless.jp2')\n",
    "for filename in filenames:               \n",
    "    pat=re.compile(r'_(\\w{2}\\d{3}_\\d_\\d{4})_lossless.jp2')\n",
    "    m=pat.search(filename)\n",
    "    if m:\n",
    "        stem=m.group(1)\n",
    "        print(stem)\n",
    "    else:\n",
    "        print('cant parse\\n',filename)\n",
    "        continue\n",
    "    print('starting to read %s'%filename)\n",
    "    t0=time()\n",
    "    jp2 = glymur.Jp2k(filename)\n",
    "    fullres = jp2[:]\n",
    "    t1=time()\n",
    "    print('finished reading %s (%5.1f sec)'%(filename,time()-t1))\n",
    "    print()\n",
    "    tile_image(fullres,tile_path,stem)\n",
    "    print('finished tiling (%5.1f)'%(time()-t0))"
   ]
  },
  {
   "cell_type": "code",
   "execution_count": null,
   "metadata": {
    "ExecuteTime": {
     "end_time": "2018-08-26T18:28:30.518965Z",
     "start_time": "2018-08-26T18:28:28.931736Z"
    },
    "scrolled": false
   },
   "outputs": [],
   "source": [
    "figure(figsize=[15,15])\n",
    "imshow(window)"
   ]
  },
  {
   "cell_type": "code",
   "execution_count": null,
   "metadata": {
    "ExecuteTime": {
     "end_time": "2018-08-26T19:54:52.272561Z",
     "start_time": "2018-08-26T19:54:52.093506Z"
    },
    "scrolled": false
   },
   "outputs": [],
   "source": [
    "!ls -lh ../../data/"
   ]
  },
  {
   "cell_type": "code",
   "execution_count": null,
   "metadata": {
    "ExecuteTime": {
     "end_time": "2018-07-02T03:36:31.448592Z",
     "start_time": "2018-07-02T03:34:29.223854Z"
    }
   },
   "outputs": [],
   "source": [
    "thumbnail = jp2[::2, ::2]\n",
    "thumbnail.shape"
   ]
  },
  {
   "cell_type": "code",
   "execution_count": null,
   "metadata": {
    "ExecuteTime": {
     "end_time": "2018-07-02T03:37:01.430932Z",
     "start_time": "2018-07-02T03:36:45.564277Z"
    }
   },
   "outputs": [],
   "source": [
    "imshow(thumbnail)"
   ]
  },
  {
   "cell_type": "code",
   "execution_count": null,
   "metadata": {
    "ExecuteTime": {
     "end_time": "2018-07-02T03:24:13.848563Z",
     "start_time": "2018-07-02T03:24:13.841510Z"
    }
   },
   "outputs": [],
   "source": [
    "tinythumbnail=thumbnail[::10,::10]\n",
    "imshow(tinythumbnail);"
   ]
  },
  {
   "cell_type": "code",
   "execution_count": null,
   "metadata": {
    "ExecuteTime": {
     "end_time": "2018-07-02T01:20:42.064070Z",
     "start_time": "2018-07-02T01:20:42.060354Z"
    }
   },
   "outputs": [],
   "source": [
    "tinythumbnail.shape"
   ]
  },
  {
   "cell_type": "code",
   "execution_count": null,
   "metadata": {
    "ExecuteTime": {
     "end_time": "2018-07-02T01:21:30.237027Z",
     "start_time": "2018-07-02T01:21:30.154428Z"
    }
   },
   "outputs": [],
   "source": [
    "greytinythumbnail=np.mean(tinythumbnail,axis=2)"
   ]
  },
  {
   "cell_type": "code",
   "execution_count": null,
   "metadata": {
    "ExecuteTime": {
     "start_time": "2018-07-02T02:38:16.364Z"
    }
   },
   "outputs": [],
   "source": [
    "flat=jp2[:].flatten()\n",
    "_log=np.log(flat+0.1)\n",
    "_log[:10]"
   ]
  },
  {
   "cell_type": "code",
   "execution_count": null,
   "metadata": {
    "ExecuteTime": {
     "start_time": "2018-07-02T02:38:26.207Z"
    }
   },
   "outputs": [],
   "source": [
    "hist(_log,bins=1000);\n",
    "xlim([0,4])"
   ]
  },
  {
   "cell_type": "code",
   "execution_count": null,
   "metadata": {},
   "outputs": [],
   "source": []
  }
 ],
 "metadata": {
  "hide_input": false,
  "kernelspec": {
   "display_name": "Python 3",
   "language": "python",
   "name": "python3"
  },
  "language_info": {
   "codemirror_mode": {
    "name": "ipython",
    "version": 3
   },
   "file_extension": ".py",
   "mimetype": "text/x-python",
   "name": "python",
   "nbconvert_exporter": "python",
   "pygments_lexer": "ipython3",
   "version": "3.6.4"
  },
  "toc": {
   "base_numbering": 1,
   "nav_menu": {},
   "number_sections": true,
   "sideBar": true,
   "skip_h1_title": false,
   "title_cell": "Table of Contents",
   "title_sidebar": "Contents",
   "toc_cell": false,
   "toc_position": {},
   "toc_section_display": true,
   "toc_window_display": false
  }
 },
 "nbformat": 4,
 "nbformat_minor": 2
}
