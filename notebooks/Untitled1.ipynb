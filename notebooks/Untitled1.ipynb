{
 "cells": [
  {
   "cell_type": "code",
   "execution_count": 2,
   "metadata": {},
   "outputs": [
    {
     "name": "stdout",
     "output_type": "stream",
     "text": [
      "/home/k1qian/data/Github/shapeology_code/notebooks\r\n"
     ]
    }
   ],
   "source": [
    "!pwd"
   ]
  },
  {
   "cell_type": "code",
   "execution_count": 3,
   "metadata": {},
   "outputs": [
    {
     "name": "stdout",
     "output_type": "stream",
     "text": [
      "/nfs/birdstore\n"
     ]
    }
   ],
   "source": [
    "%cd /nfs/birdstore/"
   ]
  },
  {
   "cell_type": "code",
   "execution_count": 6,
   "metadata": {},
   "outputs": [
    {
     "name": "stdout",
     "output_type": "stream",
     "text": [
      "CSHL2_Fluorescent_TIF\r\n",
      "CSHL_NanoZoomer\r\n",
      "data_root\r\n",
      "Example_Ref_Brains\r\n",
      "new_data_root\r\n",
      "UCSD_AxioScanner\r\n",
      "UCSD_Nanozoomer\r\n"
     ]
    }
   ],
   "source": [
    "!ls -1 Active_Atlas_Data/"
   ]
  },
  {
   "cell_type": "markdown",
   "metadata": {},
   "source": [
    "## Location of Brain Sections\n",
    "\n",
    "birdstore root directory for atlas project: /nfs/birdstore/Active_Atlas_Data/data_root/\n",
    "\n",
    "* Active_Atlas_Data: all data from the Nature Methods 2019 paper\n",
    "- Beth_Friedman\n",
    "- CSHL_meshes\n",
    "* Hannah_Liechty\n",
    "- Harvey_Karten\n",
    "- HongWeiDong Atlas\n",
    "- Jeff_Moore_for_David_Golomb\n",
    "- Mouse Brains Block Faces\n",
    "- Paxinos & Watson Atlas\n",
    "- Rabies_from_Stick_Lab\n",
    "- Swanson BrainMaps\n",
    "- U19 Will be for sharing data with outside labs.\n",
    "- Vessel\n",
    "- Zeiss_Axioscan"
   ]
  },
  {
   "cell_type": "code",
   "execution_count": 20,
   "metadata": {},
   "outputs": [
    {
     "name": "stdout",
     "output_type": "stream",
     "text": [
      "/nfs/birdstore/Beth_Friedman\n",
      "4C_vs_-20C_NT_Comparison  exsang_ROI\t   Vasculature_InVivo_vs_Gel\n",
      "backup_script_for_beth.m  exsang_TIF\n",
      "exsang_CZI\t\t  SAVE STACY CODE\n"
     ]
    }
   ],
   "source": [
    "%cd ../Beth_Friedman/\n",
    "!ls"
   ]
  },
  {
   "cell_type": "markdown",
   "metadata": {},
   "source": [
    "/nfs/birdstore/Active_Atlas_Data/data_root/\n",
    "├── CSHL_data_processed\n",
    "│   ├── average_nissl_intensity_mapping.npy\n",
    "│   ├── CHATM2\n",
    "│   ├── CHATM3\n",
    "│   ├── DEMO999\n",
    "│   ├── DK5\n",
    "│   ├── DK5&6_ROI_Q_C\n",
    "│   ├── DK6\n",
    "│   ├── max_nissl_intensity_mapping.npy\n",
    "│   ├── MD585\n",
    "│   ├── MD589\n",
    "│   ├── MD590\n",
    "│   ├── MD591\n",
    "│   ├── MD592\n",
    "│   ├── MD593\n",
    "│   ├── MD594\n",
    "│   ├── MD595\n",
    "│   ├── MD598\n",
    "│   ├── MD599\n",
    "│   ├── MD602\n",
    "│   ├── MD603\n",
    "│   ├── MD635\n",
    "│   ├── MD642\n",
    "│   ├── MD652\n",
    "│   ├── MD653\n",
    "│   ├── MD657\n",
    "│   ├── MD658\n",
    "│   ├── MD661\n",
    "│   ├── MD662\n",
    "│   ├── median_nissl_intensity_mapping.npy\n",
    "│   └── min_nissl_intensity_mapping.npy\n",
    "└── CSHL_volumes\n",
    "    └── atlasV7"
   ]
  },
  {
   "cell_type": "code",
   "execution_count": 8,
   "metadata": {},
   "outputs": [
    {
     "name": "stdout",
     "output_type": "stream",
     "text": [
      "/nfs/birdstore/Hannah_Liechty\n"
     ]
    }
   ],
   "source": [
    "%cd Hannah_Liechty/"
   ]
  },
  {
   "cell_type": "code",
   "execution_count": 10,
   "metadata": {},
   "outputs": [
    {
     "name": "stdout",
     "output_type": "stream",
     "text": [
      "Adrian_Axioscan\r\n",
      "Amalia_Axioscan\r\n",
      "AmaliaRui_Axioscan\r\n",
      "Axioscan_Profiles\r\n",
      "BrainMaker Tests\r\n",
      "DK19_20_secondhalf\r\n",
      "DK21_22\r\n",
      "DK23_FINALS\r\n",
      "DK23_rescan\r\n",
      "DK23_rescan2\r\n",
      "DK23_Test\r\n",
      "DK24_Batchstain\r\n",
      "Fan_Axioscan\r\n",
      "Groissman_BatchTest\r\n",
      "Hannah_Desktop\r\n",
      "Harvey_CRH_Data\r\n",
      "Iftach_Axioscan\r\n",
      "Jun_data\r\n",
      "MD635\r\n",
      "MD658\r\n",
      "Nicole_Axioscan\r\n",
      "Rui_Axioscan\r\n",
      "Ying temperory\r\n"
     ]
    }
   ],
   "source": [
    "! ls"
   ]
  },
  {
   "cell_type": "code",
   "execution_count": 11,
   "metadata": {},
   "outputs": [],
   "source": [
    "!rm -rf Adrian_Axioscan/"
   ]
  },
  {
   "cell_type": "code",
   "execution_count": 12,
   "metadata": {},
   "outputs": [
    {
     "name": "stdout",
     "output_type": "stream",
     "text": [
      "/nfs/birdstore/Hannah_Liechty\r\n"
     ]
    }
   ],
   "source": [
    "!pwd"
   ]
  },
  {
   "cell_type": "code",
   "execution_count": 13,
   "metadata": {},
   "outputs": [
    {
     "name": "stdout",
     "output_type": "stream",
     "text": [
      "/nfs/birdstore\n"
     ]
    }
   ],
   "source": [
    "%cd .."
   ]
  },
  {
   "cell_type": "code",
   "execution_count": 14,
   "metadata": {},
   "outputs": [],
   "source": [
    "!mkdir Master_Repo"
   ]
  },
  {
   "cell_type": "code",
   "execution_count": 15,
   "metadata": {},
   "outputs": [
    {
     "name": "stdout",
     "output_type": "stream",
     "text": [
      "Active_Atlas_Data  HongWeiDong Atlas\t\tRabies_from_Stick_Lab\r\n",
      "Beth_Friedman\t   Jeff_Moore_for_David_Golomb\tSwanson BrainMaps\r\n",
      "CSHL_meshes\t   Master_Repo\t\t\tU19\r\n",
      "Hannah_Liechty\t   Mouse Brains Block Faces\tVessel\r\n",
      "Harvey_Karten\t   Paxinos & Watson Atlas\tZeiss_Axioscan\r\n"
     ]
    }
   ],
   "source": [
    "!ls"
   ]
  },
  {
   "cell_type": "code",
   "execution_count": 16,
   "metadata": {},
   "outputs": [
    {
     "name": "stdout",
     "output_type": "stream",
     "text": [
      "/nfs/birdstore/Master_Repo\n"
     ]
    }
   ],
   "source": [
    "%cd Master_Repo/"
   ]
  },
  {
   "cell_type": "code",
   "execution_count": null,
   "metadata": {},
   "outputs": [],
   "source": [
    "!ln -s "
   ]
  }
 ],
 "metadata": {
  "kernelspec": {
   "display_name": "shapeology",
   "language": "python",
   "name": "shapeology"
  },
  "language_info": {
   "codemirror_mode": {
    "name": "ipython",
    "version": 3
   },
   "file_extension": ".py",
   "mimetype": "text/x-python",
   "name": "python",
   "nbconvert_exporter": "python",
   "pygments_lexer": "ipython3",
   "version": "3.7.3"
  }
 },
 "nbformat": 4,
 "nbformat_minor": 2
}
