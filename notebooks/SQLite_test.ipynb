{
 "cells": [
  {
   "cell_type": "code",
   "execution_count": 18,
   "metadata": {},
   "outputs": [],
   "source": [
    "import cv2\n",
    "import numpy as np\n",
    "import pandas as pd\n",
    "import os\n",
    "import sys\n",
    "import sqlite3\n",
    "sys.path.append(os.environ['REPO_DIR'])\n",
    "from extractPatches import patch_extractor\n",
    "from lib.utils import configuration"
   ]
  },
  {
   "cell_type": "code",
   "execution_count": 127,
   "metadata": {},
   "outputs": [],
   "source": [
    "stack = 'MD594'\n",
    "db_dir = os.environ['ROOT_DIR'] + 'CSHL_databases/'\n",
    "if not os.path.exists(db_dir):\n",
    "    os.mkdir(db_dir)\n",
    "db_dir += stack + '/'\n",
    "if not os.path.exists(db_dir):\n",
    "    os.mkdir(db_dir)\n",
    "img_dir = os.environ['ROOT_DIR'] + 'CSHL_cells_images/'\n",
    "if not os.path.exists(img_dir):\n",
    "    os.mkdir(img_dir)\n",
    "img_dir += stack + '/'\n",
    "if not os.path.exists(img_dir):\n",
    "    os.mkdir(img_dir)"
   ]
  },
  {
   "cell_type": "code",
   "execution_count": 4,
   "metadata": {},
   "outputs": [],
   "source": [
    "def setup_download_from_s3( rel_fp, recursive=True ):\n",
    "    s3_fp = 's3://mousebrainatlas-data/'+rel_fp\n",
    "    local_fp = os.environ['ROOT_DIR']+rel_fp\n",
    "\n",
    "    if os.path.exists(local_fp):\n",
    "        print('ALREADY DOWNLOADED FILE')\n",
    "        return \n",
    "    \n",
    "    if recursive:\n",
    "        ! aws s3 cp --recursive $s3_fp $local_fp\n",
    "    else:\n",
    "        ! aws s3 cp $s3_fp $local_fp"
   ]
  },
  {
   "cell_type": "code",
   "execution_count": 128,
   "metadata": {},
   "outputs": [
    {
     "name": "stdout",
     "output_type": "stream",
     "text": [
      "ALREADY DOWNLOADED FILE\n"
     ]
    }
   ],
   "source": [
    "fp = os.path.join('CSHL_data_processed', stack, stack + '_sorted_filenames.txt')\n",
    "setup_download_from_s3(fp, recursive=False)\n",
    "with open(os.environ['ROOT_DIR']+fp, 'r') as f:\n",
    "    fn_idx_tuples = [line.strip().split() for line in f.readlines()]\n",
    "    section_to_filename = {int(idx): fn for fn, idx in fn_idx_tuples}"
   ]
  },
  {
   "cell_type": "code",
   "execution_count": 129,
   "metadata": {},
   "outputs": [
    {
     "name": "stdout",
     "output_type": "stream",
     "text": [
      "ALREADY DOWNLOADED FILE\n"
     ]
    }
   ],
   "source": [
    "raw_images_root = 'CSHL_data_processed/'+stack+'/'+stack+'_prep2_lossless_gray/'\n",
    "section = 99\n",
    "img_fn = raw_images_root + section_to_filename[section] + '_prep2_lossless_gray.tif'\n",
    "setup_download_from_s3(img_fn, recursive=False)"
   ]
  },
  {
   "cell_type": "code",
   "execution_count": 184,
   "metadata": {},
   "outputs": [],
   "source": [
    "conn = sqlite3.connect(db_dir+str(section)+'.db')\n",
    "cur = conn.cursor()"
   ]
  },
  {
   "cell_type": "code",
   "execution_count": 131,
   "metadata": {},
   "outputs": [
    {
     "data": {
      "text/plain": [
       "<sqlite3.Cursor at 0x147f7b500>"
      ]
     },
     "execution_count": 131,
     "metadata": {},
     "output_type": "execute_result"
    }
   ],
   "source": [
    "cur.execute('''CREATE TABLE Features \n",
    "               (section int, x int, y int,\n",
    "                DMVec1 real, DMVec2 real, DMVec3 real, DMVec4 real, DMVec5 real,\n",
    "                DMVec6 real, DMVec7 real, DMVec8 real, DMVec9 real, DMVec10 real,\n",
    "                area int, height int, horiz_std real, mean real, padded_size int,\n",
    "                rotation real, rotation_confidence real, std real, vert_std real, width int)''')"
   ]
  },
  {
   "cell_type": "code",
   "execution_count": 168,
   "metadata": {},
   "outputs": [],
   "source": [
    "img = cv2.imread(os.environ['ROOT_DIR']+img_fn, 2)\n",
    "m, n = img.shape"
   ]
  },
  {
   "cell_type": "code",
   "execution_count": 133,
   "metadata": {},
   "outputs": [
    {
     "data": {
      "text/plain": [
       "(11104, 17216)"
      ]
     },
     "execution_count": 133,
     "metadata": {},
     "output_type": "execute_result"
    }
   ],
   "source": [
    "m, n"
   ]
  },
  {
   "cell_type": "code",
   "execution_count": 134,
   "metadata": {},
   "outputs": [],
   "source": [
    "xs, ys = np.meshgrid(np.arange(0, n, 1000), np.arange(0, m, 1000), indexing='xy')\n",
    "locations = np.c_[xs.flat, ys.flat]"
   ]
  },
  {
   "cell_type": "code",
   "execution_count": 135,
   "metadata": {},
   "outputs": [
    {
     "name": "stderr",
     "output_type": "stream",
     "text": [
      "/Users/kuiqian/Github/shapeology_code/scripts/lib/utils.py:22: YAMLLoadWarning: calling yaml.load() without Loader=... is deprecated, as the default Loader is unsafe. Please read https://msg.pyyaml.org/load for full details.\n",
      "  self.D=yaml.load(open(yamlFile,'r'))\n"
     ]
    }
   ],
   "source": [
    "yamlfile=os.environ['REPO_DIR']+'shape_params.yaml'\n",
    "params=configuration(yamlfile).getParams()\n",
    "extractor = patch_extractor(params)\n",
    "images_all = pd.DataFrame()"
   ]
  },
  {
   "cell_type": "code",
   "execution_count": 136,
   "metadata": {},
   "outputs": [],
   "source": [
    "left = locations[87][0]\n",
    "right = int(min(left+1000, n))\n",
    "up = locations[87][1]\n",
    "down = int(min(up+1000,m))"
   ]
  },
  {
   "cell_type": "code",
   "execution_count": 145,
   "metadata": {},
   "outputs": [
    {
     "name": "stdout",
     "output_type": "stream",
     "text": [
      "CPU times: user 36.8 ms, sys: 2.74 ms, total: 39.5 ms\n",
      "Wall time: 36.9 ms\n"
     ]
    }
   ],
   "source": [
    "%%time\n",
    "tile = img[up:down, left:right]\n",
    "if params['preprocessing']['polarity']==-1:\n",
    "    tile = 255-tile\n",
    "Stats = extractor.segment_cells(tile)\n",
    "cells = extractor.extract_blobs(Stats,tile)\n",
    "cells = pd.DataFrame(cells)\n",
    "#cells = cells[cells['padded_patch'].notnull()]"
   ]
  },
  {
   "cell_type": "code",
   "execution_count": 180,
   "metadata": {},
   "outputs": [
    {
     "data": {
      "text/plain": [
       "255"
      ]
     },
     "execution_count": 180,
     "metadata": {},
     "output_type": "execute_result"
    }
   ],
   "source": [
    "tile = img[up:down, left:right]\n",
    "type(tile)\n",
    "tile.max()"
   ]
  },
  {
   "cell_type": "code",
   "execution_count": 181,
   "metadata": {},
   "outputs": [
    {
     "data": {
      "text/plain": [
       "<matplotlib.image.AxesImage at 0x1485f2898>"
      ]
     },
     "execution_count": 181,
     "metadata": {},
     "output_type": "execute_result"
    },
    {
     "data": {
      "image/png": "[encoded data removed]",
      "text/plain": [
       "<Figure size 432x288 with 1 Axes>"
      ]
     },
     "metadata": {
      "needs_background": "light"
     },
     "output_type": "display_data"
    }
   ],
   "source": [
    "tile=tile/tile.max()*255\n",
    "tile=tile.astype(np.uint8)\n",
    "imshow(tile,cmap='gray')"
   ]
  },
  {
   "cell_type": "code",
   "execution_count": 182,
   "metadata": {},
   "outputs": [
    {
     "data": {
      "text/html": [
       "<div>\n",
       "<style scoped>\n",
       "    .dataframe tbody tr th:only-of-type {\n",
       "        vertical-align: middle;\n",
       "    }\n",
       "\n",
       "    .dataframe tbody tr th {\n",
       "        vertical-align: top;\n",
       "    }\n",
       "\n",
       "    .dataframe thead th {\n",
       "        text-align: right;\n",
       "    }\n",
       "</style>\n",
       "<table border=\"1\" class=\"dataframe\">\n",
       "  <thead>\n",
       "    <tr style=\"text-align: right;\">\n",
       "      <th></th>\n",
       "    </tr>\n",
       "  </thead>\n",
       "  <tbody>\n",
       "  </tbody>\n",
       "</table>\n",
       "</div>"
      ],
      "text/plain": [
       "Empty DataFrame\n",
       "Columns: []\n",
       "Index: []"
      ]
     },
     "execution_count": 182,
     "metadata": {},
     "output_type": "execute_result"
    }
   ],
   "source": [
    "cells"
   ]
  },
  {
   "cell_type": "code",
   "execution_count": 116,
   "metadata": {},
   "outputs": [],
   "source": [
    "cells['section'] = section\n",
    "cells['x'] = cells['left'] + left + cells['width']/2\n",
    "cells['y'] = cells['top'] + up +cells['height']/2\n",
    "cells = cells.astype({'x': int, 'y': int})"
   ]
  },
  {
   "cell_type": "code",
   "execution_count": 108,
   "metadata": {},
   "outputs": [],
   "source": [
    "images = cells[['section', 'x', 'y', 'padded_patch']]\n",
    "images_all =pd.concat([images_all, images], ignore_index=True)\n",
    "# img_out_file = img_dir + str(section)\n",
    "# images.to_pickle(img_out_file)"
   ]
  },
  {
   "cell_type": "code",
   "execution_count": 117,
   "metadata": {},
   "outputs": [],
   "source": [
    "cells = cells.drop(['padded_patch','left','top'],1)\n",
    "cells = np.asarray(cells)\n",
    "for k in range(len(cells)):\n",
    "    cells[k][0] = cells[k][0][:10]\n",
    "features = np.concatenate((cells[:,-3:], np.array(list(cells[:,0])),cells[:,1:-3]),axis=1)"
   ]
  },
  {
   "cell_type": "code",
   "execution_count": 121,
   "metadata": {},
   "outputs": [
    {
     "data": {
      "text/plain": [
       "array([[168, 1593, 6, 4.109909885617509, -1.2870128070762894,\n",
       "        -1.2004753207204446, -0.049244788371834665, -1.0571741505949546,\n",
       "        1.2042090636916432, -0.36240426772481044, 0.10882032869778066,\n",
       "        0.8005821558939126, -0.2696772283188138, 110, 10,\n",
       "        2.136481069191512, 5.9640831758034025, 51, -83.3477111226304,\n",
       "        1364.9723659289205, 13.132616978207176, 3.6762074158920113, 16],\n",
       "       [168, 1020, 15, -1.583713977883637, 1.4405948019673338,\n",
       "        -1.3954528174412069, -0.32175728155479827, 1.030303528007469,\n",
       "        0.7542561751778836, -0.18481647782551552, 0.7866518465343114,\n",
       "        -0.7555683035607482, 0.22366372819162036, 320, 24,\n",
       "        4.688070508986538, 9.798269334775554, 51, 83.93008264822427,\n",
       "        1287.652059588039, 23.149778665851613, 5.487856302159731, 25]],\n",
       "      dtype=object)"
      ]
     },
     "execution_count": 121,
     "metadata": {},
     "output_type": "execute_result"
    }
   ],
   "source": [
    "features[0:2]"
   ]
  },
  {
   "cell_type": "code",
   "execution_count": 118,
   "metadata": {},
   "outputs": [
    {
     "data": {
      "text/plain": [
       "<sqlite3.Cursor at 0x12a60f9d0>"
      ]
     },
     "execution_count": 118,
     "metadata": {},
     "output_type": "execute_result"
    }
   ],
   "source": [
    "cur.executemany('INSERT INTO Features VALUES (?,?,?,?,?,?,?,?,?,?,?,?,?,?,?,?,?,?,?,?,?,?,?)', features)"
   ]
  },
  {
   "cell_type": "code",
   "execution_count": 185,
   "metadata": {},
   "outputs": [
    {
     "data": {
      "text/plain": [
       "(99,\n",
       " 582,\n",
       " 28,\n",
       " 2.1569347383013837,\n",
       " -0.01914680328072571,\n",
       " -1.6122909279649926,\n",
       " -0.23599463104881072,\n",
       " -0.21962428264338862,\n",
       " 0.5443551698033889,\n",
       " 0.5093988511999487,\n",
       " -0.6378635931132551,\n",
       " -0.06127104029023334,\n",
       " -0.31247472113482994,\n",
       " 16,\n",
       " 6,\n",
       " 0.7490711464169707,\n",
       " 1.4938271604938271,\n",
       " 15,\n",
       " -9.379061332401117,\n",
       " 105.69843182163682,\n",
       " 3.8622051424955535,\n",
       " 1.1953065917778858,\n",
       " 4)"
      ]
     },
     "execution_count": 185,
     "metadata": {},
     "output_type": "execute_result"
    }
   ],
   "source": [
    "cur.execute('SELECT * FROM features')\n",
    "cur.fetchone()"
   ]
  },
  {
   "cell_type": "code",
   "execution_count": 120,
   "metadata": {},
   "outputs": [
    {
     "data": {
      "text/plain": [
       "(168,\n",
       " 1020,\n",
       " 15,\n",
       " -1.583713977883637,\n",
       " 1.4405948019673338,\n",
       " -1.3954528174412069,\n",
       " -0.32175728155479827,\n",
       " 1.030303528007469,\n",
       " 0.7542561751778836,\n",
       " -0.18481647782551552,\n",
       " 0.7866518465343114,\n",
       " -0.7555683035607482,\n",
       " 0.22366372819162036,\n",
       " 320,\n",
       " 24,\n",
       " 4.688070508986538,\n",
       " 9.798269334775554,\n",
       " 51,\n",
       " 83.93008264822427,\n",
       " 1287.652059588039,\n",
       " 23.149778665851613,\n",
       " 5.487856302159731,\n",
       " 25)"
      ]
     },
     "execution_count": 120,
     "metadata": {},
     "output_type": "execute_result"
    }
   ],
   "source": [
    "cur.fetchone()"
   ]
  },
  {
   "cell_type": "code",
   "execution_count": 183,
   "metadata": {},
   "outputs": [
    {
     "name": "stdout",
     "output_type": "stream",
     "text": [
      "/Users/kuiqian/Github/venv/shapeology_venv/lib/python3.7/site-packages/sklearn/externals/joblib/externals/cloudpickle/cloudpickle.py:47: DeprecationWarning: the imp module is deprecated in favour of importlib; see the module's documentation for alternative uses\n",
      "  import imp\n",
      "/Users/kuiqian/Github/shapeology_code/scripts/lib/utils.py:22: YAMLLoadWarning: calling yaml.load() without Loader=... is deprecated, as the default Loader is unsafe. Please read https://msg.pyyaml.org/load for full details.\n",
      "  self.D=yaml.load(open(yamlFile,'r'))\n",
      "ALREADY DOWNLOADED FILE\n",
      "ALREADY DOWNLOADED FILE\n",
      "0 216\n",
      "1 216\n",
      "2 216\n",
      "3 216\n",
      "4 216\n",
      "5 216\n",
      "6 216\n",
      "7 216\n",
      "8 216\n",
      "9 216\n",
      "10 216\n",
      "11 216\n",
      "12 216\n",
      "13 216\n",
      "14 216\n",
      "15 216\n",
      "16 216\n",
      "17 216\n",
      "18 216\n",
      "19 216\n",
      "20 216\n",
      "21 216\n",
      "22 216\n",
      "23 216\n",
      "24 216\n",
      "25 216\n",
      "26 216\n",
      "27 216\n",
      "28 216\n",
      "29 216\n",
      "30 216\n",
      "31 216\n",
      "32 216\n",
      "33 216\n",
      "34 216\n",
      "35 216\n",
      "36 216\n",
      "37 216\n",
      "38 216\n",
      "39 216\n",
      "40 216\n",
      "41 216\n",
      "42 216\n",
      "43 216\n",
      "44 216\n",
      "45 216\n",
      "46 216\n",
      "47 216\n",
      "48 216\n",
      "49 216\n",
      "50 216\n",
      "51 216\n",
      "52 216\n",
      "53 216\n",
      "54 216\n",
      "55 216\n",
      "56 216\n",
      "57 216\n",
      "58 216\n",
      "59 216\n",
      "60 216\n",
      "61 216\n",
      "62 216\n",
      "63 216\n",
      "64 216\n",
      "65 216\n",
      "66 216\n",
      "67 216\n",
      "68 216\n",
      "69 216\n",
      "70 216\n",
      "71 216\n",
      "72 216\n",
      "73 216\n",
      "74 216\n",
      "75 216\n",
      "76 216\n",
      "77 216\n",
      "78 216\n",
      "79 216\n",
      "80 216\n",
      "81 216\n",
      "82 216\n",
      "83 216\n",
      "84 216\n",
      "85 216\n",
      "86 216\n",
      "87 216\n",
      "88 216\n",
      "89 216\n",
      "90 216\n",
      "91 216\n",
      "92 216\n",
      "93 216\n",
      "94 216\n",
      "95 216\n",
      "96 216\n",
      "97 216\n",
      "98 216\n",
      "99 216\n",
      "100 216\n",
      "101 216\n",
      "102 216\n",
      "103 216\n",
      "104 216\n",
      "105 216\n",
      "106 216\n",
      "107 216\n",
      "108 216\n",
      "109 216\n",
      "110 216\n",
      "111 216\n",
      "112 216\n",
      "113 216\n",
      "114 216\n",
      "115 216\n",
      "116 216\n",
      "117 216\n",
      "118 216\n",
      "119 216\n",
      "120 216\n",
      "121 216\n",
      "122 216\n",
      "123 216\n",
      "124 216\n",
      "125 216\n",
      "126 216\n",
      "127 216\n",
      "128 216\n",
      "129 216\n",
      "130 216\n",
      "131 216\n",
      "132 216\n",
      "133 216\n",
      "134 216\n",
      "135 216\n",
      "136 216\n",
      "137 216\n",
      "138 216\n",
      "139 216\n",
      "140 216\n",
      "141 216\n",
      "142 216\n",
      "143 216\n",
      "144 216\n",
      "145 216\n",
      "146 216\n",
      "147 216\n",
      "148 216\n",
      "149 216\n",
      "150 216\n",
      "151 216\n",
      "152 216\n",
      "153 216\n",
      "154 216\n",
      "155 216\n",
      "156 216\n",
      "157 216\n",
      "158 216\n",
      "159 216\n",
      "160 216\n",
      "161 216\n",
      "162 216\n",
      "163 216\n",
      "164 216\n",
      "165 216\n",
      "166 216\n",
      "167 216\n",
      "168 216\n",
      "169 216\n",
      "170 216\n",
      "171 216\n",
      "172 216\n",
      "173 216\n",
      "174 216\n",
      "175 216\n",
      "176 216\n",
      "177 216\n",
      "178 216\n",
      "179 216\n",
      "180 216\n",
      "181 216\n",
      "182 216\n",
      "183 216\n",
      "184 216\n",
      "185 216\n",
      "186 216\n",
      "187 216\n",
      "188 216\n",
      "189 216\n",
      "190 216\n",
      "191 216\n",
      "192 216\n",
      "193 216\n",
      "194 216\n",
      "195 216\n",
      "196 216\n",
      "197 216\n",
      "198 216\n",
      "199 216\n",
      "200 216\n",
      "201 216\n",
      "202 216\n",
      "203 216\n",
      "204 216\n",
      "205 216\n",
      "206 216\n",
      "207 216\n",
      "208 216\n",
      "209 216\n",
      "210 216\n",
      "211 216\n",
      "212 216\n",
      "213 216\n",
      "214 216\n",
      "215 216\n",
      "run cmd= aws s3 cp /Users/kuiqian/BstemAtlasDataBackup/ucsd_brain/CSHL_cells_images/MD594/99.pkl s3://mousebrainatlas-data/CSHL_cells_images/MD594/99.pkl\n",
      "^Cmpleted 758.2 MiB/4.0 GiB (715.9 KiB/s) with 1 file(s) remaining\n",
      "Completed 758.9 MiB/4.0 GiB (716.4 KiB/s) with 1 file(s) remaining\r"
     ]
    }
   ],
   "source": [
    "script = os.environ['REPO_DIR']\n",
    "! python $script/Sqlite.py 'MD594' 99 'shape_params.yaml'"
   ]
  },
  {
   "cell_type": "code",
   "execution_count": null,
   "metadata": {},
   "outputs": [],
   "source": []
  }
 ],
 "metadata": {
  "kernelspec": {
   "display_name": "shapeology",
   "language": "python",
   "name": "shapeology_code"
  },
  "language_info": {
   "codemirror_mode": {
    "name": "ipython",
    "version": 3
   },
   "file_extension": ".py",
   "mimetype": "text/x-python",
   "name": "python",
   "nbconvert_exporter": "python",
   "pygments_lexer": "ipython3",
   "version": "3.7.3"
  }
 },
 "nbformat": 4,
 "nbformat_minor": 2
}
