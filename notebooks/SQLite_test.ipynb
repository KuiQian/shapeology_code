{
 "cells": [
  {
   "cell_type": "code",
   "execution_count": 1,
   "metadata": {},
   "outputs": [],
   "source": [
    "import cv2\n",
    "import numpy as np\n",
    "import pandas as pd\n",
    "import os\n",
    "import sys\n",
    "import sqlite3\n",
    "sys.path.append(os.environ['REPO_DIR'])\n",
    "from extractPatches import patch_extractor\n",
    "from lib.utils import configuration"
   ]
  },
  {
   "cell_type": "code",
   "execution_count": 5,
   "metadata": {},
   "outputs": [],
   "source": [
    "stack = 'MD594'\n",
    "db_dir = os.environ['ROOT_DIR'] + 'CSHL_databases/'\n",
    "if not os.path.exists(db_dir):\n",
    "    os.mkdir(db_dir)\n",
    "db_dir += stack + '/'\n",
    "if not os.path.exists(db_dir):\n",
    "    os.mkdir(db_dir)\n",
    "img_dir = os.environ['ROOT_DIR'] + 'CSHL_cells_images/'\n",
    "if not os.path.exists(img_dir):\n",
    "    os.mkdir(img_dir)\n",
    "img_dir += stack + '/'\n",
    "if not os.path.exists(img_dir):\n",
    "    os.mkdir(img_dir)"
   ]
  },
  {
   "cell_type": "code",
   "execution_count": 2,
   "metadata": {},
   "outputs": [],
   "source": [
    "def setup_download_from_s3( rel_fp, recursive=True ):\n",
    "    s3_fp = 's3://mousebrainatlas-data/'+rel_fp\n",
    "    local_fp = os.environ['ROOT_DIR']+rel_fp\n",
    "\n",
    "    if os.path.exists(local_fp):\n",
    "        print('ALREADY DOWNLOADED FILE')\n",
    "        return \n",
    "    \n",
    "    if recursive:\n",
    "        ! aws s3 cp --recursive $s3_fp $local_fp\n",
    "    else:\n",
    "        ! aws s3 cp $s3_fp $local_fp"
   ]
  },
  {
   "cell_type": "code",
   "execution_count": 128,
   "metadata": {},
   "outputs": [
    {
     "name": "stdout",
     "output_type": "stream",
     "text": [
      "ALREADY DOWNLOADED FILE\n"
     ]
    }
   ],
   "source": [
    "fp = os.path.join('CSHL_data_processed', stack, stack + '_sorted_filenames.txt')\n",
    "setup_download_from_s3(fp, recursive=False)\n",
    "with open(os.environ['ROOT_DIR']+fp, 'r') as f:\n",
    "    fn_idx_tuples = [line.strip().split() for line in f.readlines()]\n",
    "    section_to_filename = {int(idx): fn for fn, idx in fn_idx_tuples}"
   ]
  },
  {
   "cell_type": "code",
   "execution_count": 129,
   "metadata": {},
   "outputs": [
    {
     "name": "stdout",
     "output_type": "stream",
     "text": [
      "ALREADY DOWNLOADED FILE\n"
     ]
    }
   ],
   "source": [
    "raw_images_root = 'CSHL_data_processed/'+stack+'/'+stack+'_prep2_lossless_gray/'\n",
    "section = 99\n",
    "img_fn = raw_images_root + section_to_filename[section] + '_prep2_lossless_gray.tif'\n",
    "setup_download_from_s3(img_fn, recursive=False)"
   ]
  },
  {
   "cell_type": "code",
   "execution_count": 184,
   "metadata": {},
   "outputs": [],
   "source": [
    "conn = sqlite3.connect(db_dir+str(section)+'.db')\n",
    "cur = conn.cursor()"
   ]
  },
  {
   "cell_type": "code",
   "execution_count": 131,
   "metadata": {},
   "outputs": [
    {
     "data": {
      "text/plain": [
       "<sqlite3.Cursor at 0x147f7b500>"
      ]
     },
     "execution_count": 131,
     "metadata": {},
     "output_type": "execute_result"
    }
   ],
   "source": [
    "cur.execute('''CREATE TABLE Features \n",
    "               (section int, x int, y int,\n",
    "                DMVec1 real, DMVec2 real, DMVec3 real, DMVec4 real, DMVec5 real,\n",
    "                DMVec6 real, DMVec7 real, DMVec8 real, DMVec9 real, DMVec10 real,\n",
    "                area int, height int, horiz_std real, mean real, padded_size int,\n",
    "                rotation real, rotation_confidence real, std real, vert_std real, width int)''')"
   ]
  },
  {
   "cell_type": "code",
   "execution_count": 168,
   "metadata": {},
   "outputs": [],
   "source": [
    "img = cv2.imread(os.environ['ROOT_DIR']+img_fn, 2)\n",
    "m, n = img.shape"
   ]
  },
  {
   "cell_type": "code",
   "execution_count": 133,
   "metadata": {},
   "outputs": [
    {
     "data": {
      "text/plain": [
       "(11104, 17216)"
      ]
     },
     "execution_count": 133,
     "metadata": {},
     "output_type": "execute_result"
    }
   ],
   "source": [
    "m, n"
   ]
  },
  {
   "cell_type": "code",
   "execution_count": 134,
   "metadata": {},
   "outputs": [],
   "source": [
    "xs, ys = np.meshgrid(np.arange(0, n, 1000), np.arange(0, m, 1000), indexing='xy')\n",
    "locations = np.c_[xs.flat, ys.flat]"
   ]
  },
  {
   "cell_type": "code",
   "execution_count": 135,
   "metadata": {},
   "outputs": [
    {
     "name": "stderr",
     "output_type": "stream",
     "text": [
      "/Users/kuiqian/Github/shapeology_code/scripts/lib/utils.py:22: YAMLLoadWarning: calling yaml.load() without Loader=... is deprecated, as the default Loader is unsafe. Please read https://msg.pyyaml.org/load for full details.\n",
      "  self.D=yaml.load(open(yamlFile,'r'))\n"
     ]
    }
   ],
   "source": [
    "yamlfile=os.environ['REPO_DIR']+'shape_params.yaml'\n",
    "params=configuration(yamlfile).getParams()\n",
    "extractor = patch_extractor(params)\n",
    "images_all = pd.DataFrame()"
   ]
  },
  {
   "cell_type": "code",
   "execution_count": 136,
   "metadata": {},
   "outputs": [],
   "source": [
    "left = locations[87][0]\n",
    "right = int(min(left+1000, n))\n",
    "up = locations[87][1]\n",
    "down = int(min(up+1000,m))"
   ]
  },
  {
   "cell_type": "code",
   "execution_count": 145,
   "metadata": {},
   "outputs": [
    {
     "name": "stdout",
     "output_type": "stream",
     "text": [
      "CPU times: user 36.8 ms, sys: 2.74 ms, total: 39.5 ms\n",
      "Wall time: 36.9 ms\n"
     ]
    }
   ],
   "source": [
    "%%time\n",
    "tile = img[up:down, left:right]\n",
    "if params['preprocessing']['polarity']==-1:\n",
    "    tile = 255-tile\n",
    "Stats = extractor.segment_cells(tile)\n",
    "cells = extractor.extract_blobs(Stats,tile)\n",
    "cells = pd.DataFrame(cells)\n",
    "#cells = cells[cells['padded_patch'].notnull()]"
   ]
  },
  {
   "cell_type": "code",
   "execution_count": 180,
   "metadata": {},
   "outputs": [
    {
     "data": {
      "text/plain": [
       "255"
      ]
     },
     "execution_count": 180,
     "metadata": {},
     "output_type": "execute_result"
    }
   ],
   "source": [
    "tile = img[up:down, left:right]\n",
    "type(tile)\n",
    "tile.max()"
   ]
  },
  {
   "cell_type": "code",
   "execution_count": 181,
   "metadata": {},
   "outputs": [
    {
     "data": {
      "text/plain": [
       "<matplotlib.image.AxesImage at 0x1485f2898>"
      ]
     },
     "execution_count": 181,
     "metadata": {},
     "output_type": "execute_result"
    },
    {
     "data": {
      "image/png": "[encoded data removed]",
      "text/plain": [
       "<Figure size 432x288 with 1 Axes>"
      ]
     },
     "metadata": {
      "needs_background": "light"
     },
     "output_type": "display_data"
    }
   ],
   "source": [
    "tile=tile/tile.max()*255\n",
    "tile=tile.astype(np.uint8)\n",
    "imshow(tile,cmap='gray')"
   ]
  },
  {
   "cell_type": "code",
   "execution_count": 182,
   "metadata": {},
   "outputs": [
    {
     "data": {
      "text/html": [
       "<div>\n",
       "<style scoped>\n",
       "    .dataframe tbody tr th:only-of-type {\n",
       "        vertical-align: middle;\n",
       "    }\n",
       "\n",
       "    .dataframe tbody tr th {\n",
       "        vertical-align: top;\n",
       "    }\n",
       "\n",
       "    .dataframe thead th {\n",
       "        text-align: right;\n",
       "    }\n",
       "</style>\n",
       "<table border=\"1\" class=\"dataframe\">\n",
       "  <thead>\n",
       "    <tr style=\"text-align: right;\">\n",
       "      <th></th>\n",
       "    </tr>\n",
       "  </thead>\n",
       "  <tbody>\n",
       "  </tbody>\n",
       "</table>\n",
       "</div>"
      ],
      "text/plain": [
       "Empty DataFrame\n",
       "Columns: []\n",
       "Index: []"
      ]
     },
     "execution_count": 182,
     "metadata": {},
     "output_type": "execute_result"
    }
   ],
   "source": [
    "cells"
   ]
  },
  {
   "cell_type": "code",
   "execution_count": 116,
   "metadata": {},
   "outputs": [],
   "source": [
    "cells['section'] = section\n",
    "cells['x'] = cells['left'] + left + cells['width']/2\n",
    "cells['y'] = cells['top'] + up +cells['height']/2\n",
    "cells = cells.astype({'x': int, 'y': int})"
   ]
  },
  {
   "cell_type": "code",
   "execution_count": 108,
   "metadata": {},
   "outputs": [],
   "source": [
    "images = cells[['section', 'x', 'y', 'padded_patch']]\n",
    "images_all =pd.concat([images_all, images], ignore_index=True)\n",
    "# img_out_file = img_dir + str(section)\n",
    "# images.to_pickle(img_out_file)"
   ]
  },
  {
   "cell_type": "code",
   "execution_count": 117,
   "metadata": {},
   "outputs": [],
   "source": [
    "cells = cells.drop(['padded_patch','left','top'],1)\n",
    "cells = np.asarray(cells)\n",
    "for k in range(len(cells)):\n",
    "    cells[k][0] = cells[k][0][:10]\n",
    "features = np.concatenate((cells[:,-3:], np.array(list(cells[:,0])),cells[:,1:-3]),axis=1)"
   ]
  },
  {
   "cell_type": "code",
   "execution_count": 121,
   "metadata": {},
   "outputs": [
    {
     "data": {
      "text/plain": [
       "array([[168, 1593, 6, 4.109909885617509, -1.2870128070762894,\n",
       "        -1.2004753207204446, -0.049244788371834665, -1.0571741505949546,\n",
       "        1.2042090636916432, -0.36240426772481044, 0.10882032869778066,\n",
       "        0.8005821558939126, -0.2696772283188138, 110, 10,\n",
       "        2.136481069191512, 5.9640831758034025, 51, -83.3477111226304,\n",
       "        1364.9723659289205, 13.132616978207176, 3.6762074158920113, 16],\n",
       "       [168, 1020, 15, -1.583713977883637, 1.4405948019673338,\n",
       "        -1.3954528174412069, -0.32175728155479827, 1.030303528007469,\n",
       "        0.7542561751778836, -0.18481647782551552, 0.7866518465343114,\n",
       "        -0.7555683035607482, 0.22366372819162036, 320, 24,\n",
       "        4.688070508986538, 9.798269334775554, 51, 83.93008264822427,\n",
       "        1287.652059588039, 23.149778665851613, 5.487856302159731, 25]],\n",
       "      dtype=object)"
      ]
     },
     "execution_count": 121,
     "metadata": {},
     "output_type": "execute_result"
    }
   ],
   "source": [
    "features[0:2]"
   ]
  },
  {
   "cell_type": "code",
   "execution_count": 118,
   "metadata": {},
   "outputs": [
    {
     "data": {
      "text/plain": [
       "<sqlite3.Cursor at 0x12a60f9d0>"
      ]
     },
     "execution_count": 118,
     "metadata": {},
     "output_type": "execute_result"
    }
   ],
   "source": [
    "cur.executemany('INSERT INTO Features VALUES (?,?,?,?,?,?,?,?,?,?,?,?,?,?,?,?,?,?,?,?,?,?,?)', features)"
   ]
  },
  {
   "cell_type": "code",
   "execution_count": 185,
   "metadata": {},
   "outputs": [
    {
     "data": {
      "text/plain": [
       "(99,\n",
       " 582,\n",
       " 28,\n",
       " 2.1569347383013837,\n",
       " -0.01914680328072571,\n",
       " -1.6122909279649926,\n",
       " -0.23599463104881072,\n",
       " -0.21962428264338862,\n",
       " 0.5443551698033889,\n",
       " 0.5093988511999487,\n",
       " -0.6378635931132551,\n",
       " -0.06127104029023334,\n",
       " -0.31247472113482994,\n",
       " 16,\n",
       " 6,\n",
       " 0.7490711464169707,\n",
       " 1.4938271604938271,\n",
       " 15,\n",
       " -9.379061332401117,\n",
       " 105.69843182163682,\n",
       " 3.8622051424955535,\n",
       " 1.1953065917778858,\n",
       " 4)"
      ]
     },
     "execution_count": 185,
     "metadata": {},
     "output_type": "execute_result"
    }
   ],
   "source": [
    "cur.execute('SELECT * FROM features')\n",
    "cur.fetchone()"
   ]
  },
  {
   "cell_type": "code",
   "execution_count": 120,
   "metadata": {},
   "outputs": [
    {
     "data": {
      "text/plain": [
       "(168,\n",
       " 1020,\n",
       " 15,\n",
       " -1.583713977883637,\n",
       " 1.4405948019673338,\n",
       " -1.3954528174412069,\n",
       " -0.32175728155479827,\n",
       " 1.030303528007469,\n",
       " 0.7542561751778836,\n",
       " -0.18481647782551552,\n",
       " 0.7866518465343114,\n",
       " -0.7555683035607482,\n",
       " 0.22366372819162036,\n",
       " 320,\n",
       " 24,\n",
       " 4.688070508986538,\n",
       " 9.798269334775554,\n",
       " 51,\n",
       " 83.93008264822427,\n",
       " 1287.652059588039,\n",
       " 23.149778665851613,\n",
       " 5.487856302159731,\n",
       " 25)"
      ]
     },
     "execution_count": 120,
     "metadata": {},
     "output_type": "execute_result"
    }
   ],
   "source": [
    "cur.fetchone()"
   ]
  },
  {
   "cell_type": "code",
   "execution_count": 183,
   "metadata": {},
   "outputs": [
    {
     "name": "stdout",
     "output_type": "stream",
     "text": [
      "/Users/kuiqian/Github/venv/shapeology_venv/lib/python3.7/site-packages/sklearn/externals/joblib/externals/cloudpickle/cloudpickle.py:47: DeprecationWarning: the imp module is deprecated in favour of importlib; see the module's documentation for alternative uses\n",
      "  import imp\n",
      "/Users/kuiqian/Github/shapeology_code/scripts/lib/utils.py:22: YAMLLoadWarning: calling yaml.load() without Loader=... is deprecated, as the default Loader is unsafe. Please read https://msg.pyyaml.org/load for full details.\n",
      "  self.D=yaml.load(open(yamlFile,'r'))\n",
      "ALREADY DOWNLOADED FILE\n",
      "ALREADY DOWNLOADED FILE\n",
      "0 216\n",
      "1 216\n",
      "2 216\n",
      "3 216\n",
      "4 216\n",
      "5 216\n",
      "6 216\n",
      "7 216\n",
      "8 216\n",
      "9 216\n",
      "10 216\n",
      "11 216\n",
      "12 216\n",
      "13 216\n",
      "14 216\n",
      "15 216\n",
      "16 216\n",
      "17 216\n",
      "18 216\n",
      "19 216\n",
      "20 216\n",
      "21 216\n",
      "22 216\n",
      "23 216\n",
      "24 216\n",
      "25 216\n",
      "26 216\n",
      "27 216\n",
      "28 216\n",
      "29 216\n",
      "30 216\n",
      "31 216\n",
      "32 216\n",
      "33 216\n",
      "34 216\n",
      "35 216\n",
      "36 216\n",
      "37 216\n",
      "38 216\n",
      "39 216\n",
      "40 216\n",
      "41 216\n",
      "42 216\n",
      "43 216\n",
      "44 216\n",
      "45 216\n",
      "46 216\n",
      "47 216\n",
      "48 216\n",
      "49 216\n",
      "50 216\n",
      "51 216\n",
      "52 216\n",
      "53 216\n",
      "54 216\n",
      "55 216\n",
      "56 216\n",
      "57 216\n",
      "58 216\n",
      "59 216\n",
      "60 216\n",
      "61 216\n",
      "62 216\n",
      "63 216\n",
      "64 216\n",
      "65 216\n",
      "66 216\n",
      "67 216\n",
      "68 216\n",
      "69 216\n",
      "70 216\n",
      "71 216\n",
      "72 216\n",
      "73 216\n",
      "74 216\n",
      "75 216\n",
      "76 216\n",
      "77 216\n",
      "78 216\n",
      "79 216\n",
      "80 216\n",
      "81 216\n",
      "82 216\n",
      "83 216\n",
      "84 216\n",
      "85 216\n",
      "86 216\n",
      "87 216\n",
      "88 216\n",
      "89 216\n",
      "90 216\n",
      "91 216\n",
      "92 216\n",
      "93 216\n",
      "94 216\n",
      "95 216\n",
      "96 216\n",
      "97 216\n",
      "98 216\n",
      "99 216\n",
      "100 216\n",
      "101 216\n",
      "102 216\n",
      "103 216\n",
      "104 216\n",
      "105 216\n",
      "106 216\n",
      "107 216\n",
      "108 216\n",
      "109 216\n",
      "110 216\n",
      "111 216\n",
      "112 216\n",
      "113 216\n",
      "114 216\n",
      "115 216\n",
      "116 216\n",
      "117 216\n",
      "118 216\n",
      "119 216\n",
      "120 216\n",
      "121 216\n",
      "122 216\n",
      "123 216\n",
      "124 216\n",
      "125 216\n",
      "126 216\n",
      "127 216\n",
      "128 216\n",
      "129 216\n",
      "130 216\n",
      "131 216\n",
      "132 216\n",
      "133 216\n",
      "134 216\n",
      "135 216\n",
      "136 216\n",
      "137 216\n",
      "138 216\n",
      "139 216\n",
      "140 216\n",
      "141 216\n",
      "142 216\n",
      "143 216\n",
      "144 216\n",
      "145 216\n",
      "146 216\n",
      "147 216\n",
      "148 216\n",
      "149 216\n",
      "150 216\n",
      "151 216\n",
      "152 216\n",
      "153 216\n",
      "154 216\n",
      "155 216\n",
      "156 216\n",
      "157 216\n",
      "158 216\n",
      "159 216\n",
      "160 216\n",
      "161 216\n",
      "162 216\n",
      "163 216\n",
      "164 216\n",
      "165 216\n",
      "166 216\n",
      "167 216\n",
      "168 216\n",
      "169 216\n",
      "170 216\n",
      "171 216\n",
      "172 216\n",
      "173 216\n",
      "174 216\n",
      "175 216\n",
      "176 216\n",
      "177 216\n",
      "178 216\n",
      "179 216\n",
      "180 216\n",
      "181 216\n",
      "182 216\n",
      "183 216\n",
      "184 216\n",
      "185 216\n",
      "186 216\n",
      "187 216\n",
      "188 216\n",
      "189 216\n",
      "190 216\n",
      "191 216\n",
      "192 216\n",
      "193 216\n",
      "194 216\n",
      "195 216\n",
      "196 216\n",
      "197 216\n",
      "198 216\n",
      "199 216\n",
      "200 216\n",
      "201 216\n",
      "202 216\n",
      "203 216\n",
      "204 216\n",
      "205 216\n",
      "206 216\n",
      "207 216\n",
      "208 216\n",
      "209 216\n",
      "210 216\n",
      "211 216\n",
      "212 216\n",
      "213 216\n",
      "214 216\n",
      "215 216\n",
      "run cmd= aws s3 cp /Users/kuiqian/BstemAtlasDataBackup/ucsd_brain/CSHL_cells_images/MD594/99.pkl s3://mousebrainatlas-data/CSHL_cells_images/MD594/99.pkl\n",
      "^Cmpleted 758.2 MiB/4.0 GiB (715.9 KiB/s) with 1 file(s) remaining\n",
      "Completed 758.9 MiB/4.0 GiB (716.4 KiB/s) with 1 file(s) remaining\r"
     ]
    }
   ],
   "source": [
    "script = os.environ['REPO_DIR']\n",
    "! python $script/Sqlite.py 'MD594' 99 'shape_params.yaml'"
   ]
  },
  {
   "cell_type": "code",
   "execution_count": 187,
   "metadata": {},
   "outputs": [
    {
     "data": {
      "text/plain": [
       "array([0, 2, 4, 6, 8])"
      ]
     },
     "execution_count": 187,
     "metadata": {},
     "output_type": "execute_result"
    }
   ],
   "source": [
    "a = np.array([0,1,2,3,4,5,6,7,8])\n",
    "a[0::2]"
   ]
  },
  {
   "cell_type": "code",
   "execution_count": 4,
   "metadata": {},
   "outputs": [
    {
     "name": "stdout",
     "output_type": "stream",
     "text": [
      "download: s3://mousebrainatlas-data/CSHL_databases/MD594/102.db to ../../../BstemAtlasDataBackup/ucsd_brain/CSHL_databases/MD594/102.db\n",
      "download: s3://mousebrainatlas-data/CSHL_databases/MD594/103.db to ../../../BstemAtlasDataBackup/ucsd_brain/CSHL_databases/MD594/103.db\n",
      "download: s3://mousebrainatlas-data/CSHL_databases/MD594/105.db to ../../../BstemAtlasDataBackup/ucsd_brain/CSHL_databases/MD594/105.db\n",
      "download: s3://mousebrainatlas-data/CSHL_databases/MD594/106.db to ../../../BstemAtlasDataBackup/ucsd_brain/CSHL_databases/MD594/106.db\n",
      "download: s3://mousebrainatlas-data/CSHL_databases/MD594/104.db to ../../../BstemAtlasDataBackup/ucsd_brain/CSHL_databases/MD594/104.db\n",
      "download: s3://mousebrainatlas-data/CSHL_databases/MD594/107.db to ../../../BstemAtlasDataBackup/ucsd_brain/CSHL_databases/MD594/107.db\n",
      "download: s3://mousebrainatlas-data/CSHL_databases/MD594/110.db to ../../../BstemAtlasDataBackup/ucsd_brain/CSHL_databases/MD594/110.db\n",
      "download: s3://mousebrainatlas-data/CSHL_databases/MD594/108.db to ../../../BstemAtlasDataBackup/ucsd_brain/CSHL_databases/MD594/108.db\n",
      "download: s3://mousebrainatlas-data/CSHL_databases/MD594/112.db to ../../../BstemAtlasDataBackup/ucsd_brain/CSHL_databases/MD594/112.db\n",
      "download: s3://mousebrainatlas-data/CSHL_databases/MD594/114.db to ../../../BstemAtlasDataBackup/ucsd_brain/CSHL_databases/MD594/114.db\n",
      "download: s3://mousebrainatlas-data/CSHL_databases/MD594/100.db to ../../../BstemAtlasDataBackup/ucsd_brain/CSHL_databases/MD594/100.db\n",
      "download: s3://mousebrainatlas-data/CSHL_databases/MD594/113.db to ../../../BstemAtlasDataBackup/ucsd_brain/CSHL_databases/MD594/113.db\n",
      "download: s3://mousebrainatlas-data/CSHL_databases/MD594/111.db to ../../../BstemAtlasDataBackup/ucsd_brain/CSHL_databases/MD594/111.db\n",
      "download: s3://mousebrainatlas-data/CSHL_databases/MD594/101.db to ../../../BstemAtlasDataBackup/ucsd_brain/CSHL_databases/MD594/101.db\n",
      "download: s3://mousebrainatlas-data/CSHL_databases/MD594/115.db to ../../../BstemAtlasDataBackup/ucsd_brain/CSHL_databases/MD594/115.db\n",
      "download: s3://mousebrainatlas-data/CSHL_databases/MD594/120.db to ../../../BstemAtlasDataBackup/ucsd_brain/CSHL_databases/MD594/120.db\n",
      "download: s3://mousebrainatlas-data/CSHL_databases/MD594/122.db to ../../../BstemAtlasDataBackup/ucsd_brain/CSHL_databases/MD594/122.db\n",
      "download: s3://mousebrainatlas-data/CSHL_databases/MD594/123.db to ../../../BstemAtlasDataBackup/ucsd_brain/CSHL_databases/MD594/123.db\n",
      "download: s3://mousebrainatlas-data/CSHL_databases/MD594/124.db to ../../../BstemAtlasDataBackup/ucsd_brain/CSHL_databases/MD594/124.db\n",
      "download: s3://mousebrainatlas-data/CSHL_databases/MD594/125.db to ../../../BstemAtlasDataBackup/ucsd_brain/CSHL_databases/MD594/125.db\n",
      "download: s3://mousebrainatlas-data/CSHL_databases/MD594/121.db to ../../../BstemAtlasDataBackup/ucsd_brain/CSHL_databases/MD594/121.db\n",
      "download: s3://mousebrainatlas-data/CSHL_databases/MD594/126.db to ../../../BstemAtlasDataBackup/ucsd_brain/CSHL_databases/MD594/126.db\n",
      "download: s3://mousebrainatlas-data/CSHL_databases/MD594/128.db to ../../../BstemAtlasDataBackup/ucsd_brain/CSHL_databases/MD594/128.db\n",
      "download: s3://mousebrainatlas-data/CSHL_databases/MD594/127.db to ../../../BstemAtlasDataBackup/ucsd_brain/CSHL_databases/MD594/127.db\n",
      "download: s3://mousebrainatlas-data/CSHL_databases/MD594/130.db to ../../../BstemAtlasDataBackup/ucsd_brain/CSHL_databases/MD594/130.db\n",
      "download: s3://mousebrainatlas-data/CSHL_databases/MD594/132.db to ../../../BstemAtlasDataBackup/ucsd_brain/CSHL_databases/MD594/132.db\n",
      "download: s3://mousebrainatlas-data/CSHL_databases/MD594/133.db to ../../../BstemAtlasDataBackup/ucsd_brain/CSHL_databases/MD594/133.db\n",
      "download: s3://mousebrainatlas-data/CSHL_databases/MD594/134.db to ../../../BstemAtlasDataBackup/ucsd_brain/CSHL_databases/MD594/134.db\n",
      "download: s3://mousebrainatlas-data/CSHL_databases/MD594/135.db to ../../../BstemAtlasDataBackup/ucsd_brain/CSHL_databases/MD594/135.db\n",
      "download: s3://mousebrainatlas-data/CSHL_databases/MD594/136.db to ../../../BstemAtlasDataBackup/ucsd_brain/CSHL_databases/MD594/136.db\n",
      "download: s3://mousebrainatlas-data/CSHL_databases/MD594/137.db to ../../../BstemAtlasDataBackup/ucsd_brain/CSHL_databases/MD594/137.db\n",
      "download: s3://mousebrainatlas-data/CSHL_databases/MD594/129.db to ../../../BstemAtlasDataBackup/ucsd_brain/CSHL_databases/MD594/129.db\n",
      "download: s3://mousebrainatlas-data/CSHL_databases/MD594/138.db to ../../../BstemAtlasDataBackup/ucsd_brain/CSHL_databases/MD594/138.db\n",
      "download: s3://mousebrainatlas-data/CSHL_databases/MD594/139.db to ../../../BstemAtlasDataBackup/ucsd_brain/CSHL_databases/MD594/139.db\n",
      "download: s3://mousebrainatlas-data/CSHL_databases/MD594/140.db to ../../../BstemAtlasDataBackup/ucsd_brain/CSHL_databases/MD594/140.db\n",
      "download: s3://mousebrainatlas-data/CSHL_databases/MD594/141.db to ../../../BstemAtlasDataBackup/ucsd_brain/CSHL_databases/MD594/141.db\n",
      "download: s3://mousebrainatlas-data/CSHL_databases/MD594/142.db to ../../../BstemAtlasDataBackup/ucsd_brain/CSHL_databases/MD594/142.db\n",
      "download: s3://mousebrainatlas-data/CSHL_databases/MD594/143.db to ../../../BstemAtlasDataBackup/ucsd_brain/CSHL_databases/MD594/143.db\n",
      "download: s3://mousebrainatlas-data/CSHL_databases/MD594/144.db to ../../../BstemAtlasDataBackup/ucsd_brain/CSHL_databases/MD594/144.db\n",
      "download: s3://mousebrainatlas-data/CSHL_databases/MD594/145.db to ../../../BstemAtlasDataBackup/ucsd_brain/CSHL_databases/MD594/145.db\n",
      "download: s3://mousebrainatlas-data/CSHL_databases/MD594/146.db to ../../../BstemAtlasDataBackup/ucsd_brain/CSHL_databases/MD594/146.db\n",
      "download: s3://mousebrainatlas-data/CSHL_databases/MD594/148.db to ../../../BstemAtlasDataBackup/ucsd_brain/CSHL_databases/MD594/148.db\n",
      "download: s3://mousebrainatlas-data/CSHL_databases/MD594/149.db to ../../../BstemAtlasDataBackup/ucsd_brain/CSHL_databases/MD594/149.db\n",
      "download: s3://mousebrainatlas-data/CSHL_databases/MD594/147.db to ../../../BstemAtlasDataBackup/ucsd_brain/CSHL_databases/MD594/147.db\n",
      "download: s3://mousebrainatlas-data/CSHL_databases/MD594/150.db to ../../../BstemAtlasDataBackup/ucsd_brain/CSHL_databases/MD594/150.db\n",
      "download: s3://mousebrainatlas-data/CSHL_databases/MD594/152.db to ../../../BstemAtlasDataBackup/ucsd_brain/CSHL_databases/MD594/152.db\n",
      "download: s3://mousebrainatlas-data/CSHL_databases/MD594/151.db to ../../../BstemAtlasDataBackup/ucsd_brain/CSHL_databases/MD594/151.db\n",
      "download: s3://mousebrainatlas-data/CSHL_databases/MD594/153.db to ../../../BstemAtlasDataBackup/ucsd_brain/CSHL_databases/MD594/153.db\n",
      "download: s3://mousebrainatlas-data/CSHL_databases/MD594/154.db to ../../../BstemAtlasDataBackup/ucsd_brain/CSHL_databases/MD594/154.db\n",
      "download: s3://mousebrainatlas-data/CSHL_databases/MD594/155.db to ../../../BstemAtlasDataBackup/ucsd_brain/CSHL_databases/MD594/155.db\n",
      "download: s3://mousebrainatlas-data/CSHL_databases/MD594/156.db to ../../../BstemAtlasDataBackup/ucsd_brain/CSHL_databases/MD594/156.db\n",
      "download: s3://mousebrainatlas-data/CSHL_databases/MD594/158.db to ../../../BstemAtlasDataBackup/ucsd_brain/CSHL_databases/MD594/158.db\n",
      "download: s3://mousebrainatlas-data/CSHL_databases/MD594/157.db to ../../../BstemAtlasDataBackup/ucsd_brain/CSHL_databases/MD594/157.db\n",
      "download: s3://mousebrainatlas-data/CSHL_databases/MD594/159.db to ../../../BstemAtlasDataBackup/ucsd_brain/CSHL_databases/MD594/159.db\n",
      "download: s3://mousebrainatlas-data/CSHL_databases/MD594/160.db to ../../../BstemAtlasDataBackup/ucsd_brain/CSHL_databases/MD594/160.db\n",
      "download: s3://mousebrainatlas-data/CSHL_databases/MD594/161.db to ../../../BstemAtlasDataBackup/ucsd_brain/CSHL_databases/MD594/161.db\n",
      "download: s3://mousebrainatlas-data/CSHL_databases/MD594/118.db to ../../../BstemAtlasDataBackup/ucsd_brain/CSHL_databases/MD594/118.db\n",
      "download: s3://mousebrainatlas-data/CSHL_databases/MD594/162.db to ../../../BstemAtlasDataBackup/ucsd_brain/CSHL_databases/MD594/162.db\n",
      "download: s3://mousebrainatlas-data/CSHL_databases/MD594/163.db to ../../../BstemAtlasDataBackup/ucsd_brain/CSHL_databases/MD594/163.db\n",
      "download: s3://mousebrainatlas-data/CSHL_databases/MD594/119.db to ../../../BstemAtlasDataBackup/ucsd_brain/CSHL_databases/MD594/119.db\n",
      "download: s3://mousebrainatlas-data/CSHL_databases/MD594/164.db to ../../../BstemAtlasDataBackup/ucsd_brain/CSHL_databases/MD594/164.db\n",
      "download: s3://mousebrainatlas-data/CSHL_databases/MD594/165.db to ../../../BstemAtlasDataBackup/ucsd_brain/CSHL_databases/MD594/165.db\n",
      "download: s3://mousebrainatlas-data/CSHL_databases/MD594/166.db to ../../../BstemAtlasDataBackup/ucsd_brain/CSHL_databases/MD594/166.db\n",
      "download: s3://mousebrainatlas-data/CSHL_databases/MD594/167.db to ../../../BstemAtlasDataBackup/ucsd_brain/CSHL_databases/MD594/167.db\n",
      "download: s3://mousebrainatlas-data/CSHL_databases/MD594/168.db to ../../../BstemAtlasDataBackup/ucsd_brain/CSHL_databases/MD594/168.db\n",
      "download: s3://mousebrainatlas-data/CSHL_databases/MD594/169.db to ../../../BstemAtlasDataBackup/ucsd_brain/CSHL_databases/MD594/169.db\n",
      "download: s3://mousebrainatlas-data/CSHL_databases/MD594/170.db to ../../../BstemAtlasDataBackup/ucsd_brain/CSHL_databases/MD594/170.db\n",
      "download: s3://mousebrainatlas-data/CSHL_databases/MD594/171.db to ../../../BstemAtlasDataBackup/ucsd_brain/CSHL_databases/MD594/171.db\n",
      "download: s3://mousebrainatlas-data/CSHL_databases/MD594/117.db to ../../../BstemAtlasDataBackup/ucsd_brain/CSHL_databases/MD594/117.db\n",
      "download: s3://mousebrainatlas-data/CSHL_databases/MD594/173.db to ../../../BstemAtlasDataBackup/ucsd_brain/CSHL_databases/MD594/173.db\n",
      "download: s3://mousebrainatlas-data/CSHL_databases/MD594/109.db to ../../../BstemAtlasDataBackup/ucsd_brain/CSHL_databases/MD594/109.db\n",
      "download: s3://mousebrainatlas-data/CSHL_databases/MD594/172.db to ../../../BstemAtlasDataBackup/ucsd_brain/CSHL_databases/MD594/172.db\n",
      "download: s3://mousebrainatlas-data/CSHL_databases/MD594/176.db to ../../../BstemAtlasDataBackup/ucsd_brain/CSHL_databases/MD594/176.db\n",
      "download: s3://mousebrainatlas-data/CSHL_databases/MD594/175.db to ../../../BstemAtlasDataBackup/ucsd_brain/CSHL_databases/MD594/175.db\n",
      "download: s3://mousebrainatlas-data/CSHL_databases/MD594/174.db to ../../../BstemAtlasDataBackup/ucsd_brain/CSHL_databases/MD594/174.db\n",
      "download: s3://mousebrainatlas-data/CSHL_databases/MD594/177.db to ../../../BstemAtlasDataBackup/ucsd_brain/CSHL_databases/MD594/177.db\n",
      "download: s3://mousebrainatlas-data/CSHL_databases/MD594/178.db to ../../../BstemAtlasDataBackup/ucsd_brain/CSHL_databases/MD594/178.db\n",
      "download: s3://mousebrainatlas-data/CSHL_databases/MD594/180.db to ../../../BstemAtlasDataBackup/ucsd_brain/CSHL_databases/MD594/180.db\n",
      "download: s3://mousebrainatlas-data/CSHL_databases/MD594/181.db to ../../../BstemAtlasDataBackup/ucsd_brain/CSHL_databases/MD594/181.db\n",
      "download: s3://mousebrainatlas-data/CSHL_databases/MD594/179.db to ../../../BstemAtlasDataBackup/ucsd_brain/CSHL_databases/MD594/179.db\n",
      "download: s3://mousebrainatlas-data/CSHL_databases/MD594/184.db to ../../../BstemAtlasDataBackup/ucsd_brain/CSHL_databases/MD594/184.db\n",
      "download: s3://mousebrainatlas-data/CSHL_databases/MD594/183.db to ../../../BstemAtlasDataBackup/ucsd_brain/CSHL_databases/MD594/183.db\n",
      "download: s3://mousebrainatlas-data/CSHL_databases/MD594/185.db to ../../../BstemAtlasDataBackup/ucsd_brain/CSHL_databases/MD594/185.db\n",
      "download: s3://mousebrainatlas-data/CSHL_databases/MD594/186.db to ../../../BstemAtlasDataBackup/ucsd_brain/CSHL_databases/MD594/186.db\n",
      "download: s3://mousebrainatlas-data/CSHL_databases/MD594/188.db to ../../../BstemAtlasDataBackup/ucsd_brain/CSHL_databases/MD594/188.db\n",
      "download: s3://mousebrainatlas-data/CSHL_databases/MD594/182.db to ../../../BstemAtlasDataBackup/ucsd_brain/CSHL_databases/MD594/182.db\n",
      "download: s3://mousebrainatlas-data/CSHL_databases/MD594/189.db to ../../../BstemAtlasDataBackup/ucsd_brain/CSHL_databases/MD594/189.db\n",
      "download: s3://mousebrainatlas-data/CSHL_databases/MD594/190.db to ../../../BstemAtlasDataBackup/ucsd_brain/CSHL_databases/MD594/190.db\n",
      "download: s3://mousebrainatlas-data/CSHL_databases/MD594/192.db to ../../../BstemAtlasDataBackup/ucsd_brain/CSHL_databases/MD594/192.db\n",
      "download: s3://mousebrainatlas-data/CSHL_databases/MD594/194.db to ../../../BstemAtlasDataBackup/ucsd_brain/CSHL_databases/MD594/194.db\n",
      "download: s3://mousebrainatlas-data/CSHL_databases/MD594/195.db to ../../../BstemAtlasDataBackup/ucsd_brain/CSHL_databases/MD594/195.db\n",
      "download: s3://mousebrainatlas-data/CSHL_databases/MD594/196.db to ../../../BstemAtlasDataBackup/ucsd_brain/CSHL_databases/MD594/196.db\n",
      "download: s3://mousebrainatlas-data/CSHL_databases/MD594/191.db to ../../../BstemAtlasDataBackup/ucsd_brain/CSHL_databases/MD594/191.db\n",
      "download: s3://mousebrainatlas-data/CSHL_databases/MD594/199.db to ../../../BstemAtlasDataBackup/ucsd_brain/CSHL_databases/MD594/199.db\n",
      "download: s3://mousebrainatlas-data/CSHL_databases/MD594/197.db to ../../../BstemAtlasDataBackup/ucsd_brain/CSHL_databases/MD594/197.db\n",
      "download: s3://mousebrainatlas-data/CSHL_databases/MD594/200.db to ../../../BstemAtlasDataBackup/ucsd_brain/CSHL_databases/MD594/200.db\n",
      "download: s3://mousebrainatlas-data/CSHL_databases/MD594/201.db to ../../../BstemAtlasDataBackup/ucsd_brain/CSHL_databases/MD594/201.db\n",
      "download: s3://mousebrainatlas-data/CSHL_databases/MD594/203.db to ../../../BstemAtlasDataBackup/ucsd_brain/CSHL_databases/MD594/203.db\n",
      "download: s3://mousebrainatlas-data/CSHL_databases/MD594/204.db to ../../../BstemAtlasDataBackup/ucsd_brain/CSHL_databases/MD594/204.db\n",
      "download: s3://mousebrainatlas-data/CSHL_databases/MD594/205.db to ../../../BstemAtlasDataBackup/ucsd_brain/CSHL_databases/MD594/205.db\n",
      "download: s3://mousebrainatlas-data/CSHL_databases/MD594/206.db to ../../../BstemAtlasDataBackup/ucsd_brain/CSHL_databases/MD594/206.db\n",
      "download: s3://mousebrainatlas-data/CSHL_databases/MD594/207.db to ../../../BstemAtlasDataBackup/ucsd_brain/CSHL_databases/MD594/207.db\n",
      "download: s3://mousebrainatlas-data/CSHL_databases/MD594/202.db to ../../../BstemAtlasDataBackup/ucsd_brain/CSHL_databases/MD594/202.db\n",
      "download: s3://mousebrainatlas-data/CSHL_databases/MD594/208.db to ../../../BstemAtlasDataBackup/ucsd_brain/CSHL_databases/MD594/208.db\n",
      "download: s3://mousebrainatlas-data/CSHL_databases/MD594/210.db to ../../../BstemAtlasDataBackup/ucsd_brain/CSHL_databases/MD594/210.db\n",
      "download: s3://mousebrainatlas-data/CSHL_databases/MD594/209.db to ../../../BstemAtlasDataBackup/ucsd_brain/CSHL_databases/MD594/209.db\n",
      "download: s3://mousebrainatlas-data/CSHL_databases/MD594/211.db to ../../../BstemAtlasDataBackup/ucsd_brain/CSHL_databases/MD594/211.db\n",
      "download: s3://mousebrainatlas-data/CSHL_databases/MD594/198.db to ../../../BstemAtlasDataBackup/ucsd_brain/CSHL_databases/MD594/198.db\n",
      "download: s3://mousebrainatlas-data/CSHL_databases/MD594/214.db to ../../../BstemAtlasDataBackup/ucsd_brain/CSHL_databases/MD594/214.db\n",
      "download: s3://mousebrainatlas-data/CSHL_databases/MD594/215.db to ../../../BstemAtlasDataBackup/ucsd_brain/CSHL_databases/MD594/215.db\n",
      "download: s3://mousebrainatlas-data/CSHL_databases/MD594/216.db to ../../../BstemAtlasDataBackup/ucsd_brain/CSHL_databases/MD594/216.db\n",
      "download: s3://mousebrainatlas-data/CSHL_databases/MD594/218.db to ../../../BstemAtlasDataBackup/ucsd_brain/CSHL_databases/MD594/218.db\n",
      "download: s3://mousebrainatlas-data/CSHL_databases/MD594/217.db to ../../../BstemAtlasDataBackup/ucsd_brain/CSHL_databases/MD594/217.db\n",
      "download: s3://mousebrainatlas-data/CSHL_databases/MD594/219.db to ../../../BstemAtlasDataBackup/ucsd_brain/CSHL_databases/MD594/219.db\n",
      "download: s3://mousebrainatlas-data/CSHL_databases/MD594/222.db to ../../../BstemAtlasDataBackup/ucsd_brain/CSHL_databases/MD594/222.db\n",
      "download: s3://mousebrainatlas-data/CSHL_databases/MD594/221.db to ../../../BstemAtlasDataBackup/ucsd_brain/CSHL_databases/MD594/221.db\n",
      "download: s3://mousebrainatlas-data/CSHL_databases/MD594/212.db to ../../../BstemAtlasDataBackup/ucsd_brain/CSHL_databases/MD594/212.db\n",
      "download: s3://mousebrainatlas-data/CSHL_databases/MD594/213.db to ../../../BstemAtlasDataBackup/ucsd_brain/CSHL_databases/MD594/213.db\n",
      "download: s3://mousebrainatlas-data/CSHL_databases/MD594/226.db to ../../../BstemAtlasDataBackup/ucsd_brain/CSHL_databases/MD594/226.db\n",
      "download: s3://mousebrainatlas-data/CSHL_databases/MD594/227.db to ../../../BstemAtlasDataBackup/ucsd_brain/CSHL_databases/MD594/227.db\n"
     ]
    },
    {
     "name": "stdout",
     "output_type": "stream",
     "text": [
      "download: s3://mousebrainatlas-data/CSHL_databases/MD594/225.db to ../../../BstemAtlasDataBackup/ucsd_brain/CSHL_databases/MD594/225.db\n",
      "download: s3://mousebrainatlas-data/CSHL_databases/MD594/223.db to ../../../BstemAtlasDataBackup/ucsd_brain/CSHL_databases/MD594/223.db\n",
      "download: s3://mousebrainatlas-data/CSHL_databases/MD594/228.db to ../../../BstemAtlasDataBackup/ucsd_brain/CSHL_databases/MD594/228.db\n",
      "download: s3://mousebrainatlas-data/CSHL_databases/MD594/224.db to ../../../BstemAtlasDataBackup/ucsd_brain/CSHL_databases/MD594/224.db\n",
      "download: s3://mousebrainatlas-data/CSHL_databases/MD594/230.db to ../../../BstemAtlasDataBackup/ucsd_brain/CSHL_databases/MD594/230.db\n",
      "download: s3://mousebrainatlas-data/CSHL_databases/MD594/229.db to ../../../BstemAtlasDataBackup/ucsd_brain/CSHL_databases/MD594/229.db\n",
      "download: s3://mousebrainatlas-data/CSHL_databases/MD594/233.db to ../../../BstemAtlasDataBackup/ucsd_brain/CSHL_databases/MD594/233.db\n",
      "download: s3://mousebrainatlas-data/CSHL_databases/MD594/232.db to ../../../BstemAtlasDataBackup/ucsd_brain/CSHL_databases/MD594/232.db\n",
      "download: s3://mousebrainatlas-data/CSHL_databases/MD594/234.db to ../../../BstemAtlasDataBackup/ucsd_brain/CSHL_databases/MD594/234.db\n",
      "download: s3://mousebrainatlas-data/CSHL_databases/MD594/231.db to ../../../BstemAtlasDataBackup/ucsd_brain/CSHL_databases/MD594/231.db\n",
      "download: s3://mousebrainatlas-data/CSHL_databases/MD594/235.db to ../../../BstemAtlasDataBackup/ucsd_brain/CSHL_databases/MD594/235.db\n",
      "download: s3://mousebrainatlas-data/CSHL_databases/MD594/236.db to ../../../BstemAtlasDataBackup/ucsd_brain/CSHL_databases/MD594/236.db\n",
      "download: s3://mousebrainatlas-data/CSHL_databases/MD594/239.db to ../../../BstemAtlasDataBackup/ucsd_brain/CSHL_databases/MD594/239.db\n",
      "download: s3://mousebrainatlas-data/CSHL_databases/MD594/237.db to ../../../BstemAtlasDataBackup/ucsd_brain/CSHL_databases/MD594/237.db\n",
      "download: s3://mousebrainatlas-data/CSHL_databases/MD594/241.db to ../../../BstemAtlasDataBackup/ucsd_brain/CSHL_databases/MD594/241.db\n",
      "download: s3://mousebrainatlas-data/CSHL_databases/MD594/242.db to ../../../BstemAtlasDataBackup/ucsd_brain/CSHL_databases/MD594/242.db\n",
      "download: s3://mousebrainatlas-data/CSHL_databases/MD594/243.db to ../../../BstemAtlasDataBackup/ucsd_brain/CSHL_databases/MD594/243.db\n",
      "download: s3://mousebrainatlas-data/CSHL_databases/MD594/244.db to ../../../BstemAtlasDataBackup/ucsd_brain/CSHL_databases/MD594/244.db\n",
      "download: s3://mousebrainatlas-data/CSHL_databases/MD594/240.db to ../../../BstemAtlasDataBackup/ucsd_brain/CSHL_databases/MD594/240.db\n",
      "download: s3://mousebrainatlas-data/CSHL_databases/MD594/246.db to ../../../BstemAtlasDataBackup/ucsd_brain/CSHL_databases/MD594/246.db\n",
      "download: s3://mousebrainatlas-data/CSHL_databases/MD594/247.db to ../../../BstemAtlasDataBackup/ucsd_brain/CSHL_databases/MD594/247.db\n",
      "download: s3://mousebrainatlas-data/CSHL_databases/MD594/245.db to ../../../BstemAtlasDataBackup/ucsd_brain/CSHL_databases/MD594/245.db\n",
      "download: s3://mousebrainatlas-data/CSHL_databases/MD594/249.db to ../../../BstemAtlasDataBackup/ucsd_brain/CSHL_databases/MD594/249.db\n",
      "download: s3://mousebrainatlas-data/CSHL_databases/MD594/248.db to ../../../BstemAtlasDataBackup/ucsd_brain/CSHL_databases/MD594/248.db\n",
      "download: s3://mousebrainatlas-data/CSHL_databases/MD594/253.db to ../../../BstemAtlasDataBackup/ucsd_brain/CSHL_databases/MD594/253.db\n",
      "download: s3://mousebrainatlas-data/CSHL_databases/MD594/251.db to ../../../BstemAtlasDataBackup/ucsd_brain/CSHL_databases/MD594/251.db\n",
      "download: s3://mousebrainatlas-data/CSHL_databases/MD594/252.db to ../../../BstemAtlasDataBackup/ucsd_brain/CSHL_databases/MD594/252.db\n",
      "download: s3://mousebrainatlas-data/CSHL_databases/MD594/255.db to ../../../BstemAtlasDataBackup/ucsd_brain/CSHL_databases/MD594/255.db\n",
      "download: s3://mousebrainatlas-data/CSHL_databases/MD594/256.db to ../../../BstemAtlasDataBackup/ucsd_brain/CSHL_databases/MD594/256.db\n",
      "download: s3://mousebrainatlas-data/CSHL_databases/MD594/257.db to ../../../BstemAtlasDataBackup/ucsd_brain/CSHL_databases/MD594/257.db\n",
      "download: s3://mousebrainatlas-data/CSHL_databases/MD594/254.db to ../../../BstemAtlasDataBackup/ucsd_brain/CSHL_databases/MD594/254.db\n",
      "download: s3://mousebrainatlas-data/CSHL_databases/MD594/258.db to ../../../BstemAtlasDataBackup/ucsd_brain/CSHL_databases/MD594/258.db\n",
      "download: s3://mousebrainatlas-data/CSHL_databases/MD594/259.db to ../../../BstemAtlasDataBackup/ucsd_brain/CSHL_databases/MD594/259.db\n",
      "download: s3://mousebrainatlas-data/CSHL_databases/MD594/260.db to ../../../BstemAtlasDataBackup/ucsd_brain/CSHL_databases/MD594/260.db\n",
      "download: s3://mousebrainatlas-data/CSHL_databases/MD594/262.db to ../../../BstemAtlasDataBackup/ucsd_brain/CSHL_databases/MD594/262.db\n",
      "download: s3://mousebrainatlas-data/CSHL_databases/MD594/250.db to ../../../BstemAtlasDataBackup/ucsd_brain/CSHL_databases/MD594/250.db\n",
      "download: s3://mousebrainatlas-data/CSHL_databases/MD594/264.db to ../../../BstemAtlasDataBackup/ucsd_brain/CSHL_databases/MD594/264.db\n",
      "download: s3://mousebrainatlas-data/CSHL_databases/MD594/267.db to ../../../BstemAtlasDataBackup/ucsd_brain/CSHL_databases/MD594/267.db\n",
      "download: s3://mousebrainatlas-data/CSHL_databases/MD594/268.db to ../../../BstemAtlasDataBackup/ucsd_brain/CSHL_databases/MD594/268.db\n",
      "download: s3://mousebrainatlas-data/CSHL_databases/MD594/269.db to ../../../BstemAtlasDataBackup/ucsd_brain/CSHL_databases/MD594/269.db\n",
      "download: s3://mousebrainatlas-data/CSHL_databases/MD594/116.db to ../../../BstemAtlasDataBackup/ucsd_brain/CSHL_databases/MD594/116.db\n",
      "download: s3://mousebrainatlas-data/CSHL_databases/MD594/263.db to ../../../BstemAtlasDataBackup/ucsd_brain/CSHL_databases/MD594/263.db\n",
      "download: s3://mousebrainatlas-data/CSHL_databases/MD594/270.db to ../../../BstemAtlasDataBackup/ucsd_brain/CSHL_databases/MD594/270.db\n",
      "download: s3://mousebrainatlas-data/CSHL_databases/MD594/271.db to ../../../BstemAtlasDataBackup/ucsd_brain/CSHL_databases/MD594/271.db\n",
      "download: s3://mousebrainatlas-data/CSHL_databases/MD594/272.db to ../../../BstemAtlasDataBackup/ucsd_brain/CSHL_databases/MD594/272.db\n",
      "download: s3://mousebrainatlas-data/CSHL_databases/MD594/273.db to ../../../BstemAtlasDataBackup/ucsd_brain/CSHL_databases/MD594/273.db\n",
      "download: s3://mousebrainatlas-data/CSHL_databases/MD594/220.db to ../../../BstemAtlasDataBackup/ucsd_brain/CSHL_databases/MD594/220.db\n",
      "download: s3://mousebrainatlas-data/CSHL_databases/MD594/274.db to ../../../BstemAtlasDataBackup/ucsd_brain/CSHL_databases/MD594/274.db\n",
      "download: s3://mousebrainatlas-data/CSHL_databases/MD594/275.db to ../../../BstemAtlasDataBackup/ucsd_brain/CSHL_databases/MD594/275.db\n",
      "download: s3://mousebrainatlas-data/CSHL_databases/MD594/276.db to ../../../BstemAtlasDataBackup/ucsd_brain/CSHL_databases/MD594/276.db\n",
      "download: s3://mousebrainatlas-data/CSHL_databases/MD594/278.db to ../../../BstemAtlasDataBackup/ucsd_brain/CSHL_databases/MD594/278.db\n",
      "download: s3://mousebrainatlas-data/CSHL_databases/MD594/279.db to ../../../BstemAtlasDataBackup/ucsd_brain/CSHL_databases/MD594/279.db\n",
      "download: s3://mousebrainatlas-data/CSHL_databases/MD594/280.db to ../../../BstemAtlasDataBackup/ucsd_brain/CSHL_databases/MD594/280.db\n",
      "download: s3://mousebrainatlas-data/CSHL_databases/MD594/281.db to ../../../BstemAtlasDataBackup/ucsd_brain/CSHL_databases/MD594/281.db\n",
      "download: s3://mousebrainatlas-data/CSHL_databases/MD594/283.db to ../../../BstemAtlasDataBackup/ucsd_brain/CSHL_databases/MD594/283.db\n",
      "download: s3://mousebrainatlas-data/CSHL_databases/MD594/282.db to ../../../BstemAtlasDataBackup/ucsd_brain/CSHL_databases/MD594/282.db\n",
      "download: s3://mousebrainatlas-data/CSHL_databases/MD594/277.db to ../../../BstemAtlasDataBackup/ucsd_brain/CSHL_databases/MD594/277.db\n",
      "download: s3://mousebrainatlas-data/CSHL_databases/MD594/284.db to ../../../BstemAtlasDataBackup/ucsd_brain/CSHL_databases/MD594/284.db\n",
      "download: s3://mousebrainatlas-data/CSHL_databases/MD594/285.db to ../../../BstemAtlasDataBackup/ucsd_brain/CSHL_databases/MD594/285.db\n",
      "download: s3://mousebrainatlas-data/CSHL_databases/MD594/286.db to ../../../BstemAtlasDataBackup/ucsd_brain/CSHL_databases/MD594/286.db\n",
      "download: s3://mousebrainatlas-data/CSHL_databases/MD594/287.db to ../../../BstemAtlasDataBackup/ucsd_brain/CSHL_databases/MD594/287.db\n",
      "download: s3://mousebrainatlas-data/CSHL_databases/MD594/288.db to ../../../BstemAtlasDataBackup/ucsd_brain/CSHL_databases/MD594/288.db\n",
      "download: s3://mousebrainatlas-data/CSHL_databases/MD594/289.db to ../../../BstemAtlasDataBackup/ucsd_brain/CSHL_databases/MD594/289.db\n",
      "download: s3://mousebrainatlas-data/CSHL_databases/MD594/290.db to ../../../BstemAtlasDataBackup/ucsd_brain/CSHL_databases/MD594/290.db\n",
      "download: s3://mousebrainatlas-data/CSHL_databases/MD594/291.db to ../../../BstemAtlasDataBackup/ucsd_brain/CSHL_databases/MD594/291.db\n",
      "download: s3://mousebrainatlas-data/CSHL_databases/MD594/292.db to ../../../BstemAtlasDataBackup/ucsd_brain/CSHL_databases/MD594/292.db\n",
      "download: s3://mousebrainatlas-data/CSHL_databases/MD594/293.db to ../../../BstemAtlasDataBackup/ucsd_brain/CSHL_databases/MD594/293.db\n",
      "download: s3://mousebrainatlas-data/CSHL_databases/MD594/295.db to ../../../BstemAtlasDataBackup/ucsd_brain/CSHL_databases/MD594/295.db\n",
      "download: s3://mousebrainatlas-data/CSHL_databases/MD594/294.db to ../../../BstemAtlasDataBackup/ucsd_brain/CSHL_databases/MD594/294.db\n",
      "download: s3://mousebrainatlas-data/CSHL_databases/MD594/296.db to ../../../BstemAtlasDataBackup/ucsd_brain/CSHL_databases/MD594/296.db\n",
      "download: s3://mousebrainatlas-data/CSHL_databases/MD594/298.db to ../../../BstemAtlasDataBackup/ucsd_brain/CSHL_databases/MD594/298.db\n",
      "download: s3://mousebrainatlas-data/CSHL_databases/MD594/297.db to ../../../BstemAtlasDataBackup/ucsd_brain/CSHL_databases/MD594/297.db\n",
      "download: s3://mousebrainatlas-data/CSHL_databases/MD594/301.db to ../../../BstemAtlasDataBackup/ucsd_brain/CSHL_databases/MD594/301.db\n",
      "download: s3://mousebrainatlas-data/CSHL_databases/MD594/299.db to ../../../BstemAtlasDataBackup/ucsd_brain/CSHL_databases/MD594/299.db\n",
      "download: s3://mousebrainatlas-data/CSHL_databases/MD594/300.db to ../../../BstemAtlasDataBackup/ucsd_brain/CSHL_databases/MD594/300.db\n",
      "download: s3://mousebrainatlas-data/CSHL_databases/MD594/302.db to ../../../BstemAtlasDataBackup/ucsd_brain/CSHL_databases/MD594/302.db\n",
      "download: s3://mousebrainatlas-data/CSHL_databases/MD594/306.db to ../../../BstemAtlasDataBackup/ucsd_brain/CSHL_databases/MD594/306.db\n",
      "download: s3://mousebrainatlas-data/CSHL_databases/MD594/303.db to ../../../BstemAtlasDataBackup/ucsd_brain/CSHL_databases/MD594/303.db\n",
      "download: s3://mousebrainatlas-data/CSHL_databases/MD594/308.db to ../../../BstemAtlasDataBackup/ucsd_brain/CSHL_databases/MD594/308.db\n",
      "download: s3://mousebrainatlas-data/CSHL_databases/MD594/305.db to ../../../BstemAtlasDataBackup/ucsd_brain/CSHL_databases/MD594/305.db\n",
      "download: s3://mousebrainatlas-data/CSHL_databases/MD594/309.db to ../../../BstemAtlasDataBackup/ucsd_brain/CSHL_databases/MD594/309.db\n",
      "download: s3://mousebrainatlas-data/CSHL_databases/MD594/310.db to ../../../BstemAtlasDataBackup/ucsd_brain/CSHL_databases/MD594/310.db\n",
      "download: s3://mousebrainatlas-data/CSHL_databases/MD594/307.db to ../../../BstemAtlasDataBackup/ucsd_brain/CSHL_databases/MD594/307.db\n",
      "download: s3://mousebrainatlas-data/CSHL_databases/MD594/304.db to ../../../BstemAtlasDataBackup/ucsd_brain/CSHL_databases/MD594/304.db\n",
      "download: s3://mousebrainatlas-data/CSHL_databases/MD594/312.db to ../../../BstemAtlasDataBackup/ucsd_brain/CSHL_databases/MD594/312.db\n",
      "download: s3://mousebrainatlas-data/CSHL_databases/MD594/313.db to ../../../BstemAtlasDataBackup/ucsd_brain/CSHL_databases/MD594/313.db\n",
      "download: s3://mousebrainatlas-data/CSHL_databases/MD594/265.db to ../../../BstemAtlasDataBackup/ucsd_brain/CSHL_databases/MD594/265.db\n",
      "download: s3://mousebrainatlas-data/CSHL_databases/MD594/314.db to ../../../BstemAtlasDataBackup/ucsd_brain/CSHL_databases/MD594/314.db\n",
      "download: s3://mousebrainatlas-data/CSHL_databases/MD594/317.db to ../../../BstemAtlasDataBackup/ucsd_brain/CSHL_databases/MD594/317.db\n",
      "download: s3://mousebrainatlas-data/CSHL_databases/MD594/315.db to ../../../BstemAtlasDataBackup/ucsd_brain/CSHL_databases/MD594/315.db\n",
      "download: s3://mousebrainatlas-data/CSHL_databases/MD594/266.db to ../../../BstemAtlasDataBackup/ucsd_brain/CSHL_databases/MD594/266.db\n",
      "download: s3://mousebrainatlas-data/CSHL_databases/MD594/316.db to ../../../BstemAtlasDataBackup/ucsd_brain/CSHL_databases/MD594/316.db\n",
      "download: s3://mousebrainatlas-data/CSHL_databases/MD594/318.db to ../../../BstemAtlasDataBackup/ucsd_brain/CSHL_databases/MD594/318.db\n",
      "download: s3://mousebrainatlas-data/CSHL_databases/MD594/311.db to ../../../BstemAtlasDataBackup/ucsd_brain/CSHL_databases/MD594/311.db\n",
      "download: s3://mousebrainatlas-data/CSHL_databases/MD594/319.db to ../../../BstemAtlasDataBackup/ucsd_brain/CSHL_databases/MD594/319.db\n",
      "download: s3://mousebrainatlas-data/CSHL_databases/MD594/322.db to ../../../BstemAtlasDataBackup/ucsd_brain/CSHL_databases/MD594/322.db\n",
      "download: s3://mousebrainatlas-data/CSHL_databases/MD594/323.db to ../../../BstemAtlasDataBackup/ucsd_brain/CSHL_databases/MD594/323.db\n",
      "download: s3://mousebrainatlas-data/CSHL_databases/MD594/325.db to ../../../BstemAtlasDataBackup/ucsd_brain/CSHL_databases/MD594/325.db\n",
      "download: s3://mousebrainatlas-data/CSHL_databases/MD594/324.db to ../../../BstemAtlasDataBackup/ucsd_brain/CSHL_databases/MD594/324.db\n",
      "download: s3://mousebrainatlas-data/CSHL_databases/MD594/326.db to ../../../BstemAtlasDataBackup/ucsd_brain/CSHL_databases/MD594/326.db\n",
      "download: s3://mousebrainatlas-data/CSHL_databases/MD594/327.db to ../../../BstemAtlasDataBackup/ucsd_brain/CSHL_databases/MD594/327.db\n",
      "download: s3://mousebrainatlas-data/CSHL_databases/MD594/320.db to ../../../BstemAtlasDataBackup/ucsd_brain/CSHL_databases/MD594/320.db\n",
      "download: s3://mousebrainatlas-data/CSHL_databases/MD594/330.db to ../../../BstemAtlasDataBackup/ucsd_brain/CSHL_databases/MD594/330.db\n",
      "download: s3://mousebrainatlas-data/CSHL_databases/MD594/331.db to ../../../BstemAtlasDataBackup/ucsd_brain/CSHL_databases/MD594/331.db\n",
      "download: s3://mousebrainatlas-data/CSHL_databases/MD594/332.db to ../../../BstemAtlasDataBackup/ucsd_brain/CSHL_databases/MD594/332.db\n",
      "download: s3://mousebrainatlas-data/CSHL_databases/MD594/335.db to ../../../BstemAtlasDataBackup/ucsd_brain/CSHL_databases/MD594/335.db\n",
      "download: s3://mousebrainatlas-data/CSHL_databases/MD594/321.db to ../../../BstemAtlasDataBackup/ucsd_brain/CSHL_databases/MD594/321.db\n",
      "download: s3://mousebrainatlas-data/CSHL_databases/MD594/336.db to ../../../BstemAtlasDataBackup/ucsd_brain/CSHL_databases/MD594/336.db\n",
      "download: s3://mousebrainatlas-data/CSHL_databases/MD594/337.db to ../../../BstemAtlasDataBackup/ucsd_brain/CSHL_databases/MD594/337.db\n",
      "download: s3://mousebrainatlas-data/CSHL_databases/MD594/338.db to ../../../BstemAtlasDataBackup/ucsd_brain/CSHL_databases/MD594/338.db\n",
      "download: s3://mousebrainatlas-data/CSHL_databases/MD594/340.db to ../../../BstemAtlasDataBackup/ucsd_brain/CSHL_databases/MD594/340.db\n",
      "download: s3://mousebrainatlas-data/CSHL_databases/MD594/329.db to ../../../BstemAtlasDataBackup/ucsd_brain/CSHL_databases/MD594/329.db\n",
      "download: s3://mousebrainatlas-data/CSHL_databases/MD594/342.db to ../../../BstemAtlasDataBackup/ucsd_brain/CSHL_databases/MD594/342.db\n",
      "download: s3://mousebrainatlas-data/CSHL_databases/MD594/339.db to ../../../BstemAtlasDataBackup/ucsd_brain/CSHL_databases/MD594/339.db\n",
      "download: s3://mousebrainatlas-data/CSHL_databases/MD594/333.db to ../../../BstemAtlasDataBackup/ucsd_brain/CSHL_databases/MD594/333.db\n",
      "download: s3://mousebrainatlas-data/CSHL_databases/MD594/334.db to ../../../BstemAtlasDataBackup/ucsd_brain/CSHL_databases/MD594/334.db\n",
      "download: s3://mousebrainatlas-data/CSHL_databases/MD594/343.db to ../../../BstemAtlasDataBackup/ucsd_brain/CSHL_databases/MD594/343.db\n",
      "download: s3://mousebrainatlas-data/CSHL_databases/MD594/346.db to ../../../BstemAtlasDataBackup/ucsd_brain/CSHL_databases/MD594/346.db\n",
      "download: s3://mousebrainatlas-data/CSHL_databases/MD594/344.db to ../../../BstemAtlasDataBackup/ucsd_brain/CSHL_databases/MD594/344.db\n",
      "download: s3://mousebrainatlas-data/CSHL_databases/MD594/345.db to ../../../BstemAtlasDataBackup/ucsd_brain/CSHL_databases/MD594/345.db\n"
     ]
    },
    {
     "name": "stdout",
     "output_type": "stream",
     "text": [
      "download: s3://mousebrainatlas-data/CSHL_databases/MD594/328.db to ../../../BstemAtlasDataBackup/ucsd_brain/CSHL_databases/MD594/328.db\n",
      "download: s3://mousebrainatlas-data/CSHL_databases/MD594/347.db to ../../../BstemAtlasDataBackup/ucsd_brain/CSHL_databases/MD594/347.db\n",
      "download: s3://mousebrainatlas-data/CSHL_databases/MD594/349.db to ../../../BstemAtlasDataBackup/ucsd_brain/CSHL_databases/MD594/349.db\n",
      "download: s3://mousebrainatlas-data/CSHL_databases/MD594/350.db to ../../../BstemAtlasDataBackup/ucsd_brain/CSHL_databases/MD594/350.db\n",
      "download: s3://mousebrainatlas-data/CSHL_databases/MD594/348.db to ../../../BstemAtlasDataBackup/ucsd_brain/CSHL_databases/MD594/348.db\n",
      "download: s3://mousebrainatlas-data/CSHL_databases/MD594/354.db to ../../../BstemAtlasDataBackup/ucsd_brain/CSHL_databases/MD594/354.db\n",
      "download: s3://mousebrainatlas-data/CSHL_databases/MD594/351.db to ../../../BstemAtlasDataBackup/ucsd_brain/CSHL_databases/MD594/351.db\n",
      "download: s3://mousebrainatlas-data/CSHL_databases/MD594/353.db to ../../../BstemAtlasDataBackup/ucsd_brain/CSHL_databases/MD594/353.db\n",
      "download: s3://mousebrainatlas-data/CSHL_databases/MD594/356.db to ../../../BstemAtlasDataBackup/ucsd_brain/CSHL_databases/MD594/356.db\n",
      "download: s3://mousebrainatlas-data/CSHL_databases/MD594/352.db to ../../../BstemAtlasDataBackup/ucsd_brain/CSHL_databases/MD594/352.db\n",
      "download: s3://mousebrainatlas-data/CSHL_databases/MD594/358.db to ../../../BstemAtlasDataBackup/ucsd_brain/CSHL_databases/MD594/358.db\n",
      "download: s3://mousebrainatlas-data/CSHL_databases/MD594/357.db to ../../../BstemAtlasDataBackup/ucsd_brain/CSHL_databases/MD594/357.db\n",
      "download: s3://mousebrainatlas-data/CSHL_databases/MD594/360.db to ../../../BstemAtlasDataBackup/ucsd_brain/CSHL_databases/MD594/360.db\n",
      "download: s3://mousebrainatlas-data/CSHL_databases/MD594/359.db to ../../../BstemAtlasDataBackup/ucsd_brain/CSHL_databases/MD594/359.db\n",
      "download: s3://mousebrainatlas-data/CSHL_databases/MD594/362.db to ../../../BstemAtlasDataBackup/ucsd_brain/CSHL_databases/MD594/362.db\n",
      "download: s3://mousebrainatlas-data/CSHL_databases/MD594/363.db to ../../../BstemAtlasDataBackup/ucsd_brain/CSHL_databases/MD594/363.db\n",
      "download: s3://mousebrainatlas-data/CSHL_databases/MD594/361.db to ../../../BstemAtlasDataBackup/ucsd_brain/CSHL_databases/MD594/361.db\n",
      "download: s3://mousebrainatlas-data/CSHL_databases/MD594/96.db to ../../../BstemAtlasDataBackup/ucsd_brain/CSHL_databases/MD594/96.db\n",
      "download: s3://mousebrainatlas-data/CSHL_databases/MD594/97.db to ../../../BstemAtlasDataBackup/ucsd_brain/CSHL_databases/MD594/97.db\n",
      "download: s3://mousebrainatlas-data/CSHL_databases/MD594/95.db to ../../../BstemAtlasDataBackup/ucsd_brain/CSHL_databases/MD594/95.db\n",
      "download: s3://mousebrainatlas-data/CSHL_databases/MD594/94.db to ../../../BstemAtlasDataBackup/ucsd_brain/CSHL_databases/MD594/94.db\n",
      "download: s3://mousebrainatlas-data/CSHL_databases/MD594/99.db to ../../../BstemAtlasDataBackup/ucsd_brain/CSHL_databases/MD594/99.db\n",
      "download: s3://mousebrainatlas-data/CSHL_databases/MD594/355.db to ../../../BstemAtlasDataBackup/ucsd_brain/CSHL_databases/MD594/355.db\n",
      "download: s3://mousebrainatlas-data/CSHL_databases/MD594/98.db to ../../../BstemAtlasDataBackup/ucsd_brain/CSHL_databases/MD594/98.db\n"
     ]
    }
   ],
   "source": [
    "setup_download_from_s3('CSHL_databases/MD594/')"
   ]
  },
  {
   "cell_type": "code",
   "execution_count": 6,
   "metadata": {},
   "outputs": [],
   "source": [
    "section = 200\n",
    "conn = sqlite3.connect(db_dir+str(section)+'.db')\n",
    "cur = conn.cursor()"
   ]
  },
  {
   "cell_type": "code",
   "execution_count": 31,
   "metadata": {},
   "outputs": [
    {
     "name": "stdout",
     "output_type": "stream",
     "text": [
      "15025\n",
      "CPU times: user 96.6 ms, sys: 14.5 ms, total: 111 ms\n",
      "Wall time: 115 ms\n"
     ]
    }
   ],
   "source": [
    "%%time\n",
    "raws = cur.execute('SELECT * FROM features WHERE x >= 1000 AND x <= 5000 AND y >= 1000 AND y<= 5000')\n",
    "print(len(list(raws)))"
   ]
  },
  {
   "cell_type": "code",
   "execution_count": 30,
   "metadata": {},
   "outputs": [
    {
     "data": {
      "text/plain": [
       "0.007105459985041137"
      ]
     },
     "execution_count": 30,
     "metadata": {},
     "output_type": "execute_result"
    }
   ],
   "source": [
    "133/18718"
   ]
  },
  {
   "cell_type": "code",
   "execution_count": 24,
   "metadata": {},
   "outputs": [
    {
     "data": {
      "text/plain": [
       "876"
      ]
     },
     "execution_count": 24,
     "metadata": {},
     "output_type": "execute_result"
    }
   ],
   "source": [
    "len(a)"
   ]
  },
  {
   "cell_type": "code",
   "execution_count": 9,
   "metadata": {},
   "outputs": [
    {
     "name": "stdout",
     "output_type": "stream",
     "text": [
      "(200, 3084, 3014, 2.8063508317196137, 0.41663084002137835, -0.6087435827140384, -1.005744267317436, -0.035277336306381454, 0.38430734506368236, -0.9194480777374305, 0.1343451179478285, 0.8817521485524208, 0.44530176867276117, 11, 5, 0.7649733699239392, 0.21487603305785125, 15, 31.181339789411567, 51.68344327324016, 0.8352424458262901, 1.042365442947645, 4)\n",
      "(200, 3084, 3020, 2.242259712337181, 0.24233601946283329, -1.7525435972118415, -0.30743426179201044, -0.6578714578770994, 0.7442296623715077, -0.23504383743867563, 0.3777217744777256, 1.182018537070366, -0.21215585059813824, 13, 4, 0.6021847415896182, 0.5867768595041323, 15, -89.55726869737848, 258.8235294115173, 2.126843085935535, 1.1115166003914925, 6)\n",
      "(200, 3057, 3038, 1.6757686229341842, 0.4679210433155536, -2.2619015264772737, 1.0768099877578414, 0.3709032258652196, 0.5657124818271475, -0.2788961368576143, 0.26751960463925567, -0.993407575341686, -0.8217357053167456, 15, 5, 0.7925142029197664, 0.9504132231404959, 15, -49.05287898442597, 377.7672243499598, 3.3025190477348643, 1.2136177251996858, 5)\n",
      "(200, 3021, 3055, -1.4834380758355175, 0.18018399387560516, 1.5475451121222887, -0.9025925862464386, -0.11731052358235412, 1.0569026718726777, 0.5693575532462625, -0.32584750005148083, -0.02538241591399977, 0.3649199111994662, 371, 21, 2.838495768117038, 8.765930862140774, 51, 63.9598324573164, 6717.794217171, 23.96539269705206, 8.014073626715442, 35)\n",
      "(200, 3081, 3058, 3.8871188942851114, -0.9029615870912903, -1.3752987615430439, 1.4865374171659813, -1.3160205695688676, 1.6069446047027447, 1.7056755356782993, 0.06995465930985924, 0.7942627215997864, 0.011401136655122546, 148, 13, 2.249213663486287, 8.059453032104637, 51, 89.01612584043137, 3040.6912390674206, 21.93919354160762, 3.846104950218526, 19)\n",
      "(200, 3032, 3079, 4.833105965244266, -2.83555903718296, -1.4525380477517145, 0.03253082688420824, 0.2448339795047214, 3.0435979734656797, -0.8637207619444724, -0.05528653519266672, 0.5921440341397806, -0.07091741677502382, 62, 8, 1.59854725673108, 12.418685121107266, 51, -86.90435291120014, 1113.1739002322363, 28.012005526816804, 2.2573824069502084, 10)\n"
     ]
    }
   ],
   "source": [
    "n = 0\n",
    "for raw in raws:\n",
    "    print(raw)"
   ]
  },
  {
   "cell_type": "code",
   "execution_count": 3,
   "metadata": {},
   "outputs": [],
   "source": [
    "import bloscpack"
   ]
  },
  {
   "cell_type": "code",
   "execution_count": 9,
   "metadata": {},
   "outputs": [
    {
     "name": "stdout",
     "output_type": "stream",
     "text": [
      "Completed 20.2 KiB/20.2 KiB (81.2 KiB/s) with 1 file(s) remaining\r",
      "download: s3://mousebrainatlas-data/CSHL_data_processed/MD635/MD635_sorted_filenames.txt to ../../../BstemAtlasDataBackup/ucsd_brain/CSHL_data_processed/MD635/MD635_sorted_filenames.txt\r\n"
     ]
    }
   ],
   "source": [
    "stack = 'MD635'\n",
    "fp = os.path.join('CSHL_data_processed', stack, stack + '_sorted_filenames.txt')\n",
    "setup_download_from_s3(fp, recursive=False)\n",
    "with open(os.environ['ROOT_DIR']+fp, 'r') as f:\n",
    "    fn_idx_tuples = [line.strip().split() for line in f.readlines()]\n",
    "    section_to_filename = {int(idx): fn for fn, idx in fn_idx_tuples}"
   ]
  },
  {
   "cell_type": "code",
   "execution_count": 10,
   "metadata": {},
   "outputs": [
    {
     "name": "stdout",
     "output_type": "stream",
     "text": [
      "CSHL_scoremaps/down8/MD635/MD635_prep2_down8_detector1/MD635-F74-2016.05.19-12.15.18_MD635_1_0220_prep2_down8_detector1/\n",
      "download: s3://mousebrainatlas-data/CSHL_scoremaps/down8/MD635/MD635_prep2_down8_detector1/MD635-F74-2016.05.19-12.15.18_MD635_1_0220_prep2_down8_detector1/MD635-F74-2016.05.19-12.15.18_MD635_1_0220_prep2_down8_detector1_7N_scoremap.bp to ../../../BstemAtlasDataBackup/ucsd_brain/CSHL_scoremaps/down8/MD635/MD635_prep2_down8_detector1/MD635-F74-2016.05.19-12.15.18_MD635_1_0220_prep2_down8_detector1/MD635-F74-2016.05.19-12.15.18_MD635_1_0220_prep2_down8_detector1_7N_scoremap.bp\n",
      "download: s3://mousebrainatlas-data/CSHL_scoremaps/down8/MD635/MD635_prep2_down8_detector1/MD635-F74-2016.05.19-12.15.18_MD635_1_0220_prep2_down8_detector1/MD635-F74-2016.05.19-12.15.18_MD635_1_0220_prep2_down8_detector1_AP_scoremap.bp to ../../../BstemAtlasDataBackup/ucsd_brain/CSHL_scoremaps/down8/MD635/MD635_prep2_down8_detector1/MD635-F74-2016.05.19-12.15.18_MD635_1_0220_prep2_down8_detector1/MD635-F74-2016.05.19-12.15.18_MD635_1_0220_prep2_down8_detector1_AP_scoremap.bp\n",
      "download: s3://mousebrainatlas-data/CSHL_scoremaps/down8/MD635/MD635_prep2_down8_detector1/MD635-F74-2016.05.19-12.15.18_MD635_1_0220_prep2_down8_detector1/MD635-F74-2016.05.19-12.15.18_MD635_1_0220_prep2_down8_detector1_Amb_scoremap.bp to ../../../BstemAtlasDataBackup/ucsd_brain/CSHL_scoremaps/down8/MD635/MD635_prep2_down8_detector1/MD635-F74-2016.05.19-12.15.18_MD635_1_0220_prep2_down8_detector1/MD635-F74-2016.05.19-12.15.18_MD635_1_0220_prep2_down8_detector1_Amb_scoremap.bp\n",
      "download: s3://mousebrainatlas-data/CSHL_scoremaps/down8/MD635/MD635_prep2_down8_detector1/MD635-F74-2016.05.19-12.15.18_MD635_1_0220_prep2_down8_detector1/MD635-F74-2016.05.19-12.15.18_MD635_1_0220_prep2_down8_detector1_3N_scoremap.bp to ../../../BstemAtlasDataBackup/ucsd_brain/CSHL_scoremaps/down8/MD635/MD635_prep2_down8_detector1/MD635-F74-2016.05.19-12.15.18_MD635_1_0220_prep2_down8_detector1/MD635-F74-2016.05.19-12.15.18_MD635_1_0220_prep2_down8_detector1_3N_scoremap.bp\n",
      "download: s3://mousebrainatlas-data/CSHL_scoremaps/down8/MD635/MD635_prep2_down8_detector1/MD635-F74-2016.05.19-12.15.18_MD635_1_0220_prep2_down8_detector1/MD635-F74-2016.05.19-12.15.18_MD635_1_0220_prep2_down8_detector1_10N_scoremap.bp to ../../../BstemAtlasDataBackup/ucsd_brain/CSHL_scoremaps/down8/MD635/MD635_prep2_down8_detector1/MD635-F74-2016.05.19-12.15.18_MD635_1_0220_prep2_down8_detector1/MD635-F74-2016.05.19-12.15.18_MD635_1_0220_prep2_down8_detector1_10N_scoremap.bp\n",
      "download: s3://mousebrainatlas-data/CSHL_scoremaps/down8/MD635/MD635_prep2_down8_detector1/MD635-F74-2016.05.19-12.15.18_MD635_1_0220_prep2_down8_detector1/MD635-F74-2016.05.19-12.15.18_MD635_1_0220_prep2_down8_detector1_6N_scoremap.bp to ../../../BstemAtlasDataBackup/ucsd_brain/CSHL_scoremaps/down8/MD635/MD635_prep2_down8_detector1/MD635-F74-2016.05.19-12.15.18_MD635_1_0220_prep2_down8_detector1/MD635-F74-2016.05.19-12.15.18_MD635_1_0220_prep2_down8_detector1_6N_scoremap.bp\n",
      "download: s3://mousebrainatlas-data/CSHL_scoremaps/down8/MD635/MD635_prep2_down8_detector1/MD635-F74-2016.05.19-12.15.18_MD635_1_0220_prep2_down8_detector1/MD635-F74-2016.05.19-12.15.18_MD635_1_0220_prep2_down8_detector1_7n_scoremap.bp to ../../../BstemAtlasDataBackup/ucsd_brain/CSHL_scoremaps/down8/MD635/MD635_prep2_down8_detector1/MD635-F74-2016.05.19-12.15.18_MD635_1_0220_prep2_down8_detector1/MD635-F74-2016.05.19-12.15.18_MD635_1_0220_prep2_down8_detector1_7n_scoremap.bp\n",
      "download: s3://mousebrainatlas-data/CSHL_scoremaps/down8/MD635/MD635_prep2_down8_detector1/MD635-F74-2016.05.19-12.15.18_MD635_1_0220_prep2_down8_detector1/MD635-F74-2016.05.19-12.15.18_MD635_1_0220_prep2_down8_detector1_12N_scoremap.bp to ../../../BstemAtlasDataBackup/ucsd_brain/CSHL_scoremaps/down8/MD635/MD635_prep2_down8_detector1/MD635-F74-2016.05.19-12.15.18_MD635_1_0220_prep2_down8_detector1/MD635-F74-2016.05.19-12.15.18_MD635_1_0220_prep2_down8_detector1_12N_scoremap.bp\n",
      "download: s3://mousebrainatlas-data/CSHL_scoremaps/down8/MD635/MD635_prep2_down8_detector1/MD635-F74-2016.05.19-12.15.18_MD635_1_0220_prep2_down8_detector1/MD635-F74-2016.05.19-12.15.18_MD635_1_0220_prep2_down8_detector1_LC_scoremap.bp to ../../../BstemAtlasDataBackup/ucsd_brain/CSHL_scoremaps/down8/MD635/MD635_prep2_down8_detector1/MD635-F74-2016.05.19-12.15.18_MD635_1_0220_prep2_down8_detector1/MD635-F74-2016.05.19-12.15.18_MD635_1_0220_prep2_down8_detector1_LC_scoremap.bp\n",
      "download: s3://mousebrainatlas-data/CSHL_scoremaps/down8/MD635/MD635_prep2_down8_detector1/MD635-F74-2016.05.19-12.15.18_MD635_1_0220_prep2_down8_detector1/MD635-F74-2016.05.19-12.15.18_MD635_1_0220_prep2_down8_detector1_PBG_scoremap.bp to ../../../BstemAtlasDataBackup/ucsd_brain/CSHL_scoremaps/down8/MD635/MD635_prep2_down8_detector1/MD635-F74-2016.05.19-12.15.18_MD635_1_0220_prep2_down8_detector1/MD635-F74-2016.05.19-12.15.18_MD635_1_0220_prep2_down8_detector1_PBG_scoremap.bp\n",
      "download: s3://mousebrainatlas-data/CSHL_scoremaps/down8/MD635/MD635_prep2_down8_detector1/MD635-F74-2016.05.19-12.15.18_MD635_1_0220_prep2_down8_detector1/MD635-F74-2016.05.19-12.15.18_MD635_1_0220_prep2_down8_detector1_IC_scoremap.bp to ../../../BstemAtlasDataBackup/ucsd_brain/CSHL_scoremaps/down8/MD635/MD635_prep2_down8_detector1/MD635-F74-2016.05.19-12.15.18_MD635_1_0220_prep2_down8_detector1/MD635-F74-2016.05.19-12.15.18_MD635_1_0220_prep2_down8_detector1_IC_scoremap.bp\n",
      "download: s3://mousebrainatlas-data/CSHL_scoremaps/down8/MD635/MD635_prep2_down8_detector1/MD635-F74-2016.05.19-12.15.18_MD635_1_0220_prep2_down8_detector1/MD635-F74-2016.05.19-12.15.18_MD635_1_0220_prep2_down8_detector1_SC_scoremap.bp to ../../../BstemAtlasDataBackup/ucsd_brain/CSHL_scoremaps/down8/MD635/MD635_prep2_down8_detector1/MD635-F74-2016.05.19-12.15.18_MD635_1_0220_prep2_down8_detector1/MD635-F74-2016.05.19-12.15.18_MD635_1_0220_prep2_down8_detector1_SC_scoremap.bp\n",
      "download: s3://mousebrainatlas-data/CSHL_scoremaps/down8/MD635/MD635_prep2_down8_detector1/MD635-F74-2016.05.19-12.15.18_MD635_1_0220_prep2_down8_detector1/MD635-F74-2016.05.19-12.15.18_MD635_1_0220_prep2_down8_detector1_LRt_scoremap.bp to ../../../BstemAtlasDataBackup/ucsd_brain/CSHL_scoremaps/down8/MD635/MD635_prep2_down8_detector1/MD635-F74-2016.05.19-12.15.18_MD635_1_0220_prep2_down8_detector1/MD635-F74-2016.05.19-12.15.18_MD635_1_0220_prep2_down8_detector1_LRt_scoremap.bp\n",
      "download: s3://mousebrainatlas-data/CSHL_scoremaps/down8/MD635/MD635_prep2_down8_detector1/MD635-F74-2016.05.19-12.15.18_MD635_1_0220_prep2_down8_detector1/MD635-F74-2016.05.19-12.15.18_MD635_1_0220_prep2_down8_detector1_RMC_scoremap.bp to ../../../BstemAtlasDataBackup/ucsd_brain/CSHL_scoremaps/down8/MD635/MD635_prep2_down8_detector1/MD635-F74-2016.05.19-12.15.18_MD635_1_0220_prep2_down8_detector1/MD635-F74-2016.05.19-12.15.18_MD635_1_0220_prep2_down8_detector1_RMC_scoremap.bp\n",
      "download: s3://mousebrainatlas-data/CSHL_scoremaps/down8/MD635/MD635_prep2_down8_detector1/MD635-F74-2016.05.19-12.15.18_MD635_1_0220_prep2_down8_detector1/MD635-F74-2016.05.19-12.15.18_MD635_1_0220_prep2_down8_detector1_Sp5C_scoremap.bp to ../../../BstemAtlasDataBackup/ucsd_brain/CSHL_scoremaps/down8/MD635/MD635_prep2_down8_detector1/MD635-F74-2016.05.19-12.15.18_MD635_1_0220_prep2_down8_detector1/MD635-F74-2016.05.19-12.15.18_MD635_1_0220_prep2_down8_detector1_Sp5C_scoremap.bp\n",
      "download: s3://mousebrainatlas-data/CSHL_scoremaps/down8/MD635/MD635_prep2_down8_detector1/MD635-F74-2016.05.19-12.15.18_MD635_1_0220_prep2_down8_detector1/MD635-F74-2016.05.19-12.15.18_MD635_1_0220_prep2_down8_detector1_SNR_scoremap.bp to ../../../BstemAtlasDataBackup/ucsd_brain/CSHL_scoremaps/down8/MD635/MD635_prep2_down8_detector1/MD635-F74-2016.05.19-12.15.18_MD635_1_0220_prep2_down8_detector1/MD635-F74-2016.05.19-12.15.18_MD635_1_0220_prep2_down8_detector1_SNR_scoremap.bp\n",
      "download: s3://mousebrainatlas-data/CSHL_scoremaps/down8/MD635/MD635_prep2_down8_detector1/MD635-F74-2016.05.19-12.15.18_MD635_1_0220_prep2_down8_detector1/MD635-F74-2016.05.19-12.15.18_MD635_1_0220_prep2_down8_detector1_RtTg_scoremap.bp to ../../../BstemAtlasDataBackup/ucsd_brain/CSHL_scoremaps/down8/MD635/MD635_prep2_down8_detector1/MD635-F74-2016.05.19-12.15.18_MD635_1_0220_prep2_down8_detector1/MD635-F74-2016.05.19-12.15.18_MD635_1_0220_prep2_down8_detector1_RtTg_scoremap.bp\n"
     ]
    },
    {
     "name": "stdout",
     "output_type": "stream",
     "text": [
      "download: s3://mousebrainatlas-data/CSHL_scoremaps/down8/MD635/MD635_prep2_down8_detector1/MD635-F74-2016.05.19-12.15.18_MD635_1_0220_prep2_down8_detector1/MD635-F74-2016.05.19-12.15.18_MD635_1_0220_prep2_down8_detector1_VCA_scoremap.bp to ../../../BstemAtlasDataBackup/ucsd_brain/CSHL_scoremaps/down8/MD635/MD635_prep2_down8_detector1/MD635-F74-2016.05.19-12.15.18_MD635_1_0220_prep2_down8_detector1/MD635-F74-2016.05.19-12.15.18_MD635_1_0220_prep2_down8_detector1_VCA_scoremap.bp\n",
      "download: s3://mousebrainatlas-data/CSHL_scoremaps/down8/MD635/MD635_prep2_down8_detector1/MD635-F74-2016.05.19-12.15.18_MD635_1_0220_prep2_down8_detector1/MD635-F74-2016.05.19-12.15.18_MD635_1_0220_prep2_down8_detector1_Tz_scoremap.bp to ../../../BstemAtlasDataBackup/ucsd_brain/CSHL_scoremaps/down8/MD635/MD635_prep2_down8_detector1/MD635-F74-2016.05.19-12.15.18_MD635_1_0220_prep2_down8_detector1/MD635-F74-2016.05.19-12.15.18_MD635_1_0220_prep2_down8_detector1_Tz_scoremap.bp\n",
      "download: s3://mousebrainatlas-data/CSHL_scoremaps/down8/MD635/MD635_prep2_down8_detector1/MD635-F74-2016.05.19-12.15.18_MD635_1_0220_prep2_down8_detector1/MD635-F74-2016.05.19-12.15.18_MD635_1_0220_prep2_down8_detector1_Sp5O_scoremap.bp to ../../../BstemAtlasDataBackup/ucsd_brain/CSHL_scoremaps/down8/MD635/MD635_prep2_down8_detector1/MD635-F74-2016.05.19-12.15.18_MD635_1_0220_prep2_down8_detector1/MD635-F74-2016.05.19-12.15.18_MD635_1_0220_prep2_down8_detector1_Sp5O_scoremap.bp\n",
      "download: s3://mousebrainatlas-data/CSHL_scoremaps/down8/MD635/MD635_prep2_down8_detector1/MD635-F74-2016.05.19-12.15.18_MD635_1_0220_prep2_down8_detector1/MD635-F74-2016.05.19-12.15.18_MD635_1_0220_prep2_down8_detector1_VLL_scoremap.bp to ../../../BstemAtlasDataBackup/ucsd_brain/CSHL_scoremaps/down8/MD635/MD635_prep2_down8_detector1/MD635-F74-2016.05.19-12.15.18_MD635_1_0220_prep2_down8_detector1/MD635-F74-2016.05.19-12.15.18_MD635_1_0220_prep2_down8_detector1_VLL_scoremap.bp\n",
      "download: s3://mousebrainatlas-data/CSHL_scoremaps/down8/MD635/MD635_prep2_down8_detector1/MD635-F74-2016.05.19-12.15.18_MD635_1_0220_prep2_down8_detector1/MD635-F74-2016.05.19-12.15.18_MD635_1_0220_prep2_down8_detector1_Pn_scoremap.bp to ../../../BstemAtlasDataBackup/ucsd_brain/CSHL_scoremaps/down8/MD635/MD635_prep2_down8_detector1/MD635-F74-2016.05.19-12.15.18_MD635_1_0220_prep2_down8_detector1/MD635-F74-2016.05.19-12.15.18_MD635_1_0220_prep2_down8_detector1_Pn_scoremap.bp\n",
      "download: s3://mousebrainatlas-data/CSHL_scoremaps/down8/MD635/MD635_prep2_down8_detector1/MD635-F74-2016.05.19-12.15.18_MD635_1_0220_prep2_down8_detector1/MD635-F74-2016.05.19-12.15.18_MD635_1_0220_prep2_down8_detector1_VCP_scoremap.bp to ../../../BstemAtlasDataBackup/ucsd_brain/CSHL_scoremaps/down8/MD635/MD635_prep2_down8_detector1/MD635-F74-2016.05.19-12.15.18_MD635_1_0220_prep2_down8_detector1/MD635-F74-2016.05.19-12.15.18_MD635_1_0220_prep2_down8_detector1_VCP_scoremap.bp\n",
      "download: s3://mousebrainatlas-data/CSHL_scoremaps/down8/MD635/MD635_prep2_down8_detector1/MD635-F74-2016.05.19-12.15.18_MD635_1_0220_prep2_down8_detector1/MD635-F74-2016.05.19-12.15.18_MD635_1_0220_prep2_down8_detector1_SNC_scoremap.bp to ../../../BstemAtlasDataBackup/ucsd_brain/CSHL_scoremaps/down8/MD635/MD635_prep2_down8_detector1/MD635-F74-2016.05.19-12.15.18_MD635_1_0220_prep2_down8_detector1/MD635-F74-2016.05.19-12.15.18_MD635_1_0220_prep2_down8_detector1_SNC_scoremap.bp\n",
      "download: s3://mousebrainatlas-data/CSHL_scoremaps/down8/MD635/MD635_prep2_down8_detector1/MD635-F74-2016.05.19-12.15.18_MD635_1_0220_prep2_down8_detector1/MD635-F74-2016.05.19-12.15.18_MD635_1_0220_prep2_down8_detector1_Sp5I_scoremap.bp to ../../../BstemAtlasDataBackup/ucsd_brain/CSHL_scoremaps/down8/MD635/MD635_prep2_down8_detector1/MD635-F74-2016.05.19-12.15.18_MD635_1_0220_prep2_down8_detector1/MD635-F74-2016.05.19-12.15.18_MD635_1_0220_prep2_down8_detector1_Sp5I_scoremap.bp\n",
      "download: s3://mousebrainatlas-data/CSHL_scoremaps/down8/MD635/MD635_prep2_down8_detector1/MD635-F74-2016.05.19-12.15.18_MD635_1_0220_prep2_down8_detector1/MD635-F74-2016.05.19-12.15.18_MD635_1_0220_prep2_down8_detector1_5N_scoremap.bp to ../../../BstemAtlasDataBackup/ucsd_brain/CSHL_scoremaps/down8/MD635/MD635_prep2_down8_detector1/MD635-F74-2016.05.19-12.15.18_MD635_1_0220_prep2_down8_detector1/MD635-F74-2016.05.19-12.15.18_MD635_1_0220_prep2_down8_detector1_5N_scoremap.bp\n",
      "download: s3://mousebrainatlas-data/CSHL_scoremaps/down8/MD635/MD635_prep2_down8_detector1/MD635-F74-2016.05.19-12.15.18_MD635_1_0220_prep2_down8_detector1/MD635-F74-2016.05.19-12.15.18_MD635_1_0220_prep2_down8_detector1_DC_scoremap.bp to ../../../BstemAtlasDataBackup/ucsd_brain/CSHL_scoremaps/down8/MD635/MD635_prep2_down8_detector1/MD635-F74-2016.05.19-12.15.18_MD635_1_0220_prep2_down8_detector1/MD635-F74-2016.05.19-12.15.18_MD635_1_0220_prep2_down8_detector1_DC_scoremap.bp\n",
      "download: s3://mousebrainatlas-data/CSHL_scoremaps/down8/MD635/MD635_prep2_down8_detector1/MD635-F74-2016.05.19-12.15.18_MD635_1_0220_prep2_down8_detector1/MD635-F74-2016.05.19-12.15.18_MD635_1_0220_prep2_down8_detector1_4N_scoremap.bp to ../../../BstemAtlasDataBackup/ucsd_brain/CSHL_scoremaps/down8/MD635/MD635_prep2_down8_detector1/MD635-F74-2016.05.19-12.15.18_MD635_1_0220_prep2_down8_detector1/MD635-F74-2016.05.19-12.15.18_MD635_1_0220_prep2_down8_detector1_4N_scoremap.bp\n"
     ]
    }
   ],
   "source": [
    "section = 200\n",
    "fn = section_to_filename[200] + '_prep2_down8_detector1/'\n",
    "fp = 'CSHL_scoremaps/down8/' + stack +'/'+ stack+ '_prep2_down8_detector1/' +fn\n",
    "print(fp)\n",
    "setup_download_from_s3(fp)"
   ]
  },
  {
   "cell_type": "code",
   "execution_count": 11,
   "metadata": {},
   "outputs": [],
   "source": [
    "from glob import glob\n",
    "maps = [dir for dir in glob(os.environ['ROOT_DIR']+fp+'*')]"
   ]
  },
  {
   "cell_type": "code",
   "execution_count": 13,
   "metadata": {},
   "outputs": [
    {
     "name": "stderr",
     "output_type": "stream",
     "text": [
      "/Users/kuiqian/Github/venv/shapeology_venv/lib/python3.7/site-packages/ipykernel_launcher.py:2: DeprecationWarning: Call to deprecated function (or staticmethod) unpack_ndarray_from_file. (Use 'pack_ndarray_from_file' instead.) -- Deprecated since version 0.16.0.\n",
      "  \n",
      "/Users/kuiqian/Github/venv/shapeology_venv/lib/python3.7/site-packages/ipykernel_launcher.py:2: DeprecationWarning: Call to deprecated function (or staticmethod) unpack_ndarray_from_file. (Use 'pack_ndarray_from_file' instead.) -- Deprecated since version 0.16.0.\n",
      "  \n"
     ]
    },
    {
     "name": "stdout",
     "output_type": "stream",
     "text": [
      "VCA\n",
      "VLL\n"
     ]
    },
    {
     "name": "stderr",
     "output_type": "stream",
     "text": [
      "/Users/kuiqian/Github/venv/shapeology_venv/lib/python3.7/site-packages/ipykernel_launcher.py:2: DeprecationWarning: Call to deprecated function (or staticmethod) unpack_ndarray_from_file. (Use 'pack_ndarray_from_file' instead.) -- Deprecated since version 0.16.0.\n",
      "  \n",
      "/Users/kuiqian/Github/venv/shapeology_venv/lib/python3.7/site-packages/ipykernel_launcher.py:2: DeprecationWarning: Call to deprecated function (or staticmethod) unpack_ndarray_from_file. (Use 'pack_ndarray_from_file' instead.) -- Deprecated since version 0.16.0.\n",
      "  \n"
     ]
    },
    {
     "name": "stdout",
     "output_type": "stream",
     "text": [
      "Amb\n",
      "RtTg\n"
     ]
    },
    {
     "name": "stderr",
     "output_type": "stream",
     "text": [
      "/Users/kuiqian/Github/venv/shapeology_venv/lib/python3.7/site-packages/ipykernel_launcher.py:2: DeprecationWarning: Call to deprecated function (or staticmethod) unpack_ndarray_from_file. (Use 'pack_ndarray_from_file' instead.) -- Deprecated since version 0.16.0.\n",
      "  \n",
      "/Users/kuiqian/Github/venv/shapeology_venv/lib/python3.7/site-packages/ipykernel_launcher.py:2: DeprecationWarning: Call to deprecated function (or staticmethod) unpack_ndarray_from_file. (Use 'pack_ndarray_from_file' instead.) -- Deprecated since version 0.16.0.\n",
      "  \n"
     ]
    },
    {
     "name": "stdout",
     "output_type": "stream",
     "text": [
      "7N\n",
      "Sp5I\n"
     ]
    },
    {
     "name": "stderr",
     "output_type": "stream",
     "text": [
      "/Users/kuiqian/Github/venv/shapeology_venv/lib/python3.7/site-packages/ipykernel_launcher.py:2: DeprecationWarning: Call to deprecated function (or staticmethod) unpack_ndarray_from_file. (Use 'pack_ndarray_from_file' instead.) -- Deprecated since version 0.16.0.\n",
      "  \n",
      "/Users/kuiqian/Github/venv/shapeology_venv/lib/python3.7/site-packages/ipykernel_launcher.py:2: DeprecationWarning: Call to deprecated function (or staticmethod) unpack_ndarray_from_file. (Use 'pack_ndarray_from_file' instead.) -- Deprecated since version 0.16.0.\n",
      "  \n"
     ]
    },
    {
     "name": "stdout",
     "output_type": "stream",
     "text": [
      "DC\n",
      "6N\n"
     ]
    },
    {
     "name": "stderr",
     "output_type": "stream",
     "text": [
      "/Users/kuiqian/Github/venv/shapeology_venv/lib/python3.7/site-packages/ipykernel_launcher.py:2: DeprecationWarning: Call to deprecated function (or staticmethod) unpack_ndarray_from_file. (Use 'pack_ndarray_from_file' instead.) -- Deprecated since version 0.16.0.\n",
      "  \n",
      "/Users/kuiqian/Github/venv/shapeology_venv/lib/python3.7/site-packages/ipykernel_launcher.py:2: DeprecationWarning: Call to deprecated function (or staticmethod) unpack_ndarray_from_file. (Use 'pack_ndarray_from_file' instead.) -- Deprecated since version 0.16.0.\n",
      "  \n"
     ]
    },
    {
     "name": "stdout",
     "output_type": "stream",
     "text": [
      "LRt\n",
      "IC\n"
     ]
    },
    {
     "name": "stderr",
     "output_type": "stream",
     "text": [
      "/Users/kuiqian/Github/venv/shapeology_venv/lib/python3.7/site-packages/ipykernel_launcher.py:2: DeprecationWarning: Call to deprecated function (or staticmethod) unpack_ndarray_from_file. (Use 'pack_ndarray_from_file' instead.) -- Deprecated since version 0.16.0.\n",
      "  \n",
      "/Users/kuiqian/Github/venv/shapeology_venv/lib/python3.7/site-packages/ipykernel_launcher.py:2: DeprecationWarning: Call to deprecated function (or staticmethod) unpack_ndarray_from_file. (Use 'pack_ndarray_from_file' instead.) -- Deprecated since version 0.16.0.\n",
      "  \n"
     ]
    },
    {
     "name": "stdout",
     "output_type": "stream",
     "text": [
      "Sp5O\n",
      "SNC\n"
     ]
    },
    {
     "name": "stderr",
     "output_type": "stream",
     "text": [
      "/Users/kuiqian/Github/venv/shapeology_venv/lib/python3.7/site-packages/ipykernel_launcher.py:2: DeprecationWarning: Call to deprecated function (or staticmethod) unpack_ndarray_from_file. (Use 'pack_ndarray_from_file' instead.) -- Deprecated since version 0.16.0.\n",
      "  \n",
      "/Users/kuiqian/Github/venv/shapeology_venv/lib/python3.7/site-packages/ipykernel_launcher.py:2: DeprecationWarning: Call to deprecated function (or staticmethod) unpack_ndarray_from_file. (Use 'pack_ndarray_from_file' instead.) -- Deprecated since version 0.16.0.\n",
      "  \n"
     ]
    },
    {
     "name": "stdout",
     "output_type": "stream",
     "text": [
      "Sp5C\n",
      "12N\n"
     ]
    },
    {
     "name": "stderr",
     "output_type": "stream",
     "text": [
      "/Users/kuiqian/Github/venv/shapeology_venv/lib/python3.7/site-packages/ipykernel_launcher.py:2: DeprecationWarning: Call to deprecated function (or staticmethod) unpack_ndarray_from_file. (Use 'pack_ndarray_from_file' instead.) -- Deprecated since version 0.16.0.\n",
      "  \n",
      "/Users/kuiqian/Github/venv/shapeology_venv/lib/python3.7/site-packages/ipykernel_launcher.py:2: DeprecationWarning: Call to deprecated function (or staticmethod) unpack_ndarray_from_file. (Use 'pack_ndarray_from_file' instead.) -- Deprecated since version 0.16.0.\n",
      "  \n"
     ]
    },
    {
     "name": "stdout",
     "output_type": "stream",
     "text": [
      "RMC\n",
      "10N\n"
     ]
    },
    {
     "name": "stderr",
     "output_type": "stream",
     "text": [
      "/Users/kuiqian/Github/venv/shapeology_venv/lib/python3.7/site-packages/ipykernel_launcher.py:2: DeprecationWarning: Call to deprecated function (or staticmethod) unpack_ndarray_from_file. (Use 'pack_ndarray_from_file' instead.) -- Deprecated since version 0.16.0.\n",
      "  \n",
      "/Users/kuiqian/Github/venv/shapeology_venv/lib/python3.7/site-packages/ipykernel_launcher.py:2: DeprecationWarning: Call to deprecated function (or staticmethod) unpack_ndarray_from_file. (Use 'pack_ndarray_from_file' instead.) -- Deprecated since version 0.16.0.\n",
      "  \n"
     ]
    },
    {
     "name": "stdout",
     "output_type": "stream",
     "text": [
      "LC\n",
      "PBG\n"
     ]
    },
    {
     "name": "stderr",
     "output_type": "stream",
     "text": [
      "/Users/kuiqian/Github/venv/shapeology_venv/lib/python3.7/site-packages/ipykernel_launcher.py:2: DeprecationWarning: Call to deprecated function (or staticmethod) unpack_ndarray_from_file. (Use 'pack_ndarray_from_file' instead.) -- Deprecated since version 0.16.0.\n",
      "  \n",
      "/Users/kuiqian/Github/venv/shapeology_venv/lib/python3.7/site-packages/ipykernel_launcher.py:2: DeprecationWarning: Call to deprecated function (or staticmethod) unpack_ndarray_from_file. (Use 'pack_ndarray_from_file' instead.) -- Deprecated since version 0.16.0.\n",
      "  \n"
     ]
    },
    {
     "name": "stdout",
     "output_type": "stream",
     "text": [
      "SNR\n",
      "SC\n"
     ]
    },
    {
     "name": "stderr",
     "output_type": "stream",
     "text": [
      "/Users/kuiqian/Github/venv/shapeology_venv/lib/python3.7/site-packages/ipykernel_launcher.py:2: DeprecationWarning: Call to deprecated function (or staticmethod) unpack_ndarray_from_file. (Use 'pack_ndarray_from_file' instead.) -- Deprecated since version 0.16.0.\n",
      "  \n",
      "/Users/kuiqian/Github/venv/shapeology_venv/lib/python3.7/site-packages/ipykernel_launcher.py:2: DeprecationWarning: Call to deprecated function (or staticmethod) unpack_ndarray_from_file. (Use 'pack_ndarray_from_file' instead.) -- Deprecated since version 0.16.0.\n",
      "  \n"
     ]
    },
    {
     "name": "stdout",
     "output_type": "stream",
     "text": [
      "4N\n",
      "3N\n"
     ]
    },
    {
     "name": "stderr",
     "output_type": "stream",
     "text": [
      "/Users/kuiqian/Github/venv/shapeology_venv/lib/python3.7/site-packages/ipykernel_launcher.py:2: DeprecationWarning: Call to deprecated function (or staticmethod) unpack_ndarray_from_file. (Use 'pack_ndarray_from_file' instead.) -- Deprecated since version 0.16.0.\n",
      "  \n",
      "/Users/kuiqian/Github/venv/shapeology_venv/lib/python3.7/site-packages/ipykernel_launcher.py:2: DeprecationWarning: Call to deprecated function (or staticmethod) unpack_ndarray_from_file. (Use 'pack_ndarray_from_file' instead.) -- Deprecated since version 0.16.0.\n",
      "  \n"
     ]
    },
    {
     "name": "stdout",
     "output_type": "stream",
     "text": [
      "Pn\n",
      "VCP\n"
     ]
    },
    {
     "name": "stderr",
     "output_type": "stream",
     "text": [
      "/Users/kuiqian/Github/venv/shapeology_venv/lib/python3.7/site-packages/ipykernel_launcher.py:2: DeprecationWarning: Call to deprecated function (or staticmethod) unpack_ndarray_from_file. (Use 'pack_ndarray_from_file' instead.) -- Deprecated since version 0.16.0.\n",
      "  \n",
      "/Users/kuiqian/Github/venv/shapeology_venv/lib/python3.7/site-packages/ipykernel_launcher.py:2: DeprecationWarning: Call to deprecated function (or staticmethod) unpack_ndarray_from_file. (Use 'pack_ndarray_from_file' instead.) -- Deprecated since version 0.16.0.\n",
      "  \n"
     ]
    },
    {
     "name": "stdout",
     "output_type": "stream",
     "text": [
      "5N\n",
      "AP\n",
      "Tz\n"
     ]
    },
    {
     "name": "stderr",
     "output_type": "stream",
     "text": [
      "/Users/kuiqian/Github/venv/shapeology_venv/lib/python3.7/site-packages/ipykernel_launcher.py:2: DeprecationWarning: Call to deprecated function (or staticmethod) unpack_ndarray_from_file. (Use 'pack_ndarray_from_file' instead.) -- Deprecated since version 0.16.0.\n",
      "  \n"
     ]
    }
   ],
   "source": [
    "for item in maps:\n",
    "    scoremap = bloscpack.unpack_ndarray_file(item)\n",
    "    img = scoremap * 255\n",
    "    img = img.astype(np.uint8)\n",
    "    point1 = item.rfind('_')\n",
    "    point2 = item[:point1].rfind('_')\n",
    "    struc = item[point2+1:point1]\n",
    "    print(struc)\n",
    "    filename = 'CSHL_scoremaps/down8/' + stack +'/imgs/'+str(section)+'_'+struc+ '.jpg'\n",
    "    cv2.imwrite(os.environ['ROOT_DIR']+filename, img)"
   ]
  },
  {
   "cell_type": "code",
   "execution_count": 64,
   "metadata": {},
   "outputs": [
    {
     "data": {
      "text/plain": [
       "'IC'"
      ]
     },
     "execution_count": 64,
     "metadata": {},
     "output_type": "execute_result"
    }
   ],
   "source": [
    "item = maps[0]\n",
    "point1 = item.rfind('_')\n",
    "point2 = item[:point1].rfind('_')\n",
    "item[point2+1:point1]"
   ]
  },
  {
   "cell_type": "code",
   "execution_count": 46,
   "metadata": {},
   "outputs": [
    {
     "name": "stderr",
     "output_type": "stream",
     "text": [
      "/Users/kuiqian/Github/venv/shapeology_venv/lib/python3.7/site-packages/ipykernel_launcher.py:1: DeprecationWarning: Call to deprecated function (or staticmethod) unpack_ndarray_from_file. (Use 'pack_ndarray_from_file' instead.) -- Deprecated since version 0.16.0.\n",
      "  \"\"\"Entry point for launching an IPython kernel.\n"
     ]
    }
   ],
   "source": [
    "scoremap = bloscpack.unpack_ndarray_file(maps[0])"
   ]
  },
  {
   "cell_type": "code",
   "execution_count": 49,
   "metadata": {},
   "outputs": [
    {
     "name": "stdout",
     "output_type": "stream",
     "text": [
      "Populating the interactive namespace from numpy and matplotlib\n"
     ]
    },
    {
     "name": "stderr",
     "output_type": "stream",
     "text": [
      "/Users/kuiqian/Github/venv/shapeology_venv/lib/python3.7/site-packages/IPython/core/magics/pylab.py:160: UserWarning: pylab import has clobbered these variables: ['f', 'stack']\n",
      "`%matplotlib` prevents importing * from pylab and numpy\n",
      "  \"\\n`%matplotlib` prevents importing * from pylab and numpy\"\n"
     ]
    }
   ],
   "source": [
    "%pylab inline"
   ]
  },
  {
   "cell_type": "code",
   "execution_count": 58,
   "metadata": {},
   "outputs": [],
   "source": [
    "img = scoremap * 255\n",
    "img = img.astype(np.uint8)"
   ]
  },
  {
   "cell_type": "code",
   "execution_count": 59,
   "metadata": {},
   "outputs": [
    {
     "data": {
      "text/plain": [
       "<matplotlib.image.AxesImage at 0x1231c7748>"
      ]
     },
     "execution_count": 59,
     "metadata": {},
     "output_type": "execute_result"
    },
    {
     "data": {
      "image/png": "[encoded data removed]",
      "text/plain": [
       "<Figure size 432x288 with 1 Axes>"
      ]
     },
     "metadata": {
      "needs_background": "light"
     },
     "output_type": "display_data"
    }
   ],
   "source": [
    "imshow(img, cmap='gray')"
   ]
  },
  {
   "cell_type": "code",
   "execution_count": 80,
   "metadata": {},
   "outputs": [
    {
     "data": {
      "text/plain": [
       "21.73913043478261"
      ]
     },
     "execution_count": 80,
     "metadata": {},
     "output_type": "execute_result"
    }
   ],
   "source": [
    "10/0.46"
   ]
  },
  {
   "cell_type": "code",
   "execution_count": null,
   "metadata": {},
   "outputs": [],
   "source": []
  }
 ],
 "metadata": {
  "kernelspec": {
   "display_name": "shapeology",
   "language": "python",
   "name": "shapeology_code"
  },
  "language_info": {
   "codemirror_mode": {
    "name": "ipython",
    "version": 3
   },
   "file_extension": ".py",
   "mimetype": "text/x-python",
   "name": "python",
   "nbconvert_exporter": "python",
   "pygments_lexer": "ipython3",
   "version": "3.7.3"
  }
 },
 "nbformat": 4,
 "nbformat_minor": 2
}
