{
 "cells": [
  {
   "cell_type": "code",
   "execution_count": 1,
   "metadata": {
    "ExecuteTime": {
     "end_time": "2018-09-15T23:29:46.607561Z",
     "start_time": "2018-09-15T23:29:46.605152Z"
    }
   },
   "outputs": [],
   "source": [
    "from subprocess import Popen,PIPE\n",
    "\n",
    "stack='s3://mousebraindata-open/MD657/'"
   ]
  },
  {
   "cell_type": "code",
   "execution_count": 2,
   "metadata": {
    "ExecuteTime": {
     "end_time": "2018-09-15T23:29:47.552389Z",
     "start_time": "2018-09-15T23:29:47.547648Z"
    }
   },
   "outputs": [],
   "source": [
    "import re\n",
    "from os import system\n",
    "import socket\n",
    "\n",
    "def get_file_table(path):\n",
    "    system(\"aws s3 ls %s > awsfiles.txt\"%path)\n",
    "    pat=re.compile(r'(.*lossless)(.*)$')\n",
    "\n",
    "    T={}\n",
    "    with open('awsfiles.txt','r') as files:\n",
    "        for file in files.readlines():\n",
    "            parts=file.strip().split()\n",
    "            if len(parts)!=4:\n",
    "                continue\n",
    "            filename=parts[3]\n",
    "            if not 'lossless' in filename:\n",
    "                continue\n",
    "            m=pat.match(filename)\n",
    "            if m:\n",
    "                file,ext= m.groups()\n",
    "                info=(ext,parts[1:3])\n",
    "                if file in T:\n",
    "                    T[file].append(info)\n",
    "                else:\n",
    "                    T[file]=[info]\n",
    "            else:\n",
    "                print(filename,'no match')\n",
    "    return T\n"
   ]
  },
  {
   "cell_type": "code",
   "execution_count": 3,
   "metadata": {
    "ExecuteTime": {
     "end_time": "2018-09-15T23:29:57.762996Z",
     "start_time": "2018-09-15T23:29:55.173529Z"
    },
    "scrolled": true
   },
   "outputs": [
    {
     "name": "stdout",
     "output_type": "stream",
     "text": [
      "     463    1852   43931\r\n"
     ]
    }
   ],
   "source": [
    "T=get_file_table(stack)\n",
    "!grep patches awsfiles.txt |wc"
   ]
  },
  {
   "cell_type": "code",
   "execution_count": 96,
   "metadata": {
    "ExecuteTime": {
     "end_time": "2018-09-15T07:07:42.805536Z",
     "start_time": "2018-09-15T07:07:42.670497Z"
    }
   },
   "outputs": [
    {
     "name": "stdout",
     "output_type": "stream",
     "text": [
      "2018-09-14 23:49:03  160281922 MD657-F3-2017.02.17-18.07.23_MD657_1_0007_lossless_patches.tgz\r\n"
     ]
    }
   ],
   "source": [
    "!grep MD657-F3-2017.02.17-18.07.23_MD657_1_0007_lossless_patches.tgz awsfiles.txt"
   ]
  },
  {
   "cell_type": "code",
   "execution_count": 69,
   "metadata": {
    "ExecuteTime": {
     "end_time": "2018-09-15T04:55:06.916553Z",
     "start_time": "2018-09-15T04:55:06.783101Z"
    },
    "scrolled": true
   },
   "outputs": [
    {
     "name": "stdout",
     "output_type": "stream",
     "text": [
      "2018-09-14 21:45:09         73 MD657-F88-2017.02.23-17.31.36_MD657_2_0263_lossless.lock-ip-172-30-1-171\r\n",
      "2018-09-14 21:47:06         73 MD657-N96-2017.02.22-20.28.14_MD657_2_0287_lossless.lock-ip-172-30-1-171\r\n"
     ]
    }
   ],
   "source": [
    "!grep .lock-ip-172-30-1-171 awsfiles.txt"
   ]
  },
  {
   "cell_type": "code",
   "execution_count": 70,
   "metadata": {
    "ExecuteTime": {
     "end_time": "2018-09-15T04:55:14.739128Z",
     "start_time": "2018-09-15T04:55:14.602992Z"
    }
   },
   "outputs": [],
   "source": [
    "!grep MD657-F88-2017.02.23-17.31.36_MD657_2_0287_lossless awsfiles.txt"
   ]
  },
  {
   "cell_type": "code",
   "execution_count": 4,
   "metadata": {
    "ExecuteTime": {
     "end_time": "2018-09-15T23:30:09.499588Z",
     "start_time": "2018-09-15T23:30:05.416105Z"
    },
    "scrolled": false
   },
   "outputs": [
    {
     "name": "stdout",
     "output_type": "stream",
     "text": [
      "     463    1852   43931\n",
      "     463    1852   40227\n"
     ]
    }
   ],
   "source": [
    "T=get_file_table(stack)\n",
    "!grep patches awsfiles.txt | wc\n",
    "!grep less.jp2 awsfiles.txt | wc"
   ]
  },
  {
   "cell_type": "code",
   "execution_count": 35,
   "metadata": {
    "ExecuteTime": {
     "end_time": "2018-09-15T21:36:03.277411Z",
     "start_time": "2018-09-15T21:36:03.138326Z"
    },
    "scrolled": true
   },
   "outputs": [
    {
     "name": "stdout",
     "output_type": "stream",
     "text": [
      "     442    1768   41937\r\n"
     ]
    }
   ],
   "source": [
    "!grep patches awsfiles.txt |wc"
   ]
  },
  {
   "cell_type": "code",
   "execution_count": 5,
   "metadata": {
    "ExecuteTime": {
     "end_time": "2018-09-15T23:31:06.949325Z",
     "start_time": "2018-09-15T23:31:04.261837Z"
    }
   },
   "outputs": [
    {
     "data": {
      "text/plain": [
       "Counter({'.lock-ip-172-30-1-84': 89,\n",
       "         '.lock-ip-172-30-1-39': 38,\n",
       "         '.lock-ip-172-30-1-4': 38,\n",
       "         '.lock-ip-172-30-1-66': 40,\n",
       "         '.lock-ip-172-30-1-38': 33,\n",
       "         '.lock-ip-172-30-1-44': 37,\n",
       "         '.lock-ip-172-30-1-156': 36,\n",
       "         '.lock-ip-172-30-1-126': 37,\n",
       "         '.lock-ip-172-30-1-211': 41,\n",
       "         '.lock-ip-172-30-1-183': 38,\n",
       "         '.lock-ip-172-30-1-150': 36})"
      ]
     },
     "execution_count": 5,
     "metadata": {},
     "output_type": "execute_result"
    }
   ],
   "source": [
    "from collections import Counter\n",
    "T=get_file_table(stack)\n",
    "C=Counter()\n",
    "for item in T.items():\n",
    "    extensions=[x for x in item[1]]\n",
    "    for ext in extensions:\n",
    "        if 'lock' in ext[0]:\n",
    "            C[ext[0]]+=1\n",
    "C"
   ]
  },
  {
   "cell_type": "code",
   "execution_count": 6,
   "metadata": {
    "ExecuteTime": {
     "end_time": "2018-09-15T23:31:14.159025Z",
     "start_time": "2018-09-15T23:31:14.153636Z"
    }
   },
   "outputs": [],
   "source": [
    "def run(command):\n",
    "    print('system cmd=',command)\n",
    "    system(command)\n",
    "\n",
    "i=0\n",
    "for item in T.items():\n",
    "    #print(item[0])\n",
    "    extensions=[x for x in item[1]]\n",
    "    has_lock=False\n",
    "    is_done=False\n",
    "    is_small=False\n",
    "    for ext in extensions:\n",
    "        #print('++',ext)\n",
    "        if ('patches'in ext[0]):\n",
    "            if (int(ext[1][1])>1000):\n",
    "                is_done=True\n",
    "            else:\n",
    "                is_small=True\n",
    "                patch_name=item[0]+ext[0]\n",
    "        \n",
    "        if ('lock' in ext[0]):\n",
    "            has_lock=True\n",
    "            lock_name=item[0]+ext[0]\n",
    "\n",
    "    if has_lock and not is_done:\n",
    "        print('>>>>>>>>>>>>>>>>>>>>>>>> delete lock',lock_name)\n",
    "        run('aws s3 rm %s%s'%(stack,lock_name))\n",
    "    if is_small:\n",
    "        print('====================== delete small patch',patch_name)\n",
    "        run('aws s3 rm %s%s'%(stack,patch_name))\n",
    "        \n",
    "    #if i>10:\n",
    "    #    break\n",
    "    i+=1"
   ]
  },
  {
   "cell_type": "code",
   "execution_count": null,
   "metadata": {},
   "outputs": [],
   "source": []
  },
  {
   "cell_type": "code",
   "execution_count": null,
   "metadata": {},
   "outputs": [],
   "source": []
  }
 ],
 "metadata": {
  "hide_input": false,
  "kernelspec": {
   "display_name": "Python 3",
   "language": "python",
   "name": "python3"
  },
  "language_info": {
   "codemirror_mode": {
    "name": "ipython",
    "version": 3
   },
   "file_extension": ".py",
   "mimetype": "text/x-python",
   "name": "python",
   "nbconvert_exporter": "python",
   "pygments_lexer": "ipython3",
   "version": "3.6.4"
  },
  "toc": {
   "base_numbering": 1,
   "nav_menu": {},
   "number_sections": true,
   "sideBar": true,
   "skip_h1_title": false,
   "title_cell": "Table of Contents",
   "title_sidebar": "Contents",
   "toc_cell": false,
   "toc_position": {},
   "toc_section_display": true,
   "toc_window_display": false
  }
 },
 "nbformat": 4,
 "nbformat_minor": 2
}
