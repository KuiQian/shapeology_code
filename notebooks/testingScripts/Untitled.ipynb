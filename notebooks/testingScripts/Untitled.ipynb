{
 "cells": [
  {
   "cell_type": "code",
   "execution_count": 6,
   "metadata": {
    "ExecuteTime": {
     "end_time": "2019-01-04T04:08:15.611979Z",
     "start_time": "2019-01-04T04:08:15.606345Z"
    }
   },
   "outputs": [
    {
     "name": "stdout",
     "output_type": "stream",
     "text": [
      "/Users/yoavfreund/projects/shapeology/shapeology_code/scripts\n"
     ]
    }
   ],
   "source": [
    "%cd ../../scripts/"
   ]
  },
  {
   "cell_type": "code",
   "execution_count": 9,
   "metadata": {
    "ExecuteTime": {
     "end_time": "2019-01-04T04:08:49.868086Z",
     "start_time": "2019-01-04T04:08:49.850840Z"
    }
   },
   "outputs": [],
   "source": [
    "# %load extractPatches.py\n",
    "import cv2\n",
    "from cv2 import moments,HuMoments\n",
    "import pickle\n",
    "import numpy as np\n",
    "\n",
    "#from label_patch import diffusionMap\n",
    "from patch_normalizer import normalizer\n",
    "from lib.utils import mark_contours, configuration\n",
    "\n",
    "class patch_extractor:\n",
    "    def __init__(self,infile,params):\n",
    "        \"\"\"Initialize a patch extractor. \n",
    "        The extractor works by first checking if the gray \n",
    "        value std is too small, in which case it aborts.\n",
    "\n",
    "        :param infile: filename of tile \n",
    "        :param params: parameters\n",
    "        :returns: \n",
    "        :rtype: \n",
    "\n",
    "        \"\"\"\n",
    "        self.params=params\n",
    "        self.min_area=params['preprocessing']['min_area']\n",
    "        self.Norm=normalizer(params)\n",
    "        self.preprocess_kernel=self.Norm.circle_patch(radius=1)\n",
    "        \n",
    "        self.tile_stats={'tile name':infile}\n",
    "        #self.DM = diffusionMap('../notebooks/diffusionMap.pkl')\n",
    "\n",
    "    def segment_cells(self,gray):\n",
    "        offset = self.params['preprocessing']['offset']\n",
    "\n",
    "        thresh = cv2.adaptiveThreshold(gray,255,cv2.ADAPTIVE_THRESH_GAUSSIAN_C,\\\n",
    "                                       cv2.THRESH_BINARY,101,offset)\n",
    "\n",
    "        # erosion to seperate weakly linked blobs\n",
    "        clean=cv2.erode(thresh,self.preprocess_kernel,iterations = 8)\n",
    "        Stats=cv2.connectedComponentsWithStats(thresh)\n",
    "        return Stats\n",
    "\n",
    "    def extract_blobs(self,Stats,tile,gray):\n",
    "        \"\"\"given a set of connected components extract convexified components from gray image and annotate on color image(tile)\n",
    "\n",
    "        :param Stats: Output from cv2.connectedComponentsWithStats\n",
    "        :param tile: original image\n",
    "        :param gray: tile transfrmed to gray-scale\n",
    "        :returns: \n",
    "        :rtype: \n",
    "\n",
    "        \"\"\"\n",
    "         # parse Stats\n",
    "        no_blobs,seg,props,location = Stats\n",
    "\n",
    "        left= props[:,0]\n",
    "        top = props[:,1]\n",
    "        width = props[:,2]\n",
    "        height = props[:,3]\n",
    "        area = props[:,4]\n",
    "\n",
    "        marked_tile=np.copy(tile)\n",
    "        size_step=20\n",
    "        extracted=[]\n",
    "        H,W=seg.shape\n",
    "        for i in range(1,no_blobs):\n",
    "            if area[i]<self.min_area:\n",
    "                continue\n",
    "            #extract patch\n",
    "            t,b,l,r = top[i],top[i]+height[i],left[i],left[i]+width[i]\n",
    "            if t==0 or b==H or l==0 or r==W: #ignore patches that touch the boundary (likely to be partial)\n",
    "                continue\n",
    "\n",
    "            # Extract connected component\n",
    "            sub_mask = np.array((seg[t:b,l:r]==i)*1,dtype=np.uint8)\n",
    "            # recover threshold that was used\n",
    "            masked_image=np.copy(gray[t:b,l:r])\n",
    "            masked_image[sub_mask==0]=255\n",
    "            _thr=np.min(masked_image.flatten())\n",
    "\n",
    "            # compute convex hull of sub_mask\n",
    "            im2, contours, hierarchy = cv2.findContours(sub_mask, cv2.RETR_TREE, cv2.CHAIN_APPROX_SIMPLE)\n",
    "            convex_contour=cv2.convexHull(contours[0][:,0,:],returnPoints=True)\n",
    "            slate=np.zeros([b-t,r-l,3],dtype=np.uint8)\n",
    "            convex_mask = cv2.drawContours(slate, [convex_contour],0,(0,255,0),-1)[:,:,1]\n",
    "            #compute Threshold used \n",
    "            masked_image=np.array(gray[t:b,l:r],dtype=np.int16)-_thr\n",
    "            masked_image[convex_mask==0]=0\n",
    "            masked_image[masked_image<0]=0\n",
    "\n",
    "            properties={'left':left[i],\n",
    "                        'top':top[i],\n",
    "                        'width':width[i],\n",
    "                        'height':height[i],\n",
    "                        'area':area[i]}\n",
    "            more_properties = self.Norm.normalize_patch(masked_image, properties)\n",
    "            properties.update(more_properties)\n",
    "            extracted.append(properties)\n",
    "            #print(properties.keys())\n",
    "            #break\n",
    "            cv2.drawContours(marked_tile[t:b,l:r], [convex_contour],0,(0,255,0),1)\n",
    "        return extracted,marked_tile"
   ]
  },
  {
   "cell_type": "code",
   "execution_count": null,
   "metadata": {
    "ExecuteTime": {
     "end_time": "2019-01-04T04:08:21.890271Z",
     "start_time": "2019-01-04T04:08:21.590665Z"
    }
   },
   "outputs": [],
   "source": [
    "    \n",
    "if __name__==\"__main__\":\n",
    "\n",
    "    import argparse\n",
    "    from time import time\n",
    "    parser = argparse.ArgumentParser()\n",
    "    parser.add_argument(\"filestem\", type=str,\n",
    "                    help=\"Process <filestem>.tif into <filestem>_extracted.pkl\")\n",
    "    parser.add_argument(\"yaml\", type=str,\n",
    "                    help=\"Path to Yaml file with parameters\")\n",
    "    \n",
    "    # Add parameters for size of mexican hat and size of cell, threshold, percentile\n",
    "    # Define file name based on size. Use this name for log file and for countours image.\n",
    "    # save parameters in a log file ,\n",
    "    \n",
    "    args = parser.parse_args()\n",
    "    config = configuration(args.yaml)\n",
    "    params=config.getParams()\n",
    "\n",
    "    stem=args.filestem\n",
    "    infile = stem+'.tif'\n",
    "    out_stem= stem+'.'+params['name']\n",
    "    outfile= out_stem+'_extracted.pkl'\n",
    "    annotated_infile=out_stem+'_contours.jpg'"
   ]
  },
  {
   "cell_type": "code",
   "execution_count": 8,
   "metadata": {
    "ExecuteTime": {
     "end_time": "2019-01-04T04:08:21.890271Z",
     "start_time": "2019-01-04T04:08:21.590665Z"
    }
   },
   "outputs": [
    {
     "name": "stderr",
     "output_type": "stream",
     "text": [
      "usage: ipykernel_launcher.py [-h] filestem yaml\n",
      "ipykernel_launcher.py: error: the following arguments are required: yaml\n"
     ]
    },
    {
     "ename": "SystemExit",
     "evalue": "2",
     "output_type": "error",
     "traceback": [
      "An exception has occurred, use %tb to see the full traceback.\n",
      "\u001b[0;31mSystemExit\u001b[0m\u001b[0;31m:\u001b[0m 2\n"
     ]
    },
    {
     "name": "stderr",
     "output_type": "stream",
     "text": [
      "/Library/Frameworks/Python.framework/Versions/3.7/lib/python3.7/site-packages/IPython/core/interactiveshell.py:3273: UserWarning: To exit: use 'exit', 'quit', or Ctrl-D.\n",
      "  warn(\"To exit: use 'exit', 'quit', or Ctrl-D.\", stacklevel=1)\n"
     ]
    }
   ],
   "source": [
    "    extractor=patch_extractor(infile,params)\n",
    "\n",
    "    tile=cv2.imread(infile)\n",
    "    #print('tile is of type',type(tile[0,0,0]))\n",
    "    gray = cv2.cvtColor(tile,cv2.COLOR_BGR2GRAY)\n",
    "    print('gray is of type',type(gray[0,0]))\n",
    "\n",
    "    if params['preprocessing']['polarity']==-1:\n",
    "        gray = 255-gray\n",
    "\n",
    "    #n_window=extractor.check_and_normalize(gray)\n",
    "\n",
    "    min_std=params['preprocessing']['min_std']\n",
    "    _std = np.std(gray.flatten())\n",
    "    \n",
    "    if _std < min_std:\n",
    "        print('image',infile,'std=',_std, 'too blank, skipping')\n",
    "    else:\n",
    "        t0=time()\n",
    "        print('processing',infile,'into',outfile)\n",
    "        Stats=extractor.segment_cells(gray)\n",
    "        extracted,marked_tile = extractor.extract_blobs(Stats,tile,gray)\n",
    "\n",
    "        print('extracted',len(extracted),'patches')\n",
    "        \n",
    "        pickle.dump(extracted,open(outfile,'wb'))\n",
    "        print('patches written to',outfile)\n",
    "\n",
    "        cv2.imwrite(annotated_infile,marked_tile)\n",
    "        print('annotated image written to',annotated_infile)\n",
    "        print('finished in %5.1f seconds'%(time()-t0))"
   ]
  },
  {
   "cell_type": "code",
   "execution_count": null,
   "metadata": {},
   "outputs": [],
   "source": []
  }
 ],
 "metadata": {
  "hide_input": false,
  "kernelspec": {
   "display_name": "Python 3",
   "language": "python",
   "name": "python3"
  },
  "language_info": {
   "codemirror_mode": {
    "name": "ipython",
    "version": 3
   },
   "file_extension": ".py",
   "mimetype": "text/x-python",
   "name": "python",
   "nbconvert_exporter": "python",
   "pygments_lexer": "ipython3",
   "version": "3.7.0"
  },
  "toc": {
   "base_numbering": 1,
   "nav_menu": {},
   "number_sections": true,
   "sideBar": true,
   "skip_h1_title": false,
   "title_cell": "Table of Contents",
   "title_sidebar": "Contents",
   "toc_cell": false,
   "toc_position": {},
   "toc_section_display": true,
   "toc_window_display": false
  }
 },
 "nbformat": 4,
 "nbformat_minor": 2
}
