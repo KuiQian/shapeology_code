{
 "cells": [
  {
   "cell_type": "code",
   "execution_count": 1,
   "metadata": {
    "ExecuteTime": {
     "end_time": "2018-10-07T20:43:03.115447Z",
     "start_time": "2018-10-07T20:43:03.110246Z"
    }
   },
   "outputs": [
    {
     "name": "stdout",
     "output_type": "stream",
     "text": [
      "/home/ubuntu/shapeology_code/scripts\n"
     ]
    }
   ],
   "source": [
    "%cd ../scripts/"
   ]
  },
  {
   "cell_type": "code",
   "execution_count": null,
   "metadata": {
    "ExecuteTime": {
     "end_time": "2018-10-07T20:45:39.576852Z",
     "start_time": "2018-10-07T20:45:38.612229Z"
    },
    "scrolled": false
   },
   "outputs": [
    {
     "name": "stdout",
     "output_type": "stream",
     "text": [
      "cmd= aws s3 ls s3://mousebraindata-open/MD657/ | grep patches > logs/files\n",
      "file= MD657-F1-2017.02.17-17.39.26_MD657_1_0001_lossless_patches.tgz\n",
      "cmd= rm /dev/shm/data/tiles/*\n",
      "cmd= aws s3 cp s3://mousebraindata-open/MD657/MD657-F1-2017.02.17-17.39.26_MD657_1_0001_lossless_patches.tgz /dev/shm/data/tiles/MD657-F1-2017.02.17-17.39.26_MD657_1_0001_lossless_patches.tgz\n",
      "-rw-rw-r-- 1 ubuntu ubuntu 89100322 Sep 12 05:55 /dev/shm/data/tiles/MD657-F1-2017.02.17-17.39.26_MD657_1_0001_lossless_patches.tgz\n",
      "cmd= tar xzf /dev/shm/data/tiles/MD657-F1-2017.02.17-17.39.26_MD657_1_0001_lossless_patches.tgz -C /dev/shm/data/tiles\n",
      "ls: cannot access '/Users/yoavfreund/projects/shapeology/data/tiles/*pkl': No such file or directory\n",
      "      0       0       0\n",
      "i=   0 shape=(9069, 41, 41), N=    9069, MB=   116.3\n",
      "file= MD657-F1-2017.02.17-17.39.26_MD657_2_0002_lossless_patches.tgz\n",
      "cmd= rm /dev/shm/data/tiles/*\n",
      "cmd= aws s3 cp s3://mousebraindata-open/MD657/MD657-F1-2017.02.17-17.39.26_MD657_2_0002_lossless_patches.tgz /dev/shm/data/tiles/MD657-F1-2017.02.17-17.39.26_MD657_2_0002_lossless_patches.tgz\n",
      "-rw-rw-r-- 1 ubuntu ubuntu 96930800 Sep 13 05:28 /dev/shm/data/tiles/MD657-F1-2017.02.17-17.39.26_MD657_2_0002_lossless_patches.tgz\n",
      "cmd= tar xzf /dev/shm/data/tiles/MD657-F1-2017.02.17-17.39.26_MD657_2_0002_lossless_patches.tgz -C /dev/shm/data/tiles\n",
      "ls: cannot access '/Users/yoavfreund/projects/shapeology/data/tiles/*pkl': No such file or directory\n",
      "      0       0       0\n",
      "i=   1 shape=(9865, 41, 41), N=   18934, MB=   242.8\n",
      "file= MD657-F1-2017.02.17-17.39.26_MD657_3_0003_lossless_patches.tgz\n",
      "cmd= rm /dev/shm/data/tiles/*\n",
      "cmd= aws s3 cp s3://mousebraindata-open/MD657/MD657-F1-2017.02.17-17.39.26_MD657_3_0003_lossless_patches.tgz /dev/shm/data/tiles/MD657-F1-2017.02.17-17.39.26_MD657_3_0003_lossless_patches.tgz\n",
      "-rw-rw-r-- 1 ubuntu ubuntu 107583953 Sep 15 07:14 /dev/shm/data/tiles/MD657-F1-2017.02.17-17.39.26_MD657_3_0003_lossless_patches.tgz\n",
      "cmd= tar xzf /dev/shm/data/tiles/MD657-F1-2017.02.17-17.39.26_MD657_3_0003_lossless_patches.tgz -C /dev/shm/data/tiles\n",
      "moving from dev\n",
      "cmd= mv /dev/shm/data/tiles/dev/shm/data/tiles/ /dev/shm/data/tmp_tiles/\n",
      "cmd= rm -rf /dev/shm/data/tiles/\n",
      "cmd= mv /dev/shm/data/tmp_tiles/ /dev/shm/data/tiles/\n",
      "ls: cannot access '/Users/yoavfreund/projects/shapeology/data/tiles/*pkl': No such file or directory\n",
      "      0       0       0\n",
      "i=   2 shape=(10951, 41, 41), N=   29885, MB=   383.3\n",
      "file= MD657-F10-2017.02.17-19.35.42_MD657_1_0028_lossless_patches.tgz\n",
      "cmd= rm /dev/shm/data/tiles/*\n",
      "cmd= aws s3 cp s3://mousebraindata-open/MD657/MD657-F10-2017.02.17-19.35.42_MD657_1_0028_lossless_patches.tgz /dev/shm/data/tiles/MD657-F10-2017.02.17-19.35.42_MD657_1_0028_lossless_patches.tgz\n",
      "-rw-rw-r-- 1 ubuntu ubuntu 356205563 Sep 15 18:47 /dev/shm/data/tiles/MD657-F10-2017.02.17-19.35.42_MD657_1_0028_lossless_patches.tgz\n",
      "cmd= tar xzf /dev/shm/data/tiles/MD657-F10-2017.02.17-19.35.42_MD657_1_0028_lossless_patches.tgz -C /dev/shm/data/tiles\n",
      "moving from dev\n",
      "cmd= mv /dev/shm/data/tiles/dev/shm/data/tiles/ /dev/shm/data/tmp_tiles/\n",
      "cmd= rm -rf /dev/shm/data/tiles/\n",
      "cmd= mv /dev/shm/data/tmp_tiles/ /dev/shm/data/tiles/\n",
      "ls: cannot access '/Users/yoavfreund/projects/shapeology/data/tiles/*pkl': No such file or directory\n",
      "      0       0       0\n",
      "i=   3 shape=(36255, 41, 41), N=   66140, MB=   848.2\n",
      "file= MD657-F10-2017.02.17-19.35.42_MD657_3_0030_lossless_patches.tgz\n",
      "cmd= rm /dev/shm/data/tiles/*\n",
      "cmd= aws s3 cp s3://mousebraindata-open/MD657/MD657-F10-2017.02.17-19.35.42_MD657_3_0030_lossless_patches.tgz /dev/shm/data/tiles/MD657-F10-2017.02.17-19.35.42_MD657_3_0030_lossless_patches.tgz\n",
      "-rw-rw-r-- 1 ubuntu ubuntu 407734221 Sep 15 16:54 /dev/shm/data/tiles/MD657-F10-2017.02.17-19.35.42_MD657_3_0030_lossless_patches.tgz\n",
      "cmd= tar xzf /dev/shm/data/tiles/MD657-F10-2017.02.17-19.35.42_MD657_3_0030_lossless_patches.tgz -C /dev/shm/data/tiles\n"
     ]
    }
   ],
   "source": [
    "from os import system\n",
    "from glob import glob\n",
    "import pickle as pk\n",
    "import numpy as np\n",
    "from os.path import isdir\n",
    "\n",
    "def extract_vectors():\n",
    "    Vecs=[]\n",
    "    for filename in glob('%s/tiles/*extracted*'%local_data):\n",
    "        D=pk.load(open(filename,'rb'))\n",
    "        for e in D:\n",
    "            Vecs.append(e[-1])\n",
    "    return np.array(Vecs)\n",
    "\n",
    "def run(cmd):\n",
    "    print('cmd=',cmd)\n",
    "    system(cmd)\n",
    "\n",
    "local_data='/dev/shm/data'\n",
    "exec_dir='/home/ubuntu/shapeology_code/scripts'\n",
    "stack='s3://mousebraindata-open/MD657/'\n",
    "run('aws s3 ls %s | grep patches > logs/files'%stack)\n",
    "\n",
    "files=open('logs/files','r')\n",
    "i=0\n",
    "f=0\n",
    "N=0\n",
    "total_MB=0\n",
    "ALL_V=[]\n",
    "for line in files.readlines():\n",
    "    patch_file=line.split()[-1]\n",
    "    print('file=',patch_file)\n",
    "    run('rm %s/tiles/*'%local_data)\n",
    "    run('aws s3 cp %s%s %s/tiles/%s'%(stack,patch_file,local_data,patch_file))\n",
    "    !ls -l $local_data/tiles/$patch_file\n",
    "    run('tar xzf %s/tiles/%s -C %s/tiles'%(local_data,patch_file,local_data))\n",
    "    if isdir(local_data+'/tiles/dev'):\n",
    "        print('moving from dev')\n",
    "        run('mv {0}/tiles/dev/shm/data/tiles/ {0}/tmp_tiles/'.format(local_data))\n",
    "        run('rm -rf {0}/tiles/'.format(local_data))\n",
    "        run('mv {0}/tmp_tiles/ {0}/tiles/'.format(local_data))\n",
    "    !ls -l /Users/yoavfreund/projects/shapeology/data/tiles/*pkl | wc\n",
    "    V=extract_vectors()\n",
    "    shape=V.shape\n",
    "    if  shape[0]>0:   \n",
    "        ALL_V.append(V)\n",
    "        N+=shape[0]\n",
    "        total_MB+=V.size*8/(2.**20)\n",
    "        print('i=%4d shape=%s, N=%8d, MB=%8.1f'%(i,str(shape),N,total_MB))\n",
    "    else:\n",
    "        print('i=%4d shape=%s is empty'%(i,str(shape)))\n",
    "        break\n",
    "    i+=1\n",
    "\n",
    "    if total_MB>1000.:\n",
    "        total_MB=0\n",
    "        Vout=np.concatenate(ALL_V)\n",
    "        outfile='%s/patches%d.npz'%(local_data,f)\n",
    "        print('>>>>>>>>>>>>>>>>>>>>>>>>> saving to ',outfile)\n",
    "        np.savez(outfile,Vout)\n",
    "        f+=1\n",
    "        ALL_V=[]\n",
    "        n=0\n",
    "    "
   ]
  },
  {
   "cell_type": "code",
   "execution_count": null,
   "metadata": {
    "ExecuteTime": {
     "end_time": "2018-10-07T20:50:18.621731Z",
     "start_time": "2018-10-07T20:50:18.493071Z"
    }
   },
   "outputs": [],
   "source": [
    "!cd ~/.aws/\n",
    "!ls credits*"
   ]
  },
  {
   "cell_type": "code",
   "execution_count": null,
   "metadata": {
    "ExecuteTime": {
     "end_time": "2018-10-07T20:48:09.536486Z",
     "start_time": "2018-10-07T20:48:08.864725Z"
    }
   },
   "outputs": [],
   "source": [
    "!aws configure --profile "
   ]
  },
  {
   "cell_type": "code",
   "execution_count": null,
   "metadata": {
    "ExecuteTime": {
     "end_time": "2018-10-07T20:46:23.303508Z",
     "start_time": "2018-10-07T20:46:22.334217Z"
    }
   },
   "outputs": [],
   "source": [
    "!aws s3 ls s3://mousebraindata-open/MD657/"
   ]
  },
  {
   "cell_type": "code",
   "execution_count": null,
   "metadata": {
    "ExecuteTime": {
     "end_time": "2018-10-07T20:45:56.826474Z",
     "start_time": "2018-10-07T20:45:56.703039Z"
    }
   },
   "outputs": [],
   "source": [
    "!ls $exec_dir"
   ]
  },
  {
   "cell_type": "code",
   "execution_count": null,
   "metadata": {
    "ExecuteTime": {
     "end_time": "2018-09-16T17:20:29.365395Z",
     "start_time": "2018-09-16T17:20:29.230820Z"
    }
   },
   "outputs": [],
   "source": [
    "!ls /Users/yoavfreund/projects/shapeology/data/tiles/dev/shm/data/tiles/*.pkl"
   ]
  },
  {
   "cell_type": "code",
   "execution_count": null,
   "metadata": {
    "ExecuteTime": {
     "end_time": "2018-09-16T17:15:32.356826Z",
     "start_time": "2018-09-16T17:15:32.224953Z"
    }
   },
   "outputs": [],
   "source": [
    "!mv /Users/yoavfreund/projects/shapeology/data/tiles/dev/shm/data/tiles/ /Users/yoavfreund/projects/shapeology/data/tiles/"
   ]
  },
  {
   "cell_type": "code",
   "execution_count": null,
   "metadata": {
    "ExecuteTime": {
     "end_time": "2018-09-16T17:20:35.059527Z",
     "start_time": "2018-09-16T17:20:34.927276Z"
    }
   },
   "outputs": [],
   "source": [
    "!ls /Users/yoavfreund/projects/shapeology/data/tiles/"
   ]
  },
  {
   "cell_type": "code",
   "execution_count": null,
   "metadata": {
    "ExecuteTime": {
     "end_time": "2018-09-16T04:57:12.967983Z",
     "start_time": "2018-09-16T04:57:10.320070Z"
    }
   },
   "outputs": [],
   "source": [
    "ALL=np.concatenate(ALL_V)\n",
    "ALL.shape"
   ]
  },
  {
   "cell_type": "code",
   "execution_count": null,
   "metadata": {
    "ExecuteTime": {
     "end_time": "2018-09-16T04:58:33.466373Z",
     "start_time": "2018-09-16T04:58:33.461639Z"
    }
   },
   "outputs": [],
   "source": [
    "ALL.size*8 /(2.**20)"
   ]
  },
  {
   "cell_type": "code",
   "execution_count": null,
   "metadata": {
    "ExecuteTime": {
     "end_time": "2018-09-16T04:29:30.991518Z",
     "start_time": "2018-09-16T04:29:30.988714Z"
    }
   },
   "outputs": [],
   "source": [
    "local_data='/Users/yoavfreund/projects/shapeology/data'"
   ]
  },
  {
   "cell_type": "code",
   "execution_count": null,
   "metadata": {
    "ExecuteTime": {
     "end_time": "2018-09-16T04:41:20.558354Z",
     "start_time": "2018-09-16T04:41:20.424506Z"
    }
   },
   "outputs": [],
   "source": [
    "!ls -l /Users/yoavfreund/projects/shapeology/data/tiles"
   ]
  },
  {
   "cell_type": "code",
   "execution_count": null,
   "metadata": {
    "ExecuteTime": {
     "end_time": "2018-09-16T04:34:52.272054Z",
     "start_time": "2018-09-16T04:34:52.266693Z"
    }
   },
   "outputs": [],
   "source": [
    "from os.path import isdir\n",
    "isdir(local_data+'/patches/dev')\n",
    "!ls /Users/yoavfreund/projects/shapeology/data/patches/dev/shm/data/tiles/"
   ]
  },
  {
   "cell_type": "code",
   "execution_count": null,
   "metadata": {
    "ExecuteTime": {
     "end_time": "2018-09-16T01:13:15.971288Z",
     "start_time": "2018-09-16T01:13:15.967908Z"
    }
   },
   "outputs": [],
   "source": [
    "(V.size*8)/(1024*1024)"
   ]
  },
  {
   "cell_type": "code",
   "execution_count": null,
   "metadata": {
    "ExecuteTime": {
     "end_time": "2018-09-16T01:39:02.651402Z",
     "start_time": "2018-09-16T01:38:53.565220Z"
    }
   },
   "outputs": [],
   "source": [
    "!tar xzf /Users/yoavfreund/projects/shapeology/data/patches/MD657-F1-2017.02.17-17.39.26_MD657_3_0003_lossless_patches.tgz -C /Users/yoavfreund/projects/shapeology/data/patches"
   ]
  },
  {
   "cell_type": "code",
   "execution_count": null,
   "metadata": {
    "ExecuteTime": {
     "end_time": "2018-09-16T01:12:19.836514Z",
     "start_time": "2018-09-16T01:12:19.833168Z"
    }
   },
   "outputs": [],
   "source": [
    "15244989. /(41*41.)"
   ]
  },
  {
   "cell_type": "code",
   "execution_count": null,
   "metadata": {
    "ExecuteTime": {
     "end_time": "2018-09-16T01:12:40.553914Z",
     "start_time": "2018-09-16T01:12:40.550383Z"
    }
   },
   "outputs": [],
   "source": [
    "type(V[0,0,0])"
   ]
  },
  {
   "cell_type": "code",
   "execution_count": null,
   "metadata": {},
   "outputs": [],
   "source": []
  }
 ],
 "metadata": {
  "hide_input": false,
  "kernelspec": {
   "display_name": "Python 3",
   "language": "python",
   "name": "python3"
  },
  "language_info": {
   "codemirror_mode": {
    "name": "ipython",
    "version": 3
   },
   "file_extension": ".py",
   "mimetype": "text/x-python",
   "name": "python",
   "nbconvert_exporter": "python",
   "pygments_lexer": "ipython3",
   "version": "3.5.2"
  },
  "toc": {
   "base_numbering": 1,
   "nav_menu": {},
   "number_sections": true,
   "sideBar": true,
   "skip_h1_title": false,
   "title_cell": "Table of Contents",
   "title_sidebar": "Contents",
   "toc_cell": false,
   "toc_position": {},
   "toc_section_display": true,
   "toc_window_display": false
  }
 },
 "nbformat": 4,
 "nbformat_minor": 2
}
