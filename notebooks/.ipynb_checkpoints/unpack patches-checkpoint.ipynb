{
 "cells": [
  {
   "cell_type": "code",
   "execution_count": 2,
   "metadata": {
    "ExecuteTime": {
     "end_time": "2018-09-16T16:52:28.552952Z",
     "start_time": "2018-09-16T16:52:28.512760Z"
    }
   },
   "outputs": [
    {
     "name": "stdout",
     "output_type": "stream",
     "text": [
      "/Users/yoavfreund/projects/shapeology/shapeology_code/scripts\n"
     ]
    }
   ],
   "source": [
    "%cd ../scripts/"
   ]
  },
  {
   "cell_type": "code",
   "execution_count": 30,
   "metadata": {
    "ExecuteTime": {
     "end_time": "2018-09-16T17:49:10.948233Z",
     "start_time": "2018-09-16T17:21:50.610617Z"
    },
    "scrolled": false
   },
   "outputs": [
    {
     "name": "stdout",
     "output_type": "stream",
     "text": [
      "cmd= aws s3 ls s3://mousebraindata-open/MD657/ | grep patches > logs/files\n",
      "file= MD657-F1-2017.02.17-17.39.26_MD657_1_0001_lossless_patches.tgz\n",
      "cmd= rm /Users/yoavfreund/projects/shapeology/data/tiles/*\n",
      "cmd= aws s3 cp s3://mousebraindata-open/MD657/MD657-F1-2017.02.17-17.39.26_MD657_1_0001_lossless_patches.tgz /Users/yoavfreund/projects/shapeology/data/tiles/MD657-F1-2017.02.17-17.39.26_MD657_1_0001_lossless_patches.tgz\n",
      "-rw-r--r--  1 yoavfreund  staff  89100322 Sep 11 22:55 /Users/yoavfreund/projects/shapeology/data/tiles/MD657-F1-2017.02.17-17.39.26_MD657_1_0001_lossless_patches.tgz\n",
      "cmd= tar xzf /Users/yoavfreund/projects/shapeology/data/tiles/MD657-F1-2017.02.17-17.39.26_MD657_1_0001_lossless_patches.tgz -C /Users/yoavfreund/projects/shapeology/data/tiles\n",
      "      48     432    6094\n",
      "i=   0 shape=(9069, 41, 41), N=    9069, MB=   116.3\n",
      "file= MD657-F1-2017.02.17-17.39.26_MD657_2_0002_lossless_patches.tgz\n",
      "cmd= rm /Users/yoavfreund/projects/shapeology/data/tiles/*\n",
      "cmd= aws s3 cp s3://mousebraindata-open/MD657/MD657-F1-2017.02.17-17.39.26_MD657_2_0002_lossless_patches.tgz /Users/yoavfreund/projects/shapeology/data/tiles/MD657-F1-2017.02.17-17.39.26_MD657_2_0002_lossless_patches.tgz\n",
      "-rw-r--r--  1 yoavfreund  staff  96930800 Sep 12 22:28 /Users/yoavfreund/projects/shapeology/data/tiles/MD657-F1-2017.02.17-17.39.26_MD657_2_0002_lossless_patches.tgz\n",
      "cmd= tar xzf /Users/yoavfreund/projects/shapeology/data/tiles/MD657-F1-2017.02.17-17.39.26_MD657_2_0002_lossless_patches.tgz -C /Users/yoavfreund/projects/shapeology/data/tiles\n",
      "      51     459    6477\n",
      "i=   1 shape=(9865, 41, 41), N=   18934, MB=   242.8\n",
      "file= MD657-F1-2017.02.17-17.39.26_MD657_3_0003_lossless_patches.tgz\n",
      "cmd= rm /Users/yoavfreund/projects/shapeology/data/tiles/*\n",
      "cmd= aws s3 cp s3://mousebraindata-open/MD657/MD657-F1-2017.02.17-17.39.26_MD657_3_0003_lossless_patches.tgz /Users/yoavfreund/projects/shapeology/data/tiles/MD657-F1-2017.02.17-17.39.26_MD657_3_0003_lossless_patches.tgz\n",
      "-rw-r--r--  1 yoavfreund  staff  107583953 Sep 15 00:14 /Users/yoavfreund/projects/shapeology/data/tiles/MD657-F1-2017.02.17-17.39.26_MD657_3_0003_lossless_patches.tgz\n",
      "cmd= tar xzf /Users/yoavfreund/projects/shapeology/data/tiles/MD657-F1-2017.02.17-17.39.26_MD657_3_0003_lossless_patches.tgz -C /Users/yoavfreund/projects/shapeology/data/tiles\n",
      "moving from dev\n",
      "cmd= mv /Users/yoavfreund/projects/shapeology/data/tiles/dev/shm/data/tiles/ /Users/yoavfreund/projects/shapeology/data/tmp_tiles/\n",
      "cmd= rm -rf /Users/yoavfreund/projects/shapeology/data/tiles/\n",
      "cmd= mv /Users/yoavfreund/projects/shapeology/data/tmp_tiles/ /Users/yoavfreund/projects/shapeology/data/tiles/\n",
      "      79     711   10027\n",
      "i=   2 shape=(10951, 41, 41), N=   29885, MB=   383.3\n",
      "file= MD657-F10-2017.02.17-19.35.42_MD657_1_0028_lossless_patches.tgz\n",
      "cmd= rm /Users/yoavfreund/projects/shapeology/data/tiles/*\n",
      "cmd= aws s3 cp s3://mousebraindata-open/MD657/MD657-F10-2017.02.17-19.35.42_MD657_1_0028_lossless_patches.tgz /Users/yoavfreund/projects/shapeology/data/tiles/MD657-F10-2017.02.17-19.35.42_MD657_1_0028_lossless_patches.tgz\n",
      "-rw-r--r--  1 yoavfreund  staff  356205563 Sep 15 11:47 /Users/yoavfreund/projects/shapeology/data/tiles/MD657-F10-2017.02.17-19.35.42_MD657_1_0028_lossless_patches.tgz\n",
      "cmd= tar xzf /Users/yoavfreund/projects/shapeology/data/tiles/MD657-F10-2017.02.17-19.35.42_MD657_1_0028_lossless_patches.tgz -C /Users/yoavfreund/projects/shapeology/data/tiles\n",
      "moving from dev\n",
      "cmd= mv /Users/yoavfreund/projects/shapeology/data/tiles/dev/shm/data/tiles/ /Users/yoavfreund/projects/shapeology/data/tmp_tiles/\n",
      "cmd= rm -rf /Users/yoavfreund/projects/shapeology/data/tiles/\n",
      "cmd= mv /Users/yoavfreund/projects/shapeology/data/tmp_tiles/ /Users/yoavfreund/projects/shapeology/data/tiles/\n",
      "     178    1602   22602\n",
      "i=   3 shape=(36255, 41, 41), N=   66140, MB=   848.2\n",
      "file= MD657-F10-2017.02.17-19.35.42_MD657_3_0030_lossless_patches.tgz\n",
      "cmd= rm /Users/yoavfreund/projects/shapeology/data/tiles/*\n",
      "cmd= aws s3 cp s3://mousebraindata-open/MD657/MD657-F10-2017.02.17-19.35.42_MD657_3_0030_lossless_patches.tgz /Users/yoavfreund/projects/shapeology/data/tiles/MD657-F10-2017.02.17-19.35.42_MD657_3_0030_lossless_patches.tgz\n",
      "-rw-r--r--  1 yoavfreund  staff  407734221 Sep 15 09:54 /Users/yoavfreund/projects/shapeology/data/tiles/MD657-F10-2017.02.17-19.35.42_MD657_3_0030_lossless_patches.tgz\n",
      "cmd= tar xzf /Users/yoavfreund/projects/shapeology/data/tiles/MD657-F10-2017.02.17-19.35.42_MD657_3_0030_lossless_patches.tgz -C /Users/yoavfreund/projects/shapeology/data/tiles\n",
      "moving from dev\n",
      "cmd= mv /Users/yoavfreund/projects/shapeology/data/tiles/dev/shm/data/tiles/ /Users/yoavfreund/projects/shapeology/data/tmp_tiles/\n",
      "cmd= rm -rf /Users/yoavfreund/projects/shapeology/data/tiles/\n",
      "cmd= mv /Users/yoavfreund/projects/shapeology/data/tmp_tiles/ /Users/yoavfreund/projects/shapeology/data/tiles/\n",
      "     194    1746   24622\n",
      "i=   4 shape=(41516, 41, 41), N=  107656, MB=  1380.7\n",
      ">>>>>>>>>>>>>>>>>>>>>>>>> saving to  /Users/yoavfreund/projects/shapeology/data/patches0.npz\n",
      "file= MD657-F10-2017.02.21-17.57.42_MD657_1_0028_lossless_patches.tgz\n",
      "cmd= rm /Users/yoavfreund/projects/shapeology/data/tiles/*\n",
      "cmd= aws s3 cp s3://mousebraindata-open/MD657/MD657-F10-2017.02.21-17.57.42_MD657_1_0028_lossless_patches.tgz /Users/yoavfreund/projects/shapeology/data/tiles/MD657-F10-2017.02.21-17.57.42_MD657_1_0028_lossless_patches.tgz\n",
      "-rw-r--r--  1 yoavfreund  staff  253723703 Sep 15 11:26 /Users/yoavfreund/projects/shapeology/data/tiles/MD657-F10-2017.02.21-17.57.42_MD657_1_0028_lossless_patches.tgz\n",
      "cmd= tar xzf /Users/yoavfreund/projects/shapeology/data/tiles/MD657-F10-2017.02.21-17.57.42_MD657_1_0028_lossless_patches.tgz -C /Users/yoavfreund/projects/shapeology/data/tiles\n",
      "moving from dev\n",
      "cmd= mv /Users/yoavfreund/projects/shapeology/data/tiles/dev/shm/data/tiles/ /Users/yoavfreund/projects/shapeology/data/tmp_tiles/\n",
      "cmd= rm -rf /Users/yoavfreund/projects/shapeology/data/tiles/\n",
      "cmd= mv /Users/yoavfreund/projects/shapeology/data/tmp_tiles/ /Users/yoavfreund/projects/shapeology/data/tiles/\n",
      "     128    1152   16191\n",
      "i=   5 shape=(25826, 41, 41), N=  133482, MB=   331.2\n",
      "file= MD657-F10-2017.02.21-17.57.42_MD657_2_0029_lossless_patches.tgz\n",
      "cmd= rm /Users/yoavfreund/projects/shapeology/data/tiles/*\n",
      "cmd= aws s3 cp s3://mousebraindata-open/MD657/MD657-F10-2017.02.21-17.57.42_MD657_2_0029_lossless_patches.tgz /Users/yoavfreund/projects/shapeology/data/tiles/MD657-F10-2017.02.21-17.57.42_MD657_2_0029_lossless_patches.tgz\n",
      "-rw-r--r--  1 yoavfreund  staff  354136747 Sep 12 11:07 /Users/yoavfreund/projects/shapeology/data/tiles/MD657-F10-2017.02.21-17.57.42_MD657_2_0029_lossless_patches.tgz\n",
      "cmd= tar xzf /Users/yoavfreund/projects/shapeology/data/tiles/MD657-F10-2017.02.21-17.57.42_MD657_2_0029_lossless_patches.tgz -C /Users/yoavfreund/projects/shapeology/data/tiles\n",
      "     178    1602   22574\n",
      "i=   6 shape=(36042, 41, 41), N=  169524, MB=   793.5\n",
      "file= MD657-F10-2017.02.21-17.57.42_MD657_3_0030_lossless_patches.tgz\n",
      "cmd= rm /Users/yoavfreund/projects/shapeology/data/tiles/*\n",
      "cmd= aws s3 cp s3://mousebraindata-open/MD657/MD657-F10-2017.02.21-17.57.42_MD657_3_0030_lossless_patches.tgz /Users/yoavfreund/projects/shapeology/data/tiles/MD657-F10-2017.02.21-17.57.42_MD657_3_0030_lossless_patches.tgz\n",
      "-rw-r--r--  1 yoavfreund  staff  335502029 Sep 15 12:42 /Users/yoavfreund/projects/shapeology/data/tiles/MD657-F10-2017.02.21-17.57.42_MD657_3_0030_lossless_patches.tgz\n",
      "cmd= tar xzf /Users/yoavfreund/projects/shapeology/data/tiles/MD657-F10-2017.02.21-17.57.42_MD657_3_0030_lossless_patches.tgz -C /Users/yoavfreund/projects/shapeology/data/tiles\n",
      "moving from dev\n",
      "cmd= mv /Users/yoavfreund/projects/shapeology/data/tiles/dev/shm/data/tiles/ /Users/yoavfreund/projects/shapeology/data/tmp_tiles/\n",
      "cmd= rm -rf /Users/yoavfreund/projects/shapeology/data/tiles/\n",
      "cmd= mv /Users/yoavfreund/projects/shapeology/data/tmp_tiles/ /Users/yoavfreund/projects/shapeology/data/tiles/\n",
      "     158    1422   20008\n",
      "i=   7 shape=(34169, 41, 41), N=  203693, MB=  1231.7\n",
      ">>>>>>>>>>>>>>>>>>>>>>>>> saving to  /Users/yoavfreund/projects/shapeology/data/patches1.npz\n",
      "file= MD657-F11-2017.02.17-19.39.47_MD657_1_0031_lossless_patches.tgz\n",
      "cmd= rm /Users/yoavfreund/projects/shapeology/data/tiles/*\n",
      "cmd= aws s3 cp s3://mousebraindata-open/MD657/MD657-F11-2017.02.17-19.39.47_MD657_1_0031_lossless_patches.tgz /Users/yoavfreund/projects/shapeology/data/tiles/MD657-F11-2017.02.17-19.39.47_MD657_1_0031_lossless_patches.tgz\n"
     ]
    },
    {
     "name": "stdout",
     "output_type": "stream",
     "text": [
      "-rw-r--r--  1 yoavfreund  staff  378001279 Sep 15 01:07 /Users/yoavfreund/projects/shapeology/data/tiles/MD657-F11-2017.02.17-19.39.47_MD657_1_0031_lossless_patches.tgz\n",
      "cmd= tar xzf /Users/yoavfreund/projects/shapeology/data/tiles/MD657-F11-2017.02.17-19.39.47_MD657_1_0031_lossless_patches.tgz -C /Users/yoavfreund/projects/shapeology/data/tiles\n",
      "moving from dev\n",
      "cmd= mv /Users/yoavfreund/projects/shapeology/data/tiles/dev/shm/data/tiles/ /Users/yoavfreund/projects/shapeology/data/tmp_tiles/\n",
      "cmd= rm -rf /Users/yoavfreund/projects/shapeology/data/tiles/\n",
      "cmd= mv /Users/yoavfreund/projects/shapeology/data/tmp_tiles/ /Users/yoavfreund/projects/shapeology/data/tiles/\n",
      "     177    1593   22477\n",
      "i=   8 shape=(38487, 41, 41), N=  242180, MB=   493.6\n",
      "file= MD657-F11-2017.02.17-19.39.47_MD657_2_0032_lossless_patches.tgz\n",
      "cmd= rm /Users/yoavfreund/projects/shapeology/data/tiles/*\n",
      "cmd= aws s3 cp s3://mousebraindata-open/MD657/MD657-F11-2017.02.17-19.39.47_MD657_2_0032_lossless_patches.tgz /Users/yoavfreund/projects/shapeology/data/tiles/MD657-F11-2017.02.17-19.39.47_MD657_2_0032_lossless_patches.tgz\n",
      "-rw-r--r--  1 yoavfreund  staff  453107388 Sep 15 07:41 /Users/yoavfreund/projects/shapeology/data/tiles/MD657-F11-2017.02.17-19.39.47_MD657_2_0032_lossless_patches.tgz\n",
      "cmd= tar xzf /Users/yoavfreund/projects/shapeology/data/tiles/MD657-F11-2017.02.17-19.39.47_MD657_2_0032_lossless_patches.tgz -C /Users/yoavfreund/projects/shapeology/data/tiles\n",
      "moving from dev\n",
      "cmd= mv /Users/yoavfreund/projects/shapeology/data/tiles/dev/shm/data/tiles/ /Users/yoavfreund/projects/shapeology/data/tmp_tiles/\n",
      "cmd= rm -rf /Users/yoavfreund/projects/shapeology/data/tiles/\n",
      "cmd= mv /Users/yoavfreund/projects/shapeology/data/tmp_tiles/ /Users/yoavfreund/projects/shapeology/data/tiles/\n",
      "     220    1980   27930\n",
      "i=   9 shape=(46203, 41, 41), N=  288383, MB=  1086.2\n",
      ">>>>>>>>>>>>>>>>>>>>>>>>> saving to  /Users/yoavfreund/projects/shapeology/data/patches2.npz\n",
      "file= MD657-F11-2017.02.17-19.39.47_MD657_3_0033_lossless_patches.tgz\n",
      "cmd= rm /Users/yoavfreund/projects/shapeology/data/tiles/*\n",
      "cmd= aws s3 cp s3://mousebraindata-open/MD657/MD657-F11-2017.02.17-19.39.47_MD657_3_0033_lossless_patches.tgz /Users/yoavfreund/projects/shapeology/data/tiles/MD657-F11-2017.02.17-19.39.47_MD657_3_0033_lossless_patches.tgz\n",
      "-rw-r--r--  1 yoavfreund  staff  395977923 Sep 15 02:16 /Users/yoavfreund/projects/shapeology/data/tiles/MD657-F11-2017.02.17-19.39.47_MD657_3_0033_lossless_patches.tgz\n",
      "cmd= tar xzf /Users/yoavfreund/projects/shapeology/data/tiles/MD657-F11-2017.02.17-19.39.47_MD657_3_0033_lossless_patches.tgz -C /Users/yoavfreund/projects/shapeology/data/tiles\n",
      "moving from dev\n",
      "cmd= mv /Users/yoavfreund/projects/shapeology/data/tiles/dev/shm/data/tiles/ /Users/yoavfreund/projects/shapeology/data/tmp_tiles/\n",
      "cmd= rm -rf /Users/yoavfreund/projects/shapeology/data/tiles/\n",
      "cmd= mv /Users/yoavfreund/projects/shapeology/data/tmp_tiles/ /Users/yoavfreund/projects/shapeology/data/tiles/\n",
      "     189    1701   23999\n",
      "i=  10 shape=(40314, 41, 41), N=  328697, MB=   517.0\n",
      "file= MD657-F12-2017.02.17-19.55.34_MD657_1_0034_lossless_patches.tgz\n",
      "cmd= rm /Users/yoavfreund/projects/shapeology/data/tiles/*\n",
      "cmd= aws s3 cp s3://mousebraindata-open/MD657/MD657-F12-2017.02.17-19.55.34_MD657_1_0034_lossless_patches.tgz /Users/yoavfreund/projects/shapeology/data/tiles/MD657-F12-2017.02.17-19.55.34_MD657_1_0034_lossless_patches.tgz\n",
      "-rw-r--r--  1 yoavfreund  staff  396482100 Sep 11 17:11 /Users/yoavfreund/projects/shapeology/data/tiles/MD657-F12-2017.02.17-19.55.34_MD657_1_0034_lossless_patches.tgz\n",
      "cmd= tar xzf /Users/yoavfreund/projects/shapeology/data/tiles/MD657-F12-2017.02.17-19.55.34_MD657_1_0034_lossless_patches.tgz -C /Users/yoavfreund/projects/shapeology/data/tiles\n",
      "     192    1728   24384\n",
      "i=  11 shape=(40358, 41, 41), N=  369055, MB=  1034.6\n",
      ">>>>>>>>>>>>>>>>>>>>>>>>> saving to  /Users/yoavfreund/projects/shapeology/data/patches3.npz\n",
      "file= MD657-F12-2017.02.17-19.55.34_MD657_2_0035_lossless_patches.tgz\n",
      "cmd= rm /Users/yoavfreund/projects/shapeology/data/tiles/*\n",
      "cmd= aws s3 cp s3://mousebraindata-open/MD657/MD657-F12-2017.02.17-19.55.34_MD657_2_0035_lossless_patches.tgz /Users/yoavfreund/projects/shapeology/data/tiles/MD657-F12-2017.02.17-19.55.34_MD657_2_0035_lossless_patches.tgz\n",
      "-rw-r--r--  1 yoavfreund  staff  458371952 Sep 15 14:29 /Users/yoavfreund/projects/shapeology/data/tiles/MD657-F12-2017.02.17-19.55.34_MD657_2_0035_lossless_patches.tgz\n",
      "cmd= tar xzf /Users/yoavfreund/projects/shapeology/data/tiles/MD657-F12-2017.02.17-19.55.34_MD657_2_0035_lossless_patches.tgz -C /Users/yoavfreund/projects/shapeology/data/tiles\n",
      "moving from dev\n",
      "cmd= mv /Users/yoavfreund/projects/shapeology/data/tiles/dev/shm/data/tiles/ /Users/yoavfreund/projects/shapeology/data/tmp_tiles/\n",
      "cmd= rm -rf /Users/yoavfreund/projects/shapeology/data/tiles/\n",
      "cmd= mv /Users/yoavfreund/projects/shapeology/data/tmp_tiles/ /Users/yoavfreund/projects/shapeology/data/tiles/\n",
      "     199    1791   25263\n",
      "i=  12 shape=(46672, 41, 41), N=  415727, MB=   598.6\n",
      "file= MD657-F12-2017.02.17-19.55.34_MD657_3_0036_lossless_patches.tgz\n",
      "cmd= rm /Users/yoavfreund/projects/shapeology/data/tiles/*\n",
      "cmd= aws s3 cp s3://mousebraindata-open/MD657/MD657-F12-2017.02.17-19.55.34_MD657_3_0036_lossless_patches.tgz /Users/yoavfreund/projects/shapeology/data/tiles/MD657-F12-2017.02.17-19.55.34_MD657_3_0036_lossless_patches.tgz\n",
      "-rw-r--r--  1 yoavfreund  staff  418481841 Sep 15 10:28 /Users/yoavfreund/projects/shapeology/data/tiles/MD657-F12-2017.02.17-19.55.34_MD657_3_0036_lossless_patches.tgz\n",
      "cmd= tar xzf /Users/yoavfreund/projects/shapeology/data/tiles/MD657-F12-2017.02.17-19.55.34_MD657_3_0036_lossless_patches.tgz -C /Users/yoavfreund/projects/shapeology/data/tiles\n",
      "moving from dev\n",
      "cmd= mv /Users/yoavfreund/projects/shapeology/data/tiles/dev/shm/data/tiles/ /Users/yoavfreund/projects/shapeology/data/tmp_tiles/\n",
      "cmd= rm -rf /Users/yoavfreund/projects/shapeology/data/tiles/\n",
      "cmd= mv /Users/yoavfreund/projects/shapeology/data/tmp_tiles/ /Users/yoavfreund/projects/shapeology/data/tiles/\n",
      "     193    1737   24509\n",
      "i=  13 shape=(42599, 41, 41), N=  458326, MB=  1144.9\n",
      ">>>>>>>>>>>>>>>>>>>>>>>>> saving to  /Users/yoavfreund/projects/shapeology/data/patches4.npz\n",
      "file= MD657-F13-2017.02.17-20.12.13_MD657_1_0037_lossless_patches.tgz\n",
      "cmd= rm /Users/yoavfreund/projects/shapeology/data/tiles/*\n",
      "cmd= aws s3 cp s3://mousebraindata-open/MD657/MD657-F13-2017.02.17-20.12.13_MD657_1_0037_lossless_patches.tgz /Users/yoavfreund/projects/shapeology/data/tiles/MD657-F13-2017.02.17-20.12.13_MD657_1_0037_lossless_patches.tgz\n",
      "-rw-r--r--  1 yoavfreund  staff  430405292 Sep 15 02:37 /Users/yoavfreund/projects/shapeology/data/tiles/MD657-F13-2017.02.17-20.12.13_MD657_1_0037_lossless_patches.tgz\n",
      "cmd= tar xzf /Users/yoavfreund/projects/shapeology/data/tiles/MD657-F13-2017.02.17-20.12.13_MD657_1_0037_lossless_patches.tgz -C /Users/yoavfreund/projects/shapeology/data/tiles\n",
      "moving from dev\n",
      "cmd= mv /Users/yoavfreund/projects/shapeology/data/tiles/dev/shm/data/tiles/ /Users/yoavfreund/projects/shapeology/data/tmp_tiles/\n",
      "cmd= rm -rf /Users/yoavfreund/projects/shapeology/data/tiles/\n",
      "cmd= mv /Users/yoavfreund/projects/shapeology/data/tmp_tiles/ /Users/yoavfreund/projects/shapeology/data/tiles/\n",
      "     196    1764   24888\n",
      "i=  14 shape=(43815, 41, 41), N=  502141, MB=   561.9\n",
      "file= MD657-F13-2017.02.17-20.12.13_MD657_2_0038_lossless_patches.tgz\n",
      "cmd= rm /Users/yoavfreund/projects/shapeology/data/tiles/*\n",
      "cmd= aws s3 cp s3://mousebraindata-open/MD657/MD657-F13-2017.02.17-20.12.13_MD657_2_0038_lossless_patches.tgz /Users/yoavfreund/projects/shapeology/data/tiles/MD657-F13-2017.02.17-20.12.13_MD657_2_0038_lossless_patches.tgz\n",
      "-rw-r--r--  1 yoavfreund  staff  461029601 Sep 15 10:24 /Users/yoavfreund/projects/shapeology/data/tiles/MD657-F13-2017.02.17-20.12.13_MD657_2_0038_lossless_patches.tgz\n",
      "cmd= tar xzf /Users/yoavfreund/projects/shapeology/data/tiles/MD657-F13-2017.02.17-20.12.13_MD657_2_0038_lossless_patches.tgz -C /Users/yoavfreund/projects/shapeology/data/tiles\n",
      "moving from dev\n",
      "cmd= mv /Users/yoavfreund/projects/shapeology/data/tiles/dev/shm/data/tiles/ /Users/yoavfreund/projects/shapeology/data/tmp_tiles/\n",
      "cmd= rm -rf /Users/yoavfreund/projects/shapeology/data/tiles/\n",
      "cmd= mv /Users/yoavfreund/projects/shapeology/data/tmp_tiles/ /Users/yoavfreund/projects/shapeology/data/tiles/\n",
      "     211    1899   26797\n"
     ]
    },
    {
     "name": "stdout",
     "output_type": "stream",
     "text": [
      "i=  15 shape=(46936, 41, 41), N=  549077, MB=  1163.9\n",
      ">>>>>>>>>>>>>>>>>>>>>>>>> saving to  /Users/yoavfreund/projects/shapeology/data/patches5.npz\n",
      "file= MD657-F13-2017.02.17-20.12.13_MD657_3_0039_lossless_patches.tgz\n",
      "cmd= rm /Users/yoavfreund/projects/shapeology/data/tiles/*\n",
      "cmd= aws s3 cp s3://mousebraindata-open/MD657/MD657-F13-2017.02.17-20.12.13_MD657_3_0039_lossless_patches.tgz /Users/yoavfreund/projects/shapeology/data/tiles/MD657-F13-2017.02.17-20.12.13_MD657_3_0039_lossless_patches.tgz\n",
      "-rw-r--r--  1 yoavfreund  staff  432721206 Sep 15 13:45 /Users/yoavfreund/projects/shapeology/data/tiles/MD657-F13-2017.02.17-20.12.13_MD657_3_0039_lossless_patches.tgz\n",
      "cmd= tar xzf /Users/yoavfreund/projects/shapeology/data/tiles/MD657-F13-2017.02.17-20.12.13_MD657_3_0039_lossless_patches.tgz -C /Users/yoavfreund/projects/shapeology/data/tiles\n",
      "moving from dev\n",
      "cmd= mv /Users/yoavfreund/projects/shapeology/data/tiles/dev/shm/data/tiles/ /Users/yoavfreund/projects/shapeology/data/tmp_tiles/\n",
      "cmd= rm -rf /Users/yoavfreund/projects/shapeology/data/tiles/\n",
      "cmd= mv /Users/yoavfreund/projects/shapeology/data/tmp_tiles/ /Users/yoavfreund/projects/shapeology/data/tiles/\n",
      "     212    1908   26924\n",
      "i=  16 shape=(44051, 41, 41), N=  593128, MB=   565.0\n",
      "file= MD657-F14-2017.02.17-20.29.47_MD657_1_0040_lossless_patches.tgz\n",
      "cmd= rm /Users/yoavfreund/projects/shapeology/data/tiles/*\n",
      "cmd= aws s3 cp s3://mousebraindata-open/MD657/MD657-F14-2017.02.17-20.29.47_MD657_1_0040_lossless_patches.tgz /Users/yoavfreund/projects/shapeology/data/tiles/MD657-F14-2017.02.17-20.29.47_MD657_1_0040_lossless_patches.tgz\n",
      "-rw-r--r--  1 yoavfreund  staff  391751691 Sep 15 07:13 /Users/yoavfreund/projects/shapeology/data/tiles/MD657-F14-2017.02.17-20.29.47_MD657_1_0040_lossless_patches.tgz\n",
      "cmd= tar xzf /Users/yoavfreund/projects/shapeology/data/tiles/MD657-F14-2017.02.17-20.29.47_MD657_1_0040_lossless_patches.tgz -C /Users/yoavfreund/projects/shapeology/data/tiles\n",
      "moving from dev\n",
      "cmd= mv /Users/yoavfreund/projects/shapeology/data/tiles/dev/shm/data/tiles/ /Users/yoavfreund/projects/shapeology/data/tmp_tiles/\n",
      "cmd= rm -rf /Users/yoavfreund/projects/shapeology/data/tiles/\n",
      "cmd= mv /Users/yoavfreund/projects/shapeology/data/tmp_tiles/ /Users/yoavfreund/projects/shapeology/data/tiles/\n",
      "     182    1638   23113\n",
      "i=  17 shape=(39886, 41, 41), N=  633014, MB=  1076.5\n",
      ">>>>>>>>>>>>>>>>>>>>>>>>> saving to  /Users/yoavfreund/projects/shapeology/data/patches6.npz\n",
      "file= MD657-F14-2017.02.17-20.29.47_MD657_2_0041_lossless_patches.tgz\n",
      "cmd= rm /Users/yoavfreund/projects/shapeology/data/tiles/*\n",
      "cmd= aws s3 cp s3://mousebraindata-open/MD657/MD657-F14-2017.02.17-20.29.47_MD657_2_0041_lossless_patches.tgz /Users/yoavfreund/projects/shapeology/data/tiles/MD657-F14-2017.02.17-20.29.47_MD657_2_0041_lossless_patches.tgz\n",
      "-rw-r--r--  1 yoavfreund  staff  633365896 Sep 15 03:25 /Users/yoavfreund/projects/shapeology/data/tiles/MD657-F14-2017.02.17-20.29.47_MD657_2_0041_lossless_patches.tgz\n",
      "cmd= tar xzf /Users/yoavfreund/projects/shapeology/data/tiles/MD657-F14-2017.02.17-20.29.47_MD657_2_0041_lossless_patches.tgz -C /Users/yoavfreund/projects/shapeology/data/tiles\n",
      "moving from dev\n",
      "cmd= mv /Users/yoavfreund/projects/shapeology/data/tiles/dev/shm/data/tiles/ /Users/yoavfreund/projects/shapeology/data/tmp_tiles/\n",
      "cmd= rm -rf /Users/yoavfreund/projects/shapeology/data/tiles/\n",
      "cmd= mv /Users/yoavfreund/projects/shapeology/data/tmp_tiles/ /Users/yoavfreund/projects/shapeology/data/tiles/\n",
      "     297    2673   37704\n",
      "i=  18 shape=(64514, 41, 41), N=  697528, MB=   827.4\n",
      "file= MD657-F14-2017.02.17-20.29.47_MD657_3_0042_lossless_patches.tgz\n",
      "cmd= rm /Users/yoavfreund/projects/shapeology/data/tiles/*\n",
      "cmd= aws s3 cp s3://mousebraindata-open/MD657/MD657-F14-2017.02.17-20.29.47_MD657_3_0042_lossless_patches.tgz /Users/yoavfreund/projects/shapeology/data/tiles/MD657-F14-2017.02.17-20.29.47_MD657_3_0042_lossless_patches.tgz\n",
      "-rw-r--r--  1 yoavfreund  staff  486938369 Sep 15 12:01 /Users/yoavfreund/projects/shapeology/data/tiles/MD657-F14-2017.02.17-20.29.47_MD657_3_0042_lossless_patches.tgz\n",
      "cmd= tar xzf /Users/yoavfreund/projects/shapeology/data/tiles/MD657-F14-2017.02.17-20.29.47_MD657_3_0042_lossless_patches.tgz -C /Users/yoavfreund/projects/shapeology/data/tiles\n",
      "moving from dev\n",
      "cmd= mv /Users/yoavfreund/projects/shapeology/data/tiles/dev/shm/data/tiles/ /Users/yoavfreund/projects/shapeology/data/tmp_tiles/\n",
      "cmd= rm -rf /Users/yoavfreund/projects/shapeology/data/tiles/\n",
      "cmd= mv /Users/yoavfreund/projects/shapeology/data/tmp_tiles/ /Users/yoavfreund/projects/shapeology/data/tiles/\n",
      "     217    1953   27557\n",
      "i=  19 shape=(49567, 41, 41), N=  747095, MB=  1463.1\n",
      ">>>>>>>>>>>>>>>>>>>>>>>>> saving to  /Users/yoavfreund/projects/shapeology/data/patches7.npz\n",
      "file= MD657-F15-2017.02.17-20.46.06_MD657_1_0043_lossless_patches.tgz\n",
      "cmd= rm /Users/yoavfreund/projects/shapeology/data/tiles/*\n",
      "cmd= aws s3 cp s3://mousebraindata-open/MD657/MD657-F15-2017.02.17-20.46.06_MD657_1_0043_lossless_patches.tgz /Users/yoavfreund/projects/shapeology/data/tiles/MD657-F15-2017.02.17-20.46.06_MD657_1_0043_lossless_patches.tgz\n",
      "-rw-r--r--  1 yoavfreund  staff  449491441 Sep 15 12:54 /Users/yoavfreund/projects/shapeology/data/tiles/MD657-F15-2017.02.17-20.46.06_MD657_1_0043_lossless_patches.tgz\n",
      "cmd= tar xzf /Users/yoavfreund/projects/shapeology/data/tiles/MD657-F15-2017.02.17-20.46.06_MD657_1_0043_lossless_patches.tgz -C /Users/yoavfreund/projects/shapeology/data/tiles\n",
      "moving from dev\n",
      "cmd= mv /Users/yoavfreund/projects/shapeology/data/tiles/dev/shm/data/tiles/ /Users/yoavfreund/projects/shapeology/data/tmp_tiles/\n",
      "cmd= rm -rf /Users/yoavfreund/projects/shapeology/data/tiles/\n",
      "cmd= mv /Users/yoavfreund/projects/shapeology/data/tmp_tiles/ /Users/yoavfreund/projects/shapeology/data/tiles/\n",
      "     223    2007   28320\n",
      "i=  20 shape=(45768, 41, 41), N=  792863, MB=   587.0\n",
      "file= MD657-F15-2017.02.17-20.46.06_MD657_2_0044_lossless_patches.tgz\n",
      "cmd= rm /Users/yoavfreund/projects/shapeology/data/tiles/*\n",
      "cmd= aws s3 cp s3://mousebraindata-open/MD657/MD657-F15-2017.02.17-20.46.06_MD657_2_0044_lossless_patches.tgz /Users/yoavfreund/projects/shapeology/data/tiles/MD657-F15-2017.02.17-20.46.06_MD657_2_0044_lossless_patches.tgz\n",
      "-rw-r--r--  1 yoavfreund  staff  472083797 Sep 15 02:33 /Users/yoavfreund/projects/shapeology/data/tiles/MD657-F15-2017.02.17-20.46.06_MD657_2_0044_lossless_patches.tgz\n",
      "cmd= tar xzf /Users/yoavfreund/projects/shapeology/data/tiles/MD657-F15-2017.02.17-20.46.06_MD657_2_0044_lossless_patches.tgz -C /Users/yoavfreund/projects/shapeology/data/tiles\n",
      "moving from dev\n",
      "cmd= mv /Users/yoavfreund/projects/shapeology/data/tiles/dev/shm/data/tiles/ /Users/yoavfreund/projects/shapeology/data/tmp_tiles/\n",
      "cmd= rm -rf /Users/yoavfreund/projects/shapeology/data/tiles/\n",
      "cmd= mv /Users/yoavfreund/projects/shapeology/data/tmp_tiles/ /Users/yoavfreund/projects/shapeology/data/tiles/\n",
      "     233    2097   29591\n",
      "i=  21 shape=(48066, 41, 41), N=  840929, MB=  1203.4\n",
      ">>>>>>>>>>>>>>>>>>>>>>>>> saving to  /Users/yoavfreund/projects/shapeology/data/patches8.npz\n",
      "file= MD657-F15-2017.02.17-20.46.06_MD657_3_0045_lossless_patches.tgz\n",
      "cmd= rm /Users/yoavfreund/projects/shapeology/data/tiles/*\n",
      "cmd= aws s3 cp s3://mousebraindata-open/MD657/MD657-F15-2017.02.17-20.46.06_MD657_3_0045_lossless_patches.tgz /Users/yoavfreund/projects/shapeology/data/tiles/MD657-F15-2017.02.17-20.46.06_MD657_3_0045_lossless_patches.tgz\n",
      "-rw-r--r--  1 yoavfreund  staff  503513659 Sep 15 04:39 /Users/yoavfreund/projects/shapeology/data/tiles/MD657-F15-2017.02.17-20.46.06_MD657_3_0045_lossless_patches.tgz\n",
      "cmd= tar xzf /Users/yoavfreund/projects/shapeology/data/tiles/MD657-F15-2017.02.17-20.46.06_MD657_3_0045_lossless_patches.tgz -C /Users/yoavfreund/projects/shapeology/data/tiles\n",
      "moving from dev\n",
      "cmd= mv /Users/yoavfreund/projects/shapeology/data/tiles/dev/shm/data/tiles/ /Users/yoavfreund/projects/shapeology/data/tmp_tiles/\n",
      "cmd= rm -rf /Users/yoavfreund/projects/shapeology/data/tiles/\n",
      "cmd= mv /Users/yoavfreund/projects/shapeology/data/tmp_tiles/ /Users/yoavfreund/projects/shapeology/data/tiles/\n",
      "     236    2124   29970\n",
      "i=  22 shape=(51259, 41, 41), N=  892188, MB=   657.4\n",
      "file= MD657-F16-2017.02.17-21.02.17_MD657_1_0046_lossless_patches.tgz\n",
      "cmd= rm /Users/yoavfreund/projects/shapeology/data/tiles/*\n"
     ]
    },
    {
     "name": "stdout",
     "output_type": "stream",
     "text": [
      "cmd= aws s3 cp s3://mousebraindata-open/MD657/MD657-F16-2017.02.17-21.02.17_MD657_1_0046_lossless_patches.tgz /Users/yoavfreund/projects/shapeology/data/tiles/MD657-F16-2017.02.17-21.02.17_MD657_1_0046_lossless_patches.tgz\n",
      "-rw-r--r--  1 yoavfreund  staff  426139836 Sep 15 11:27 /Users/yoavfreund/projects/shapeology/data/tiles/MD657-F16-2017.02.17-21.02.17_MD657_1_0046_lossless_patches.tgz\n",
      "cmd= tar xzf /Users/yoavfreund/projects/shapeology/data/tiles/MD657-F16-2017.02.17-21.02.17_MD657_1_0046_lossless_patches.tgz -C /Users/yoavfreund/projects/shapeology/data/tiles\n",
      "moving from dev\n",
      "cmd= mv /Users/yoavfreund/projects/shapeology/data/tiles/dev/shm/data/tiles/ /Users/yoavfreund/projects/shapeology/data/tmp_tiles/\n",
      "cmd= rm -rf /Users/yoavfreund/projects/shapeology/data/tiles/\n",
      "cmd= mv /Users/yoavfreund/projects/shapeology/data/tmp_tiles/ /Users/yoavfreund/projects/shapeology/data/tiles/\n",
      "     217    1953   27559\n",
      "i=  23 shape=(43382, 41, 41), N=  935570, MB=  1213.8\n",
      ">>>>>>>>>>>>>>>>>>>>>>>>> saving to  /Users/yoavfreund/projects/shapeology/data/patches9.npz\n",
      "file= MD657-F16-2017.02.17-21.02.17_MD657_2_0047_lossless_patches.tgz\n",
      "cmd= rm /Users/yoavfreund/projects/shapeology/data/tiles/*\n",
      "cmd= aws s3 cp s3://mousebraindata-open/MD657/MD657-F16-2017.02.17-21.02.17_MD657_2_0047_lossless_patches.tgz /Users/yoavfreund/projects/shapeology/data/tiles/MD657-F16-2017.02.17-21.02.17_MD657_2_0047_lossless_patches.tgz\n",
      "-rw-r--r--  1 yoavfreund  staff  482642888 Sep 15 15:07 /Users/yoavfreund/projects/shapeology/data/tiles/MD657-F16-2017.02.17-21.02.17_MD657_2_0047_lossless_patches.tgz\n",
      "cmd= tar xzf /Users/yoavfreund/projects/shapeology/data/tiles/MD657-F16-2017.02.17-21.02.17_MD657_2_0047_lossless_patches.tgz -C /Users/yoavfreund/projects/shapeology/data/tiles\n",
      "moving from dev\n",
      "cmd= mv /Users/yoavfreund/projects/shapeology/data/tiles/dev/shm/data/tiles/ /Users/yoavfreund/projects/shapeology/data/tmp_tiles/\n",
      "cmd= rm -rf /Users/yoavfreund/projects/shapeology/data/tiles/\n",
      "cmd= mv /Users/yoavfreund/projects/shapeology/data/tmp_tiles/ /Users/yoavfreund/projects/shapeology/data/tiles/\n",
      "     233    2097   29590\n",
      "i=  24 shape=(49137, 41, 41), N=  984707, MB=   630.2\n",
      "file= MD657-F16-2017.02.17-21.02.17_MD657_3_0048_lossless_patches.tgz\n",
      "cmd= rm /Users/yoavfreund/projects/shapeology/data/tiles/*\n",
      "cmd= aws s3 cp s3://mousebraindata-open/MD657/MD657-F16-2017.02.17-21.02.17_MD657_3_0048_lossless_patches.tgz /Users/yoavfreund/projects/shapeology/data/tiles/MD657-F16-2017.02.17-21.02.17_MD657_3_0048_lossless_patches.tgz\n",
      "-rw-r--r--  1 yoavfreund  staff  525852685 Sep 15 08:08 /Users/yoavfreund/projects/shapeology/data/tiles/MD657-F16-2017.02.17-21.02.17_MD657_3_0048_lossless_patches.tgz\n",
      "cmd= tar xzf /Users/yoavfreund/projects/shapeology/data/tiles/MD657-F16-2017.02.17-21.02.17_MD657_3_0048_lossless_patches.tgz -C /Users/yoavfreund/projects/shapeology/data/tiles\n",
      "moving from dev\n",
      "cmd= mv /Users/yoavfreund/projects/shapeology/data/tiles/dev/shm/data/tiles/ /Users/yoavfreund/projects/shapeology/data/tmp_tiles/\n",
      "cmd= rm -rf /Users/yoavfreund/projects/shapeology/data/tiles/\n",
      "cmd= mv /Users/yoavfreund/projects/shapeology/data/tmp_tiles/ /Users/yoavfreund/projects/shapeology/data/tiles/\n",
      "     247    2223   31372\n",
      "i=  25 shape=(53530, 41, 41), N= 1038237, MB=  1316.7\n",
      ">>>>>>>>>>>>>>>>>>>>>>>>> saving to  /Users/yoavfreund/projects/shapeology/data/patches10.npz\n",
      "file= MD657-F17-2017.02.17-21.22.26_MD657_1_0049_lossless_patches.tgz\n",
      "cmd= rm /Users/yoavfreund/projects/shapeology/data/tiles/*\n",
      "cmd= aws s3 cp s3://mousebraindata-open/MD657/MD657-F17-2017.02.17-21.22.26_MD657_1_0049_lossless_patches.tgz /Users/yoavfreund/projects/shapeology/data/tiles/MD657-F17-2017.02.17-21.22.26_MD657_1_0049_lossless_patches.tgz\n",
      "ls: /Users/yoavfreund/projects/shapeology/data/tiles/MD657-F17-2017.02.17-21.22.26_MD657_1_0049_lossless_patches.tgz: No such file or directory\n",
      "cmd= tar xzf /Users/yoavfreund/projects/shapeology/data/tiles/MD657-F17-2017.02.17-21.22.26_MD657_1_0049_lossless_patches.tgz -C /Users/yoavfreund/projects/shapeology/data/tiles\n",
      "ls: /Users/yoavfreund/projects/shapeology/data/tiles/*pkl: No such file or directory\n",
      "       0       0       0\n",
      "i=  26 shape=(0,) is empty\n"
     ]
    }
   ],
   "source": [
    "from os import system\n",
    "from glob import glob\n",
    "import pickle as pk\n",
    "import numpy as np\n",
    "from os.path import isdir\n",
    "\n",
    "def extract_vectors():\n",
    "    Vecs=[]\n",
    "    for filename in glob('%s/tiles/*extracted*'%local_data):\n",
    "        D=pk.load(open(filename,'rb'))\n",
    "        for e in D:\n",
    "            Vecs.append(e[-1])\n",
    "    return np.array(Vecs)\n",
    "\n",
    "def run(cmd):\n",
    "    print('cmd=',cmd)\n",
    "    system(cmd)\n",
    "\n",
    "#local_data='/dev/shm/data'\n",
    "local_data='/Users/yoavfreund/projects/shapeology/data'\n",
    "exec_dir='/home/ubuntu/shapeology_code/scripts'\n",
    "stack='s3://mousebraindata-open/MD657/'\n",
    "run('aws s3 ls %s | grep patches > logs/files'%stack)\n",
    "\n",
    "files=open('logs/files','r')\n",
    "i=0\n",
    "f=0\n",
    "N=0\n",
    "total_MB=0\n",
    "ALL_V=[]\n",
    "for line in files.readlines():\n",
    "    patch_file=line.split()[-1]\n",
    "    print('file=',patch_file)\n",
    "    run('rm %s/tiles/*'%local_data)\n",
    "    run('aws s3 cp %s%s %s/tiles/%s'%(stack,patch_file,local_data,patch_file))\n",
    "    !ls -l $local_data/tiles/$patch_file\n",
    "    run('tar xzf %s/tiles/%s -C %s/tiles'%(local_data,patch_file,local_data))\n",
    "    if isdir(local_data+'/tiles/dev'):\n",
    "        print('moving from dev')\n",
    "        run('mv {0}/tiles/dev/shm/data/tiles/ {0}/tmp_tiles/'.format(local_data))\n",
    "        run('rm -rf {0}/tiles/'.format(local_data))\n",
    "        run('mv {0}/tmp_tiles/ {0}/tiles/'.format(local_data))\n",
    "    !ls -l /Users/yoavfreund/projects/shapeology/data/tiles/*pkl | wc\n",
    "    V=extract_vectors()\n",
    "    shape=V.shape\n",
    "    if  shape[0]>0:   \n",
    "        ALL_V.append(V)\n",
    "        N+=shape[0]\n",
    "        total_MB+=V.size*8/(2.**20)\n",
    "        print('i=%4d shape=%s, N=%8d, MB=%8.1f'%(i,str(shape),N,total_MB))\n",
    "    else:\n",
    "        print('i=%4d shape=%s is empty'%(i,str(shape)))\n",
    "        break\n",
    "    i+=1\n",
    "\n",
    "    if total_MB>1000.:\n",
    "        total_MB=0\n",
    "        Vout=np.concatenate(ALL_V)\n",
    "        outfile='%s/patches%d.npz'%(local_data,f)\n",
    "        print('>>>>>>>>>>>>>>>>>>>>>>>>> saving to ',outfile)\n",
    "        np.savez(outfile,Vout)\n",
    "        f+=1\n",
    "        ALL_V=[]\n",
    "        n=0\n",
    "    "
   ]
  },
  {
   "cell_type": "code",
   "execution_count": 28,
   "metadata": {
    "ExecuteTime": {
     "end_time": "2018-09-16T17:20:29.365395Z",
     "start_time": "2018-09-16T17:20:29.230820Z"
    }
   },
   "outputs": [
    {
     "name": "stdout",
     "output_type": "stream",
     "text": [
      "ls: /Users/yoavfreund/projects/shapeology/data/tiles/dev/shm/data/tiles/*.pkl: No such file or directory\r\n"
     ]
    }
   ],
   "source": [
    "!ls /Users/yoavfreund/projects/shapeology/data/tiles/dev/shm/data/tiles/*.pkl"
   ]
  },
  {
   "cell_type": "code",
   "execution_count": 25,
   "metadata": {
    "ExecuteTime": {
     "end_time": "2018-09-16T17:15:32.356826Z",
     "start_time": "2018-09-16T17:15:32.224953Z"
    }
   },
   "outputs": [
    {
     "name": "stdout",
     "output_type": "stream",
     "text": [
      "mv: rename /Users/yoavfreund/projects/shapeology/data/tiles/dev/shm/data/tiles/ to /Users/yoavfreund/projects/shapeology/data/tiles/tiles/: Directory not empty\r\n"
     ]
    }
   ],
   "source": [
    "!mv /Users/yoavfreund/projects/shapeology/data/tiles/dev/shm/data/tiles/ /Users/yoavfreund/projects/shapeology/data/tiles/"
   ]
  },
  {
   "cell_type": "code",
   "execution_count": 29,
   "metadata": {
    "ExecuteTime": {
     "end_time": "2018-09-16T17:20:35.059527Z",
     "start_time": "2018-09-16T17:20:34.927276Z"
    }
   },
   "outputs": [
    {
     "name": "stdout",
     "output_type": "stream",
     "text": [
      "ls: /Users/yoavfreund/projects/shapeology/data/tiles/: No such file or directory\r\n"
     ]
    }
   ],
   "source": [
    "!ls /Users/yoavfreund/projects/shapeology/data/tiles/"
   ]
  },
  {
   "cell_type": "code",
   "execution_count": 58,
   "metadata": {
    "ExecuteTime": {
     "end_time": "2018-09-16T04:57:12.967983Z",
     "start_time": "2018-09-16T04:57:10.320070Z"
    }
   },
   "outputs": [
    {
     "data": {
      "text/plain": [
       "(140668, 41, 41)"
      ]
     },
     "execution_count": 58,
     "metadata": {},
     "output_type": "execute_result"
    }
   ],
   "source": [
    "ALL=np.concatenate(ALL_V)\n",
    "ALL.shape"
   ]
  },
  {
   "cell_type": "code",
   "execution_count": 61,
   "metadata": {
    "ExecuteTime": {
     "end_time": "2018-09-16T04:58:33.466373Z",
     "start_time": "2018-09-16T04:58:33.461639Z"
    }
   },
   "outputs": [
    {
     "data": {
      "text/plain": [
       "1804.0688171386719"
      ]
     },
     "execution_count": 61,
     "metadata": {},
     "output_type": "execute_result"
    }
   ],
   "source": [
    "ALL.size*8 /(2.**20)"
   ]
  },
  {
   "cell_type": "code",
   "execution_count": 35,
   "metadata": {
    "ExecuteTime": {
     "end_time": "2018-09-16T04:29:30.991518Z",
     "start_time": "2018-09-16T04:29:30.988714Z"
    }
   },
   "outputs": [],
   "source": [
    "local_data='/Users/yoavfreund/projects/shapeology/data'"
   ]
  },
  {
   "cell_type": "code",
   "execution_count": 49,
   "metadata": {
    "ExecuteTime": {
     "end_time": "2018-09-16T04:41:20.558354Z",
     "start_time": "2018-09-16T04:41:20.424506Z"
    }
   },
   "outputs": [
    {
     "name": "stdout",
     "output_type": "stream",
     "text": [
      "total 5984\r\n",
      "-rw-r--r--  1 yoavfreund  staff  3060994 Sep  7 18:26 tiles_612_extracted.pkl\r\n"
     ]
    }
   ],
   "source": [
    "!ls -l /Users/yoavfreund/projects/shapeology/data/tiles"
   ]
  },
  {
   "cell_type": "code",
   "execution_count": 46,
   "metadata": {
    "ExecuteTime": {
     "end_time": "2018-09-16T04:34:52.272054Z",
     "start_time": "2018-09-16T04:34:52.266693Z"
    }
   },
   "outputs": [
    {
     "data": {
      "text/plain": [
       "'/Users/yoavfreund/projects/shapeology/data/patches/dev'"
      ]
     },
     "execution_count": 46,
     "metadata": {},
     "output_type": "execute_result"
    }
   ],
   "source": [
    "from os.path import isdir\n",
    "isdir(local_data+'/patches/dev')\n",
    "!ls /Users/yoavfreund/projects/shapeology/data/patches/dev/shm/data/tiles/"
   ]
  },
  {
   "cell_type": "code",
   "execution_count": 12,
   "metadata": {
    "ExecuteTime": {
     "end_time": "2018-09-16T01:13:15.971288Z",
     "start_time": "2018-09-16T01:13:15.967908Z"
    }
   },
   "outputs": [
    {
     "data": {
      "text/plain": [
       "116.3100357055664"
      ]
     },
     "execution_count": 12,
     "metadata": {},
     "output_type": "execute_result"
    }
   ],
   "source": [
    "(V.size*8)/(1024*1024)"
   ]
  },
  {
   "cell_type": "code",
   "execution_count": 23,
   "metadata": {
    "ExecuteTime": {
     "end_time": "2018-09-16T01:39:02.651402Z",
     "start_time": "2018-09-16T01:38:53.565220Z"
    }
   },
   "outputs": [],
   "source": [
    "!tar xzf /Users/yoavfreund/projects/shapeology/data/patches/MD657-F1-2017.02.17-17.39.26_MD657_3_0003_lossless_patches.tgz -C /Users/yoavfreund/projects/shapeology/data/patches"
   ]
  },
  {
   "cell_type": "code",
   "execution_count": 9,
   "metadata": {
    "ExecuteTime": {
     "end_time": "2018-09-16T01:12:19.836514Z",
     "start_time": "2018-09-16T01:12:19.833168Z"
    }
   },
   "outputs": [
    {
     "data": {
      "text/plain": [
       "9069.0"
      ]
     },
     "execution_count": 9,
     "metadata": {},
     "output_type": "execute_result"
    }
   ],
   "source": [
    "15244989. /(41*41.)"
   ]
  },
  {
   "cell_type": "code",
   "execution_count": 10,
   "metadata": {
    "ExecuteTime": {
     "end_time": "2018-09-16T01:12:40.553914Z",
     "start_time": "2018-09-16T01:12:40.550383Z"
    }
   },
   "outputs": [
    {
     "data": {
      "text/plain": [
       "numpy.float64"
      ]
     },
     "execution_count": 10,
     "metadata": {},
     "output_type": "execute_result"
    }
   ],
   "source": [
    "type(V[0,0,0])"
   ]
  },
  {
   "cell_type": "code",
   "execution_count": null,
   "metadata": {},
   "outputs": [],
   "source": []
  }
 ],
 "metadata": {
  "hide_input": false,
  "kernelspec": {
   "display_name": "Python 3",
   "language": "python",
   "name": "python3"
  },
  "language_info": {
   "codemirror_mode": {
    "name": "ipython",
    "version": 3
   },
   "file_extension": ".py",
   "mimetype": "text/x-python",
   "name": "python",
   "nbconvert_exporter": "python",
   "pygments_lexer": "ipython3",
   "version": "3.6.4"
  },
  "toc": {
   "base_numbering": 1,
   "nav_menu": {},
   "number_sections": true,
   "sideBar": true,
   "skip_h1_title": false,
   "title_cell": "Table of Contents",
   "title_sidebar": "Contents",
   "toc_cell": false,
   "toc_position": {},
   "toc_section_display": true,
   "toc_window_display": false
  }
 },
 "nbformat": 4,
 "nbformat_minor": 2
}
