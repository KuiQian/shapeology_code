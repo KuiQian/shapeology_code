{
 "cells": [
  {
   "cell_type": "code",
   "execution_count": 1,
   "metadata": {},
   "outputs": [
    {
     "name": "stdout",
     "output_type": "stream",
     "text": [
      "Populating the interactive namespace from numpy and matplotlib\n"
     ]
    }
   ],
   "source": [
    "import cv2\n",
    "import numpy as np\n",
    "import pandas as pd\n",
    "import xgboost as xgb\n",
    "from matplotlib import pyplot as plt\n",
    "from sklearn.model_selection import train_test_split\n",
    "#%matplotlib inline\n",
    "%pylab inline\n",
    "import os\n",
    "import sys\n",
    "from time import time\n",
    "from glob import glob\n",
    "sys.path.append(os.environ['REPO_DIR'])\n",
    "from extractPatches import patch_extractor\n",
    "from lib.utils import configuration"
   ]
  },
  {
   "cell_type": "code",
   "execution_count": 2,
   "metadata": {},
   "outputs": [
    {
     "name": "stdout",
     "output_type": "stream",
     "text": [
      "{'name': 'local', 'paths': {'s3stem': 's3://mousebraindata-open/MD657', 'patches': 'permuted', 'DiffusionMap': '/Users/kuiqian/Github/shapeology_code/notebooks/diffusionMap', 'scripts_dir': '/Users/kuiqian/Github//shapeology_code/scripts', 'data_dir': '/Users/kuiqian/BstemAtlasDataBackup/ucsd_brain/'}, 'preprocessing': {'polarity': -1, 'min_std': 10, 'offset': -20, 'min_area': 10}, 'normalization': {'size_thresholds': [15, 51, 201]}}\n"
     ]
    },
    {
     "name": "stderr",
     "output_type": "stream",
     "text": [
      "/Users/kuiqian/Github/shapeology_code/scripts/lib/utils.py:22: YAMLLoadWarning: calling yaml.load() without Loader=... is deprecated, as the default Loader is unsafe. Please read https://msg.pyyaml.org/load for full details.\n",
      "  self.D=yaml.load(open(yamlFile,'r'))\n"
     ]
    }
   ],
   "source": [
    "yamlfile=os.environ['REPO_DIR']+'/shape_params.yaml'\n",
    "params=configuration(yamlfile).getParams()\n",
    "print(params)"
   ]
  },
  {
   "cell_type": "code",
   "execution_count": 3,
   "metadata": {},
   "outputs": [],
   "source": [
    "#Parameters\n",
    "param = {}\n",
    "param['max_depth']= 3   # depth of tree\n",
    "param['eta'] = 0.2      # shrinkage parameter\n",
    "param['silent'] = 1     # not silent\n",
    "param['objective'] = 'binary:logistic' #'multi:softmax'\n",
    "param['nthread'] = 7 # Number of threads used\n",
    "param['num_class']=1\n"
   ]
  },
  {
   "cell_type": "code",
   "execution_count": 4,
   "metadata": {},
   "outputs": [],
   "source": [
    "def get_scores(X_train, X_valid, y_train, param):\n",
    "    dtrain = xgb.DMatrix(X_train, label=y_train)\n",
    "    dval = xgb.DMatrix(X_valid)\n",
    "    num_round = 100\n",
    "    bst = xgb.train(param, dtrain, num_round, verbose_eval=False)\n",
    "    score = bst.predict(dval, output_margin=True, ntree_limit=bst.best_ntree_limit)\n",
    "    score = np.around(score, 3)\n",
    "    \n",
    "    return score"
   ]
  },
  {
   "cell_type": "code",
   "execution_count": 5,
   "metadata": {},
   "outputs": [],
   "source": [
    "def get_predictions(y_pred_valid):\n",
    "    y_pred_sort = np.argsort(y_pred_valid, axis=1)[:,::-1]\n",
    "    predictions_valid = y_pred_sort[:, 0]\n",
    "    \n",
    "    return predictions_valid"
   ]
  },
  {
   "cell_type": "code",
   "execution_count": 6,
   "metadata": {},
   "outputs": [],
   "source": [
    "paired_structures = ['5N', '6N', '7N', '7n', 'Amb', 'LC', 'LRt', 'Pn', 'Tz', 'VLL', 'RMC', \\\n",
    "                     'SNC', 'SNR', '3N', '4N', 'Sp5I', 'Sp5O', 'Sp5C', 'PBG', '10N', 'VCA', 'VCP', 'DC']\n",
    "singular_structures = ['AP', '12N', 'RtTg', 'SC', 'IC']\n",
    "\n",
    "all_structures = paired_structures + singular_structures"
   ]
  },
  {
   "cell_type": "code",
   "execution_count": 7,
   "metadata": {},
   "outputs": [
    {
     "data": {
      "text/plain": [
       "['/Users/kuiqian/BstemAtlasDataBackup/ucsd_brain/CSHL_regions/MD589/5N_surround_200um_noclass/158.tif',\n",
       " '/Users/kuiqian/BstemAtlasDataBackup/ucsd_brain/CSHL_regions/MD589/5N/158.tif']"
      ]
     },
     "execution_count": 7,
     "metadata": {},
     "output_type": "execute_result"
    }
   ],
   "source": [
    "stack = 'MD589'\n",
    "patch_dir=os.environ['ROOT_DIR']+'CSHL_regions/'+stack+'/'\n",
    "structure = '5N'\n",
    "objects=os.listdir(patch_dir+structure)\n",
    "sofar = 0\n",
    "name = \"\"\n",
    "for item in objects:\n",
    "    size = os.path.getsize(patch_dir+structure+'/'+item)\n",
    "    if size>sofar:\n",
    "        sofar = size\n",
    "        name = item\n",
    "name = \"158.tif\"\n",
    "patches=[]\n",
    "patches.append(patch_dir+structure+'_surround_200um_noclass/'+name)\n",
    "patches.append(patch_dir+structure+'/'+name)\n",
    "patches"
   ]
  },
  {
   "cell_type": "code",
   "execution_count": 8,
   "metadata": {},
   "outputs": [
    {
     "name": "stdout",
     "output_type": "stream",
     "text": [
      "7.151288032531738\n"
     ]
    }
   ],
   "source": [
    "features = []\n",
    "labels = []\n",
    "t0= time()\n",
    "for state in range(2):\n",
    "    patch = patches[state]\n",
    "    extractor=patch_extractor(params)\n",
    "    tile=cv2.imread(patch,0)\n",
    "    if params['preprocessing']['polarity']==-1:\n",
    "        tile = 255-tile\n",
    "    min_std=params['preprocessing']['min_std']\n",
    "    _std = np.std(tile.flatten())\n",
    "\n",
    "    if _std < min_std:\n",
    "        print('image',patches[i],'std=',_std, 'too blank, skipping')\n",
    "    else:\n",
    "        Stats=extractor.segment_cells(tile)\n",
    "        cells= extractor.extract_blobs(Stats,tile)\n",
    "        cells = pd.DataFrame(cells)\n",
    "        cells = cells[cells['padded_patch'].notnull()]\n",
    "        cells = cells[cells['padded_size']==201]\n",
    "        #cells = cells[['DMVec','area']]\n",
    "        cells = cells.drop(['padded_patch','left','top'],1)\n",
    "        cells = np.asarray(cells)\n",
    "        for i in range(len(cells)):\n",
    "            cells[i][0] = cells[i][0][:10]\n",
    "        features.extend(np.concatenate((np.array(list(cells[:,0])),cells[:,1:]),axis=1))\n",
    "        labels.extend([state]*len(cells))\n",
    "print(time()-t0)"
   ]
  },
  {
   "cell_type": "code",
   "execution_count": 9,
   "metadata": {
    "scrolled": true
   },
   "outputs": [
    {
     "data": {
      "text/plain": [
       "((218, 20), (218,), 91, 127)"
      ]
     },
     "execution_count": 9,
     "metadata": {},
     "output_type": "execute_result"
    }
   ],
   "source": [
    "#features = np.array(features[:,-1]).reshape(-1,1)\n",
    "#features = np.concatenate((features[:,:10],features[:,-1].reshape(-1,1)),axis=1)\n",
    "features = np.array(features)\n",
    "labels = np.array(labels)\n",
    "features.shape, labels.shape, sum(labels==1), sum(labels==0)"
   ]
  },
  {
   "cell_type": "code",
   "execution_count": 56,
   "metadata": {},
   "outputs": [
    {
     "data": {
      "text/plain": [
       "(41.474654377880185, 51.06382978723405, 35.30737045381397)"
      ]
     },
     "execution_count": 56,
     "metadata": {},
     "output_type": "execute_result"
    }
   ],
   "source": [
    "90/2.17, 288/5.64, 1097/31.07"
   ]
  },
  {
   "cell_type": "code",
   "execution_count": 10,
   "metadata": {},
   "outputs": [
    {
     "data": {
      "text/plain": [
       "((152, 20), (66, 20))"
      ]
     },
     "execution_count": 10,
     "metadata": {},
     "output_type": "execute_result"
    }
   ],
   "source": [
    "X_train, X_valid, y_train, y_valid = train_test_split(features, labels, test_size=0.30, random_state=6)\n",
    "X_train.shape, X_valid.shape"
   ]
  },
  {
   "cell_type": "code",
   "execution_count": 341,
   "metadata": {},
   "outputs": [
    {
     "data": {
      "text/plain": [
       "0.8518518518518519"
      ]
     },
     "execution_count": 341,
     "metadata": {},
     "output_type": "execute_result"
    }
   ],
   "source": [
    "y_pred_valid = get_scores(X_train, X_valid, y_train, param)\n",
    "pred = y_pred_valid>0\n",
    "#pred = get_predictions(y_pred_valid)\n",
    "acc = sum(pred ==y_valid)/len(y_valid)\n",
    "acc"
   ]
  },
  {
   "cell_type": "code",
   "execution_count": 283,
   "metadata": {},
   "outputs": [
    {
     "data": {
      "text/plain": [
       "SVC(C=1.0, cache_size=200, class_weight=None, coef0=0.0,\n",
       "  decision_function_shape='ovr', degree=3, gamma='scale', kernel='rbf',\n",
       "  max_iter=-1, probability=False, random_state=None, shrinking=True,\n",
       "  tol=0.001, verbose=False)"
      ]
     },
     "execution_count": 283,
     "metadata": {},
     "output_type": "execute_result"
    }
   ],
   "source": [
    "from sklearn import svm\n",
    "clf = svm.SVC(gamma='scale')\n",
    "clf.fit(X_train,y_train)"
   ]
  },
  {
   "cell_type": "code",
   "execution_count": 336,
   "metadata": {},
   "outputs": [
    {
     "data": {
      "text/plain": [
       "0.863013698630137"
      ]
     },
     "execution_count": 336,
     "metadata": {},
     "output_type": "execute_result"
    }
   ],
   "source": [
    "pred = clf.predict(X_valid)\n",
    "acc = sum(pred == y_valid)/len(y_valid)\n",
    "acc"
   ]
  },
  {
   "cell_type": "code",
   "execution_count": 44,
   "metadata": {},
   "outputs": [],
   "source": [
    "def CDF(x, color, state):\n",
    "    x=sort(x)\n",
    "    size=x.shape[0]\n",
    "    y=arange(0,size)/size\n",
    "    ten_x = [x[np.argmin(np.absolute(y-0.1*(j+1)))] for j in range(10)]\n",
    "    ten_y = [y[np.argmin(np.absolute(y-0.1*(j+1)))] for j in range(10)]\n",
    "    if color:\n",
    "        plot(x,y,color, label=state)\n",
    "        plot(ten_x,ten_y,'ro')\n",
    "    else:\n",
    "        plot(x,y, label=state)\n",
    "        plot(ten_x,ten_y,'o')\n",
    "    legend()"
   ]
  },
  {
   "cell_type": "code",
   "execution_count": 47,
   "metadata": {},
   "outputs": [
    {
     "data": {
      "image/png": "[encoded data removed]",
      "text/plain": [
       "<Figure size 432x288 with 1 Axes>"
      ]
     },
     "metadata": {
      "needs_background": "light"
     },
     "output_type": "display_data"
    }
   ],
   "source": [
    "CDF(X_train[y_train==1][:,10],False, 'Inside')\n",
    "CDF(X_train[y_train==0][:,10],'y', 'Outside')\n",
    "title('CDF Curve')\n",
    "xlabel('Area')\n",
    "minor_ticks = np.arange(1, 11, 1)/10\n",
    "yticks(minor_ticks)\n",
    "ylim(0,1)\n",
    "xlim(0,2500)\n",
    "grid(True)\n",
    "savefig('CDF.jpg')\n",
    "#grid(which='minor',alpha=0.2)\n",
    "#CDF(X_valid[y_valid==1][:,0])\n",
    "#CDF(X_valid[y_valid==0][:,0])"
   ]
  },
  {
   "cell_type": "code",
   "execution_count": 321,
   "metadata": {},
   "outputs": [
    {
     "name": "stdout",
     "output_type": "stream",
     "text": [
      "1112 1798\n",
      "5N 0.6563573883161512\n",
      "110 861\n",
      "6N 0.9143835616438356\n",
      "1162 1601\n",
      "7N 0.594692400482509\n",
      "1162 1601\n",
      "7n 0.594692400482509\n",
      "172 1153\n",
      "Amb 0.8618090452261307\n",
      "959 1939\n",
      "LC 0.6471264367816092\n",
      "1033 1711\n",
      "LRt 0.6080097087378641\n",
      "1703 1450\n",
      "Pn 0.6490486257928119\n",
      "455 1506\n",
      "Tz 0.7792869269949066\n",
      "1747 2290\n",
      "VLL 0.6212871287128713\n",
      "554 1433\n",
      "RMC 0.7035175879396985\n",
      "223 1356\n",
      "SNC 0.8523206751054853\n",
      "2049 2519\n",
      "SNR 0.5951859956236324\n",
      "472 1359\n",
      "3N 0.7509090909090909\n",
      "42 618\n",
      "4N 0.9292929292929293\n",
      "2530 2154\n",
      "Sp5I 0.5889046941678521\n",
      "4736 3564\n",
      "Sp5O 0.58714859437751\n",
      "3844 2385\n",
      "Sp5C 0.6243980738362761\n",
      "408 1611\n",
      "PBG 0.7838283828382838\n",
      "233 1987\n",
      "10N 0.8858858858858859\n",
      "2159 2191\n",
      "VCA 0.6183908045977011\n",
      "1632 2159\n",
      "VCP 0.6010544815465729\n",
      "1954 2580\n",
      "DC 0.6282145481263777\n",
      "675 794\n",
      "AP 0.5918367346938775\n",
      "842 2286\n",
      "12N 0.7124600638977636\n",
      "1504 2254\n",
      "RtTg 0.5416666666666666\n",
      "8373 4964\n",
      "SC 0.623688155922039\n",
      "5893 3485\n",
      "IC 0.6275764036958067\n"
     ]
    }
   ],
   "source": [
    "for structure in all_structures:\n",
    "    objects=os.listdir(patch_dir+structure)\n",
    "    sofar = 0\n",
    "    name = \"\"\n",
    "    for item in objects:\n",
    "        size = os.path.getsize(patch_dir+structure+'/'+item)\n",
    "        if size>sofar:\n",
    "            sofar = size\n",
    "            name = item\n",
    "    patches=[]\n",
    "    patches.append(patch_dir+structure+'_surround_200um_noclass/'+name)\n",
    "    patches.append(patch_dir+structure+'/'+name)\n",
    "    features = []\n",
    "    labels = []\n",
    "    #t0= time()\n",
    "    for state in range(2):\n",
    "        patch = patches[state]\n",
    "        extractor=patch_extractor(patch,params)\n",
    "        tile=cv2.imread(patch,0)\n",
    "        if params['preprocessing']['polarity']==-1:\n",
    "            tile = 255-tile\n",
    "        min_std=params['preprocessing']['min_std']\n",
    "        _std = np.std(tile.flatten())\n",
    "\n",
    "        if _std < min_std:\n",
    "            print('image',patches[i],'std=',_std, 'too blank, skipping')\n",
    "        else:\n",
    "            Stats=extractor.segment_cells(tile)\n",
    "            cells= extractor.extract_blobs(Stats,tile)\n",
    "            cells = pd.DataFrame(cells)\n",
    "            cells = cells[cells['padded_patch'].notnull()]\n",
    "            #cells = cells[cells['padded_size']==201]\n",
    "            #cells = cells[['DMVec','area']]\n",
    "            cells = cells.drop(['padded_patch','left','top'],1)\n",
    "            cells = np.asarray(cells)\n",
    "            for i in range(len(cells)):\n",
    "                cells[i][0] = cells[i][0][:10]\n",
    "            features.extend(np.concatenate((np.array(list(cells[:,0])),cells[:,1:]),axis=1))\n",
    "            labels.extend([state]*len(cells))\n",
    "    #print(time()-t0)\n",
    "    features = np.array(features)\n",
    "    labels = np.array(labels)\n",
    "    print(sum(labels==1), sum(labels==0))\n",
    "    X_train, X_valid, y_train, y_valid = train_test_split(features, labels, test_size=0.30, random_state=6)\n",
    "    y_pred_valid = get_scores(X_train, X_valid, y_train, param)\n",
    "    pred = y_pred_valid>0\n",
    "    #pred = get_predictions(y_pred_valid)\n",
    "    acc = sum(pred ==y_valid)/len(y_valid)\n",
    "    print(structure, acc)"
   ]
  },
  {
   "cell_type": "code",
   "execution_count": 3,
   "metadata": {},
   "outputs": [],
   "source": [
    "cell_dir = os.environ['ROOT_DIR'] + 'CSHL_regions_features/MD589/'\n",
    "structures=[dir for dir in glob(cell_dir+'*')]\n",
    "patches=[dir for dir in glob(structures[0]+'/*')]"
   ]
  },
  {
   "cell_type": "code",
   "execution_count": 4,
   "metadata": {},
   "outputs": [
    {
     "data": {
      "text/plain": [
       "['/data/BstemAtlasDataBackup/ucsd_brain/CSHL_regions_features/MD589/5N/MD589_5N_positive.pkl']"
      ]
     },
     "execution_count": 4,
     "metadata": {},
     "output_type": "execute_result"
    }
   ],
   "source": [
    "patches"
   ]
  },
  {
   "cell_type": "code",
   "execution_count": 5,
   "metadata": {},
   "outputs": [],
   "source": [
    "import pickle"
   ]
  },
  {
   "cell_type": "code",
   "execution_count": 8,
   "metadata": {},
   "outputs": [],
   "source": [
    "feature = pickle.load(open(patches[0],'rb'))"
   ]
  },
  {
   "cell_type": "code",
   "execution_count": 9,
   "metadata": {},
   "outputs": [],
   "source": [
    "look = np.array(feature)"
   ]
  },
  {
   "cell_type": "code",
   "execution_count": 10,
   "metadata": {},
   "outputs": [
    {
     "data": {
      "text/plain": [
       "(44, 201)"
      ]
     },
     "execution_count": 10,
     "metadata": {},
     "output_type": "execute_result"
    }
   ],
   "source": [
    "look.shape"
   ]
  },
  {
   "cell_type": "code",
   "execution_count": null,
   "metadata": {},
   "outputs": [],
   "source": []
  }
 ],
 "metadata": {
  "kernelspec": {
   "display_name": "shapeology",
   "language": "python",
   "name": "shapeology_code"
  },
  "language_info": {
   "codemirror_mode": {
    "name": "ipython",
    "version": 3
   },
   "file_extension": ".py",
   "mimetype": "text/x-python",
   "name": "python",
   "nbconvert_exporter": "python",
   "pygments_lexer": "ipython3",
   "version": "3.7.3"
  }
 },
 "nbformat": 4,
 "nbformat_minor": 2
}
