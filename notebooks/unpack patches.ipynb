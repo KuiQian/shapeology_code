{
 "cells": [
  {
   "cell_type": "code",
   "execution_count": 1,
   "metadata": {
    "ExecuteTime": {
     "end_time": "2018-10-07T20:43:03.115447Z",
     "start_time": "2018-10-07T20:43:03.110246Z"
    }
   },
   "outputs": [
    {
     "name": "stdout",
     "output_type": "stream",
     "text": [
      "/Users/yoavfreund/projects/shapeology/shapeology_code/scripts\n"
     ]
    }
   ],
   "source": [
    "%cd ../scripts/"
   ]
  },
  {
   "cell_type": "code",
   "execution_count": 6,
   "metadata": {
    "ExecuteTime": {
     "end_time": "2018-10-07T20:45:39.576852Z",
     "start_time": "2018-10-07T20:45:38.612229Z"
    },
    "scrolled": false
   },
   "outputs": [
    {
     "name": "stdout",
     "output_type": "stream",
     "text": [
      "cmd= aws s3 ls s3://mousebraindata-open/MD657/ | grep patches > logs/files\n"
     ]
    }
   ],
   "source": [
    "from os import system\n",
    "from glob import glob\n",
    "import pickle as pk\n",
    "import numpy as np\n",
    "from os.path import isdir\n",
    "\n",
    "def extract_vectors():\n",
    "    Vecs=[]\n",
    "    for filename in glob('%s/tiles/*extracted*'%local_data):\n",
    "        D=pk.load(open(filename,'rb'))\n",
    "        for e in D:\n",
    "            Vecs.append(e[-1])\n",
    "    return np.array(Vecs)\n",
    "\n",
    "def run(cmd):\n",
    "    print('cmd=',cmd)\n",
    "    system(cmd)\n",
    "\n",
    "#local_data='/dev/shm/data'\n",
    "local_data='/Users/yoavfreund/projects/shapeology/data'\n",
    "exec_dir='/home/ubuntu/shapeology_code/scripts'\n",
    "stack='s3://mousebraindata-open/MD657/'\n",
    "run('aws s3 ls %s | grep patches > logs/files'%stack)\n",
    "\n",
    "files=open('logs/files','r')\n",
    "i=0\n",
    "f=0\n",
    "N=0\n",
    "total_MB=0\n",
    "ALL_V=[]\n",
    "for line in files.readlines():\n",
    "    patch_file=line.split()[-1]\n",
    "    print('file=',patch_file)\n",
    "    run('rm %s/tiles/*'%local_data)\n",
    "    run('aws s3 cp %s%s %s/tiles/%s'%(stack,patch_file,local_data,patch_file))\n",
    "    !ls -l $local_data/tiles/$patch_file\n",
    "    run('tar xzf %s/tiles/%s -C %s/tiles'%(local_data,patch_file,local_data))\n",
    "    if isdir(local_data+'/tiles/dev'):\n",
    "        print('moving from dev')\n",
    "        run('mv {0}/tiles/dev/shm/data/tiles/ {0}/tmp_tiles/'.format(local_data))\n",
    "        run('rm -rf {0}/tiles/'.format(local_data))\n",
    "        run('mv {0}/tmp_tiles/ {0}/tiles/'.format(local_data))\n",
    "    !ls -l /Users/yoavfreund/projects/shapeology/data/tiles/*pkl | wc\n",
    "    V=extract_vectors()\n",
    "    shape=V.shape\n",
    "    if  shape[0]>0:   \n",
    "        ALL_V.append(V)\n",
    "        N+=shape[0]\n",
    "        total_MB+=V.size*8/(2.**20)\n",
    "        print('i=%4d shape=%s, N=%8d, MB=%8.1f'%(i,str(shape),N,total_MB))\n",
    "    else:\n",
    "        print('i=%4d shape=%s is empty'%(i,str(shape)))\n",
    "        break\n",
    "    i+=1\n",
    "\n",
    "    if total_MB>1000.:\n",
    "        total_MB=0\n",
    "        Vout=np.concatenate(ALL_V)\n",
    "        outfile='%s/patches%d.npz'%(local_data,f)\n",
    "        print('>>>>>>>>>>>>>>>>>>>>>>>>> saving to ',outfile)\n",
    "        np.savez(outfile,Vout)\n",
    "        f+=1\n",
    "        ALL_V=[]\n",
    "        n=0\n",
    "    "
   ]
  },
  {
   "cell_type": "code",
   "execution_count": 18,
   "metadata": {
    "ExecuteTime": {
     "end_time": "2018-10-07T20:50:18.621731Z",
     "start_time": "2018-10-07T20:50:18.493071Z"
    }
   },
   "outputs": [
    {
     "name": "stdout",
     "output_type": "stream",
     "text": [
      "total 0\r\n",
      "drwxr-xr-x   7 yoavfreund  staff   224 Sep  8 16:16 \u001b[34mshapeology_code\u001b[m\u001b[m\r\n",
      "drwxr-xr-x  33 yoavfreund  staff  1056 Sep 16 10:48 \u001b[34mdata\u001b[m\u001b[m\r\n"
     ]
    }
   ],
   "source": [
    "!ls -lrt ../.."
   ]
  },
  {
   "cell_type": "code",
   "execution_count": 13,
   "metadata": {
    "ExecuteTime": {
     "end_time": "2018-10-07T20:48:09.536486Z",
     "start_time": "2018-10-07T20:48:08.864725Z"
    }
   },
   "outputs": [
    {
     "name": "stdout",
     "output_type": "stream",
     "text": [
      "CONFIGURE()                                                        CONFIGURE()\r\n",
      "\r\n",
      "\r\n",
      "\r\n",
      "N\bNA\bAM\bME\bE\r\n",
      "       configure -\r\n",
      "\r\n",
      "D\bDE\bES\bSC\bCR\bRI\bIP\bPT\bTI\bIO\bON\bN\r\n",
      "       Configure  AWS  CLI  options. If this command is run with no arguments,\r\n",
      "       you will be prompted for configuration values such as your  AWS  Access\r\n",
      "       Key  Id  and you AWS Secret Access Key.  You can configure a named pro-\r\n",
      "       file using the -\b--\b-p\bpr\bro\bof\bfi\bil\ble\be argument.  If your config file does not  exist\r\n",
      "       (the default location is ~\b~/\b/.\b.a\baw\bws\bs/\b/c\bco\bon\bnf\bfi\big\bg), the AWS CLI will create it for\r\n",
      "       you.  To keep an existing value, hit enter when prompted for the value.\r\n",
      "       When  you  are prompted for information, the current value will be dis-\r\n",
      "       played in [\b[b\bbr\bra\bac\bck\bke\bet\bts\bs]\b].  If the config item has no value, it be displayed\r\n",
      "       as  [\b[N\bNo\bon\bne\be]\b].  Note that the c\bco\bon\bnf\bfi\big\bgu\bur\bre\be command only work with values from\r\n",
      "       the config file.  It does not use any configuration values  from  envi-\r\n",
      "       ronment variables or the IAM role.\r\n",
      "\r\n",
      "       Note:  the  values  you  provide  for the AWS Access Key ID and the AWS\r\n",
      "       Secret Access Key will  be  written  to  the  shared  credentials  file\r\n",
      "       (~\b~/\b/.\b.a\baw\bws\bs/\b/c\bcr\bre\bed\bde\ben\bnt\bti\bia\bal\bls\bs).\r\n",
      "\r\n",
      "C\bCO\bON\bNF\bFI\bIG\bGU\bUR\bRA\bAT\bTI\bIO\bON\bN V\bVA\bAR\bRI\bIA\bAB\bBL\bLE\bES\bS\r\n",
      "       The following configuration variables are supported in the config file:\r\n",
      "\r\n",
      "       +\bo a\baw\bws\bs_\b_a\bac\bcc\bce\bes\bss\bs_\b_k\bke\bey\by_\b_i\bid\bd - The AWS access key part of your credentials\r\n",
      "\r\n",
      "       +\bo a\baw\bws\bs_\b_s\bse\bec\bcr\bre\bet\bt_\b_a\bac\bcc\bce\bes\bss\bs_\b_k\bke\bey\by - The AWS secret access key part of  your  cre-\r\n",
      "         dentials\r\n",
      "\r\n",
      "       +\bo a\baw\bws\bs_\b_s\bse\bes\bss\bsi\bio\bon\bn_\b_t\bto\bok\bke\ben\bn  - The session token part of your credentials (ses-\r\n",
      "         sion tokens only)\r\n",
      "\r\n",
      "       +\bo m\bme\bet\bta\bad\bda\bat\bta\ba_\b_s\bse\ber\brv\bvi\bic\bce\be_\b_t\bti\bim\bme\beo\bou\but\bt - The number of seconds to  wait  until  the\r\n",
      "         metadata service request times out.  This is used if you are using an\r\n",
      "         IAM role to provide your credentials.\r\n",
      "\r\n",
      "       +\bo m\bme\bet\bta\bad\bda\bat\bta\ba_\b_s\bse\ber\brv\bvi\bic\bce\be_\b_n\bnu\bum\bm_\b_a\bat\btt\bte\bem\bmp\bpt\bts\bs - The number  of  attempts  to  try  to\r\n",
      "         retrieve  credentials.   If you know for certain you will be using an\r\n",
      "         IAM role on an Amazon EC2 instance, you can set this value to  ensure\r\n",
      "         any intermittent failures are retried.  By default this value is 1.\r\n",
      "\r\n",
      "       For  more information on configuration options, see _\bC_\bo_\bn_\bf_\bi_\bg_\bu_\br_\bi_\bn_\bg _\bt_\bh_\be _\bA_\bW_\bS\r\n",
      "       _\bC_\bo_\bm_\bm_\ba_\bn_\bd _\bL_\bi_\bn_\be _\bI_\bn_\bt_\be_\br_\bf_\ba_\bc_\be in the _\bA_\bW_\bS _\bC_\bL_\bI _\bU_\bs_\be_\br _\bG_\bu_\bi_\bd_\be.\r\n",
      "\r\n",
      "       See 'aws help' for descriptions of global parameters.\r\n",
      "\r\n",
      "S\bSY\bYN\bNO\bOP\bPS\bSI\bIS\bS\r\n",
      "          aws configure [--profile profile-name]\r\n",
      "\r\n",
      "O\bOP\bPT\bTI\bIO\bON\bNS\bS\r\n",
      "       _\bN_\bo_\bn_\be\r\n",
      "\r\n",
      "       See 'aws help' for descriptions of global parameters.\r\n",
      "\r\n",
      "A\bAV\bVA\bAI\bIL\bLA\bAB\bBL\bLE\bE C\bCO\bOM\bMM\bMA\bAN\bND\bDS\bS\r\n",
      "       +\bo add-model\r\n",
      "\r\n",
      "       +\bo get\r\n",
      "\r\n",
      "       +\bo list\r\n",
      "\r\n",
      "       +\bo set\r\n",
      "\r\n",
      "E\bEX\bXA\bAM\bMP\bPL\bLE\bES\bS\r\n",
      "       To create a new configuration:\r\n",
      "\r\n",
      "          $ aws configure\r\n",
      "          AWS Access Key ID [None]: accesskey\r\n",
      "          AWS Secret Access Key [None]: secretkey\r\n",
      "          Default region name [None]: us-west-2\r\n",
      "          Default output format [None]:\r\n",
      "\r\n",
      "       To update just the region name:\r\n",
      "\r\n",
      "          $ aws configure\r\n",
      "          AWS Access Key ID [****]:\r\n",
      "          AWS Secret Access Key [****]:\r\n",
      "          Default region name [us-west-1]: us-west-2\r\n",
      "          Default output format [None]:\r\n",
      "\r\n",
      "\r\n",
      "\r\n",
      "                                                                   CONFIGURE()\r\n"
     ]
    }
   ],
   "source": [
    "!aws configure --profile "
   ]
  },
  {
   "cell_type": "code",
   "execution_count": 8,
   "metadata": {
    "ExecuteTime": {
     "end_time": "2018-10-07T20:46:23.303508Z",
     "start_time": "2018-10-07T20:46:22.334217Z"
    }
   },
   "outputs": [
    {
     "name": "stdout",
     "output_type": "stream",
     "text": [
      "\r\n",
      "An error occurred (InvalidAccessKeyId) when calling the ListObjects operation: The AWS Access Key Id you provided does not exist in our records.\r\n"
     ]
    }
   ],
   "source": [
    "!aws s3 ls s3://mousebraindata-open/MD657/"
   ]
  },
  {
   "cell_type": "code",
   "execution_count": 7,
   "metadata": {
    "ExecuteTime": {
     "end_time": "2018-10-07T20:45:56.826474Z",
     "start_time": "2018-10-07T20:45:56.703039Z"
    }
   },
   "outputs": [],
   "source": [
    "!cat logs/files"
   ]
  },
  {
   "cell_type": "code",
   "execution_count": 28,
   "metadata": {
    "ExecuteTime": {
     "end_time": "2018-09-16T17:20:29.365395Z",
     "start_time": "2018-09-16T17:20:29.230820Z"
    }
   },
   "outputs": [
    {
     "name": "stdout",
     "output_type": "stream",
     "text": [
      "ls: /Users/yoavfreund/projects/shapeology/data/tiles/dev/shm/data/tiles/*.pkl: No such file or directory\r\n"
     ]
    }
   ],
   "source": [
    "!ls /Users/yoavfreund/projects/shapeology/data/tiles/dev/shm/data/tiles/*.pkl"
   ]
  },
  {
   "cell_type": "code",
   "execution_count": 25,
   "metadata": {
    "ExecuteTime": {
     "end_time": "2018-09-16T17:15:32.356826Z",
     "start_time": "2018-09-16T17:15:32.224953Z"
    }
   },
   "outputs": [
    {
     "name": "stdout",
     "output_type": "stream",
     "text": [
      "mv: rename /Users/yoavfreund/projects/shapeology/data/tiles/dev/shm/data/tiles/ to /Users/yoavfreund/projects/shapeology/data/tiles/tiles/: Directory not empty\r\n"
     ]
    }
   ],
   "source": [
    "!mv /Users/yoavfreund/projects/shapeology/data/tiles/dev/shm/data/tiles/ /Users/yoavfreund/projects/shapeology/data/tiles/"
   ]
  },
  {
   "cell_type": "code",
   "execution_count": 29,
   "metadata": {
    "ExecuteTime": {
     "end_time": "2018-09-16T17:20:35.059527Z",
     "start_time": "2018-09-16T17:20:34.927276Z"
    }
   },
   "outputs": [
    {
     "name": "stdout",
     "output_type": "stream",
     "text": [
      "ls: /Users/yoavfreund/projects/shapeology/data/tiles/: No such file or directory\r\n"
     ]
    }
   ],
   "source": [
    "!ls /Users/yoavfreund/projects/shapeology/data/tiles/"
   ]
  },
  {
   "cell_type": "code",
   "execution_count": 58,
   "metadata": {
    "ExecuteTime": {
     "end_time": "2018-09-16T04:57:12.967983Z",
     "start_time": "2018-09-16T04:57:10.320070Z"
    }
   },
   "outputs": [
    {
     "data": {
      "text/plain": [
       "(140668, 41, 41)"
      ]
     },
     "execution_count": 58,
     "metadata": {},
     "output_type": "execute_result"
    }
   ],
   "source": [
    "ALL=np.concatenate(ALL_V)\n",
    "ALL.shape"
   ]
  },
  {
   "cell_type": "code",
   "execution_count": 61,
   "metadata": {
    "ExecuteTime": {
     "end_time": "2018-09-16T04:58:33.466373Z",
     "start_time": "2018-09-16T04:58:33.461639Z"
    }
   },
   "outputs": [
    {
     "data": {
      "text/plain": [
       "1804.0688171386719"
      ]
     },
     "execution_count": 61,
     "metadata": {},
     "output_type": "execute_result"
    }
   ],
   "source": [
    "ALL.size*8 /(2.**20)"
   ]
  },
  {
   "cell_type": "code",
   "execution_count": 35,
   "metadata": {
    "ExecuteTime": {
     "end_time": "2018-09-16T04:29:30.991518Z",
     "start_time": "2018-09-16T04:29:30.988714Z"
    }
   },
   "outputs": [],
   "source": [
    "local_data='/Users/yoavfreund/projects/shapeology/data'"
   ]
  },
  {
   "cell_type": "code",
   "execution_count": 49,
   "metadata": {
    "ExecuteTime": {
     "end_time": "2018-09-16T04:41:20.558354Z",
     "start_time": "2018-09-16T04:41:20.424506Z"
    }
   },
   "outputs": [
    {
     "name": "stdout",
     "output_type": "stream",
     "text": [
      "total 5984\r\n",
      "-rw-r--r--  1 yoavfreund  staff  3060994 Sep  7 18:26 tiles_612_extracted.pkl\r\n"
     ]
    }
   ],
   "source": [
    "!ls -l /Users/yoavfreund/projects/shapeology/data/tiles"
   ]
  },
  {
   "cell_type": "code",
   "execution_count": 46,
   "metadata": {
    "ExecuteTime": {
     "end_time": "2018-09-16T04:34:52.272054Z",
     "start_time": "2018-09-16T04:34:52.266693Z"
    }
   },
   "outputs": [
    {
     "data": {
      "text/plain": [
       "'/Users/yoavfreund/projects/shapeology/data/patches/dev'"
      ]
     },
     "execution_count": 46,
     "metadata": {},
     "output_type": "execute_result"
    }
   ],
   "source": [
    "from os.path import isdir\n",
    "isdir(local_data+'/patches/dev')\n",
    "!ls /Users/yoavfreund/projects/shapeology/data/patches/dev/shm/data/tiles/"
   ]
  },
  {
   "cell_type": "code",
   "execution_count": 12,
   "metadata": {
    "ExecuteTime": {
     "end_time": "2018-09-16T01:13:15.971288Z",
     "start_time": "2018-09-16T01:13:15.967908Z"
    }
   },
   "outputs": [
    {
     "data": {
      "text/plain": [
       "116.3100357055664"
      ]
     },
     "execution_count": 12,
     "metadata": {},
     "output_type": "execute_result"
    }
   ],
   "source": [
    "(V.size*8)/(1024*1024)"
   ]
  },
  {
   "cell_type": "code",
   "execution_count": 23,
   "metadata": {
    "ExecuteTime": {
     "end_time": "2018-09-16T01:39:02.651402Z",
     "start_time": "2018-09-16T01:38:53.565220Z"
    }
   },
   "outputs": [],
   "source": [
    "!tar xzf /Users/yoavfreund/projects/shapeology/data/patches/MD657-F1-2017.02.17-17.39.26_MD657_3_0003_lossless_patches.tgz -C /Users/yoavfreund/projects/shapeology/data/patches"
   ]
  },
  {
   "cell_type": "code",
   "execution_count": 9,
   "metadata": {
    "ExecuteTime": {
     "end_time": "2018-09-16T01:12:19.836514Z",
     "start_time": "2018-09-16T01:12:19.833168Z"
    }
   },
   "outputs": [
    {
     "data": {
      "text/plain": [
       "9069.0"
      ]
     },
     "execution_count": 9,
     "metadata": {},
     "output_type": "execute_result"
    }
   ],
   "source": [
    "15244989. /(41*41.)"
   ]
  },
  {
   "cell_type": "code",
   "execution_count": 10,
   "metadata": {
    "ExecuteTime": {
     "end_time": "2018-09-16T01:12:40.553914Z",
     "start_time": "2018-09-16T01:12:40.550383Z"
    }
   },
   "outputs": [
    {
     "data": {
      "text/plain": [
       "numpy.float64"
      ]
     },
     "execution_count": 10,
     "metadata": {},
     "output_type": "execute_result"
    }
   ],
   "source": [
    "type(V[0,0,0])"
   ]
  },
  {
   "cell_type": "code",
   "execution_count": null,
   "metadata": {},
   "outputs": [],
   "source": []
  }
 ],
 "metadata": {
  "hide_input": false,
  "kernelspec": {
   "display_name": "Python 3",
   "language": "python",
   "name": "python3"
  },
  "language_info": {
   "codemirror_mode": {
    "name": "ipython",
    "version": 3
   },
   "file_extension": ".py",
   "mimetype": "text/x-python",
   "name": "python",
   "nbconvert_exporter": "python",
   "pygments_lexer": "ipython3",
   "version": "3.6.4"
  },
  "toc": {
   "base_numbering": 1,
   "nav_menu": {},
   "number_sections": true,
   "sideBar": true,
   "skip_h1_title": false,
   "title_cell": "Table of Contents",
   "title_sidebar": "Contents",
   "toc_cell": false,
   "toc_position": {},
   "toc_section_display": true,
   "toc_window_display": false
  }
 },
 "nbformat": 4,
 "nbformat_minor": 2
}
