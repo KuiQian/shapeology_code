{
 "cells": [
  {
   "cell_type": "code",
   "execution_count": 1,
   "metadata": {},
   "outputs": [],
   "source": [
    "import cv2\n",
    "import numpy as np\n",
    "import pandas as pd\n",
    "import pickle\n",
    "import xgboost as xgb\n",
    "from matplotlib import pyplot as plt\n",
    "import skimage\n",
    "import os\n",
    "import sys\n",
    "from time import time\n",
    "sys.path.append(os.environ['REPO_DIR'])\n",
    "from extractPatches import patch_extractor\n",
    "from lib.utils import configuration, run\n",
    "from matplotlib.path import Path\n",
    "from shapely.geometry import Polygon"
   ]
  },
  {
   "cell_type": "code",
   "execution_count": 2,
   "metadata": {},
   "outputs": [],
   "source": [
    "def CDF(x):\n",
    "    x=np.sort(x)\n",
    "    size=x.shape[0]\n",
    "    y=np.arange(0,size)/size\n",
    "    return x,y\n",
    "\n",
    "\n",
    "def setup_download_from_s3(rel_fp, recursive=True):\n",
    "    s3_fp = 's3://mousebrainatlas-data/' + rel_fp\n",
    "    local_fp = os.environ['ROOT_DIR'] + rel_fp\n",
    "\n",
    "    if os.path.exists(local_fp):\n",
    "        print('ALREADY DOWNLOADED FILE')\n",
    "        return\n",
    "\n",
    "    if recursive:\n",
    "        run('aws s3 cp --recursive {0} {1}'.format(s3_fp, local_fp))\n",
    "    else:\n",
    "        run('aws s3 cp {0} {1}'.format(s3_fp, local_fp))\n",
    "\n",
    "def setup_upload_from_s3(rel_fp, recursive=True):\n",
    "    s3_fp = 's3://mousebrainatlas-data/' + rel_fp\n",
    "    local_fp = os.environ['ROOT_DIR'] + rel_fp\n",
    "\n",
    "    if recursive:\n",
    "        run('aws s3 cp --recursive {0} {1}'.format(local_fp, s3_fp))\n",
    "    else:\n",
    "        run('aws s3 cp {0} {1}'.format(local_fp, s3_fp))"
   ]
  },
  {
   "cell_type": "code",
   "execution_count": 3,
   "metadata": {},
   "outputs": [],
   "source": [
    "def features_extractor(patch,state,params,extractor):\n",
    "    tile=patch\n",
    "    contours, _ = cv2.findContours(tile.copy(), cv2.RETR_TREE, cv2.CHAIN_APPROX_SIMPLE)\n",
    "    if state=='positive':\n",
    "        if len(contours)==1:\n",
    "            object_area = cv2.contourArea(contours[0])\n",
    "        else:\n",
    "            areas=[]\n",
    "            for j in range(len(contours)):\n",
    "                areas.extend([cv2.contourArea(contours[j])])\n",
    "            object_area = max(areas)\n",
    "    else:\n",
    "        if len(contours)==2:\n",
    "            object_area = cv2.contourArea(contours[0])-cv2.contourArea(contours[1])\n",
    "        else:\n",
    "            areas=[]\n",
    "            for j in range(len(contours)):\n",
    "                areas.extend([cv2.contourArea(contours[j])])\n",
    "            areas=np.sort(areas)\n",
    "            object_area = areas[-1]-areas[-2]\n",
    "\n",
    "    if params['preprocessing']['polarity']==-1:\n",
    "        tile = 255-tile\n",
    "    min_std=params['preprocessing']['min_std']\n",
    "    _std = np.std(tile.flatten())\n",
    "\n",
    "    extracted = []\n",
    "    if _std < min_std:\n",
    "        extracted.append([0] * 201)\n",
    "    else:\n",
    "        Stats = extractor.segment_cells(tile)\n",
    "        cells = extractor.extract_blobs(Stats,tile)\n",
    "        cells = pd.DataFrame(cells)\n",
    "        cells = cells[cells['padded_patch'].notnull()]\n",
    "        cells = cells.drop(['padded_patch','left','top'],1)\n",
    "        cells = np.asarray(cells)\n",
    "        for k in range(len(cells)):\n",
    "            cells[k][0] = cells[k][0][:10]\n",
    "        origin = np.concatenate((np.array(list(cells[:,0])),cells[:,1:]),axis=1)\n",
    "        for k in range(origin.shape[1]):\n",
    "            x, y = CDF(origin[:,k])\n",
    "            ten = [x[np.argmin(np.absolute(y-0.1*(j+1)))] for j in range(10)]\n",
    "            extracted.extend(ten)\n",
    "        extracted.extend([cells.shape[0]/object_area*224*224/100])\n",
    "    return extracted"
   ]
  },
  {
   "cell_type": "code",
   "execution_count": 4,
   "metadata": {},
   "outputs": [
    {
     "name": "stdout",
     "output_type": "stream",
     "text": [
      "ALREADY DOWNLOADED FILE\n",
      "ALREADY DOWNLOADED FILE\n"
     ]
    },
    {
     "name": "stderr",
     "output_type": "stream",
     "text": [
      "/Users/kuiqian/Github/shapeology_code/scripts/lib/utils.py:22: YAMLLoadWarning: calling yaml.load() without Loader=... is deprecated, as the default Loader is unsafe. Please read https://msg.pyyaml.org/load for full details.\n",
      "  self.D=yaml.load(open(yamlFile,'r'))\n"
     ]
    }
   ],
   "source": [
    "stack = 'MD594'\n",
    "fp = os.path.join('CSHL_data_processed', stack, stack + '_sorted_filenames.txt')\n",
    "setup_download_from_s3(fp, recursive=False)\n",
    "with open(os.environ['ROOT_DIR']+fp, 'r') as f:\n",
    "    fn_idx_tuples = [line.strip().split() for line in f.readlines()]\n",
    "    section_to_filename = {int(idx): fn for fn, idx in fn_idx_tuples}\n",
    "\n",
    "\n",
    "fname = os.path.join('CSHL_data_processed', stack, 'Annotation.npy')\n",
    "setup_download_from_s3(fname, recursive=False)\n",
    "annotation = np.load(os.environ['ROOT_DIR']+fname, allow_pickle = True, encoding='latin1')\n",
    "contours = pd.DataFrame(annotation)\n",
    "contours = contours.rename(columns={0:\"name\", 1:\"section\", 2:\"vertices\"})\n",
    "contours_grouped = contours.groupby('section')\n",
    "\n",
    "#Parameters\n",
    "param = {}\n",
    "param['max_depth']= 3   # depth of tree\n",
    "param['eta'] = 0.2      # shrinkage parameter\n",
    "param['silent'] = 1     # not silent\n",
    "param['objective'] = 'binary:logistic' #'multi:softmax'\n",
    "param['nthread'] = 7 # Number of threads used\n",
    "param['num_class']=1\n",
    "num_round = 100\n",
    "\n",
    "yamlfile=os.environ['REPO_DIR']+'shape_params.yaml'\n",
    "params=configuration(yamlfile).getParams()\n",
    "\n",
    "cell_dir = os.environ['ROOT_DIR'] + 'CSHL_patches_features/MD589/'\n",
    "raw_images_root = 'CSHL_data_processed/'+stack+'/'+stack+'_prep2_lossless_gray/'\n",
    "features_fn = 'CSHL_region_features/'\n",
    "if not os.path.exists(os.environ['ROOT_DIR']+features_fn):\n",
    "    os.mkdir(os.environ['ROOT_DIR']+features_fn)\n",
    "features_fn = features_fn+stack+'/'\n",
    "if not os.path.exists(os.environ['ROOT_DIR']+features_fn):\n",
    "    os.mkdir(os.environ['ROOT_DIR']+features_fn)\n",
    "\n",
    "savepath = 'CSHL_shift/'\n",
    "if not os.path.exists(os.environ['ROOT_DIR']+savepath):\n",
    "    os.mkdir(os.environ['ROOT_DIR']+savepath)\n",
    "savepath = savepath+stack+'/'\n",
    "if not os.path.exists(os.environ['ROOT_DIR']+savepath):\n",
    "    os.mkdir(os.environ['ROOT_DIR']+savepath)\n",
    "\n",
    "resol = 0.46\n",
    "step_size = 22\n"
   ]
  },
  {
   "cell_type": "code",
   "execution_count": 5,
   "metadata": {},
   "outputs": [
    {
     "name": "stdout",
     "output_type": "stream",
     "text": [
      "ALREADY DOWNLOADED FILE\n",
      "CPU times: user 751 ms, sys: 650 ms, total: 1.4 s\n",
      "Wall time: 1.83 s\n"
     ]
    }
   ],
   "source": [
    "%%time\n",
    "section = 137\n",
    "img_fn = raw_images_root + section_to_filename[section] + '_prep2_lossless_gray.tif'\n",
    "setup_download_from_s3(img_fn, recursive=False)\n",
    "img = cv2.imread(os.environ['ROOT_DIR']+img_fn, 2)\n",
    "m, n = img.shape\n",
    "margin = 200/0.46\n",
    "extractor = patch_extractor(params)\n",
    "\n",
    "polygons = [(contour['name'], contour['vertices']) \\\n",
    "            for contour_id, contour in contours_grouped.get_group(section).iterrows()]\n",
    "\n",
    "paired_structures = ['5N', '6N', '7N', '7n', 'Amb', 'LC', 'LRt', 'Pn', 'Tz', 'VLL', 'RMC', \\\n",
    "                     'SNC', 'SNR', '3N', '4N', 'Sp5I', 'Sp5O', 'Sp5C', 'PBG', '10N', 'VCA', 'VCP', 'DC']\n",
    "singular_structures = ['AP', '12N', 'RtTg', 'SC', 'IC']\n",
    "\n",
    "all_structures = paired_structures + singular_structures"
   ]
  },
  {
   "cell_type": "code",
   "execution_count": 48,
   "metadata": {
    "scrolled": true
   },
   "outputs": [
    {
     "name": "stdout",
     "output_type": "stream",
     "text": [
      "138 IC 1 / 10\n",
      "138 Sp5C 2 / 10\n",
      "138 DC 3 / 10\n",
      "138 SNR 4 / 10\n",
      "138 Sp5O 5 / 10\n",
      "138 VLL 6 / 10\n",
      "138 SC 7 / 10\n",
      "138 PBG 8 / 10\n",
      "138 Sp5I 9 / 10\n",
      "run cmd= aws s3 cp /Users/kuiqian/BstemAtlasDataBackup/ucsd_brain/CSHL_region_features/MD594/138.pkl s3://mousebrainatlas-data/CSHL_region_features/MD594/138.pkl\n",
      "run cmd= aws s3 cp /Users/kuiqian/BstemAtlasDataBackup/ucsd_brain/CSHL_shift/MD594/138.pkl s3://mousebrainatlas-data/CSHL_shift/MD594/138.pkl\n",
      "138 finished in 2315.7 seconds\n",
      "CPU times: user 1h 10min 31s, sys: 5min 3s, total: 1h 15min 35s\n",
      "Wall time: 38min 35s\n"
     ]
    }
   ],
   "source": [
    "%%time\n",
    "t1 =time()\n",
    "grid_fn = features_fn + str(section) + '.pkl'\n",
    "grid_features = {}\n",
    "count = 0\n",
    "Scores = {}\n",
    "for contour_id, contour in polygons:\n",
    "    structure = contour_id\n",
    "    if structure not in all_structures:\n",
    "        continue\n",
    "    polygon = contour.copy()\n",
    "    Scores[structure] = {}\n",
    "\n",
    "    if structure == '7n':\n",
    "        structure = '7nn'\n",
    "\n",
    "    fp = []\n",
    "    fp.append(cell_dir + structure + '/MD589_' + structure + '_positive.pkl')\n",
    "    fp.append(cell_dir + structure + '/MD589_' + structure + '_negative.pkl')\n",
    "    features = []\n",
    "    labels = []\n",
    "    for state in range(2):\n",
    "        clouds = pickle.load(open(fp[state], 'rb'))\n",
    "        features.extend(np.array(clouds))\n",
    "        labels.extend([1 - state] * len(clouds))\n",
    "    features = np.array(features)\n",
    "    labels = np.array(labels)\n",
    "    X_train = features\n",
    "    y_train = labels\n",
    "    dtrain = xgb.DMatrix(X_train, label=y_train)\n",
    "    bst = xgb.train(param, dtrain, num_round, verbose_eval=False)\n",
    "\n",
    "    if structure == '7nn':\n",
    "        structure = '7n'\n",
    "\n",
    "    [left, right, up, down] = [int(max(min(polygon[:, 0]) - margin, 0)),\n",
    "                               int(min(np.ceil(max(polygon[:, 0]) + margin), n - 1)),\n",
    "                               int(max(min(polygon[:, 1]) - margin, 0)),\n",
    "                               int(min(np.ceil(max(polygon[:, 1]) + margin), m - 1))]\n",
    "    xs, ys = np.meshgrid(np.arange(left, right + 1), np.arange(up, down + 1), indexing='xy')\n",
    "    locations = np.c_[xs.flat, ys.flat]\n",
    "\n",
    "    path = Path(polygon)\n",
    "    indices_inside = np.where(path.contains_points(locations))[0]\n",
    "    indices_in = locations[indices_inside]\n",
    "    x_raw = indices_in[:, 0] - left\n",
    "    y_raw = indices_in[:, 1] - up\n",
    "    mask = np.zeros((down - up + 1, right - left + 1))\n",
    "    for i in range(len(indices_in)):\n",
    "        mask[y_raw[i], x_raw[i]] = 1\n",
    "    mask = mask.astype(np.uint8)\n",
    "\n",
    "    Scores[structure][str(section)+'_positive'] = {}\n",
    "    x_shift = []\n",
    "    y_shift = []\n",
    "    for i in range(-10,11):\n",
    "        try:\n",
    "            nleft = int(max(left+i*step_size, 0))\n",
    "            nright = int(min(right+i*step_size, n-1))\n",
    "            patch = img[up:down + 1, nleft:nright + 1] * mask[:,int(nleft -left-i*step_size):\\\n",
    "                                                         int(nleft -left-i*step_size)+nright - nleft + 1]\n",
    "            \n",
    "#             plt.figure()\n",
    "#             plt.imshow( patch, cmap='gray')\n",
    "#             plt.title('x'+str(i))\n",
    "\n",
    "            grid_index = str(section) + '_' + structure + '_' + 'postive_x_'+str(i)\n",
    "            if grid_index in grid_features.keys():\n",
    "                extracted = grid_features[grid_index]\n",
    "            else:\n",
    "                extracted = features_extractor(patch,'positive',params,extractor)\n",
    "                grid_features[grid_index] = extracted\n",
    "\n",
    "            xtest = xgb.DMatrix(extracted)\n",
    "            score = bst.predict(xtest, output_margin=True, ntree_limit=bst.best_ntree_limit)\n",
    "            x_shift.extend([score])\n",
    "        except:\n",
    "            x_shift.extend([0])\n",
    "\n",
    "        try:\n",
    "            nup = int(max(up+i*step_size, 0))\n",
    "            ndown = int(min(down+i*step_size, n-1))\n",
    "            patch = img[nup:ndown + 1, left:right + 1] * mask[int(nup -up-i*step_size):\\\n",
    "                                                         int(nup -up-i*step_size)+ndown - nup + 1, :]\n",
    "#             plt.figure()\n",
    "#             plt.imshow( patch, cmap='gray')\n",
    "#             plt.title('y'+str(i))\n",
    "\n",
    "            grid_index = str(section) + '_' + structure + '_' + 'postive_y_' + str(i)\n",
    "            if grid_index in grid_features.keys():\n",
    "                extracted = grid_features[grid_index]\n",
    "            else:\n",
    "                extracted = features_extractor(patch, 'positive', params, extractor)\n",
    "                grid_features[grid_index] = extracted\n",
    "\n",
    "            xtest = xgb.DMatrix(extracted)\n",
    "            score = bst.predict(xtest, output_margin=True, ntree_limit=bst.best_ntree_limit)\n",
    "            y_shift.extend([score])\n",
    "        except:\n",
    "            y_shift.extend([0])\n",
    "\n",
    "    Scores[structure][str(section)+'_positive']['x'] = x_shift\n",
    "    Scores[structure][str(section)+'_positive']['y'] = y_shift\n",
    "\n",
    "\n",
    "    surround = Polygon(polygon).buffer(margin, resolution=2)\n",
    "    path = Path(list(surround.exterior.coords))\n",
    "\n",
    "    indices_sur = np.where(path.contains_points(locations))[0]\n",
    "    indices_outside = np.setdiff1d(indices_sur, indices_inside)\n",
    "    indices_out = locations[indices_outside]\n",
    "    x_raw = indices_out[:, 0] - left\n",
    "    y_raw = indices_out[:, 1] - up\n",
    "    mask = np.zeros((down - up + 1, right - left + 1))\n",
    "    for i in range(len(indices_out)):\n",
    "        mask[y_raw[i], x_raw[i]] = 1\n",
    "    mask = mask.astype(np.uint8)\n",
    "\n",
    "    Scores[structure][str(section) + '_negative'] = {}\n",
    "    x_shift = []\n",
    "    y_shift = []\n",
    "    for i in range(-10, 11):\n",
    "        try:\n",
    "            nleft = int(max(left + i * step_size, 0))\n",
    "            nright = int(min(right + i * step_size, n - 1))\n",
    "            patch = img[up:down + 1, nleft:nright + 1] * mask[:, int(nleft - left - i * step_size): \\\n",
    "                                                            int(nleft - left - i * step_size) + nright - nleft + 1]\n",
    "#             plt.figure()\n",
    "#             plt.imshow( patch, cmap='gray')\n",
    "#             plt.title('x'+str(i))\n",
    "            grid_index = str(section) + '_' + structure + '_' + 'negative_x_' + str(i)\n",
    "            if grid_index in grid_features.keys():\n",
    "                extracted = grid_features[grid_index]\n",
    "            else:\n",
    "                extracted = features_extractor(patch, 'negative', params, extractor)\n",
    "                grid_features[grid_index] = extracted\n",
    "\n",
    "            xtest = xgb.DMatrix(extracted)\n",
    "            score = bst.predict(xtest, output_margin=True, ntree_limit=bst.best_ntree_limit)\n",
    "            x_shift.extend([score])\n",
    "        except:\n",
    "            x_shift.extend([0])\n",
    "\n",
    "        try:\n",
    "            nup = int(max(up + i * step_size, 0))\n",
    "            ndown = int(min(down + i * step_size, n - 1))\n",
    "            patch = img[nup:ndown + 1, left:right + 1] * mask[int(nup - up - i * step_size): \\\n",
    "                                                              int(nup - up - i * step_size) + ndown - nup + 1, :]\n",
    "#             plt.figure()\n",
    "#             plt.imshow( patch, cmap='gray')\n",
    "#             plt.title('y'+str(i))\n",
    "            grid_index = str(section) + '_' + structure + '_' + 'negative_y_' + str(i)\n",
    "            if grid_index in grid_features.keys():\n",
    "                extracted = grid_features[grid_index]\n",
    "            else:\n",
    "                extracted = features_extractor(patch, 'negative', params, extractor)\n",
    "                grid_features[grid_index] = extracted\n",
    "\n",
    "            xtest = xgb.DMatrix(extracted)\n",
    "            score = bst.predict(xtest, output_margin=True, ntree_limit=bst.best_ntree_limit)\n",
    "            y_shift.extend([score])\n",
    "        except:\n",
    "            y_shift.extend([0])\n",
    "\n",
    "    Scores[structure][str(section) + '_negative']['x'] = x_shift\n",
    "    Scores[structure][str(section) + '_negative']['y'] = y_shift\n",
    "\n",
    "    count += 1\n",
    "    print(section, structure, count, '/', len(polygons))\n",
    "\n",
    "pickle.dump(grid_features, open(os.environ['ROOT_DIR'] + grid_fn, 'wb'))\n",
    "setup_upload_from_s3(grid_fn, recursive=False)\n",
    "filename = savepath + str(section)+ '.pkl'\n",
    "pickle.dump(Scores, open(os.environ['ROOT_DIR'] + filename, 'wb'))\n",
    "setup_upload_from_s3(filename, recursive=False)\n",
    "os.remove(os.environ['ROOT_DIR']+img_fn)\n",
    "print(str(section) + ' finished in %5.1f seconds' % (time() - t1))"
   ]
  },
  {
   "cell_type": "code",
   "execution_count": 16,
   "metadata": {},
   "outputs": [
    {
     "name": "stdout",
     "output_type": "stream",
     "text": [
      "run cmd= aws s3 cp /Users/kuiqian/BstemAtlasDataBackup/ucsd_brain/CSHL_region_features/MD594/142.pkl s3://mousebrainatlas-data/CSHL_region_features/MD594/142.pkl\n",
      "run cmd= aws s3 cp /Users/kuiqian/BstemAtlasDataBackup/ucsd_brain/CSHL_shift/MD594/142.pkl s3://mousebrainatlas-data/CSHL_shift/MD594/142.pkl\n"
     ]
    }
   ],
   "source": [
    "section = 142\n",
    "grid_fn = features_fn + str(section) + '.pkl'\n",
    "filename = savepath + str(section)+ '.pkl'\n",
    "setup_upload_from_s3(grid_fn, recursive=False)\n",
    "setup_upload_from_s3(filename, recursive=False)"
   ]
  },
  {
   "cell_type": "code",
   "execution_count": 18,
   "metadata": {},
   "outputs": [],
   "source": [
    "filename = savepath + str(143)+ '.pkl'\n",
    "scores = pickle.load(open(os.environ['ROOT_DIR']+filename,'rb'))"
   ]
  },
  {
   "cell_type": "code",
   "execution_count": 19,
   "metadata": {},
   "outputs": [
    {
     "data": {
      "text/plain": [
       "dict_keys(['DC', 'SNC', 'SC', 'Sp5I', 'SNR', 'IC', 'VLL', 'Sp5O', 'Sp5C'])"
      ]
     },
     "execution_count": 19,
     "metadata": {},
     "output_type": "execute_result"
    }
   ],
   "source": [
    "scores.keys()"
   ]
  },
  {
   "cell_type": "code",
   "execution_count": 38,
   "metadata": {},
   "outputs": [],
   "source": [
    "V=[x[0] for x in scores['']['143_positive']['x']]"
   ]
  },
  {
   "cell_type": "code",
   "execution_count": 39,
   "metadata": {},
   "outputs": [
    {
     "data": {
      "text/plain": [
       "[<matplotlib.lines.Line2D at 0x1361f2a20>]"
      ]
     },
     "execution_count": 39,
     "metadata": {},
     "output_type": "execute_result"
    },
    {
     "data": {
      "image/png": "[encoded data removed]",
      "text/plain": [
       "<Figure size 432x288 with 1 Axes>"
      ]
     },
     "metadata": {
      "needs_background": "light"
     },
     "output_type": "display_data"
    }
   ],
   "source": [
    "#%pylab inline\n",
    "plot(V)"
   ]
  },
  {
   "cell_type": "code",
   "execution_count": 17,
   "metadata": {
    "scrolled": true
   },
   "outputs": [
    {
     "name": "stdout",
     "output_type": "stream",
     "text": [
      "/Users/kuiqian/Github/venv/shapeology_venv/lib/python3.7/site-packages/sklearn/externals/joblib/externals/cloudpickle/cloudpickle.py:47: DeprecationWarning: the imp module is deprecated in favour of importlib; see the module's documentation for alternative uses\n",
      "  import imp\n",
      "ALREADY DOWNLOADED FILE\n",
      "ALREADY DOWNLOADED FILE\n",
      "/Users/kuiqian/Github/shapeology_code/scripts/lib/utils.py:22: YAMLLoadWarning: calling yaml.load() without Loader=... is deprecated, as the default Loader is unsafe. Please read https://msg.pyyaml.org/load for full details.\n",
      "  self.D=yaml.load(open(yamlFile,'r'))\n",
      "run cmd= aws s3 cp s3://mousebrainatlas-data/CSHL_data_processed/MD594/MD594_prep2_lossless_gray/MD594-N28-2015.08.26-22.26.13_MD594_1_0082_prep2_lossless_gray.tif /Users/kuiqian/BstemAtlasDataBackup/ucsd_brain/CSHL_data_processed/MD594/MD594_prep2_lossless_gray/MD594-N28-2015.08.26-22.26.13_MD594_1_0082_prep2_lossless_gray.tif\n",
      "download: s3://mousebrainatlas-data/CSHL_data_processed/MD594/MD594_prep2_lossless_gray/MD594-N28-2015.08.26-22.26.13_MD594_1_0082_prep2_lossless_gray.tif to ../../../BstemAtlasDataBackup/ucsd_brain/CSHL_data_processed/MD594/MD594_prep2_lossless_gray/MD594-N28-2015.08.26-22.26.13_MD594_1_0082_prep2_lossless_gray.tif\n",
      "run cmd= aws s3 cp s3://mousebrainatlas-data/CSHL_region_features/MD594/143.pkl /Users/kuiqian/BstemAtlasDataBackup/ucsd_brain/CSHL_region_features/MD594/143.pkl\n",
      "fatal error: An error occurred (404) when calling the HeadObject operation: Key \"CSHL_region_features/MD594/143.pkl\" does not exist\n",
      "143 DC 1 / 10\n",
      "143 SNC 2 / 10\n",
      "143 SC 3 / 10\n",
      "143 Sp5I 4 / 10\n",
      "143 SNR 5 / 10\n",
      "143 IC 6 / 10\n",
      "143 VLL 7 / 10\n",
      "143 Sp5O 8 / 10\n",
      "143 Sp5C 9 / 10\n",
      "run cmd= aws s3 cp /Users/kuiqian/BstemAtlasDataBackup/ucsd_brain/CSHL_region_features/MD594/143.pkl s3://mousebrainatlas-data/CSHL_region_features/MD594/143.pkl\n",
      "upload: ../../../BstemAtlasDataBackup/ucsd_brain/CSHL_region_features/MD594/143.pkl to s3://mousebrainatlas-data/CSHL_region_features/MD594/143.pkl\n",
      "run cmd= aws s3 cp /Users/kuiqian/BstemAtlasDataBackup/ucsd_brain/CSHL_shift/MD594/143.pkl s3://mousebrainatlas-data/CSHL_shift/MD594/143.pkl\n",
      "upload: ../../../BstemAtlasDataBackup/ucsd_brain/CSHL_shift/MD594/143.pkl to s3://mousebrainatlas-data/CSHL_shift/MD594/143.pkl\n",
      "143 finished in 2952.5 seconds\n"
     ]
    }
   ],
   "source": [
    "script_dir = os.environ['REPO_DIR']\n",
    "! python $script_dir/Shape_shift.py 'MD594' 143 'shape_params.yaml'"
   ]
  },
  {
   "cell_type": "code",
   "execution_count": 14,
   "metadata": {},
   "outputs": [
    {
     "name": "stdout",
     "output_type": "stream",
     "text": [
      "2019-07-16 00:52:50     131432 100.pkl\r\n",
      "2019-07-16 00:30:12     131431 101.pkl\r\n",
      "2019-07-16 00:30:43     131428 102.pkl\r\n",
      "2019-07-16 00:32:03     131432 103.pkl\r\n",
      "2019-07-16 00:32:51     131432 104.pkl\r\n",
      "2019-07-16 02:22:08     394775 105.pkl\r\n",
      "2019-07-16 03:31:34     394820 106.pkl\r\n",
      "2019-07-16 04:19:10     394798 107.pkl\r\n",
      "2019-07-16 04:18:27     394831 108.pkl\r\n",
      "2019-07-16 04:19:47     394755 109.pkl\r\n",
      "2019-07-16 04:20:07     394764 110.pkl\r\n",
      "2019-07-16 04:23:23     394766 111.pkl\r\n",
      "2019-07-16 04:22:15     394775 112.pkl\r\n",
      "2019-07-16 04:21:21     394761 113.pkl\r\n",
      "2019-07-16 04:21:19     394799 114.pkl\r\n",
      "2019-07-16 04:20:28     394746 115.pkl\r\n",
      "2019-07-16 04:20:59     394781 116.pkl\r\n",
      "2019-07-16 04:22:15     394627 117.pkl\r\n",
      "2019-07-16 04:30:28     394665 118.pkl\r\n",
      "2019-07-16 04:27:45     394711 119.pkl\r\n",
      "2019-07-16 02:17:23     394637 120.pkl\r\n",
      "2019-07-16 02:27:47     394626 121.pkl\r\n",
      "2019-07-16 02:34:06     262794 122.pkl\r\n",
      "2019-07-16 04:19:33     262754 123.pkl\r\n",
      "2019-07-16 04:19:56     262818 124.pkl\r\n",
      "2019-07-16 04:20:01     262760 125.pkl\r\n",
      "2019-07-16 04:23:58     526651 126.pkl\r\n",
      "2019-07-16 04:23:30     526642 127.pkl\r\n",
      "2019-07-16 04:28:48     790332 128.pkl\r\n",
      "2019-07-16 04:27:43     658472 129.pkl\r\n",
      "2019-07-16 04:33:06     790432 130.pkl\r\n",
      "2019-07-16 04:40:21     790410 132.pkl\r\n",
      "2019-07-16 04:41:08     790293 133.pkl\r\n",
      "2019-07-16 04:46:42     922319 134.pkl\r\n",
      "2019-07-16 04:47:14     922224 135.pkl\r\n",
      "2019-07-18 00:21:29     922282 136.pkl\r\n",
      "2019-07-22 20:20:52    1054043 137.pkl\r\n",
      "2019-07-22 17:46:53    1185883 138.pkl\r\n",
      "2019-07-16 04:52:28    1141993 139.pkl\r\n",
      "2019-07-18 01:05:48    1185849 140.pkl\r\n",
      "2019-07-18 01:50:38    1317492 141.pkl\r\n",
      "2019-07-22 16:07:39    1317231 163.pkl\r\n",
      "2019-07-15 23:04:31     131332 94.pkl\r\n",
      "2019-07-16 00:15:21     131339 95.pkl\r\n",
      "2019-07-16 00:17:32     131348 96.pkl\r\n",
      "2019-07-16 00:20:23     131346 97.pkl\r\n",
      "2019-07-16 00:24:29     131340 98.pkl\r\n",
      "2019-07-16 00:29:14     131348 99.pkl\r\n"
     ]
    }
   ],
   "source": [
    "! aws s3 ls mousebrainatlas-data/CSHL_region_features/MD594/"
   ]
  },
  {
   "cell_type": "code",
   "execution_count": null,
   "metadata": {},
   "outputs": [],
   "source": []
  }
 ],
 "metadata": {
  "kernelspec": {
   "display_name": "shapeology",
   "language": "python",
   "name": "shapeology_code"
  },
  "language_info": {
   "codemirror_mode": {
    "name": "ipython",
    "version": 3
   },
   "file_extension": ".py",
   "mimetype": "text/x-python",
   "name": "python",
   "nbconvert_exporter": "python",
   "pygments_lexer": "ipython3",
   "version": "3.7.3"
  }
 },
 "nbformat": 4,
 "nbformat_minor": 2
}
