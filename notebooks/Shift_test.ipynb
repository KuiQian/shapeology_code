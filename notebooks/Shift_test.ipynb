{
 "cells": [
  {
   "cell_type": "code",
   "execution_count": 1,
   "metadata": {},
   "outputs": [],
   "source": [
    "import cv2\n",
    "import numpy as np\n",
    "import pandas as pd\n",
    "import pickle\n",
    "import xgboost as xgb\n",
    "from matplotlib import pyplot as plt\n",
    "import skimage\n",
    "import os\n",
    "import sys\n",
    "from time import time\n",
    "sys.path.append(os.environ['REPO_DIR'])\n",
    "from extractPatches import patch_extractor\n",
    "from lib.utils import configuration, run\n",
    "from matplotlib.path import Path\n",
    "from shapely.geometry import Polygon"
   ]
  },
  {
   "cell_type": "code",
   "execution_count": 4,
   "metadata": {},
   "outputs": [],
   "source": [
    "def CDF(x):\n",
    "    x=np.sort(x)\n",
    "    size=x.shape[0]\n",
    "    y=np.arange(0,size)/size\n",
    "    return x,y\n",
    "\n",
    "\n",
    "def setup_download_from_s3(rel_fp, recursive=True):\n",
    "    s3_fp = 's3://mousebrainatlas-data/' + rel_fp\n",
    "    local_fp = os.environ['ROOT_DIR'] + rel_fp\n",
    "\n",
    "    if os.path.exists(local_fp):\n",
    "        print('ALREADY DOWNLOADED FILE')\n",
    "        return\n",
    "\n",
    "    if recursive:\n",
    "        run('aws s3 cp --recursive {0} {1}'.format(s3_fp, local_fp))\n",
    "    else:\n",
    "        run('aws s3 cp {0} {1}'.format(s3_fp, local_fp))\n",
    "\n",
    "def setup_upload_from_s3(rel_fp, recursive=True):\n",
    "    s3_fp = 's3://mousebrainatlas-data/' + rel_fp\n",
    "    local_fp = os.environ['ROOT_DIR'] + rel_fp\n",
    "\n",
    "    if recursive:\n",
    "        run('aws s3 cp --recursive {0} {1}'.format(local_fp, s3_fp))\n",
    "    else:\n",
    "        run('aws s3 cp {0} {1}'.format(local_fp, s3_fp))"
   ]
  },
  {
   "cell_type": "code",
   "execution_count": 3,
   "metadata": {},
   "outputs": [],
   "source": [
    "def features_extractor(patch,state,params,extractor):\n",
    "    tile=patch\n",
    "    contours, _ = cv2.findContours(tile.copy(), cv2.RETR_TREE, cv2.CHAIN_APPROX_SIMPLE)\n",
    "    if state=='positive':\n",
    "        if len(contours)==1:\n",
    "            object_area = cv2.contourArea(contours[0])\n",
    "        else:\n",
    "            areas=[]\n",
    "            for j in range(len(contours)):\n",
    "                areas.extend([cv2.contourArea(contours[j])])\n",
    "            object_area = max(areas)\n",
    "    else:\n",
    "        if len(contours)==2:\n",
    "            object_area = cv2.contourArea(contours[0])-cv2.contourArea(contours[1])\n",
    "        else:\n",
    "            areas=[]\n",
    "            for j in range(len(contours)):\n",
    "                areas.extend([cv2.contourArea(contours[j])])\n",
    "            areas=np.sort(areas)\n",
    "            object_area = areas[-1]-areas[-2]\n",
    "\n",
    "    if params['preprocessing']['polarity']==-1:\n",
    "        tile = 255-tile\n",
    "    min_std=params['preprocessing']['min_std']\n",
    "    _std = np.std(tile.flatten())\n",
    "\n",
    "    extracted = []\n",
    "    if _std < min_std:\n",
    "        extracted.append([0] * 201)\n",
    "    else:\n",
    "        Stats = extractor.segment_cells(tile)\n",
    "        cells = extractor.extract_blobs(Stats,tile)\n",
    "        cells = pd.DataFrame(cells)\n",
    "        cells = cells[cells['padded_patch'].notnull()]\n",
    "        cells = cells.drop(['padded_patch','left','top'],1)\n",
    "        cells = np.asarray(cells)\n",
    "        for k in range(len(cells)):\n",
    "            cells[k][0] = cells[k][0][:10]\n",
    "        origin = np.concatenate((np.array(list(cells[:,0])),cells[:,1:]),axis=1)\n",
    "        for k in range(origin.shape[1]):\n",
    "            x, y = CDF(origin[:,k])\n",
    "            ten = [x[np.argmin(np.absolute(y-0.1*(j+1)))] for j in range(10)]\n",
    "            extracted.extend(ten)\n",
    "        extracted.extend([cells.shape[0]/object_area*224*224/100])\n",
    "    return extracted"
   ]
  },
  {
   "cell_type": "code",
   "execution_count": 5,
   "metadata": {},
   "outputs": [
    {
     "name": "stdout",
     "output_type": "stream",
     "text": [
      "ALREADY DOWNLOADED FILE\n",
      "ALREADY DOWNLOADED FILE\n"
     ]
    },
    {
     "name": "stderr",
     "output_type": "stream",
     "text": [
      "/Users/kuiqian/Github/shapeology_code/scripts/lib/utils.py:22: YAMLLoadWarning: calling yaml.load() without Loader=... is deprecated, as the default Loader is unsafe. Please read https://msg.pyyaml.org/load for full details.\n",
      "  self.D=yaml.load(open(yamlFile,'r'))\n"
     ]
    }
   ],
   "source": [
    "stack = 'MD594'\n",
    "fp = os.path.join('CSHL_data_processed', stack, stack + '_sorted_filenames.txt')\n",
    "setup_download_from_s3(fp, recursive=False)\n",
    "with open(os.environ['ROOT_DIR']+fp, 'r') as f:\n",
    "    fn_idx_tuples = [line.strip().split() for line in f.readlines()]\n",
    "    section_to_filename = {int(idx): fn for fn, idx in fn_idx_tuples}\n",
    "\n",
    "\n",
    "fname = os.path.join('CSHL_data_processed', stack, 'Annotation.npy')\n",
    "setup_download_from_s3(fname, recursive=False)\n",
    "annotation = np.load(os.environ['ROOT_DIR']+fname, allow_pickle = True, encoding='latin1')\n",
    "contours = pd.DataFrame(annotation)\n",
    "contours = contours.rename(columns={0:\"name\", 1:\"section\", 2:\"vertices\"})\n",
    "contours_grouped = contours.groupby('section')\n",
    "\n",
    "#Parameters\n",
    "param = {}\n",
    "param['max_depth']= 3   # depth of tree\n",
    "param['eta'] = 0.2      # shrinkage parameter\n",
    "param['silent'] = 1     # not silent\n",
    "param['objective'] = 'binary:logistic' #'multi:softmax'\n",
    "param['nthread'] = 7 # Number of threads used\n",
    "param['num_class']=1\n",
    "num_round = 100\n",
    "\n",
    "yamlfile=os.environ['REPO_DIR']+'shape_params.yaml'\n",
    "params=configuration(yamlfile).getParams()\n",
    "\n",
    "cell_dir = os.environ['ROOT_DIR'] + 'CSHL_patches_features/MD589/'\n",
    "raw_images_root = 'CSHL_data_processed/'+stack+'/'+stack+'_prep2_lossless_gray/'\n",
    "features_fn = 'CSHL_region_features/'\n",
    "if not os.path.exists(os.environ['ROOT_DIR']+features_fn):\n",
    "    os.mkdir(os.environ['ROOT_DIR']+features_fn)\n",
    "features_fn = features_fn+stack+'/'\n",
    "if not os.path.exists(os.environ['ROOT_DIR']+features_fn):\n",
    "    os.mkdir(os.environ['ROOT_DIR']+features_fn)\n",
    "\n",
    "savepath = 'CSHL_shift/'\n",
    "if not os.path.exists(os.environ['ROOT_DIR']+savepath):\n",
    "    os.mkdir(os.environ['ROOT_DIR']+savepath)\n",
    "savepath = savepath+stack+'/'\n",
    "if not os.path.exists(os.environ['ROOT_DIR']+savepath):\n",
    "    os.mkdir(os.environ['ROOT_DIR']+savepath)\n",
    "\n",
    "resol = 0.46\n",
    "step_size = 22\n"
   ]
  },
  {
   "cell_type": "code",
   "execution_count": 5,
   "metadata": {},
   "outputs": [
    {
     "name": "stdout",
     "output_type": "stream",
     "text": [
      "ALREADY DOWNLOADED FILE\n",
      "CPU times: user 751 ms, sys: 650 ms, total: 1.4 s\n",
      "Wall time: 1.83 s\n"
     ]
    }
   ],
   "source": [
    "%%time\n",
    "section = 137\n",
    "img_fn = raw_images_root + section_to_filename[section] + '_prep2_lossless_gray.tif'\n",
    "setup_download_from_s3(img_fn, recursive=False)\n",
    "img = cv2.imread(os.environ['ROOT_DIR']+img_fn, 2)\n",
    "m, n = img.shape\n",
    "margin = 200/0.46\n",
    "extractor = patch_extractor(params)\n",
    "\n",
    "polygons = [(contour['name'], contour['vertices']) \\\n",
    "            for contour_id, contour in contours_grouped.get_group(section).iterrows()]\n",
    "\n",
    "paired_structures = ['5N', '6N', '7N', '7n', 'Amb', 'LC', 'LRt', 'Pn', 'Tz', 'VLL', 'RMC', \\\n",
    "                     'SNC', 'SNR', '3N', '4N', 'Sp5I', 'Sp5O', 'Sp5C', 'PBG', '10N', 'VCA', 'VCP', 'DC']\n",
    "singular_structures = ['AP', '12N', 'RtTg', 'SC', 'IC']\n",
    "\n",
    "all_structures = paired_structures + singular_structures"
   ]
  },
  {
   "cell_type": "code",
   "execution_count": 48,
   "metadata": {
    "scrolled": true
   },
   "outputs": [
    {
     "name": "stdout",
     "output_type": "stream",
     "text": [
      "138 IC 1 / 10\n",
      "138 Sp5C 2 / 10\n",
      "138 DC 3 / 10\n",
      "138 SNR 4 / 10\n",
      "138 Sp5O 5 / 10\n",
      "138 VLL 6 / 10\n",
      "138 SC 7 / 10\n",
      "138 PBG 8 / 10\n",
      "138 Sp5I 9 / 10\n",
      "run cmd= aws s3 cp /Users/kuiqian/BstemAtlasDataBackup/ucsd_brain/CSHL_region_features/MD594/138.pkl s3://mousebrainatlas-data/CSHL_region_features/MD594/138.pkl\n",
      "run cmd= aws s3 cp /Users/kuiqian/BstemAtlasDataBackup/ucsd_brain/CSHL_shift/MD594/138.pkl s3://mousebrainatlas-data/CSHL_shift/MD594/138.pkl\n",
      "138 finished in 2315.7 seconds\n",
      "CPU times: user 1h 10min 31s, sys: 5min 3s, total: 1h 15min 35s\n",
      "Wall time: 38min 35s\n"
     ]
    }
   ],
   "source": [
    "%%time\n",
    "t1 =time()\n",
    "grid_fn = features_fn + str(section) + '.pkl'\n",
    "grid_features = {}\n",
    "count = 0\n",
    "Scores = {}\n",
    "for contour_id, contour in polygons:\n",
    "    structure = contour_id\n",
    "    if structure not in all_structures:\n",
    "        continue\n",
    "    polygon = contour.copy()\n",
    "    Scores[structure] = {}\n",
    "\n",
    "    if structure == '7n':\n",
    "        structure = '7nn'\n",
    "\n",
    "    fp = []\n",
    "    fp.append(cell_dir + structure + '/MD589_' + structure + '_positive.pkl')\n",
    "    fp.append(cell_dir + structure + '/MD589_' + structure + '_negative.pkl')\n",
    "    features = []\n",
    "    labels = []\n",
    "    for state in range(2):\n",
    "        clouds = pickle.load(open(fp[state], 'rb'))\n",
    "        features.extend(np.array(clouds))\n",
    "        labels.extend([1 - state] * len(clouds))\n",
    "    features = np.array(features)\n",
    "    labels = np.array(labels)\n",
    "    X_train = features\n",
    "    y_train = labels\n",
    "    dtrain = xgb.DMatrix(X_train, label=y_train)\n",
    "    bst = xgb.train(param, dtrain, num_round, verbose_eval=False)\n",
    "\n",
    "    if structure == '7nn':\n",
    "        structure = '7n'\n",
    "\n",
    "    [left, right, up, down] = [int(max(min(polygon[:, 0]) - margin, 0)),\n",
    "                               int(min(np.ceil(max(polygon[:, 0]) + margin), n - 1)),\n",
    "                               int(max(min(polygon[:, 1]) - margin, 0)),\n",
    "                               int(min(np.ceil(max(polygon[:, 1]) + margin), m - 1))]\n",
    "    xs, ys = np.meshgrid(np.arange(left, right + 1), np.arange(up, down + 1), indexing='xy')\n",
    "    locations = np.c_[xs.flat, ys.flat]\n",
    "\n",
    "    path = Path(polygon)\n",
    "    indices_inside = np.where(path.contains_points(locations))[0]\n",
    "    indices_in = locations[indices_inside]\n",
    "    x_raw = indices_in[:, 0] - left\n",
    "    y_raw = indices_in[:, 1] - up\n",
    "    mask = np.zeros((down - up + 1, right - left + 1))\n",
    "    for i in range(len(indices_in)):\n",
    "        mask[y_raw[i], x_raw[i]] = 1\n",
    "    mask = mask.astype(np.uint8)\n",
    "\n",
    "    Scores[structure][str(section)+'_positive'] = {}\n",
    "    x_shift = []\n",
    "    y_shift = []\n",
    "    for i in range(-10,11):\n",
    "        try:\n",
    "            nleft = int(max(left+i*step_size, 0))\n",
    "            nright = int(min(right+i*step_size, n-1))\n",
    "            patch = img[up:down + 1, nleft:nright + 1] * mask[:,int(nleft -left-i*step_size):\\\n",
    "                                                         int(nleft -left-i*step_size)+nright - nleft + 1]\n",
    "            \n",
    "#             plt.figure()\n",
    "#             plt.imshow( patch, cmap='gray')\n",
    "#             plt.title('x'+str(i))\n",
    "\n",
    "            grid_index = str(section) + '_' + structure + '_' + 'postive_x_'+str(i)\n",
    "            if grid_index in grid_features.keys():\n",
    "                extracted = grid_features[grid_index]\n",
    "            else:\n",
    "                extracted = features_extractor(patch,'positive',params,extractor)\n",
    "                grid_features[grid_index] = extracted\n",
    "\n",
    "            xtest = xgb.DMatrix(extracted)\n",
    "            score = bst.predict(xtest, output_margin=True, ntree_limit=bst.best_ntree_limit)\n",
    "            x_shift.extend([score])\n",
    "        except:\n",
    "            x_shift.extend([0])\n",
    "\n",
    "        try:\n",
    "            nup = int(max(up+i*step_size, 0))\n",
    "            ndown = int(min(down+i*step_size, n-1))\n",
    "            patch = img[nup:ndown + 1, left:right + 1] * mask[int(nup -up-i*step_size):\\\n",
    "                                                         int(nup -up-i*step_size)+ndown - nup + 1, :]\n",
    "#             plt.figure()\n",
    "#             plt.imshow( patch, cmap='gray')\n",
    "#             plt.title('y'+str(i))\n",
    "\n",
    "            grid_index = str(section) + '_' + structure + '_' + 'postive_y_' + str(i)\n",
    "            if grid_index in grid_features.keys():\n",
    "                extracted = grid_features[grid_index]\n",
    "            else:\n",
    "                extracted = features_extractor(patch, 'positive', params, extractor)\n",
    "                grid_features[grid_index] = extracted\n",
    "\n",
    "            xtest = xgb.DMatrix(extracted)\n",
    "            score = bst.predict(xtest, output_margin=True, ntree_limit=bst.best_ntree_limit)\n",
    "            y_shift.extend([score])\n",
    "        except:\n",
    "            y_shift.extend([0])\n",
    "\n",
    "    Scores[structure][str(section)+'_positive']['x'] = x_shift\n",
    "    Scores[structure][str(section)+'_positive']['y'] = y_shift\n",
    "\n",
    "\n",
    "    surround = Polygon(polygon).buffer(margin, resolution=2)\n",
    "    path = Path(list(surround.exterior.coords))\n",
    "\n",
    "    indices_sur = np.where(path.contains_points(locations))[0]\n",
    "    indices_outside = np.setdiff1d(indices_sur, indices_inside)\n",
    "    indices_out = locations[indices_outside]\n",
    "    x_raw = indices_out[:, 0] - left\n",
    "    y_raw = indices_out[:, 1] - up\n",
    "    mask = np.zeros((down - up + 1, right - left + 1))\n",
    "    for i in range(len(indices_out)):\n",
    "        mask[y_raw[i], x_raw[i]] = 1\n",
    "    mask = mask.astype(np.uint8)\n",
    "\n",
    "    Scores[structure][str(section) + '_negative'] = {}\n",
    "    x_shift = []\n",
    "    y_shift = []\n",
    "    for i in range(-10, 11):\n",
    "        try:\n",
    "            nleft = int(max(left + i * step_size, 0))\n",
    "            nright = int(min(right + i * step_size, n - 1))\n",
    "            patch = img[up:down + 1, nleft:nright + 1] * mask[:, int(nleft - left - i * step_size): \\\n",
    "                                                            int(nleft - left - i * step_size) + nright - nleft + 1]\n",
    "#             plt.figure()\n",
    "#             plt.imshow( patch, cmap='gray')\n",
    "#             plt.title('x'+str(i))\n",
    "            grid_index = str(section) + '_' + structure + '_' + 'negative_x_' + str(i)\n",
    "            if grid_index in grid_features.keys():\n",
    "                extracted = grid_features[grid_index]\n",
    "            else:\n",
    "                extracted = features_extractor(patch, 'negative', params, extractor)\n",
    "                grid_features[grid_index] = extracted\n",
    "\n",
    "            xtest = xgb.DMatrix(extracted)\n",
    "            score = bst.predict(xtest, output_margin=True, ntree_limit=bst.best_ntree_limit)\n",
    "            x_shift.extend([score])\n",
    "        except:\n",
    "            x_shift.extend([0])\n",
    "\n",
    "        try:\n",
    "            nup = int(max(up + i * step_size, 0))\n",
    "            ndown = int(min(down + i * step_size, n - 1))\n",
    "            patch = img[nup:ndown + 1, left:right + 1] * mask[int(nup - up - i * step_size): \\\n",
    "                                                              int(nup - up - i * step_size) + ndown - nup + 1, :]\n",
    "#             plt.figure()\n",
    "#             plt.imshow( patch, cmap='gray')\n",
    "#             plt.title('y'+str(i))\n",
    "            grid_index = str(section) + '_' + structure + '_' + 'negative_y_' + str(i)\n",
    "            if grid_index in grid_features.keys():\n",
    "                extracted = grid_features[grid_index]\n",
    "            else:\n",
    "                extracted = features_extractor(patch, 'negative', params, extractor)\n",
    "                grid_features[grid_index] = extracted\n",
    "\n",
    "            xtest = xgb.DMatrix(extracted)\n",
    "            score = bst.predict(xtest, output_margin=True, ntree_limit=bst.best_ntree_limit)\n",
    "            y_shift.extend([score])\n",
    "        except:\n",
    "            y_shift.extend([0])\n",
    "\n",
    "    Scores[structure][str(section) + '_negative']['x'] = x_shift\n",
    "    Scores[structure][str(section) + '_negative']['y'] = y_shift\n",
    "\n",
    "    count += 1\n",
    "    print(section, structure, count, '/', len(polygons))\n",
    "\n",
    "pickle.dump(grid_features, open(os.environ['ROOT_DIR'] + grid_fn, 'wb'))\n",
    "setup_upload_from_s3(grid_fn, recursive=False)\n",
    "filename = savepath + str(section)+ '.pkl'\n",
    "pickle.dump(Scores, open(os.environ['ROOT_DIR'] + filename, 'wb'))\n",
    "setup_upload_from_s3(filename, recursive=False)\n",
    "os.remove(os.environ['ROOT_DIR']+img_fn)\n",
    "print(str(section) + ' finished in %5.1f seconds' % (time() - t1))"
   ]
  },
  {
   "cell_type": "code",
   "execution_count": 76,
   "metadata": {},
   "outputs": [
    {
     "name": "stdout",
     "output_type": "stream",
     "text": [
      "run cmd= aws s3 cp /Users/kuiqian/BstemAtlasDataBackup/ucsd_brain/CSHL_region_features/MD594/163.pkl s3://mousebrainatlas-data/CSHL_region_features/MD594/163.pkl\n",
      "run cmd= aws s3 cp /Users/kuiqian/BstemAtlasDataBackup/ucsd_brain/CSHL_shift/MD594/163.pkl s3://mousebrainatlas-data/CSHL_shift/MD594/163.pkl\n"
     ]
    }
   ],
   "source": [
    "section = 163\n",
    "grid_fn = features_fn + str(section) + '.pkl'\n",
    "filename = savepath + str(section)+ '.pkl'\n",
    "setup_upload_from_s3(grid_fn, recursive=False)\n",
    "setup_upload_from_s3(filename, recursive=False)"
   ]
  },
  {
   "cell_type": "code",
   "execution_count": 16,
   "metadata": {},
   "outputs": [
    {
     "name": "stdout",
     "output_type": "stream",
     "text": [
      "run cmd= aws s3 cp s3://mousebrainatlas-data/CSHL_shift/MD594/94.pkl /Users/kuiqian/BstemAtlasDataBackup/ucsd_brain/CSHL_shift/MD594/94.pkl\n"
     ]
    }
   ],
   "source": [
    "section =94\n",
    "filename = savepath + str(section)+ '.pkl'\n",
    "setup_download_from_s3(filename, recursive=False)\n",
    "scores = pickle.load(open(os.environ['ROOT_DIR']+filename,'rb'))"
   ]
  },
  {
   "cell_type": "code",
   "execution_count": 17,
   "metadata": {},
   "outputs": [
    {
     "data": {
      "text/plain": [
       "dict_keys(['VCA'])"
      ]
     },
     "execution_count": 17,
     "metadata": {},
     "output_type": "execute_result"
    }
   ],
   "source": [
    "scores.keys()"
   ]
  },
  {
   "cell_type": "code",
   "execution_count": 18,
   "metadata": {},
   "outputs": [
    {
     "data": {
      "text/plain": [
       "{'VCA': {'94_positive': {'x': [array([-4.0781918], dtype=float32),\n",
       "    array([-4.3690877], dtype=float32),\n",
       "    array([-3.3695161], dtype=float32),\n",
       "    array([-5.30971], dtype=float32),\n",
       "    array([-3.3932755], dtype=float32),\n",
       "    array([-2.5561578], dtype=float32),\n",
       "    array([-1.4512378], dtype=float32),\n",
       "    array([0.09695113], dtype=float32),\n",
       "    array([0.51189893], dtype=float32),\n",
       "    array([2.012927], dtype=float32),\n",
       "    array([0.35825568], dtype=float32),\n",
       "    array([-0.23671122], dtype=float32),\n",
       "    array([-1.7154372], dtype=float32),\n",
       "    array([-2.453755], dtype=float32),\n",
       "    array([-3.4338655], dtype=float32),\n",
       "    array([-4.621012], dtype=float32),\n",
       "    array([-4.981338], dtype=float32),\n",
       "    array([-4.054709], dtype=float32),\n",
       "    array([-3.8744702], dtype=float32),\n",
       "    array([-2.1588223], dtype=float32),\n",
       "    array([-3.1113863], dtype=float32)],\n",
       "   'y': [array([-5.2077746], dtype=float32),\n",
       "    array([-6.3060756], dtype=float32),\n",
       "    array([-4.7393904], dtype=float32),\n",
       "    array([-4.4469166], dtype=float32),\n",
       "    array([-4.6198797], dtype=float32),\n",
       "    array([-2.8154016], dtype=float32),\n",
       "    array([-2.765125], dtype=float32),\n",
       "    array([-1.530336], dtype=float32),\n",
       "    array([-2.430035], dtype=float32),\n",
       "    array([0.89516747], dtype=float32),\n",
       "    array([0.35825568], dtype=float32),\n",
       "    array([0.59328145], dtype=float32),\n",
       "    array([0.41808724], dtype=float32),\n",
       "    array([0.3111156], dtype=float32),\n",
       "    array([0.03816704], dtype=float32),\n",
       "    array([-0.4469976], dtype=float32),\n",
       "    array([1.4557441], dtype=float32),\n",
       "    array([-2.2873292], dtype=float32),\n",
       "    array([2.1428792], dtype=float32),\n",
       "    array([2.1428792], dtype=float32),\n",
       "    0],\n",
       "   'z': [0,\n",
       "    0,\n",
       "    0,\n",
       "    0,\n",
       "    0,\n",
       "    0,\n",
       "    0,\n",
       "    0,\n",
       "    0,\n",
       "    0,\n",
       "    array([0.35825568], dtype=float32),\n",
       "    array([1.2839526], dtype=float32),\n",
       "    array([-0.63925683], dtype=float32),\n",
       "    array([1.7143078], dtype=float32),\n",
       "    array([1.4639542], dtype=float32),\n",
       "    array([-0.04347861], dtype=float32),\n",
       "    array([-2.0803564], dtype=float32),\n",
       "    array([0.17084663], dtype=float32),\n",
       "    array([0.16858615], dtype=float32),\n",
       "    array([-1.0298699], dtype=float32),\n",
       "    array([-0.77195805], dtype=float32)]},\n",
       "  '94_negative': {'x': [array([-3.0052035], dtype=float32),\n",
       "    array([-2.4530215], dtype=float32),\n",
       "    array([-2.270066], dtype=float32),\n",
       "    array([-3.4531431], dtype=float32),\n",
       "    array([-2.3946838], dtype=float32),\n",
       "    array([-2.756492], dtype=float32),\n",
       "    array([-3.7611468], dtype=float32),\n",
       "    array([-3.2976348], dtype=float32),\n",
       "    array([-3.1141355], dtype=float32),\n",
       "    array([-3.73214], dtype=float32),\n",
       "    array([-3.653543], dtype=float32),\n",
       "    array([-2.946182], dtype=float32),\n",
       "    array([-2.687681], dtype=float32),\n",
       "    array([-2.0047522], dtype=float32),\n",
       "    array([-2.6067438], dtype=float32),\n",
       "    array([-1.9724585], dtype=float32),\n",
       "    array([-1.8837345], dtype=float32),\n",
       "    array([-1.9687723], dtype=float32),\n",
       "    array([-2.2306569], dtype=float32),\n",
       "    array([-3.0176585], dtype=float32),\n",
       "    array([-3.0241385], dtype=float32)],\n",
       "   'y': [array([-4.65603], dtype=float32),\n",
       "    array([-4.3902235], dtype=float32),\n",
       "    array([-3.8704822], dtype=float32),\n",
       "    array([-3.9205103], dtype=float32),\n",
       "    array([-3.8663456], dtype=float32),\n",
       "    array([-3.175186], dtype=float32),\n",
       "    array([-3.5467272], dtype=float32),\n",
       "    array([-3.8095567], dtype=float32),\n",
       "    array([-4.299023], dtype=float32),\n",
       "    array([-4.041082], dtype=float32),\n",
       "    array([-3.653543], dtype=float32),\n",
       "    array([-3.2407095], dtype=float32),\n",
       "    array([-1.6112918], dtype=float32),\n",
       "    array([-0.7862074], dtype=float32),\n",
       "    array([-1.0236291], dtype=float32),\n",
       "    array([-0.2569636], dtype=float32),\n",
       "    array([0.19055001], dtype=float32),\n",
       "    array([0.82640034], dtype=float32),\n",
       "    array([-1.0828632], dtype=float32),\n",
       "    array([-1.6983057], dtype=float32),\n",
       "    array([-0.28974128], dtype=float32)],\n",
       "   'z': [0,\n",
       "    0,\n",
       "    0,\n",
       "    0,\n",
       "    0,\n",
       "    0,\n",
       "    0,\n",
       "    0,\n",
       "    0,\n",
       "    0,\n",
       "    array([-3.653543], dtype=float32),\n",
       "    array([-0.2888313], dtype=float32),\n",
       "    array([-0.23274568], dtype=float32),\n",
       "    array([1.6185274], dtype=float32),\n",
       "    array([1.475577], dtype=float32),\n",
       "    array([1.9660174], dtype=float32),\n",
       "    array([1.542469], dtype=float32),\n",
       "    array([1.6459002], dtype=float32),\n",
       "    array([1.4036121], dtype=float32),\n",
       "    array([0.08317825], dtype=float32),\n",
       "    array([0.7880568], dtype=float32)]}}}"
      ]
     },
     "execution_count": 18,
     "metadata": {},
     "output_type": "execute_result"
    }
   ],
   "source": [
    "scores"
   ]
  },
  {
   "cell_type": "code",
   "execution_count": 79,
   "metadata": {},
   "outputs": [],
   "source": [
    "V=[x[0] for x in scores['7n'][str(section)+'_positive']['x']]"
   ]
  },
  {
   "cell_type": "code",
   "execution_count": 80,
   "metadata": {},
   "outputs": [
    {
     "data": {
      "text/plain": [
       "[<matplotlib.lines.Line2D at 0x138c80160>]"
      ]
     },
     "execution_count": 80,
     "metadata": {},
     "output_type": "execute_result"
    },
    {
     "data": {
      "image/png": "[encoded data removed]",
      "text/plain": [
       "<Figure size 432x288 with 1 Axes>"
      ]
     },
     "metadata": {
      "needs_background": "light"
     },
     "output_type": "display_data"
    }
   ],
   "source": [
    "#%pylab inline\n",
    "plot(V)"
   ]
  },
  {
   "cell_type": "code",
   "execution_count": 21,
   "metadata": {
    "scrolled": true
   },
   "outputs": [
    {
     "name": "stdout",
     "output_type": "stream",
     "text": [
      "/Users/kuiqian/Github/venv/shapeology_venv/lib/python3.7/site-packages/sklearn/externals/joblib/externals/cloudpickle/cloudpickle.py:47: DeprecationWarning: the imp module is deprecated in favour of importlib; see the module's documentation for alternative uses\n",
      "  import imp\n",
      "ALREADY DOWNLOADED FILE\n",
      "ALREADY DOWNLOADED FILE\n",
      "ALREADY DOWNLOADED FILE\n",
      "/Users/kuiqian/Github/shapeology_code/scripts/lib/utils.py:22: YAMLLoadWarning: calling yaml.load() without Loader=... is deprecated, as the default Loader is unsafe. Please read https://msg.pyyaml.org/load for full details.\n",
      "  self.D=yaml.load(open(yamlFile,'r'))\n",
      "run cmd= aws s3 cp s3://mousebrainatlas-data/CSHL_data_processed/MD594/MD594_prep2_lossless_gray/MD594-IHC20-2015.08.26-16.26.10_MD594_1_0058_prep2_lossless_gray.tif /Users/kuiqian/BstemAtlasDataBackup/ucsd_brain/CSHL_data_processed/MD594/MD594_prep2_lossless_gray/MD594-IHC20-2015.08.26-16.26.10_MD594_1_0058_prep2_lossless_gray.tif\n",
      "download: s3://mousebrainatlas-data/CSHL_data_processed/MD594/MD594_prep2_lossless_gray/MD594-IHC20-2015.08.26-16.26.10_MD594_1_0058_prep2_lossless_gray.tif to ../../../BstemAtlasDataBackup/ucsd_brain/CSHL_data_processed/MD594/MD594_prep2_lossless_gray/MD594-IHC20-2015.08.26-16.26.10_MD594_1_0058_prep2_lossless_gray.tif\n",
      "run cmd= aws s3 cp s3://mousebrainatlas-data/CSHL_data_processed/MD594/MD594_prep2_lossless_gray/MD594-IHC16-2015.08.26-16.11.01_MD594_2_0047_prep2_lossless_gray.tif /Users/kuiqian/BstemAtlasDataBackup/ucsd_brain/CSHL_data_processed/MD594/MD594_prep2_lossless_gray/MD594-IHC16-2015.08.26-16.11.01_MD594_2_0047_prep2_lossless_gray.tif\n",
      "download: s3://mousebrainatlas-data/CSHL_data_processed/MD594/MD594_prep2_lossless_gray/MD594-IHC16-2015.08.26-16.11.01_MD594_2_0047_prep2_lossless_gray.tif to ../../../BstemAtlasDataBackup/ucsd_brain/CSHL_data_processed/MD594/MD594_prep2_lossless_gray/MD594-IHC16-2015.08.26-16.11.01_MD594_2_0047_prep2_lossless_gray.tif\n",
      "run cmd= aws s3 cp s3://mousebrainatlas-data/CSHL_data_processed/MD594/MD594_prep2_lossless_gray/MD594-IHC16-2015.08.26-16.11.01_MD594_3_0048_prep2_lossless_gray.tif /Users/kuiqian/BstemAtlasDataBackup/ucsd_brain/CSHL_data_processed/MD594/MD594_prep2_lossless_gray/MD594-IHC16-2015.08.26-16.11.01_MD594_3_0048_prep2_lossless_gray.tif\n",
      "download: s3://mousebrainatlas-data/CSHL_data_processed/MD594/MD594_prep2_lossless_gray/MD594-IHC16-2015.08.26-16.11.01_MD594_3_0048_prep2_lossless_gray.tif to ../../../BstemAtlasDataBackup/ucsd_brain/CSHL_data_processed/MD594/MD594_prep2_lossless_gray/MD594-IHC16-2015.08.26-16.11.01_MD594_3_0048_prep2_lossless_gray.tif\n",
      "run cmd= aws s3 cp s3://mousebrainatlas-data/CSHL_data_processed/MD594/MD594_prep2_lossless_gray/MD594-IHC17-2015.08.26-16.15.19_MD594_1_0049_prep2_lossless_gray.tif /Users/kuiqian/BstemAtlasDataBackup/ucsd_brain/CSHL_data_processed/MD594/MD594_prep2_lossless_gray/MD594-IHC17-2015.08.26-16.15.19_MD594_1_0049_prep2_lossless_gray.tif\n",
      "download: s3://mousebrainatlas-data/CSHL_data_processed/MD594/MD594_prep2_lossless_gray/MD594-IHC17-2015.08.26-16.15.19_MD594_1_0049_prep2_lossless_gray.tif to ../../../BstemAtlasDataBackup/ucsd_brain/CSHL_data_processed/MD594/MD594_prep2_lossless_gray/MD594-IHC17-2015.08.26-16.15.19_MD594_1_0049_prep2_lossless_gray.tif\n",
      "run cmd= aws s3 cp s3://mousebrainatlas-data/CSHL_data_processed/MD594/MD594_prep2_lossless_gray/MD594-IHC17-2015.08.26-16.15.19_MD594_2_0050_prep2_lossless_gray.tif /Users/kuiqian/BstemAtlasDataBackup/ucsd_brain/CSHL_data_processed/MD594/MD594_prep2_lossless_gray/MD594-IHC17-2015.08.26-16.15.19_MD594_2_0050_prep2_lossless_gray.tif\n",
      "download: s3://mousebrainatlas-data/CSHL_data_processed/MD594/MD594_prep2_lossless_gray/MD594-IHC17-2015.08.26-16.15.19_MD594_2_0050_prep2_lossless_gray.tif to ../../../BstemAtlasDataBackup/ucsd_brain/CSHL_data_processed/MD594/MD594_prep2_lossless_gray/MD594-IHC17-2015.08.26-16.15.19_MD594_2_0050_prep2_lossless_gray.tif\n",
      "run cmd= aws s3 cp s3://mousebrainatlas-data/CSHL_data_processed/MD594/MD594_prep2_lossless_gray/MD594-IHC17-2015.08.26-16.15.19_MD594_3_0051_prep2_lossless_gray.tif /Users/kuiqian/BstemAtlasDataBackup/ucsd_brain/CSHL_data_processed/MD594/MD594_prep2_lossless_gray/MD594-IHC17-2015.08.26-16.15.19_MD594_3_0051_prep2_lossless_gray.tif\n",
      "download: s3://mousebrainatlas-data/CSHL_data_processed/MD594/MD594_prep2_lossless_gray/MD594-IHC17-2015.08.26-16.15.19_MD594_3_0051_prep2_lossless_gray.tif to ../../../BstemAtlasDataBackup/ucsd_brain/CSHL_data_processed/MD594/MD594_prep2_lossless_gray/MD594-IHC17-2015.08.26-16.15.19_MD594_3_0051_prep2_lossless_gray.tif\n",
      "run cmd= aws s3 cp s3://mousebrainatlas-data/CSHL_data_processed/MD594/MD594_prep2_lossless_gray/MD594-IHC18-2015.08.26-16.19.43_MD594_1_0052_prep2_lossless_gray.tif /Users/kuiqian/BstemAtlasDataBackup/ucsd_brain/CSHL_data_processed/MD594/MD594_prep2_lossless_gray/MD594-IHC18-2015.08.26-16.19.43_MD594_1_0052_prep2_lossless_gray.tif\n",
      "download: s3://mousebrainatlas-data/CSHL_data_processed/MD594/MD594_prep2_lossless_gray/MD594-IHC18-2015.08.26-16.19.43_MD594_1_0052_prep2_lossless_gray.tif to ../../../BstemAtlasDataBackup/ucsd_brain/CSHL_data_processed/MD594/MD594_prep2_lossless_gray/MD594-IHC18-2015.08.26-16.19.43_MD594_1_0052_prep2_lossless_gray.tif\n",
      "run cmd= aws s3 cp s3://mousebrainatlas-data/CSHL_data_processed/MD594/MD594_prep2_lossless_gray/MD594-IHC18-2015.08.26-16.19.43_MD594_2_0053_prep2_lossless_gray.tif /Users/kuiqian/BstemAtlasDataBackup/ucsd_brain/CSHL_data_processed/MD594/MD594_prep2_lossless_gray/MD594-IHC18-2015.08.26-16.19.43_MD594_2_0053_prep2_lossless_gray.tif\n",
      "download: s3://mousebrainatlas-data/CSHL_data_processed/MD594/MD594_prep2_lossless_gray/MD594-IHC18-2015.08.26-16.19.43_MD594_2_0053_prep2_lossless_gray.tif to ../../../BstemAtlasDataBackup/ucsd_brain/CSHL_data_processed/MD594/MD594_prep2_lossless_gray/MD594-IHC18-2015.08.26-16.19.43_MD594_2_0053_prep2_lossless_gray.tif\n",
      "run cmd= aws s3 cp s3://mousebrainatlas-data/CSHL_data_processed/MD594/MD594_prep2_lossless_gray/MD594-IHC19-2015.08.26-16.22.51_MD594_1_0055_prep2_lossless_gray.tif /Users/kuiqian/BstemAtlasDataBackup/ucsd_brain/CSHL_data_processed/MD594/MD594_prep2_lossless_gray/MD594-IHC19-2015.08.26-16.22.51_MD594_1_0055_prep2_lossless_gray.tif\n",
      "download: s3://mousebrainatlas-data/CSHL_data_processed/MD594/MD594_prep2_lossless_gray/MD594-IHC19-2015.08.26-16.22.51_MD594_1_0055_prep2_lossless_gray.tif to ../../../BstemAtlasDataBackup/ucsd_brain/CSHL_data_processed/MD594/MD594_prep2_lossless_gray/MD594-IHC19-2015.08.26-16.22.51_MD594_1_0055_prep2_lossless_gray.tif\n",
      "run cmd= aws s3 cp s3://mousebrainatlas-data/CSHL_data_processed/MD594/MD594_prep2_lossless_gray/MD594-IHC19-2015.08.26-16.22.51_MD594_2_0056_prep2_lossless_gray.tif /Users/kuiqian/BstemAtlasDataBackup/ucsd_brain/CSHL_data_processed/MD594/MD594_prep2_lossless_gray/MD594-IHC19-2015.08.26-16.22.51_MD594_2_0056_prep2_lossless_gray.tif\n",
      "download: s3://mousebrainatlas-data/CSHL_data_processed/MD594/MD594_prep2_lossless_gray/MD594-IHC19-2015.08.26-16.22.51_MD594_2_0056_prep2_lossless_gray.tif to ../../../BstemAtlasDataBackup/ucsd_brain/CSHL_data_processed/MD594/MD594_prep2_lossless_gray/MD594-IHC19-2015.08.26-16.22.51_MD594_2_0056_prep2_lossless_gray.tif\n",
      "ALREADY DOWNLOADED FILE\n",
      "run cmd= aws s3 cp s3://mousebrainatlas-data/CSHL_data_processed/MD594/MD594_prep2_lossless_gray/MD594-IHC20-2015.08.26-16.26.10_MD594_2_0059_prep2_lossless_gray.tif /Users/kuiqian/BstemAtlasDataBackup/ucsd_brain/CSHL_data_processed/MD594/MD594_prep2_lossless_gray/MD594-IHC20-2015.08.26-16.26.10_MD594_2_0059_prep2_lossless_gray.tif\n",
      "download: s3://mousebrainatlas-data/CSHL_data_processed/MD594/MD594_prep2_lossless_gray/MD594-IHC20-2015.08.26-16.26.10_MD594_2_0059_prep2_lossless_gray.tif to ../../../BstemAtlasDataBackup/ucsd_brain/CSHL_data_processed/MD594/MD594_prep2_lossless_gray/MD594-IHC20-2015.08.26-16.26.10_MD594_2_0059_prep2_lossless_gray.tif\n",
      "run cmd= aws s3 cp s3://mousebrainatlas-data/CSHL_data_processed/MD594/MD594_prep2_lossless_gray/MD594-IHC21-2015.08.26-16.29.30_MD594_1_0061_prep2_lossless_gray.tif /Users/kuiqian/BstemAtlasDataBackup/ucsd_brain/CSHL_data_processed/MD594/MD594_prep2_lossless_gray/MD594-IHC21-2015.08.26-16.29.30_MD594_1_0061_prep2_lossless_gray.tif\n"
     ]
    },
    {
     "name": "stdout",
     "output_type": "stream",
     "text": [
      "download: s3://mousebrainatlas-data/CSHL_data_processed/MD594/MD594_prep2_lossless_gray/MD594-IHC21-2015.08.26-16.29.30_MD594_1_0061_prep2_lossless_gray.tif to ../../../BstemAtlasDataBackup/ucsd_brain/CSHL_data_processed/MD594/MD594_prep2_lossless_gray/MD594-IHC21-2015.08.26-16.29.30_MD594_1_0061_prep2_lossless_gray.tif\n",
      "run cmd= aws s3 cp s3://mousebrainatlas-data/CSHL_data_processed/MD594/MD594_prep2_lossless_gray/MD594-IHC21-2015.08.26-16.29.30_MD594_2_0062_prep2_lossless_gray.tif /Users/kuiqian/BstemAtlasDataBackup/ucsd_brain/CSHL_data_processed/MD594/MD594_prep2_lossless_gray/MD594-IHC21-2015.08.26-16.29.30_MD594_2_0062_prep2_lossless_gray.tif\n",
      "download: s3://mousebrainatlas-data/CSHL_data_processed/MD594/MD594_prep2_lossless_gray/MD594-IHC21-2015.08.26-16.29.30_MD594_2_0062_prep2_lossless_gray.tif to ../../../BstemAtlasDataBackup/ucsd_brain/CSHL_data_processed/MD594/MD594_prep2_lossless_gray/MD594-IHC21-2015.08.26-16.29.30_MD594_2_0062_prep2_lossless_gray.tif\n",
      "run cmd= aws s3 cp s3://mousebrainatlas-data/CSHL_data_processed/MD594/MD594_prep2_lossless_gray/MD594-IHC22-2015.08.26-16.32.52_MD594_1_0064_prep2_lossless_gray.tif /Users/kuiqian/BstemAtlasDataBackup/ucsd_brain/CSHL_data_processed/MD594/MD594_prep2_lossless_gray/MD594-IHC22-2015.08.26-16.32.52_MD594_1_0064_prep2_lossless_gray.tif\n",
      "download: s3://mousebrainatlas-data/CSHL_data_processed/MD594/MD594_prep2_lossless_gray/MD594-IHC22-2015.08.26-16.32.52_MD594_1_0064_prep2_lossless_gray.tif to ../../../BstemAtlasDataBackup/ucsd_brain/CSHL_data_processed/MD594/MD594_prep2_lossless_gray/MD594-IHC22-2015.08.26-16.32.52_MD594_1_0064_prep2_lossless_gray.tif\n",
      "run cmd= aws s3 cp s3://mousebrainatlas-data/CSHL_data_processed/MD594/MD594_prep2_lossless_gray/MD594-IHC22-2015.08.26-16.32.52_MD594_2_0065_prep2_lossless_gray.tif /Users/kuiqian/BstemAtlasDataBackup/ucsd_brain/CSHL_data_processed/MD594/MD594_prep2_lossless_gray/MD594-IHC22-2015.08.26-16.32.52_MD594_2_0065_prep2_lossless_gray.tif\n",
      "download: s3://mousebrainatlas-data/CSHL_data_processed/MD594/MD594_prep2_lossless_gray/MD594-IHC22-2015.08.26-16.32.52_MD594_2_0065_prep2_lossless_gray.tif to ../../../BstemAtlasDataBackup/ucsd_brain/CSHL_data_processed/MD594/MD594_prep2_lossless_gray/MD594-IHC22-2015.08.26-16.32.52_MD594_2_0065_prep2_lossless_gray.tif\n",
      "run cmd= aws s3 cp s3://mousebrainatlas-data/CSHL_data_processed/MD594/MD594_prep2_lossless_gray/MD594-IHC23-2015.08.26-16.36.13_MD594_1_0067_prep2_lossless_gray.tif /Users/kuiqian/BstemAtlasDataBackup/ucsd_brain/CSHL_data_processed/MD594/MD594_prep2_lossless_gray/MD594-IHC23-2015.08.26-16.36.13_MD594_1_0067_prep2_lossless_gray.tif\n",
      "download: s3://mousebrainatlas-data/CSHL_data_processed/MD594/MD594_prep2_lossless_gray/MD594-IHC23-2015.08.26-16.36.13_MD594_1_0067_prep2_lossless_gray.tif to ../../../BstemAtlasDataBackup/ucsd_brain/CSHL_data_processed/MD594/MD594_prep2_lossless_gray/MD594-IHC23-2015.08.26-16.36.13_MD594_1_0067_prep2_lossless_gray.tif\n",
      "run cmd= aws s3 cp s3://mousebrainatlas-data/CSHL_data_processed/MD594/MD594_prep2_lossless_gray/MD594-IHC23-2015.08.26-16.36.13_MD594_2_0068_prep2_lossless_gray.tif /Users/kuiqian/BstemAtlasDataBackup/ucsd_brain/CSHL_data_processed/MD594/MD594_prep2_lossless_gray/MD594-IHC23-2015.08.26-16.36.13_MD594_2_0068_prep2_lossless_gray.tif\n",
      "download: s3://mousebrainatlas-data/CSHL_data_processed/MD594/MD594_prep2_lossless_gray/MD594-IHC23-2015.08.26-16.36.13_MD594_2_0068_prep2_lossless_gray.tif to ../../../BstemAtlasDataBackup/ucsd_brain/CSHL_data_processed/MD594/MD594_prep2_lossless_gray/MD594-IHC23-2015.08.26-16.36.13_MD594_2_0068_prep2_lossless_gray.tif\n",
      "run cmd= aws s3 cp s3://mousebrainatlas-data/CSHL_data_processed/MD594/MD594_prep2_lossless_gray/MD594-IHC24-2015.08.26-16.39.39_MD594_1_0070_prep2_lossless_gray.tif /Users/kuiqian/BstemAtlasDataBackup/ucsd_brain/CSHL_data_processed/MD594/MD594_prep2_lossless_gray/MD594-IHC24-2015.08.26-16.39.39_MD594_1_0070_prep2_lossless_gray.tif\n",
      "download: s3://mousebrainatlas-data/CSHL_data_processed/MD594/MD594_prep2_lossless_gray/MD594-IHC24-2015.08.26-16.39.39_MD594_1_0070_prep2_lossless_gray.tif to ../../../BstemAtlasDataBackup/ucsd_brain/CSHL_data_processed/MD594/MD594_prep2_lossless_gray/MD594-IHC24-2015.08.26-16.39.39_MD594_1_0070_prep2_lossless_gray.tif\n",
      "run cmd= aws s3 cp s3://mousebrainatlas-data/CSHL_data_processed/MD594/MD594_prep2_lossless_gray/MD594-IHC24-2015.08.26-16.39.39_MD594_2_0071_prep2_lossless_gray.tif /Users/kuiqian/BstemAtlasDataBackup/ucsd_brain/CSHL_data_processed/MD594/MD594_prep2_lossless_gray/MD594-IHC24-2015.08.26-16.39.39_MD594_2_0071_prep2_lossless_gray.tif\n",
      "download: s3://mousebrainatlas-data/CSHL_data_processed/MD594/MD594_prep2_lossless_gray/MD594-IHC24-2015.08.26-16.39.39_MD594_2_0071_prep2_lossless_gray.tif to ../../../BstemAtlasDataBackup/ucsd_brain/CSHL_data_processed/MD594/MD594_prep2_lossless_gray/MD594-IHC24-2015.08.26-16.39.39_MD594_2_0071_prep2_lossless_gray.tif\n",
      "run cmd= aws s3 cp s3://mousebrainatlas-data/CSHL_data_processed/MD594/MD594_prep2_lossless_gray/MD594-IHC25-2015.08.26-16.43.04_MD594_1_0073_prep2_lossless_gray.tif /Users/kuiqian/BstemAtlasDataBackup/ucsd_brain/CSHL_data_processed/MD594/MD594_prep2_lossless_gray/MD594-IHC25-2015.08.26-16.43.04_MD594_1_0073_prep2_lossless_gray.tif\n",
      "download: s3://mousebrainatlas-data/CSHL_data_processed/MD594/MD594_prep2_lossless_gray/MD594-IHC25-2015.08.26-16.43.04_MD594_1_0073_prep2_lossless_gray.tif to ../../../BstemAtlasDataBackup/ucsd_brain/CSHL_data_processed/MD594/MD594_prep2_lossless_gray/MD594-IHC25-2015.08.26-16.43.04_MD594_1_0073_prep2_lossless_gray.tif\n",
      "112 DC 1 / 3\n",
      "ALREADY DOWNLOADED FILE\n",
      "ALREADY DOWNLOADED FILE\n",
      "ALREADY DOWNLOADED FILE\n",
      "ALREADY DOWNLOADED FILE\n",
      "ALREADY DOWNLOADED FILE\n",
      "ALREADY DOWNLOADED FILE\n",
      "ALREADY DOWNLOADED FILE\n",
      "ALREADY DOWNLOADED FILE\n",
      "ALREADY DOWNLOADED FILE\n",
      "ALREADY DOWNLOADED FILE\n",
      "ALREADY DOWNLOADED FILE\n",
      "ALREADY DOWNLOADED FILE\n",
      "ALREADY DOWNLOADED FILE\n",
      "ALREADY DOWNLOADED FILE\n",
      "ALREADY DOWNLOADED FILE\n",
      "ALREADY DOWNLOADED FILE\n",
      "ALREADY DOWNLOADED FILE\n",
      "ALREADY DOWNLOADED FILE\n",
      "ALREADY DOWNLOADED FILE\n",
      "ALREADY DOWNLOADED FILE\n",
      "112 VCP 2 / 3\n",
      "ALREADY DOWNLOADED FILE\n",
      "ALREADY DOWNLOADED FILE\n",
      "ALREADY DOWNLOADED FILE\n",
      "ALREADY DOWNLOADED FILE\n",
      "ALREADY DOWNLOADED FILE\n",
      "ALREADY DOWNLOADED FILE\n",
      "ALREADY DOWNLOADED FILE\n",
      "ALREADY DOWNLOADED FILE\n",
      "ALREADY DOWNLOADED FILE\n",
      "ALREADY DOWNLOADED FILE\n",
      "ALREADY DOWNLOADED FILE\n",
      "ALREADY DOWNLOADED FILE\n",
      "ALREADY DOWNLOADED FILE\n",
      "ALREADY DOWNLOADED FILE\n",
      "ALREADY DOWNLOADED FILE\n",
      "ALREADY DOWNLOADED FILE\n",
      "ALREADY DOWNLOADED FILE\n",
      "ALREADY DOWNLOADED FILE\n",
      "ALREADY DOWNLOADED FILE\n",
      "ALREADY DOWNLOADED FILE\n",
      "112 VCA 3 / 3\n",
      "run cmd= aws s3 cp /Users/kuiqian/BstemAtlasDataBackup/ucsd_brain/CSHL_shift/MD594/112.pkl s3://mousebrainatlas-data/CSHL_shift/MD594/112.pkl\n",
      "upload: ../../../BstemAtlasDataBackup/ucsd_brain/CSHL_shift/MD594/112.pkl to s3://mousebrainatlas-data/CSHL_shift/MD594/112.pkl\n",
      "Traceback (most recent call last):\n",
      "  File \"/Users/kuiqian/Github/shapeology_code/scripts//Shape_shift.py\", line 388, in <module>\n",
      "    contours_grouped, raw_images_root, section_to_filename, all_structures, thresholds, valid_sections)\n",
      "  File \"/Users/kuiqian/Github/shapeology_code/scripts//Shape_shift.py\", line 325, in image_generator\n",
      "    shutil.rmtree(raw_images_root)\n",
      "  File \"/Users/kuiqian/Github/venv/shapeology_venv/lib/python3.7/shutil.py\", line 482, in rmtree\n",
      "    onerror(os.lstat, path, sys.exc_info())\n",
      "  File \"/Users/kuiqian/Github/venv/shapeology_venv/lib/python3.7/shutil.py\", line 480, in rmtree\n",
      "    orig_st = os.lstat(path)\n",
      "FileNotFoundError: [Errno 2] No such file or directory: 'CSHL_data_processed/MD594/MD594_prep2_lossless_gray/'\n"
     ]
    }
   ],
   "source": [
    "script_dir = os.environ['REPO_DIR']\n",
    "! python $script_dir/Shape_shift.py 'MD594' 112 'shape_params.yaml'"
   ]
  },
  {
   "cell_type": "code",
   "execution_count": 41,
   "metadata": {},
   "outputs": [],
   "source": [
    "contours_struc = contours.groupby('name')"
   ]
  },
  {
   "cell_type": "code",
   "execution_count": 57,
   "metadata": {},
   "outputs": [
    {
     "data": {
      "text/plain": [
       "124"
      ]
     },
     "execution_count": 57,
     "metadata": {},
     "output_type": "execute_result"
    }
   ],
   "source": [
    "seq = sort(contours_struc.get_group('VCA')['section'].unique())\n",
    "seq[np.argmax(seq[2:]-seq[:-2])+1]"
   ]
  },
  {
   "cell_type": "code",
   "execution_count": 81,
   "metadata": {},
   "outputs": [],
   "source": [
    "current_structures = []\n",
    "for structure in paired_structures:\n",
    "    seq = sort(contours_struc.get_group(structure)['section'].unique())\n",
    "    if seq[np.argmax(seq[2:]-seq[:-2])+1]<150:\n",
    "        current_structures.append(structure)\n",
    "for structure in singular_structures:\n",
    "    seq = sort(contours_struc.get_group(structure)['section'].unique())\n",
    "    if max(seq)<146:\n",
    "        current_structures.append(structure)"
   ]
  },
  {
   "cell_type": "code",
   "execution_count": 82,
   "metadata": {},
   "outputs": [
    {
     "data": {
      "text/plain": [
       "['PBG', 'VCA', 'VCP']"
      ]
     },
     "execution_count": 82,
     "metadata": {},
     "output_type": "execute_result"
    }
   ],
   "source": [
    "current_structures"
   ]
  },
  {
   "cell_type": "code",
   "execution_count": 88,
   "metadata": {},
   "outputs": [
    {
     "data": {
      "image/png": "[encoded data removed]",
      "text/plain": [
       "<Figure size 720x1080 with 6 Axes>"
      ]
     },
     "metadata": {
      "needs_background": "light"
     },
     "output_type": "display_data"
    }
   ],
   "source": [
    "i = 0\n",
    "figure(figsize=(10,15))\n",
    "for structure in current_structures:\n",
    "    seq = sort(contours_struc.get_group(structure)['section'].unique())\n",
    "    sections = seq[:np.argmax(seq[2:]-seq[:-2])+2]\n",
    "    for state in ['positive','negative']:\n",
    "        x_shift = []\n",
    "        y_shift = []\n",
    "        for section in sections:\n",
    "            filename = savepath + str(section)+ '.pkl'\n",
    "            #setup_download_from_s3(filename, recursive=False)\n",
    "            scores = pickle.load(open(os.environ['ROOT_DIR']+filename,'rb'))\n",
    "            x_score=[x[0] for x in scores[structure][str(section)+'_'+state]['x']]\n",
    "            x_shift.append(x_score)\n",
    "            y_score=[x[0] for x in scores[structure][str(section)+'_'+state]['y']]\n",
    "            y_shift.append(y_score)\n",
    "        x_shift=np.array(x_shift)\n",
    "        x_final = x_shift.sum(axis=0)\n",
    "        y_shift=np.array(y_shift)\n",
    "        y_final = y_shift.sum(axis=0)\n",
    "        #figure()\n",
    "        i +=1\n",
    "        subplot(3,2,i)\n",
    "        plot(range(-10,11), x_final, label='x')\n",
    "        plot(range(-10,11), y_final, label='y')\n",
    "        legend()\n",
    "        grid(True)\n",
    "        title(structure+' '+state)"
   ]
  },
  {
   "cell_type": "code",
   "execution_count": null,
   "metadata": {},
   "outputs": [],
   "source": []
  }
 ],
 "metadata": {
  "kernelspec": {
   "display_name": "shapeology",
   "language": "python",
   "name": "shapeology_code"
  },
  "language_info": {
   "codemirror_mode": {
    "name": "ipython",
    "version": 3
   },
   "file_extension": ".py",
   "mimetype": "text/x-python",
   "name": "python",
   "nbconvert_exporter": "python",
   "pygments_lexer": "ipython3",
   "version": "3.7.3"
  }
 },
 "nbformat": 4,
 "nbformat_minor": 2
}
