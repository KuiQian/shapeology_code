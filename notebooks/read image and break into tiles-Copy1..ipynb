{
 "cells": [
  {
   "cell_type": "code",
   "execution_count": 9,
   "metadata": {
    "ExecuteTime": {
     "end_time": "2018-08-30T03:29:26.624416Z",
     "start_time": "2018-08-30T03:29:26.574401Z"
    }
   },
   "outputs": [
    {
     "name": "stdout",
     "output_type": "stream",
     "text": [
      "Writing tile.py\n"
     ]
    }
   ],
   "source": [
    "%%writefile tile.py\n",
    "import re\n",
    "import pickle\n",
    "import glymur\n",
    "from glob import glob\n",
    "from time import time\n",
    "import numpy as np\n",
    "from os import mkdir\n",
    "\n",
    "def tile_image(fullres,tile_path,stem):\n",
    "\n",
    "    x,y,z=fullres.shape\n",
    "\n",
    "    nx=int(np.round(x/1000))\n",
    "    ny=int(np.round(y/1000))\n",
    "    dx=int(np.floor(x/nx))\n",
    "    dy=int(np.floor(y/ny))\n",
    "\n",
    "    i=0\n",
    "    for ulx in range(0,x-dx,dx):\n",
    "        for uly in range(0,y-dy,dy):\n",
    "            #print('\\r',ulx,uly,end='')\n",
    "            i+=1\n",
    "            window=fullres[ulx:ulx+dx,uly:uly+dy]\n",
    "            pickle.dump(window,open('%s/%s_%d_%d.pkl'%(tile_path,stem,ulx,uly),'bw'),protocol=4)\n",
    "    print('x=%6d,y=%6d nx=%3d,ny=%3d,tile no=%d'%(x,y,nx,ny,i))\n",
    "\n",
    "path='/home/ubuntu/workspace/data/'\n",
    "tile_path=path+'tiles/'\n",
    "try:\n",
    "    mkdir(tile_path)\n",
    "except:\n",
    "    pass\n",
    "filenames=glob(path+'*_lossless.jp2')\n",
    "for filename in filenames:               \n",
    "    pat=re.compile(r'_(\\w{2}\\d{3}_\\d_\\d{4})_lossless.jp2')\n",
    "    m=pat.search(filename)\n",
    "    if m:\n",
    "        stem=m.group(1)\n",
    "        print(stem)\n",
    "    else:\n",
    "        print('cant parse\\n',filename)\n",
    "        continue\n",
    "    print('starting to read %s'%filename)\n",
    "    t0=time()\n",
    "    jp2 = glymur.Jp2k(filename)\n",
    "    fullres = jp2[:]\n",
    "    \n",
    "\n",
    "t1=time()\n",
    "print('finished reading %s (%5.1f sec)'%(filename,time()-t0))\n",
    "print()\n",
    "tile_image(fullres,tile_path,stem)\n",
    "print('finished tiling (%5.1f sec)'%(time()-t1))"
   ]
  },
  {
   "cell_type": "code",
   "execution_count": 7,
   "metadata": {
    "ExecuteTime": {
     "end_time": "2018-08-30T02:16:56.139671Z",
     "start_time": "2018-08-30T02:16:55.753591Z"
    },
    "scrolled": false
   },
   "outputs": [
    {
     "name": "stdout",
     "output_type": "stream",
     "text": [
      "total 4227712\r\n",
      "-rw-r--r--@ 1 yoavfreund  staff   2.0G Jul  1 17:18 MD657-F23-2017.02.17-23.13.17_MD657_2_0068_lossless.jp2\r\n"
     ]
    }
   ],
   "source": [
    "!rm -rf ../../data/tiles/\n",
    "!ls -lrth ../../data/"
   ]
  },
  {
   "cell_type": "code",
   "execution_count": null,
   "metadata": {},
   "outputs": [],
   "source": []
  }
 ],
 "metadata": {
  "hide_input": false,
  "kernelspec": {
   "display_name": "Python 3",
   "language": "python",
   "name": "python3"
  },
  "language_info": {
   "codemirror_mode": {
    "name": "ipython",
    "version": 3
   },
   "file_extension": ".py",
   "mimetype": "text/x-python",
   "name": "python",
   "nbconvert_exporter": "python",
   "pygments_lexer": "ipython3",
   "version": "3.6.4"
  },
  "toc": {
   "base_numbering": 1,
   "nav_menu": {},
   "number_sections": true,
   "sideBar": true,
   "skip_h1_title": false,
   "title_cell": "Table of Contents",
   "title_sidebar": "Contents",
   "toc_cell": false,
   "toc_position": {},
   "toc_section_display": true,
   "toc_window_display": false
  }
 },
 "nbformat": 4,
 "nbformat_minor": 2
}
