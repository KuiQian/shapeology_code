{
 "cells": [
  {
   "cell_type": "code",
   "execution_count": 1,
   "metadata": {
    "ExecuteTime": {
     "end_time": "2018-12-18T21:17:52.316703Z",
     "start_time": "2018-12-18T21:17:52.310903Z"
    }
   },
   "outputs": [
    {
     "name": "stdout",
     "output_type": "stream",
     "text": [
      "/Users/yoavfreund/projects/shapeology/shapeology_code/scripts/lib\n"
     ]
    }
   ],
   "source": [
    "%cd ../scripts/lib/"
   ]
  },
  {
   "cell_type": "code",
   "execution_count": 2,
   "metadata": {
    "ExecuteTime": {
     "end_time": "2018-12-18T21:17:54.740920Z",
     "start_time": "2018-12-18T21:17:53.548584Z"
    }
   },
   "outputs": [],
   "source": [
    "import shape_utils"
   ]
  },
  {
   "cell_type": "code",
   "execution_count": 3,
   "metadata": {
    "ExecuteTime": {
     "end_time": "2018-12-18T21:17:57.784229Z",
     "start_time": "2018-12-18T21:17:57.779044Z"
    }
   },
   "outputs": [
    {
     "name": "stdout",
     "output_type": "stream",
     "text": [
      "/Users/yoavfreund/projects/shapeology/shapeology_code/notebooks\n"
     ]
    }
   ],
   "source": [
    "%cd ../../notebooks/"
   ]
  },
  {
   "cell_type": "code",
   "execution_count": 7,
   "metadata": {
    "ExecuteTime": {
     "end_time": "2018-12-18T21:33:29.229443Z",
     "start_time": "2018-12-18T21:33:29.095365Z"
    }
   },
   "outputs": [
    {
     "name": "stdout",
     "output_type": "stream",
     "text": [
      "-rw-r--r--  1 yoavfreund  staff    815234 Dec 15 10:24 ../../data/tiles/tiles_461.size=91,width=30,pecent=0.01_extracted.pkl\r\n",
      "-rw-r--r--  1 yoavfreund  staff    815234 Dec 15 10:43 ../../data/tiles/tiles_461._extracted.pkl\r\n",
      "-rw-r--r--  1 yoavfreund  staff  19972357 Dec 18 12:59 ../../data/tiles/tiles_461.thr_extracted.pkl\r\n"
     ]
    }
   ],
   "source": [
    "!ls -lrt ../../data/tiles/*.pkl | tail -3"
   ]
  },
  {
   "cell_type": "code",
   "execution_count": 17,
   "metadata": {
    "ExecuteTime": {
     "end_time": "2018-12-18T22:52:23.124993Z",
     "start_time": "2018-12-18T22:52:23.102627Z"
    }
   },
   "outputs": [
    {
     "name": "stdout",
     "output_type": "stream",
     "text": [
      "Populating the interactive namespace from numpy and matplotlib\n"
     ]
    }
   ],
   "source": [
    "import pickle as pk\n",
    "%pylab inline\n",
    "\n",
    "D=pk.load(open('../../data/tiles/tiles_461.thr_extracted.pkl','rb'))"
   ]
  },
  {
   "cell_type": "code",
   "execution_count": 18,
   "metadata": {
    "ExecuteTime": {
     "end_time": "2018-12-18T22:52:25.004001Z",
     "start_time": "2018-12-18T22:52:24.997716Z"
    }
   },
   "outputs": [
    {
     "data": {
      "text/plain": [
       "{'left': 622,\n",
       " 'top': 3,\n",
       " 'width': 7,\n",
       " 'height': 3,\n",
       " 'area': 16,\n",
       " 'normalized_patch': array([[0.        , 0.        , 0.        , 0.        , 0.        ,\n",
       "         0.        , 0.        , 0.        , 0.        , 0.        ,\n",
       "         0.        , 0.        , 0.        ],\n",
       "        [0.        , 0.        , 0.        , 0.        , 0.        ,\n",
       "         0.        , 0.        , 0.        , 0.        , 0.        ,\n",
       "         0.        , 0.        , 0.        ],\n",
       "        [0.        , 0.        , 0.        , 0.        , 0.        ,\n",
       "         0.        , 0.        , 0.        , 0.        , 0.        ,\n",
       "         0.        , 0.        , 0.        ],\n",
       "        [0.        , 0.        , 0.        , 0.        , 0.        ,\n",
       "         0.        , 0.02815497, 0.        , 0.        , 0.        ,\n",
       "         0.        , 0.        , 0.        ],\n",
       "        [0.        , 0.        , 0.        , 0.        , 0.08001939,\n",
       "         0.61200017, 1.24993256, 0.53346262, 0.        , 0.        ,\n",
       "         0.        , 0.        , 0.        ],\n",
       "        [0.        , 0.        , 0.        , 0.        , 0.45937059,\n",
       "         3.80388485, 6.54380814, 3.87945872, 0.        , 0.        ,\n",
       "         0.        , 0.        , 0.        ],\n",
       "        [0.        , 0.        , 0.        , 0.        , 0.11002667,\n",
       "         3.46157967, 4.93156555, 3.31932297, 0.08520584, 0.        ,\n",
       "         0.        , 0.        , 0.        ],\n",
       "        [0.        , 0.        , 0.        , 0.        , 0.        ,\n",
       "         2.42725492, 4.31511986, 0.66682827, 0.        , 0.        ,\n",
       "         0.        , 0.        , 0.        ],\n",
       "        [0.        , 0.        , 0.        , 0.        , 0.        ,\n",
       "         1.27141924, 2.12384806, 0.64015514, 0.        , 0.        ,\n",
       "         0.        , 0.        , 0.        ],\n",
       "        [0.        , 0.        , 0.        , 0.        , 0.        ,\n",
       "         1.28105121, 2.26647521, 0.8813247 , 0.        , 0.        ,\n",
       "         0.        , 0.        , 0.        ],\n",
       "        [0.        , 0.        , 0.        , 0.        , 0.        ,\n",
       "         0.16670707, 0.58792026, 0.54791057, 0.        , 0.        ,\n",
       "         0.        , 0.        , 0.        ],\n",
       "        [0.        , 0.        , 0.        , 0.        , 0.        ,\n",
       "         0.        , 0.01222519, 0.        , 0.        , 0.        ,\n",
       "         0.        , 0.        , 0.        ],\n",
       "        [0.        , 0.        , 0.        , 0.        , 0.        ,\n",
       "         0.        , 0.        , 0.        , 0.        , 0.        ,\n",
       "         0.        , 0.        , 0.        ]]),\n",
       " 'rotation': 82.13577818231894,\n",
       " 'rotation_confidence': 331.78748133233336,\n",
       " 'horiz_std': 0.7514642783471862,\n",
       " 'vert_std': 1.5059432136940931,\n",
       " 'mean': 0.7159763313609467,\n",
       " 'std': 2.636079732191229}"
      ]
     },
     "execution_count": 18,
     "metadata": {},
     "output_type": "execute_result"
    }
   ],
   "source": [
    "D[0]"
   ]
  },
  {
   "cell_type": "code",
   "execution_count": null,
   "metadata": {},
   "outputs": [],
   "source": []
  }
 ],
 "metadata": {
  "hide_input": false,
  "kernelspec": {
   "display_name": "Python 3",
   "language": "python",
   "name": "python3"
  },
  "language_info": {
   "codemirror_mode": {
    "name": "ipython",
    "version": 3
   },
   "file_extension": ".py",
   "mimetype": "text/x-python",
   "name": "python",
   "nbconvert_exporter": "python",
   "pygments_lexer": "ipython3",
   "version": "3.7.0"
  },
  "toc": {
   "base_numbering": 1,
   "nav_menu": {},
   "number_sections": true,
   "sideBar": true,
   "skip_h1_title": false,
   "title_cell": "Table of Contents",
   "title_sidebar": "Contents",
   "toc_cell": false,
   "toc_position": {},
   "toc_section_display": true,
   "toc_window_display": false
  }
 },
 "nbformat": 4,
 "nbformat_minor": 2
}
