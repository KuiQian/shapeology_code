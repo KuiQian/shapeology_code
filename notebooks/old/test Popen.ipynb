{
 "cells": [
  {
   "cell_type": "code",
   "execution_count": 70,
   "metadata": {
    "ExecuteTime": {
     "end_time": "2018-09-13T01:13:19.293192Z",
     "start_time": "2018-09-13T01:13:19.290372Z"
    }
   },
   "outputs": [],
   "source": [
    "from subprocess import Popen"
   ]
  },
  {
   "cell_type": "code",
   "execution_count": 75,
   "metadata": {
    "ExecuteTime": {
     "end_time": "2018-09-13T01:14:17.733836Z",
     "start_time": "2018-09-13T01:14:17.592028Z"
    }
   },
   "outputs": [
    {
     "name": "stdout",
     "output_type": "stream",
     "text": [
      "-rw-r--r--  1 yoavfreund  staff  60 Sep  7 19:18 log\r\n"
     ]
    }
   ],
   "source": [
    "p=Popen(['ls','-l','-rt','log'],stdout=open('/Users/yoavfreund/projects/shapeology/shapeology_code/notebooks/echo.log','w'))\n",
    "\n",
    "!cat echo.log"
   ]
  },
  {
   "cell_type": "code",
   "execution_count": 79,
   "metadata": {
    "ExecuteTime": {
     "end_time": "2018-09-13T01:16:55.707036Z",
     "start_time": "2018-09-13T01:16:55.704487Z"
    }
   },
   "outputs": [],
   "source": [
    "stack='s3://mousebraindata-open/MD657'\n",
    "local_data='/dev/shm/data'\n",
    "exec_dir='/home/ubuntu/shapeology_code/scripts'\n",
    "from time import time"
   ]
  },
  {
   "cell_type": "code",
   "execution_count": 82,
   "metadata": {
    "ExecuteTime": {
     "end_time": "2018-09-13T01:17:33.218692Z",
     "start_time": "2018-09-13T01:17:33.215694Z"
    }
   },
   "outputs": [
    {
     "name": "stdout",
     "output_type": "stream",
     "text": [
      "['/home/ubuntu/shapeology_code/scripts/Controller.py', 's3://mousebraindata-open/MD657', '/dev/shm/data'] >Controller-1536801453.log\n"
     ]
    }
   ],
   "source": [
    "command='{0}/Controller.py {1} {2}'\\\n",
    "        .format(exec_dir,stack,local_data)\n",
    "output='>Controller-%d.log'%int(time())\n",
    "print(command.split(),output)"
   ]
  },
  {
   "cell_type": "code",
   "execution_count": 12,
   "metadata": {
    "ExecuteTime": {
     "end_time": "2018-09-13T00:50:24.046708Z",
     "start_time": "2018-09-13T00:50:23.917794Z"
    }
   },
   "outputs": [
    {
     "name": "stdout",
     "output_type": "stream",
     "text": [
      "/bin/bash\r\n"
     ]
    }
   ],
   "source": [
    "!which bash"
   ]
  },
  {
   "cell_type": "code",
   "execution_count": null,
   "metadata": {},
   "outputs": [],
   "source": []
  },
  {
   "cell_type": "code",
   "execution_count": 20,
   "metadata": {
    "ExecuteTime": {
     "end_time": "2018-09-13T00:55:27.470523Z",
     "start_time": "2018-09-13T00:55:27.346353Z"
    }
   },
   "outputs": [
    {
     "name": "stdout",
     "output_type": "stream",
     "text": [
      "4\r\n"
     ]
    }
   ],
   "source": [
    "!echo 4"
   ]
  },
  {
   "cell_type": "code",
   "execution_count": null,
   "metadata": {},
   "outputs": [],
   "source": []
  }
 ],
 "metadata": {
  "hide_input": false,
  "kernelspec": {
   "display_name": "Python 3",
   "language": "python",
   "name": "python3"
  },
  "language_info": {
   "codemirror_mode": {
    "name": "ipython",
    "version": 3
   },
   "file_extension": ".py",
   "mimetype": "text/x-python",
   "name": "python",
   "nbconvert_exporter": "python",
   "pygments_lexer": "ipython3",
   "version": "3.6.4"
  },
  "toc": {
   "base_numbering": 1,
   "nav_menu": {},
   "number_sections": true,
   "sideBar": true,
   "skip_h1_title": false,
   "title_cell": "Table of Contents",
   "title_sidebar": "Contents",
   "toc_cell": false,
   "toc_position": {},
   "toc_section_display": true,
   "toc_window_display": false
  }
 },
 "nbformat": 4,
 "nbformat_minor": 2
}
