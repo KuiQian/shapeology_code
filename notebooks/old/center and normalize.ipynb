{
 "cells": [
  {
   "cell_type": "code",
   "execution_count": 1,
   "metadata": {
    "ExecuteTime": {
     "end_time": "2018-12-15T19:09:43.051437Z",
     "start_time": "2018-12-15T19:09:42.806280Z"
    }
   },
   "outputs": [
    {
     "name": "stdout",
     "output_type": "stream",
     "text": [
      "Populating the interactive namespace from numpy and matplotlib\n"
     ]
    }
   ],
   "source": [
    "%pylab inline"
   ]
  },
  {
   "cell_type": "code",
   "execution_count": 2,
   "metadata": {
    "ExecuteTime": {
     "end_time": "2018-12-15T19:09:43.768093Z",
     "start_time": "2018-12-15T19:09:43.765432Z"
    }
   },
   "outputs": [],
   "source": [
    "patchesfile='../../data/tiles/tiles_461.thr_extracted.pkl'"
   ]
  },
  {
   "cell_type": "code",
   "execution_count": 3,
   "metadata": {
    "ExecuteTime": {
     "end_time": "2018-12-15T19:09:45.652731Z",
     "start_time": "2018-12-15T19:09:44.729099Z"
    }
   },
   "outputs": [],
   "source": [
    "# %load ../scripts/lib/shape_utils.py\n",
    "\n",
    "import psutil\n",
    "from os import system\n",
    "from subprocess import Popen,PIPE\n",
    "from time import time\n",
    "\n",
    "import numpy as np\n",
    "from numpy import sqrt, mean\n",
    "from subprocess import Popen,PIPE\n",
    "from os import system\n",
    "from os.path import isfile,getmtime\n",
    "\n",
    "import cv2\n",
    "\n",
    "import matplotlib.pyplot as plt\n",
    "from astropy.convolution import Gaussian2DKernel,convolve\n",
    "\n",
    "import yaml\n",
    "\n",
    "class configuration():\n",
    "    def __init__(self,yamlFile):\n",
    "        self.D=yaml.load(open(yamlFile,'r'))\n",
    "\n",
    "    def getParams(self):\n",
    "        return self.D\n",
    "\n",
    "def run(command):\n",
    "    print('cmd=',command)\n",
    "    system(command)\n",
    "    \n",
    "def runPipe(command):\n",
    "    print('runPipe cmd=',command)\n",
    "    p=Popen(command.split(),stdout=PIPE,stderr=PIPE)\n",
    "    L=p.communicate()\n",
    "    stdout=L[0].decode(\"utf-8\").split('\\n')\n",
    "    stderr=L[1].decode(\"utf-8\").split('\\n')\n",
    "    return stdout,stderr\n",
    "\n",
    "time_log=[]\n",
    "def clock(message):\n",
    "    print('%8.1f \\t%s'%(time(),message))\n",
    "    time_log.append((time(),message))\n",
    "\n",
    "def printClock():\n",
    "    t=time_log[0][0]\n",
    "    for i in range(1,len(time_log)):\n",
    "        print('%8.1f \\t%s'%(time_log[i][0]-t,time_log[i][1]))\n",
    "        t=time_log[i][0]\n",
    "\n",
    "def list_s3_files(stack_directory):\n",
    "    stdout,stderr=runPipe(\"aws s3 ls %s/ \"%(stack_directory))\n",
    "    filenames=[]\n",
    "    for line in stdout:\n",
    "        parts=line.strip().split()\n",
    "        if len(parts)!=4:\n",
    "            continue\n",
    "        filenames.append(parts[-1])\n",
    "    return filenames\n",
    "\n",
    "def read_files(s3_dir,_delete=False,data_dir='/dev/shm/data/'):\n",
    "    s3files=list_s3_files(s3_dir)\n",
    "    for filename in s3files:\n",
    "        if not isfile(data_dir+'/'+filename):\n",
    "            run('aws s3 cp %s/%s %s'%(s3_dir,filename,data_dir))\n",
    "        D=fromfile(data_dir+'/'+filename,dtype=np.float16)\n",
    "        pics=D.reshape([-1,_size,_size])\n",
    "        if _delete:\n",
    "            run('rm %s/%s'%(data_dir,filename))\n",
    "        yield pics\n",
    "\n",
    "def data_stream(s3_dir='s3://mousebraindata-open/MD657/permuted'):\n",
    "    for pics in read_files(s3_dir):\n",
    "        j=0\n",
    "        for i in range(pics.shape[0]):\n",
    "            if j%1000==0:\n",
    "                print('\\r examples read=%10d'%j,end='')\n",
    "            j+=1    \n",
    "            yield pics[i,:,:]\n",
    "\n",
    "\n",
    "def Last_Modified(file_name):\n",
    "    try:\n",
    "        mtime = getmtime(file_name)\n",
    "    except OSError:\n",
    "        mtime = 0\n",
    "    return(mtime)\n",
    "            \n",
    "def calc_err(pic,gaussian = None):\n",
    "    if gaussian is None:\n",
    "        gaussian=Gaussian2DKernel(1,x_size=7,y_size=7)\n",
    "    factor=np.sum(gaussian)\n",
    "    P=convolve(pic,gaussian)/factor\n",
    "    #except:\n",
    "    #    print('err in calc_err/convolve',pic.shape,gaussian.shape,factor)\n",
    "    #    P=pic\n",
    "    error=sqrt(mean(abs(pic-P)))\n",
    "    sub=P[::2,::2]\n",
    "    return error,sub\n",
    "\n",
    "def plot_patches(fig,data,h=15,w=15,_titles=[]):\n",
    "    for i in range(h*w):\n",
    "        if i>=data.shape[0]:\n",
    "            break\n",
    "        ax=fig.add_subplot(h,w,i+1);\n",
    "        pic=np.array(data[i,:,:],dtype=np.float32)\n",
    "\n",
    "        subfig=ax.imshow(pic,cmap='gray')\n",
    "        if(len(_titles)>i):\n",
    "            plt.title(_titles[i])\n",
    "        subfig.axes.get_xaxis().set_visible(False)\n",
    "        subfig.axes.get_yaxis().set_visible(False)\n",
    "\n",
    "def pack_pics(Reps):\n",
    "    size=Reps[0].shape[0]\n",
    "    _len=len(Reps)\n",
    "    Reps_mat=np.zeros([_len,size,size])\n",
    "    for i in range(_len):\n",
    "        Reps_mat[i,:,:]=Reps[i]\n",
    "    return Reps_mat\n",
    "\n",
    "def dist2(a,b):\n",
    "    diff=(a-b)**2\n",
    "    return np.sum(diff.flatten())\n",
    "\n",
    "def dist_hist(data):\n",
    "    D=[]\n",
    "    for i in range(1,data.shape[0]):\n",
    "        D.append(dist2(data[i,:,:],data[i-1,:,:]))\n",
    "        if i%1000==0:\n",
    "            print('\\r',i,end='')\n",
    "    hist(D,bins=100);\n",
    "\n",
    "\n",
    "def mark_contours(D,tile):\n",
    "\n",
    "    image = np.array(tile,dtype=np.uint8)\n",
    "    kernel = np.ones((3,3),np.uint8)\n",
    "    boundary=np.zeros(image.shape,np.uint8)\n",
    "    repress=boundary.copy()\n",
    "    #print('shape of boundary=',boundary.shape)\n",
    "    _shape=D[0]['mask'].shape\n",
    "    left=int(_shape[0]/2)\n",
    "    right=_shape[0]-left\n",
    "    left,right\n",
    "\n",
    "    for R in D:\n",
    "        #compute contour\n",
    "        color=np.array([0,0,0],dtype=np.uint8)\n",
    "        color[R['j'] % 2]=255\n",
    "        mask=np.array(R['mask']*1,dtype=np.uint8)\n",
    "        dilated = cv2.dilate(mask,kernel,iterations = 1)\n",
    "        contour = dilated-mask\n",
    "        #mark contour in ln image coordinates\n",
    "        coor=[R['Y'],R['X']]\n",
    "\n",
    "        boundary[coor[0]-left:coor[0]+right,coor[1]-left:coor[1]+right]\\\n",
    "        +=np.multiply.outer(contour,color)\n",
    "        repress[coor[0]-left:coor[0]+right,coor[1]-left:coor[1]+right]\\\n",
    "        +=np.multiply.outer(contour,np.array([1,1,1],dtype=np.uint8))\n",
    "\n",
    "    combined=image.copy()\n",
    "    combined[repress==1]=255\n",
    "    # combined +=boundary\n",
    "\n",
    "    return combined\n"
   ]
  },
  {
   "cell_type": "code",
   "execution_count": 5,
   "metadata": {
    "ExecuteTime": {
     "end_time": "2018-12-15T19:09:56.234841Z",
     "start_time": "2018-12-15T19:09:56.230043Z"
    }
   },
   "outputs": [
    {
     "data": {
      "text/plain": [
       "'../../data/tiles/tiles_461.thr_extracted.pkl'"
      ]
     },
     "execution_count": 5,
     "metadata": {},
     "output_type": "execute_result"
    }
   ],
   "source": [
    "patchesfile"
   ]
  },
  {
   "cell_type": "code",
   "execution_count": null,
   "metadata": {},
   "outputs": [],
   "source": []
  },
  {
   "cell_type": "code",
   "execution_count": 311,
   "metadata": {
    "ExecuteTime": {
     "end_time": "2018-12-15T23:49:09.764421Z",
     "start_time": "2018-12-15T23:49:09.757057Z"
    }
   },
   "outputs": [
    {
     "name": "stdout",
     "output_type": "stream",
     "text": [
      "Overwriting ../scripts/patch_normalizer.py\n"
     ]
    }
   ],
   "source": [
    "%%writefile ../scripts/patch_normalizer.py\n",
    "import cv2\n",
    "from cv2 import moments,HuMoments\n",
    "from skimage.measure import label\n",
    "import pickle\n",
    "import numpy as np\n",
    "#from lib.shape_utils import find_threshold\n",
    "\n",
    "class normalizer:\n",
    "    \"\"\" a class for normalizing patches \"\"\"\n",
    "    def __init__(self,params):\n",
    "        \"\"\"        Initialize a Normalizer\n",
    "        create a circular mask of a given size, size must be an odd number.\n",
    "\n",
    "        :param params\n",
    "        \"\"\"\n",
    "        self.params=params\n",
    "        \n",
    "    def circle_patch(self,radius):\n",
    "        size=2*radius+1\n",
    "        x=np.arange(-radius,radius+1)\n",
    "        xx=np.array([x for i in x])\n",
    "        yy=xx.T\n",
    "        d=np.sqrt(xx**2+yy**2)\n",
    "        return np.array((d<radius+0.1)*1,dtype=np.uint8)\n",
    "\n",
    "    def set_mask(self,radius):\n",
    "        print('set mask, radius=',radius)\n",
    "        self.mask = self.circle_patch(radius)\n",
    "        self.center=int(radius)\n",
    "        self.size=2*radius+1\n",
    "        \n",
    "    def normalize_greyvals(self,ex):\n",
    "        \"\"\"normalize the grey-values of a patch so the the mean is zero and the std is 1.\n",
    "        :param ex:  patch\n",
    "        :returns: \n",
    "        * patch: normalized pattch: numpy 2D array\n",
    "        * dict: a dictionary of values associated with normalizing the patch\n",
    "        \"\"\"\n",
    "        _flat=ex.flatten()\n",
    "        _m=np.mean(_flat)\n",
    "        _m2=np.mean(_flat**2)\n",
    "        if _m2>_m**2:\n",
    "            _std=np.sqrt(_m2-_m**2)\n",
    "        else:\n",
    "            _std=1\n",
    "            print('error in calc of _std',_m,_m2)\n",
    "\n",
    "        Dict={\n",
    "            'mean':_m,\n",
    "            'std':_std\n",
    "        }\n",
    "\n",
    "        ex_new=ex/_std\n",
    "        return ex_new,Dict\n",
    "\n",
    "    \n",
    "    def angle(self,ex):\n",
    "        \"\"\"compute the rotation angle of a patch\n",
    "\n",
    "        :param ex: \n",
    "        :returns: \n",
    "        :rtype: \n",
    "\n",
    "        \"\"\"\n",
    "        M=moments(ex)\n",
    "        #print(M['m00'],M['m10'],M['m01'])\n",
    "        x=M['m10']/M['m00']\n",
    "        y=M['m01']/M['m00']\n",
    "        nu20=(M['m20']/M['m00'])-x**2\n",
    "        nu02=(M['m02']/M['m00'])-y**2\n",
    "        nu11=(M['m11']/M['m00'])-y*x\n",
    "        confidence=0\n",
    "        if nu11!=0:\n",
    "            confidence =np.abs((nu20-nu02)/nu11)  # the confidence number\n",
    "                                              # is small if small\n",
    "                                              # changes to the moments\n",
    "                                              # will generate a\n",
    "                                              # different angle\n",
    "                                              # estimate\n",
    "\n",
    "        ang_est=0\n",
    "        if confidence > 0.1:\n",
    "            ang_est=-np.arctan(2*nu11/(nu20-nu02))/np.pi+0.5\n",
    "\n",
    "        if ang_est>0.5:\n",
    "            ang_est-=1\n",
    "        ang180=(ang_est+(np.sign(nu11))/2)*90\n",
    "\n",
    "        if ang180>=180:\n",
    "            ang180-=360\n",
    "        if ang180<-180:\n",
    "            ang180+=360\n",
    "        return ang180,confidence\n",
    "\n",
    "    def flipOrNot(self,ex):\n",
    "        \"\"\"\n",
    "        decide using the moments whether to flip the image.\n",
    "        :param ex: \n",
    "        :returns: \n",
    "        :rtype: \n",
    "\n",
    "        \"\"\"\n",
    "        M=moments(ex)\n",
    "        x=M['m10']/M['m00'] - self.center\n",
    "        y=M['m01']/M['m00'] - self.center\n",
    "        if abs(x)>abs(y):\n",
    "            return x<0\n",
    "        else:\n",
    "            return y<0\n",
    "\n",
    "    def normalize_angle(self,ex):\n",
    "        \"\"\" place patch in a normalized angle\n",
    "\n",
    "        :param ex: patch\n",
    "        :returns: angle, angle and confidence\n",
    "        :rtype: \n",
    "\n",
    "        \"\"\"\n",
    "        ang,conf=self.angle(ex)\n",
    "        M = cv2.getRotationMatrix2D((self.center,self.center),-ang,1)\n",
    "        dst= cv2.warpAffine(ex,M,(self.size,self.size))*self.mask\n",
    "        if self.flipOrNot(dst):\n",
    "            M180 = cv2.getRotationMatrix2D((self.center,self.center),180,1)\n",
    "            dst = cv2.warpAffine(dst,M180,(self.size,self.size))\n",
    "\n",
    "        return ang,conf,dst*self.mask\n",
    "\n",
    "    # normalized_patch,rotation,confidence=Norm.\n",
    "    def put_in_circle(self,ex):\n",
    "        M=moments(ex)\n",
    "        #print(M['m00'],M['m10'],M['m01'])\n",
    "        x=M['m10']/M['m00']\n",
    "        y=M['m01']/M['m00']\n",
    "\n",
    "        x=round(x)\n",
    "        y=round(y)\n",
    "        w=prop['width']\n",
    "        h=prop['height']\n",
    "        x,y,h,w\n",
    "        xc=w-x\n",
    "        yc=h-y\n",
    "        radius=int(ceil(sqrt(np.max([(x*x+y*y),(xc*xc+y*y),(x*x+yc*yc),(xc*xc+yc*yc)]))))\n",
    "        self.set_mask(radius)\n",
    "        size=2*radius+1\n",
    "        circ_patch=np.zeros([size,size])\n",
    "        x1=int(radius-x)\n",
    "        x2=x1+w\n",
    "        y1=int(radius-y)\n",
    "        y2=y1+h\n",
    "        circ_patch[y1:y2,x1:x2]=ex\n",
    "        return circ_patch\n",
    "\n",
    "    def normalize_patch(self,ex):\n",
    "        ex_in_circle = self.put_in_circle(copy(ex))\n",
    "        #normalize patch interms of grey values and in terms of rotation\n",
    "        ex_grey_normed,grey_level_stats=self.normalize_greyvals(copy(ex_in_circle))\n",
    "\n",
    "        #normalize angle\n",
    "        rot_angle1,conf1,ex_rotation_normed=self.normalize_angle(copy(ex_grey_normed))\n",
    "        rot_angle2,conf2,ex_rotation_normed=self.normalize_angle(copy(ex_rotation_normed))\n",
    "        total_rotation = rot_angle1+rot_angle2\n",
    "        confidence=conf2\n",
    "        normalized_patch =  ex_rotation_normed*self.mask\n",
    "        Dict={\n",
    "            'original_patch':ex,\n",
    "            'patch_in_circle':ex_in_circle,\n",
    "            'ex_grey_normed':ex_grey_normed,\n",
    "            'normalized_patch':normalized_patch,\n",
    "            'rotation':total_rotation,\n",
    "            'rotation_confidence':confidence\n",
    "        }\n",
    "        Dict.update(grey_level_stats)\n",
    "\n",
    "        return Dict"
   ]
  },
  {
   "cell_type": "code",
   "execution_count": 299,
   "metadata": {
    "ExecuteTime": {
     "end_time": "2018-12-15T23:41:12.983515Z",
     "start_time": "2018-12-15T23:41:12.975684Z"
    }
   },
   "outputs": [],
   "source": [
    "import pickle as pkl\n",
    "L=pkl.load(open(patchesfile,'rb'))"
   ]
  },
  {
   "cell_type": "code",
   "execution_count": 300,
   "metadata": {
    "ExecuteTime": {
     "end_time": "2018-12-15T23:41:13.698934Z",
     "start_time": "2018-12-15T23:41:13.695172Z"
    }
   },
   "outputs": [
    {
     "data": {
      "text/plain": [
       "687"
      ]
     },
     "execution_count": 300,
     "metadata": {},
     "output_type": "execute_result"
    }
   ],
   "source": [
    "len(L)"
   ]
  },
  {
   "cell_type": "code",
   "execution_count": 307,
   "metadata": {
    "ExecuteTime": {
     "end_time": "2018-12-15T23:43:01.688507Z",
     "start_time": "2018-12-15T23:43:01.535257Z"
    }
   },
   "outputs": [
    {
     "name": "stdout",
     "output_type": "stream",
     "text": [
      "366\n"
     ]
    },
    {
     "data": {
      "text/plain": [
       "<matplotlib.image.AxesImage at 0x126dc71d0>"
      ]
     },
     "execution_count": 307,
     "metadata": {},
     "output_type": "execute_result"
    },
    {
     "data": {
      "image/png": "[encoded data removed]",
      "text/plain": [
       "<Figure size 432x288 with 1 Axes>"
      ]
     },
     "metadata": {
      "needs_background": "light"
     },
     "output_type": "display_data"
    }
   ],
   "source": [
    "params = configuration('../scripts/shape_params.yaml').getParams()\n",
    "Norm=normalizer(params)\n",
    "for i in range(len(L)):\n",
    "    ex,prop=L[i]\n",
    "\n",
    "    if prop['area']>250 and prop['area']<300 and i>360:\n",
    "        print(i)\n",
    "        break\n",
    "imshow(ex)\n"
   ]
  },
  {
   "cell_type": "code",
   "execution_count": 308,
   "metadata": {
    "ExecuteTime": {
     "end_time": "2018-12-15T23:43:04.121969Z",
     "start_time": "2018-12-15T23:43:04.117245Z"
    }
   },
   "outputs": [
    {
     "name": "stdout",
     "output_type": "stream",
     "text": [
      "set mask, radius= 22\n"
     ]
    }
   ],
   "source": [
    "Normalized=Norm.normalize_patch(ex)"
   ]
  },
  {
   "cell_type": "code",
   "execution_count": 309,
   "metadata": {
    "ExecuteTime": {
     "end_time": "2018-12-15T23:43:04.857742Z",
     "start_time": "2018-12-15T23:43:04.853954Z"
    }
   },
   "outputs": [
    {
     "data": {
      "text/plain": [
       "dict_keys(['original_patch', 'patch_in_circle', 'ex_grey_normed', 'normalized_patch', 'rotation', 'rotation_confidence', 'global mean', 'global std'])"
      ]
     },
     "execution_count": 309,
     "metadata": {},
     "output_type": "execute_result"
    }
   ],
   "source": [
    "Normalized.keys()"
   ]
  },
  {
   "cell_type": "code",
   "execution_count": 310,
   "metadata": {
    "ExecuteTime": {
     "end_time": "2018-12-15T23:43:06.600668Z",
     "start_time": "2018-12-15T23:43:05.789456Z"
    }
   },
   "outputs": [
    {
     "data": {
      "image/png": "[encoded data removed]",
      "text/plain": [
       "<Figure size 432x288 with 1 Axes>"
      ]
     },
     "metadata": {
      "needs_background": "light"
     },
     "output_type": "display_data"
    },
    {
     "data": {
      "image/png": "[encoded data removed]",
      "text/plain": [
       "<Figure size 432x288 with 1 Axes>"
      ]
     },
     "metadata": {
      "needs_background": "light"
     },
     "output_type": "display_data"
    },
    {
     "data": {
      "image/png": "[encoded data removed]",
      "text/plain": [
       "<Figure size 432x288 with 1 Axes>"
      ]
     },
     "metadata": {
      "needs_background": "light"
     },
     "output_type": "display_data"
    },
    {
     "data": {
      "image/png": "[encoded data removed]",
      "text/plain": [
       "<Figure size 432x288 with 1 Axes>"
      ]
     },
     "metadata": {
      "needs_background": "light"
     },
     "output_type": "display_data"
    }
   ],
   "source": [
    "\n",
    "for key in ['original_patch', 'patch_in_circle', 'ex_grey_normed', 'normalized_patch']:\n",
    "    patch=Normalized[key]\n",
    "    figure()\n",
    "    imshow(patch)\n",
    "    title(key)"
   ]
  },
  {
   "cell_type": "code",
   "execution_count": 236,
   "metadata": {
    "ExecuteTime": {
     "end_time": "2018-12-15T22:58:50.669370Z",
     "start_time": "2018-12-15T22:58:50.665344Z"
    }
   },
   "outputs": [
    {
     "data": {
      "text/plain": [
       "5.991881697398422"
      ]
     },
     "execution_count": 236,
     "metadata": {},
     "output_type": "execute_result"
    }
   ],
   "source": [
    "np.max(npatch.flatten())"
   ]
  },
  {
   "cell_type": "code",
   "execution_count": 306,
   "metadata": {
    "ExecuteTime": {
     "end_time": "2018-12-15T23:42:17.468824Z",
     "start_time": "2018-12-15T23:42:17.464817Z"
    }
   },
   "outputs": [
    {
     "data": {
      "text/plain": [
       "numpy.float64"
      ]
     },
     "execution_count": 306,
     "metadata": {},
     "output_type": "execute_result"
    }
   ],
   "source": [
    "type(npatch[0,0])"
   ]
  },
  {
   "cell_type": "code",
   "execution_count": null,
   "metadata": {},
   "outputs": [],
   "source": []
  }
 ],
 "metadata": {
  "hide_input": false,
  "kernelspec": {
   "display_name": "Python 3",
   "language": "python",
   "name": "python3"
  },
  "language_info": {
   "codemirror_mode": {
    "name": "ipython",
    "version": 3
   },
   "file_extension": ".py",
   "mimetype": "text/x-python",
   "name": "python",
   "nbconvert_exporter": "python",
   "pygments_lexer": "ipython3",
   "version": "3.7.0"
  },
  "toc": {
   "base_numbering": 1,
   "nav_menu": {},
   "number_sections": true,
   "sideBar": true,
   "skip_h1_title": false,
   "title_cell": "Table of Contents",
   "title_sidebar": "Contents",
   "toc_cell": false,
   "toc_position": {},
   "toc_section_display": true,
   "toc_window_display": false
  }
 },
 "nbformat": 4,
 "nbformat_minor": 2
}
