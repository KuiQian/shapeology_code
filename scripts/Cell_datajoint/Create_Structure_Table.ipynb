{
 "cells": [
  {
   "cell_type": "markdown",
   "metadata": {},
   "source": [
    "## Imports\n",
    "utilities.py contains a number of useful functions including loading credentials from a json file, retrieving files from S3, and defining the current list of brains that are associated with the Active Atlas."
   ]
  },
  {
   "cell_type": "code",
   "execution_count": 1,
   "metadata": {},
   "outputs": [],
   "source": [
    "import datajoint as dj\n",
    "import numpy as np\n",
    "from minio import Minio\n",
    "import json\n",
    "import yaml\n",
    "import sys, os\n",
    "\n",
    "sys.path.append('./lib')\n",
    "from utilities import *"
   ]
  },
  {
   "cell_type": "markdown",
   "metadata": {},
   "source": [
    "## Load Credentials, Connect to Database"
   ]
  },
  {
   "cell_type": "code",
   "execution_count": 2,
   "metadata": {
    "scrolled": true
   },
   "outputs": [
    {
     "name": "stdout",
     "output_type": "stream",
     "text": [
      "Writing /data/Github/VaultBrain/credFiles_aws.yaml\n"
     ]
    }
   ],
   "source": [
    "%%writefile /home/ubuntu/data/Github/VaultBrain/credFiles_aws.yaml\n",
    "aws_fp: /home/ubuntu/data/Github/VaultBrain/s3-creds.json\n",
    "dj_fp: /home/ubuntu/data/Github/VaultBrain/dj_local_conf.json"
   ]
  },
  {
   "cell_type": "code",
   "execution_count": 6,
   "metadata": {},
   "outputs": [
    {
     "name": "stdout",
     "output_type": "stream",
     "text": [
      "Writing /Users/kuiqian/Github/VaultBrain/credFiles.yaml\n"
     ]
    }
   ],
   "source": [
    "%%writefile /Users/kuiqian/Github/VaultBrain/credFiles.yaml\n",
    "aws_fp: /Users/kuiqian/Github/VaultBrain/s3-creds.json\n",
    "dj_fp: /Users/kuiqian/Github/VaultBrain/dj_local_conf.json"
   ]
  },
  {
   "cell_type": "code",
   "execution_count": 2,
   "metadata": {},
   "outputs": [],
   "source": [
    "credFiles='/data/Github/VaultBrain/credFiles_aws.yaml'\n",
    "credFiles='/Users/kuiqian/Github/VaultBrain/credFiles.yaml'"
   ]
  },
  {
   "cell_type": "code",
   "execution_count": 3,
   "metadata": {},
   "outputs": [
    {
     "name": "stderr",
     "output_type": "stream",
     "text": [
      "./lib/utilities.py:14: YAMLLoadWarning: calling yaml.load() without Loader=... is deprecated, as the default Loader is unsafe. Please read https://msg.pyyaml.org/load for full details.\n",
      "  credFiles = yaml.load(open( credential_file_pointers,'r'))\n"
     ]
    }
   ],
   "source": [
    "dj.config['database.host'] = get_dj_creds(credFiles)['database.host']\n",
    "dj.config['database.user'] = get_dj_creds(credFiles)['database.user']\n",
    "dj.config['database.port'] = get_dj_creds(credFiles)['database.port']\n",
    "dj.config['database.password'] = get_dj_creds(credFiles)['database.password']\n",
    "#dj.config.save_local()"
   ]
  },
  {
   "cell_type": "code",
   "execution_count": 4,
   "metadata": {},
   "outputs": [
    {
     "name": "stdout",
     "output_type": "stream",
     "text": [
      "Connecting kui@ucsd-demo-db.datajoint.io:3306\n"
     ]
    },
    {
     "data": {
      "text/plain": [
       "DataJoint connection (connected) kui@ucsd-demo-db.datajoint.io:3306"
      ]
     },
     "execution_count": 4,
     "metadata": {},
     "output_type": "execute_result"
    }
   ],
   "source": [
    "dj.conn()"
   ]
  },
  {
   "cell_type": "code",
   "execution_count": 5,
   "metadata": {},
   "outputs": [],
   "source": [
    "schema = dj.schema('kui_diffusionmap')\n",
    "schema.spawn_missing_classes()"
   ]
  },
  {
   "cell_type": "markdown",
   "metadata": {},
   "source": [
    "## Create tables"
   ]
  },
  {
   "cell_type": "code",
   "execution_count": 7,
   "metadata": {},
   "outputs": [
    {
     "name": "stdout",
     "output_type": "stream",
     "text": [
      "`kui_diffusionmap`.`structure` (28 tuples)\n",
      "Proceed? [yes, No]: yes\n",
      "Tables dropped.  Restart kernel.\n"
     ]
    }
   ],
   "source": [
    "Structure.drop()"
   ]
  },
  {
   "cell_type": "code",
   "execution_count": 7,
   "metadata": {},
   "outputs": [],
   "source": [
    "@schema\n",
    "class Structure(dj.Manual):\n",
    "    definition = \"\"\"\n",
    "    structure       : char(10)    # name of mouse brain's structure\n",
    "    \"\"\""
   ]
  },
  {
   "cell_type": "code",
   "execution_count": 8,
   "metadata": {},
   "outputs": [],
   "source": [
    "paired_structures = ['5N', '6N', '7N', '7nn', 'Amb', 'LC', 'LRt', 'Pn', 'Tz', 'VLL', 'RMC', \\\n",
    "                     'SNC', 'SNR', '3N', '4N', 'Sp5I', 'Sp5O', 'Sp5C', 'PBG', '10N', 'VCA', 'VCP', 'DC']\n",
    "singular_structures = ['AP', '12N', 'RtTg', 'SC', 'IC']\n",
    "all_structures = paired_structures + singular_structures"
   ]
  },
  {
   "cell_type": "code",
   "execution_count": 9,
   "metadata": {},
   "outputs": [
    {
     "name": "stdout",
     "output_type": "stream",
     "text": [
      "\n",
      "Adding 5N to the database\n",
      "\n",
      "Adding 6N to the database\n",
      "\n",
      "Adding 7N to the database\n",
      "\n",
      "Adding 7nn to the database\n",
      "\n",
      "Adding Amb to the database\n",
      "\n",
      "Adding LC to the database\n",
      "\n",
      "Adding LRt to the database\n",
      "\n",
      "Adding Pn to the database\n",
      "\n",
      "Adding Tz to the database\n",
      "\n",
      "Adding VLL to the database\n",
      "\n",
      "Adding RMC to the database\n",
      "\n",
      "Adding SNC to the database\n",
      "\n",
      "Adding SNR to the database\n",
      "\n",
      "Adding 3N to the database\n",
      "\n",
      "Adding 4N to the database\n",
      "\n",
      "Adding Sp5I to the database\n",
      "\n",
      "Adding Sp5O to the database\n",
      "\n",
      "Adding Sp5C to the database\n",
      "\n",
      "Adding PBG to the database\n",
      "\n",
      "Adding 10N to the database\n",
      "\n",
      "Adding VCA to the database\n",
      "\n",
      "Adding VCP to the database\n",
      "\n",
      "Adding DC to the database\n",
      "\n",
      "Adding AP to the database\n",
      "\n",
      "Adding 12N to the database\n",
      "\n",
      "Adding RtTg to the database\n",
      "\n",
      "Adding SC to the database\n",
      "\n",
      "Adding IC to the database\n"
     ]
    }
   ],
   "source": [
    "for struc in all_structures:\n",
    "    print(\"\\nAdding \"+ struc+ \" to the database\")\n",
    "    Structure.insert1(dict(structure=struc),\n",
    "                     skip_duplicates=True)"
   ]
  },
  {
   "cell_type": "code",
   "execution_count": 10,
   "metadata": {},
   "outputs": [
    {
     "data": {
      "text/plain": [
       "[OrderedDict([('structure', '10N')]),\n",
       " OrderedDict([('structure', '12N')]),\n",
       " OrderedDict([('structure', '3N')]),\n",
       " OrderedDict([('structure', '4N')]),\n",
       " OrderedDict([('structure', '5N')]),\n",
       " OrderedDict([('structure', '6N')]),\n",
       " OrderedDict([('structure', '7N')]),\n",
       " OrderedDict([('structure', '7nn')]),\n",
       " OrderedDict([('structure', 'Amb')]),\n",
       " OrderedDict([('structure', 'AP')]),\n",
       " OrderedDict([('structure', 'DC')]),\n",
       " OrderedDict([('structure', 'IC')]),\n",
       " OrderedDict([('structure', 'LC')]),\n",
       " OrderedDict([('structure', 'LRt')]),\n",
       " OrderedDict([('structure', 'PBG')]),\n",
       " OrderedDict([('structure', 'Pn')]),\n",
       " OrderedDict([('structure', 'RMC')]),\n",
       " OrderedDict([('structure', 'RtTg')]),\n",
       " OrderedDict([('structure', 'SC')]),\n",
       " OrderedDict([('structure', 'SNC')]),\n",
       " OrderedDict([('structure', 'SNR')]),\n",
       " OrderedDict([('structure', 'Sp5C')]),\n",
       " OrderedDict([('structure', 'Sp5I')]),\n",
       " OrderedDict([('structure', 'Sp5O')]),\n",
       " OrderedDict([('structure', 'Tz')]),\n",
       " OrderedDict([('structure', 'VCA')]),\n",
       " OrderedDict([('structure', 'VCP')]),\n",
       " OrderedDict([('structure', 'VLL')])]"
      ]
     },
     "execution_count": 10,
     "metadata": {},
     "output_type": "execute_result"
    }
   ],
   "source": [
    "Structure.fetch(as_dict=True)"
   ]
  },
  {
   "cell_type": "code",
   "execution_count": 8,
   "metadata": {},
   "outputs": [],
   "source": [
    "@schema\n",
    "class Structure(dj.Manual):\n",
    "    definition = \"\"\"\n",
    "    id  : int   # sequence\n",
    "    --------\n",
    "    structure       : char(10)    # name of mouse brain's structure\n",
    "    positive_s3_fp  : varchar(200)  # (str) file path\n",
    "    negative_s3_fp  : varchar(200)  # (str) file path\n",
    "    \"\"\"\n",
    "#     positive_img_fp  : varchar(200)  # (str) file path\n",
    "#     negative_img_fp  : varchar(200)  # (str) file path\n"
   ]
  },
  {
   "cell_type": "code",
   "execution_count": 9,
   "metadata": {},
   "outputs": [
    {
     "name": "stdout",
     "output_type": "stream",
     "text": [
      "CSHL_regions_features/MD589/\n"
     ]
    }
   ],
   "source": [
    "paired_structures = ['5N', '6N', '7N', '7nn', 'Amb', 'LC', 'LRt', 'Pn', 'Tz', 'VLL', 'RMC', \\\n",
    "                     'SNC', 'SNR', '3N', '4N', 'Sp5I', 'Sp5O', 'Sp5C', 'PBG', '10N', 'VCA', 'VCP', 'DC']\n",
    "singular_structures = ['AP', '12N', 'RtTg', 'SC', 'IC']\n",
    "all_structures = paired_structures + singular_structures\n",
    "stack = 'MD589'\n",
    "s3_fp = 'CSHL_regions_features/'+stack+'/' #s3://mousebrainatlas-data/\n",
    "print(s3_fp)"
   ]
  },
  {
   "cell_type": "code",
   "execution_count": 10,
   "metadata": {},
   "outputs": [
    {
     "name": "stdout",
     "output_type": "stream",
     "text": [
      "\n",
      "Adding 5N to the database\n",
      "\n",
      "Adding 6N to the database\n",
      "\n",
      "Adding 7N to the database\n",
      "\n",
      "Adding 7n to the database\n",
      "\n",
      "Adding Amb to the database\n",
      "\n",
      "Adding LC to the database\n",
      "\n",
      "Adding LRt to the database\n",
      "\n",
      "Adding Pn to the database\n",
      "\n",
      "Adding Tz to the database\n",
      "\n",
      "Adding VLL to the database\n",
      "\n",
      "Adding RMC to the database\n",
      "\n",
      "Adding SNC to the database\n",
      "\n",
      "Adding SNR to the database\n",
      "\n",
      "Adding 3N to the database\n",
      "\n",
      "Adding 4N to the database\n",
      "\n",
      "Adding Sp5I to the database\n",
      "\n",
      "Adding Sp5O to the database\n",
      "\n",
      "Adding Sp5C to the database\n",
      "\n",
      "Adding PBG to the database\n",
      "\n",
      "Adding 10N to the database\n",
      "\n",
      "Adding VCA to the database\n",
      "\n",
      "Adding VCP to the database\n",
      "\n",
      "Adding DC to the database\n",
      "\n",
      "Adding AP to the database\n",
      "\n",
      "Adding 12N to the database\n",
      "\n",
      "Adding RtTg to the database\n",
      "\n",
      "Adding SC to the database\n",
      "\n",
      "Adding IC to the database\n"
     ]
    }
   ],
   "source": [
    "n=0\n",
    "for struc in all_structures:\n",
    "    print(\"\\nAdding \"+struc+' to the database')\n",
    "    Structure.insert1(dict(id=n,\n",
    "                           structure=struc,\n",
    "                          positive_s3_fp=s3_fp+struc+'/'+stack+'_'+struc+'_positive.pkl',\n",
    "                          negative_s3_fp=s3_fp+struc+'/'+stack+'_'+struc+'_negative.pkl',)\n",
    "                     ,skip_duplicates=False)\n",
    "    n+=1"
   ]
  },
  {
   "cell_type": "code",
   "execution_count": 15,
   "metadata": {},
   "outputs": [
    {
     "name": "stdout",
     "output_type": "stream",
     "text": [
      "\n",
      "Adding 5N to the database\n",
      "\n",
      "Adding 6N to the database\n",
      "\n",
      "Adding 7N to the database\n",
      "\n",
      "Adding 7n to the database\n",
      "\n",
      "Adding Amb to the database\n",
      "\n",
      "Adding LC to the database\n",
      "\n",
      "Adding LRt to the database\n",
      "\n",
      "Adding Pn to the database\n",
      "\n",
      "Adding Tz to the database\n",
      "\n",
      "Adding VLL to the database\n",
      "\n",
      "Adding RMC to the database\n",
      "\n",
      "Adding SNC to the database\n",
      "\n",
      "Adding SNR to the database\n",
      "\n",
      "Adding 3N to the database\n",
      "\n",
      "Adding 4N to the database\n",
      "\n",
      "Adding Sp5I to the database\n",
      "\n",
      "Adding Sp5O to the database\n",
      "\n",
      "Adding Sp5C to the database\n",
      "\n",
      "Adding PBG to the database\n",
      "\n",
      "Adding 10N to the database\n",
      "\n",
      "Adding VCA to the database\n",
      "\n",
      "Adding VCP to the database\n",
      "\n",
      "Adding DC to the database\n",
      "\n",
      "Adding AP to the database\n",
      "\n",
      "Adding 12N to the database\n",
      "\n",
      "Adding RtTg to the database\n",
      "\n",
      "Adding SC to the database\n",
      "\n",
      "Adding IC to the database\n"
     ]
    }
   ],
   "source": [
    "n=0\n",
    "for struc in all_structures:\n",
    "    print(\"\\nAdding \"+struc+' to the database')\n",
    "    Structure.insert1(dict(id=n,\n",
    "                           structure=struc,\n",
    "                          positive_s3_fp=s3_fp+'Properties/'+struc+'/'+stack+'_'+struc+'_positive.pkl',\n",
    "                          negative_s3_fp=s3_fp+'Properties/'+struc+'/'+stack+'_'+struc+'_negative.pkl',\n",
    "                          positive_img_fp=s3_fp+'Images/'+struc+'/'+stack+'_'+struc+'_positive_images.pkl',\n",
    "                          negative_img_fp=s3_fp+'Images/'+struc+'/'+stack+'_'+struc+'_negative_images.pkl')\n",
    "                     ,skip_duplicates=False)\n",
    "    n+=1\n"
   ]
  },
  {
   "cell_type": "code",
   "execution_count": 6,
   "metadata": {},
   "outputs": [
    {
     "ename": "NameError",
     "evalue": "name 'Structure' is not defined",
     "output_type": "error",
     "traceback": [
      "\u001b[0;31m---------------------------------------------------------------------------\u001b[0m",
      "\u001b[0;31mNameError\u001b[0m                                 Traceback (most recent call last)",
      "\u001b[0;32m<ipython-input-6-dc037f886761>\u001b[0m in \u001b[0;36m<module>\u001b[0;34m\u001b[0m\n\u001b[1;32m      1\u001b[0m \u001b[0;32mimport\u001b[0m \u001b[0mpandas\u001b[0m \u001b[0;32mas\u001b[0m \u001b[0mpd\u001b[0m\u001b[0;34m\u001b[0m\u001b[0;34m\u001b[0m\u001b[0m\n\u001b[0;32m----> 2\u001b[0;31m \u001b[0mstructureTable\u001b[0m \u001b[0;34m=\u001b[0m \u001b[0mStructure\u001b[0m\u001b[0;34m.\u001b[0m\u001b[0mfetch\u001b[0m\u001b[0;34m(\u001b[0m\u001b[0mas_dict\u001b[0m\u001b[0;34m=\u001b[0m\u001b[0;32mTrue\u001b[0m\u001b[0;34m)\u001b[0m\u001b[0;34m\u001b[0m\u001b[0;34m\u001b[0m\u001b[0m\n\u001b[0m\u001b[1;32m      3\u001b[0m \u001b[0mstrucDF\u001b[0m \u001b[0;34m=\u001b[0m \u001b[0mpd\u001b[0m\u001b[0;34m.\u001b[0m\u001b[0mDataFrame\u001b[0m\u001b[0;34m(\u001b[0m\u001b[0mstructureTable\u001b[0m\u001b[0;34m)\u001b[0m\u001b[0;34m\u001b[0m\u001b[0;34m\u001b[0m\u001b[0m\n\u001b[1;32m      4\u001b[0m \u001b[0mstrucDF\u001b[0m\u001b[0;34m\u001b[0m\u001b[0;34m\u001b[0m\u001b[0m\n",
      "\u001b[0;31mNameError\u001b[0m: name 'Structure' is not defined"
     ]
    }
   ],
   "source": [
    "import pandas as pd\n",
    "structureTable = Structure.fetch(as_dict=True)\n",
    "strucDF = pd.DataFrame(structureTable)\n",
    "strucDF"
   ]
  },
  {
   "cell_type": "code",
   "execution_count": 11,
   "metadata": {},
   "outputs": [],
   "source": [
    "client = get_s3_client(credFiles)"
   ]
  },
  {
   "cell_type": "code",
   "execution_count": 15,
   "metadata": {},
   "outputs": [
    {
     "data": {
      "text/plain": [
       "14878904"
      ]
     },
     "execution_count": 15,
     "metadata": {},
     "output_type": "execute_result"
    }
   ],
   "source": [
    "report=client.stat_object(\"mousebrainatlas-data\",strucDF['positive_s3_fp'][1])\n",
    "report.size"
   ]
  },
  {
   "cell_type": "code",
   "execution_count": 53,
   "metadata": {},
   "outputs": [],
   "source": [
    "sys.path.append('../lib')\n",
    "from utils import run"
   ]
  },
  {
   "cell_type": "code",
   "execution_count": 18,
   "metadata": {},
   "outputs": [
    {
     "ename": "NameError",
     "evalue": "name 'run' is not defined",
     "output_type": "error",
     "traceback": [
      "\u001b[0;31m---------------------------------------------------------------------------\u001b[0m",
      "\u001b[0;31mNameError\u001b[0m                                 Traceback (most recent call last)",
      "\u001b[0;32m<ipython-input-18-94e2c93f2310>\u001b[0m in \u001b[0;36m<module>\u001b[0;34m\u001b[0m\n\u001b[1;32m      4\u001b[0m \u001b[0mstruc\u001b[0m \u001b[0;34m=\u001b[0m \u001b[0;34m'5N'\u001b[0m\u001b[0;34m\u001b[0m\u001b[0;34m\u001b[0m\u001b[0m\n\u001b[1;32m      5\u001b[0m \u001b[0mstate\u001b[0m \u001b[0;34m=\u001b[0m \u001b[0;34m'positive'\u001b[0m\u001b[0;34m\u001b[0m\u001b[0;34m\u001b[0m\u001b[0m\n\u001b[0;32m----> 6\u001b[0;31m \u001b[0mrun\u001b[0m\u001b[0;34m(\u001b[0m\u001b[0;34m'python3 {0}/Cell_generator.py {1} {2} {3} {4}'\u001b[0m\u001b[0;34m.\u001b[0m\u001b[0mformat\u001b[0m\u001b[0;34m(\u001b[0m\u001b[0mscripts_dir\u001b[0m\u001b[0;34m,\u001b[0m \u001b[0mstack\u001b[0m\u001b[0;34m,\u001b[0m \u001b[0mstruc\u001b[0m\u001b[0;34m,\u001b[0m \u001b[0mstate\u001b[0m\u001b[0;34m,\u001b[0m \u001b[0myaml_file\u001b[0m\u001b[0;34m)\u001b[0m\u001b[0;34m)\u001b[0m\u001b[0;34m\u001b[0m\u001b[0;34m\u001b[0m\u001b[0m\n\u001b[0m",
      "\u001b[0;31mNameError\u001b[0m: name 'run' is not defined"
     ]
    }
   ],
   "source": [
    "stack = 'MD589'\n",
    "yaml_file = 'shape_params.yaml'\n",
    "scripts_dir = os.environ['REPO_DIR']\n",
    "struc = '5N'\n",
    "state = 'positive'\n",
    "run('python3 {0}/Cell_generator.py {1} {2} {3} {4}'.format(scripts_dir, stack, struc, state, yaml_file))"
   ]
  },
  {
   "cell_type": "code",
   "execution_count": 12,
   "metadata": {},
   "outputs": [
    {
     "name": "stdout",
     "output_type": "stream",
     "text": [
      "Writing test.py\n"
     ]
    }
   ],
   "source": [
    "%%writefile test.py\n",
    "print('this is me!')\n"
   ]
  },
  {
   "cell_type": "code",
   "execution_count": 13,
   "metadata": {},
   "outputs": [
    {
     "name": "stderr",
     "output_type": "stream",
     "text": [
      "ERROR:root:File `'(python test.py).py'` not found.\n"
     ]
    }
   ],
   "source": [
    "run('python test.py')"
   ]
  },
  {
   "cell_type": "code",
   "execution_count": 21,
   "metadata": {},
   "outputs": [
    {
     "name": "stdout",
     "output_type": "stream",
     "text": [
      "this is me!\r\n"
     ]
    }
   ],
   "source": [
    "!python test.py"
   ]
  },
  {
   "cell_type": "code",
   "execution_count": 16,
   "metadata": {},
   "outputs": [
    {
     "name": "stdout",
     "output_type": "stream",
     "text": [
      "this is me!\r\n"
     ]
    }
   ],
   "source": [
    "!cat output"
   ]
  },
  {
   "cell_type": "code",
   "execution_count": null,
   "metadata": {},
   "outputs": [],
   "source": []
  }
 ],
 "metadata": {
  "kernelspec": {
   "display_name": "shapeology",
   "language": "python",
   "name": "shapeology_code"
  },
  "language_info": {
   "codemirror_mode": {
    "name": "ipython",
    "version": 3
   },
   "file_extension": ".py",
   "mimetype": "text/x-python",
   "name": "python",
   "nbconvert_exporter": "python",
   "pygments_lexer": "ipython3",
   "version": "3.7.3"
  }
 },
 "nbformat": 4,
 "nbformat_minor": 2
}
