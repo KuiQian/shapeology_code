{
 "cells": [
  {
   "cell_type": "markdown",
   "metadata": {},
   "source": [
    "## Imports\n",
    "utilities.py contains a number of useful functions including loading credentials from a json file, retrieving files from S3, and defining the current list of brains that are associated with the Active Atlas."
   ]
  },
  {
   "cell_type": "code",
   "execution_count": 1,
   "metadata": {},
   "outputs": [],
   "source": [
    "import datajoint as dj\n",
    "import numpy as np\n",
    "from minio import Minio\n",
    "import json\n",
    "import yaml\n",
    "import sys, os\n",
    "\n",
    "sys.path.append('./lib')\n",
    "from utilities import *"
   ]
  },
  {
   "cell_type": "markdown",
   "metadata": {},
   "source": [
    "## Load Credentials, Connect to Database"
   ]
  },
  {
   "cell_type": "code",
   "execution_count": 2,
   "metadata": {
    "scrolled": true
   },
   "outputs": [
    {
     "name": "stdout",
     "output_type": "stream",
     "text": [
      "Writing /data/Github/VaultBrain/credFiles_aws.yaml\n"
     ]
    }
   ],
   "source": [
    "%%writefile /home/ubuntu/data/Github/VaultBrain/credFiles_aws.yaml\n",
    "aws_fp: /home/ubuntu/data/Github/VaultBrain/s3-creds.json\n",
    "dj_fp: /home/ubuntu/data/Github/VaultBrain/dj_local_conf.json"
   ]
  },
  {
   "cell_type": "code",
   "execution_count": 6,
   "metadata": {},
   "outputs": [
    {
     "name": "stdout",
     "output_type": "stream",
     "text": [
      "Writing /Users/kuiqian/Github/VaultBrain/credFiles.yaml\n"
     ]
    }
   ],
   "source": [
    "%%writefile /Users/kuiqian/Github/VaultBrain/credFiles.yaml\n",
    "aws_fp: /Users/kuiqian/Github/VaultBrain/s3-creds.json\n",
    "dj_fp: /Users/kuiqian/Github/VaultBrain/dj_local_conf.json"
   ]
  },
  {
   "cell_type": "code",
   "execution_count": 3,
   "metadata": {},
   "outputs": [],
   "source": [
    "credFiles='/data/Github/VaultBrain/credFiles_aws.yaml'\n",
    "#'/Users/kuiqian/Github/VaultBrain/credFiles.yaml'"
   ]
  },
  {
   "cell_type": "code",
   "execution_count": 4,
   "metadata": {},
   "outputs": [
    {
     "name": "stderr",
     "output_type": "stream",
     "text": [
      "./lib/utilities.py:14: YAMLLoadWarning: calling yaml.load() without Loader=... is deprecated, as the default Loader is unsafe. Please read https://msg.pyyaml.org/load for full details.\n",
      "  credFiles = yaml.load(open( credential_file_pointers,'r'))\n"
     ]
    }
   ],
   "source": [
    "dj.config['database.host'] = get_dj_creds(credFiles)['database.host']\n",
    "dj.config['database.user'] = get_dj_creds(credFiles)['database.user']\n",
    "dj.config['database.port'] = get_dj_creds(credFiles)['database.port']\n",
    "dj.config['database.password'] = get_dj_creds(credFiles)['database.password']\n",
    "#dj.config.save_local()"
   ]
  },
  {
   "cell_type": "code",
   "execution_count": 5,
   "metadata": {},
   "outputs": [
    {
     "name": "stdout",
     "output_type": "stream",
     "text": [
      "Connecting kui@ucsd-demo-db.datajoint.io:3306\n"
     ]
    },
    {
     "data": {
      "text/plain": [
       "DataJoint connection (connected) kui@ucsd-demo-db.datajoint.io:3306"
      ]
     },
     "execution_count": 5,
     "metadata": {},
     "output_type": "execute_result"
    }
   ],
   "source": [
    "dj.conn()"
   ]
  },
  {
   "cell_type": "code",
   "execution_count": 6,
   "metadata": {},
   "outputs": [],
   "source": [
    "schema = dj.schema('kui_diffusionmap')\n",
    "schema.spawn_missing_classes()"
   ]
  },
  {
   "cell_type": "markdown",
   "metadata": {},
   "source": [
    "## Create tables"
   ]
  },
  {
   "cell_type": "code",
   "execution_count": 7,
   "metadata": {},
   "outputs": [
    {
     "name": "stdout",
     "output_type": "stream",
     "text": [
      "`kui_diffusionmap`.`structure` (28 tuples)\n",
      "Proceed? [yes, No]: yes\n",
      "Tables dropped.  Restart kernel.\n"
     ]
    }
   ],
   "source": [
    "Structure.drop()"
   ]
  },
  {
   "cell_type": "code",
   "execution_count": 8,
   "metadata": {},
   "outputs": [],
   "source": [
    "@schema\n",
    "class Structure(dj.Manual):\n",
    "    definition = \"\"\"\n",
    "    id  : int   # sequence\n",
    "    --------\n",
    "    structure       : char(10)    # name of mouse brain's structure\n",
    "    positive_s3_fp  : varchar(200)  # (str) file path\n",
    "    negative_s3_fp  : varchar(200)  # (str) file path\n",
    "    \"\"\"\n",
    "#     positive_img_fp  : varchar(200)  # (str) file path\n",
    "#     negative_img_fp  : varchar(200)  # (str) file path\n"
   ]
  },
  {
   "cell_type": "code",
   "execution_count": 9,
   "metadata": {},
   "outputs": [
    {
     "name": "stdout",
     "output_type": "stream",
     "text": [
      "CSHL_regions_features/MD589/\n"
     ]
    }
   ],
   "source": [
    "paired_structures = ['5N', '6N', '7N', '7n', 'Amb', 'LC', 'LRt', 'Pn', 'Tz', 'VLL', 'RMC', \\\n",
    "                     'SNC', 'SNR', '3N', '4N', 'Sp5I', 'Sp5O', 'Sp5C', 'PBG', '10N', 'VCA', 'VCP', 'DC']\n",
    "singular_structures = ['AP', '12N', 'RtTg', 'SC', 'IC']\n",
    "all_structures = paired_structures + singular_structures\n",
    "stack = 'MD589'\n",
    "s3_fp = 'CSHL_regions_features/'+stack+'/' #s3://mousebrainatlas-data/\n",
    "print(s3_fp)"
   ]
  },
  {
   "cell_type": "code",
   "execution_count": 10,
   "metadata": {},
   "outputs": [
    {
     "name": "stdout",
     "output_type": "stream",
     "text": [
      "\n",
      "Adding 5N to the database\n",
      "\n",
      "Adding 6N to the database\n",
      "\n",
      "Adding 7N to the database\n",
      "\n",
      "Adding 7n to the database\n",
      "\n",
      "Adding Amb to the database\n",
      "\n",
      "Adding LC to the database\n",
      "\n",
      "Adding LRt to the database\n",
      "\n",
      "Adding Pn to the database\n",
      "\n",
      "Adding Tz to the database\n",
      "\n",
      "Adding VLL to the database\n",
      "\n",
      "Adding RMC to the database\n",
      "\n",
      "Adding SNC to the database\n",
      "\n",
      "Adding SNR to the database\n",
      "\n",
      "Adding 3N to the database\n",
      "\n",
      "Adding 4N to the database\n",
      "\n",
      "Adding Sp5I to the database\n",
      "\n",
      "Adding Sp5O to the database\n",
      "\n",
      "Adding Sp5C to the database\n",
      "\n",
      "Adding PBG to the database\n",
      "\n",
      "Adding 10N to the database\n",
      "\n",
      "Adding VCA to the database\n",
      "\n",
      "Adding VCP to the database\n",
      "\n",
      "Adding DC to the database\n",
      "\n",
      "Adding AP to the database\n",
      "\n",
      "Adding 12N to the database\n",
      "\n",
      "Adding RtTg to the database\n",
      "\n",
      "Adding SC to the database\n",
      "\n",
      "Adding IC to the database\n"
     ]
    }
   ],
   "source": [
    "n=0\n",
    "for struc in all_structures:\n",
    "    print(\"\\nAdding \"+struc+' to the database')\n",
    "    Structure.insert1(dict(id=n,\n",
    "                           structure=struc,\n",
    "                          positive_s3_fp=s3_fp+struc+'/'+stack+'_'+struc+'_positive.pkl',\n",
    "                          negative_s3_fp=s3_fp+struc+'/'+stack+'_'+struc+'_negative.pkl',)\n",
    "                     ,skip_duplicates=False)\n",
    "    n+=1"
   ]
  },
  {
   "cell_type": "code",
   "execution_count": 15,
   "metadata": {},
   "outputs": [
    {
     "name": "stdout",
     "output_type": "stream",
     "text": [
      "\n",
      "Adding 5N to the database\n",
      "\n",
      "Adding 6N to the database\n",
      "\n",
      "Adding 7N to the database\n",
      "\n",
      "Adding 7n to the database\n",
      "\n",
      "Adding Amb to the database\n",
      "\n",
      "Adding LC to the database\n",
      "\n",
      "Adding LRt to the database\n",
      "\n",
      "Adding Pn to the database\n",
      "\n",
      "Adding Tz to the database\n",
      "\n",
      "Adding VLL to the database\n",
      "\n",
      "Adding RMC to the database\n",
      "\n",
      "Adding SNC to the database\n",
      "\n",
      "Adding SNR to the database\n",
      "\n",
      "Adding 3N to the database\n",
      "\n",
      "Adding 4N to the database\n",
      "\n",
      "Adding Sp5I to the database\n",
      "\n",
      "Adding Sp5O to the database\n",
      "\n",
      "Adding Sp5C to the database\n",
      "\n",
      "Adding PBG to the database\n",
      "\n",
      "Adding 10N to the database\n",
      "\n",
      "Adding VCA to the database\n",
      "\n",
      "Adding VCP to the database\n",
      "\n",
      "Adding DC to the database\n",
      "\n",
      "Adding AP to the database\n",
      "\n",
      "Adding 12N to the database\n",
      "\n",
      "Adding RtTg to the database\n",
      "\n",
      "Adding SC to the database\n",
      "\n",
      "Adding IC to the database\n"
     ]
    }
   ],
   "source": [
    "n=0\n",
    "for struc in all_structures:\n",
    "    print(\"\\nAdding \"+struc+' to the database')\n",
    "    Structure.insert1(dict(id=n,\n",
    "                           structure=struc,\n",
    "                          positive_s3_fp=s3_fp+'Properties/'+struc+'/'+stack+'_'+struc+'_positive.pkl',\n",
    "                          negative_s3_fp=s3_fp+'Properties/'+struc+'/'+stack+'_'+struc+'_negative.pkl',\n",
    "                          positive_img_fp=s3_fp+'Images/'+struc+'/'+stack+'_'+struc+'_positive_images.pkl',\n",
    "                          negative_img_fp=s3_fp+'Images/'+struc+'/'+stack+'_'+struc+'_negative_images.pkl')\n",
    "                     ,skip_duplicates=False)\n",
    "    n+=1\n"
   ]
  },
  {
   "cell_type": "code",
   "execution_count": 11,
   "metadata": {},
   "outputs": [
    {
     "data": {
      "text/html": [
       "<div>\n",
       "<style scoped>\n",
       "    .dataframe tbody tr th:only-of-type {\n",
       "        vertical-align: middle;\n",
       "    }\n",
       "\n",
       "    .dataframe tbody tr th {\n",
       "        vertical-align: top;\n",
       "    }\n",
       "\n",
       "    .dataframe thead th {\n",
       "        text-align: right;\n",
       "    }\n",
       "</style>\n",
       "<table border=\"1\" class=\"dataframe\">\n",
       "  <thead>\n",
       "    <tr style=\"text-align: right;\">\n",
       "      <th></th>\n",
       "      <th>id</th>\n",
       "      <th>structure</th>\n",
       "      <th>positive_s3_fp</th>\n",
       "      <th>negative_s3_fp</th>\n",
       "    </tr>\n",
       "  </thead>\n",
       "  <tbody>\n",
       "    <tr>\n",
       "      <th>0</th>\n",
       "      <td>0</td>\n",
       "      <td>5N</td>\n",
       "      <td>CSHL_regions_features/MD589/5N/MD589_5N_positi...</td>\n",
       "      <td>CSHL_regions_features/MD589/5N/MD589_5N_negati...</td>\n",
       "    </tr>\n",
       "    <tr>\n",
       "      <th>1</th>\n",
       "      <td>1</td>\n",
       "      <td>6N</td>\n",
       "      <td>CSHL_regions_features/MD589/6N/MD589_6N_positi...</td>\n",
       "      <td>CSHL_regions_features/MD589/6N/MD589_6N_negati...</td>\n",
       "    </tr>\n",
       "    <tr>\n",
       "      <th>2</th>\n",
       "      <td>2</td>\n",
       "      <td>7N</td>\n",
       "      <td>CSHL_regions_features/MD589/7N/MD589_7N_positi...</td>\n",
       "      <td>CSHL_regions_features/MD589/7N/MD589_7N_negati...</td>\n",
       "    </tr>\n",
       "    <tr>\n",
       "      <th>3</th>\n",
       "      <td>3</td>\n",
       "      <td>7n</td>\n",
       "      <td>CSHL_regions_features/MD589/7n/MD589_7n_positi...</td>\n",
       "      <td>CSHL_regions_features/MD589/7n/MD589_7n_negati...</td>\n",
       "    </tr>\n",
       "    <tr>\n",
       "      <th>4</th>\n",
       "      <td>4</td>\n",
       "      <td>Amb</td>\n",
       "      <td>CSHL_regions_features/MD589/Amb/MD589_Amb_posi...</td>\n",
       "      <td>CSHL_regions_features/MD589/Amb/MD589_Amb_nega...</td>\n",
       "    </tr>\n",
       "    <tr>\n",
       "      <th>5</th>\n",
       "      <td>5</td>\n",
       "      <td>LC</td>\n",
       "      <td>CSHL_regions_features/MD589/LC/MD589_LC_positi...</td>\n",
       "      <td>CSHL_regions_features/MD589/LC/MD589_LC_negati...</td>\n",
       "    </tr>\n",
       "    <tr>\n",
       "      <th>6</th>\n",
       "      <td>6</td>\n",
       "      <td>LRt</td>\n",
       "      <td>CSHL_regions_features/MD589/LRt/MD589_LRt_posi...</td>\n",
       "      <td>CSHL_regions_features/MD589/LRt/MD589_LRt_nega...</td>\n",
       "    </tr>\n",
       "    <tr>\n",
       "      <th>7</th>\n",
       "      <td>7</td>\n",
       "      <td>Pn</td>\n",
       "      <td>CSHL_regions_features/MD589/Pn/MD589_Pn_positi...</td>\n",
       "      <td>CSHL_regions_features/MD589/Pn/MD589_Pn_negati...</td>\n",
       "    </tr>\n",
       "    <tr>\n",
       "      <th>8</th>\n",
       "      <td>8</td>\n",
       "      <td>Tz</td>\n",
       "      <td>CSHL_regions_features/MD589/Tz/MD589_Tz_positi...</td>\n",
       "      <td>CSHL_regions_features/MD589/Tz/MD589_Tz_negati...</td>\n",
       "    </tr>\n",
       "    <tr>\n",
       "      <th>9</th>\n",
       "      <td>9</td>\n",
       "      <td>VLL</td>\n",
       "      <td>CSHL_regions_features/MD589/VLL/MD589_VLL_posi...</td>\n",
       "      <td>CSHL_regions_features/MD589/VLL/MD589_VLL_nega...</td>\n",
       "    </tr>\n",
       "    <tr>\n",
       "      <th>10</th>\n",
       "      <td>10</td>\n",
       "      <td>RMC</td>\n",
       "      <td>CSHL_regions_features/MD589/RMC/MD589_RMC_posi...</td>\n",
       "      <td>CSHL_regions_features/MD589/RMC/MD589_RMC_nega...</td>\n",
       "    </tr>\n",
       "    <tr>\n",
       "      <th>11</th>\n",
       "      <td>11</td>\n",
       "      <td>SNC</td>\n",
       "      <td>CSHL_regions_features/MD589/SNC/MD589_SNC_posi...</td>\n",
       "      <td>CSHL_regions_features/MD589/SNC/MD589_SNC_nega...</td>\n",
       "    </tr>\n",
       "    <tr>\n",
       "      <th>12</th>\n",
       "      <td>12</td>\n",
       "      <td>SNR</td>\n",
       "      <td>CSHL_regions_features/MD589/SNR/MD589_SNR_posi...</td>\n",
       "      <td>CSHL_regions_features/MD589/SNR/MD589_SNR_nega...</td>\n",
       "    </tr>\n",
       "    <tr>\n",
       "      <th>13</th>\n",
       "      <td>13</td>\n",
       "      <td>3N</td>\n",
       "      <td>CSHL_regions_features/MD589/3N/MD589_3N_positi...</td>\n",
       "      <td>CSHL_regions_features/MD589/3N/MD589_3N_negati...</td>\n",
       "    </tr>\n",
       "    <tr>\n",
       "      <th>14</th>\n",
       "      <td>14</td>\n",
       "      <td>4N</td>\n",
       "      <td>CSHL_regions_features/MD589/4N/MD589_4N_positi...</td>\n",
       "      <td>CSHL_regions_features/MD589/4N/MD589_4N_negati...</td>\n",
       "    </tr>\n",
       "    <tr>\n",
       "      <th>15</th>\n",
       "      <td>15</td>\n",
       "      <td>Sp5I</td>\n",
       "      <td>CSHL_regions_features/MD589/Sp5I/MD589_Sp5I_po...</td>\n",
       "      <td>CSHL_regions_features/MD589/Sp5I/MD589_Sp5I_ne...</td>\n",
       "    </tr>\n",
       "    <tr>\n",
       "      <th>16</th>\n",
       "      <td>16</td>\n",
       "      <td>Sp5O</td>\n",
       "      <td>CSHL_regions_features/MD589/Sp5O/MD589_Sp5O_po...</td>\n",
       "      <td>CSHL_regions_features/MD589/Sp5O/MD589_Sp5O_ne...</td>\n",
       "    </tr>\n",
       "    <tr>\n",
       "      <th>17</th>\n",
       "      <td>17</td>\n",
       "      <td>Sp5C</td>\n",
       "      <td>CSHL_regions_features/MD589/Sp5C/MD589_Sp5C_po...</td>\n",
       "      <td>CSHL_regions_features/MD589/Sp5C/MD589_Sp5C_ne...</td>\n",
       "    </tr>\n",
       "    <tr>\n",
       "      <th>18</th>\n",
       "      <td>18</td>\n",
       "      <td>PBG</td>\n",
       "      <td>CSHL_regions_features/MD589/PBG/MD589_PBG_posi...</td>\n",
       "      <td>CSHL_regions_features/MD589/PBG/MD589_PBG_nega...</td>\n",
       "    </tr>\n",
       "    <tr>\n",
       "      <th>19</th>\n",
       "      <td>19</td>\n",
       "      <td>10N</td>\n",
       "      <td>CSHL_regions_features/MD589/10N/MD589_10N_posi...</td>\n",
       "      <td>CSHL_regions_features/MD589/10N/MD589_10N_nega...</td>\n",
       "    </tr>\n",
       "    <tr>\n",
       "      <th>20</th>\n",
       "      <td>20</td>\n",
       "      <td>VCA</td>\n",
       "      <td>CSHL_regions_features/MD589/VCA/MD589_VCA_posi...</td>\n",
       "      <td>CSHL_regions_features/MD589/VCA/MD589_VCA_nega...</td>\n",
       "    </tr>\n",
       "    <tr>\n",
       "      <th>21</th>\n",
       "      <td>21</td>\n",
       "      <td>VCP</td>\n",
       "      <td>CSHL_regions_features/MD589/VCP/MD589_VCP_posi...</td>\n",
       "      <td>CSHL_regions_features/MD589/VCP/MD589_VCP_nega...</td>\n",
       "    </tr>\n",
       "    <tr>\n",
       "      <th>22</th>\n",
       "      <td>22</td>\n",
       "      <td>DC</td>\n",
       "      <td>CSHL_regions_features/MD589/DC/MD589_DC_positi...</td>\n",
       "      <td>CSHL_regions_features/MD589/DC/MD589_DC_negati...</td>\n",
       "    </tr>\n",
       "    <tr>\n",
       "      <th>23</th>\n",
       "      <td>23</td>\n",
       "      <td>AP</td>\n",
       "      <td>CSHL_regions_features/MD589/AP/MD589_AP_positi...</td>\n",
       "      <td>CSHL_regions_features/MD589/AP/MD589_AP_negati...</td>\n",
       "    </tr>\n",
       "    <tr>\n",
       "      <th>24</th>\n",
       "      <td>24</td>\n",
       "      <td>12N</td>\n",
       "      <td>CSHL_regions_features/MD589/12N/MD589_12N_posi...</td>\n",
       "      <td>CSHL_regions_features/MD589/12N/MD589_12N_nega...</td>\n",
       "    </tr>\n",
       "    <tr>\n",
       "      <th>25</th>\n",
       "      <td>25</td>\n",
       "      <td>RtTg</td>\n",
       "      <td>CSHL_regions_features/MD589/RtTg/MD589_RtTg_po...</td>\n",
       "      <td>CSHL_regions_features/MD589/RtTg/MD589_RtTg_ne...</td>\n",
       "    </tr>\n",
       "    <tr>\n",
       "      <th>26</th>\n",
       "      <td>26</td>\n",
       "      <td>SC</td>\n",
       "      <td>CSHL_regions_features/MD589/SC/MD589_SC_positi...</td>\n",
       "      <td>CSHL_regions_features/MD589/SC/MD589_SC_negati...</td>\n",
       "    </tr>\n",
       "    <tr>\n",
       "      <th>27</th>\n",
       "      <td>27</td>\n",
       "      <td>IC</td>\n",
       "      <td>CSHL_regions_features/MD589/IC/MD589_IC_positi...</td>\n",
       "      <td>CSHL_regions_features/MD589/IC/MD589_IC_negati...</td>\n",
       "    </tr>\n",
       "  </tbody>\n",
       "</table>\n",
       "</div>"
      ],
      "text/plain": [
       "    id structure                                     positive_s3_fp  \\\n",
       "0    0        5N  CSHL_regions_features/MD589/5N/MD589_5N_positi...   \n",
       "1    1        6N  CSHL_regions_features/MD589/6N/MD589_6N_positi...   \n",
       "2    2        7N  CSHL_regions_features/MD589/7N/MD589_7N_positi...   \n",
       "3    3        7n  CSHL_regions_features/MD589/7n/MD589_7n_positi...   \n",
       "4    4       Amb  CSHL_regions_features/MD589/Amb/MD589_Amb_posi...   \n",
       "5    5        LC  CSHL_regions_features/MD589/LC/MD589_LC_positi...   \n",
       "6    6       LRt  CSHL_regions_features/MD589/LRt/MD589_LRt_posi...   \n",
       "7    7        Pn  CSHL_regions_features/MD589/Pn/MD589_Pn_positi...   \n",
       "8    8        Tz  CSHL_regions_features/MD589/Tz/MD589_Tz_positi...   \n",
       "9    9       VLL  CSHL_regions_features/MD589/VLL/MD589_VLL_posi...   \n",
       "10  10       RMC  CSHL_regions_features/MD589/RMC/MD589_RMC_posi...   \n",
       "11  11       SNC  CSHL_regions_features/MD589/SNC/MD589_SNC_posi...   \n",
       "12  12       SNR  CSHL_regions_features/MD589/SNR/MD589_SNR_posi...   \n",
       "13  13        3N  CSHL_regions_features/MD589/3N/MD589_3N_positi...   \n",
       "14  14        4N  CSHL_regions_features/MD589/4N/MD589_4N_positi...   \n",
       "15  15      Sp5I  CSHL_regions_features/MD589/Sp5I/MD589_Sp5I_po...   \n",
       "16  16      Sp5O  CSHL_regions_features/MD589/Sp5O/MD589_Sp5O_po...   \n",
       "17  17      Sp5C  CSHL_regions_features/MD589/Sp5C/MD589_Sp5C_po...   \n",
       "18  18       PBG  CSHL_regions_features/MD589/PBG/MD589_PBG_posi...   \n",
       "19  19       10N  CSHL_regions_features/MD589/10N/MD589_10N_posi...   \n",
       "20  20       VCA  CSHL_regions_features/MD589/VCA/MD589_VCA_posi...   \n",
       "21  21       VCP  CSHL_regions_features/MD589/VCP/MD589_VCP_posi...   \n",
       "22  22        DC  CSHL_regions_features/MD589/DC/MD589_DC_positi...   \n",
       "23  23        AP  CSHL_regions_features/MD589/AP/MD589_AP_positi...   \n",
       "24  24       12N  CSHL_regions_features/MD589/12N/MD589_12N_posi...   \n",
       "25  25      RtTg  CSHL_regions_features/MD589/RtTg/MD589_RtTg_po...   \n",
       "26  26        SC  CSHL_regions_features/MD589/SC/MD589_SC_positi...   \n",
       "27  27        IC  CSHL_regions_features/MD589/IC/MD589_IC_positi...   \n",
       "\n",
       "                                       negative_s3_fp  \n",
       "0   CSHL_regions_features/MD589/5N/MD589_5N_negati...  \n",
       "1   CSHL_regions_features/MD589/6N/MD589_6N_negati...  \n",
       "2   CSHL_regions_features/MD589/7N/MD589_7N_negati...  \n",
       "3   CSHL_regions_features/MD589/7n/MD589_7n_negati...  \n",
       "4   CSHL_regions_features/MD589/Amb/MD589_Amb_nega...  \n",
       "5   CSHL_regions_features/MD589/LC/MD589_LC_negati...  \n",
       "6   CSHL_regions_features/MD589/LRt/MD589_LRt_nega...  \n",
       "7   CSHL_regions_features/MD589/Pn/MD589_Pn_negati...  \n",
       "8   CSHL_regions_features/MD589/Tz/MD589_Tz_negati...  \n",
       "9   CSHL_regions_features/MD589/VLL/MD589_VLL_nega...  \n",
       "10  CSHL_regions_features/MD589/RMC/MD589_RMC_nega...  \n",
       "11  CSHL_regions_features/MD589/SNC/MD589_SNC_nega...  \n",
       "12  CSHL_regions_features/MD589/SNR/MD589_SNR_nega...  \n",
       "13  CSHL_regions_features/MD589/3N/MD589_3N_negati...  \n",
       "14  CSHL_regions_features/MD589/4N/MD589_4N_negati...  \n",
       "15  CSHL_regions_features/MD589/Sp5I/MD589_Sp5I_ne...  \n",
       "16  CSHL_regions_features/MD589/Sp5O/MD589_Sp5O_ne...  \n",
       "17  CSHL_regions_features/MD589/Sp5C/MD589_Sp5C_ne...  \n",
       "18  CSHL_regions_features/MD589/PBG/MD589_PBG_nega...  \n",
       "19  CSHL_regions_features/MD589/10N/MD589_10N_nega...  \n",
       "20  CSHL_regions_features/MD589/VCA/MD589_VCA_nega...  \n",
       "21  CSHL_regions_features/MD589/VCP/MD589_VCP_nega...  \n",
       "22  CSHL_regions_features/MD589/DC/MD589_DC_negati...  \n",
       "23  CSHL_regions_features/MD589/AP/MD589_AP_negati...  \n",
       "24  CSHL_regions_features/MD589/12N/MD589_12N_nega...  \n",
       "25  CSHL_regions_features/MD589/RtTg/MD589_RtTg_ne...  \n",
       "26  CSHL_regions_features/MD589/SC/MD589_SC_negati...  \n",
       "27  CSHL_regions_features/MD589/IC/MD589_IC_negati...  "
      ]
     },
     "execution_count": 11,
     "metadata": {},
     "output_type": "execute_result"
    }
   ],
   "source": [
    "import pandas as pd\n",
    "structureTable = Structure.fetch(as_dict=True)\n",
    "strucDF = pd.DataFrame(structureTable)\n",
    "strucDF"
   ]
  },
  {
   "cell_type": "code",
   "execution_count": 11,
   "metadata": {},
   "outputs": [],
   "source": [
    "client = get_s3_client(credFiles)"
   ]
  },
  {
   "cell_type": "code",
   "execution_count": 15,
   "metadata": {},
   "outputs": [
    {
     "data": {
      "text/plain": [
       "14878904"
      ]
     },
     "execution_count": 15,
     "metadata": {},
     "output_type": "execute_result"
    }
   ],
   "source": [
    "report=client.stat_object(\"mousebrainatlas-data\",strucDF['positive_s3_fp'][1])\n",
    "report.size"
   ]
  },
  {
   "cell_type": "code",
   "execution_count": 53,
   "metadata": {},
   "outputs": [],
   "source": [
    "sys.path.append('../lib')\n",
    "from utils import run"
   ]
  },
  {
   "cell_type": "code",
   "execution_count": 18,
   "metadata": {},
   "outputs": [
    {
     "ename": "NameError",
     "evalue": "name 'run' is not defined",
     "output_type": "error",
     "traceback": [
      "\u001b[0;31m---------------------------------------------------------------------------\u001b[0m",
      "\u001b[0;31mNameError\u001b[0m                                 Traceback (most recent call last)",
      "\u001b[0;32m<ipython-input-18-94e2c93f2310>\u001b[0m in \u001b[0;36m<module>\u001b[0;34m\u001b[0m\n\u001b[1;32m      4\u001b[0m \u001b[0mstruc\u001b[0m \u001b[0;34m=\u001b[0m \u001b[0;34m'5N'\u001b[0m\u001b[0;34m\u001b[0m\u001b[0;34m\u001b[0m\u001b[0m\n\u001b[1;32m      5\u001b[0m \u001b[0mstate\u001b[0m \u001b[0;34m=\u001b[0m \u001b[0;34m'positive'\u001b[0m\u001b[0;34m\u001b[0m\u001b[0;34m\u001b[0m\u001b[0m\n\u001b[0;32m----> 6\u001b[0;31m \u001b[0mrun\u001b[0m\u001b[0;34m(\u001b[0m\u001b[0;34m'python3 {0}/Cell_generator.py {1} {2} {3} {4}'\u001b[0m\u001b[0;34m.\u001b[0m\u001b[0mformat\u001b[0m\u001b[0;34m(\u001b[0m\u001b[0mscripts_dir\u001b[0m\u001b[0;34m,\u001b[0m \u001b[0mstack\u001b[0m\u001b[0;34m,\u001b[0m \u001b[0mstruc\u001b[0m\u001b[0;34m,\u001b[0m \u001b[0mstate\u001b[0m\u001b[0;34m,\u001b[0m \u001b[0myaml_file\u001b[0m\u001b[0;34m)\u001b[0m\u001b[0;34m)\u001b[0m\u001b[0;34m\u001b[0m\u001b[0;34m\u001b[0m\u001b[0m\n\u001b[0m",
      "\u001b[0;31mNameError\u001b[0m: name 'run' is not defined"
     ]
    }
   ],
   "source": [
    "stack = 'MD589'\n",
    "yaml_file = 'shape_params.yaml'\n",
    "scripts_dir = os.environ['REPO_DIR']\n",
    "struc = '5N'\n",
    "state = 'positive'\n",
    "run('python3 {0}/Cell_generator.py {1} {2} {3} {4}'.format(scripts_dir, stack, struc, state, yaml_file))"
   ]
  },
  {
   "cell_type": "code",
   "execution_count": 12,
   "metadata": {},
   "outputs": [
    {
     "name": "stdout",
     "output_type": "stream",
     "text": [
      "Writing test.py\n"
     ]
    }
   ],
   "source": [
    "%%writefile test.py\n",
    "print('this is me!')\n"
   ]
  },
  {
   "cell_type": "code",
   "execution_count": 13,
   "metadata": {},
   "outputs": [
    {
     "name": "stderr",
     "output_type": "stream",
     "text": [
      "ERROR:root:File `'(python test.py).py'` not found.\n"
     ]
    }
   ],
   "source": [
    "run('python test.py')"
   ]
  },
  {
   "cell_type": "code",
   "execution_count": 21,
   "metadata": {},
   "outputs": [
    {
     "name": "stdout",
     "output_type": "stream",
     "text": [
      "this is me!\r\n"
     ]
    }
   ],
   "source": [
    "!python test.py"
   ]
  },
  {
   "cell_type": "code",
   "execution_count": 16,
   "metadata": {},
   "outputs": [
    {
     "name": "stdout",
     "output_type": "stream",
     "text": [
      "this is me!\r\n"
     ]
    }
   ],
   "source": [
    "!cat output"
   ]
  },
  {
   "cell_type": "code",
   "execution_count": null,
   "metadata": {},
   "outputs": [],
   "source": []
  }
 ],
 "metadata": {
  "kernelspec": {
   "display_name": "shapeology",
   "language": "python",
   "name": "shapeology_code"
  },
  "language_info": {
   "codemirror_mode": {
    "name": "ipython",
    "version": 3
   },
   "file_extension": ".py",
   "mimetype": "text/x-python",
   "name": "python",
   "nbconvert_exporter": "python",
   "pygments_lexer": "ipython3",
   "version": "3.7.3"
  }
 },
 "nbformat": 4,
 "nbformat_minor": 2
}
