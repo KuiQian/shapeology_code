{
 "cells": [
  {
   "cell_type": "markdown",
   "metadata": {},
   "source": [
    "## Imports\n",
    "utilities.py contains a number of useful functions including loading credentials from a json file, retrieving files from S3, and defining the current list of brains that are associated with the Active Atlas."
   ]
  },
  {
   "cell_type": "code",
   "execution_count": 1,
   "metadata": {},
   "outputs": [],
   "source": [
    "import datajoint as dj\n",
    "import numpy as np\n",
    "from minio import Minio\n",
    "import json\n",
    "import yaml\n",
    "import sys, os\n",
    "\n",
    "sys.path.append('./lib')\n",
    "from utilities import *"
   ]
  },
  {
   "cell_type": "markdown",
   "metadata": {},
   "source": [
    "## Load Credentials, Connect to Database"
   ]
  },
  {
   "cell_type": "code",
   "execution_count": 2,
   "metadata": {
    "scrolled": true
   },
   "outputs": [
    {
     "name": "stdout",
     "output_type": "stream",
     "text": [
      "Writing /data/Github/VaultBrain/credFiles_aws.yaml\n"
     ]
    }
   ],
   "source": [
    "%%writefile /data/Github/VaultBrain/credFiles_aws.yaml\n",
    "aws_fp: /data/Github/VaultBrain/s3-creds.json\n",
    "dj_fp: /data/Github/VaultBrain/dj_local_conf.json"
   ]
  },
  {
   "cell_type": "code",
   "execution_count": 6,
   "metadata": {},
   "outputs": [
    {
     "name": "stdout",
     "output_type": "stream",
     "text": [
      "Writing /Users/kuiqian/Github/VaultBrain/credFiles.yaml\n"
     ]
    }
   ],
   "source": [
    "%%writefile /Users/kuiqian/Github/VaultBrain/credFiles.yaml\n",
    "aws_fp: /Users/kuiqian/Github/VaultBrain/s3-creds.json\n",
    "dj_fp: /Users/kuiqian/Github/VaultBrain/dj_local_conf.json"
   ]
  },
  {
   "cell_type": "code",
   "execution_count": 3,
   "metadata": {},
   "outputs": [],
   "source": [
    "credFiles='/data/Github/VaultBrain/credFiles_aws.yaml'\n",
    "#'/Users/kuiqian/Github/VaultBrain/credFiles.yaml'"
   ]
  },
  {
   "cell_type": "code",
   "execution_count": 4,
   "metadata": {},
   "outputs": [
    {
     "name": "stderr",
     "output_type": "stream",
     "text": [
      "./lib/utilities.py:14: YAMLLoadWarning: calling yaml.load() without Loader=... is deprecated, as the default Loader is unsafe. Please read https://msg.pyyaml.org/load for full details.\n",
      "  credFiles = yaml.load(open( credential_file_pointers,'r'))\n"
     ]
    }
   ],
   "source": [
    "dj.config['database.host'] = get_dj_creds(credFiles)['database.host']\n",
    "dj.config['database.user'] = get_dj_creds(credFiles)['database.user']\n",
    "dj.config['database.port'] = get_dj_creds(credFiles)['database.port']\n",
    "dj.config['database.password'] = get_dj_creds(credFiles)['database.password']\n",
    "#dj.config.save_local()"
   ]
  },
  {
   "cell_type": "code",
   "execution_count": 5,
   "metadata": {},
   "outputs": [
    {
     "name": "stdout",
     "output_type": "stream",
     "text": [
      "Connecting kui@ucsd-demo-db.datajoint.io:3306\n"
     ]
    },
    {
     "data": {
      "text/plain": [
       "DataJoint connection (connected) kui@ucsd-demo-db.datajoint.io:3306"
      ]
     },
     "execution_count": 5,
     "metadata": {},
     "output_type": "execute_result"
    }
   ],
   "source": [
    "dj.conn()"
   ]
  },
  {
   "cell_type": "code",
   "execution_count": 6,
   "metadata": {},
   "outputs": [],
   "source": [
    "schema = dj.schema('kui_diffusionmap')\n",
    "schema.spawn_missing_classes()"
   ]
  },
  {
   "cell_type": "markdown",
   "metadata": {},
   "source": [
    "## Create tables"
   ]
  },
  {
   "cell_type": "code",
   "execution_count": 12,
   "metadata": {},
   "outputs": [
    {
     "name": "stdout",
     "output_type": "stream",
     "text": [
      "`kui_diffusionmap`.`structure` (28 tuples)\n",
      "Proceed? [yes, No]: yes\n",
      "Tables dropped.  Restart kernel.\n"
     ]
    }
   ],
   "source": [
    "Structure.drop()"
   ]
  },
  {
   "cell_type": "code",
   "execution_count": 13,
   "metadata": {},
   "outputs": [],
   "source": [
    "@schema\n",
    "class Structure(dj.Manual):\n",
    "    definition = \"\"\"\n",
    "    id  : int   # sequence\n",
    "    --------\n",
    "    structure       : char(10)    # name of mouse brain's structure\n",
    "    positive_s3_fp  : varchar(200)  # (str) file path\n",
    "    negative_s3_fp  : varchar(200)  # (str) file path\n",
    "    positive_img_fp  : varchar(200)  # (str) file path\n",
    "    negative_img_fp  : varchar(200)  # (str) file path\n",
    "    \"\"\"\n"
   ]
  },
  {
   "cell_type": "code",
   "execution_count": 14,
   "metadata": {},
   "outputs": [
    {
     "name": "stdout",
     "output_type": "stream",
     "text": [
      "CSHL_cells_features/MD589/\n"
     ]
    }
   ],
   "source": [
    "paired_structures = ['5N', '6N', '7N', '7n', 'Amb', 'LC', 'LRt', 'Pn', 'Tz', 'VLL', 'RMC', \\\n",
    "                     'SNC', 'SNR', '3N', '4N', 'Sp5I', 'Sp5O', 'Sp5C', 'PBG', '10N', 'VCA', 'VCP', 'DC']\n",
    "singular_structures = ['AP', '12N', 'RtTg', 'SC', 'IC']\n",
    "all_structures = paired_structures + singular_structures\n",
    "stack = 'MD589'\n",
    "s3_fp = 'CSHL_cells_features/'+stack+'/' #s3://mousebrainatlas-data/\n",
    "print(s3_fp)"
   ]
  },
  {
   "cell_type": "code",
   "execution_count": 15,
   "metadata": {},
   "outputs": [
    {
     "name": "stdout",
     "output_type": "stream",
     "text": [
      "\n",
      "Adding 5N to the database\n",
      "\n",
      "Adding 6N to the database\n",
      "\n",
      "Adding 7N to the database\n",
      "\n",
      "Adding 7n to the database\n",
      "\n",
      "Adding Amb to the database\n",
      "\n",
      "Adding LC to the database\n",
      "\n",
      "Adding LRt to the database\n",
      "\n",
      "Adding Pn to the database\n",
      "\n",
      "Adding Tz to the database\n",
      "\n",
      "Adding VLL to the database\n",
      "\n",
      "Adding RMC to the database\n",
      "\n",
      "Adding SNC to the database\n",
      "\n",
      "Adding SNR to the database\n",
      "\n",
      "Adding 3N to the database\n",
      "\n",
      "Adding 4N to the database\n",
      "\n",
      "Adding Sp5I to the database\n",
      "\n",
      "Adding Sp5O to the database\n",
      "\n",
      "Adding Sp5C to the database\n",
      "\n",
      "Adding PBG to the database\n",
      "\n",
      "Adding 10N to the database\n",
      "\n",
      "Adding VCA to the database\n",
      "\n",
      "Adding VCP to the database\n",
      "\n",
      "Adding DC to the database\n",
      "\n",
      "Adding AP to the database\n",
      "\n",
      "Adding 12N to the database\n",
      "\n",
      "Adding RtTg to the database\n",
      "\n",
      "Adding SC to the database\n",
      "\n",
      "Adding IC to the database\n"
     ]
    }
   ],
   "source": [
    "n=0\n",
    "for struc in all_structures:\n",
    "    print(\"\\nAdding \"+struc+' to the database')\n",
    "    Structure.insert1(dict(id=n,\n",
    "                           structure=struc,\n",
    "                          positive_s3_fp=s3_fp+'Properties/'+struc+'/'+stack+'_'+struc+'_positive.pkl',\n",
    "                          negative_s3_fp=s3_fp+'Properties/'+struc+'/'+stack+'_'+struc+'_negative.pkl',\n",
    "                          positive_img_fp=s3_fp+'Images/'+struc+'/'+stack+'_'+struc+'_positive_images.pkl',\n",
    "                          negative_img_fp=s3_fp+'Images/'+struc+'/'+stack+'_'+struc+'_negative_images.pkl')\n",
    "                     ,skip_duplicates=False)\n",
    "    n+=1\n"
   ]
  },
  {
   "cell_type": "code",
   "execution_count": 16,
   "metadata": {},
   "outputs": [
    {
     "data": {
      "text/html": [
       "<div>\n",
       "<style scoped>\n",
       "    .dataframe tbody tr th:only-of-type {\n",
       "        vertical-align: middle;\n",
       "    }\n",
       "\n",
       "    .dataframe tbody tr th {\n",
       "        vertical-align: top;\n",
       "    }\n",
       "\n",
       "    .dataframe thead th {\n",
       "        text-align: right;\n",
       "    }\n",
       "</style>\n",
       "<table border=\"1\" class=\"dataframe\">\n",
       "  <thead>\n",
       "    <tr style=\"text-align: right;\">\n",
       "      <th></th>\n",
       "      <th>id</th>\n",
       "      <th>structure</th>\n",
       "      <th>positive_s3_fp</th>\n",
       "      <th>negative_s3_fp</th>\n",
       "      <th>positive_img_fp</th>\n",
       "      <th>negative_img_fp</th>\n",
       "    </tr>\n",
       "  </thead>\n",
       "  <tbody>\n",
       "    <tr>\n",
       "      <th>0</th>\n",
       "      <td>0</td>\n",
       "      <td>5N</td>\n",
       "      <td>CSHL_cells_features/MD589/Properties/5N/MD589_...</td>\n",
       "      <td>CSHL_cells_features/MD589/Properties/5N/MD589_...</td>\n",
       "      <td>CSHL_cells_features/MD589/Images/5N/MD589_5N_p...</td>\n",
       "      <td>CSHL_cells_features/MD589/Images/5N/MD589_5N_n...</td>\n",
       "    </tr>\n",
       "    <tr>\n",
       "      <th>1</th>\n",
       "      <td>1</td>\n",
       "      <td>6N</td>\n",
       "      <td>CSHL_cells_features/MD589/Properties/6N/MD589_...</td>\n",
       "      <td>CSHL_cells_features/MD589/Properties/6N/MD589_...</td>\n",
       "      <td>CSHL_cells_features/MD589/Images/6N/MD589_6N_p...</td>\n",
       "      <td>CSHL_cells_features/MD589/Images/6N/MD589_6N_n...</td>\n",
       "    </tr>\n",
       "    <tr>\n",
       "      <th>2</th>\n",
       "      <td>2</td>\n",
       "      <td>7N</td>\n",
       "      <td>CSHL_cells_features/MD589/Properties/7N/MD589_...</td>\n",
       "      <td>CSHL_cells_features/MD589/Properties/7N/MD589_...</td>\n",
       "      <td>CSHL_cells_features/MD589/Images/7N/MD589_7N_p...</td>\n",
       "      <td>CSHL_cells_features/MD589/Images/7N/MD589_7N_n...</td>\n",
       "    </tr>\n",
       "    <tr>\n",
       "      <th>3</th>\n",
       "      <td>3</td>\n",
       "      <td>7n</td>\n",
       "      <td>CSHL_cells_features/MD589/Properties/7n/MD589_...</td>\n",
       "      <td>CSHL_cells_features/MD589/Properties/7n/MD589_...</td>\n",
       "      <td>CSHL_cells_features/MD589/Images/7n/MD589_7n_p...</td>\n",
       "      <td>CSHL_cells_features/MD589/Images/7n/MD589_7n_n...</td>\n",
       "    </tr>\n",
       "    <tr>\n",
       "      <th>4</th>\n",
       "      <td>4</td>\n",
       "      <td>Amb</td>\n",
       "      <td>CSHL_cells_features/MD589/Properties/Amb/MD589...</td>\n",
       "      <td>CSHL_cells_features/MD589/Properties/Amb/MD589...</td>\n",
       "      <td>CSHL_cells_features/MD589/Images/Amb/MD589_Amb...</td>\n",
       "      <td>CSHL_cells_features/MD589/Images/Amb/MD589_Amb...</td>\n",
       "    </tr>\n",
       "    <tr>\n",
       "      <th>5</th>\n",
       "      <td>5</td>\n",
       "      <td>LC</td>\n",
       "      <td>CSHL_cells_features/MD589/Properties/LC/MD589_...</td>\n",
       "      <td>CSHL_cells_features/MD589/Properties/LC/MD589_...</td>\n",
       "      <td>CSHL_cells_features/MD589/Images/LC/MD589_LC_p...</td>\n",
       "      <td>CSHL_cells_features/MD589/Images/LC/MD589_LC_n...</td>\n",
       "    </tr>\n",
       "    <tr>\n",
       "      <th>6</th>\n",
       "      <td>6</td>\n",
       "      <td>LRt</td>\n",
       "      <td>CSHL_cells_features/MD589/Properties/LRt/MD589...</td>\n",
       "      <td>CSHL_cells_features/MD589/Properties/LRt/MD589...</td>\n",
       "      <td>CSHL_cells_features/MD589/Images/LRt/MD589_LRt...</td>\n",
       "      <td>CSHL_cells_features/MD589/Images/LRt/MD589_LRt...</td>\n",
       "    </tr>\n",
       "    <tr>\n",
       "      <th>7</th>\n",
       "      <td>7</td>\n",
       "      <td>Pn</td>\n",
       "      <td>CSHL_cells_features/MD589/Properties/Pn/MD589_...</td>\n",
       "      <td>CSHL_cells_features/MD589/Properties/Pn/MD589_...</td>\n",
       "      <td>CSHL_cells_features/MD589/Images/Pn/MD589_Pn_p...</td>\n",
       "      <td>CSHL_cells_features/MD589/Images/Pn/MD589_Pn_n...</td>\n",
       "    </tr>\n",
       "    <tr>\n",
       "      <th>8</th>\n",
       "      <td>8</td>\n",
       "      <td>Tz</td>\n",
       "      <td>CSHL_cells_features/MD589/Properties/Tz/MD589_...</td>\n",
       "      <td>CSHL_cells_features/MD589/Properties/Tz/MD589_...</td>\n",
       "      <td>CSHL_cells_features/MD589/Images/Tz/MD589_Tz_p...</td>\n",
       "      <td>CSHL_cells_features/MD589/Images/Tz/MD589_Tz_n...</td>\n",
       "    </tr>\n",
       "    <tr>\n",
       "      <th>9</th>\n",
       "      <td>9</td>\n",
       "      <td>VLL</td>\n",
       "      <td>CSHL_cells_features/MD589/Properties/VLL/MD589...</td>\n",
       "      <td>CSHL_cells_features/MD589/Properties/VLL/MD589...</td>\n",
       "      <td>CSHL_cells_features/MD589/Images/VLL/MD589_VLL...</td>\n",
       "      <td>CSHL_cells_features/MD589/Images/VLL/MD589_VLL...</td>\n",
       "    </tr>\n",
       "    <tr>\n",
       "      <th>10</th>\n",
       "      <td>10</td>\n",
       "      <td>RMC</td>\n",
       "      <td>CSHL_cells_features/MD589/Properties/RMC/MD589...</td>\n",
       "      <td>CSHL_cells_features/MD589/Properties/RMC/MD589...</td>\n",
       "      <td>CSHL_cells_features/MD589/Images/RMC/MD589_RMC...</td>\n",
       "      <td>CSHL_cells_features/MD589/Images/RMC/MD589_RMC...</td>\n",
       "    </tr>\n",
       "    <tr>\n",
       "      <th>11</th>\n",
       "      <td>11</td>\n",
       "      <td>SNC</td>\n",
       "      <td>CSHL_cells_features/MD589/Properties/SNC/MD589...</td>\n",
       "      <td>CSHL_cells_features/MD589/Properties/SNC/MD589...</td>\n",
       "      <td>CSHL_cells_features/MD589/Images/SNC/MD589_SNC...</td>\n",
       "      <td>CSHL_cells_features/MD589/Images/SNC/MD589_SNC...</td>\n",
       "    </tr>\n",
       "    <tr>\n",
       "      <th>12</th>\n",
       "      <td>12</td>\n",
       "      <td>SNR</td>\n",
       "      <td>CSHL_cells_features/MD589/Properties/SNR/MD589...</td>\n",
       "      <td>CSHL_cells_features/MD589/Properties/SNR/MD589...</td>\n",
       "      <td>CSHL_cells_features/MD589/Images/SNR/MD589_SNR...</td>\n",
       "      <td>CSHL_cells_features/MD589/Images/SNR/MD589_SNR...</td>\n",
       "    </tr>\n",
       "    <tr>\n",
       "      <th>13</th>\n",
       "      <td>13</td>\n",
       "      <td>3N</td>\n",
       "      <td>CSHL_cells_features/MD589/Properties/3N/MD589_...</td>\n",
       "      <td>CSHL_cells_features/MD589/Properties/3N/MD589_...</td>\n",
       "      <td>CSHL_cells_features/MD589/Images/3N/MD589_3N_p...</td>\n",
       "      <td>CSHL_cells_features/MD589/Images/3N/MD589_3N_n...</td>\n",
       "    </tr>\n",
       "    <tr>\n",
       "      <th>14</th>\n",
       "      <td>14</td>\n",
       "      <td>4N</td>\n",
       "      <td>CSHL_cells_features/MD589/Properties/4N/MD589_...</td>\n",
       "      <td>CSHL_cells_features/MD589/Properties/4N/MD589_...</td>\n",
       "      <td>CSHL_cells_features/MD589/Images/4N/MD589_4N_p...</td>\n",
       "      <td>CSHL_cells_features/MD589/Images/4N/MD589_4N_n...</td>\n",
       "    </tr>\n",
       "    <tr>\n",
       "      <th>15</th>\n",
       "      <td>15</td>\n",
       "      <td>Sp5I</td>\n",
       "      <td>CSHL_cells_features/MD589/Properties/Sp5I/MD58...</td>\n",
       "      <td>CSHL_cells_features/MD589/Properties/Sp5I/MD58...</td>\n",
       "      <td>CSHL_cells_features/MD589/Images/Sp5I/MD589_Sp...</td>\n",
       "      <td>CSHL_cells_features/MD589/Images/Sp5I/MD589_Sp...</td>\n",
       "    </tr>\n",
       "    <tr>\n",
       "      <th>16</th>\n",
       "      <td>16</td>\n",
       "      <td>Sp5O</td>\n",
       "      <td>CSHL_cells_features/MD589/Properties/Sp5O/MD58...</td>\n",
       "      <td>CSHL_cells_features/MD589/Properties/Sp5O/MD58...</td>\n",
       "      <td>CSHL_cells_features/MD589/Images/Sp5O/MD589_Sp...</td>\n",
       "      <td>CSHL_cells_features/MD589/Images/Sp5O/MD589_Sp...</td>\n",
       "    </tr>\n",
       "    <tr>\n",
       "      <th>17</th>\n",
       "      <td>17</td>\n",
       "      <td>Sp5C</td>\n",
       "      <td>CSHL_cells_features/MD589/Properties/Sp5C/MD58...</td>\n",
       "      <td>CSHL_cells_features/MD589/Properties/Sp5C/MD58...</td>\n",
       "      <td>CSHL_cells_features/MD589/Images/Sp5C/MD589_Sp...</td>\n",
       "      <td>CSHL_cells_features/MD589/Images/Sp5C/MD589_Sp...</td>\n",
       "    </tr>\n",
       "    <tr>\n",
       "      <th>18</th>\n",
       "      <td>18</td>\n",
       "      <td>PBG</td>\n",
       "      <td>CSHL_cells_features/MD589/Properties/PBG/MD589...</td>\n",
       "      <td>CSHL_cells_features/MD589/Properties/PBG/MD589...</td>\n",
       "      <td>CSHL_cells_features/MD589/Images/PBG/MD589_PBG...</td>\n",
       "      <td>CSHL_cells_features/MD589/Images/PBG/MD589_PBG...</td>\n",
       "    </tr>\n",
       "    <tr>\n",
       "      <th>19</th>\n",
       "      <td>19</td>\n",
       "      <td>10N</td>\n",
       "      <td>CSHL_cells_features/MD589/Properties/10N/MD589...</td>\n",
       "      <td>CSHL_cells_features/MD589/Properties/10N/MD589...</td>\n",
       "      <td>CSHL_cells_features/MD589/Images/10N/MD589_10N...</td>\n",
       "      <td>CSHL_cells_features/MD589/Images/10N/MD589_10N...</td>\n",
       "    </tr>\n",
       "    <tr>\n",
       "      <th>20</th>\n",
       "      <td>20</td>\n",
       "      <td>VCA</td>\n",
       "      <td>CSHL_cells_features/MD589/Properties/VCA/MD589...</td>\n",
       "      <td>CSHL_cells_features/MD589/Properties/VCA/MD589...</td>\n",
       "      <td>CSHL_cells_features/MD589/Images/VCA/MD589_VCA...</td>\n",
       "      <td>CSHL_cells_features/MD589/Images/VCA/MD589_VCA...</td>\n",
       "    </tr>\n",
       "    <tr>\n",
       "      <th>21</th>\n",
       "      <td>21</td>\n",
       "      <td>VCP</td>\n",
       "      <td>CSHL_cells_features/MD589/Properties/VCP/MD589...</td>\n",
       "      <td>CSHL_cells_features/MD589/Properties/VCP/MD589...</td>\n",
       "      <td>CSHL_cells_features/MD589/Images/VCP/MD589_VCP...</td>\n",
       "      <td>CSHL_cells_features/MD589/Images/VCP/MD589_VCP...</td>\n",
       "    </tr>\n",
       "    <tr>\n",
       "      <th>22</th>\n",
       "      <td>22</td>\n",
       "      <td>DC</td>\n",
       "      <td>CSHL_cells_features/MD589/Properties/DC/MD589_...</td>\n",
       "      <td>CSHL_cells_features/MD589/Properties/DC/MD589_...</td>\n",
       "      <td>CSHL_cells_features/MD589/Images/DC/MD589_DC_p...</td>\n",
       "      <td>CSHL_cells_features/MD589/Images/DC/MD589_DC_n...</td>\n",
       "    </tr>\n",
       "    <tr>\n",
       "      <th>23</th>\n",
       "      <td>23</td>\n",
       "      <td>AP</td>\n",
       "      <td>CSHL_cells_features/MD589/Properties/AP/MD589_...</td>\n",
       "      <td>CSHL_cells_features/MD589/Properties/AP/MD589_...</td>\n",
       "      <td>CSHL_cells_features/MD589/Images/AP/MD589_AP_p...</td>\n",
       "      <td>CSHL_cells_features/MD589/Images/AP/MD589_AP_n...</td>\n",
       "    </tr>\n",
       "    <tr>\n",
       "      <th>24</th>\n",
       "      <td>24</td>\n",
       "      <td>12N</td>\n",
       "      <td>CSHL_cells_features/MD589/Properties/12N/MD589...</td>\n",
       "      <td>CSHL_cells_features/MD589/Properties/12N/MD589...</td>\n",
       "      <td>CSHL_cells_features/MD589/Images/12N/MD589_12N...</td>\n",
       "      <td>CSHL_cells_features/MD589/Images/12N/MD589_12N...</td>\n",
       "    </tr>\n",
       "    <tr>\n",
       "      <th>25</th>\n",
       "      <td>25</td>\n",
       "      <td>RtTg</td>\n",
       "      <td>CSHL_cells_features/MD589/Properties/RtTg/MD58...</td>\n",
       "      <td>CSHL_cells_features/MD589/Properties/RtTg/MD58...</td>\n",
       "      <td>CSHL_cells_features/MD589/Images/RtTg/MD589_Rt...</td>\n",
       "      <td>CSHL_cells_features/MD589/Images/RtTg/MD589_Rt...</td>\n",
       "    </tr>\n",
       "    <tr>\n",
       "      <th>26</th>\n",
       "      <td>26</td>\n",
       "      <td>SC</td>\n",
       "      <td>CSHL_cells_features/MD589/Properties/SC/MD589_...</td>\n",
       "      <td>CSHL_cells_features/MD589/Properties/SC/MD589_...</td>\n",
       "      <td>CSHL_cells_features/MD589/Images/SC/MD589_SC_p...</td>\n",
       "      <td>CSHL_cells_features/MD589/Images/SC/MD589_SC_n...</td>\n",
       "    </tr>\n",
       "    <tr>\n",
       "      <th>27</th>\n",
       "      <td>27</td>\n",
       "      <td>IC</td>\n",
       "      <td>CSHL_cells_features/MD589/Properties/IC/MD589_...</td>\n",
       "      <td>CSHL_cells_features/MD589/Properties/IC/MD589_...</td>\n",
       "      <td>CSHL_cells_features/MD589/Images/IC/MD589_IC_p...</td>\n",
       "      <td>CSHL_cells_features/MD589/Images/IC/MD589_IC_n...</td>\n",
       "    </tr>\n",
       "  </tbody>\n",
       "</table>\n",
       "</div>"
      ],
      "text/plain": [
       "    id structure                                     positive_s3_fp  \\\n",
       "0    0        5N  CSHL_cells_features/MD589/Properties/5N/MD589_...   \n",
       "1    1        6N  CSHL_cells_features/MD589/Properties/6N/MD589_...   \n",
       "2    2        7N  CSHL_cells_features/MD589/Properties/7N/MD589_...   \n",
       "3    3        7n  CSHL_cells_features/MD589/Properties/7n/MD589_...   \n",
       "4    4       Amb  CSHL_cells_features/MD589/Properties/Amb/MD589...   \n",
       "5    5        LC  CSHL_cells_features/MD589/Properties/LC/MD589_...   \n",
       "6    6       LRt  CSHL_cells_features/MD589/Properties/LRt/MD589...   \n",
       "7    7        Pn  CSHL_cells_features/MD589/Properties/Pn/MD589_...   \n",
       "8    8        Tz  CSHL_cells_features/MD589/Properties/Tz/MD589_...   \n",
       "9    9       VLL  CSHL_cells_features/MD589/Properties/VLL/MD589...   \n",
       "10  10       RMC  CSHL_cells_features/MD589/Properties/RMC/MD589...   \n",
       "11  11       SNC  CSHL_cells_features/MD589/Properties/SNC/MD589...   \n",
       "12  12       SNR  CSHL_cells_features/MD589/Properties/SNR/MD589...   \n",
       "13  13        3N  CSHL_cells_features/MD589/Properties/3N/MD589_...   \n",
       "14  14        4N  CSHL_cells_features/MD589/Properties/4N/MD589_...   \n",
       "15  15      Sp5I  CSHL_cells_features/MD589/Properties/Sp5I/MD58...   \n",
       "16  16      Sp5O  CSHL_cells_features/MD589/Properties/Sp5O/MD58...   \n",
       "17  17      Sp5C  CSHL_cells_features/MD589/Properties/Sp5C/MD58...   \n",
       "18  18       PBG  CSHL_cells_features/MD589/Properties/PBG/MD589...   \n",
       "19  19       10N  CSHL_cells_features/MD589/Properties/10N/MD589...   \n",
       "20  20       VCA  CSHL_cells_features/MD589/Properties/VCA/MD589...   \n",
       "21  21       VCP  CSHL_cells_features/MD589/Properties/VCP/MD589...   \n",
       "22  22        DC  CSHL_cells_features/MD589/Properties/DC/MD589_...   \n",
       "23  23        AP  CSHL_cells_features/MD589/Properties/AP/MD589_...   \n",
       "24  24       12N  CSHL_cells_features/MD589/Properties/12N/MD589...   \n",
       "25  25      RtTg  CSHL_cells_features/MD589/Properties/RtTg/MD58...   \n",
       "26  26        SC  CSHL_cells_features/MD589/Properties/SC/MD589_...   \n",
       "27  27        IC  CSHL_cells_features/MD589/Properties/IC/MD589_...   \n",
       "\n",
       "                                       negative_s3_fp  \\\n",
       "0   CSHL_cells_features/MD589/Properties/5N/MD589_...   \n",
       "1   CSHL_cells_features/MD589/Properties/6N/MD589_...   \n",
       "2   CSHL_cells_features/MD589/Properties/7N/MD589_...   \n",
       "3   CSHL_cells_features/MD589/Properties/7n/MD589_...   \n",
       "4   CSHL_cells_features/MD589/Properties/Amb/MD589...   \n",
       "5   CSHL_cells_features/MD589/Properties/LC/MD589_...   \n",
       "6   CSHL_cells_features/MD589/Properties/LRt/MD589...   \n",
       "7   CSHL_cells_features/MD589/Properties/Pn/MD589_...   \n",
       "8   CSHL_cells_features/MD589/Properties/Tz/MD589_...   \n",
       "9   CSHL_cells_features/MD589/Properties/VLL/MD589...   \n",
       "10  CSHL_cells_features/MD589/Properties/RMC/MD589...   \n",
       "11  CSHL_cells_features/MD589/Properties/SNC/MD589...   \n",
       "12  CSHL_cells_features/MD589/Properties/SNR/MD589...   \n",
       "13  CSHL_cells_features/MD589/Properties/3N/MD589_...   \n",
       "14  CSHL_cells_features/MD589/Properties/4N/MD589_...   \n",
       "15  CSHL_cells_features/MD589/Properties/Sp5I/MD58...   \n",
       "16  CSHL_cells_features/MD589/Properties/Sp5O/MD58...   \n",
       "17  CSHL_cells_features/MD589/Properties/Sp5C/MD58...   \n",
       "18  CSHL_cells_features/MD589/Properties/PBG/MD589...   \n",
       "19  CSHL_cells_features/MD589/Properties/10N/MD589...   \n",
       "20  CSHL_cells_features/MD589/Properties/VCA/MD589...   \n",
       "21  CSHL_cells_features/MD589/Properties/VCP/MD589...   \n",
       "22  CSHL_cells_features/MD589/Properties/DC/MD589_...   \n",
       "23  CSHL_cells_features/MD589/Properties/AP/MD589_...   \n",
       "24  CSHL_cells_features/MD589/Properties/12N/MD589...   \n",
       "25  CSHL_cells_features/MD589/Properties/RtTg/MD58...   \n",
       "26  CSHL_cells_features/MD589/Properties/SC/MD589_...   \n",
       "27  CSHL_cells_features/MD589/Properties/IC/MD589_...   \n",
       "\n",
       "                                      positive_img_fp  \\\n",
       "0   CSHL_cells_features/MD589/Images/5N/MD589_5N_p...   \n",
       "1   CSHL_cells_features/MD589/Images/6N/MD589_6N_p...   \n",
       "2   CSHL_cells_features/MD589/Images/7N/MD589_7N_p...   \n",
       "3   CSHL_cells_features/MD589/Images/7n/MD589_7n_p...   \n",
       "4   CSHL_cells_features/MD589/Images/Amb/MD589_Amb...   \n",
       "5   CSHL_cells_features/MD589/Images/LC/MD589_LC_p...   \n",
       "6   CSHL_cells_features/MD589/Images/LRt/MD589_LRt...   \n",
       "7   CSHL_cells_features/MD589/Images/Pn/MD589_Pn_p...   \n",
       "8   CSHL_cells_features/MD589/Images/Tz/MD589_Tz_p...   \n",
       "9   CSHL_cells_features/MD589/Images/VLL/MD589_VLL...   \n",
       "10  CSHL_cells_features/MD589/Images/RMC/MD589_RMC...   \n",
       "11  CSHL_cells_features/MD589/Images/SNC/MD589_SNC...   \n",
       "12  CSHL_cells_features/MD589/Images/SNR/MD589_SNR...   \n",
       "13  CSHL_cells_features/MD589/Images/3N/MD589_3N_p...   \n",
       "14  CSHL_cells_features/MD589/Images/4N/MD589_4N_p...   \n",
       "15  CSHL_cells_features/MD589/Images/Sp5I/MD589_Sp...   \n",
       "16  CSHL_cells_features/MD589/Images/Sp5O/MD589_Sp...   \n",
       "17  CSHL_cells_features/MD589/Images/Sp5C/MD589_Sp...   \n",
       "18  CSHL_cells_features/MD589/Images/PBG/MD589_PBG...   \n",
       "19  CSHL_cells_features/MD589/Images/10N/MD589_10N...   \n",
       "20  CSHL_cells_features/MD589/Images/VCA/MD589_VCA...   \n",
       "21  CSHL_cells_features/MD589/Images/VCP/MD589_VCP...   \n",
       "22  CSHL_cells_features/MD589/Images/DC/MD589_DC_p...   \n",
       "23  CSHL_cells_features/MD589/Images/AP/MD589_AP_p...   \n",
       "24  CSHL_cells_features/MD589/Images/12N/MD589_12N...   \n",
       "25  CSHL_cells_features/MD589/Images/RtTg/MD589_Rt...   \n",
       "26  CSHL_cells_features/MD589/Images/SC/MD589_SC_p...   \n",
       "27  CSHL_cells_features/MD589/Images/IC/MD589_IC_p...   \n",
       "\n",
       "                                      negative_img_fp  \n",
       "0   CSHL_cells_features/MD589/Images/5N/MD589_5N_n...  \n",
       "1   CSHL_cells_features/MD589/Images/6N/MD589_6N_n...  \n",
       "2   CSHL_cells_features/MD589/Images/7N/MD589_7N_n...  \n",
       "3   CSHL_cells_features/MD589/Images/7n/MD589_7n_n...  \n",
       "4   CSHL_cells_features/MD589/Images/Amb/MD589_Amb...  \n",
       "5   CSHL_cells_features/MD589/Images/LC/MD589_LC_n...  \n",
       "6   CSHL_cells_features/MD589/Images/LRt/MD589_LRt...  \n",
       "7   CSHL_cells_features/MD589/Images/Pn/MD589_Pn_n...  \n",
       "8   CSHL_cells_features/MD589/Images/Tz/MD589_Tz_n...  \n",
       "9   CSHL_cells_features/MD589/Images/VLL/MD589_VLL...  \n",
       "10  CSHL_cells_features/MD589/Images/RMC/MD589_RMC...  \n",
       "11  CSHL_cells_features/MD589/Images/SNC/MD589_SNC...  \n",
       "12  CSHL_cells_features/MD589/Images/SNR/MD589_SNR...  \n",
       "13  CSHL_cells_features/MD589/Images/3N/MD589_3N_n...  \n",
       "14  CSHL_cells_features/MD589/Images/4N/MD589_4N_n...  \n",
       "15  CSHL_cells_features/MD589/Images/Sp5I/MD589_Sp...  \n",
       "16  CSHL_cells_features/MD589/Images/Sp5O/MD589_Sp...  \n",
       "17  CSHL_cells_features/MD589/Images/Sp5C/MD589_Sp...  \n",
       "18  CSHL_cells_features/MD589/Images/PBG/MD589_PBG...  \n",
       "19  CSHL_cells_features/MD589/Images/10N/MD589_10N...  \n",
       "20  CSHL_cells_features/MD589/Images/VCA/MD589_VCA...  \n",
       "21  CSHL_cells_features/MD589/Images/VCP/MD589_VCP...  \n",
       "22  CSHL_cells_features/MD589/Images/DC/MD589_DC_n...  \n",
       "23  CSHL_cells_features/MD589/Images/AP/MD589_AP_n...  \n",
       "24  CSHL_cells_features/MD589/Images/12N/MD589_12N...  \n",
       "25  CSHL_cells_features/MD589/Images/RtTg/MD589_Rt...  \n",
       "26  CSHL_cells_features/MD589/Images/SC/MD589_SC_n...  \n",
       "27  CSHL_cells_features/MD589/Images/IC/MD589_IC_n...  "
      ]
     },
     "execution_count": 16,
     "metadata": {},
     "output_type": "execute_result"
    }
   ],
   "source": [
    "import pandas as pd\n",
    "structureTable = Structure.fetch(as_dict=True)\n",
    "strucDF = pd.DataFrame(structureTable)\n",
    "strucDF"
   ]
  },
  {
   "cell_type": "code",
   "execution_count": 11,
   "metadata": {},
   "outputs": [],
   "source": [
    "client = get_s3_client(credFiles)"
   ]
  },
  {
   "cell_type": "code",
   "execution_count": 15,
   "metadata": {},
   "outputs": [
    {
     "data": {
      "text/plain": [
       "14878904"
      ]
     },
     "execution_count": 15,
     "metadata": {},
     "output_type": "execute_result"
    }
   ],
   "source": [
    "report=client.stat_object(\"mousebrainatlas-data\",strucDF['positive_s3_fp'][1])\n",
    "report.size"
   ]
  },
  {
   "cell_type": "code",
   "execution_count": 53,
   "metadata": {},
   "outputs": [],
   "source": [
    "sys.path.append('../lib')\n",
    "from utils import run"
   ]
  },
  {
   "cell_type": "code",
   "execution_count": 18,
   "metadata": {},
   "outputs": [
    {
     "ename": "NameError",
     "evalue": "name 'run' is not defined",
     "output_type": "error",
     "traceback": [
      "\u001b[0;31m---------------------------------------------------------------------------\u001b[0m",
      "\u001b[0;31mNameError\u001b[0m                                 Traceback (most recent call last)",
      "\u001b[0;32m<ipython-input-18-94e2c93f2310>\u001b[0m in \u001b[0;36m<module>\u001b[0;34m\u001b[0m\n\u001b[1;32m      4\u001b[0m \u001b[0mstruc\u001b[0m \u001b[0;34m=\u001b[0m \u001b[0;34m'5N'\u001b[0m\u001b[0;34m\u001b[0m\u001b[0;34m\u001b[0m\u001b[0m\n\u001b[1;32m      5\u001b[0m \u001b[0mstate\u001b[0m \u001b[0;34m=\u001b[0m \u001b[0;34m'positive'\u001b[0m\u001b[0;34m\u001b[0m\u001b[0;34m\u001b[0m\u001b[0m\n\u001b[0;32m----> 6\u001b[0;31m \u001b[0mrun\u001b[0m\u001b[0;34m(\u001b[0m\u001b[0;34m'python3 {0}/Cell_generator.py {1} {2} {3} {4}'\u001b[0m\u001b[0;34m.\u001b[0m\u001b[0mformat\u001b[0m\u001b[0;34m(\u001b[0m\u001b[0mscripts_dir\u001b[0m\u001b[0;34m,\u001b[0m \u001b[0mstack\u001b[0m\u001b[0;34m,\u001b[0m \u001b[0mstruc\u001b[0m\u001b[0;34m,\u001b[0m \u001b[0mstate\u001b[0m\u001b[0;34m,\u001b[0m \u001b[0myaml_file\u001b[0m\u001b[0;34m)\u001b[0m\u001b[0;34m)\u001b[0m\u001b[0;34m\u001b[0m\u001b[0;34m\u001b[0m\u001b[0m\n\u001b[0m",
      "\u001b[0;31mNameError\u001b[0m: name 'run' is not defined"
     ]
    }
   ],
   "source": [
    "stack = 'MD589'\n",
    "yaml_file = 'shape_params.yaml'\n",
    "scripts_dir = os.environ['REPO_DIR']\n",
    "struc = '5N'\n",
    "state = 'positive'\n",
    "run('python3 {0}/Cell_generator.py {1} {2} {3} {4}'.format(scripts_dir, stack, struc, state, yaml_file))"
   ]
  },
  {
   "cell_type": "code",
   "execution_count": 12,
   "metadata": {},
   "outputs": [
    {
     "name": "stdout",
     "output_type": "stream",
     "text": [
      "Writing test.py\n"
     ]
    }
   ],
   "source": [
    "%%writefile test.py\n",
    "print('this is me!')\n"
   ]
  },
  {
   "cell_type": "code",
   "execution_count": 13,
   "metadata": {},
   "outputs": [
    {
     "name": "stderr",
     "output_type": "stream",
     "text": [
      "ERROR:root:File `'(python test.py).py'` not found.\n"
     ]
    }
   ],
   "source": [
    "run('python test.py')"
   ]
  },
  {
   "cell_type": "code",
   "execution_count": 21,
   "metadata": {},
   "outputs": [
    {
     "name": "stdout",
     "output_type": "stream",
     "text": [
      "this is me!\r\n"
     ]
    }
   ],
   "source": [
    "!python test.py"
   ]
  },
  {
   "cell_type": "code",
   "execution_count": 16,
   "metadata": {},
   "outputs": [
    {
     "name": "stdout",
     "output_type": "stream",
     "text": [
      "this is me!\r\n"
     ]
    }
   ],
   "source": [
    "!cat output"
   ]
  },
  {
   "cell_type": "code",
   "execution_count": null,
   "metadata": {},
   "outputs": [],
   "source": [
    "# %load /data/Github/shapeology_code/scripts/Cell_generator.py\n",
    "import argparse\n",
    "\n",
    "parser = argparse.ArgumentParser()\n",
    "parser.add_argument(\"stack\", type=str, help=\"The name of the stack\")\n",
    "parser.add_argument(\"structure\", type=str, help=\"The nth group of structures\")\n",
    "parser.add_argument(\"state\", type=str, help=\"Positive or negative samples\")\n",
    "parser.add_argument(\"yaml\", type=str, help=\"Path to Yaml file with parameters\")\n",
    "args = parser.parse_args()\n",
    "stack = args.stack\n",
    "struc = args.structure\n",
    "state = args.state\n",
    "import cv2\n",
    "#from cv2 import moments,HuMoments\n",
    "import pickle\n",
    "import numpy as np\n",
    "\n",
    "\n",
    "import os\n",
    "import sys\n",
    "from time import time\n",
    "from glob import glob\n",
    "from extractPatches import patch_extractor\n",
    "#from label_patch import diffusionMap\n",
    "#from patch_normalizer import normalizer\n",
    "from lib.utils import mark_contours, configuration, run\n",
    "\n",
    "import ray\n",
    "ray.init(object_store_memory=70000000000,redis_max_memory=30000000000)\n",
    "\n",
    "@ray.remote\n",
    "def generator(structure, state, cell_dir, patch_dir, stack, params):\n",
    "    for state in [state]:\n",
    "        t1 = time()\n",
    "        savepath = cell_dir + structure + '/'\n",
    "        pkl_out_file = savepath+stack+'_'+structure+'_'+state+'.pkl'\n",
    "\n",
    "        if os.path.exists(pkl_out_file):\n",
    "            print(structure +'_'+state+ ' ALREADY EXIST')\n",
    "            continue\n",
    "        else:\n",
    "            if not os.path.exists(savepath):\n",
    "                os.mkdir(savepath)\n",
    "\n",
    "        if state=='positive':\n",
    "            patches = [dir for dir in glob(patch_dir+structure+'/*')]\n",
    "        else:\n",
    "            patches = [dir for dir in glob(patch_dir+structure+'_surround_200um_noclass/*')]\n",
    "\n",
    "        cells=[]\n",
    "        save=0\n",
    "        for i in range(len(patches)):\n",
    "            extractor=patch_extractor(patches[i],params)\n",
    "            tile=cv2.imread(patches[i],0)\n",
    "            if params['preprocessing']['polarity']==-1:\n",
    "                tile = 255-tile\n",
    "            min_std=params['preprocessing']['min_std']\n",
    "            _std = np.std(tile.flatten())\n",
    "\n",
    "            if _std < min_std:\n",
    "                continue #print('image',patches[i],'std=',_std, 'too blank, skipping')\n",
    "            else:\n",
    "                Stats=extractor.segment_cells(tile)\n",
    "                extracted= extractor.extract_blobs(Stats,tile)\n",
    "                cells.extend(extracted)\n",
    "                    # for j in range(len(extracted)):\n",
    "                    #     try:\n",
    "                    #         filename=savepath+str(extracted[j]['padded_size'])+'/'+str(count)+'.tif'\n",
    "                    #         count+=1\n",
    "                    #         img=extracted[j]['padded_patch']\n",
    "                    #         img=img/img.max()*255\n",
    "                    #         img=img.astype(np.uint8)\n",
    "                    #         cv2.imwrite(filename, img)\n",
    "                    #     except:\n",
    "                    #         continue\n",
    "                count = len(cells)\n",
    "                if 0<=count%20000 and count%20000<=30:\n",
    "                    print(structure + '_'+state, count,i,'/',len(patches))\n",
    "                if count>100000 and save==0:\n",
    "                    print(structure, i,len(patches))\n",
    "                    save=1\n",
    "                    pkl_out = savepath + stack + '_' + structure + '_' + state + '_part.pkl'\n",
    "                    pickle.dump(cells, open(pkl_out, 'wb'))\n",
    "        print(structure + '_'+state,count)\n",
    "        pickle.dump(cells, open(pkl_out_file, 'wb'))\n",
    "        #s3_directory = 's3://mousebrainatlas-data/CSHL_cells_dm/'+stack+'/'+structure+'/'\n",
    "        #run('aws s3 cp \"{0}\" {1}/'.format(pkl_out_file,s3_directory))\n",
    "        print(structure + '_'+state+ ' finished in %5.1f seconds' % (time() - t1))\n",
    "\n",
    "yamlfile=os.environ['REPO_DIR']+args.yaml\n",
    "params=configuration(yamlfile).getParams()\n",
    "\n",
    "paired_structures = ['5N', '6N', '7N', '7n', 'Amb', 'LC', 'LRt', 'Pn', 'Tz', 'VLL', 'RMC', \\\n",
    "                     'SNC', 'SNR', '3N', '4N', 'Sp5I', 'Sp5O', 'Sp5C', 'PBG', '10N', 'VCA', 'VCP', 'DC']\n",
    "singular_structures = ['AP', '12N', 'RtTg', 'SC', 'IC']\n",
    "\n",
    "all_structures = paired_structures + singular_structures\n",
    "patch_dir = os.environ['ROOT_DIR']+'CSHL_patches/'+stack+'/'\n",
    "if not os.path.exists(os.environ['ROOT_DIR']+'CSHL_cells_dm/'):\n",
    "    os.mkdir(os.environ['ROOT_DIR']+'CSHL_cells_dm/')\n",
    "cell_dir = os.environ['ROOT_DIR']+'CSHL_cells_dm/'+stack+'/'\n",
    "print(cell_dir)\n",
    "if not os.path.exists(cell_dir):\n",
    "    os.mkdir(cell_dir)\n",
    "\n",
    "#t0=time()\n",
    "\n",
    "#assert structure\n",
    "\n",
    "ray.get(generator.remote(struc, state, cell_dir, patch_dir, stack, params))\n",
    "\n",
    "\n",
    "#print('Finished in %5.1f seconds'%(time()-t0))\n",
    "\n"
   ]
  },
  {
   "cell_type": "code",
   "execution_count": null,
   "metadata": {},
   "outputs": [],
   "source": []
  }
 ],
 "metadata": {
  "kernelspec": {
   "display_name": "shapeology",
   "language": "python",
   "name": "shapeology"
  },
  "language_info": {
   "codemirror_mode": {
    "name": "ipython",
    "version": 3
   },
   "file_extension": ".py",
   "mimetype": "text/x-python",
   "name": "python",
   "nbconvert_exporter": "python",
   "pygments_lexer": "ipython3",
   "version": "3.7.1"
  }
 },
 "nbformat": 4,
 "nbformat_minor": 2
}
