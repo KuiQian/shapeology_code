{
 "cells": [
  {
   "cell_type": "markdown",
   "metadata": {},
   "source": [
    "## Imports, Connect to Database"
   ]
  },
  {
   "cell_type": "code",
   "execution_count": 1,
   "metadata": {},
   "outputs": [],
   "source": [
    "import datajoint as dj\n",
    "import numpy as np\n",
    "import json\n",
    "from subprocess import call\n",
    "import yaml\n",
    "import sys, os\n",
    "import pandas as pd\n",
    "import ray\n",
    "\n",
    "sys.path.append('./lib')\n",
    "from utilities import *\n",
    "sys.path.append('../lib')\n",
    "from utils import run"
   ]
  },
  {
   "cell_type": "code",
   "execution_count": 2,
   "metadata": {},
   "outputs": [
    {
     "name": "stdout",
     "output_type": "stream",
     "text": [
      "Connecting kui@ucsd-demo-db.datajoint.io:3306\n"
     ]
    },
    {
     "data": {
      "text/plain": [
       "DataJoint connection (connected) kui@ucsd-demo-db.datajoint.io:3306"
      ]
     },
     "execution_count": 2,
     "metadata": {},
     "output_type": "execute_result"
    }
   ],
   "source": [
    "dj.conn()"
   ]
  },
  {
   "cell_type": "code",
   "execution_count": 3,
   "metadata": {},
   "outputs": [],
   "source": [
    "schema = dj.schema('kui_diffusionmap')\n",
    "schema.spawn_missing_classes()"
   ]
  },
  {
   "cell_type": "code",
   "execution_count": 7,
   "metadata": {},
   "outputs": [],
   "source": [
    "stack = 'MD589'\n",
    "yaml_file = 'shape_params-aws.yaml'\n",
    "scripts_dir = os.environ['REPO_DIR']"
   ]
  },
  {
   "cell_type": "markdown",
   "metadata": {},
   "source": [
    "## Create Process Table\n",
    "--script  shapeolopy_code/scripts/Cell_generator.py"
   ]
  },
  {
   "cell_type": "code",
   "execution_count": 9,
   "metadata": {},
   "outputs": [
    {
     "name": "stderr",
     "output_type": "stream",
     "text": [
      "./lib/utilities.py:27: YAMLLoadWarning: calling yaml.load() without Loader=... is deprecated, as the default Loader is unsafe. Please read https://msg.pyyaml.org/load for full details.\n",
      "  credFiles = yaml.load(open( credential_file_pointers,'r'))\n"
     ]
    }
   ],
   "source": [
    "@schema\n",
    "class Process(dj.Computed):\n",
    "    definition=\"\"\"\n",
    "    -> Structure\n",
    "    -----\n",
    "    size_positive : int   #size of file\n",
    "    size_negative : int   #size of file\n",
    "    \"\"\"\n",
    "    bucket = \"mousebrainatlas-data\"\n",
    "    credFiles = scripts_dir+'/Cell_datajoint/VaultBrain/credFiles_aws.yaml'\n",
    "    client = get_s3_client(credFiles)\n",
    "    def make(self, key):\n",
    "        struc = (Structure & key).fetch1('structure')\n",
    "        print('populating for ', struc, end='\\n')\n",
    "        for state in ['positive', 'negative']:\n",
    "            item_name = state+'_s3_fp'\n",
    "            key_item = 'size_'+state\n",
    "            s3_fp = (Structure & key).fetch1(item_name)\n",
    "            try:\n",
    "                report = self.client.stat_object(self.bucket, s3_fp)\n",
    "                key[key_item] = int(report.size/1000000)\n",
    "            except:\n",
    "                ! python3 $scripts_dir/Cell_generator.py $stack $struc $state $yaml_file\n",
    "                upload_fp = 's3://'+self.bucket+'/'+s3_fp\n",
    "                pkl_out_file = os.environ['ROOT_DIR']+'CSHL_cells_dm/'+stack+'/'+ struc + '/'+stack+'_'+struc+'_'+state+'.pkl'\n",
    "                ! aws s3 cp $pkl_out_file $upload_fp\n",
    "                print(pkl_out_file,upload_fp)\n",
    "                report = self.client.stat_object(self.bucket, s3_fp)\n",
    "                key[key_item] = int(report.size / 1000000)\n",
    "        try:\n",
    "            self.insert1(key)\n",
    "        except:\n",
    "            print('could not insert key=', key)\n"
   ]
  },
  {
   "cell_type": "code",
   "execution_count": 8,
   "metadata": {},
   "outputs": [
    {
     "name": "stdout",
     "output_type": "stream",
     "text": [
      "`kui_diffusionmap`.`__process` (4 tuples)\n",
      "Proceed? [yes, No]: yes\n",
      "Tables dropped.  Restart kernel.\n"
     ]
    }
   ],
   "source": [
    "Process.drop()"
   ]
  },
  {
   "cell_type": "code",
   "execution_count": 14,
   "metadata": {},
   "outputs": [
    {
     "name": "stdout",
     "output_type": "stream",
     "text": [
      "populating for  VCA\n",
      "2019-05-24 13:37:09,445\tWARNING worker.py:1341 -- WARNING: Not updating worker name since `setproctitle` is not installed. Install this with `pip install setproctitle` (or ray[debug]) to enable monitoring of worker processes.\n",
      "2019-05-24 13:37:09,446\tINFO node.py:497 -- Process STDOUT and STDERR is being redirected to /tmp/ray/session_2019-05-24_13-37-09_445865_20912/logs.\n",
      "2019-05-24 13:37:09,554\tINFO services.py:409 -- Waiting for redis server at 127.0.0.1:11288 to respond...\n",
      "2019-05-24 13:37:09,664\tINFO services.py:409 -- Waiting for redis server at 127.0.0.1:46317 to respond...\n",
      "2019-05-24 13:37:09,665\tINFO services.py:806 -- Starting Redis shard with 30.0 GB max memory.\n",
      "2019-05-24 13:37:09,677\tINFO node.py:511 -- Process STDOUT and STDERR is being redirected to /tmp/ray/session_2019-05-24_13-37-09_445865_20912/logs.\n",
      "2019-05-24 13:37:09,677\tWARNING services.py:1318 -- WARNING: The object store is using /tmp instead of /dev/shm because /dev/shm has only 36878774272 bytes available. This may slow down performance! You may be able to free up space by deleting files in /dev/shm or terminating any running plasma_store_server processes. If you are inside a Docker container, you may need to pass an argument with the flag '--shm-size' to 'docker run'.\n",
      "2019-05-24 13:37:09,678\tINFO services.py:1441 -- Starting the Plasma object store with 70.0 GB memory using /tmp.\n",
      "/data/Github/shapeology_code/scripts/lib/utils.py:22: YAMLLoadWarning: calling yaml.load() without Loader=... is deprecated, as the default Loader is unsafe. Please read https://msg.pyyaml.org/load for full details.\n",
      "  self.D=yaml.load(open(yamlFile,'r'))\n",
      "/data/BstemAtlasDataBackup/ucsd_brain/CSHL_cells_dm/MD589/\n",
      "\u001b[2m\u001b[36m(pid=21071)\u001b[0m VCA_positive 20029 572 / 21194\n",
      "\u001b[2m\u001b[36m(pid=21071)\u001b[0m VCA_positive 40023 1158 / 21194\n",
      "\u001b[2m\u001b[36m(pid=21071)\u001b[0m VCA_positive 60027 1730 / 21194\n",
      "\u001b[2m\u001b[36m(pid=21071)\u001b[0m VCA_positive 80029 2313 / 21194\n",
      "\u001b[2m\u001b[36m(pid=21071)\u001b[0m VCA_positive 100019 2891 / 21194\n",
      "\u001b[2m\u001b[36m(pid=21071)\u001b[0m VCA 2891 21194\n",
      "\u001b[2m\u001b[36m(pid=21071)\u001b[0m VCA_positive 120014 3476 / 21194\n",
      "\u001b[2m\u001b[36m(pid=21071)\u001b[0m VCA_positive 140009 4035 / 21194\n",
      "\u001b[2m\u001b[36m(pid=21071)\u001b[0m VCA_positive 160003 4607 / 21194\n",
      "\u001b[2m\u001b[36m(pid=21071)\u001b[0m VCA_positive 180007 5155 / 21194\n",
      "\u001b[2m\u001b[36m(pid=21071)\u001b[0m VCA_positive 200019 5706 / 21194\n",
      "\u001b[2m\u001b[36m(pid=21071)\u001b[0m VCA_positive 220018 6228 / 21194\n",
      "\u001b[2m\u001b[36m(pid=21071)\u001b[0m VCA_positive 280006 7852 / 21194\n",
      "\u001b[2m\u001b[36m(pid=21071)\u001b[0m VCA_positive 300017 8378 / 21194\n",
      "\u001b[2m\u001b[36m(pid=21071)\u001b[0m VCA_positive 320004 8900 / 21194\n",
      "\u001b[2m\u001b[36m(pid=21071)\u001b[0m VCA_positive 340008 9430 / 21194\n",
      "\u001b[2m\u001b[36m(pid=21071)\u001b[0m VCA_positive 360013 9973 / 21194\n",
      "\u001b[2m\u001b[36m(pid=21071)\u001b[0m VCA_positive 380001 10552 / 21194\n",
      "\u001b[2m\u001b[36m(pid=21071)\u001b[0m VCA_positive 400008 11127 / 21194\n",
      "\u001b[2m\u001b[36m(pid=21071)\u001b[0m VCA_positive 420025 11677 / 21194\n",
      "\u001b[2m\u001b[36m(pid=21071)\u001b[0m VCA_positive 440023 12266 / 21194\n",
      "\u001b[2m\u001b[36m(pid=21071)\u001b[0m VCA_positive 460023 12864 / 21194\n",
      "\u001b[2m\u001b[36m(pid=21071)\u001b[0m VCA_positive 480027 13467 / 21194\n",
      "\u001b[2m\u001b[36m(pid=21071)\u001b[0m VCA_positive 500022 14076 / 21194\n",
      "Traceback (most recent call last):\n",
      "  File \"/data/Github/shapeology_code/scripts//Cell_generator.py\", line 109, in <module>\n",
      "    ray.get(generator.remote(struc, state, cell_dir, patch_dir, stack, params))\n",
      "  File \"/data/venv/shapeology_venv/lib/python3.7/site-packages/ray/worker.py\", line 2197, in get\n",
      "    raise value\n",
      "ray.exceptions.RayTaskError: \u001b[36mray_worker\u001b[39m (pid=21071, host=ip-172-31-29-217)\n",
      "  File \"/data/Github/shapeology_code/scripts//Cell_generator.py\", line 63, in generator\n",
      "    extracted= extractor.extract_blobs(Stats,tile)\n",
      "  File \"/data/Github/shapeology_code/scripts/extractPatches.py\", line 115, in extract_blobs\n",
      "    self.computeDMs(extracted)\n",
      "  File \"/data/Github/shapeology_code/scripts/extractPatches.py\", line 151, in computeDMs\n",
      "    DMMat=self.DM.transform(asMat)\n",
      "  File \"/data/Github/shapeology_code/scripts/label_patch.py\", line 33, in transform\n",
      "    lowD=self.DM.transform(data1D)\n",
      "  File \"/data/venv/shapeology_venv/lib/python3.7/site-packages/pydiffmap/diffusion_map.py\", line 247, in transform\n",
      "    return nystroem_oos(self, Y)\n",
      "  File \"/data/venv/shapeology_venv/lib/python3.7/site-packages/pydiffmap/diffusion_map.py\", line 312, in nystroem_oos\n",
      "    kernel_extended = dmap_object.local_kernel.compute(Y)\n",
      "  File \"/data/venv/shapeology_venv/lib/python3.7/site-packages/pydiffmap/kernel.py\", line 158, in compute\n",
      "    K = self._get_scaled_distance_mat(Y, y_bandwidths=y_bandwidths)\n",
      "  File \"/data/venv/shapeology_venv/lib/python3.7/site-packages/pydiffmap/kernel.py\", line 168, in _get_scaled_distance_mat\n",
      "    dists = self.neigh.kneighbors_graph(Y, mode='distance')\n",
      "  File \"/data/venv/shapeology_venv/lib/python3.7/site-packages/sklearn/neighbors/base.py\", line 548, in kneighbors_graph\n",
      "    X, n_neighbors, return_distance=True)\n",
      "  File \"/data/venv/shapeology_venv/lib/python3.7/site-packages/sklearn/neighbors/base.py\", line 443, in kneighbors\n",
      "    for s in gen_even_slices(X.shape[0], n_jobs)\n",
      "  File \"/data/venv/shapeology_venv/lib/python3.7/site-packages/sklearn/externals/joblib/parallel.py\", line 983, in __call__\n",
      "    if self.dispatch_one_batch(iterator):\n",
      "  File \"/data/venv/shapeology_venv/lib/python3.7/site-packages/sklearn/externals/joblib/parallel.py\", line 825, in dispatch_one_batch\n",
      "    self._dispatch(tasks)\n",
      "  File \"/data/venv/shapeology_venv/lib/python3.7/site-packages/sklearn/externals/joblib/parallel.py\", line 782, in _dispatch\n",
      "    job = self._backend.apply_async(batch, callback=cb)\n",
      "  File \"/data/venv/shapeology_venv/lib/python3.7/site-packages/sklearn/externals/joblib/_parallel_backends.py\", line 222, in apply_async\n",
      "    return self._get_pool().apply_async(\n",
      "  File \"/data/venv/shapeology_venv/lib/python3.7/site-packages/sklearn/externals/joblib/_parallel_backends.py\", line 363, in _get_pool\n",
      "    self._pool = ThreadPool(self._n_jobs)\n",
      "  File \"/home/ubuntu/anaconda3/lib/python3.7/multiprocessing/pool.py\", line 828, in __init__\n",
      "    Pool.__init__(self, processes, initializer, initargs)\n",
      "  File \"/home/ubuntu/anaconda3/lib/python3.7/multiprocessing/pool.py\", line 177, in __init__\n",
      "    self._repopulate_pool()\n",
      "  File \"/home/ubuntu/anaconda3/lib/python3.7/multiprocessing/pool.py\", line 238, in _repopulate_pool\n",
      "    self._wrap_exception)\n",
      "  File \"/home/ubuntu/anaconda3/lib/python3.7/multiprocessing/pool.py\", line 257, in _repopulate_pool_static\n",
      "    w.start()\n",
      "  File \"/home/ubuntu/anaconda3/lib/python3.7/multiprocessing/dummy/__init__.py\", line 51, in start\n",
      "    threading.Thread.start(self)\n",
      "  File \"/home/ubuntu/anaconda3/lib/python3.7/threading.py\", line 847, in start\n",
      "    _start_new_thread(self._bootstrap, ())\n",
      "RuntimeError: can't start new thread\n",
      "\n",
      "\n",
      "The user-provided path /data/BstemAtlasDataBackup/ucsd_brain/CSHL_cells_dm/MD589/VCA/MD589_VCA_positive.pkl does not exist.\n",
      "/data/BstemAtlasDataBackup/ucsd_brain/CSHL_cells_dm/MD589/VCA/MD589_VCA_positive.pkl s3://mousebrainatlas-data/CSHL_cells_dm/MD589/VCA/MD589_VCA_positive.pkl\n"
     ]
    },
    {
     "ename": "NoSuchKey",
     "evalue": "NoSuchKey: message: The specified key does not exist.",
     "output_type": "error",
     "traceback": [
      "\u001b[0;31m---------------------------------------------------------------------------\u001b[0m",
      "\u001b[0;31mNoSuchKey\u001b[0m                                 Traceback (most recent call last)",
      "\u001b[0;32m<ipython-input-9-d45c90ce38ed>\u001b[0m in \u001b[0;36mmake\u001b[0;34m(self, key)\u001b[0m\n\u001b[1;32m     19\u001b[0m             \u001b[0;32mtry\u001b[0m\u001b[0;34m:\u001b[0m\u001b[0;34m\u001b[0m\u001b[0;34m\u001b[0m\u001b[0m\n\u001b[0;32m---> 20\u001b[0;31m                 \u001b[0mreport\u001b[0m \u001b[0;34m=\u001b[0m \u001b[0mself\u001b[0m\u001b[0;34m.\u001b[0m\u001b[0mclient\u001b[0m\u001b[0;34m.\u001b[0m\u001b[0mstat_object\u001b[0m\u001b[0;34m(\u001b[0m\u001b[0mself\u001b[0m\u001b[0;34m.\u001b[0m\u001b[0mbucket\u001b[0m\u001b[0;34m,\u001b[0m \u001b[0ms3_fp\u001b[0m\u001b[0;34m)\u001b[0m\u001b[0;34m\u001b[0m\u001b[0;34m\u001b[0m\u001b[0m\n\u001b[0m\u001b[1;32m     21\u001b[0m                 \u001b[0mkey\u001b[0m\u001b[0;34m[\u001b[0m\u001b[0mkey_item\u001b[0m\u001b[0;34m]\u001b[0m \u001b[0;34m=\u001b[0m \u001b[0mint\u001b[0m\u001b[0;34m(\u001b[0m\u001b[0mreport\u001b[0m\u001b[0;34m.\u001b[0m\u001b[0msize\u001b[0m\u001b[0;34m/\u001b[0m\u001b[0;36m1000000\u001b[0m\u001b[0;34m)\u001b[0m\u001b[0;34m\u001b[0m\u001b[0;34m\u001b[0m\u001b[0m\n",
      "\u001b[0;32m/data/venv/shapeology_venv/lib/python3.7/site-packages/minio/api.py\u001b[0m in \u001b[0;36mstat_object\u001b[0;34m(self, bucket_name, object_name, sse)\u001b[0m\n\u001b[1;32m    995\u001b[0m         response = self._url_open('HEAD', bucket_name=bucket_name,\n\u001b[0;32m--> 996\u001b[0;31m                                   object_name=object_name, headers=headers)\n\u001b[0m\u001b[1;32m    997\u001b[0m \u001b[0;34m\u001b[0m\u001b[0m\n",
      "\u001b[0;32m/data/venv/shapeology_venv/lib/python3.7/site-packages/minio/api.py\u001b[0m in \u001b[0;36m_url_open\u001b[0;34m(self, method, bucket_name, object_name, query, body, headers, content_sha256, preload_content)\u001b[0m\n\u001b[1;32m   1900\u001b[0m                                     \u001b[0mbucket_name\u001b[0m\u001b[0;34m,\u001b[0m\u001b[0;34m\u001b[0m\u001b[0;34m\u001b[0m\u001b[0m\n\u001b[0;32m-> 1901\u001b[0;31m                                     object_name).get_exception()\n\u001b[0m\u001b[1;32m   1902\u001b[0m             \u001b[0;32melse\u001b[0m\u001b[0;34m:\u001b[0m\u001b[0;34m\u001b[0m\u001b[0;34m\u001b[0m\u001b[0m\n",
      "\u001b[0;31mNoSuchKey\u001b[0m: NoSuchKey: message: The specified key does not exist.",
      "\nDuring handling of the above exception, another exception occurred:\n",
      "\u001b[0;31mNoSuchKey\u001b[0m                                 Traceback (most recent call last)",
      "\u001b[0;32m<ipython-input-14-700b82bd1bf3>\u001b[0m in \u001b[0;36m<module>\u001b[0;34m\u001b[0m\n\u001b[1;32m      1\u001b[0m \u001b[0mdiffusion\u001b[0m \u001b[0;34m=\u001b[0m \u001b[0mProcess\u001b[0m\u001b[0;34m(\u001b[0m\u001b[0;34m)\u001b[0m\u001b[0;34m\u001b[0m\u001b[0;34m\u001b[0m\u001b[0m\n\u001b[0;32m----> 2\u001b[0;31m \u001b[0mdiffusion\u001b[0m\u001b[0;34m.\u001b[0m\u001b[0mpopulate\u001b[0m\u001b[0;34m(\u001b[0m\u001b[0mreserve_jobs\u001b[0m\u001b[0;34m=\u001b[0m\u001b[0;32mTrue\u001b[0m\u001b[0;34m)\u001b[0m\u001b[0;34m\u001b[0m\u001b[0;34m\u001b[0m\u001b[0m\n\u001b[0m",
      "\u001b[0;32m/data/venv/shapeology_venv/lib/python3.7/site-packages/datajoint/autopopulate.py\u001b[0m in \u001b[0;36mpopulate\u001b[0;34m(self, suppress_errors, return_exception_objects, reserve_jobs, order, limit, max_calls, display_progress, *restrictions)\u001b[0m\n\u001b[1;32m    152\u001b[0m                     \u001b[0mself\u001b[0m\u001b[0;34m.\u001b[0m\u001b[0m_allow_insert\u001b[0m \u001b[0;34m=\u001b[0m \u001b[0;32mTrue\u001b[0m\u001b[0;34m\u001b[0m\u001b[0;34m\u001b[0m\u001b[0m\n\u001b[1;32m    153\u001b[0m                     \u001b[0;32mtry\u001b[0m\u001b[0;34m:\u001b[0m\u001b[0;34m\u001b[0m\u001b[0;34m\u001b[0m\u001b[0m\n\u001b[0;32m--> 154\u001b[0;31m                         \u001b[0mmake\u001b[0m\u001b[0;34m(\u001b[0m\u001b[0mdict\u001b[0m\u001b[0;34m(\u001b[0m\u001b[0mkey\u001b[0m\u001b[0;34m)\u001b[0m\u001b[0;34m)\u001b[0m\u001b[0;34m\u001b[0m\u001b[0;34m\u001b[0m\u001b[0m\n\u001b[0m\u001b[1;32m    155\u001b[0m                     \u001b[0;32mexcept\u001b[0m \u001b[0;34m(\u001b[0m\u001b[0mKeyboardInterrupt\u001b[0m\u001b[0;34m,\u001b[0m \u001b[0mSystemExit\u001b[0m\u001b[0;34m,\u001b[0m \u001b[0mException\u001b[0m\u001b[0;34m)\u001b[0m \u001b[0;32mas\u001b[0m \u001b[0merror\u001b[0m\u001b[0;34m:\u001b[0m\u001b[0;34m\u001b[0m\u001b[0;34m\u001b[0m\u001b[0m\n\u001b[1;32m    156\u001b[0m                         \u001b[0;32mtry\u001b[0m\u001b[0;34m:\u001b[0m\u001b[0;34m\u001b[0m\u001b[0;34m\u001b[0m\u001b[0m\n",
      "\u001b[0;32m<ipython-input-9-d45c90ce38ed>\u001b[0m in \u001b[0;36mmake\u001b[0;34m(self, key)\u001b[0m\n\u001b[1;32m     26\u001b[0m                 \u001b[0mget_ipython\u001b[0m\u001b[0;34m(\u001b[0m\u001b[0;34m)\u001b[0m\u001b[0;34m.\u001b[0m\u001b[0msystem\u001b[0m\u001b[0;34m(\u001b[0m\u001b[0;34m' aws s3 cp $pkl_out_file $upload_fp'\u001b[0m\u001b[0;34m)\u001b[0m\u001b[0;34m\u001b[0m\u001b[0;34m\u001b[0m\u001b[0m\n\u001b[1;32m     27\u001b[0m                 \u001b[0mprint\u001b[0m\u001b[0;34m(\u001b[0m\u001b[0mpkl_out_file\u001b[0m\u001b[0;34m,\u001b[0m\u001b[0mupload_fp\u001b[0m\u001b[0;34m)\u001b[0m\u001b[0;34m\u001b[0m\u001b[0;34m\u001b[0m\u001b[0m\n\u001b[0;32m---> 28\u001b[0;31m                 \u001b[0mreport\u001b[0m \u001b[0;34m=\u001b[0m \u001b[0mself\u001b[0m\u001b[0;34m.\u001b[0m\u001b[0mclient\u001b[0m\u001b[0;34m.\u001b[0m\u001b[0mstat_object\u001b[0m\u001b[0;34m(\u001b[0m\u001b[0mself\u001b[0m\u001b[0;34m.\u001b[0m\u001b[0mbucket\u001b[0m\u001b[0;34m,\u001b[0m \u001b[0ms3_fp\u001b[0m\u001b[0;34m)\u001b[0m\u001b[0;34m\u001b[0m\u001b[0;34m\u001b[0m\u001b[0m\n\u001b[0m\u001b[1;32m     29\u001b[0m                 \u001b[0mkey\u001b[0m\u001b[0;34m[\u001b[0m\u001b[0mkey_item\u001b[0m\u001b[0;34m]\u001b[0m \u001b[0;34m=\u001b[0m \u001b[0mint\u001b[0m\u001b[0;34m(\u001b[0m\u001b[0mreport\u001b[0m\u001b[0;34m.\u001b[0m\u001b[0msize\u001b[0m \u001b[0;34m/\u001b[0m \u001b[0;36m1000000\u001b[0m\u001b[0;34m)\u001b[0m\u001b[0;34m\u001b[0m\u001b[0;34m\u001b[0m\u001b[0m\n\u001b[1;32m     30\u001b[0m         \u001b[0;32mtry\u001b[0m\u001b[0;34m:\u001b[0m\u001b[0;34m\u001b[0m\u001b[0;34m\u001b[0m\u001b[0m\n",
      "\u001b[0;32m/data/venv/shapeology_venv/lib/python3.7/site-packages/minio/api.py\u001b[0m in \u001b[0;36mstat_object\u001b[0;34m(self, bucket_name, object_name, sse)\u001b[0m\n\u001b[1;32m    994\u001b[0m \u001b[0;34m\u001b[0m\u001b[0m\n\u001b[1;32m    995\u001b[0m         response = self._url_open('HEAD', bucket_name=bucket_name,\n\u001b[0;32m--> 996\u001b[0;31m                                   object_name=object_name, headers=headers)\n\u001b[0m\u001b[1;32m    997\u001b[0m \u001b[0;34m\u001b[0m\u001b[0m\n\u001b[1;32m    998\u001b[0m         \u001b[0metag\u001b[0m \u001b[0;34m=\u001b[0m \u001b[0mresponse\u001b[0m\u001b[0;34m.\u001b[0m\u001b[0mheaders\u001b[0m\u001b[0;34m.\u001b[0m\u001b[0mget\u001b[0m\u001b[0;34m(\u001b[0m\u001b[0;34m'etag'\u001b[0m\u001b[0;34m,\u001b[0m \u001b[0;34m''\u001b[0m\u001b[0;34m)\u001b[0m\u001b[0;34m.\u001b[0m\u001b[0mreplace\u001b[0m\u001b[0;34m(\u001b[0m\u001b[0;34m'\"'\u001b[0m\u001b[0;34m,\u001b[0m \u001b[0;34m''\u001b[0m\u001b[0;34m)\u001b[0m\u001b[0;34m\u001b[0m\u001b[0;34m\u001b[0m\u001b[0m\n",
      "\u001b[0;32m/data/venv/shapeology_venv/lib/python3.7/site-packages/minio/api.py\u001b[0m in \u001b[0;36m_url_open\u001b[0;34m(self, method, bucket_name, object_name, query, body, headers, content_sha256, preload_content)\u001b[0m\n\u001b[1;32m   1899\u001b[0m                                     \u001b[0mmethod\u001b[0m\u001b[0;34m,\u001b[0m\u001b[0;34m\u001b[0m\u001b[0;34m\u001b[0m\u001b[0m\n\u001b[1;32m   1900\u001b[0m                                     \u001b[0mbucket_name\u001b[0m\u001b[0;34m,\u001b[0m\u001b[0;34m\u001b[0m\u001b[0;34m\u001b[0m\u001b[0m\n\u001b[0;32m-> 1901\u001b[0;31m                                     object_name).get_exception()\n\u001b[0m\u001b[1;32m   1902\u001b[0m             \u001b[0;32melse\u001b[0m\u001b[0;34m:\u001b[0m\u001b[0;34m\u001b[0m\u001b[0;34m\u001b[0m\u001b[0m\n\u001b[1;32m   1903\u001b[0m                 raise ValueError('Unsupported method returned'\n",
      "\u001b[0;31mNoSuchKey\u001b[0m: NoSuchKey: message: The specified key does not exist."
     ]
    }
   ],
   "source": [
    "diffusion = Process()\n",
    "diffusion.populate(reserve_jobs=True)\n"
   ]
  },
  {
   "cell_type": "code",
   "execution_count": 11,
   "metadata": {},
   "outputs": [
    {
     "data": {
      "text/plain": [
       "[OrderedDict([('id', 1), ('size_positive', 103), ('size_negative', 1615)]),\n",
       " OrderedDict([('id', 4), ('size_positive', 1073), ('size_negative', 6969)]),\n",
       " OrderedDict([('id', 13), ('size_positive', 4053), ('size_negative', 19081)]),\n",
       " OrderedDict([('id', 14), ('size_positive', 85), ('size_negative', 3780)])]"
      ]
     },
     "execution_count": 11,
     "metadata": {},
     "output_type": "execute_result"
    }
   ],
   "source": [
    "diffusion.fetch(as_dict=True)"
   ]
  },
  {
   "cell_type": "code",
   "execution_count": null,
   "metadata": {},
   "outputs": [],
   "source": []
  }
 ],
 "metadata": {
  "kernelspec": {
   "display_name": "shapeology",
   "language": "python",
   "name": "shapeology"
  },
  "language_info": {
   "codemirror_mode": {
    "name": "ipython",
    "version": 3
   },
   "file_extension": ".py",
   "mimetype": "text/x-python",
   "name": "python",
   "nbconvert_exporter": "python",
   "pygments_lexer": "ipython3",
   "version": "3.7.1"
  }
 },
 "nbformat": 4,
 "nbformat_minor": 2
}
