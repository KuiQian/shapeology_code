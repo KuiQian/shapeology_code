{
 "cells": [
  {
   "cell_type": "code",
   "execution_count": 1,
   "metadata": {},
   "outputs": [],
   "source": [
    "import datajoint as dj\n",
    "import numpy as np\n",
    "import json\n",
    "from subprocess import call\n",
    "import yaml\n",
    "import sys, os\n",
    "import pandas as pd\n",
    "import ray\n",
    "\n",
    "sys.path.append('./lib')\n",
    "from utilities import *\n",
    "sys.path.append('../lib')\n",
    "from utils import run"
   ]
  },
  {
   "cell_type": "code",
   "execution_count": 2,
   "metadata": {},
   "outputs": [
    {
     "name": "stdout",
     "output_type": "stream",
     "text": [
      "Connecting kui@ucsd-demo-db.datajoint.io:3306\n"
     ]
    },
    {
     "data": {
      "text/plain": [
       "DataJoint connection (connected) kui@ucsd-demo-db.datajoint.io:3306"
      ]
     },
     "execution_count": 2,
     "metadata": {},
     "output_type": "execute_result"
    }
   ],
   "source": [
    "dj.conn()"
   ]
  },
  {
   "cell_type": "code",
   "execution_count": 3,
   "metadata": {},
   "outputs": [],
   "source": [
    "schema = dj.schema('kui_diffusionmap')\n",
    "schema.spawn_missing_classes()"
   ]
  },
  {
   "cell_type": "code",
   "execution_count": 19,
   "metadata": {},
   "outputs": [],
   "source": [
    "stack = 'MD589'\n",
    "yaml_file = 'shape_params.yaml'\n",
    "scripts_dir = os.environ['REPO_DIR']"
   ]
  },
  {
   "cell_type": "code",
   "execution_count": 37,
   "metadata": {},
   "outputs": [
    {
     "name": "stderr",
     "output_type": "stream",
     "text": [
      "./lib/utilities.py:27: YAMLLoadWarning: calling yaml.load() without Loader=... is deprecated, as the default Loader is unsafe. Please read https://msg.pyyaml.org/load for full details.\n",
      "  credFiles = yaml.load(open( credential_file_pointers,'r'))\n"
     ]
    }
   ],
   "source": [
    "@schema\n",
    "class Process(dj.Computed):\n",
    "    definition=\"\"\"\n",
    "    -> Structure\n",
    "    -----\n",
    "    size_positive : int   #size of file\n",
    "    size_negative : int   #size of file\n",
    "    \"\"\"\n",
    "    bucket = \"mousebrainatlas-data\"\n",
    "    credFiles = scripts_dir+'/Cell_datajoint/VaultBrain/credFiles.yaml'\n",
    "    client = get_s3_client(credFiles)\n",
    "    def make(self, key):\n",
    "        struc = (Structure & key).fetch1('structure')\n",
    "        print('populating for ', struc, end='\\n')\n",
    "        for state in ['positive', 'negative']:\n",
    "            item_name = state+'_s3_fp'\n",
    "            key_item = 'size_'+state\n",
    "            s3_fp = (Structure & key).fetch1(item_name)\n",
    "            try:\n",
    "                report = self.client.stat_object(self.bucket, s3_fp)\n",
    "                key[key_item] = int(report.size/1000000)\n",
    "            except:\n",
    "                ! python3 $scripts_dir/Cell_generator.py $stack $struc $state $yaml_file\n",
    "                upload_fp = 's3://'+self.bucket+'/'+s3_fp\n",
    "                pkl_out_file = os.environ['ROOT_DIR']+'CSHL_cells_dm/'+stack+'/'+ struc + '/'+stack+'_'+struc+'_'+state+'.pkl'\n",
    "                ! aws s3 cp $pkl_out_file $upload_fp\n",
    "                print(pkl_out_file,upload_fp)\n",
    "                report = self.client.stat_object(self.bucket, s3_fp)\n",
    "                key[key_item] = int(report.size / 1000000)\n",
    "        try:\n",
    "            self.insert1(key)\n",
    "        except:\n",
    "            print('could not insert key=', key)\n"
   ]
  },
  {
   "cell_type": "code",
   "execution_count": 39,
   "metadata": {},
   "outputs": [
    {
     "name": "stdout",
     "output_type": "stream",
     "text": [
      "`kui_diffusionmap`.`__process` (2 tuples)\n",
      "Proceed? [yes, No]: yes\n",
      "Tables dropped.  Restart kernel.\n"
     ]
    }
   ],
   "source": [
    "Process.drop()"
   ]
  },
  {
   "cell_type": "code",
   "execution_count": 38,
   "metadata": {},
   "outputs": [
    {
     "name": "stdout",
     "output_type": "stream",
     "text": [
      "populating for  6N\n",
      "usage: aws [options] <command> <subcommand> [<subcommand> ...] [parameters]\n",
      "To see help text, you can run:\n",
      "\n",
      "  aws help\n",
      "  aws <command> help\n",
      "  aws <command> <subcommand> help\n",
      "aws: error: too few arguments\n",
      "/Users/kuiqian/Github/venv/shapeology_venv/lib/python3.7/site-packages/sklearn/externals/joblib/externals/cloudpickle/cloudpickle.py:47: DeprecationWarning: the imp module is deprecated in favour of importlib; see the module's documentation for alternative uses\n",
      "  import imp\n",
      "2019-05-24 03:42:46,006\tINFO node.py:469 -- Process STDOUT and STDERR is being redirected to /tmp/ray/session_2019-05-24_03-42-46_12141/logs.\n",
      "2019-05-24 03:42:46,113\tINFO services.py:407 -- Waiting for redis server at 127.0.0.1:29571 to respond...\n",
      "2019-05-24 03:42:46,236\tINFO services.py:407 -- Waiting for redis server at 127.0.0.1:40265 to respond...\n",
      "2019-05-24 03:42:46,239\tINFO services.py:804 -- Starting Redis shard with 30.0 GB max memory.\n",
      "2019-05-24 03:42:46,254\tINFO node.py:483 -- Process STDOUT and STDERR is being redirected to /tmp/ray/session_2019-05-24_03-42-46_12141/logs.\n",
      "Traceback (most recent call last):\n",
      "  File \"/Users/kuiqian/Github/shapeology_code/scripts//Cell_generator.py\", line 28, in <module>\n",
      "    ray.init(object_store_memory=70000000000,redis_max_memory=30000000000)\n",
      "  File \"/Users/kuiqian/Github/venv/shapeology_venv/lib/python3.7/site-packages/ray/worker.py\", line 1393, in init\n",
      "    head=True, shutdown_at_exit=False, ray_params=ray_params)\n",
      "  File \"/Users/kuiqian/Github/venv/shapeology_venv/lib/python3.7/site-packages/ray/node.py\", line 133, in __init__\n",
      "    self.start_ray_processes()\n",
      "  File \"/Users/kuiqian/Github/venv/shapeology_venv/lib/python3.7/site-packages/ray/node.py\", line 485, in start_ray_processes\n",
      "    self.start_plasma_store()\n",
      "  File \"/Users/kuiqian/Github/venv/shapeology_venv/lib/python3.7/site-packages/ray/node.py\", line 386, in start_plasma_store\n",
      "    plasma_store_socket_name=self._plasma_store_socket_name)\n",
      "  File \"/Users/kuiqian/Github/venv/shapeology_venv/lib/python3.7/site-packages/ray/services.py\", line 1415, in start_plasma_store\n",
      "    object_store_memory, plasma_directory, huge_pages)\n",
      "  File \"/Users/kuiqian/Github/venv/shapeology_venv/lib/python3.7/site-packages/ray/services.py\", line 1311, in determine_plasma_store_config\n",
      "    \"The requested object store memory size is greater \"\n",
      "Exception: The requested object store memory size is greater than the total available memory.\n",
      "upload: ../../../../BstemAtlasDataBackup/ucsd_brain/CSHL_cells_dm/MD589/6N/MD589_6N_positive.pkl to s3://mousebrainatlas-data/CSHL_cells_dm/MD589/6N/MD589_6N_positive.pkl\n",
      "/Users/kuiqian/BstemAtlasDataBackup/ucsd_brain/CSHL_cells_dm/MD589/6N/MD589_6N_positive.pkl s3://mousebrainatlas-data/CSHL_cells_dm/MD589/6N/MD589_6N_positive.pkl\n",
      "upload: ../../../../BstemAtlasDataBackup/ucsd_brain/CSHL_cells_dm/MD589/6N/MD589_6N_negative.pkl to s3://mousebrainatlas-data/CSHL_cells_dm/MD589/6N/MD589_6N_positive.pkl\n",
      "/Users/kuiqian/BstemAtlasDataBackup/ucsd_brain/CSHL_cells_dm/MD589/6N/MD589_6N_negative.pkl s3://mousebrainatlas-data/CSHL_cells_dm/MD589/6N/MD589_6N_positive.pkl\n",
      "populating for  Amb\n",
      "usage: aws [options] <command> <subcommand> [<subcommand> ...] [parameters]\n",
      "To see help text, you can run:\n",
      "\n",
      "  aws help\n",
      "  aws <command> help\n",
      "  aws <command> <subcommand> help\n",
      "aws: error: too few arguments\n",
      "/Users/kuiqian/Github/venv/shapeology_venv/lib/python3.7/site-packages/sklearn/externals/joblib/externals/cloudpickle/cloudpickle.py:47: DeprecationWarning: the imp module is deprecated in favour of importlib; see the module's documentation for alternative uses\n",
      "  import imp\n",
      "2019-05-24 03:45:16,819\tINFO node.py:469 -- Process STDOUT and STDERR is being redirected to /tmp/ray/session_2019-05-24_03-45-16_12160/logs.\n",
      "2019-05-24 03:45:16,925\tINFO services.py:407 -- Waiting for redis server at 127.0.0.1:19812 to respond...\n",
      "2019-05-24 03:45:17,055\tINFO services.py:407 -- Waiting for redis server at 127.0.0.1:49816 to respond...\n",
      "2019-05-24 03:45:17,058\tINFO services.py:804 -- Starting Redis shard with 30.0 GB max memory.\n",
      "2019-05-24 03:45:17,074\tINFO node.py:483 -- Process STDOUT and STDERR is being redirected to /tmp/ray/session_2019-05-24_03-45-16_12160/logs.\n",
      "Traceback (most recent call last):\n",
      "  File \"/Users/kuiqian/Github/shapeology_code/scripts//Cell_generator.py\", line 28, in <module>\n",
      "    ray.init(object_store_memory=70000000000,redis_max_memory=30000000000)\n",
      "  File \"/Users/kuiqian/Github/venv/shapeology_venv/lib/python3.7/site-packages/ray/worker.py\", line 1393, in init\n",
      "    head=True, shutdown_at_exit=False, ray_params=ray_params)\n",
      "  File \"/Users/kuiqian/Github/venv/shapeology_venv/lib/python3.7/site-packages/ray/node.py\", line 133, in __init__\n",
      "    self.start_ray_processes()\n",
      "  File \"/Users/kuiqian/Github/venv/shapeology_venv/lib/python3.7/site-packages/ray/node.py\", line 485, in start_ray_processes\n",
      "    self.start_plasma_store()\n",
      "  File \"/Users/kuiqian/Github/venv/shapeology_venv/lib/python3.7/site-packages/ray/node.py\", line 386, in start_plasma_store\n",
      "    plasma_store_socket_name=self._plasma_store_socket_name)\n",
      "  File \"/Users/kuiqian/Github/venv/shapeology_venv/lib/python3.7/site-packages/ray/services.py\", line 1415, in start_plasma_store\n",
      "    object_store_memory, plasma_directory, huge_pages)\n",
      "  File \"/Users/kuiqian/Github/venv/shapeology_venv/lib/python3.7/site-packages/ray/services.py\", line 1311, in determine_plasma_store_config\n",
      "    \"The requested object store memory size is greater \"\n",
      "Exception: The requested object store memory size is greater than the total available memory.\n",
      "\n",
      "The user-provided path /Users/kuiqian/BstemAtlasDataBackup/ucsd_brain/CSHL_cells_dm/MD589/Amb/MD589_Amb_positive.pkl does not exist.\n",
      "/Users/kuiqian/BstemAtlasDataBackup/ucsd_brain/CSHL_cells_dm/MD589/Amb/MD589_Amb_positive.pkl s3://mousebrainatlas-data/CSHL_cells_dm/MD589/Amb/MD589_Amb_positive.pkl\n",
      "\n",
      "The user-provided path /Users/kuiqian/BstemAtlasDataBackup/ucsd_brain/CSHL_cells_dm/MD589/Amb/MD589_Amb_negative.pkl does not exist.\n",
      "/Users/kuiqian/BstemAtlasDataBackup/ucsd_brain/CSHL_cells_dm/MD589/Amb/MD589_Amb_negative.pkl s3://mousebrainatlas-data/CSHL_cells_dm/MD589/Amb/MD589_Amb_positive.pkl\n",
      "populating for  SNR\n",
      "/Users/kuiqian/Github/venv/shapeology_venv/lib/python3.7/site-packages/sklearn/externals/joblib/externals/cloudpickle/cloudpickle.py:47: DeprecationWarning: the imp module is deprecated in favour of importlib; see the module's documentation for alternative uses\n",
      "  import imp\n",
      "2019-05-24 03:45:21,592\tINFO node.py:469 -- Process STDOUT and STDERR is being redirected to /tmp/ray/session_2019-05-24_03-45-21_12174/logs.\n",
      "2019-05-24 03:45:21,698\tINFO services.py:407 -- Waiting for redis server at 127.0.0.1:15085 to respond...\n",
      "2019-05-24 03:45:21,820\tINFO services.py:407 -- Waiting for redis server at 127.0.0.1:36236 to respond...\n",
      "2019-05-24 03:45:21,823\tINFO services.py:804 -- Starting Redis shard with 30.0 GB max memory.\n",
      "2019-05-24 03:45:21,834\tINFO node.py:483 -- Process STDOUT and STDERR is being redirected to /tmp/ray/session_2019-05-24_03-45-21_12174/logs.\n",
      "Traceback (most recent call last):\n",
      "  File \"/Users/kuiqian/Github/shapeology_code/scripts//Cell_generator.py\", line 28, in <module>\n",
      "    ray.init(object_store_memory=70000000000,redis_max_memory=30000000000)\n",
      "  File \"/Users/kuiqian/Github/venv/shapeology_venv/lib/python3.7/site-packages/ray/worker.py\", line 1393, in init\n",
      "    head=True, shutdown_at_exit=False, ray_params=ray_params)\n",
      "  File \"/Users/kuiqian/Github/venv/shapeology_venv/lib/python3.7/site-packages/ray/node.py\", line 133, in __init__\n",
      "    self.start_ray_processes()\n",
      "  File \"/Users/kuiqian/Github/venv/shapeology_venv/lib/python3.7/site-packages/ray/node.py\", line 485, in start_ray_processes\n",
      "    self.start_plasma_store()\n",
      "  File \"/Users/kuiqian/Github/venv/shapeology_venv/lib/python3.7/site-packages/ray/node.py\", line 386, in start_plasma_store\n",
      "    plasma_store_socket_name=self._plasma_store_socket_name)\n",
      "  File \"/Users/kuiqian/Github/venv/shapeology_venv/lib/python3.7/site-packages/ray/services.py\", line 1415, in start_plasma_store\n",
      "    object_store_memory, plasma_directory, huge_pages)\n",
      "  File \"/Users/kuiqian/Github/venv/shapeology_venv/lib/python3.7/site-packages/ray/services.py\", line 1311, in determine_plasma_store_config\n",
      "    \"The requested object store memory size is greater \"\n",
      "Exception: The requested object store memory size is greater than the total available memory.\n"
     ]
    },
    {
     "name": "stdout",
     "output_type": "stream",
     "text": [
      "\n",
      "The user-provided path /Users/kuiqian/BstemAtlasDataBackup/ucsd_brain/CSHL_cells_dm/MD589/SNR/MD589_SNR_positive.pkl does not exist.\n",
      "/Users/kuiqian/BstemAtlasDataBackup/ucsd_brain/CSHL_cells_dm/MD589/SNR/MD589_SNR_positive.pkl s3://mousebrainatlas-data/CSHL_cells_dm/MD589/SNR/MD589_SNR_positive.pkl\n"
     ]
    },
    {
     "ename": "NoSuchKey",
     "evalue": "NoSuchKey: message: The specified key does not exist.",
     "output_type": "error",
     "traceback": [
      "\u001b[0;31m---------------------------------------------------------------------------\u001b[0m",
      "\u001b[0;31mNoSuchKey\u001b[0m                                 Traceback (most recent call last)",
      "\u001b[0;32m<ipython-input-37-f5287282aba0>\u001b[0m in \u001b[0;36mmake\u001b[0;34m(self, key)\u001b[0m\n\u001b[1;32m     19\u001b[0m             \u001b[0;32mtry\u001b[0m\u001b[0;34m:\u001b[0m\u001b[0;34m\u001b[0m\u001b[0;34m\u001b[0m\u001b[0m\n\u001b[0;32m---> 20\u001b[0;31m                 \u001b[0mreport\u001b[0m \u001b[0;34m=\u001b[0m \u001b[0mself\u001b[0m\u001b[0;34m.\u001b[0m\u001b[0mclient\u001b[0m\u001b[0;34m.\u001b[0m\u001b[0mstat_object\u001b[0m\u001b[0;34m(\u001b[0m\u001b[0mself\u001b[0m\u001b[0;34m.\u001b[0m\u001b[0mbucket\u001b[0m\u001b[0;34m,\u001b[0m \u001b[0ms3_fp\u001b[0m\u001b[0;34m)\u001b[0m\u001b[0;34m\u001b[0m\u001b[0;34m\u001b[0m\u001b[0m\n\u001b[0m\u001b[1;32m     21\u001b[0m                 \u001b[0mkey\u001b[0m\u001b[0;34m[\u001b[0m\u001b[0mkey_item\u001b[0m\u001b[0;34m]\u001b[0m \u001b[0;34m=\u001b[0m \u001b[0mint\u001b[0m\u001b[0;34m(\u001b[0m\u001b[0mreport\u001b[0m\u001b[0;34m.\u001b[0m\u001b[0msize\u001b[0m\u001b[0;34m/\u001b[0m\u001b[0;36m1000000\u001b[0m\u001b[0;34m)\u001b[0m\u001b[0;34m\u001b[0m\u001b[0;34m\u001b[0m\u001b[0m\n",
      "\u001b[0;32m~/Github/venv/shapeology_venv/lib/python3.7/site-packages/minio/api.py\u001b[0m in \u001b[0;36mstat_object\u001b[0;34m(self, bucket_name, object_name, sse)\u001b[0m\n\u001b[1;32m    995\u001b[0m         response = self._url_open('HEAD', bucket_name=bucket_name,\n\u001b[0;32m--> 996\u001b[0;31m                                   object_name=object_name, headers=headers)\n\u001b[0m\u001b[1;32m    997\u001b[0m \u001b[0;34m\u001b[0m\u001b[0m\n",
      "\u001b[0;32m~/Github/venv/shapeology_venv/lib/python3.7/site-packages/minio/api.py\u001b[0m in \u001b[0;36m_url_open\u001b[0;34m(self, method, bucket_name, object_name, query, body, headers, content_sha256, preload_content)\u001b[0m\n\u001b[1;32m   1900\u001b[0m                                     \u001b[0mbucket_name\u001b[0m\u001b[0;34m,\u001b[0m\u001b[0;34m\u001b[0m\u001b[0;34m\u001b[0m\u001b[0m\n\u001b[0;32m-> 1901\u001b[0;31m                                     object_name).get_exception()\n\u001b[0m\u001b[1;32m   1902\u001b[0m             \u001b[0;32melse\u001b[0m\u001b[0;34m:\u001b[0m\u001b[0;34m\u001b[0m\u001b[0;34m\u001b[0m\u001b[0m\n",
      "\u001b[0;31mNoSuchKey\u001b[0m: NoSuchKey: message: The specified key does not exist.",
      "\nDuring handling of the above exception, another exception occurred:\n",
      "\u001b[0;31mNoSuchKey\u001b[0m                                 Traceback (most recent call last)",
      "\u001b[0;32m<ipython-input-38-700b82bd1bf3>\u001b[0m in \u001b[0;36m<module>\u001b[0;34m\u001b[0m\n\u001b[1;32m      1\u001b[0m \u001b[0mdiffusion\u001b[0m \u001b[0;34m=\u001b[0m \u001b[0mProcess\u001b[0m\u001b[0;34m(\u001b[0m\u001b[0;34m)\u001b[0m\u001b[0;34m\u001b[0m\u001b[0;34m\u001b[0m\u001b[0m\n\u001b[0;32m----> 2\u001b[0;31m \u001b[0mdiffusion\u001b[0m\u001b[0;34m.\u001b[0m\u001b[0mpopulate\u001b[0m\u001b[0;34m(\u001b[0m\u001b[0mreserve_jobs\u001b[0m\u001b[0;34m=\u001b[0m\u001b[0;32mTrue\u001b[0m\u001b[0;34m)\u001b[0m\u001b[0;34m\u001b[0m\u001b[0;34m\u001b[0m\u001b[0m\n\u001b[0m",
      "\u001b[0;32m~/Github/venv/shapeology_venv/lib/python3.7/site-packages/datajoint/autopopulate.py\u001b[0m in \u001b[0;36mpopulate\u001b[0;34m(self, suppress_errors, return_exception_objects, reserve_jobs, order, limit, max_calls, display_progress, *restrictions)\u001b[0m\n\u001b[1;32m    152\u001b[0m                     \u001b[0mself\u001b[0m\u001b[0;34m.\u001b[0m\u001b[0m_allow_insert\u001b[0m \u001b[0;34m=\u001b[0m \u001b[0;32mTrue\u001b[0m\u001b[0;34m\u001b[0m\u001b[0;34m\u001b[0m\u001b[0m\n\u001b[1;32m    153\u001b[0m                     \u001b[0;32mtry\u001b[0m\u001b[0;34m:\u001b[0m\u001b[0;34m\u001b[0m\u001b[0;34m\u001b[0m\u001b[0m\n\u001b[0;32m--> 154\u001b[0;31m                         \u001b[0mmake\u001b[0m\u001b[0;34m(\u001b[0m\u001b[0mdict\u001b[0m\u001b[0;34m(\u001b[0m\u001b[0mkey\u001b[0m\u001b[0;34m)\u001b[0m\u001b[0;34m)\u001b[0m\u001b[0;34m\u001b[0m\u001b[0;34m\u001b[0m\u001b[0m\n\u001b[0m\u001b[1;32m    155\u001b[0m                     \u001b[0;32mexcept\u001b[0m \u001b[0;34m(\u001b[0m\u001b[0mKeyboardInterrupt\u001b[0m\u001b[0;34m,\u001b[0m \u001b[0mSystemExit\u001b[0m\u001b[0;34m,\u001b[0m \u001b[0mException\u001b[0m\u001b[0;34m)\u001b[0m \u001b[0;32mas\u001b[0m \u001b[0merror\u001b[0m\u001b[0;34m:\u001b[0m\u001b[0;34m\u001b[0m\u001b[0;34m\u001b[0m\u001b[0m\n\u001b[1;32m    156\u001b[0m                         \u001b[0;32mtry\u001b[0m\u001b[0;34m:\u001b[0m\u001b[0;34m\u001b[0m\u001b[0;34m\u001b[0m\u001b[0m\n",
      "\u001b[0;32m<ipython-input-37-f5287282aba0>\u001b[0m in \u001b[0;36mmake\u001b[0;34m(self, key)\u001b[0m\n\u001b[1;32m     30\u001b[0m                 \u001b[0mget_ipython\u001b[0m\u001b[0;34m(\u001b[0m\u001b[0;34m)\u001b[0m\u001b[0;34m.\u001b[0m\u001b[0msystem\u001b[0m\u001b[0;34m(\u001b[0m\u001b[0;34m' aws s3 cp $pkl_out_file $upload_fp'\u001b[0m\u001b[0;34m)\u001b[0m\u001b[0;34m\u001b[0m\u001b[0;34m\u001b[0m\u001b[0m\n\u001b[1;32m     31\u001b[0m                 \u001b[0mprint\u001b[0m\u001b[0;34m(\u001b[0m\u001b[0mpkl_out_file\u001b[0m\u001b[0;34m,\u001b[0m\u001b[0mupload_fp\u001b[0m\u001b[0;34m)\u001b[0m\u001b[0;34m\u001b[0m\u001b[0;34m\u001b[0m\u001b[0m\n\u001b[0;32m---> 32\u001b[0;31m                 \u001b[0mreport\u001b[0m \u001b[0;34m=\u001b[0m \u001b[0mself\u001b[0m\u001b[0;34m.\u001b[0m\u001b[0mclient\u001b[0m\u001b[0;34m.\u001b[0m\u001b[0mstat_object\u001b[0m\u001b[0;34m(\u001b[0m\u001b[0mself\u001b[0m\u001b[0;34m.\u001b[0m\u001b[0mbucket\u001b[0m\u001b[0;34m,\u001b[0m \u001b[0ms3_fp\u001b[0m\u001b[0;34m)\u001b[0m\u001b[0;34m\u001b[0m\u001b[0;34m\u001b[0m\u001b[0m\n\u001b[0m\u001b[1;32m     33\u001b[0m                 \u001b[0mkey\u001b[0m\u001b[0;34m[\u001b[0m\u001b[0mkey_item\u001b[0m\u001b[0;34m]\u001b[0m \u001b[0;34m=\u001b[0m \u001b[0mint\u001b[0m\u001b[0;34m(\u001b[0m\u001b[0mreport\u001b[0m\u001b[0;34m.\u001b[0m\u001b[0msize\u001b[0m \u001b[0;34m/\u001b[0m \u001b[0;36m1000000\u001b[0m\u001b[0;34m)\u001b[0m\u001b[0;34m\u001b[0m\u001b[0;34m\u001b[0m\u001b[0m\n\u001b[1;32m     34\u001b[0m         \u001b[0;32mtry\u001b[0m\u001b[0;34m:\u001b[0m\u001b[0;34m\u001b[0m\u001b[0;34m\u001b[0m\u001b[0m\n",
      "\u001b[0;32m~/Github/venv/shapeology_venv/lib/python3.7/site-packages/minio/api.py\u001b[0m in \u001b[0;36mstat_object\u001b[0;34m(self, bucket_name, object_name, sse)\u001b[0m\n\u001b[1;32m    994\u001b[0m \u001b[0;34m\u001b[0m\u001b[0m\n\u001b[1;32m    995\u001b[0m         response = self._url_open('HEAD', bucket_name=bucket_name,\n\u001b[0;32m--> 996\u001b[0;31m                                   object_name=object_name, headers=headers)\n\u001b[0m\u001b[1;32m    997\u001b[0m \u001b[0;34m\u001b[0m\u001b[0m\n\u001b[1;32m    998\u001b[0m         \u001b[0metag\u001b[0m \u001b[0;34m=\u001b[0m \u001b[0mresponse\u001b[0m\u001b[0;34m.\u001b[0m\u001b[0mheaders\u001b[0m\u001b[0;34m.\u001b[0m\u001b[0mget\u001b[0m\u001b[0;34m(\u001b[0m\u001b[0;34m'etag'\u001b[0m\u001b[0;34m,\u001b[0m \u001b[0;34m''\u001b[0m\u001b[0;34m)\u001b[0m\u001b[0;34m.\u001b[0m\u001b[0mreplace\u001b[0m\u001b[0;34m(\u001b[0m\u001b[0;34m'\"'\u001b[0m\u001b[0;34m,\u001b[0m \u001b[0;34m''\u001b[0m\u001b[0;34m)\u001b[0m\u001b[0;34m\u001b[0m\u001b[0;34m\u001b[0m\u001b[0m\n",
      "\u001b[0;32m~/Github/venv/shapeology_venv/lib/python3.7/site-packages/minio/api.py\u001b[0m in \u001b[0;36m_url_open\u001b[0;34m(self, method, bucket_name, object_name, query, body, headers, content_sha256, preload_content)\u001b[0m\n\u001b[1;32m   1899\u001b[0m                                     \u001b[0mmethod\u001b[0m\u001b[0;34m,\u001b[0m\u001b[0;34m\u001b[0m\u001b[0;34m\u001b[0m\u001b[0m\n\u001b[1;32m   1900\u001b[0m                                     \u001b[0mbucket_name\u001b[0m\u001b[0;34m,\u001b[0m\u001b[0;34m\u001b[0m\u001b[0;34m\u001b[0m\u001b[0m\n\u001b[0;32m-> 1901\u001b[0;31m                                     object_name).get_exception()\n\u001b[0m\u001b[1;32m   1902\u001b[0m             \u001b[0;32melse\u001b[0m\u001b[0;34m:\u001b[0m\u001b[0;34m\u001b[0m\u001b[0;34m\u001b[0m\u001b[0m\n\u001b[1;32m   1903\u001b[0m                 raise ValueError('Unsupported method returned'\n",
      "\u001b[0;31mNoSuchKey\u001b[0m: NoSuchKey: message: The specified key does not exist."
     ]
    }
   ],
   "source": [
    "diffusion = Process()\n",
    "diffusion.populate(reserve_jobs=True)\n"
   ]
  },
  {
   "cell_type": "code",
   "execution_count": 16,
   "metadata": {},
   "outputs": [
    {
     "data": {
      "text/plain": [
       "[OrderedDict([('id', 1), ('size_positive', 103), ('size_negative', 1615)])]"
      ]
     },
     "execution_count": 16,
     "metadata": {},
     "output_type": "execute_result"
    }
   ],
   "source": [
    "diffusion.fetch(as_dict=True)"
   ]
  },
  {
   "cell_type": "code",
   "execution_count": null,
   "metadata": {},
   "outputs": [],
   "source": []
  }
 ],
 "metadata": {
  "kernelspec": {
   "display_name": "shapeology",
   "language": "python",
   "name": "shapeology_code"
  },
  "language_info": {
   "codemirror_mode": {
    "name": "ipython",
    "version": 3
   },
   "file_extension": ".py",
   "mimetype": "text/x-python",
   "name": "python",
   "nbconvert_exporter": "python",
   "pygments_lexer": "ipython3",
   "version": "3.7.3"
  }
 },
 "nbformat": 4,
 "nbformat_minor": 2
}
