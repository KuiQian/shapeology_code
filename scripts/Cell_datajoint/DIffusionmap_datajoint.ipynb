{
 "cells": [
  {
   "cell_type": "markdown",
   "metadata": {},
   "source": [
    "## Imports, Connect to Database"
   ]
  },
  {
   "cell_type": "code",
   "execution_count": 1,
   "metadata": {},
   "outputs": [],
   "source": [
    "import datajoint as dj\n",
    "import numpy as np\n",
    "import json\n",
    "from subprocess import call\n",
    "import yaml\n",
    "import sys, os\n",
    "import pandas as pd\n",
    "import ray\n",
    "\n",
    "sys.path.append('./lib')\n",
    "from utilities import *\n",
    "sys.path.append('../lib')\n",
    "from utils import run"
   ]
  },
  {
   "cell_type": "code",
   "execution_count": 2,
   "metadata": {},
   "outputs": [
    {
     "name": "stdout",
     "output_type": "stream",
     "text": [
      "Connecting kui@ucsd-demo-db.datajoint.io:3306\n"
     ]
    },
    {
     "name": "stderr",
     "output_type": "stream",
     "text": [
      "./lib/utilities.py:14: YAMLLoadWarning: calling yaml.load() without Loader=... is deprecated, as the default Loader is unsafe. Please read https://msg.pyyaml.org/load for full details.\n",
      "  credFiles = yaml.load(open( credential_file_pointers,'r'))\n"
     ]
    },
    {
     "data": {
      "text/plain": [
       "DataJoint connection (connected) kui@ucsd-demo-db.datajoint.io:3306"
      ]
     },
     "execution_count": 2,
     "metadata": {},
     "output_type": "execute_result"
    }
   ],
   "source": [
    "credFiles= '/data/Github/VaultBrain/credFiles_aws.yaml'\n",
    "#'/Users/kuiqian/Github/VaultBrain/credFiles.yaml'\n",
    "dj.config['database.host'] = get_dj_creds(credFiles)['database.host']\n",
    "dj.config['database.user'] = get_dj_creds(credFiles)['database.user']\n",
    "dj.config['database.port'] = get_dj_creds(credFiles)['database.port']\n",
    "dj.config['database.password'] = get_dj_creds(credFiles)['database.password']\n",
    "dj.conn()"
   ]
  },
  {
   "cell_type": "code",
   "execution_count": 3,
   "metadata": {},
   "outputs": [],
   "source": [
    "schema = dj.schema('kui_diffusionmap')\n",
    "schema.spawn_missing_classes()"
   ]
  },
  {
   "cell_type": "code",
   "execution_count": 4,
   "metadata": {},
   "outputs": [],
   "source": [
    "stack = 'MD589'\n",
    "yaml_file = 'shape_params-aws.yaml'\n",
    "scripts_dir = os.environ['REPO_DIR']"
   ]
  },
  {
   "cell_type": "markdown",
   "metadata": {},
   "source": [
    "## Create Process Table\n",
    "--script  shapeolopy_code/scripts/Cell_generator.py"
   ]
  },
  {
   "cell_type": "code",
   "execution_count": 10,
   "metadata": {},
   "outputs": [
    {
     "name": "stderr",
     "output_type": "stream",
     "text": [
      "./lib/utilities.py:27: YAMLLoadWarning: calling yaml.load() without Loader=... is deprecated, as the default Loader is unsafe. Please read https://msg.pyyaml.org/load for full details.\n",
      "  credFiles = yaml.load(open( credential_file_pointers,'r'))\n"
     ]
    }
   ],
   "source": [
    "@schema\n",
    "class Process(dj.Computed):\n",
    "    definition=\"\"\"\n",
    "    -> Structure\n",
    "    -----\n",
    "    size_positive : int   #size of file\n",
    "    size_negative : int   #size of file\n",
    "    \"\"\"\n",
    "    bucket = \"mousebrainatlas-data\"\n",
    "    client = get_s3_client(credFiles)\n",
    "    def make(self, key):\n",
    "        struc = (Structure & key).fetch1('structure')\n",
    "        print('populating for ', struc, end='\\n')\n",
    "        for state in ['positive', 'negative']:\n",
    "            item_name = state+'_s3_fp'\n",
    "            key_item = 'size_'+state\n",
    "            s3_fp = (Structure & key).fetch1(item_name)\n",
    "            try:\n",
    "                report = self.client.stat_object(self.bucket, s3_fp)\n",
    "                key[key_item] = int(report.size/1000000)\n",
    "            except:\n",
    "                ! python3 $scripts_dir/Cell_generator.py $stack $struc $state $yaml_file\n",
    "                upload_fp = 's3://'+self.bucket+'/'+s3_fp\n",
    "                pkl_out_file = os.environ['ROOT_DIR']+'CSHL_cells_dm/'+stack+'/'+ struc + '/'+stack+'_'+struc+'_'+state+'.pkl'\n",
    "                ! aws s3 cp $pkl_out_file $upload_fp\n",
    "                print(pkl_out_file,upload_fp)\n",
    "                report = self.client.stat_object(self.bucket, s3_fp)\n",
    "                key[key_item] = int(report.size / 1000000)\n",
    "        try:\n",
    "            self.insert1(key)\n",
    "        except:\n",
    "            print('could not insert key=', key)\n"
   ]
  },
  {
   "cell_type": "code",
   "execution_count": 13,
   "metadata": {},
   "outputs": [
    {
     "name": "stdout",
     "output_type": "stream",
     "text": [
      "`kui_diffusionmap`.`__process` (10 tuples)\n",
      "Proceed? [yes, No]: yes\n",
      "Tables dropped.  Restart kernel.\n"
     ]
    }
   ],
   "source": [
    "Process.drop()"
   ]
  },
  {
   "cell_type": "code",
   "execution_count": 13,
   "metadata": {},
   "outputs": [],
   "source": [
    "diffusion = Process()"
   ]
  },
  {
   "cell_type": "code",
   "execution_count": 17,
   "metadata": {},
   "outputs": [
    {
     "name": "stdout",
     "output_type": "stream",
     "text": [
      "populating for  Sp5C\n",
      "2019-05-31 06:43:27,344\tWARNING worker.py:1341 -- WARNING: Not updating worker name since `setproctitle` is not installed. Install this with `pip install setproctitle` (or ray[debug]) to enable monitoring of worker processes.\n",
      "2019-05-31 06:43:27,345\tINFO node.py:497 -- Process STDOUT and STDERR is being redirected to /tmp/ray/session_2019-05-31_06-43-27_344998_13875/logs.\n",
      "2019-05-31 06:43:27,452\tINFO services.py:409 -- Waiting for redis server at 127.0.0.1:33284 to respond...\n",
      "2019-05-31 06:43:27,561\tINFO services.py:409 -- Waiting for redis server at 127.0.0.1:22816 to respond...\n",
      "2019-05-31 06:43:27,562\tINFO services.py:806 -- Starting Redis shard with 10.0 GB max memory.\n",
      "2019-05-31 06:43:27,574\tINFO node.py:511 -- Process STDOUT and STDERR is being redirected to /tmp/ray/session_2019-05-31_06-43-27_344998_13875/logs.\n",
      "2019-05-31 06:43:27,574\tWARNING services.py:1293 -- Warning: Capping object memory store to 20.0GB. To increase this further, specify `object_store_memory` when calling ray.init() or ray start.\n",
      "2019-05-31 06:43:27,574\tINFO services.py:1441 -- Starting the Plasma object store with 20.0 GB memory using /dev/shm.\n",
      "/data/Github/shapeology_code/scripts/lib/utils.py:22: YAMLLoadWarning: calling yaml.load() without Loader=... is deprecated, as the default Loader is unsafe. Please read https://msg.pyyaml.org/load for full details.\n",
      "  self.D=yaml.load(open(yamlFile,'r'))\n",
      "/data/BstemAtlasDataBackup/ucsd_brain/CSHL_cells_dm/MD589/\n",
      "\u001b[2m\u001b[36m(pid=14009)\u001b[0m Sp5C_negative 516 0 / 141\n",
      "\u001b[2m\u001b[36m(pid=14009)\u001b[0m Sp5C_negative 7503 10 / 141\n",
      "\u001b[2m\u001b[36m(pid=14009)\u001b[0m Sp5C_negative 19718 20 / 141\n",
      "\u001b[2m\u001b[36m(pid=14009)\u001b[0m Sp5C_negative 39616 30 / 141\n",
      "\u001b[2m\u001b[36m(pid=14009)\u001b[0m Sp5C_negative 66284 40 / 141\n",
      "\u001b[2m\u001b[36m(pid=14009)\u001b[0m Sp5C_negative 90650 50 / 141\n",
      "\u001b[2m\u001b[36m(pid=14009)\u001b[0m Sp5C_negative 110267 60 / 141\n",
      "\u001b[2m\u001b[36m(pid=14009)\u001b[0m Sp5C_negative 127547 70 / 141\n",
      "\u001b[2m\u001b[36m(pid=14009)\u001b[0m Sp5C_negative 141122 80 / 141\n",
      "\u001b[2m\u001b[36m(pid=14009)\u001b[0m Sp5C_negative 156643 90 / 141\n",
      "\u001b[2m\u001b[36m(pid=14009)\u001b[0m Sp5C_negative 176232 100 / 141\n",
      "\u001b[2m\u001b[36m(pid=14009)\u001b[0m Sp5C_negative 198627 110 / 141\n",
      "\u001b[2m\u001b[36m(pid=14009)\u001b[0m Sp5C_negative 222376 120 / 141\n",
      "\u001b[2m\u001b[36m(pid=14009)\u001b[0m Sp5C_negative 235916 130 / 141\n",
      "\u001b[2m\u001b[36m(pid=14009)\u001b[0m Sp5C_negative 245354 140 / 141\n",
      "\u001b[2m\u001b[36m(pid=14009)\u001b[0m Sp5C_negative 245354\n",
      "\u001b[2m\u001b[36m(pid=14009)\u001b[0m Sp5C_negative finished in 370.7 seconds\n",
      "upload: ../../../../BstemAtlasDataBackup/ucsd_brain/CSHL_cells_dm/MD589/Sp5C/MD589_Sp5C_negative.pkl to s3://mousebrainatlas-data/CSHL_cells_dm/MD589/Sp5C/MD589_Sp5C_negative.pkl\n",
      "/data/BstemAtlasDataBackup/ucsd_brain/CSHL_cells_dm/MD589/Sp5C/MD589_Sp5C_negative.pkl s3://mousebrainatlas-data/CSHL_cells_dm/MD589/Sp5C/MD589_Sp5C_negative.pkl\n",
      "populating for  10N\n",
      "2019-05-31 06:50:31,124\tWARNING worker.py:1341 -- WARNING: Not updating worker name since `setproctitle` is not installed. Install this with `pip install setproctitle` (or ray[debug]) to enable monitoring of worker processes.\n",
      "2019-05-31 06:50:31,125\tINFO node.py:497 -- Process STDOUT and STDERR is being redirected to /tmp/ray/session_2019-05-31_06-50-31_124791_33554/logs.\n",
      "2019-05-31 06:50:31,231\tINFO services.py:409 -- Waiting for redis server at 127.0.0.1:58356 to respond...\n",
      "2019-05-31 06:50:31,341\tINFO services.py:409 -- Waiting for redis server at 127.0.0.1:62195 to respond...\n",
      "2019-05-31 06:50:31,342\tINFO services.py:806 -- Starting Redis shard with 10.0 GB max memory.\n",
      "2019-05-31 06:50:31,354\tINFO node.py:511 -- Process STDOUT and STDERR is being redirected to /tmp/ray/session_2019-05-31_06-50-31_124791_33554/logs.\n",
      "2019-05-31 06:50:31,354\tWARNING services.py:1293 -- Warning: Capping object memory store to 20.0GB. To increase this further, specify `object_store_memory` when calling ray.init() or ray start.\n",
      "2019-05-31 06:50:31,354\tINFO services.py:1441 -- Starting the Plasma object store with 20.0 GB memory using /dev/shm.\n",
      "/data/Github/shapeology_code/scripts/lib/utils.py:22: YAMLLoadWarning: calling yaml.load() without Loader=... is deprecated, as the default Loader is unsafe. Please read https://msg.pyyaml.org/load for full details.\n",
      "  self.D=yaml.load(open(yamlFile,'r'))\n",
      "/data/BstemAtlasDataBackup/ucsd_brain/CSHL_cells_dm/MD589/\n",
      "\u001b[2m\u001b[36m(pid=33678)\u001b[0m 10N_positive 26 0 / 46\n",
      "\u001b[2m\u001b[36m(pid=33678)\u001b[0m 10N_positive 1241 10 / 46\n",
      "\u001b[2m\u001b[36m(pid=33678)\u001b[0m 10N_positive 2881 20 / 46\n",
      "\u001b[2m\u001b[36m(pid=33678)\u001b[0m 10N_positive 3956 30 / 46\n",
      "\u001b[2m\u001b[36m(pid=33678)\u001b[0m 10N_positive 5332 40 / 46\n",
      "\u001b[2m\u001b[36m(pid=33678)\u001b[0m 10N_positive 5472\n",
      "\u001b[2m\u001b[36m(pid=33678)\u001b[0m 10N_positive finished in  21.7 seconds\n",
      "upload: ../../../../BstemAtlasDataBackup/ucsd_brain/CSHL_cells_dm/MD589/10N/MD589_10N_positive.pkl to s3://mousebrainatlas-data/CSHL_cells_dm/MD589/10N/MD589_10N_positive.pkl\n",
      "/data/BstemAtlasDataBackup/ucsd_brain/CSHL_cells_dm/MD589/10N/MD589_10N_positive.pkl s3://mousebrainatlas-data/CSHL_cells_dm/MD589/10N/MD589_10N_positive.pkl\n",
      "2019-05-31 06:51:01,332\tWARNING worker.py:1341 -- WARNING: Not updating worker name since `setproctitle` is not installed. Install this with `pip install setproctitle` (or ray[debug]) to enable monitoring of worker processes.\n",
      "2019-05-31 06:51:01,333\tINFO node.py:497 -- Process STDOUT and STDERR is being redirected to /tmp/ray/session_2019-05-31_06-51-01_333117_5763/logs.\n",
      "2019-05-31 06:51:01,440\tINFO services.py:409 -- Waiting for redis server at 127.0.0.1:20993 to respond...\n",
      "2019-05-31 06:51:01,548\tINFO services.py:409 -- Waiting for redis server at 127.0.0.1:55570 to respond...\n",
      "2019-05-31 06:51:01,549\tINFO services.py:806 -- Starting Redis shard with 10.0 GB max memory.\n",
      "2019-05-31 06:51:01,561\tINFO node.py:511 -- Process STDOUT and STDERR is being redirected to /tmp/ray/session_2019-05-31_06-51-01_333117_5763/logs.\n",
      "2019-05-31 06:51:01,562\tWARNING services.py:1293 -- Warning: Capping object memory store to 20.0GB. To increase this further, specify `object_store_memory` when calling ray.init() or ray start.\n",
      "2019-05-31 06:51:01,562\tINFO services.py:1441 -- Starting the Plasma object store with 20.0 GB memory using /dev/shm.\n",
      "/data/Github/shapeology_code/scripts/lib/utils.py:22: YAMLLoadWarning: calling yaml.load() without Loader=... is deprecated, as the default Loader is unsafe. Please read https://msg.pyyaml.org/load for full details.\n",
      "  self.D=yaml.load(open(yamlFile,'r'))\n",
      "/data/BstemAtlasDataBackup/ucsd_brain/CSHL_cells_dm/MD589/\n",
      "\u001b[2m\u001b[36m(pid=5883)\u001b[0m 10N_negative 830 0 / 46\n",
      "\u001b[2m\u001b[36m(pid=5883)\u001b[0m 10N_negative 13275 10 / 46\n",
      "\u001b[2m\u001b[36m(pid=5883)\u001b[0m 10N_negative 25341 20 / 46\n",
      "\u001b[2m\u001b[36m(pid=5883)\u001b[0m 10N_negative 36945 30 / 46\n",
      "\u001b[2m\u001b[36m(pid=5883)\u001b[0m 10N_negative 49602 40 / 46\n",
      "\u001b[2m\u001b[36m(pid=5883)\u001b[0m 10N_negative 54249\n",
      "\u001b[2m\u001b[36m(pid=5883)\u001b[0m 10N_negative finished in  59.7 seconds\n",
      "upload: ../../../../BstemAtlasDataBackup/ucsd_brain/CSHL_cells_dm/MD589/10N/MD589_10N_negative.pkl to s3://mousebrainatlas-data/CSHL_cells_dm/MD589/10N/MD589_10N_negative.pkl\n",
      "/data/BstemAtlasDataBackup/ucsd_brain/CSHL_cells_dm/MD589/10N/MD589_10N_negative.pkl s3://mousebrainatlas-data/CSHL_cells_dm/MD589/10N/MD589_10N_negative.pkl\n",
      "populating for  VCA\n",
      "2019-05-31 06:52:19,472\tWARNING worker.py:1341 -- WARNING: Not updating worker name since `setproctitle` is not installed. Install this with `pip install setproctitle` (or ray[debug]) to enable monitoring of worker processes.\n",
      "2019-05-31 06:52:19,473\tINFO node.py:497 -- Process STDOUT and STDERR is being redirected to /tmp/ray/session_2019-05-31_06-52-19_472943_14201/logs.\n",
      "2019-05-31 06:52:19,580\tINFO services.py:409 -- Waiting for redis server at 127.0.0.1:29028 to respond...\n",
      "2019-05-31 06:52:19,689\tINFO services.py:409 -- Waiting for redis server at 127.0.0.1:62214 to respond...\n",
      "2019-05-31 06:52:19,690\tINFO services.py:806 -- Starting Redis shard with 10.0 GB max memory.\n",
      "2019-05-31 06:52:19,701\tINFO node.py:511 -- Process STDOUT and STDERR is being redirected to /tmp/ray/session_2019-05-31_06-52-19_472943_14201/logs.\n",
      "2019-05-31 06:52:19,702\tWARNING services.py:1293 -- Warning: Capping object memory store to 20.0GB. To increase this further, specify `object_store_memory` when calling ray.init() or ray start.\n",
      "2019-05-31 06:52:19,702\tINFO services.py:1441 -- Starting the Plasma object store with 20.0 GB memory using /dev/shm.\n"
     ]
    },
    {
     "name": "stdout",
     "output_type": "stream",
     "text": [
      "/data/Github/shapeology_code/scripts/lib/utils.py:22: YAMLLoadWarning: calling yaml.load() without Loader=... is deprecated, as the default Loader is unsafe. Please read https://msg.pyyaml.org/load for full details.\n",
      "  self.D=yaml.load(open(yamlFile,'r'))\n",
      "/data/BstemAtlasDataBackup/ucsd_brain/CSHL_cells_dm/MD589/\n",
      "\u001b[2m\u001b[36m(pid=14334)\u001b[0m VCA_positive 1340 0 / 66\n",
      "\u001b[2m\u001b[36m(pid=14334)\u001b[0m VCA_positive 11883 10 / 66\n",
      "\u001b[2m\u001b[36m(pid=14334)\u001b[0m VCA_positive 22470 20 / 66\n",
      "\u001b[2m\u001b[36m(pid=14334)\u001b[0m VCA_positive 26207 30 / 66\n",
      "\u001b[2m\u001b[36m(pid=14334)\u001b[0m VCA_positive 33562 40 / 66\n",
      "\u001b[2m\u001b[36m(pid=14334)\u001b[0m VCA_positive 49194 50 / 66\n",
      "\u001b[2m\u001b[36m(pid=14334)\u001b[0m VCA_positive 62190 60 / 66\n",
      "\u001b[2m\u001b[36m(pid=14334)\u001b[0m VCA_positive 64628\n",
      "\u001b[2m\u001b[36m(pid=14334)\u001b[0m VCA_positive finished in  70.6 seconds\n",
      "upload: ../../../../BstemAtlasDataBackup/ucsd_brain/CSHL_cells_dm/MD589/VCA/MD589_VCA_positive.pkl to s3://mousebrainatlas-data/CSHL_cells_dm/MD589/VCA/MD589_VCA_positive.pkl\n",
      "/data/BstemAtlasDataBackup/ucsd_brain/CSHL_cells_dm/MD589/VCA/MD589_VCA_positive.pkl s3://mousebrainatlas-data/CSHL_cells_dm/MD589/VCA/MD589_VCA_positive.pkl\n",
      "2019-05-31 06:53:52,109\tWARNING worker.py:1341 -- WARNING: Not updating worker name since `setproctitle` is not installed. Install this with `pip install setproctitle` (or ray[debug]) to enable monitoring of worker processes.\n",
      "2019-05-31 06:53:52,109\tINFO node.py:497 -- Process STDOUT and STDERR is being redirected to /tmp/ray/session_2019-05-31_06-53-52_109661_25332/logs.\n",
      "2019-05-31 06:53:52,216\tINFO services.py:409 -- Waiting for redis server at 127.0.0.1:22527 to respond...\n",
      "2019-05-31 06:53:52,325\tINFO services.py:409 -- Waiting for redis server at 127.0.0.1:23853 to respond...\n",
      "2019-05-31 06:53:52,326\tINFO services.py:806 -- Starting Redis shard with 10.0 GB max memory.\n",
      "2019-05-31 06:53:52,338\tINFO node.py:511 -- Process STDOUT and STDERR is being redirected to /tmp/ray/session_2019-05-31_06-53-52_109661_25332/logs.\n",
      "2019-05-31 06:53:52,338\tWARNING services.py:1293 -- Warning: Capping object memory store to 20.0GB. To increase this further, specify `object_store_memory` when calling ray.init() or ray start.\n",
      "2019-05-31 06:53:52,338\tINFO services.py:1441 -- Starting the Plasma object store with 20.0 GB memory using /dev/shm.\n",
      "/data/Github/shapeology_code/scripts/lib/utils.py:22: YAMLLoadWarning: calling yaml.load() without Loader=... is deprecated, as the default Loader is unsafe. Please read https://msg.pyyaml.org/load for full details.\n",
      "  self.D=yaml.load(open(yamlFile,'r'))\n",
      "/data/BstemAtlasDataBackup/ucsd_brain/CSHL_cells_dm/MD589/\n",
      "\u001b[2m\u001b[36m(pid=25450)\u001b[0m VCA_negative 1275 0 / 66\n",
      "\u001b[2m\u001b[36m(pid=25450)\u001b[0m VCA_negative 14222 10 / 66\n",
      "\u001b[2m\u001b[36m(pid=25450)\u001b[0m VCA_negative 27625 20 / 66\n",
      "\u001b[2m\u001b[36m(pid=25450)\u001b[0m VCA_negative 39958 30 / 66\n",
      "\u001b[2m\u001b[36m(pid=25450)\u001b[0m VCA_negative 53084 40 / 66\n",
      "\u001b[2m\u001b[36m(pid=25450)\u001b[0m VCA_negative 68914 50 / 66\n",
      "\u001b[2m\u001b[36m(pid=25450)\u001b[0m VCA_negative 84646 60 / 66\n",
      "\u001b[2m\u001b[36m(pid=25450)\u001b[0m VCA_negative 91738\n",
      "\u001b[2m\u001b[36m(pid=25450)\u001b[0m VCA_negative finished in 105.6 seconds\n",
      "upload: ../../../../BstemAtlasDataBackup/ucsd_brain/CSHL_cells_dm/MD589/VCA/MD589_VCA_negative.pkl to s3://mousebrainatlas-data/CSHL_cells_dm/MD589/VCA/MD589_VCA_negative.pkl\n",
      "/data/BstemAtlasDataBackup/ucsd_brain/CSHL_cells_dm/MD589/VCA/MD589_VCA_negative.pkl s3://mousebrainatlas-data/CSHL_cells_dm/MD589/VCA/MD589_VCA_negative.pkl\n",
      "populating for  VCP\n",
      "2019-05-31 06:56:00,541\tWARNING worker.py:1341 -- WARNING: Not updating worker name since `setproctitle` is not installed. Install this with `pip install setproctitle` (or ray[debug]) to enable monitoring of worker processes.\n",
      "2019-05-31 06:56:00,542\tINFO node.py:497 -- Process STDOUT and STDERR is being redirected to /tmp/ray/session_2019-05-31_06-56-00_542063_36155/logs.\n",
      "2019-05-31 06:56:00,649\tINFO services.py:409 -- Waiting for redis server at 127.0.0.1:29421 to respond...\n",
      "2019-05-31 06:56:00,757\tINFO services.py:409 -- Waiting for redis server at 127.0.0.1:33583 to respond...\n",
      "2019-05-31 06:56:00,758\tINFO services.py:806 -- Starting Redis shard with 10.0 GB max memory.\n",
      "2019-05-31 06:56:00,771\tINFO node.py:511 -- Process STDOUT and STDERR is being redirected to /tmp/ray/session_2019-05-31_06-56-00_542063_36155/logs.\n",
      "2019-05-31 06:56:00,771\tWARNING services.py:1293 -- Warning: Capping object memory store to 20.0GB. To increase this further, specify `object_store_memory` when calling ray.init() or ray start.\n",
      "2019-05-31 06:56:00,771\tINFO services.py:1441 -- Starting the Plasma object store with 20.0 GB memory using /dev/shm.\n",
      "/data/Github/shapeology_code/scripts/lib/utils.py:22: YAMLLoadWarning: calling yaml.load() without Loader=... is deprecated, as the default Loader is unsafe. Please read https://msg.pyyaml.org/load for full details.\n",
      "  self.D=yaml.load(open(yamlFile,'r'))\n",
      "/data/BstemAtlasDataBackup/ucsd_brain/CSHL_cells_dm/MD589/\n",
      "\u001b[2m\u001b[36m(pid=36268)\u001b[0m VCP_negative 545 0 / 49\n",
      "\u001b[2m\u001b[36m(pid=36268)\u001b[0m VCP_negative 5997 10 / 49\n",
      "\u001b[2m\u001b[36m(pid=36268)\u001b[0m VCP_negative 16021 20 / 49\n",
      "\u001b[2m\u001b[36m(pid=36268)\u001b[0m VCP_negative 23155 30 / 49\n",
      "\u001b[2m\u001b[36m(pid=36268)\u001b[0m VCP_negative 33817 40 / 49\n",
      "\u001b[2m\u001b[36m(pid=36268)\u001b[0m VCP_negative 43245\n",
      "\u001b[2m\u001b[36m(pid=36268)\u001b[0m VCP_negative finished in  56.3 seconds\n",
      "upload: ../../../../BstemAtlasDataBackup/ucsd_brain/CSHL_cells_dm/MD589/VCP/MD589_VCP_negative.pkl to s3://mousebrainatlas-data/CSHL_cells_dm/MD589/VCP/MD589_VCP_negative.pkl\n",
      "/data/BstemAtlasDataBackup/ucsd_brain/CSHL_cells_dm/MD589/VCP/MD589_VCP_negative.pkl s3://mousebrainatlas-data/CSHL_cells_dm/MD589/VCP/MD589_VCP_negative.pkl\n",
      "populating for  DC\n",
      "2019-05-31 06:57:11,877\tWARNING worker.py:1341 -- WARNING: Not updating worker name since `setproctitle` is not installed. Install this with `pip install setproctitle` (or ray[debug]) to enable monitoring of worker processes.\n",
      "2019-05-31 06:57:11,877\tINFO node.py:497 -- Process STDOUT and STDERR is being redirected to /tmp/ray/session_2019-05-31_06-57-11_877500_8823/logs.\n",
      "2019-05-31 06:57:11,984\tINFO services.py:409 -- Waiting for redis server at 127.0.0.1:64983 to respond...\n",
      "2019-05-31 06:57:12,092\tINFO services.py:409 -- Waiting for redis server at 127.0.0.1:33572 to respond...\n",
      "2019-05-31 06:57:12,093\tINFO services.py:806 -- Starting Redis shard with 10.0 GB max memory.\n",
      "2019-05-31 06:57:12,102\tINFO node.py:511 -- Process STDOUT and STDERR is being redirected to /tmp/ray/session_2019-05-31_06-57-11_877500_8823/logs.\n",
      "2019-05-31 06:57:12,103\tWARNING services.py:1293 -- Warning: Capping object memory store to 20.0GB. To increase this further, specify `object_store_memory` when calling ray.init() or ray start.\n",
      "2019-05-31 06:57:12,103\tINFO services.py:1441 -- Starting the Plasma object store with 20.0 GB memory using /dev/shm.\n",
      "/data/Github/shapeology_code/scripts/lib/utils.py:22: YAMLLoadWarning: calling yaml.load() without Loader=... is deprecated, as the default Loader is unsafe. Please read https://msg.pyyaml.org/load for full details.\n",
      "  self.D=yaml.load(open(yamlFile,'r'))\n",
      "/data/BstemAtlasDataBackup/ucsd_brain/CSHL_cells_dm/MD589/\n",
      "\u001b[2m\u001b[36m(pid=8944)\u001b[0m DC_negative 1503 0 / 111\n",
      "\u001b[2m\u001b[36m(pid=8944)\u001b[0m DC_negative 21778 10 / 111\n",
      "\u001b[2m\u001b[36m(pid=8944)\u001b[0m DC_negative 38982 20 / 111\n",
      "\u001b[2m\u001b[36m(pid=8944)\u001b[0m DC_negative 46315 30 / 111\n",
      "\u001b[2m\u001b[36m(pid=8944)\u001b[0m DC_negative 52633 40 / 111\n",
      "\u001b[2m\u001b[36m(pid=8944)\u001b[0m DC_negative 59909 50 / 111\n",
      "\u001b[2m\u001b[36m(pid=8944)\u001b[0m DC_negative 69496 60 / 111\n",
      "\u001b[2m\u001b[36m(pid=8944)\u001b[0m DC_negative 78161 70 / 111\n",
      "\u001b[2m\u001b[36m(pid=8944)\u001b[0m DC_negative 87023 80 / 111\n",
      "\u001b[2m\u001b[36m(pid=8944)\u001b[0m DC_negative 103538 90 / 111\n",
      "\u001b[2m\u001b[36m(pid=8944)\u001b[0m DC_negative 122729 100 / 111\n",
      "\u001b[2m\u001b[36m(pid=8944)\u001b[0m DC_negative 139284 110 / 111\n",
      "\u001b[2m\u001b[36m(pid=8944)\u001b[0m DC_negative 139284\n",
      "\u001b[2m\u001b[36m(pid=8944)\u001b[0m DC_negative finished in 170.1 seconds\n",
      "upload: ../../../../BstemAtlasDataBackup/ucsd_brain/CSHL_cells_dm/MD589/DC/MD589_DC_negative.pkl to s3://mousebrainatlas-data/CSHL_cells_dm/MD589/DC/MD589_DC_negative.pkl\n",
      "/data/BstemAtlasDataBackup/ucsd_brain/CSHL_cells_dm/MD589/DC/MD589_DC_negative.pkl s3://mousebrainatlas-data/CSHL_cells_dm/MD589/DC/MD589_DC_negative.pkl\n"
     ]
    }
   ],
   "source": [
    "diffusion.populate()#reserve_jobs=True"
   ]
  },
  {
   "cell_type": "code",
   "execution_count": 18,
   "metadata": {},
   "outputs": [
    {
     "data": {
      "text/plain": [
       "[OrderedDict([('id', 0), ('size_positive', 1746), ('size_negative', 3095)]),\n",
       " OrderedDict([('id', 1), ('size_positive', 14), ('size_negative', 126)]),\n",
       " OrderedDict([('id', 2), ('size_positive', 3339), ('size_negative', 4785)]),\n",
       " OrderedDict([('id', 3), ('size_positive', 216), ('size_negative', 4851)]),\n",
       " OrderedDict([('id', 4), ('size_positive', 149), ('size_negative', 678)]),\n",
       " OrderedDict([('id', 5), ('size_positive', 975), ('size_negative', 2055)]),\n",
       " OrderedDict([('id', 6), ('size_positive', 2501), ('size_negative', 5549)]),\n",
       " OrderedDict([('id', 7), ('size_positive', 7877), ('size_negative', 5100)]),\n",
       " OrderedDict([('id', 8), ('size_positive', 988), ('size_negative', 2013)]),\n",
       " OrderedDict([('id', 9), ('size_positive', 2656), ('size_negative', 4221)]),\n",
       " OrderedDict([('id', 10), ('size_positive', 1227), ('size_negative', 2946)]),\n",
       " OrderedDict([('id', 11), ('size_positive', 637), ('size_negative', 2429)]),\n",
       " OrderedDict([('id', 12), ('size_positive', 7041), ('size_negative', 10830)]),\n",
       " OrderedDict([('id', 13), ('size_positive', 472), ('size_negative', 1519)]),\n",
       " OrderedDict([('id', 14), ('size_positive', 17), ('size_negative', 315)]),\n",
       " OrderedDict([('id', 15), ('size_positive', 6764), ('size_negative', 3673)]),\n",
       " OrderedDict([('id', 16), ('size_positive', 8697), ('size_negative', 4534)]),\n",
       " OrderedDict([('id', 17), ('size_positive', 13000), ('size_negative', 12678)]),\n",
       " OrderedDict([('id', 18), ('size_positive', 237), ('size_negative', 1282)]),\n",
       " OrderedDict([('id', 19), ('size_positive', 459), ('size_negative', 3193)]),\n",
       " OrderedDict([('id', 20), ('size_positive', 4155), ('size_negative', 4415)]),\n",
       " OrderedDict([('id', 21), ('size_positive', 1589), ('size_negative', 2133)]),\n",
       " OrderedDict([('id', 22), ('size_positive', 3895), ('size_negative', 6748)]),\n",
       " OrderedDict([('id', 23), ('size_positive', 376), ('size_negative', 521)]),\n",
       " OrderedDict([('id', 24), ('size_positive', 1612), ('size_negative', 3335)]),\n",
       " OrderedDict([('id', 25), ('size_positive', 831), ('size_negative', 865)]),\n",
       " OrderedDict([('id', 26), ('size_positive', 21594), ('size_negative', 28108)]),\n",
       " OrderedDict([('id', 27), ('size_positive', 30585), ('size_negative', 21032)])]"
      ]
     },
     "execution_count": 18,
     "metadata": {},
     "output_type": "execute_result"
    }
   ],
   "source": [
    "diffusion.fetch(as_dict=True)"
   ]
  },
  {
   "cell_type": "code",
   "execution_count": null,
   "metadata": {},
   "outputs": [],
   "source": []
  }
 ],
 "metadata": {
  "kernelspec": {
   "display_name": "shapeology",
   "language": "python",
   "name": "shapeology"
  },
  "language_info": {
   "codemirror_mode": {
    "name": "ipython",
    "version": 3
   },
   "file_extension": ".py",
   "mimetype": "text/x-python",
   "name": "python",
   "nbconvert_exporter": "python",
   "pygments_lexer": "ipython3",
   "version": "3.7.1"
  }
 },
 "nbformat": 4,
 "nbformat_minor": 2
}
