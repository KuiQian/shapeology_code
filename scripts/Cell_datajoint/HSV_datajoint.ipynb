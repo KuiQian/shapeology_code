{
 "cells": [
  {
   "cell_type": "code",
   "execution_count": 1,
   "metadata": {},
   "outputs": [],
   "source": [
    "import datajoint as dj\n",
    "import numpy as np\n",
    "import json\n",
    "from subprocess import call\n",
    "import yaml\n",
    "import sys, os\n",
    "import pandas as pd\n",
    "import ray\n",
    "\n",
    "sys.path.append('./lib')\n",
    "from utilities import *\n",
    "sys.path.append('../lib')\n",
    "from utils import run"
   ]
  },
  {
   "cell_type": "code",
   "execution_count": 2,
   "metadata": {},
   "outputs": [],
   "source": [
    "def setup_download_from_s3( rel_fp, recursive=True ):\n",
    "    s3_fp = 's3://mousebrainatlas-data/'+rel_fp\n",
    "    local_fp = os.environ['ROOT_DIR']+rel_fp\n",
    "\n",
    "    if os.path.exists(local_fp):\n",
    "        print('ALREADY DOWNLOADED FILE')\n",
    "        return \n",
    "    \n",
    "    if recursive:\n",
    "        ! aws s3 cp --recursive $s3_fp $local_fp\n",
    "    else:\n",
    "        ! aws s3 cp $s3_fp $local_fp"
   ]
  },
  {
   "cell_type": "code",
   "execution_count": 3,
   "metadata": {},
   "outputs": [
    {
     "name": "stdout",
     "output_type": "stream",
     "text": [
      "ALREADY DOWNLOADED FILE\n"
     ]
    }
   ],
   "source": [
    "setup_download_from_s3('CSHL_patches_features/')"
   ]
  },
  {
   "cell_type": "code",
   "execution_count": 4,
   "metadata": {},
   "outputs": [
    {
     "name": "stderr",
     "output_type": "stream",
     "text": [
      "./lib/utilities.py:14: YAMLLoadWarning: calling yaml.load() without Loader=... is deprecated, as the default Loader is unsafe. Please read https://msg.pyyaml.org/load for full details.\n",
      "  credFiles = yaml.load(open( credential_file_pointers,'r'))\n"
     ]
    },
    {
     "name": "stdout",
     "output_type": "stream",
     "text": [
      "Connecting kui@ucsd-demo-db.datajoint.io:3306\n"
     ]
    },
    {
     "data": {
      "text/plain": [
       "DataJoint connection (connected) kui@ucsd-demo-db.datajoint.io:3306"
      ]
     },
     "execution_count": 4,
     "metadata": {},
     "output_type": "execute_result"
    }
   ],
   "source": [
    "#credFiles= '/data/Github/VaultBrain/credFiles_aws.yaml'\n",
    "credFiles= '/Users/kuiqian/Github/VaultBrain/credFiles.yaml'\n",
    "dj.config['database.host'] = get_dj_creds(credFiles)['database.host']\n",
    "dj.config['database.user'] = get_dj_creds(credFiles)['database.user']\n",
    "dj.config['database.port'] = get_dj_creds(credFiles)['database.port']\n",
    "dj.config['database.password'] = get_dj_creds(credFiles)['database.password']\n",
    "dj.conn()"
   ]
  },
  {
   "cell_type": "code",
   "execution_count": 5,
   "metadata": {},
   "outputs": [],
   "source": [
    "schema = dj.schema('kui_diffusionmap')\n",
    "schema.spawn_missing_classes()"
   ]
  },
  {
   "cell_type": "code",
   "execution_count": 13,
   "metadata": {},
   "outputs": [],
   "source": [
    "stack = 'MD589'\n",
    "#yaml_file = 'shape_params-aws.yaml'\n",
    "yaml_file = 'shape_params.yaml'\n",
    "img_file = '/CSHL_hsv/'+stack+'/'\n",
    "scripts_dir = os.environ['REPO_DIR']"
   ]
  },
  {
   "cell_type": "code",
   "execution_count": 7,
   "metadata": {},
   "outputs": [
    {
     "name": "stdout",
     "output_type": "stream",
     "text": [
      "`kui_diffusionmap`.`structure` (28 tuples)\n",
      "`kui_diffusionmap`.`__process` (28 tuples)\n",
      "Proceed? [yes, No]: yes\n",
      "Tables dropped.  Restart kernel.\n"
     ]
    }
   ],
   "source": [
    "Structure.drop()"
   ]
  },
  {
   "cell_type": "code",
   "execution_count": 8,
   "metadata": {},
   "outputs": [],
   "source": [
    "@schema\n",
    "class Structure(dj.Manual):\n",
    "    definition = \"\"\"\n",
    "    id  : int   # sequence\n",
    "    --------\n",
    "    structure       : char(10)    # name of mouse brain's structure\n",
    "    \"\"\""
   ]
  },
  {
   "cell_type": "code",
   "execution_count": 11,
   "metadata": {},
   "outputs": [
    {
     "name": "stdout",
     "output_type": "stream",
     "text": [
      "\n",
      "Adding 5N to the database\n",
      "\n",
      "Adding 6N to the database\n",
      "\n",
      "Adding 7n to the database\n",
      "\n",
      "Adding 7N to the database\n",
      "\n",
      "Adding Amb to the database\n",
      "\n",
      "Adding LC to the database\n",
      "\n",
      "Adding LRt to the database\n",
      "\n",
      "Adding Pn to the database\n",
      "\n",
      "Adding Tz to the database\n",
      "\n",
      "Adding VLL to the database\n",
      "\n",
      "Adding RMC to the database\n",
      "\n",
      "Adding SNC to the database\n",
      "\n",
      "Adding SNR to the database\n",
      "\n",
      "Adding 3N to the database\n",
      "\n",
      "Adding 4N to the database\n",
      "\n",
      "Adding Sp5I to the database\n",
      "\n",
      "Adding Sp5O to the database\n",
      "\n",
      "Adding Sp5C to the database\n",
      "\n",
      "Adding PBG to the database\n",
      "\n",
      "Adding 10N to the database\n",
      "\n",
      "Adding VCA to the database\n",
      "\n",
      "Adding VCP to the database\n",
      "\n",
      "Adding DC to the database\n",
      "\n",
      "Adding AP to the database\n",
      "\n",
      "Adding 12N to the database\n",
      "\n",
      "Adding RtTg to the database\n",
      "\n",
      "Adding SC to the database\n",
      "\n",
      "Adding IC to the database\n"
     ]
    }
   ],
   "source": [
    "paired_structures = ['5N', '6N', '7n', '7N', 'Amb', 'LC', 'LRt', 'Pn', 'Tz', 'VLL', 'RMC', \\\n",
    "                     'SNC', 'SNR', '3N', '4N', 'Sp5I', 'Sp5O', 'Sp5C', 'PBG', '10N', 'VCA', 'VCP', 'DC']\n",
    "singular_structures = ['AP', '12N', 'RtTg', 'SC', 'IC'] #\n",
    "all_structures = paired_structures + singular_structures\n",
    "n=0\n",
    "for struc in all_structures:\n",
    "    print(\"\\nAdding \"+struc+' to the database')\n",
    "    Structure.insert1(dict(id=n,\n",
    "                           structure=struc,)\n",
    "                      ,skip_duplicates=False)\n",
    "    n+=1"
   ]
  },
  {
   "cell_type": "code",
   "execution_count": 12,
   "metadata": {},
   "outputs": [
    {
     "data": {
      "text/html": [
       "<div>\n",
       "<style scoped>\n",
       "    .dataframe tbody tr th:only-of-type {\n",
       "        vertical-align: middle;\n",
       "    }\n",
       "\n",
       "    .dataframe tbody tr th {\n",
       "        vertical-align: top;\n",
       "    }\n",
       "\n",
       "    .dataframe thead th {\n",
       "        text-align: right;\n",
       "    }\n",
       "</style>\n",
       "<table border=\"1\" class=\"dataframe\">\n",
       "  <thead>\n",
       "    <tr style=\"text-align: right;\">\n",
       "      <th></th>\n",
       "      <th>id</th>\n",
       "      <th>structure</th>\n",
       "    </tr>\n",
       "  </thead>\n",
       "  <tbody>\n",
       "    <tr>\n",
       "      <th>0</th>\n",
       "      <td>0</td>\n",
       "      <td>5N</td>\n",
       "    </tr>\n",
       "    <tr>\n",
       "      <th>1</th>\n",
       "      <td>1</td>\n",
       "      <td>6N</td>\n",
       "    </tr>\n",
       "    <tr>\n",
       "      <th>2</th>\n",
       "      <td>2</td>\n",
       "      <td>7n</td>\n",
       "    </tr>\n",
       "    <tr>\n",
       "      <th>3</th>\n",
       "      <td>3</td>\n",
       "      <td>7N</td>\n",
       "    </tr>\n",
       "    <tr>\n",
       "      <th>4</th>\n",
       "      <td>4</td>\n",
       "      <td>Amb</td>\n",
       "    </tr>\n",
       "    <tr>\n",
       "      <th>5</th>\n",
       "      <td>5</td>\n",
       "      <td>LC</td>\n",
       "    </tr>\n",
       "    <tr>\n",
       "      <th>6</th>\n",
       "      <td>6</td>\n",
       "      <td>LRt</td>\n",
       "    </tr>\n",
       "    <tr>\n",
       "      <th>7</th>\n",
       "      <td>7</td>\n",
       "      <td>Pn</td>\n",
       "    </tr>\n",
       "    <tr>\n",
       "      <th>8</th>\n",
       "      <td>8</td>\n",
       "      <td>Tz</td>\n",
       "    </tr>\n",
       "    <tr>\n",
       "      <th>9</th>\n",
       "      <td>9</td>\n",
       "      <td>VLL</td>\n",
       "    </tr>\n",
       "    <tr>\n",
       "      <th>10</th>\n",
       "      <td>10</td>\n",
       "      <td>RMC</td>\n",
       "    </tr>\n",
       "    <tr>\n",
       "      <th>11</th>\n",
       "      <td>11</td>\n",
       "      <td>SNC</td>\n",
       "    </tr>\n",
       "    <tr>\n",
       "      <th>12</th>\n",
       "      <td>12</td>\n",
       "      <td>SNR</td>\n",
       "    </tr>\n",
       "    <tr>\n",
       "      <th>13</th>\n",
       "      <td>13</td>\n",
       "      <td>3N</td>\n",
       "    </tr>\n",
       "    <tr>\n",
       "      <th>14</th>\n",
       "      <td>14</td>\n",
       "      <td>4N</td>\n",
       "    </tr>\n",
       "    <tr>\n",
       "      <th>15</th>\n",
       "      <td>15</td>\n",
       "      <td>Sp5I</td>\n",
       "    </tr>\n",
       "    <tr>\n",
       "      <th>16</th>\n",
       "      <td>16</td>\n",
       "      <td>Sp5O</td>\n",
       "    </tr>\n",
       "    <tr>\n",
       "      <th>17</th>\n",
       "      <td>17</td>\n",
       "      <td>Sp5C</td>\n",
       "    </tr>\n",
       "    <tr>\n",
       "      <th>18</th>\n",
       "      <td>18</td>\n",
       "      <td>PBG</td>\n",
       "    </tr>\n",
       "    <tr>\n",
       "      <th>19</th>\n",
       "      <td>19</td>\n",
       "      <td>10N</td>\n",
       "    </tr>\n",
       "    <tr>\n",
       "      <th>20</th>\n",
       "      <td>20</td>\n",
       "      <td>VCA</td>\n",
       "    </tr>\n",
       "    <tr>\n",
       "      <th>21</th>\n",
       "      <td>21</td>\n",
       "      <td>VCP</td>\n",
       "    </tr>\n",
       "    <tr>\n",
       "      <th>22</th>\n",
       "      <td>22</td>\n",
       "      <td>DC</td>\n",
       "    </tr>\n",
       "    <tr>\n",
       "      <th>23</th>\n",
       "      <td>23</td>\n",
       "      <td>AP</td>\n",
       "    </tr>\n",
       "    <tr>\n",
       "      <th>24</th>\n",
       "      <td>24</td>\n",
       "      <td>12N</td>\n",
       "    </tr>\n",
       "    <tr>\n",
       "      <th>25</th>\n",
       "      <td>25</td>\n",
       "      <td>RtTg</td>\n",
       "    </tr>\n",
       "    <tr>\n",
       "      <th>26</th>\n",
       "      <td>26</td>\n",
       "      <td>SC</td>\n",
       "    </tr>\n",
       "    <tr>\n",
       "      <th>27</th>\n",
       "      <td>27</td>\n",
       "      <td>IC</td>\n",
       "    </tr>\n",
       "  </tbody>\n",
       "</table>\n",
       "</div>"
      ],
      "text/plain": [
       "    id structure\n",
       "0    0        5N\n",
       "1    1        6N\n",
       "2    2        7n\n",
       "3    3        7N\n",
       "4    4       Amb\n",
       "5    5        LC\n",
       "6    6       LRt\n",
       "7    7        Pn\n",
       "8    8        Tz\n",
       "9    9       VLL\n",
       "10  10       RMC\n",
       "11  11       SNC\n",
       "12  12       SNR\n",
       "13  13        3N\n",
       "14  14        4N\n",
       "15  15      Sp5I\n",
       "16  16      Sp5O\n",
       "17  17      Sp5C\n",
       "18  18       PBG\n",
       "19  19       10N\n",
       "20  20       VCA\n",
       "21  21       VCP\n",
       "22  22        DC\n",
       "23  23        AP\n",
       "24  24       12N\n",
       "25  25      RtTg\n",
       "26  26        SC\n",
       "27  27        IC"
      ]
     },
     "execution_count": 12,
     "metadata": {},
     "output_type": "execute_result"
    }
   ],
   "source": [
    "structureTable = Structure.fetch(as_dict=True)\n",
    "strucDF = pd.DataFrame(structureTable)\n",
    "strucDF"
   ]
  },
  {
   "cell_type": "code",
   "execution_count": 27,
   "metadata": {},
   "outputs": [
    {
     "name": "stdout",
     "output_type": "stream",
     "text": [
      "`kui_diffusionmap`.`__process` (2 tuples)\n",
      "Proceed? [yes, No]: yes\n",
      "Tables dropped.  Restart kernel.\n"
     ]
    }
   ],
   "source": [
    "Process.drop()"
   ]
  },
  {
   "cell_type": "code",
   "execution_count": 28,
   "metadata": {},
   "outputs": [
    {
     "name": "stderr",
     "output_type": "stream",
     "text": [
      "./lib/utilities.py:27: YAMLLoadWarning: calling yaml.load() without Loader=... is deprecated, as the default Loader is unsafe. Please read https://msg.pyyaml.org/load for full details.\n",
      "  credFiles = yaml.load(open( credential_file_pointers,'r'))\n"
     ]
    }
   ],
   "source": [
    "@schema\n",
    "class Process(dj.Computed):\n",
    "    definition=\"\"\"\n",
    "    -> Structure\n",
    "    -----\n",
    "    image_number : int   #number of images\n",
    "    \"\"\"\n",
    "\n",
    "    bucket = \"mousebrainatlas-data\"\n",
    "    client = get_s3_client(credFiles)\n",
    "    def make(self, key):\n",
    "        struc = (Structure & key).fetch1('structure')\n",
    "        print('populating for ', struc, end='\\n')\n",
    "        key_item = 'image_number'\n",
    "        s3_fp = img_file+struc+'/'\n",
    "        upload_fp = 's3://'+self.bucket+s3_fp\n",
    "        pkl_out_file = os.environ['ROOT_DIR']+s3_fp\n",
    "        try:\n",
    "            objects = os.listdir(pkl_out_file)\n",
    "            key[key_item] = len(objects)\n",
    "        except:\n",
    "            ! python3 $scripts_dir/HSV.py $stack $struc $yaml_file\n",
    "            ! aws s3 cp --recursive $pkl_out_file $upload_fp\n",
    "            objects = os.listdir(pkl_out_file)\n",
    "            key[key_item] = len(objects)\n",
    "        self.insert1(key)\n"
   ]
  },
  {
   "cell_type": "code",
   "execution_count": 29,
   "metadata": {},
   "outputs": [
    {
     "name": "stdout",
     "output_type": "stream",
     "text": [
      "populating for  6N\n",
      "/Users/kuiqian/Github/venv/shapeology_venv/lib/python3.7/site-packages/sklearn/externals/joblib/externals/cloudpickle/cloudpickle.py:47: DeprecationWarning: the imp module is deprecated in favour of importlib; see the module's documentation for alternative uses\n",
      "  import imp\n",
      "/Users/kuiqian/Github/shapeology_code/scripts/lib/utils.py:22: YAMLLoadWarning: calling yaml.load() without Loader=... is deprecated, as the default Loader is unsafe. Please read https://msg.pyyaml.org/load for full details.\n",
      "  self.D=yaml.load(open(yamlFile,'r'))\n",
      "6N_0 / 5\n",
      "6N finished in 248.7 seconds\n",
      "upload: ../../../../BstemAtlasDataBackup/ucsd_brain/CSHL_hsv/MD589/6N/6N_245.tif to s3://mousebrainatlas-data/CSHL_hsv/MD589/6N/6N_245.tif\n",
      "upload: ../../../../BstemAtlasDataBackup/ucsd_brain/CSHL_hsv/MD589/6N/6N_205.tif to s3://mousebrainatlas-data/CSHL_hsv/MD589/6N/6N_205.tif\n",
      "upload: ../../../../BstemAtlasDataBackup/ucsd_brain/CSHL_hsv/MD589/6N/6N_214.tif to s3://mousebrainatlas-data/CSHL_hsv/MD589/6N/6N_214.tif\n",
      "upload: ../../../../BstemAtlasDataBackup/ucsd_brain/CSHL_hsv/MD589/6N/6N_209.tif to s3://mousebrainatlas-data/CSHL_hsv/MD589/6N/6N_209.tif\n",
      "upload: ../../../../BstemAtlasDataBackup/ucsd_brain/CSHL_hsv/MD589/6N/6N_251.tif to s3://mousebrainatlas-data/CSHL_hsv/MD589/6N/6N_251.tif\n",
      "populating for  Amb\n",
      "/Users/kuiqian/Github/venv/shapeology_venv/lib/python3.7/site-packages/sklearn/externals/joblib/externals/cloudpickle/cloudpickle.py:47: DeprecationWarning: the imp module is deprecated in favour of importlib; see the module's documentation for alternative uses\n",
      "  import imp\n",
      "/Users/kuiqian/Github/shapeology_code/scripts/lib/utils.py:22: YAMLLoadWarning: calling yaml.load() without Loader=... is deprecated, as the default Loader is unsafe. Please read https://msg.pyyaml.org/load for full details.\n",
      "  self.D=yaml.load(open(yamlFile,'r'))\n",
      "Amb_0 / 13\n",
      "Amb_5 / 13\n",
      "Amb_10 / 13\n",
      "Amb finished in 804.1 seconds\n",
      "upload: ../../../../BstemAtlasDataBackup/ucsd_brain/CSHL_hsv/MD589/Amb/Amb_170.tif to s3://mousebrainatlas-data/CSHL_hsv/MD589/Amb/Amb_170.tif\n",
      "upload: ../../../../BstemAtlasDataBackup/ucsd_brain/CSHL_hsv/MD589/Amb/Amb_169.tif to s3://mousebrainatlas-data/CSHL_hsv/MD589/Amb/Amb_169.tif\n",
      "upload: ../../../../BstemAtlasDataBackup/ucsd_brain/CSHL_hsv/MD589/Amb/Amb_167.tif to s3://mousebrainatlas-data/CSHL_hsv/MD589/Amb/Amb_167.tif\n",
      "upload: ../../../../BstemAtlasDataBackup/ucsd_brain/CSHL_hsv/MD589/Amb/Amb_164.tif to s3://mousebrainatlas-data/CSHL_hsv/MD589/Amb/Amb_164.tif\n",
      "upload: ../../../../BstemAtlasDataBackup/ucsd_brain/CSHL_hsv/MD589/Amb/Amb_294.tif to s3://mousebrainatlas-data/CSHL_hsv/MD589/Amb/Amb_294.tif\n",
      "upload: ../../../../BstemAtlasDataBackup/ucsd_brain/CSHL_hsv/MD589/Amb/Amb_168.tif to s3://mousebrainatlas-data/CSHL_hsv/MD589/Amb/Amb_168.tif\n",
      "upload: ../../../../BstemAtlasDataBackup/ucsd_brain/CSHL_hsv/MD589/Amb/Amb_166.tif to s3://mousebrainatlas-data/CSHL_hsv/MD589/Amb/Amb_166.tif\n",
      "upload: ../../../../BstemAtlasDataBackup/ucsd_brain/CSHL_hsv/MD589/Amb/Amb_295.tif to s3://mousebrainatlas-data/CSHL_hsv/MD589/Amb/Amb_295.tif\n",
      "upload: ../../../../BstemAtlasDataBackup/ucsd_brain/CSHL_hsv/MD589/Amb/Amb_165.tif to s3://mousebrainatlas-data/CSHL_hsv/MD589/Amb/Amb_165.tif\n",
      "upload: ../../../../BstemAtlasDataBackup/ucsd_brain/CSHL_hsv/MD589/Amb/Amb_296.tif to s3://mousebrainatlas-data/CSHL_hsv/MD589/Amb/Amb_296.tif\n",
      "upload: ../../../../BstemAtlasDataBackup/ucsd_brain/CSHL_hsv/MD589/Amb/Amb_299.tif to s3://mousebrainatlas-data/CSHL_hsv/MD589/Amb/Amb_299.tif\n",
      "upload: ../../../../BstemAtlasDataBackup/ucsd_brain/CSHL_hsv/MD589/Amb/Amb_298.tif to s3://mousebrainatlas-data/CSHL_hsv/MD589/Amb/Amb_298.tif\n",
      "upload: ../../../../BstemAtlasDataBackup/ucsd_brain/CSHL_hsv/MD589/Amb/Amb_297.tif to s3://mousebrainatlas-data/CSHL_hsv/MD589/Amb/Amb_297.tif\n",
      "populating for  4N\n",
      "/Users/kuiqian/Github/venv/shapeology_venv/lib/python3.7/site-packages/sklearn/externals/joblib/externals/cloudpickle/cloudpickle.py:47: DeprecationWarning: the imp module is deprecated in favour of importlib; see the module's documentation for alternative uses\n",
      "  import imp\n",
      "/Users/kuiqian/Github/shapeology_code/scripts/lib/utils.py:22: YAMLLoadWarning: calling yaml.load() without Loader=... is deprecated, as the default Loader is unsafe. Please read https://msg.pyyaml.org/load for full details.\n",
      "  self.D=yaml.load(open(yamlFile,'r'))\n",
      "4N_0 / 12\n",
      "Traceback (most recent call last):\n",
      "  File \"/Users/kuiqian/Github/shapeology_code/scripts//HSV.py\", line 190, in <module>\n",
      "    contours_grouped, raw_images_root, section_to_filename, all_patch_locations)\n",
      "  File \"/Users/kuiqian/Github/shapeology_code/scripts//HSV.py\", line 105, in image_generator\n",
      "    inside = all_patch_locations[structure][section]\n",
      "KeyError: 240\n",
      "upload: ../../../../BstemAtlasDataBackup/ucsd_brain/CSHL_hsv/MD589/4N/4N_237.tif to s3://mousebrainatlas-data/CSHL_hsv/MD589/4N/4N_237.tif\n",
      "upload: ../../../../BstemAtlasDataBackup/ucsd_brain/CSHL_hsv/MD589/4N/4N_233.tif to s3://mousebrainatlas-data/CSHL_hsv/MD589/4N/4N_233.tif\n",
      "populating for  PBG\n",
      "/Users/kuiqian/Github/venv/shapeology_venv/lib/python3.7/site-packages/sklearn/externals/joblib/externals/cloudpickle/cloudpickle.py:47: DeprecationWarning: the imp module is deprecated in favour of importlib; see the module's documentation for alternative uses\n",
      "  import imp\n",
      "/Users/kuiqian/Github/shapeology_code/scripts/lib/utils.py:22: YAMLLoadWarning: calling yaml.load() without Loader=... is deprecated, as the default Loader is unsafe. Please read https://msg.pyyaml.org/load for full details.\n",
      "  self.D=yaml.load(open(yamlFile,'r'))\n",
      "PBG_0 / 26\n",
      "PBG_5 / 26\n",
      "Traceback (most recent call last):\n",
      "  File \"/Users/kuiqian/Github/shapeology_code/scripts//HSV.py\", line 190, in <module>\n",
      "    contours_grouped, raw_images_root, section_to_filename, all_patch_locations)\n",
      "  File \"/Users/kuiqian/Github/shapeology_code/scripts//HSV.py\", line 105, in image_generator\n",
      "    inside = all_patch_locations[structure][section]\n",
      "KeyError: 121\n",
      "upload: ../../../../BstemAtlasDataBackup/ucsd_brain/CSHL_hsv/MD589/PBG/PBG_132.tif to s3://mousebrainatlas-data/CSHL_hsv/MD589/PBG/PBG_132.tif\n",
      "upload: ../../../../BstemAtlasDataBackup/ucsd_brain/CSHL_hsv/MD589/PBG/PBG_124.tif to s3://mousebrainatlas-data/CSHL_hsv/MD589/PBG/PBG_124.tif\n",
      "upload: ../../../../BstemAtlasDataBackup/ucsd_brain/CSHL_hsv/MD589/PBG/PBG_317.tif to s3://mousebrainatlas-data/CSHL_hsv/MD589/PBG/PBG_317.tif\n",
      "upload: ../../../../BstemAtlasDataBackup/ucsd_brain/CSHL_hsv/MD589/PBG/PBG_127.tif to s3://mousebrainatlas-data/CSHL_hsv/MD589/PBG/PBG_127.tif\n",
      "upload: ../../../../BstemAtlasDataBackup/ucsd_brain/CSHL_hsv/MD589/PBG/PBG_135.tif to s3://mousebrainatlas-data/CSHL_hsv/MD589/PBG/PBG_135.tif\n",
      "upload: ../../../../BstemAtlasDataBackup/ucsd_brain/CSHL_hsv/MD589/PBG/PBG_314.tif to s3://mousebrainatlas-data/CSHL_hsv/MD589/PBG/PBG_314.tif\n",
      "populating for  12N\n",
      "/Users/kuiqian/Github/venv/shapeology_venv/lib/python3.7/site-packages/sklearn/externals/joblib/externals/cloudpickle/cloudpickle.py:47: DeprecationWarning: the imp module is deprecated in favour of importlib; see the module's documentation for alternative uses\n",
      "  import imp\n",
      "/Users/kuiqian/Github/shapeology_code/scripts/lib/utils.py:22: YAMLLoadWarning: calling yaml.load() without Loader=... is deprecated, as the default Loader is unsafe. Please read https://msg.pyyaml.org/load for full details.\n",
      "  self.D=yaml.load(open(yamlFile,'r'))\n",
      "12N_0 / 39\n",
      "^C\n",
      "^C\n",
      "populating for  RtTg\n",
      "/Users/kuiqian/Github/venv/shapeology_venv/lib/python3.7/site-packages/sklearn/externals/joblib/externals/cloudpickle/cloudpickle.py:47: DeprecationWarning: the imp module is deprecated in favour of importlib; see the module's documentation for alternative uses\n",
      "  import imp\n",
      "/Users/kuiqian/Github/shapeology_code/scripts/lib/utils.py:22: YAMLLoadWarning: calling yaml.load() without Loader=... is deprecated, as the default Loader is unsafe. Please read https://msg.pyyaml.org/load for full details.\n",
      "  self.D=yaml.load(open(yamlFile,'r'))\n",
      "RtTg_0 / 15\n",
      "^C\n",
      "\n",
      "The user-provided path /Users/kuiqian/BstemAtlasDataBackup/ucsd_brain//CSHL_hsv/MD589/RtTg/ does not exist.\n"
     ]
    },
    {
     "ename": "FileNotFoundError",
     "evalue": "[Errno 2] No such file or directory: '/Users/kuiqian/BstemAtlasDataBackup/ucsd_brain//CSHL_hsv/MD589/RtTg/'",
     "output_type": "error",
     "traceback": [
      "\u001b[0;31m---------------------------------------------------------------------------\u001b[0m",
      "\u001b[0;31mFileNotFoundError\u001b[0m                         Traceback (most recent call last)",
      "\u001b[0;32m<ipython-input-29-921523416493>\u001b[0m in \u001b[0;36m<module>\u001b[0;34m\u001b[0m\n\u001b[0;32m----> 1\u001b[0;31m \u001b[0mProcess\u001b[0m\u001b[0;34m.\u001b[0m\u001b[0mpopulate\u001b[0m\u001b[0;34m(\u001b[0m\u001b[0mreserve_jobs\u001b[0m\u001b[0;34m=\u001b[0m\u001b[0;32mTrue\u001b[0m\u001b[0;34m)\u001b[0m\u001b[0;34m\u001b[0m\u001b[0;34m\u001b[0m\u001b[0m\n\u001b[0m",
      "\u001b[0;32m~/Github/venv/shapeology_venv/lib/python3.7/site-packages/datajoint/autopopulate.py\u001b[0m in \u001b[0;36mpopulate\u001b[0;34m(self, suppress_errors, return_exception_objects, reserve_jobs, order, limit, max_calls, display_progress, *restrictions)\u001b[0m\n\u001b[1;32m    152\u001b[0m                     \u001b[0mself\u001b[0m\u001b[0;34m.\u001b[0m\u001b[0m_allow_insert\u001b[0m \u001b[0;34m=\u001b[0m \u001b[0;32mTrue\u001b[0m\u001b[0;34m\u001b[0m\u001b[0;34m\u001b[0m\u001b[0m\n\u001b[1;32m    153\u001b[0m                     \u001b[0;32mtry\u001b[0m\u001b[0;34m:\u001b[0m\u001b[0;34m\u001b[0m\u001b[0;34m\u001b[0m\u001b[0m\n\u001b[0;32m--> 154\u001b[0;31m                         \u001b[0mmake\u001b[0m\u001b[0;34m(\u001b[0m\u001b[0mdict\u001b[0m\u001b[0;34m(\u001b[0m\u001b[0mkey\u001b[0m\u001b[0;34m)\u001b[0m\u001b[0;34m)\u001b[0m\u001b[0;34m\u001b[0m\u001b[0;34m\u001b[0m\u001b[0m\n\u001b[0m\u001b[1;32m    155\u001b[0m                     \u001b[0;32mexcept\u001b[0m \u001b[0;34m(\u001b[0m\u001b[0mKeyboardInterrupt\u001b[0m\u001b[0;34m,\u001b[0m \u001b[0mSystemExit\u001b[0m\u001b[0;34m,\u001b[0m \u001b[0mException\u001b[0m\u001b[0;34m)\u001b[0m \u001b[0;32mas\u001b[0m \u001b[0merror\u001b[0m\u001b[0;34m:\u001b[0m\u001b[0;34m\u001b[0m\u001b[0;34m\u001b[0m\u001b[0m\n\u001b[1;32m    156\u001b[0m                         \u001b[0;32mtry\u001b[0m\u001b[0;34m:\u001b[0m\u001b[0;34m\u001b[0m\u001b[0;34m\u001b[0m\u001b[0m\n",
      "\u001b[0;32m<ipython-input-28-3ca3ee263294>\u001b[0m in \u001b[0;36mmake\u001b[0;34m(self, key)\u001b[0m\n\u001b[1;32m     18\u001b[0m         \u001b[0mpkl_out_file\u001b[0m \u001b[0;34m=\u001b[0m \u001b[0mos\u001b[0m\u001b[0;34m.\u001b[0m\u001b[0menviron\u001b[0m\u001b[0;34m[\u001b[0m\u001b[0;34m'ROOT_DIR'\u001b[0m\u001b[0;34m]\u001b[0m\u001b[0;34m+\u001b[0m\u001b[0ms3_fp\u001b[0m\u001b[0;34m\u001b[0m\u001b[0;34m\u001b[0m\u001b[0m\n\u001b[1;32m     19\u001b[0m         \u001b[0mget_ipython\u001b[0m\u001b[0;34m(\u001b[0m\u001b[0;34m)\u001b[0m\u001b[0;34m.\u001b[0m\u001b[0msystem\u001b[0m\u001b[0;34m(\u001b[0m\u001b[0;34m' aws s3 cp --recursive $pkl_out_file $upload_fp'\u001b[0m\u001b[0;34m)\u001b[0m\u001b[0;34m\u001b[0m\u001b[0;34m\u001b[0m\u001b[0m\n\u001b[0;32m---> 20\u001b[0;31m         \u001b[0mobjects\u001b[0m \u001b[0;34m=\u001b[0m \u001b[0mos\u001b[0m\u001b[0;34m.\u001b[0m\u001b[0mlistdir\u001b[0m\u001b[0;34m(\u001b[0m\u001b[0mpkl_out_file\u001b[0m\u001b[0;34m)\u001b[0m\u001b[0;34m\u001b[0m\u001b[0;34m\u001b[0m\u001b[0m\n\u001b[0m\u001b[1;32m     21\u001b[0m         \u001b[0mkey\u001b[0m\u001b[0;34m[\u001b[0m\u001b[0mkey_item\u001b[0m\u001b[0;34m]\u001b[0m \u001b[0;34m=\u001b[0m \u001b[0mlen\u001b[0m\u001b[0;34m(\u001b[0m\u001b[0mobjects\u001b[0m\u001b[0;34m)\u001b[0m\u001b[0;34m\u001b[0m\u001b[0;34m\u001b[0m\u001b[0m\n\u001b[1;32m     22\u001b[0m         \u001b[0mself\u001b[0m\u001b[0;34m.\u001b[0m\u001b[0minsert1\u001b[0m\u001b[0;34m(\u001b[0m\u001b[0mkey\u001b[0m\u001b[0;34m)\u001b[0m\u001b[0;34m\u001b[0m\u001b[0;34m\u001b[0m\u001b[0m\n",
      "\u001b[0;31mFileNotFoundError\u001b[0m: [Errno 2] No such file or directory: '/Users/kuiqian/BstemAtlasDataBackup/ucsd_brain//CSHL_hsv/MD589/RtTg/'"
     ]
    }
   ],
   "source": [
    "Process.populate(reserve_jobs=True)"
   ]
  },
  {
   "cell_type": "code",
   "execution_count": null,
   "metadata": {},
   "outputs": [],
   "source": []
  }
 ],
 "metadata": {
  "kernelspec": {
   "display_name": "shapeology",
   "language": "python",
   "name": "shapeology_code"
  },
  "language_info": {
   "codemirror_mode": {
    "name": "ipython",
    "version": 3
   },
   "file_extension": ".py",
   "mimetype": "text/x-python",
   "name": "python",
   "nbconvert_exporter": "python",
   "pygments_lexer": "ipython3",
   "version": "3.7.3"
  }
 },
 "nbformat": 4,
 "nbformat_minor": 2
}
