{
 "cells": [
  {
   "cell_type": "code",
   "execution_count": 1,
   "metadata": {},
   "outputs": [],
   "source": [
    "import datajoint as dj\n",
    "import numpy as np\n",
    "import json\n",
    "from subprocess import call\n",
    "import yaml\n",
    "import sys, os\n",
    "import pandas as pd\n",
    "import ray\n",
    "\n",
    "sys.path.append('./lib')\n",
    "from utilities import *\n",
    "sys.path.append('../lib')\n",
    "from utils import run"
   ]
  },
  {
   "cell_type": "code",
   "execution_count": 2,
   "metadata": {},
   "outputs": [],
   "source": [
    "def setup_download_from_s3( rel_fp, recursive=True ):\n",
    "    s3_fp = 's3://mousebrainatlas-data/'+rel_fp\n",
    "    local_fp = os.environ['ROOT_DIR']+rel_fp\n",
    "\n",
    "    if os.path.exists(local_fp):\n",
    "        print('ALREADY DOWNLOADED FILE')\n",
    "        return \n",
    "    \n",
    "    if recursive:\n",
    "        ! aws s3 cp --recursive $s3_fp $local_fp\n",
    "    else:\n",
    "        ! aws s3 cp $s3_fp $local_fp"
   ]
  },
  {
   "cell_type": "code",
   "execution_count": 5,
   "metadata": {},
   "outputs": [
    {
     "name": "stdout",
     "output_type": "stream",
     "text": [
      "download: s3://mousebrainatlas-data/CSHL_hsv/MD589/VLL/VLL_131.tif to ../../../../BstemAtlasDataBackup/ucsd_brain/CSHL_hsv/MD589/VLL/VLL_131.tif\n",
      "download: s3://mousebrainatlas-data/CSHL_hsv/MD589/VLL/VLL_132.tif to ../../../../BstemAtlasDataBackup/ucsd_brain/CSHL_hsv/MD589/VLL/VLL_132.tif\n",
      "download: s3://mousebrainatlas-data/CSHL_hsv/MD589/VLL/VLL_134.tif to ../../../../BstemAtlasDataBackup/ucsd_brain/CSHL_hsv/MD589/VLL/VLL_134.tif\n",
      "download: s3://mousebrainatlas-data/CSHL_hsv/MD589/VLL/VLL_133.tif to ../../../../BstemAtlasDataBackup/ucsd_brain/CSHL_hsv/MD589/VLL/VLL_133.tif\n",
      "download: s3://mousebrainatlas-data/CSHL_hsv/MD589/VLL/VLL_136.tif to ../../../../BstemAtlasDataBackup/ucsd_brain/CSHL_hsv/MD589/VLL/VLL_136.tif\n",
      "download: s3://mousebrainatlas-data/CSHL_hsv/MD589/VLL/VLL_135.tif to ../../../../BstemAtlasDataBackup/ucsd_brain/CSHL_hsv/MD589/VLL/VLL_135.tif\n",
      "download: s3://mousebrainatlas-data/CSHL_hsv/MD589/VLL/VLL_138.tif to ../../../../BstemAtlasDataBackup/ucsd_brain/CSHL_hsv/MD589/VLL/VLL_138.tif\n",
      "download: s3://mousebrainatlas-data/CSHL_hsv/MD589/VLL/VLL_137.tif to ../../../../BstemAtlasDataBackup/ucsd_brain/CSHL_hsv/MD589/VLL/VLL_137.tif\n",
      "download: s3://mousebrainatlas-data/CSHL_hsv/MD589/VLL/VLL_139.tif to ../../../../BstemAtlasDataBackup/ucsd_brain/CSHL_hsv/MD589/VLL/VLL_139.tif\n",
      "download: s3://mousebrainatlas-data/CSHL_hsv/MD589/VLL/VLL_140.tif to ../../../../BstemAtlasDataBackup/ucsd_brain/CSHL_hsv/MD589/VLL/VLL_140.tif\n",
      "download: s3://mousebrainatlas-data/CSHL_hsv/MD589/VLL/VLL_141.tif to ../../../../BstemAtlasDataBackup/ucsd_brain/CSHL_hsv/MD589/VLL/VLL_141.tif\n",
      "download: s3://mousebrainatlas-data/CSHL_hsv/MD589/VLL/VLL_143.tif to ../../../../BstemAtlasDataBackup/ucsd_brain/CSHL_hsv/MD589/VLL/VLL_143.tif\n",
      "download: s3://mousebrainatlas-data/CSHL_hsv/MD589/VLL/VLL_144.tif to ../../../../BstemAtlasDataBackup/ucsd_brain/CSHL_hsv/MD589/VLL/VLL_144.tif\n",
      "download: s3://mousebrainatlas-data/CSHL_hsv/MD589/VLL/VLL_142.tif to ../../../../BstemAtlasDataBackup/ucsd_brain/CSHL_hsv/MD589/VLL/VLL_142.tif\n",
      "download: s3://mousebrainatlas-data/CSHL_hsv/MD589/VLL/VLL_145.tif to ../../../../BstemAtlasDataBackup/ucsd_brain/CSHL_hsv/MD589/VLL/VLL_145.tif\n",
      "download: s3://mousebrainatlas-data/CSHL_hsv/MD589/VLL/VLL_146.tif to ../../../../BstemAtlasDataBackup/ucsd_brain/CSHL_hsv/MD589/VLL/VLL_146.tif\n",
      "download: s3://mousebrainatlas-data/CSHL_hsv/MD589/VLL/VLL_148.tif to ../../../../BstemAtlasDataBackup/ucsd_brain/CSHL_hsv/MD589/VLL/VLL_148.tif\n",
      "download: s3://mousebrainatlas-data/CSHL_hsv/MD589/VLL/VLL_150.tif to ../../../../BstemAtlasDataBackup/ucsd_brain/CSHL_hsv/MD589/VLL/VLL_150.tif\n",
      "download: s3://mousebrainatlas-data/CSHL_hsv/MD589/VLL/VLL_151.tif to ../../../../BstemAtlasDataBackup/ucsd_brain/CSHL_hsv/MD589/VLL/VLL_151.tif\n",
      "download: s3://mousebrainatlas-data/CSHL_hsv/MD589/VLL/VLL_147.tif to ../../../../BstemAtlasDataBackup/ucsd_brain/CSHL_hsv/MD589/VLL/VLL_147.tif\n",
      "download: s3://mousebrainatlas-data/CSHL_hsv/MD589/VLL/VLL_153.tif to ../../../../BstemAtlasDataBackup/ucsd_brain/CSHL_hsv/MD589/VLL/VLL_153.tif\n",
      "download: s3://mousebrainatlas-data/CSHL_hsv/MD589/VLL/VLL_152.tif to ../../../../BstemAtlasDataBackup/ucsd_brain/CSHL_hsv/MD589/VLL/VLL_152.tif\n",
      "download: s3://mousebrainatlas-data/CSHL_hsv/MD589/VLL/VLL_157.tif to ../../../../BstemAtlasDataBackup/ucsd_brain/CSHL_hsv/MD589/VLL/VLL_157.tif\n",
      "download: s3://mousebrainatlas-data/CSHL_hsv/MD589/VLL/VLL_159.tif to ../../../../BstemAtlasDataBackup/ucsd_brain/CSHL_hsv/MD589/VLL/VLL_159.tif\n",
      "download: s3://mousebrainatlas-data/CSHL_hsv/MD589/VLL/VLL_155.tif to ../../../../BstemAtlasDataBackup/ucsd_brain/CSHL_hsv/MD589/VLL/VLL_155.tif\n",
      "download: s3://mousebrainatlas-data/CSHL_hsv/MD589/VLL/VLL_158.tif to ../../../../BstemAtlasDataBackup/ucsd_brain/CSHL_hsv/MD589/VLL/VLL_158.tif\n",
      "download: s3://mousebrainatlas-data/CSHL_hsv/MD589/VLL/VLL_154.tif to ../../../../BstemAtlasDataBackup/ucsd_brain/CSHL_hsv/MD589/VLL/VLL_154.tif\n",
      "download: s3://mousebrainatlas-data/CSHL_hsv/MD589/VLL/VLL_156.tif to ../../../../BstemAtlasDataBackup/ucsd_brain/CSHL_hsv/MD589/VLL/VLL_156.tif\n",
      "download: s3://mousebrainatlas-data/CSHL_hsv/MD589/VLL/VLL_160.tif to ../../../../BstemAtlasDataBackup/ucsd_brain/CSHL_hsv/MD589/VLL/VLL_160.tif\n",
      "download: s3://mousebrainatlas-data/CSHL_hsv/MD589/VLL/VLL_161.tif to ../../../../BstemAtlasDataBackup/ucsd_brain/CSHL_hsv/MD589/VLL/VLL_161.tif\n",
      "download: s3://mousebrainatlas-data/CSHL_hsv/MD589/VLL/VLL_149.tif to ../../../../BstemAtlasDataBackup/ucsd_brain/CSHL_hsv/MD589/VLL/VLL_149.tif\n",
      "download: s3://mousebrainatlas-data/CSHL_hsv/MD589/VLL/VLL_165.tif to ../../../../BstemAtlasDataBackup/ucsd_brain/CSHL_hsv/MD589/VLL/VLL_165.tif\n",
      "download: s3://mousebrainatlas-data/CSHL_hsv/MD589/VLL/VLL_163.tif to ../../../../BstemAtlasDataBackup/ucsd_brain/CSHL_hsv/MD589/VLL/VLL_163.tif\n",
      "download: s3://mousebrainatlas-data/CSHL_hsv/MD589/VLL/VLL_166.tif to ../../../../BstemAtlasDataBackup/ucsd_brain/CSHL_hsv/MD589/VLL/VLL_166.tif\n",
      "download: s3://mousebrainatlas-data/CSHL_hsv/MD589/VLL/VLL_167.tif to ../../../../BstemAtlasDataBackup/ucsd_brain/CSHL_hsv/MD589/VLL/VLL_167.tif\n",
      "download: s3://mousebrainatlas-data/CSHL_hsv/MD589/VLL/VLL_162.tif to ../../../../BstemAtlasDataBackup/ucsd_brain/CSHL_hsv/MD589/VLL/VLL_162.tif\n",
      "download: s3://mousebrainatlas-data/CSHL_hsv/MD589/VLL/VLL_169.tif to ../../../../BstemAtlasDataBackup/ucsd_brain/CSHL_hsv/MD589/VLL/VLL_169.tif\n",
      "download: s3://mousebrainatlas-data/CSHL_hsv/MD589/VLL/VLL_294.tif to ../../../../BstemAtlasDataBackup/ucsd_brain/CSHL_hsv/MD589/VLL/VLL_294.tif\n",
      "download: s3://mousebrainatlas-data/CSHL_hsv/MD589/VLL/VLL_170.tif to ../../../../BstemAtlasDataBackup/ucsd_brain/CSHL_hsv/MD589/VLL/VLL_170.tif\n",
      "download: s3://mousebrainatlas-data/CSHL_hsv/MD589/VLL/VLL_297.tif to ../../../../BstemAtlasDataBackup/ucsd_brain/CSHL_hsv/MD589/VLL/VLL_297.tif\n",
      "download: s3://mousebrainatlas-data/CSHL_hsv/MD589/VLL/VLL_296.tif to ../../../../BstemAtlasDataBackup/ucsd_brain/CSHL_hsv/MD589/VLL/VLL_296.tif\n",
      "download: s3://mousebrainatlas-data/CSHL_hsv/MD589/VLL/VLL_295.tif to ../../../../BstemAtlasDataBackup/ucsd_brain/CSHL_hsv/MD589/VLL/VLL_295.tif\n",
      "download: s3://mousebrainatlas-data/CSHL_hsv/MD589/VLL/VLL_299.tif to ../../../../BstemAtlasDataBackup/ucsd_brain/CSHL_hsv/MD589/VLL/VLL_299.tif\n",
      "download: s3://mousebrainatlas-data/CSHL_hsv/MD589/VLL/VLL_298.tif to ../../../../BstemAtlasDataBackup/ucsd_brain/CSHL_hsv/MD589/VLL/VLL_298.tif\n",
      "download: s3://mousebrainatlas-data/CSHL_hsv/MD589/VLL/VLL_301.tif to ../../../../BstemAtlasDataBackup/ucsd_brain/CSHL_hsv/MD589/VLL/VLL_301.tif\n",
      "download: s3://mousebrainatlas-data/CSHL_hsv/MD589/VLL/VLL_305.tif to ../../../../BstemAtlasDataBackup/ucsd_brain/CSHL_hsv/MD589/VLL/VLL_305.tif\n",
      "download: s3://mousebrainatlas-data/CSHL_hsv/MD589/VLL/VLL_302.tif to ../../../../BstemAtlasDataBackup/ucsd_brain/CSHL_hsv/MD589/VLL/VLL_302.tif\n",
      "download: s3://mousebrainatlas-data/CSHL_hsv/MD589/VLL/VLL_306.tif to ../../../../BstemAtlasDataBackup/ucsd_brain/CSHL_hsv/MD589/VLL/VLL_306.tif\n",
      "download: s3://mousebrainatlas-data/CSHL_hsv/MD589/VLL/VLL_307.tif to ../../../../BstemAtlasDataBackup/ucsd_brain/CSHL_hsv/MD589/VLL/VLL_307.tif\n",
      "download: s3://mousebrainatlas-data/CSHL_hsv/MD589/VLL/VLL_308.tif to ../../../../BstemAtlasDataBackup/ucsd_brain/CSHL_hsv/MD589/VLL/VLL_308.tif\n",
      "download: s3://mousebrainatlas-data/CSHL_hsv/MD589/VLL/VLL_164.tif to ../../../../BstemAtlasDataBackup/ucsd_brain/CSHL_hsv/MD589/VLL/VLL_164.tif\n",
      "download: s3://mousebrainatlas-data/CSHL_hsv/MD589/VLL/VLL_303.tif to ../../../../BstemAtlasDataBackup/ucsd_brain/CSHL_hsv/MD589/VLL/VLL_303.tif\n",
      "download failed: s3://mousebrainatlas-data/CSHL_hsv/MD589/VLL/VLL_315.tif to ../../../../BstemAtlasDataBackup/ucsd_brain/CSHL_hsv/MD589/VLL/VLL_315.tif Could not connect to the endpoint URL: \"https://mousebrainatlas-data.s3.us-west-1.amazonaws.com/CSHL_hsv/MD589/VLL/VLL_315.tif\"\n",
      "download: s3://mousebrainatlas-data/CSHL_hsv/MD589/VLL/VLL_313.tif to ../../../../BstemAtlasDataBackup/ucsd_brain/CSHL_hsv/MD589/VLL/VLL_313.tif\n",
      "download: s3://mousebrainatlas-data/CSHL_hsv/MD589/VLL/VLL_314.tif to ../../../../BstemAtlasDataBackup/ucsd_brain/CSHL_hsv/MD589/VLL/VLL_314.tif\n",
      "download: s3://mousebrainatlas-data/CSHL_hsv/MD589/VLL/VLL_316.tif to ../../../../BstemAtlasDataBackup/ucsd_brain/CSHL_hsv/MD589/VLL/VLL_316.tif\n"
     ]
    },
    {
     "name": "stdout",
     "output_type": "stream",
     "text": [
      "download: s3://mousebrainatlas-data/CSHL_hsv/MD589/VLL/VLL_317.tif to ../../../../BstemAtlasDataBackup/ucsd_brain/CSHL_hsv/MD589/VLL/VLL_317.tif\n",
      "download: s3://mousebrainatlas-data/CSHL_hsv/MD589/VLL/VLL_318.tif to ../../../../BstemAtlasDataBackup/ucsd_brain/CSHL_hsv/MD589/VLL/VLL_318.tif\n",
      "download: s3://mousebrainatlas-data/CSHL_hsv/MD589/VLL/VLL_319.tif to ../../../../BstemAtlasDataBackup/ucsd_brain/CSHL_hsv/MD589/VLL/VLL_319.tif\n",
      "download: s3://mousebrainatlas-data/CSHL_hsv/MD589/VLL/VLL_321.tif to ../../../../BstemAtlasDataBackup/ucsd_brain/CSHL_hsv/MD589/VLL/VLL_321.tif\n",
      "download failed: s3://mousebrainatlas-data/CSHL_hsv/MD589/VLL/VLL_304.tif to ../../../../BstemAtlasDataBackup/ucsd_brain/CSHL_hsv/MD589/VLL/VLL_304.tif Could not connect to the endpoint URL: \"https://mousebrainatlas-data.s3.us-west-1.amazonaws.com/CSHL_hsv/MD589/VLL/VLL_304.tif\"\n",
      "download failed: s3://mousebrainatlas-data/CSHL_hsv/MD589/VLL/VLL_168.tif to ../../../../BstemAtlasDataBackup/ucsd_brain/CSHL_hsv/MD589/VLL/VLL_168.tif Could not connect to the endpoint URL: \"https://mousebrainatlas-data.s3.us-west-1.amazonaws.com/CSHL_hsv/MD589/VLL/VLL_168.tif\"\n",
      "download failed: s3://mousebrainatlas-data/CSHL_hsv/MD589/VLL/VLL_310.tif to ../../../../BstemAtlasDataBackup/ucsd_brain/CSHL_hsv/MD589/VLL/VLL_310.tif Could not connect to the endpoint URL: \"https://mousebrainatlas-data.s3.us-west-1.amazonaws.com/CSHL_hsv/MD589/VLL/VLL_310.tif\"\n",
      "download failed: s3://mousebrainatlas-data/CSHL_hsv/MD589/VLL/VLL_312.tif to ../../../../BstemAtlasDataBackup/ucsd_brain/CSHL_hsv/MD589/VLL/VLL_312.tif Could not connect to the endpoint URL: \"https://mousebrainatlas-data.s3.us-west-1.amazonaws.com/CSHL_hsv/MD589/VLL/VLL_312.tif\"\n",
      "download failed: s3://mousebrainatlas-data/CSHL_hsv/MD589/VLL/VLL_309.tif to ../../../../BstemAtlasDataBackup/ucsd_brain/CSHL_hsv/MD589/VLL/VLL_309.tif Could not connect to the endpoint URL: \"https://mousebrainatlas-data.s3.us-west-1.amazonaws.com/CSHL_hsv/MD589/VLL/VLL_309.tif\"\n",
      "download failed: s3://mousebrainatlas-data/CSHL_hsv/MD589/VLL/VLL_320.tif to ../../../../BstemAtlasDataBackup/ucsd_brain/CSHL_hsv/MD589/VLL/VLL_320.tif Could not connect to the endpoint URL: \"https://mousebrainatlas-data.s3.us-west-1.amazonaws.com/CSHL_hsv/MD589/VLL/VLL_320.tif\"\n",
      "download failed: s3://mousebrainatlas-data/CSHL_hsv/MD589/VLL/VLL_311.tif to ../../../../BstemAtlasDataBackup/ucsd_brain/CSHL_hsv/MD589/VLL/VLL_311.tif Could not connect to the endpoint URL: \"https://mousebrainatlas-data.s3.us-west-1.amazonaws.com/CSHL_hsv/MD589/VLL/VLL_311.tif\"\n",
      "download failed: s3://mousebrainatlas-data/CSHL_hsv/MD589/VLL/VLL_323.tif to ../../../../BstemAtlasDataBackup/ucsd_brain/CSHL_hsv/MD589/VLL/VLL_323.tif Could not connect to the endpoint URL: \"https://mousebrainatlas-data.s3.us-west-1.amazonaws.com/CSHL_hsv/MD589/VLL/VLL_323.tif\"\n",
      "download failed: s3://mousebrainatlas-data/CSHL_hsv/MD589/VLL/VLL_322.tif to ../../../../BstemAtlasDataBackup/ucsd_brain/CSHL_hsv/MD589/VLL/VLL_322.tif Could not connect to the endpoint URL: \"https://mousebrainatlas-data.s3.us-west-1.amazonaws.com/CSHL_hsv/MD589/VLL/VLL_322.tif\"\n"
     ]
    }
   ],
   "source": [
    "setup_download_from_s3('CSHL_hsv/MD589/VLL')"
   ]
  },
  {
   "cell_type": "code",
   "execution_count": 2,
   "metadata": {},
   "outputs": [],
   "source": [
    "def setup_upload_from_s3(rel_fp, recursive=True):\n",
    "    s3_fp = 's3://mousebrainatlas-data/' + rel_fp\n",
    "    local_fp = os.environ['ROOT_DIR'] + rel_fp\n",
    "\n",
    "    if recursive:\n",
    "        run('aws s3 cp --recursive {0} {1}'.format(local_fp, s3_fp))\n",
    "    else:\n",
    "        run('aws s3 cp {0} {1}'.format(local_fp, s3_fp))"
   ]
  },
  {
   "cell_type": "code",
   "execution_count": 3,
   "metadata": {
    "scrolled": true
   },
   "outputs": [
    {
     "name": "stdout",
     "output_type": "stream",
     "text": [
      "run cmd= aws s3 cp --recursive /Users/kuiqian/BstemAtlasDataBackup/ucsd_brain/CSHL_patches_features/ s3://mousebrainatlas-data/CSHL_patches_features/\n"
     ]
    }
   ],
   "source": [
    "setup_upload_from_s3('CSHL_patches_features/')"
   ]
  },
  {
   "cell_type": "code",
   "execution_count": 2,
   "metadata": {},
   "outputs": [
    {
     "name": "stderr",
     "output_type": "stream",
     "text": [
      "./lib/utilities.py:14: YAMLLoadWarning: calling yaml.load() without Loader=... is deprecated, as the default Loader is unsafe. Please read https://msg.pyyaml.org/load for full details.\n",
      "  credFiles = yaml.load(open( credential_file_pointers,'r'))\n"
     ]
    },
    {
     "name": "stdout",
     "output_type": "stream",
     "text": [
      "Connecting kui@ucsd-demo-db.datajoint.io:3306\n"
     ]
    },
    {
     "data": {
      "text/plain": [
       "DataJoint connection (connected) kui@ucsd-demo-db.datajoint.io:3306"
      ]
     },
     "execution_count": 2,
     "metadata": {},
     "output_type": "execute_result"
    }
   ],
   "source": [
    "#credFiles= '/data/Github/VaultBrain/credFiles_aws.yaml'\n",
    "credFiles= '/Users/kuiqian/Github/VaultBrain/credFiles.yaml'\n",
    "dj.config['database.host'] = get_dj_creds(credFiles)['database.host']\n",
    "dj.config['database.user'] = get_dj_creds(credFiles)['database.user']\n",
    "dj.config['database.port'] = get_dj_creds(credFiles)['database.port']\n",
    "dj.config['database.password'] = get_dj_creds(credFiles)['database.password']\n",
    "dj.conn()"
   ]
  },
  {
   "cell_type": "code",
   "execution_count": 3,
   "metadata": {},
   "outputs": [],
   "source": [
    "schema = dj.schema('kui_diffusionmap')\n",
    "schema.spawn_missing_classes()"
   ]
  },
  {
   "cell_type": "code",
   "execution_count": 4,
   "metadata": {},
   "outputs": [],
   "source": [
    "stack = 'MD589'\n",
    "#yaml_file = 'shape_params-aws.yaml'\n",
    "yaml_file = 'shape_params.yaml'\n",
    "img_file = '/CSHL_hsv/'+stack+'/'\n",
    "scripts_dir = os.environ['REPO_DIR']"
   ]
  },
  {
   "cell_type": "code",
   "execution_count": 28,
   "metadata": {},
   "outputs": [
    {
     "name": "stdout",
     "output_type": "stream",
     "text": [
      "`kui_diffusionmap`.`structure` (28 tuples)\n",
      "`kui_diffusionmap`.`__process` (6 tuples)\n",
      "Proceed? [yes, No]: yes\n",
      "Tables dropped.  Restart kernel.\n"
     ]
    }
   ],
   "source": [
    "Structure.drop()"
   ]
  },
  {
   "cell_type": "code",
   "execution_count": 29,
   "metadata": {},
   "outputs": [],
   "source": [
    "@schema\n",
    "class Structure(dj.Manual):\n",
    "    definition = \"\"\"\n",
    "    id  : int   # sequence\n",
    "    --------\n",
    "    structure       : char(10)    # name of mouse brain's structure\n",
    "    \"\"\""
   ]
  },
  {
   "cell_type": "code",
   "execution_count": 30,
   "metadata": {},
   "outputs": [
    {
     "name": "stdout",
     "output_type": "stream",
     "text": [
      "\n",
      "Adding 5N to the database\n",
      "\n",
      "Adding 6N to the database\n",
      "\n",
      "Adding 7nn to the database\n",
      "\n",
      "Adding 7N to the database\n",
      "\n",
      "Adding Amb to the database\n",
      "\n",
      "Adding LC to the database\n",
      "\n",
      "Adding LRt to the database\n",
      "\n",
      "Adding Pn to the database\n",
      "\n",
      "Adding Tz to the database\n",
      "\n",
      "Adding VLL to the database\n",
      "\n",
      "Adding RMC to the database\n",
      "\n",
      "Adding SNC to the database\n",
      "\n",
      "Adding SNR to the database\n",
      "\n",
      "Adding 3N to the database\n",
      "\n",
      "Adding 4N to the database\n",
      "\n",
      "Adding Sp5I to the database\n",
      "\n",
      "Adding Sp5O to the database\n",
      "\n",
      "Adding Sp5C to the database\n",
      "\n",
      "Adding PBG to the database\n",
      "\n",
      "Adding 10N to the database\n",
      "\n",
      "Adding VCA to the database\n",
      "\n",
      "Adding VCP to the database\n",
      "\n",
      "Adding DC to the database\n",
      "\n",
      "Adding AP to the database\n",
      "\n",
      "Adding 12N to the database\n",
      "\n",
      "Adding RtTg to the database\n",
      "\n",
      "Adding SC to the database\n",
      "\n",
      "Adding IC to the database\n"
     ]
    }
   ],
   "source": [
    "paired_structures = ['5N', '6N', '7nn', '7N', 'Amb', 'LC', 'LRt', 'Pn', 'Tz', 'VLL', 'RMC', \\\n",
    "                     'SNC', 'SNR', '3N', '4N', 'Sp5I', 'Sp5O', 'Sp5C', 'PBG', '10N', 'VCA', 'VCP', 'DC']\n",
    "singular_structures = ['AP', '12N', 'RtTg', 'SC', 'IC'] #\n",
    "all_structures = paired_structures + singular_structures\n",
    "n=0\n",
    "for struc in all_structures:\n",
    "    print(\"\\nAdding \"+struc+' to the database')\n",
    "    Structure.insert1(dict(id=n,\n",
    "                           structure=struc,)\n",
    "                      ,skip_duplicates=False)\n",
    "    n+=1"
   ]
  },
  {
   "cell_type": "code",
   "execution_count": 31,
   "metadata": {},
   "outputs": [
    {
     "data": {
      "text/html": [
       "<div>\n",
       "<style scoped>\n",
       "    .dataframe tbody tr th:only-of-type {\n",
       "        vertical-align: middle;\n",
       "    }\n",
       "\n",
       "    .dataframe tbody tr th {\n",
       "        vertical-align: top;\n",
       "    }\n",
       "\n",
       "    .dataframe thead th {\n",
       "        text-align: right;\n",
       "    }\n",
       "</style>\n",
       "<table border=\"1\" class=\"dataframe\">\n",
       "  <thead>\n",
       "    <tr style=\"text-align: right;\">\n",
       "      <th></th>\n",
       "      <th>id</th>\n",
       "      <th>structure</th>\n",
       "    </tr>\n",
       "  </thead>\n",
       "  <tbody>\n",
       "    <tr>\n",
       "      <th>0</th>\n",
       "      <td>0</td>\n",
       "      <td>5N</td>\n",
       "    </tr>\n",
       "    <tr>\n",
       "      <th>1</th>\n",
       "      <td>1</td>\n",
       "      <td>6N</td>\n",
       "    </tr>\n",
       "    <tr>\n",
       "      <th>2</th>\n",
       "      <td>2</td>\n",
       "      <td>7nn</td>\n",
       "    </tr>\n",
       "    <tr>\n",
       "      <th>3</th>\n",
       "      <td>3</td>\n",
       "      <td>7N</td>\n",
       "    </tr>\n",
       "    <tr>\n",
       "      <th>4</th>\n",
       "      <td>4</td>\n",
       "      <td>Amb</td>\n",
       "    </tr>\n",
       "    <tr>\n",
       "      <th>5</th>\n",
       "      <td>5</td>\n",
       "      <td>LC</td>\n",
       "    </tr>\n",
       "    <tr>\n",
       "      <th>6</th>\n",
       "      <td>6</td>\n",
       "      <td>LRt</td>\n",
       "    </tr>\n",
       "    <tr>\n",
       "      <th>7</th>\n",
       "      <td>7</td>\n",
       "      <td>Pn</td>\n",
       "    </tr>\n",
       "    <tr>\n",
       "      <th>8</th>\n",
       "      <td>8</td>\n",
       "      <td>Tz</td>\n",
       "    </tr>\n",
       "    <tr>\n",
       "      <th>9</th>\n",
       "      <td>9</td>\n",
       "      <td>VLL</td>\n",
       "    </tr>\n",
       "    <tr>\n",
       "      <th>10</th>\n",
       "      <td>10</td>\n",
       "      <td>RMC</td>\n",
       "    </tr>\n",
       "    <tr>\n",
       "      <th>11</th>\n",
       "      <td>11</td>\n",
       "      <td>SNC</td>\n",
       "    </tr>\n",
       "    <tr>\n",
       "      <th>12</th>\n",
       "      <td>12</td>\n",
       "      <td>SNR</td>\n",
       "    </tr>\n",
       "    <tr>\n",
       "      <th>13</th>\n",
       "      <td>13</td>\n",
       "      <td>3N</td>\n",
       "    </tr>\n",
       "    <tr>\n",
       "      <th>14</th>\n",
       "      <td>14</td>\n",
       "      <td>4N</td>\n",
       "    </tr>\n",
       "    <tr>\n",
       "      <th>15</th>\n",
       "      <td>15</td>\n",
       "      <td>Sp5I</td>\n",
       "    </tr>\n",
       "    <tr>\n",
       "      <th>16</th>\n",
       "      <td>16</td>\n",
       "      <td>Sp5O</td>\n",
       "    </tr>\n",
       "    <tr>\n",
       "      <th>17</th>\n",
       "      <td>17</td>\n",
       "      <td>Sp5C</td>\n",
       "    </tr>\n",
       "    <tr>\n",
       "      <th>18</th>\n",
       "      <td>18</td>\n",
       "      <td>PBG</td>\n",
       "    </tr>\n",
       "    <tr>\n",
       "      <th>19</th>\n",
       "      <td>19</td>\n",
       "      <td>10N</td>\n",
       "    </tr>\n",
       "    <tr>\n",
       "      <th>20</th>\n",
       "      <td>20</td>\n",
       "      <td>VCA</td>\n",
       "    </tr>\n",
       "    <tr>\n",
       "      <th>21</th>\n",
       "      <td>21</td>\n",
       "      <td>VCP</td>\n",
       "    </tr>\n",
       "    <tr>\n",
       "      <th>22</th>\n",
       "      <td>22</td>\n",
       "      <td>DC</td>\n",
       "    </tr>\n",
       "    <tr>\n",
       "      <th>23</th>\n",
       "      <td>23</td>\n",
       "      <td>AP</td>\n",
       "    </tr>\n",
       "    <tr>\n",
       "      <th>24</th>\n",
       "      <td>24</td>\n",
       "      <td>12N</td>\n",
       "    </tr>\n",
       "    <tr>\n",
       "      <th>25</th>\n",
       "      <td>25</td>\n",
       "      <td>RtTg</td>\n",
       "    </tr>\n",
       "    <tr>\n",
       "      <th>26</th>\n",
       "      <td>26</td>\n",
       "      <td>SC</td>\n",
       "    </tr>\n",
       "    <tr>\n",
       "      <th>27</th>\n",
       "      <td>27</td>\n",
       "      <td>IC</td>\n",
       "    </tr>\n",
       "  </tbody>\n",
       "</table>\n",
       "</div>"
      ],
      "text/plain": [
       "    id structure\n",
       "0    0        5N\n",
       "1    1        6N\n",
       "2    2       7nn\n",
       "3    3        7N\n",
       "4    4       Amb\n",
       "5    5        LC\n",
       "6    6       LRt\n",
       "7    7        Pn\n",
       "8    8        Tz\n",
       "9    9       VLL\n",
       "10  10       RMC\n",
       "11  11       SNC\n",
       "12  12       SNR\n",
       "13  13        3N\n",
       "14  14        4N\n",
       "15  15      Sp5I\n",
       "16  16      Sp5O\n",
       "17  17      Sp5C\n",
       "18  18       PBG\n",
       "19  19       10N\n",
       "20  20       VCA\n",
       "21  21       VCP\n",
       "22  22        DC\n",
       "23  23        AP\n",
       "24  24       12N\n",
       "25  25      RtTg\n",
       "26  26        SC\n",
       "27  27        IC"
      ]
     },
     "execution_count": 31,
     "metadata": {},
     "output_type": "execute_result"
    }
   ],
   "source": [
    "structureTable = Structure.fetch(as_dict=True)\n",
    "strucDF = pd.DataFrame(structureTable)\n",
    "strucDF"
   ]
  },
  {
   "cell_type": "code",
   "execution_count": 15,
   "metadata": {},
   "outputs": [
    {
     "name": "stdout",
     "output_type": "stream",
     "text": [
      "`kui_diffusionmap`.`__process` (4 tuples)\n",
      "Proceed? [yes, No]: yes\n",
      "Tables dropped.  Restart kernel.\n"
     ]
    }
   ],
   "source": [
    "Process.drop()"
   ]
  },
  {
   "cell_type": "code",
   "execution_count": 32,
   "metadata": {},
   "outputs": [
    {
     "name": "stderr",
     "output_type": "stream",
     "text": [
      "./lib/utilities.py:27: YAMLLoadWarning: calling yaml.load() without Loader=... is deprecated, as the default Loader is unsafe. Please read https://msg.pyyaml.org/load for full details.\n",
      "  credFiles = yaml.load(open( credential_file_pointers,'r'))\n"
     ]
    }
   ],
   "source": [
    "@schema\n",
    "class Process(dj.Computed):\n",
    "    definition=\"\"\"\n",
    "    -> Structure\n",
    "    -----\n",
    "    image_number : int   #number of images\n",
    "    \"\"\"\n",
    "\n",
    "    bucket = \"mousebrainatlas-data\"\n",
    "    client = get_s3_client(credFiles)\n",
    "    def make(self, key):\n",
    "        struc = (Structure & key).fetch1('structure')\n",
    "        print('populating for ', struc, end='\\n')\n",
    "        key_item = 'image_number'\n",
    "        s3_fp = img_file+struc+'/'\n",
    "        upload_fp = 's3://'+self.bucket+s3_fp\n",
    "        pkl_out_file = os.environ['ROOT_DIR']+s3_fp\n",
    "        try:\n",
    "            objects = os.listdir(pkl_out_file)\n",
    "            key[key_item] = len(objects)\n",
    "        except:\n",
    "            ! python3 $scripts_dir/HSV.py $stack $struc $yaml_file\n",
    "            ! aws s3 cp --recursive $pkl_out_file $upload_fp\n",
    "            objects = os.listdir(pkl_out_file)\n",
    "            key[key_item] = len(objects)\n",
    "        self.insert1(key)\n"
   ]
  },
  {
   "cell_type": "code",
   "execution_count": 63,
   "metadata": {},
   "outputs": [
    {
     "name": "stdout",
     "output_type": "stream",
     "text": [
      "populating for  IC\n"
     ]
    }
   ],
   "source": [
    "Process.populate(reserve_jobs=True) "
   ]
  },
  {
   "cell_type": "code",
   "execution_count": 64,
   "metadata": {},
   "outputs": [
    {
     "data": {
      "text/plain": [
       "[OrderedDict([('id', 0), ('image_number', 44)]),\n",
       " OrderedDict([('id', 1), ('image_number', 5)]),\n",
       " OrderedDict([('id', 2), ('image_number', 125)]),\n",
       " OrderedDict([('id', 3), ('image_number', 89)]),\n",
       " OrderedDict([('id', 4), ('image_number', 13)]),\n",
       " OrderedDict([('id', 5), ('image_number', 24)]),\n",
       " OrderedDict([('id', 6), ('image_number', 76)]),\n",
       " OrderedDict([('id', 7), ('image_number', 100)]),\n",
       " OrderedDict([('id', 8), ('image_number', 50)]),\n",
       " OrderedDict([('id', 9), ('image_number', 69)]),\n",
       " OrderedDict([('id', 10), ('image_number', 57)]),\n",
       " OrderedDict([('id', 11), ('image_number', 80)]),\n",
       " OrderedDict([('id', 12), ('image_number', 126)]),\n",
       " OrderedDict([('id', 13), ('image_number', 24)]),\n",
       " OrderedDict([('id', 14), ('image_number', 11)]),\n",
       " OrderedDict([('id', 15), ('image_number', 73)]),\n",
       " OrderedDict([('id', 16), ('image_number', 67)]),\n",
       " OrderedDict([('id', 17), ('image_number', 141)]),\n",
       " OrderedDict([('id', 18), ('image_number', 24)]),\n",
       " OrderedDict([('id', 19), ('image_number', 45)]),\n",
       " OrderedDict([('id', 20), ('image_number', 65)]),\n",
       " OrderedDict([('id', 21), ('image_number', 49)]),\n",
       " OrderedDict([('id', 22), ('image_number', 107)]),\n",
       " OrderedDict([('id', 23), ('image_number', 15)]),\n",
       " OrderedDict([('id', 24), ('image_number', 39)]),\n",
       " OrderedDict([('id', 25), ('image_number', 15)]),\n",
       " OrderedDict([('id', 26), ('image_number', 181)]),\n",
       " OrderedDict([('id', 27), ('image_number', 191)])]"
      ]
     },
     "execution_count": 64,
     "metadata": {},
     "output_type": "execute_result"
    }
   ],
   "source": [
    "Process.fetch(as_dict=True)"
   ]
  },
  {
   "cell_type": "code",
   "execution_count": 61,
   "metadata": {},
   "outputs": [],
   "source": [
    "(schema.jobs & 'status=\"reserved\"' ).delete()"
   ]
  },
  {
   "cell_type": "code",
   "execution_count": 62,
   "metadata": {},
   "outputs": [
    {
     "data": {
      "text/html": [
       "\n",
       "        \n",
       "        <style type=\"text/css\">\n",
       "            .Relation{\n",
       "                border-collapse:collapse;\n",
       "            }\n",
       "            .Relation th{\n",
       "                background: #A0A0A0; color: #ffffff; padding:4px; border:#f0e0e0 1px solid;\n",
       "                font-weight: normal; font-family: monospace; font-size: 100%;\n",
       "            }\n",
       "            .Relation td{\n",
       "                padding:4px; border:#f0e0e0 1px solid; font-size:100%;\n",
       "            }\n",
       "            .Relation tr:nth-child(odd){\n",
       "                background: #ffffff;\n",
       "            }\n",
       "            .Relation tr:nth-child(even){\n",
       "                background: #f3f1ff;\n",
       "            }\n",
       "            /* Tooltip container */\n",
       "            .djtooltip {\n",
       "            }\n",
       "            /* Tooltip text */\n",
       "            .djtooltip .djtooltiptext {\n",
       "                visibility: hidden;\n",
       "                width: 120px;\n",
       "                background-color: black;\n",
       "                color: #fff;\n",
       "                text-align: center;\n",
       "                padding: 5px 0;\n",
       "                border-radius: 6px;\n",
       "                /* Position the tooltip text - see examples below! */\n",
       "                position: absolute;\n",
       "                z-index: 1;\n",
       "            }\n",
       "            #primary {\n",
       "                font-weight: bold;\n",
       "                color: black;\n",
       "            }\n",
       "\n",
       "            #nonprimary {\n",
       "                font-weight: normal;\n",
       "                color: white;\n",
       "            }\n",
       "\n",
       "            /* Show the tooltip text when you mouse over the tooltip container */\n",
       "            .djtooltip:hover .djtooltiptext {\n",
       "                visibility: visible;\n",
       "            }\n",
       "        </style>\n",
       "        \n",
       "        <b>job reservation table for `kui_diffusionmap`</b>\n",
       "            <div style=\"max-height:1000px;max-width:1500px;overflow:auto;\">\n",
       "            <table border=\"1\" class=\"Relation\">\n",
       "                <thead> <tr style=\"text-align: right;\"> <th> <div class=\"djtooltip\">\n",
       "                                <p id=\"primary\">table_name</p>\n",
       "                                <span class=\"djtooltiptext\">className of the table</span>\n",
       "                            </div></th><th><div class=\"djtooltip\">\n",
       "                                <p id=\"primary\">key_hash</p>\n",
       "                                <span class=\"djtooltiptext\">key hash</span>\n",
       "                            </div></th><th><div class=\"djtooltip\">\n",
       "                                <p id=\"nonprimary\">status</p>\n",
       "                                <span class=\"djtooltiptext\">if tuple is missing, the job is available</span>\n",
       "                            </div></th><th><div class=\"djtooltip\">\n",
       "                                <p id=\"nonprimary\">key</p>\n",
       "                                <span class=\"djtooltiptext\">structure containing the key</span>\n",
       "                            </div></th><th><div class=\"djtooltip\">\n",
       "                                <p id=\"nonprimary\">error_message</p>\n",
       "                                <span class=\"djtooltiptext\">error message returned if failed</span>\n",
       "                            </div></th><th><div class=\"djtooltip\">\n",
       "                                <p id=\"nonprimary\">error_stack</p>\n",
       "                                <span class=\"djtooltiptext\">error stack if failed</span>\n",
       "                            </div></th><th><div class=\"djtooltip\">\n",
       "                                <p id=\"nonprimary\">user</p>\n",
       "                                <span class=\"djtooltiptext\">database user</span>\n",
       "                            </div></th><th><div class=\"djtooltip\">\n",
       "                                <p id=\"nonprimary\">host</p>\n",
       "                                <span class=\"djtooltiptext\">system hostname</span>\n",
       "                            </div></th><th><div class=\"djtooltip\">\n",
       "                                <p id=\"nonprimary\">pid</p>\n",
       "                                <span class=\"djtooltiptext\">system process id</span>\n",
       "                            </div></th><th><div class=\"djtooltip\">\n",
       "                                <p id=\"nonprimary\">connection_id</p>\n",
       "                                <span class=\"djtooltiptext\">connection_id()</span>\n",
       "                            </div></th><th><div class=\"djtooltip\">\n",
       "                                <p id=\"nonprimary\">timestamp</p>\n",
       "                                <span class=\"djtooltiptext\">automatic timestamp</span>\n",
       "                            </div> </th> </tr> </thead>\n",
       "                <tbody> <tr>  </tr> </tbody>\n",
       "            </table>\n",
       "            \n",
       "            <p>Total: 0</p></div>\n",
       "            "
      ],
      "text/plain": [
       "*table_name    *key_hash    status     key        error_message  error_stac user     host     pid     connection_id  timestamp    \n",
       "+------------+ +----------+ +--------+ +--------+ +------------+ +--------+ +------+ +------+ +-----+ +------------+ +-----------+\n",
       "\n",
       " (Total: 0)"
      ]
     },
     "execution_count": 62,
     "metadata": {},
     "output_type": "execute_result"
    }
   ],
   "source": [
    "schema.jobs"
   ]
  },
  {
   "cell_type": "code",
   "execution_count": null,
   "metadata": {},
   "outputs": [],
   "source": []
  }
 ],
 "metadata": {
  "kernelspec": {
   "display_name": "shapeology",
   "language": "python",
   "name": "shapeology_code"
  },
  "language_info": {
   "codemirror_mode": {
    "name": "ipython",
    "version": 3
   },
   "file_extension": ".py",
   "mimetype": "text/x-python",
   "name": "python",
   "nbconvert_exporter": "python",
   "pygments_lexer": "ipython3",
   "version": "3.7.3"
  }
 },
 "nbformat": 4,
 "nbformat_minor": 2
}
