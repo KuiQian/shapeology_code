{
 "cells": [
  {
   "cell_type": "code",
   "execution_count": 1,
   "metadata": {},
   "outputs": [
    {
     "name": "stdout",
     "output_type": "stream",
     "text": [
      "/Users/kuiqian/Github/MouseBrainAtlas_dev/shapeology/scripts/lib/utils.py:22: YAMLLoadWarning: calling yaml.load() without Loader=... is deprecated, as the default Loader is unsafe. Please read https://msg.pyyaml.org/load for full details.\n",
      "  self.D=yaml.load(open(yamlFile,'r'))\n",
      "/Users/kuiqian/BstemAtlasDataBackup/ucsd_brain/CSHL_cells_dm/MD589/\n",
      "5N ALREADY EXIST\n",
      "5N ALREADY EXIST\n",
      "5Nfinished in   0.0 seconds\n",
      "6N ALREADY EXIST\n",
      "6N ALREADY EXIST\n",
      "6Nfinished in   0.0 seconds\n",
      "/Users/kuiqian/Github/MouseBrainAtlas_dev/shapeology/shapeology_venv/lib/python3.7/site-packages/sklearn/base.py:253: UserWarning: Trying to unpickle estimator NearestNeighbors from version 0.20.0 when using version 0.20.3. This might lead to breaking code or invalid results. Use at your own risk.\n",
      "  UserWarning)\n",
      "/Users/kuiqian/Github/MouseBrainAtlas_dev/shapeology/shapeology_venv/lib/python3.7/site-packages/sklearn/base.py:253: UserWarning: Trying to unpickle estimator NearestNeighbors from version 0.20.0 when using version 0.20.3. This might lead to breaking code or invalid results. Use at your own risk.\n",
      "  UserWarning)\n",
      "/Users/kuiqian/Github/MouseBrainAtlas_dev/shapeology/shapeology_venv/lib/python3.7/site-packages/sklearn/base.py:253: UserWarning: Trying to unpickle estimator NearestNeighbors from version 0.20.0 when using version 0.20.3. This might lead to breaking code or invalid results. Use at your own risk.\n",
      "  UserWarning)\n",
      "/Users/kuiqian/Github/MouseBrainAtlas_dev/shapeology/shapeology_venv/lib/python3.7/site-packages/sklearn/base.py:253: UserWarning: Trying to unpickle estimator NearestNeighbors from version 0.20.0 when using version 0.20.3. This might lead to breaking code or invalid results. Use at your own risk.\n",
      "  UserWarning)\n",
      "/Users/kuiqian/Github/MouseBrainAtlas_dev/shapeology/shapeology_venv/lib/python3.7/site-packages/sklearn/base.py:253: UserWarning: Trying to unpickle estimator NearestNeighbors from version 0.20.0 when using version 0.20.3. This might lead to breaking code or invalid results. Use at your own risk.\n",
      "  UserWarning)\n",
      "/Users/kuiqian/Github/MouseBrainAtlas_dev/shapeology/shapeology_venv/lib/python3.7/site-packages/sklearn/base.py:253: UserWarning: Trying to unpickle estimator NearestNeighbors from version 0.20.0 when using version 0.20.3. This might lead to breaking code or invalid results. Use at your own risk.\n",
      "  UserWarning)\n",
      "^C\n",
      "Traceback (most recent call last):\n",
      "  File \"Cell_generator.py\", line 62, in <module>\n",
      "    extractor=patch_extractor(patches[i],params)\n",
      "  File \"/Users/kuiqian/Github/MouseBrainAtlas_dev/shapeology/scripts/extractPatches.py\", line 28, in __init__\n",
      "    self.DM = diffusionMap(params['paths']['DiffusionMap'])\n",
      "  File \"/Users/kuiqian/Github/MouseBrainAtlas_dev/shapeology/scripts/label_patch.py\", line 22, in __init__\n",
      "    self.DM.fit(data)\n",
      "  File \"/Users/kuiqian/Github/MouseBrainAtlas_dev/shapeology/shapeology_venv/lib/python3.7/site-packages/pydiffmap/diffusion_map.py\", line 216, in fit\n",
      "    self.construct_Lmat(X)\n",
      "  File \"/Users/kuiqian/Github/MouseBrainAtlas_dev/shapeology/shapeology_venv/lib/python3.7/site-packages/pydiffmap/diffusion_map.py\", line 175, in construct_Lmat\n",
      "    kernel_matrix, my_kernel = self._build_kernel(X, self.local_kernel)\n",
      "  File \"/Users/kuiqian/Github/MouseBrainAtlas_dev/shapeology/shapeology_venv/lib/python3.7/site-packages/pydiffmap/diffusion_map.py\", line 106, in _build_kernel\n",
      "    my_kernel.fit(X)\n",
      "  File \"/Users/kuiqian/Github/MouseBrainAtlas_dev/shapeology/shapeology_venv/lib/python3.7/site-packages/pydiffmap/kernel.py\", line 126, in fit\n",
      "    self.scaled_dists = self._get_scaled_distance_mat(self.data, self.bandwidths)\n",
      "  File \"/Users/kuiqian/Github/MouseBrainAtlas_dev/shapeology/shapeology_venv/lib/python3.7/site-packages/pydiffmap/kernel.py\", line 168, in _get_scaled_distance_mat\n",
      "    dists = self.neigh.kneighbors_graph(Y, mode='distance')\n",
      "  File \"/Users/kuiqian/Github/MouseBrainAtlas_dev/shapeology/shapeology_venv/lib/python3.7/site-packages/sklearn/neighbors/base.py\", line 560, in kneighbors_graph\n",
      "    X, n_neighbors, return_distance=True)\n",
      "  File \"/Users/kuiqian/Github/MouseBrainAtlas_dev/shapeology/shapeology_venv/lib/python3.7/site-packages/sklearn/neighbors/base.py\", line 455, in kneighbors\n",
      "    for s in gen_even_slices(X.shape[0], n_jobs)\n",
      "  File \"/Users/kuiqian/Github/MouseBrainAtlas_dev/shapeology/shapeology_venv/lib/python3.7/site-packages/sklearn/externals/joblib/parallel.py\", line 930, in __call__\n",
      "    self.retrieve()\n",
      "  File \"/Users/kuiqian/Github/MouseBrainAtlas_dev/shapeology/shapeology_venv/lib/python3.7/site-packages/sklearn/externals/joblib/parallel.py\", line 833, in retrieve\n",
      "    self._output.extend(job.get(timeout=self.timeout))\n",
      "  File \"/usr/local/Cellar/python/3.7.3/Frameworks/Python.framework/Versions/3.7/lib/python3.7/multiprocessing/pool.py\", line 651, in get\n",
      "    self.wait(timeout)\n",
      "  File \"/usr/local/Cellar/python/3.7.3/Frameworks/Python.framework/Versions/3.7/lib/python3.7/multiprocessing/pool.py\", line 648, in wait\n",
      "    self._event.wait(timeout)\n",
      "  File \"/usr/local/Cellar/python/3.7.3/Frameworks/Python.framework/Versions/3.7/lib/python3.7/threading.py\", line 552, in wait\n",
      "    signaled = self._cond.wait(timeout)\n",
      "  File \"/usr/local/Cellar/python/3.7.3/Frameworks/Python.framework/Versions/3.7/lib/python3.7/threading.py\", line 296, in wait\n",
      "    waiter.acquire()\n",
      "KeyboardInterrupt\n"
     ]
    }
   ],
   "source": [
    "! python Cell_generator.py MD589 'shape_params.yaml'"
   ]
  },
  {
   "cell_type": "code",
   "execution_count": null,
   "metadata": {},
   "outputs": [],
   "source": []
  }
 ],
 "metadata": {
  "kernelspec": {
   "display_name": "shapeology",
   "language": "python",
   "name": "shapeology_venv"
  },
  "language_info": {
   "codemirror_mode": {
    "name": "ipython",
    "version": 3
   },
   "file_extension": ".py",
   "mimetype": "text/x-python",
   "name": "python",
   "nbconvert_exporter": "python",
   "pygments_lexer": "ipython3",
   "version": "3.7.3"
  }
 },
 "nbformat": 4,
 "nbformat_minor": 2
}
