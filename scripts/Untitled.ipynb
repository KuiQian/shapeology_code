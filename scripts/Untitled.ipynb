{
 "cells": [
  {
   "cell_type": "code",
   "execution_count": 1,
   "metadata": {},
   "outputs": [
    {
     "name": "stdout",
     "output_type": "stream",
     "text": [
      "/Users/kuiqian/Github/venv/shapeology_venv/lib/python3.7/site-packages/sklearn/externals/joblib/externals/cloudpickle/cloudpickle.py:47: DeprecationWarning: the imp module is deprecated in favour of importlib; see the module's documentation for alternative uses\n",
      "  import imp\n",
      "/Users/kuiqian/Github/shapeology_code/scripts/lib/utils.py:22: YAMLLoadWarning: calling yaml.load() without Loader=... is deprecated, as the default Loader is unsafe. Please read https://msg.pyyaml.org/load for full details.\n",
      "  self.D=yaml.load(open(yamlFile,'r'))\n",
      "/Users/kuiqian/BstemAtlasDataBackup/ucsd_brain/CSHL_cells_dm/MD589/\n",
      "1012\n",
      "2016\n",
      "29\n",
      "1001\n",
      "1024\n",
      "2010\n",
      "3004\n",
      "4006\n",
      "5004\n",
      "6023\n",
      "7017\n",
      "8014\n",
      "9009\n",
      "10015\n",
      "11027\n",
      "12021\n",
      "13023\n",
      "14007\n",
      "14029\n",
      "15016\n",
      "16005\n",
      "17026\n",
      "19017\n",
      "20023\n",
      "21007\n",
      "22004\n",
      "23028\n",
      "24009\n",
      "24030\n",
      "25009\n",
      "26012\n",
      "27008\n",
      "28010\n",
      "29011\n",
      "31023\n",
      "32003\n",
      "33018\n",
      "34028\n",
      "35010\n",
      "37024\n",
      "38018\n",
      "39008\n",
      "40005\n",
      "41028\n",
      "42021\n",
      "43016\n",
      "6Nfinished in 231.1 seconds\n",
      "Finished in 231.1 seconds\n"
     ]
    }
   ],
   "source": [
    "! python Cell_generator.py MD589 '6N' 'shape_params.yaml'"
   ]
  },
  {
   "cell_type": "code",
   "execution_count": null,
   "metadata": {},
   "outputs": [],
   "source": []
  }
 ],
 "metadata": {
  "kernelspec": {
   "display_name": "shapeology",
   "language": "python",
   "name": "shapeology_code"
  },
  "language_info": {
   "codemirror_mode": {
    "name": "ipython",
    "version": 3
   },
   "file_extension": ".py",
   "mimetype": "text/x-python",
   "name": "python",
   "nbconvert_exporter": "python",
   "pygments_lexer": "ipython3",
   "version": "3.7.3"
  }
 },
 "nbformat": 4,
 "nbformat_minor": 2
}
